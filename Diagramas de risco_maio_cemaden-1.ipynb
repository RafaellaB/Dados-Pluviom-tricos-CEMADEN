{
 "cells": [
  {
   "cell_type": "markdown",
   "id": "55ef617e",
   "metadata": {},
   "source": [
    "# Análise de Risco: Maio/2025 - CEMADEN\n",
    "\n",
    "Este notebook executa um pipeline completo para:\n",
    "1.  Coletar e processar dados de chuva e maré.\n",
    "2.  Calcular métricas de risco (`VP`, `AM`, `Nivel_Risco_Valor`).\n",
    "3.  Classificar cada evento em zonas de risco (Baixo, Moderado, Moderado Alto, Alto).\n",
    "4.  Gerar um relatório em texto com os pontos em cada zona.\n",
    "5.  Gerar diagramas de risco interativos com Plotly para cada estação."
   ]
  },
  {
   "cell_type": "code",
   "execution_count": 1,
   "id": "27a408a5",
   "metadata": {},
   "outputs": [],
   "source": [
    "import pandas as pd\n",
    "import numpy as np\n",
    "from urllib.parse import quote\n",
    "import os\n",
    "import plotly.graph_objects as go"
   ]
  },
  {
   "cell_type": "markdown",
   "id": "7401843e",
   "metadata": {},
   "source": [
    "Parâmetros de Entrada e Configurações:"
   ]
  },
  {
   "cell_type": "code",
   "execution_count": null,
   "id": "2d5c955e",
   "metadata": {},
   "outputs": [
    {
     "name": "stdout",
     "output_type": "stream",
     "text": [
      "Datas que serão analisadas:\n",
      "['2025-05-14', '2025-05-15', '2025-05-16', '2025-05-17', '2025-05-18', '2025-05-19', '2025-05-20', '2025-05-21']\n"
     ]
    }
   ],
   "source": [
    "# Nomes dos arquivos no repositório do GitHub\n",
    "ARQUIVO_CHUVA_GITHUB = 'Maio 2025_Cemaden_Dados Pluviométricos.csv'\n",
    "ARQUIVO_MARE_GITHUB = 'mare_recife_MAIO.csv'\n",
    "\n",
    "# Lista de estações do CEMADEN a serem analisadas\n",
    "ESTACOES_DESEJADAS = [\"Campina do Barreto\", \"Torreão\", \"RECIFE - APAC\", \"Imbiribeira\"]\n",
    "\n",
    "\n",
    "# Gera a lista de datas automaticamente do dia 14 ao 21 de Maio de 2025\n",
    "datas_iniciais = pd.to_datetime('2025-05-14')\n",
    "datas_finais = pd.to_datetime('2025-05-21')\n",
    "DATAS_DESEJADAS = pd.date_range(start=datas_iniciais, end=datas_finais).strftime('%Y-%m-%d').tolist()\n",
    "# --- FIM DA ALTERAÇÃO ---\n",
    "\n",
    "# Nome da pasta onde os gráficos interativos serão salvos\n",
    "PASTA_SAIDA_INTERATIVA = 'diagramas_interativos'\n",
    "\n",
    "\n",
    "# Para confirmar, vamos imprimir as datas que serão analisadas:\n",
    "print(\"Datas que serão analisadas:\")\n",
    "print(DATAS_DESEJADAS)"
   ]
  },
  {
   "cell_type": "markdown",
   "id": "e4fd087e",
   "metadata": {},
   "source": [
    "Função - Carregar e Processar Dados"
   ]
  },
  {
   "cell_type": "code",
   "execution_count": 3,
   "id": "f2dcb990",
   "metadata": {},
   "outputs": [],
   "source": [
    "def carregar_e_processar_dados(datas_desejadas, estacoes_desejadas, arquivo_chuva, arquivo_mare):\n",
    "    \"\"\"\n",
    "    Função única para carregar todos os dados (chuva e maré), processá-los\n",
    "    e retornar o DataFrame final combinado.\n",
    "    \"\"\"\n",
    "    try:\n",
    "        # --- PROCESSAMENTO DA CHUVA ---\n",
    "        print(\"--- Etapa 1: Processando dados de CHUVA (da internet) ---\")\n",
    "        url_chuva = f'https://raw.githubusercontent.com/RafaellaB/Dados-Pluviom-tricos-CEMADEN/main/{quote(arquivo_chuva)}'\n",
    "        df_chuva = pd.read_csv(url_chuva, sep=';', encoding='utf-8')\n",
    "        df_chuva['datahora'] = pd.to_datetime(df_chuva['datahora'], errors='coerce')\n",
    "        df_chuva.dropna(subset=['datahora'], inplace=True)\n",
    "        df_chuva['valorMedida'] = df_chuva['valorMedida'].astype(str).str.replace(',', '.', regex=False).astype(float)\n",
    "        \n",
    "        df_filtrado = df_chuva[df_chuva['nomeEstacao'].isin(estacoes_desejadas)].copy()\n",
    "        df_filtrado['data'] = df_filtrado['datahora'].dt.date.astype(str)\n",
    "        df_filtrado = df_filtrado[df_filtrado['data'].isin(datas_desejadas)]\n",
    "        \n",
    "        resultados_2h = []\n",
    "        df_filtrado.loc[:, 'hora_numerica'] = df_filtrado['datahora'].dt.hour\n",
    "        for hora in [2, 8, 14, 20]:\n",
    "            df_janela = df_filtrado[(df_filtrado['hora_numerica'] >= hora - 1) & (df_filtrado['hora_numerica'] < hora + 1)].copy()\n",
    "            df_janela['janela'] = f\"{hora:02d}:00:00\"\n",
    "            agrupado = df_janela.groupby(['nomeEstacao', 'data', 'janela'])['valorMedida'].sum().reset_index()\n",
    "            resultados_2h.append(agrupado)\n",
    "        df_v2horas = pd.concat(resultados_2h).rename(columns={'valorMedida': 'chuva_2h', 'janela': 'hora_ref'})\n",
    "\n",
    "        resultados_15min = []\n",
    "        for data_str in datas_desejadas:\n",
    "            for hora_str in ['02:00:00', '08:00:00', '14:00:00', '20:00:00']:\n",
    "                alvo = pd.to_datetime(f'{data_str} {hora_str}')\n",
    "                inicio_intervalo = alvo - pd.Timedelta(minutes=15)\n",
    "                df_intervalo = df_filtrado[(df_filtrado['datahora'] >= inicio_intervalo) & (df_filtrado['datahora'] < alvo)]\n",
    "                soma = df_intervalo.groupby('nomeEstacao')['valorMedida'].sum().reset_index()\n",
    "                soma['data'] = data_str\n",
    "                soma['hora_alvo'] = hora_str\n",
    "                resultados_15min.append(soma)\n",
    "        df_v15min = pd.concat(resultados_15min).rename(columns={'valorMedida': 'chuva_15min', 'hora_alvo': 'hora_ref'})\n",
    "\n",
    "        df_vp = pd.merge(df_v15min, df_v2horas, on=['data', 'hora_ref', 'nomeEstacao'], how='outer')\n",
    "        df_vp[['chuva_15min', 'chuva_2h']] = df_vp[['chuva_15min', 'chuva_2h']].fillna(0)\n",
    "        df_vp['VP'] = (df_vp['chuva_15min'] / 0.25) + df_vp['chuva_2h']\n",
    "        print(\"Dados de chuva processados.\")\n",
    "\n",
    "        # --- PROCESSAMENTO DA MARÉ ---\n",
    "        print(\"\\n--- Etapa 2: Processando dados da MARÉ (da internet) ---\")\n",
    "        url_mare = f'https://raw.githubusercontent.com/RafaellaB/Dados-Pluviom-tricos-CEMADEN/main/{quote(arquivo_mare)}'\n",
    "        dados_mare = pd.read_csv(url_mare, sep=';', encoding='latin1')\n",
    "        dados_mare['data'] = pd.to_datetime(dados_mare['data'], format='%d/%m/%Y').dt.strftime('%Y-%m-%d')\n",
    "        \n",
    "        dados_filtrados_mare = dados_mare[dados_mare['data'].isin(datas_desejadas)]\n",
    "        \n",
    "        resultados_am = []\n",
    "        for data, grupo in dados_filtrados_mare.groupby('data'):\n",
    "            alturas = grupo['altura'].tolist()\n",
    "            if len(alturas) >= 2:\n",
    "                primeira, segunda = alturas[0], alturas[1]\n",
    "                I1 = max(primeira, segunda)\n",
    "                I2 = min(primeira, segunda)\n",
    "                AM = round(((I1 - I2) / 6) + I1, 2)\n",
    "                resultados_am.append({'data': data, 'AM': AM})\n",
    "        df_am = pd.DataFrame(resultados_am)\n",
    "        print(\"Dados da maré processados.\")\n",
    "\n",
    "        # --- JUNÇÃO FINAL ---\n",
    "        print(\"\\n--- Etapa 3: Unindo dados de chuva e maré ---\")\n",
    "        df_final = pd.merge(df_vp, df_am, on='data', how='left')\n",
    "        df_final.sort_values(by=['data', 'nomeEstacao', 'hora_ref'], inplace=True, ignore_index=True)\n",
    "        print(\"DataFrames unidos com sucesso.\")\n",
    "        \n",
    "        return df_final\n",
    "    \n",
    "    except Exception as e:\n",
    "        print(f\"\\nOcorreu um erro durante o carregamento de dados: {e}\")\n",
    "        return None"
   ]
  },
  {
   "cell_type": "markdown",
   "id": "8950ff6c",
   "metadata": {},
   "source": [
    "Função - Analisa Risco e Gera Relatório"
   ]
  },
  {
   "cell_type": "code",
   "execution_count": 4,
   "id": "0e70f0a3",
   "metadata": {},
   "outputs": [],
   "source": [
    "def analisar_e_relatar_risco(df_final):\n",
    "    \"\"\"\n",
    "    Calcula o nível de risco, classifica e imprime um relatório no console\n",
    "    de acordo com as definições do TCC de Igor.\n",
    "    \"\"\"\n",
    "    if df_final is None or df_final.empty:\n",
    "        return None\n",
    "\n",
    "    print(\"\\n--- Etapa 4: Análise e Classificação de Risco por Ponto ---\")\n",
    "\n",
    "    df_analise = df_final.copy()\n",
    "    df_analise['VP'] = df_analise['VP'].round(2)\n",
    "    df_analise['AM'] = df_analise['AM'].round(2)\n",
    "    df_analise['Nivel_Risco_Valor'] = (df_analise['VP'] * df_analise['AM']).fillna(0).round(2)\n",
    "    \n",
    "    bins = [-np.inf, 30, 50, 100, np.inf]\n",
    "    labels = ['Baixo', 'Moderado', 'Moderado Alto', 'Alto']\n",
    "    \n",
    "    df_analise['Classificacao_Risco'] = pd.cut(df_analise['Nivel_Risco_Valor'], bins=bins, labels=labels, right=False)\n",
    "    \n",
    "    print(\"\\n--- RELATÓRIO DE PONTOS POR ZONA DE RISCO (TCC) ---\")\n",
    "    for zona in ['Alto', 'Moderado Alto', 'Moderado', 'Baixo']:\n",
    "        pontos_na_zona = df_analise[df_analise['Classificacao_Risco'] == zona]\n",
    "        print(f\"\\n>> Pontos na Zona de Risco '{zona}': {len(pontos_na_zona)} ponto(s)\")\n",
    "        \n",
    "        if not pontos_na_zona.empty:\n",
    "            # A função display é mais elegante que print para tabelas no Jupyter/Colab\n",
    "            display(pontos_na_zona[['data', 'hora_ref', 'nomeEstacao', 'Nivel_Risco_Valor']])\n",
    "        else:\n",
    "            print(\"   Nenhum ponto encontrado nesta zona.\")\n",
    "            \n",
    "    return df_analise"
   ]
  },
  {
   "cell_type": "markdown",
   "id": "ead2b5e6",
   "metadata": {},
   "source": [
    "Função - Gerar Diagramas Interativos"
   ]
  },
  {
   "cell_type": "code",
   "execution_count": 5,
   "id": "bbd60fff",
   "metadata": {},
   "outputs": [],
   "source": [
    "# ==============================================================================\n",
    "# FUNÇÃO 3: GERAR OS DIAGRAMAS \n",
    "# ==============================================================================\n",
    "def gerar_diagramas_interativos_plotly(df_analisado, pasta_saida):\n",
    "    \"\"\"\n",
    "    Pega o DataFrame analisado e gera diagramas de risco interativos com o Plotly\n",
    "    \"\"\"\n",
    "    if df_analisado is None or df_analisado.empty:\n",
    "        return\n",
    "\n",
    "    os.makedirs(pasta_saida, exist_ok=True)\n",
    "    print(f\"\\n--- Etapa 5: Gerando diagramas interativos e salvando na pasta '{pasta_saida}' ---\")\n",
    "    \n",
    "    mapa_de_cores = {'Alto': '#D32F2F', 'Moderado Alto': '#FFA500', 'Moderado': '#FFC107', 'Baixo': '#4CAF50'}\n",
    "    definicoes_risco = {\n",
    "        'Baixo': 'RA < 30',\n",
    "        'Moderado': '30 ≤ RA < 50',\n",
    "        'Moderado Alto': '50 ≤ RA < 100',\n",
    "        'Alto': 'RA ≥ 100'\n",
    "    }\n",
    "\n",
    "    for estacao, grupo in df_analisado.groupby('nomeEstacao'):\n",
    "        if grupo.empty:\n",
    "            continue\n",
    "        \n",
    "        fig = go.Figure()\n",
    "\n",
    "        lim_x = max(110, grupo['VP'].max() * 1.2) if not grupo.empty else 110\n",
    "        lim_y = 5\n",
    "        \n",
    "        x_grid = np.arange(0, lim_x, 1)\n",
    "        y_grid = np.linspace(0, lim_y, 100)\n",
    "        z_grid = np.array([x * y for y in y_grid for x in x_grid]).reshape(len(y_grid), len(x_grid))\n",
    "\n",
    "        colorscale = [[0, \"#90EE90\"], [30/100, \"#FFD700\"], [50/100, \"#FFA500\"], [1.0, \"#D32F2F\"]]\n",
    "        \n",
    "        fig.add_trace(go.Heatmap(x=x_grid, y=y_grid, z=z_grid, colorscale=colorscale, showscale=False, zmin=0, zmax=100))\n",
    "\n",
    "        fig.add_trace(go.Scatter(x=grupo['VP'], y=grupo['AM'], mode='lines', line=dict(color='black', width=1, dash='dash'), showlegend=False, hoverinfo='none'))\n",
    "\n",
    "        # Plota os pontos de dados reais SEM adicioná-los à legenda\n",
    "        for _, ponto in grupo.iterrows():\n",
    "            cor = mapa_de_cores.get(ponto['Classificacao_Risco'], 'black')\n",
    "            fig.add_trace(go.Scatter(\n",
    "                x=[ponto['VP']], y=[ponto['AM']], mode='markers',\n",
    "                marker=dict(color=cor, size=12, line=dict(width=1, color='black')),\n",
    "                hoverinfo='text',\n",
    "                hovertext=f\"<b>Estação:</b> {ponto['nomeEstacao']}<br>\" +\n",
    "                          f\"<b>Data:</b> {ponto['data']}<br>\" +\n",
    "                          f\"<b>Hora:</b> {ponto['hora_ref']}<br>\" +\n",
    "                          f\"<b>Risco:</b> {ponto['Classificacao_Risco']} ({ponto['Nivel_Risco_Valor']})<br>\" +\n",
    "                          f\"<b>VP:</b> {ponto['VP']}<br>\" +\n",
    "                          f\"<b>AM:</b> {ponto['AM']}\",\n",
    "                showlegend=False # Importante: não mostra os pontos de dados na legenda\n",
    "            ))\n",
    "\n",
    "        \n",
    "        \n",
    "        # Adiciona \"pontos fantasma\" (fora da área visível) apenas para criar a legenda\n",
    "        for risco, definicao in definicoes_risco.items():\n",
    "            fig.add_trace(go.Scatter(\n",
    "                x=[None], y=[None], # Não plota nenhum ponto\n",
    "                mode='markers',\n",
    "                marker=dict(color=mapa_de_cores[risco], size=10, symbol='square'),\n",
    "                name=f\"{risco}: {definicao}\" # Este texto aparecerá na legenda\n",
    "            ))\n",
    "            \n",
    "        # --- FIM DA MUDANÇA ---\n",
    "        \n",
    "        fig.update_layout(\n",
    "            title=f'<b>Diagrama de Risco Interativo para a Estação: {estacao}</b>',\n",
    "            xaxis_title='Precipitação (milímetros)',\n",
    "            yaxis_title='Altura da Maré metros)',\n",
    "            xaxis=dict(range=[0, lim_x]),\n",
    "            yaxis=dict(range=[0, lim_y]),\n",
    "            showlegend=True, # Liga a legenda\n",
    "            legend_title_text='<b>Níveis de Risco</b>'\n",
    "        )\n",
    "        \n",
    "        fig.show()\n",
    "\n",
    "        nome_arquivo_seguro = estacao.replace(\" \", \"_\").replace(\"-\", \"\")\n",
    "        save_filename = os.path.join(pasta_saida, f'diagrama_interativo_{nome_arquivo_seguro}.html')\n",
    "        fig.write_html(save_filename)\n",
    "        print(f\"  -> Diagrama interativo para '{estacao}' salvo em: {save_filename}\")"
   ]
  },
  {
   "cell_type": "markdown",
   "id": "c60f44a6",
   "metadata": {},
   "source": [
    "Bloco de Execução Principal"
   ]
  },
  {
   "cell_type": "code",
   "execution_count": 6,
   "id": "843b4089",
   "metadata": {},
   "outputs": [
    {
     "name": "stdout",
     "output_type": "stream",
     "text": [
      "--- Etapa 1: Processando dados de CHUVA (da internet) ---\n",
      "Dados de chuva processados.\n",
      "\n",
      "--- Etapa 2: Processando dados da MARÉ (da internet) ---\n",
      "Dados da maré processados.\n",
      "\n",
      "--- Etapa 3: Unindo dados de chuva e maré ---\n",
      "DataFrames unidos com sucesso.\n",
      "\n",
      "--- Etapa 4: Análise e Classificação de Risco por Ponto ---\n",
      "\n",
      "--- RELATÓRIO DE PONTOS POR ZONA DE RISCO (TCC) ---\n",
      "\n",
      ">> Pontos na Zona de Risco 'Alto': 0 ponto(s)\n",
      "   Nenhum ponto encontrado nesta zona.\n",
      "\n",
      ">> Pontos na Zona de Risco 'Moderado Alto': 9 ponto(s)\n"
     ]
    },
    {
     "data": {
      "text/html": [
       "<div>\n",
       "<style scoped>\n",
       "    .dataframe tbody tr th:only-of-type {\n",
       "        vertical-align: middle;\n",
       "    }\n",
       "\n",
       "    .dataframe tbody tr th {\n",
       "        vertical-align: top;\n",
       "    }\n",
       "\n",
       "    .dataframe thead th {\n",
       "        text-align: right;\n",
       "    }\n",
       "</style>\n",
       "<table border=\"1\" class=\"dataframe\">\n",
       "  <thead>\n",
       "    <tr style=\"text-align: right;\">\n",
       "      <th></th>\n",
       "      <th>data</th>\n",
       "      <th>hora_ref</th>\n",
       "      <th>nomeEstacao</th>\n",
       "      <th>Nivel_Risco_Valor</th>\n",
       "    </tr>\n",
       "  </thead>\n",
       "  <tbody>\n",
       "    <tr>\n",
       "      <th>17</th>\n",
       "      <td>2025-05-15</td>\n",
       "      <td>08:00:00</td>\n",
       "      <td>Campina do Barreto</td>\n",
       "      <td>57.07</td>\n",
       "    </tr>\n",
       "    <tr>\n",
       "      <th>20</th>\n",
       "      <td>2025-05-15</td>\n",
       "      <td>02:00:00</td>\n",
       "      <td>Imbiribeira</td>\n",
       "      <td>54.53</td>\n",
       "    </tr>\n",
       "    <tr>\n",
       "      <th>25</th>\n",
       "      <td>2025-05-15</td>\n",
       "      <td>08:00:00</td>\n",
       "      <td>RECIFE - APAC</td>\n",
       "      <td>53.68</td>\n",
       "    </tr>\n",
       "    <tr>\n",
       "      <th>29</th>\n",
       "      <td>2025-05-15</td>\n",
       "      <td>08:00:00</td>\n",
       "      <td>Torreão</td>\n",
       "      <td>64.76</td>\n",
       "    </tr>\n",
       "    <tr>\n",
       "      <th>34</th>\n",
       "      <td>2025-05-16</td>\n",
       "      <td>14:00:00</td>\n",
       "      <td>Campina do Barreto</td>\n",
       "      <td>55.15</td>\n",
       "    </tr>\n",
       "    <tr>\n",
       "      <th>42</th>\n",
       "      <td>2025-05-16</td>\n",
       "      <td>14:00:00</td>\n",
       "      <td>RECIFE - APAC</td>\n",
       "      <td>69.52</td>\n",
       "    </tr>\n",
       "    <tr>\n",
       "      <th>46</th>\n",
       "      <td>2025-05-16</td>\n",
       "      <td>14:00:00</td>\n",
       "      <td>Torreão</td>\n",
       "      <td>77.31</td>\n",
       "    </tr>\n",
       "    <tr>\n",
       "      <th>121</th>\n",
       "      <td>2025-05-21</td>\n",
       "      <td>08:00:00</td>\n",
       "      <td>RECIFE - APAC</td>\n",
       "      <td>56.38</td>\n",
       "    </tr>\n",
       "    <tr>\n",
       "      <th>125</th>\n",
       "      <td>2025-05-21</td>\n",
       "      <td>08:00:00</td>\n",
       "      <td>Torreão</td>\n",
       "      <td>52.06</td>\n",
       "    </tr>\n",
       "  </tbody>\n",
       "</table>\n",
       "</div>"
      ],
      "text/plain": [
       "           data  hora_ref         nomeEstacao  Nivel_Risco_Valor\n",
       "17   2025-05-15  08:00:00  Campina do Barreto              57.07\n",
       "20   2025-05-15  02:00:00         Imbiribeira              54.53\n",
       "25   2025-05-15  08:00:00       RECIFE - APAC              53.68\n",
       "29   2025-05-15  08:00:00             Torreão              64.76\n",
       "34   2025-05-16  14:00:00  Campina do Barreto              55.15\n",
       "42   2025-05-16  14:00:00       RECIFE - APAC              69.52\n",
       "46   2025-05-16  14:00:00             Torreão              77.31\n",
       "121  2025-05-21  08:00:00       RECIFE - APAC              56.38\n",
       "125  2025-05-21  08:00:00             Torreão              52.06"
      ]
     },
     "metadata": {},
     "output_type": "display_data"
    },
    {
     "name": "stdout",
     "output_type": "stream",
     "text": [
      "\n",
      ">> Pontos na Zona de Risco 'Moderado': 6 ponto(s)\n"
     ]
    },
    {
     "data": {
      "text/html": [
       "<div>\n",
       "<style scoped>\n",
       "    .dataframe tbody tr th:only-of-type {\n",
       "        vertical-align: middle;\n",
       "    }\n",
       "\n",
       "    .dataframe tbody tr th {\n",
       "        vertical-align: top;\n",
       "    }\n",
       "\n",
       "    .dataframe thead th {\n",
       "        text-align: right;\n",
       "    }\n",
       "</style>\n",
       "<table border=\"1\" class=\"dataframe\">\n",
       "  <thead>\n",
       "    <tr style=\"text-align: right;\">\n",
       "      <th></th>\n",
       "      <th>data</th>\n",
       "      <th>hora_ref</th>\n",
       "      <th>nomeEstacao</th>\n",
       "      <th>Nivel_Risco_Valor</th>\n",
       "    </tr>\n",
       "  </thead>\n",
       "  <tbody>\n",
       "    <tr>\n",
       "      <th>3</th>\n",
       "      <td>2025-05-14</td>\n",
       "      <td>20:00:00</td>\n",
       "      <td>Campina do Barreto</td>\n",
       "      <td>35.73</td>\n",
       "    </tr>\n",
       "    <tr>\n",
       "      <th>11</th>\n",
       "      <td>2025-05-14</td>\n",
       "      <td>20:00:00</td>\n",
       "      <td>RECIFE - APAC</td>\n",
       "      <td>33.72</td>\n",
       "    </tr>\n",
       "    <tr>\n",
       "      <th>15</th>\n",
       "      <td>2025-05-14</td>\n",
       "      <td>20:00:00</td>\n",
       "      <td>Torreão</td>\n",
       "      <td>30.79</td>\n",
       "    </tr>\n",
       "    <tr>\n",
       "      <th>43</th>\n",
       "      <td>2025-05-16</td>\n",
       "      <td>20:00:00</td>\n",
       "      <td>RECIFE - APAC</td>\n",
       "      <td>44.74</td>\n",
       "    </tr>\n",
       "    <tr>\n",
       "      <th>47</th>\n",
       "      <td>2025-05-16</td>\n",
       "      <td>20:00:00</td>\n",
       "      <td>Torreão</td>\n",
       "      <td>47.17</td>\n",
       "    </tr>\n",
       "    <tr>\n",
       "      <th>113</th>\n",
       "      <td>2025-05-21</td>\n",
       "      <td>08:00:00</td>\n",
       "      <td>Campina do Barreto</td>\n",
       "      <td>41.36</td>\n",
       "    </tr>\n",
       "  </tbody>\n",
       "</table>\n",
       "</div>"
      ],
      "text/plain": [
       "           data  hora_ref         nomeEstacao  Nivel_Risco_Valor\n",
       "3    2025-05-14  20:00:00  Campina do Barreto              35.73\n",
       "11   2025-05-14  20:00:00       RECIFE - APAC              33.72\n",
       "15   2025-05-14  20:00:00             Torreão              30.79\n",
       "43   2025-05-16  20:00:00       RECIFE - APAC              44.74\n",
       "47   2025-05-16  20:00:00             Torreão              47.17\n",
       "113  2025-05-21  08:00:00  Campina do Barreto              41.36"
      ]
     },
     "metadata": {},
     "output_type": "display_data"
    },
    {
     "name": "stdout",
     "output_type": "stream",
     "text": [
      "\n",
      ">> Pontos na Zona de Risco 'Baixo': 113 ponto(s)\n"
     ]
    },
    {
     "data": {
      "text/html": [
       "<div>\n",
       "<style scoped>\n",
       "    .dataframe tbody tr th:only-of-type {\n",
       "        vertical-align: middle;\n",
       "    }\n",
       "\n",
       "    .dataframe tbody tr th {\n",
       "        vertical-align: top;\n",
       "    }\n",
       "\n",
       "    .dataframe thead th {\n",
       "        text-align: right;\n",
       "    }\n",
       "</style>\n",
       "<table border=\"1\" class=\"dataframe\">\n",
       "  <thead>\n",
       "    <tr style=\"text-align: right;\">\n",
       "      <th></th>\n",
       "      <th>data</th>\n",
       "      <th>hora_ref</th>\n",
       "      <th>nomeEstacao</th>\n",
       "      <th>Nivel_Risco_Valor</th>\n",
       "    </tr>\n",
       "  </thead>\n",
       "  <tbody>\n",
       "    <tr>\n",
       "      <th>0</th>\n",
       "      <td>2025-05-14</td>\n",
       "      <td>02:00:00</td>\n",
       "      <td>Campina do Barreto</td>\n",
       "      <td>0.00</td>\n",
       "    </tr>\n",
       "    <tr>\n",
       "      <th>1</th>\n",
       "      <td>2025-05-14</td>\n",
       "      <td>08:00:00</td>\n",
       "      <td>Campina do Barreto</td>\n",
       "      <td>0.00</td>\n",
       "    </tr>\n",
       "    <tr>\n",
       "      <th>2</th>\n",
       "      <td>2025-05-14</td>\n",
       "      <td>14:00:00</td>\n",
       "      <td>Campina do Barreto</td>\n",
       "      <td>8.97</td>\n",
       "    </tr>\n",
       "    <tr>\n",
       "      <th>4</th>\n",
       "      <td>2025-05-14</td>\n",
       "      <td>02:00:00</td>\n",
       "      <td>Imbiribeira</td>\n",
       "      <td>0.00</td>\n",
       "    </tr>\n",
       "    <tr>\n",
       "      <th>5</th>\n",
       "      <td>2025-05-14</td>\n",
       "      <td>08:00:00</td>\n",
       "      <td>Imbiribeira</td>\n",
       "      <td>5.47</td>\n",
       "    </tr>\n",
       "    <tr>\n",
       "      <th>...</th>\n",
       "      <td>...</td>\n",
       "      <td>...</td>\n",
       "      <td>...</td>\n",
       "      <td>...</td>\n",
       "    </tr>\n",
       "    <tr>\n",
       "      <th>122</th>\n",
       "      <td>2025-05-21</td>\n",
       "      <td>14:00:00</td>\n",
       "      <td>RECIFE - APAC</td>\n",
       "      <td>0.00</td>\n",
       "    </tr>\n",
       "    <tr>\n",
       "      <th>123</th>\n",
       "      <td>2025-05-21</td>\n",
       "      <td>20:00:00</td>\n",
       "      <td>RECIFE - APAC</td>\n",
       "      <td>1.30</td>\n",
       "    </tr>\n",
       "    <tr>\n",
       "      <th>124</th>\n",
       "      <td>2025-05-21</td>\n",
       "      <td>02:00:00</td>\n",
       "      <td>Torreão</td>\n",
       "      <td>2.15</td>\n",
       "    </tr>\n",
       "    <tr>\n",
       "      <th>126</th>\n",
       "      <td>2025-05-21</td>\n",
       "      <td>14:00:00</td>\n",
       "      <td>Torreão</td>\n",
       "      <td>0.00</td>\n",
       "    </tr>\n",
       "    <tr>\n",
       "      <th>127</th>\n",
       "      <td>2025-05-21</td>\n",
       "      <td>20:00:00</td>\n",
       "      <td>Torreão</td>\n",
       "      <td>1.28</td>\n",
       "    </tr>\n",
       "  </tbody>\n",
       "</table>\n",
       "<p>113 rows × 4 columns</p>\n",
       "</div>"
      ],
      "text/plain": [
       "           data  hora_ref         nomeEstacao  Nivel_Risco_Valor\n",
       "0    2025-05-14  02:00:00  Campina do Barreto               0.00\n",
       "1    2025-05-14  08:00:00  Campina do Barreto               0.00\n",
       "2    2025-05-14  14:00:00  Campina do Barreto               8.97\n",
       "4    2025-05-14  02:00:00         Imbiribeira               0.00\n",
       "5    2025-05-14  08:00:00         Imbiribeira               5.47\n",
       "..          ...       ...                 ...                ...\n",
       "122  2025-05-21  14:00:00       RECIFE - APAC               0.00\n",
       "123  2025-05-21  20:00:00       RECIFE - APAC               1.30\n",
       "124  2025-05-21  02:00:00             Torreão               2.15\n",
       "126  2025-05-21  14:00:00             Torreão               0.00\n",
       "127  2025-05-21  20:00:00             Torreão               1.28\n",
       "\n",
       "[113 rows x 4 columns]"
      ]
     },
     "metadata": {},
     "output_type": "display_data"
    },
    {
     "name": "stdout",
     "output_type": "stream",
     "text": [
      "\n",
      "--- Etapa 5: Gerando diagramas interativos e salvando na pasta 'diagramas_interativos' ---\n"
     ]
    },
    {
     "data": {
      "application/vnd.plotly.v1+json": {
       "config": {
        "plotlyServerURL": "https://plot.ly"
       },
       "data": [
        {
         "colorscale": [
          [
           0,
           "#90EE90"
          ],
          [
           0.3,
           "#FFD700"
          ],
          [
           0.5,
           "#FFA500"
          ],
          [
           1,
           "#D32F2F"
          ]
         ],
         "showscale": false,
         "type": "heatmap",
         "x": {
          "bdata": "AAECAwQFBgcICQoLDA0ODxAREhMUFRYXGBkaGxwdHh8gISIjJCUmJygpKissLS4vMDEyMzQ1Njc4OTo7PD0+P0BBQkNERUZHSElKS0xNTk9QUVJTVFVWV1hZWltcXV5fYGFiY2RlZmdoaWprbG0=",
          "dtype": "i1"
         },
         "y": {
          "bdata": "AAAAAAAAAAAxb2dIzNupPzFvZ0jM27k/ZZNNNtlkwz8xb2dIzNvJP3+lQK1fKdA/ZZNNNtlk0z9LgVq/UqDWPzFvZ0jM29k/F1100UUX3T9/pUCtXyngP3Icx3Ecx+E/ZZNNNtlk4z9YCtT6lQLlP0uBWr9SoOY/Pvjggw8+6D8xb2dIzNvpPyTm7QyJees/F1100UUX7T8K1PqVArXuP3+lQK1fKfA/+OCDDz748D9yHMdxHMfxP+tXCtT6lfI/ZZNNNtlk8z/ezpCYtzP0P1gK1PqVAvU/0UUXXXTR9T9LgVq/UqD2P8S8nSExb/c/Pvjggw8++D+3MyTm7Qz5PzFvZ0jM2/k/q6qqqqqq+j8k5u0MiXn7P54hMW9nSPw/F1100UUX/T+RmLczJOb9PwrU+pUCtf4/hA8++OCD/z9/pUCtXykAQDtDYt7OkABA+OCDDz74AEC1fqVArV8BQHIcx3EcxwFALrrooosuAkDrVwrU+pUCQKj1KwVq/QJAZZNNNtlkA0AiMW9nSMwDQN7OkJi3MwRAm2yyySabBEBYCtT6lQIFQBWo9SsFagVA0UUXXXTRBUCO4ziO4zgGQEuBWr9SoAZACB988MEHB0DEvJ0hMW8HQIFav1Kg1gdAPvjggw8+CED7lQK1fqUIQLczJObtDAlAdNFFF110CUAxb2dIzNsJQO4MiXk7QwpAq6qqqqqqCkBnSMzbGRILQCTm7QyJeQtA4YMPPvjgC0CeITFvZ0gMQFq/UqDWrwxAF1100UUXDUDU+pUCtX4NQJGYtzMk5g1ATTbZZJNNDkAK1PqVArUOQMdxHMdxHA9AhA8++OCDD0BArV8pUOsPQH+lQK1fKRBAXXTRRRddEEA7Q2LezpAQQBoS83aGxBBA+OCDDz74EEDXrxSo9SsRQLV+pUCtXxFAk0022WSTEUByHMdxHMcRQFDrVwrU+hFALrrooosuEkANiXk7Q2ISQOtXCtT6lRJAyiabbLLJEkCo9SsFav0SQIbEvJ0hMRNAZZNNNtlkE0BDYt7OkJgTQCIxb2dIzBNAAAAAAAAAFEA=",
          "dtype": "f8"
         },
         "z": {
          "bdata": "AAAAAAAAAAAAAAAAAAAAAAAAAAAAAAAAAAAAAAAAAAAAAAAAAAAAAAAAAAAAAAAAAAAAAAAAAAAAAAAAAAAAAAAAAAAAAAAAAAAAAAAAAAAAAAAAAAAAAAAAAAAAAAAAAAAAAAAAAAAAAAAAAAAAAAAAAAAAAAAAAAAAAAAAAAAAAAAAAAAAAAAAAAAAAAAAAAAAAAAAAAAAAAAAAAAAAAAAAAAAAAAAAAAAAAAAAAAAAAAAAAAAAAAAAAAAAAAAAAAAAAAAAAAAAAAAAAAAAAAAAAAAAAAAAAAAAAAAAAAAAAAAAAAAAAAAAAAAAAAAAAAAAAAAAAAAAAAAAAAAAAAAAAAAAAAAAAAAAAAAAAAAAAAAAAAAAAAAAAAAAAAAAAAAAAAAAAAAAAAAAAAAAAAAAAAAAAAAAAAAAAAAAAAAAAAAAAAAAAAAAAAAAAAAAAAAAAAAAAAAAAAAAAAAAAAAAAAAAAAAAAAAAAAAAAAAAAAAAAAAAAAAAAAAAAAAAAAAAAAAAAAAAAAAAAAAAAAAAAAAAAAAAAAAAAAAAAAAAAAAAAAAAAAAAAAAAAAAAAAAAAAAAAAAAAAAAAAAAAAAAAAAAAAAAAAAAAAAAAAAAAAAAAAAAAAAAAAAAAAAAAAAAAAAAAAAAAAAAAAAAAAAAAAAAAAAAAAAAAAAAAAAAAAAAAAAAAAAAAAAAAAAAAAAAAAAAAAAAAAAAAAAAAAAAAAAAAAAAAAAAAAAAAAAAAAAAAAAAAAAAAAAAAAAAAAAAAAAAAAAAAAAAAAAAAAAAAAAAAAAAAAAAAAAAAAAAAAAAAAAAAAAAAAAAAAAAAAAAAAAAAAAAAAAAAAAAAAAAAAAAAAAAAAAAAAAAAAAAAAAAAAAAAAAAAAAAAAAAAAAAAAAAAAAAAAAAAAAAAAAAAAAAAAAAAAAAAAAAAAAAAAAAAAAAAAAAAAAAAAAAAAAAAAAAAAAAAAAAAAAAAAAAAAAAAAAAAAAAAAAAAAAAAAAAAAAAAAAAAAAAAAAAAAAAAAAAAAAAAAAAAAAAAAAAAAAAAAAAAAAAAAAAAAAAAAAAAAAAAAAAAAAAAAAAAAAAAAAAAAAAAAAAAAAAAAAAAAAAAAAAAAAAAAAAAAAAAAAAAAAAAAAAAAAAAAAAAAAAAAAAAAAAAAAAAAAAAAAAAAAAAAAMW9nSMzbqT8xb2dIzNu5P2WTTTbZZMM/MW9nSMzbyT9/pUCtXynQP2WTTTbZZNM/S4Fav1Kg1j8xb2dIzNvZPxdddNFFF90/f6VArV8p4D9yHMdxHMfhP2WTTTbZZOM/WArU+pUC5T9LgVq/UqDmPz744IMPPug/MW9nSMzb6T8k5u0MiXnrPxdddNFFF+0/CtT6lQK17j9/pUCtXynwP/jggw8++PA/chzHcRzH8T/rVwrU+pXyP2WTTTbZZPM/3s6QmLcz9D9YCtT6lQL1P9FFF1100fU/S4Fav1Kg9j/EvJ0hMW/3Pz744IMPPvg/tzMk5u0M+T8xb2dIzNv5P6uqqqqqqvo/JObtDIl5+z+eITFvZ0j8PxdddNFFF/0/kZi3MyTm/T8K1PqVArX+P4QPPvjgg/8/f6VArV8pAEA7Q2LezpAAQPjggw8++ABAtX6lQK1fAUByHMdxHMcBQC666KKLLgJA61cK1PqVAkCo9SsFav0CQGWTTTbZZANAIjFvZ0jMA0DezpCYtzMEQJtssskmmwRAWArU+pUCBUAVqPUrBWoFQNFFF1100QVAjuM4juM4BkBLgVq/UqAGQAgffPDBBwdAxLydITFvB0CBWr9SoNYHQD744IMPPghA+5UCtX6lCEC3MyTm7QwJQHTRRRdddAlAMW9nSMzbCUDuDIl5O0MKQKuqqqqqqgpAZ0jM2xkSC0Ak5u0MiXkLQOGDDz744AtAniExb2dIDEBav1Kg1q8MQBdddNFFFw1A1PqVArV+DUCRmLczJOYNQE022WSTTQ5ACtT6lQK1DkDHcRzHcRwPQIQPPvjggw9AQK1fKVDrD0B/pUCtXykQQF100UUXXRBAO0Ni3s6QEEAaEvN2hsQQQPjggw8++BBA168UqPUrEUC1fqVArV8RQJNNNtlkkxFAchzHcRzHEUBQ61cK1PoRQC666KKLLhJADYl5O0NiEkDrVwrU+pUSQMomm2yyyRJAqPUrBWr9EkCGxLydITETQGWTTTbZZBNAQ2LezpCYE0AiMW9nSMwTQAAAAAAAABRA3s6QmLczFEC9nSExb2cUQJtssskmmxRAeTtDYt7OFEBYCtT6lQIVQDbZZJNNNhVAFaj1KwVqFUDzdobEvJ0VQNFFF1100RVAsBSo9SsFFkAAAAAAAAAAADFvZ0jM27k/MW9nSMzbyT9lk0022WTTPzFvZ0jM29k/f6VArV8p4D9lk0022WTjP0uBWr9SoOY/MW9nSMzb6T8XXXTRRRftP3+lQK1fKfA/chzHcRzH8T9lk0022WTzP1gK1PqVAvU/S4Fav1Kg9j8++OCDDz74PzFvZ0jM2/k/JObtDIl5+z8XXXTRRRf9PwrU+pUCtf4/f6VArV8pAED44IMPPvgAQHIcx3EcxwFA61cK1PqVAkBlk0022WQDQN7OkJi3MwRAWArU+pUCBUDRRRdddNEFQEuBWr9SoAZAxLydITFvB0A++OCDDz4IQLczJObtDAlAMW9nSMzbCUCrqqqqqqoKQCTm7QyJeQtAniExb2dIDEAXXXTRRRcNQJGYtzMk5g1ACtT6lQK1DkCEDz744IMPQH+lQK1fKRBAO0Ni3s6QEED44IMPPvgQQLV+pUCtXxFAchzHcRzHEUAuuuiiiy4SQOtXCtT6lRJAqPUrBWr9EkBlk0022WQTQCIxb2dIzBNA3s6QmLczFECbbLLJJpsUQFgK1PqVAhVAFaj1KwVqFUDRRRdddNEVQI7jOI7jOBZAS4Fav1KgFkAIH3zwwQcXQMS8nSExbxdAgVq/UqDWF0A++OCDDz4YQPuVArV+pRhAtzMk5u0MGUB00UUXXXQZQDFvZ0jM2xlA7gyJeTtDGkCrqqqqqqoaQGdIzNsZEhtAJObtDIl5G0Dhgw8++OAbQJ4hMW9nSBxAWr9SoNavHEAXXXTRRRcdQNT6lQK1fh1AkZi3MyTmHUBNNtlkk00eQArU+pUCtR5Ax3Ecx3EcH0CEDz744IMfQECtXylQ6x9Af6VArV8pIEBddNFFF10gQDtDYt7OkCBAGhLzdobEIED44IMPPvggQNevFKj1KyFAtX6lQK1fIUCTTTbZZJMhQHIcx3EcxyFAUOtXCtT6IUAuuuiiiy4iQA2JeTtDYiJA61cK1PqVIkDKJptssskiQKj1KwVq/SJAhsS8nSExI0Blk0022WQjQENi3s6QmCNAIjFvZ0jMI0AAAAAAAAAkQN7OkJi3MyRAvZ0hMW9nJECbbLLJJpskQHk7Q2LeziRAWArU+pUCJUA22WSTTTYlQBWo9SsFaiVA83aGxLydJUDRRRdddNElQLAUqPUrBSZAAAAAAAAAAABlk0022WTDP2WTTTbZZNM/GF100UUX3T9lk0022WTjPz744IMPPug/GF100UUX7T/44IMPPvjwP2WTTTbZZPM/0kUXXXTR9T8++OCDDz74P6uqqqqqqvo/GF100UUX/T+EDz744IP/P/jggw8++ABAL7rooosuAkBlk0022WQDQJtssskmmwRA0kUXXXTRBUAIH3zwwQcHQD744IMPPghAddFFF110CUCrqqqqqqoKQOGDDz744AtAGF100UUXDUBONtlkk00OQIQPPvjggw9AXXTRRRddEED44IMPPvgQQJRNNtlkkxFAL7rooosuEkDKJptssskSQGWTTTbZZBNAAAAAAAAAFECbbLLJJpsUQDbZZJNNNhVA0kUXXXTRFUBtsskmm2wWQAgffPDBBxdAo4suuuiiF0A++OCDDz4YQNlkk0022RhAddFFF110GUAQPvjggw8aQKuqqqqqqhpARhdddNFFG0Dhgw8++OAbQHzwwQcffBxAGF100UUXHUCzySabbLIdQE422WSTTR5A6aKLLrroHkCEDz744IMfQBA++OCDDyBAXXTRRRddIECrqqqqqqogQPjggw8++CBARhdddNFFIUCUTTbZZJMhQOGDDz744CFAL7rooosuIkB88MEHH3wiQMomm2yyySJAF1100UUXI0Blk0022WQjQLPJJptssiNAAAAAAAAAJEBONtlkk00kQJtssskmmyRA6aKLLrroJEA22WSTTTYlQIQPPvjggyVA0kUXXXTRJUAffPDBBx8mQG2yySabbCZAuuiiiy66JkAIH3zwwQcnQFZVVVVVVSdAo4suuuiiJ0DxwQcffPAnQD744IMPPihAjC666KKLKEDZZJNNNtkoQCebbLLJJilAddFFF110KUDCBx988MEpQBA++OCDDypAXXTRRRddKkCrqqqqqqoqQPjggw8++CpARhdddNFFK0CUTTbZZJMrQOGDDz744CtAL7rooosuLEB88MEHH3wsQMomm2yyySxAGF100UUXLUBlk0022WQtQLPJJptssi1AAAAAAAAALkBONtlkk00uQJtssskmmy5A6aKLLrroLkA32WSTTTYvQIQPPvjggy9A0kUXXXTRL0AQPvjggw8wQDbZZJNNNjBAXXTRRRddMECEDz744IMwQAAAAAAAAAAAMW9nSMzbyT8xb2dIzNvZP2WTTTbZZOM/MW9nSMzb6T9/pUCtXynwP2WTTTbZZPM/S4Fav1Kg9j8xb2dIzNv5PxdddNFFF/0/f6VArV8pAEByHMdxHMcBQGWTTTbZZANAWArU+pUCBUBLgVq/UqAGQD744IMPPghAMW9nSMzbCUAk5u0MiXkLQBdddNFFFw1ACtT6lQK1DkB/pUCtXykQQPjggw8++BBAchzHcRzHEUDrVwrU+pUSQGWTTTbZZBNA3s6QmLczFEBYCtT6lQIVQNFFF1100RVAS4Fav1KgFkDEvJ0hMW8XQD744IMPPhhAtzMk5u0MGUAxb2dIzNsZQKuqqqqqqhpAJObtDIl5G0CeITFvZ0gcQBdddNFFFx1AkZi3MyTmHUAK1PqVArUeQIQPPvjggx9Af6VArV8pIEA7Q2LezpAgQPjggw8++CBAtX6lQK1fIUByHMdxHMchQC666KKLLiJA61cK1PqVIkCo9SsFav0iQGWTTTbZZCNAIjFvZ0jMI0DezpCYtzMkQJtssskmmyRAWArU+pUCJUAVqPUrBWolQNFFF1100SVAjuM4juM4JkBLgVq/UqAmQAgffPDBBydAxLydITFvJ0CBWr9SoNYnQD744IMPPihA+5UCtX6lKEC3MyTm7QwpQHTRRRdddClAMW9nSMzbKUDuDIl5O0MqQKuqqqqqqipAZ0jM2xkSK0Ak5u0MiXkrQOGDDz744CtAniExb2dILEBav1Kg1q8sQBdddNFFFy1A1PqVArV+LUCRmLczJOYtQE022WSTTS5ACtT6lQK1LkDHcRzHcRwvQIQPPvjggy9AQK1fKVDrL0B/pUCtXykwQF100UUXXTBAO0Ni3s6QMEAaEvN2hsQwQPjggw8++DBA168UqPUrMUC1fqVArV8xQJNNNtlkkzFAchzHcRzHMUBQ61cK1PoxQC666KKLLjJADYl5O0NiMkDrVwrU+pUyQMomm2yyyTJAqPUrBWr9MkCGxLydITEzQGWTTTbZZDNAQ2LezpCYM0AiMW9nSMwzQAAAAAAAADRA3s6QmLczNEC9nSExb2c0QJtssskmmzRAeTtDYt7ONEBYCtT6lQI1QDbZZJNNNjVAFaj1KwVqNUDzdobEvJ01QNFFF1100TVAsBSo9SsFNkAAAAAAAAAAAH+lQK1fKdA/f6VArV8p4D8++OCDDz7oP3+lQK1fKfA/386QmLcz9D8++OCDDz74P54hMW9nSPw/f6VArV8pAEAvuuiiiy4CQN/OkJi3MwRAj+M4juM4BkA++OCDDz4IQO4MiXk7QwpAniExb2dIDEBONtlkk00OQH+lQK1fKRBA168UqPUrEUAvuuiiiy4SQIfEvJ0hMRNA386QmLczFEA32WSTTTYVQI/jOI7jOBZA5+0MiXk7F0A++OCDDz4YQJYCtX6lQBlA7gyJeTtDGkBGF1100UUbQJ4hMW9nSBxA9isFav1KHUBONtlkk00eQKZArV8pUB9Af6VArV8pIECrqqqqqqogQNevFKj1KyFAA7V+pUCtIUAvuuiiiy4iQFu/UqDWryJAh8S8nSExI0CzySabbLIjQN/OkJi3MyRAC9T6lQK1JEA32WSTTTYlQGPezpCYtyVAj+M4juM4JkC76KKLLromQOftDIl5OydAE/N2hsS8J0A++OCDDz4oQGr9SoFavyhAlgK1fqVAKUDCBx988MEpQO4MiXk7QypAGhLzdobEKkBGF1100UUrQHIcx3EcxytAniExb2dILEDKJptsssksQPYrBWr9Si1AIjFvZ0jMLUBONtlkk00uQHo7Q2Lezi5ApkCtXylQL0DSRRdddNEvQH+lQK1fKTBAFaj1KwVqMECrqqqqqqowQEGtXylQ6zBA168UqPUrMUBtsskmm2wxQAO1fqVArTFAmbczJObtMUAvuuiiiy4yQMW8nSExbzJAW79SoNavMkDxwQcffPAyQIfEvJ0hMTNAHcdxHMdxM0CzySabbLIzQEnM2xkS8zNA386QmLczNEB10UUXXXQ0QAvU+pUCtTRAodavFKj1NEA32WSTTTY1QM3bGRLzdjVAY97OkJi3NUD54IMPPvg1QI/jOI7jODZAJebtDIl5NkC76KKLLro2QFHrVwrU+jZA5+0MiXk7N0B98MEHH3w3QBPzdobEvDdAqfUrBWr9N0A++OCDDz44QNT6lQK1fjhAav1KgVq/OEAAAAAAAAA5QJYCtX6lQDlALAVq/UqBOUDCBx988ME5QFgK1PqVAjpA7gyJeTtDOkCEDz744IM6QBoS83aGxDpAsBSo9SsFO0BGF1100UU7QNwZEvN2hjtAAAAAAAAAAABlk0022WTTP2WTTTbZZOM/GF100UUX7T9lk0022WTzPz744IMPPvg/GF100UUX/T/44IMPPvgAQGWTTTbZZANA0kUXXXTRBUA++OCDDz4IQKuqqqqqqgpAGF100UUXDUCEDz744IMPQPjggw8++BBAL7rooosuEkBlk0022WQTQJtssskmmxRA0kUXXXTRFUAIH3zwwQcXQD744IMPPhhAddFFF110GUCrqqqqqqoaQOGDDz744BtAGF100UUXHUBONtlkk00eQIQPPvjggx9AXXTRRRddIED44IMPPvggQJRNNtlkkyFAL7rooosuIkDKJptssskiQGWTTTbZZCNAAAAAAAAAJECbbLLJJpskQDbZZJNNNiVA0kUXXXTRJUBtsskmm2wmQAgffPDBBydAo4suuuiiJ0A++OCDDz4oQNlkk0022ShAddFFF110KUAQPvjggw8qQKuqqqqqqipARhdddNFFK0Dhgw8++OArQHzwwQcffCxAGF100UUXLUCzySabbLItQE422WSTTS5A6aKLLrroLkCEDz744IMvQBA++OCDDzBAXXTRRRddMECrqqqqqqowQPjggw8++DBARhdddNFFMUCUTTbZZJMxQOGDDz744DFAL7rooosuMkB88MEHH3wyQMomm2yyyTJAF1100UUXM0Blk0022WQzQLPJJptssjNAAAAAAAAANEBONtlkk000QJtssskmmzRA6aKLLrroNEA22WSTTTY1QIQPPvjggzVA0kUXXXTRNUAffPDBBx82QG2yySabbDZAuuiiiy66NkAIH3zwwQc3QFZVVVVVVTdAo4suuuiiN0DxwQcffPA3QD744IMPPjhAjC666KKLOEDZZJNNNtk4QCebbLLJJjlAddFFF110OUDCBx988ME5QBA++OCDDzpAXXTRRRddOkCrqqqqqqo6QPjggw8++DpARhdddNFFO0CUTTbZZJM7QOGDDz744DtAL7rooosuPEB88MEHH3w8QMomm2yyyTxAGF100UUXPUBlk0022WQ9QLPJJptssj1AAAAAAAAAPkBONtlkk00+QJtssskmmz5A6aKLLrroPkA32WSTTTY/QIQPPvjggz9A0kUXXXTRP0AQPvjggw9AQDbZZJNNNkBAXXTRRRddQECEDz744INAQAAAAAAAAAAAS4Fav1Kg1j9LgVq/UqDmP/jggw8++PA/S4Fav1Kg9j+eITFvZ0j8P/jggw8++ABAIjFvZ0jMA0BLgVq/UqAGQHTRRRdddAlAniExb2dIDEDHcRzHcRwPQPjggw8++BBADYl5O0NiEkAiMW9nSMwTQDbZZJNNNhVAS4Fav1KgFkBgKVDrVwoYQHTRRRdddBlAiXk7Q2LeGkCeITFvZ0gcQLLJJptssh1Ax3Ecx3EcH0DuDIl5O0MgQPjggw8++CBAA7V+pUCtIUANiXk7Q2IiQBdddNFFFyNAIjFvZ0jMI0AsBWr9SoEkQDbZZJNNNiVAQa1fKVDrJUBLgVq/UqAmQFVVVVVVVSdAYClQ61cKKEBq/UqBWr8oQHTRRRdddClAf6VArV8pKkCJeTtDYt4qQJNNNtlkkytAniExb2dILECo9SsFav0sQLLJJptssi1AvZ0hMW9nLkDHcRzHcRwvQNFFF1100S9A7gyJeTtDMEDzdobEvJ0wQPjggw8++DBA/UqBWr9SMUADtX6lQK0xQAgffPDBBzJADYl5O0NiMkAS83aGxLwyQBdddNFFFzNAHMdxHMdxM0AiMW9nSMwzQCebbLLJJjRALAVq/UqBNEAxb2dIzNs0QDbZZJNNNjVAO0Ni3s6QNUBBrV8pUOs1QEYXXXTRRTZAS4Fav1KgNkBQ61cK1Po2QFVVVVVVVTdAW79SoNavN0BgKVDrVwo4QGWTTTbZZDhAav1KgVq/OEBvZ0jM2xk5QHTRRRdddDlAejtDYt7OOUB/pUCtXyk6QIQPPvjggzpAiXk7Q2LeOkCO4ziO4zg7QJNNNtlkkztAmbczJObtO0CeITFvZ0g8QKOLLrroojxAqPUrBWr9PECtXylQ61c9QLLJJptssj1AuDMk5u0MPkC9nSExb2c+QMIHH3zwwT5Ax3Ecx3EcP0DM2xkS83Y/QNFFF1100T9A61cK1PoVQEDuDIl5O0NAQPDBBx98cEBA83aGxLydQED2KwVq/cpAQPjggw8++EBA+5UCtX4lQUD9SoFav1JBQAAAAAAAgEFAA7V+pUCtQUAFav1KgdpBQAgffPDBB0JACtT6lQI1QkANiXk7Q2JCQBA++OCDj0JAEvN2hsS8QkAVqPUrBepCQBdddNFFF0NAGhLzdoZEQ0AAAAAAAAAAADFvZ0jM29k/MW9nSMzb6T9lk0022WTzPzFvZ0jM2/k/f6VArV8pAEBlk0022WQDQEuBWr9SoAZAMW9nSMzbCUAXXXTRRRcNQH+lQK1fKRBAchzHcRzHEUBlk0022WQTQFgK1PqVAhVAS4Fav1KgFkA++OCDDz4YQDFvZ0jM2xlAJObtDIl5G0AXXXTRRRcdQArU+pUCtR5Af6VArV8pIED44IMPPvggQHIcx3EcxyFA61cK1PqVIkBlk0022WQjQN7OkJi3MyRAWArU+pUCJUDRRRdddNElQEuBWr9SoCZAxLydITFvJ0A++OCDDz4oQLczJObtDClAMW9nSMzbKUCrqqqqqqoqQCTm7QyJeStAniExb2dILEAXXXTRRRctQJGYtzMk5i1ACtT6lQK1LkCEDz744IMvQH+lQK1fKTBAO0Ni3s6QMED44IMPPvgwQLV+pUCtXzFAchzHcRzHMUAuuuiiiy4yQOtXCtT6lTJAqPUrBWr9MkBlk0022WQzQCIxb2dIzDNA3s6QmLczNECbbLLJJps0QFgK1PqVAjVAFaj1KwVqNUDRRRdddNE1QI7jOI7jODZAS4Fav1KgNkAIH3zwwQc3QMS8nSExbzdAgVq/UqDWN0A++OCDDz44QPuVArV+pThAtzMk5u0MOUB00UUXXXQ5QDFvZ0jM2zlA7gyJeTtDOkCrqqqqqqo6QGdIzNsZEjtAJObtDIl5O0Dhgw8++OA7QJ4hMW9nSDxAWr9SoNavPEAXXXTRRRc9QNT6lQK1fj1AkZi3MyTmPUBNNtlkk00+QArU+pUCtT5Ax3Ecx3EcP0CEDz744IM/QECtXylQ6z9Af6VArV8pQEBddNFFF11AQDtDYt7OkEBAGhLzdobEQED44IMPPvhAQNevFKj1K0FAtX6lQK1fQUCTTTbZZJNBQHIcx3Ecx0FAUOtXCtT6QUAuuuiiiy5CQA2JeTtDYkJA61cK1PqVQkDKJptssslCQKj1KwVq/UJAhsS8nSExQ0Blk0022WRDQENi3s6QmENAIjFvZ0jMQ0AAAAAAAABEQN7OkJi3M0RAvZ0hMW9nRECbbLLJJptEQHk7Q2LezkRAWArU+pUCRUA22WSTTTZFQBWo9SsFakVA83aGxLydRUDRRRdddNFFQLAUqPUrBUZAAAAAAAAAAAAXXXTRRRfdPxdddNFFF+0/0UUXXXTR9T8XXXTRRRf9Py666KKLLgJA0UUXXXTRBUB00UUXXXQJQBdddNFFFw1AXXTRRRddEEAuuuiiiy4SQAAAAAAAABRA0UUXXXTRFUCjiy666KIXQHTRRRdddBlARhdddNFFG0AXXXTRRRcdQOiiiy666B5AXXTRRRddIEBGF1100UUhQC666KKLLiJAF1100UUXI0AAAAAAAAAkQOmiiy666CRA0UUXXXTRJUC66KKLLromQKOLLrrooidAiy666KKLKEB00UUXXXQpQF100UUXXSpARhdddNFFK0Auuuiiiy4sQBdddNFFFy1AAAAAAAAALkDooosuuuguQNFFF1100S9AXXTRRRddMEDRRRdddNEwQEYXXXTRRTFAuuiiiy66MUAuuuiiiy4yQKOLLrroojJAF1100UUXM0CLLrroooszQAAAAAAAADRAdNFFF110NEDpoosuuug0QF100UUXXTVA0UUXXXTRNUBGF1100UU2QLrooosuujZALrrooosuN0Cjiy666KI3QBdddNFFFzhAiy666KKLOEAAAAAAAAA5QHTRRRdddDlA6KKLLrroOUBddNFFF106QNFFF1100TpARhdddNFFO0C66KKLLro7QC666KKLLjxAo4suuuiiPEAXXXTRRRc9QIsuuuiiiz1AAAAAAAAAPkB00UUXXXQ+QOiiiy666D5AXXTRRRddP0DRRRdddNE/QKOLLrroIkBAXXTRRRddQEAXXXTRRZdAQNFFF1100UBAiy666KILQUBGF1100UVBQAAAAAAAgEFAuuiiiy66QUB00UUXXfRBQC666KKLLkJA6aKLLrpoQkCjiy666KJCQF100UUX3UJAF1100UUXQ0DRRRdddFFDQIsuuuiii0NARhdddNHFQ0AAAAAAAABEQLrooosuOkRAdNFFF110REAuuuiii65EQOmiiy666ERAo4suuugiRUBddNFFF11FQBdddNFFl0VA0UUXXXTRRUCLLrroogtGQEYXXXTRRUZAAAAAAACARkC66KKLLrpGQHTRRRdd9EZALrrooosuR0DpoosuumhHQKOLLrrookdAXXTRRRfdR0AXXXTRRRdIQNFFF110UUhAiy666KKLSEBGF1100cVIQAAAAAAAAAAAf6VArV8p4D9/pUCtXynwPz744IMPPvg/f6VArV8pAEDfzpCYtzMEQD744IMPPghAniExb2dIDEB/pUCtXykQQC+66KKLLhJA386QmLczFECP4ziO4zgWQD744IMPPhhA7gyJeTtDGkCeITFvZ0gcQE422WSTTR5Af6VArV8pIEDXrxSo9SshQC+66KKLLiJAh8S8nSExI0DfzpCYtzMkQDfZZJNNNiVAj+M4juM4JkDn7QyJeTsnQD744IMPPihAlgK1fqVAKUDuDIl5O0MqQEYXXXTRRStAniExb2dILED2KwVq/UotQE422WSTTS5ApkCtXylQL0B/pUCtXykwQKuqqqqqqjBA168UqPUrMUADtX6lQK0xQC+66KKLLjJAW79SoNavMkCHxLydITEzQLPJJptssjNA386QmLczNEAL1PqVArU0QDfZZJNNNjVAY97OkJi3NUCP4ziO4zg2QLvooosuujZA5+0MiXk7N0AT83aGxLw3QD744IMPPjhAav1KgVq/OECWArV+pUA5QMIHH3zwwTlA7gyJeTtDOkAaEvN2hsQ6QEYXXXTRRTtAchzHcRzHO0CeITFvZ0g8QMomm2yyyTxA9isFav1KPUAiMW9nSMw9QE422WSTTT5AejtDYt7OPkCmQK1fKVA/QNJFF1100T9Af6VArV8pQEAVqPUrBWpAQKuqqqqqqkBAQa1fKVDrQEDXrxSo9StBQG2yySabbEFAA7V+pUCtQUCZtzMk5u1BQC+66KKLLkJAxbydITFvQkBbv1Kg1q9CQPHBBx988EJAh8S8nSExQ0Adx3Ecx3FDQLPJJptsskNASczbGRLzQ0DfzpCYtzNEQHXRRRdddERAC9T6lQK1RECh1q8UqPVEQDfZZJNNNkVAzdsZEvN2RUBj3s6QmLdFQPnggw8++EVAj+M4juM4RkAl5u0MiXlGQLvooosuukZAUetXCtT6RkDn7QyJeTtHQH3wwQcffEdAE/N2hsS8R0Cp9SsFav1HQD744IMPPkhA1PqVArV+SEBq/UqBWr9IQAAAAAAAAElAlgK1fqVASUAsBWr9SoFJQMIHH3zwwUlAWArU+pUCSkDuDIl5O0NKQIQPPvjgg0pAGhLzdobESkCwFKj1KwVLQEYXXXTRRUtA3BkS83aGS0AAAAAAAAAAAHIcx3Ecx+E/chzHcRzH8T+rqqqqqqr6P3Icx3EcxwFAjuM4juM4BkCrqqqqqqoKQMhxHMdxHA9AchzHcRzHEUAAAAAAAAAUQI7jOI7jOBZAHcdxHMdxGECrqqqqqqoaQDmO4ziO4xxAyHEcx3EcH0CrqqqqqqogQHIcx3EcxyFAOY7jOI7jIkAAAAAAAAAkQMdxHMdxHCVAjuM4juM4JkBWVVVVVVUnQB3HcRzHcShA5DiO4ziOKUCrqqqqqqoqQHIcx3EcxytAOY7jOI7jLEAAAAAAAAAuQMhxHMdxHC9Ax3Ecx3EcMECrqqqqqqowQI7jOI7jODFAchzHcRzHMUBWVVVVVVUyQDmO4ziO4zJAHcdxHMdxM0AAAAAAAAA0QOQ4juM4jjRAx3Ecx3EcNUCrqqqqqqo1QI7jOI7jODZAchzHcRzHNkBWVVVVVVU3QDmO4ziO4zdAHcdxHMdxOEAAAAAAAAA5QOQ4juM4jjlAx3Ecx3EcOkCrqqqqqqo6QI/jOI7jODtAchzHcRzHO0BWVVVVVVU8QDmO4ziO4zxAHcdxHMdxPUAAAAAAAAA+QOQ4juM4jj5AyHEcx3EcP0Crqqqqqqo/QMdxHMdxHEBAOY7jOI5jQECrqqqqqqpAQB3HcRzH8UBAjuM4juM4QUAAAAAAAIBBQHIcx3Ecx0FA5DiO4zgOQkBWVVVVVVVCQMdxHMdxnEJAOY7jOI7jQkCrqqqqqipDQB3HcRzHcUNAjuM4juO4Q0AAAAAAAABEQHIcx3EcR0RA5DiO4ziOREBWVVVVVdVEQMdxHMdxHEVAOY7jOI5jRUCrqqqqqqpFQB3HcRzH8UVAjuM4juM4RkAAAAAAAIBGQHIcx3Ecx0ZA5DiO4zgOR0BWVVVVVVVHQMdxHMdxnEdAOY7jOI7jR0CrqqqqqipIQB3HcRzHcUhAj+M4juO4SEAAAAAAAABJQHIcx3EcR0lA5DiO4ziOSUBWVVVVVdVJQMdxHMdxHEpAOY7jOI5jSkCrqqqqqqpKQB3HcRzH8UpAj+M4juM4S0AAAAAAAIBLQHIcx3Ecx0tA5DiO4zgOTEBWVVVVVVVMQMdxHMdxnExAOY7jOI7jTECrqqqqqipNQB3HcRzHcU1Aj+M4juO4TUAAAAAAAABOQHIcx3EcR05AAAAAAAAAAABlk0022WTjP2WTTTbZZPM/GF100UUX/T9lk0022WQDQD744IMPPghAGF100UUXDUD44IMPPvgQQGWTTTbZZBNA0kUXXXTRFUA++OCDDz4YQKuqqqqqqhpAGF100UUXHUCEDz744IMfQPjggw8++CBAL7rooosuIkBlk0022WQjQJtssskmmyRA0kUXXXTRJUAIH3zwwQcnQD744IMPPihAddFFF110KUCrqqqqqqoqQOGDDz744CtAGF100UUXLUBONtlkk00uQIQPPvjggy9AXXTRRRddMED44IMPPvgwQJRNNtlkkzFAL7rooosuMkDKJptssskyQGWTTTbZZDNAAAAAAAAANECbbLLJJps0QDbZZJNNNjVA0kUXXXTRNUBtsskmm2w2QAgffPDBBzdAo4suuuiiN0A++OCDDz44QNlkk0022ThAddFFF110OUAQPvjggw86QKuqqqqqqjpARhdddNFFO0Dhgw8++OA7QHzwwQcffDxAGF100UUXPUCzySabbLI9QE422WSTTT5A6aKLLrroPkCEDz744IM/QBA++OCDD0BAXXTRRRddQECrqqqqqqpAQPjggw8++EBARhdddNFFQUCUTTbZZJNBQOGDDz744EFAL7rooosuQkB88MEHH3xCQMomm2yyyUJAF1100UUXQ0Blk0022WRDQLPJJptsskNAAAAAAAAAREBONtlkk01EQJtssskmm0RA6aKLLrroREA22WSTTTZFQIQPPvjgg0VA0kUXXXTRRUAffPDBBx9GQG2yySabbEZAuuiiiy66RkAIH3zwwQdHQFZVVVVVVUdAo4suuuiiR0DxwQcffPBHQD744IMPPkhAjC666KKLSEDZZJNNNtlIQCebbLLJJklAddFFF110SUDCBx988MFJQBA++OCDD0pAXXTRRRddSkCrqqqqqqpKQPjggw8++EpARhdddNFFS0CUTTbZZJNLQOGDDz744EtAL7rooosuTEB88MEHH3xMQMomm2yyyUxAGF100UUXTUBlk0022WRNQLPJJptssk1AAAAAAAAATkBONtlkk01OQJtssskmm05A6aKLLrroTkA32WSTTTZPQIQPPvjgg09A0kUXXXTRT0AQPvjggw9QQDbZZJNNNlBAXXTRRRddUECEDz744INQQAAAAAAAAAAAWArU+pUC5T9YCtT6lQL1P4QPPvjgg/8/WArU+pUCBUDuDIl5O0MKQIQPPvjggw9ADYl5O0NiEkBYCtT6lQIVQKOLLrroohdA7gyJeTtDGkA5juM4juMcQIQPPvjggx9AaEjM2xkSIUANiXk7Q2IiQLLJJptssiNAWArU+pUCJUD+SoFav1ImQKOLLrrooidASMzbGRLzKEDuDIl5O0MqQJRNNtlkkytAOY7jOI7jLEDezpCYtzMuQIQPPvjggy9AFaj1KwVqMEBoSMzbGRIxQLrooosuujFADYl5O0NiMkBgKVDrVwozQLLJJptssjNABWr9SoFaNEBYCtT6lQI1QKuqqqqqqjVA/kqBWr9SNkBQ61cK1Po2QKOLLrroojdA9isFav1KOEBIzNsZEvM4QJtssskmmzlA7gyJeTtDOkBBrV8pUOs6QJRNNtlkkztA5u0MiXk7PEA5juM4juM8QIwuuuiiiz1A3s6QmLczPkAxb2dIzNs+QIQPPvjggz9A61cK1PoVQEAVqPUrBWpAQD744IMPvkBAaEjM2xkSQUCRmLczJGZBQLrooosuukFA5DiO4zgOQkANiXk7Q2JCQDbZZJNNtkJAYClQ61cKQ0CJeTtDYl5DQLLJJptsskNA3BkS83YGREAFav1KgVpEQC+66KKLrkRAWArU+pUCRUCBWr9SoFZFQKuqqqqqqkVA1PqVArX+RUD+SoFav1JGQCebbLLJpkZAUOtXCtT6RkB6O0Ni3k5HQKOLLrrookdAzNsZEvP2R0D2KwVq/UpIQB988MEHn0hASMzbGRLzSEByHMdxHEdJQJtssskmm0lAxbydITHvSUDuDIl5O0NKQBdddNFFl0pAQa1fKVDrSkBq/UqBWj9LQJRNNtlkk0tAvZ0hMW/nS0Dm7QyJeTtMQBA++OCDj0xAOY7jOI7jTEBi3s6QmDdNQIwuuuiii01AtX6lQK3fTUDezpCYtzNOQAgffPDBh05AMW9nSMzbTkBbv1Kg1i9PQIQPPvjgg09ArV8pUOvXT0DrVwrU+hVQQAAAAAAAQFBAFaj1KwVqUEApUOtXCpRQQD744IMPvlBAU6DWrxToUEBoSMzbGRJRQHzwwQcfPFFAkZi3MyRmUUCmQK1fKZBRQLrooosuulFAz5CYtzPkUUAAAAAAAAAAAEuBWr9SoOY/S4Fav1Kg9j/44IMPPvgAQEuBWr9SoAZAniExb2dIDED44IMPPvgQQCIxb2dIzBNAS4Fav1KgFkB00UUXXXQZQJ4hMW9nSBxAx3Ecx3EcH0D44IMPPvggQA2JeTtDYiJAIjFvZ0jMI0A22WSTTTYlQEuBWr9SoCZAYClQ61cKKEB00UUXXXQpQIl5O0Ni3ipAniExb2dILECyySabbLItQMdxHMdxHC9A7gyJeTtDMED44IMPPvgwQAO1fqVArTFADYl5O0NiMkAXXXTRRRczQCIxb2dIzDNALAVq/UqBNEA22WSTTTY1QEGtXylQ6zVAS4Fav1KgNkBVVVVVVVU3QGApUOtXCjhAav1KgVq/OEB00UUXXXQ5QH+lQK1fKTpAiXk7Q2LeOkCTTTbZZJM7QJ4hMW9nSDxAqPUrBWr9PECyySabbLI9QL2dITFvZz5Ax3Ecx3EcP0DRRRdddNE/QO4MiXk7Q0BA83aGxLydQED44IMPPvhAQP1KgVq/UkFAA7V+pUCtQUAIH3zwwQdCQA2JeTtDYkJAEvN2hsS8QkAXXXTRRRdDQBzHcRzHcUNAIjFvZ0jMQ0Anm2yyySZEQCwFav1KgURAMW9nSMzbREA22WSTTTZFQDtDYt7OkEVAQa1fKVDrRUBGF1100UVGQEuBWr9SoEZAUOtXCtT6RkBVVVVVVVVHQFu/UqDWr0dAYClQ61cKSEBlk0022WRIQGr9SoFav0hAb2dIzNsZSUB00UUXXXRJQHo7Q2LezklAf6VArV8pSkCEDz744INKQIl5O0Ni3kpAjuM4juM4S0CTTTbZZJNLQJm3MyTm7UtAniExb2dITECjiy666KJMQKj1KwVq/UxArV8pUOtXTUCyySabbLJNQLgzJObtDE5AvZ0hMW9nTkDCBx988MFOQMdxHMdxHE9AzNsZEvN2T0DRRRdddNFPQOtXCtT6FVBA7gyJeTtDUEDwwQcffHBQQPN2hsS8nVBA9isFav3KUED44IMPPvhQQPuVArV+JVFA/UqBWr9SUUAAAAAAAIBRQAO1fqVArVFABWr9SoHaUUAIH3zwwQdSQArU+pUCNVJADYl5O0NiUkAQPvjgg49SQBLzdobEvFJAFaj1KwXqUkAXXXTRRRdTQBoS83aGRFNAAAAAAAAAAAA++OCDDz7oPz744IMPPvg/LrrooosuAkA++OCDDz4IQE422WSTTQ5ALrrooosuEkA22WSTTTYVQD744IMPPhhARhdddNFFG0BONtlkk00eQKuqqqqqqiBALrrooosuIkCyySabbLIjQDbZZJNNNiVAuuiiiy66JkA++OCDDz4oQMIHH3zwwSlARhdddNFFK0DKJptsssksQE422WSTTS5A0UUXXXTRL0CrqqqqqqowQG2yySabbDFALrrooosuMkDwwQcffPAyQLLJJptssjNAdNFFF110NEA22WSTTTY1QPjggw8++DVAuuiiiy66NkB88MEHH3w3QD744IMPPjhAAAAAAAAAOUDCBx988ME5QIQPPvjggzpARhdddNFFO0AIH3zwwQc8QMomm2yyyTxAjC666KKLPUBONtlkk00+QA8++OCDDz9A0UUXXXTRP0DKJptssklAQKuqqqqqqkBAjC666KILQUBtsskmm2xBQE422WSTzUFALrrooosuQkAPPvjgg49CQPDBBx988EJA0UUXXXRRQ0CyySabbLJDQJNNNtlkE0RAdNFFF110REBVVVVVVdVEQDbZZJNNNkVAF1100UWXRUD44IMPPvhFQNlkk002WUZAuuiiiy66RkCbbLLJJhtHQHzwwQcffEdAXXTRRRfdR0A++OCDDz5IQB988MEHn0hAAAAAAAAASUDhgw8++GBJQMIHH3zwwUlAo4suuugiSkCEDz744INKQGWTTTbZ5EpARhdddNFFS0Anm2yyyaZLQAgffPDBB0xA6aKLLrpoTEDKJptssslMQKuqqqqqKk1AjC666KKLTUBtsskmm+xNQE422WSTTU5ALrrooouuTkAPPvjggw9PQPDBBx98cE9A0UUXXXTRT0DZZJNNNhlQQMomm2yySVBAuuiiiy56UECrqqqqqqpQQJtssskm21BAjC666KILUUB88MEHHzxRQG2yySabbFFAXXTRRRedUUBONtlkk81RQD744IMP/lFALrrooosuUkAffPDBB19SQA8++OCDj1JAAAAAAADAUkDwwQcffPBSQOGDDz74IFNA0UUXXXRRU0DCBx988IFTQLLJJptsslNAo4suuujiU0CTTTbZZBNUQIQPPvjgQ1RAdNFFF110VEBlk0022aRUQAAAAAAAAAAAMW9nSMzb6T8xb2dIzNv5P2WTTTbZZANAMW9nSMzbCUB/pUCtXykQQGWTTTbZZBNAS4Fav1KgFkAxb2dIzNsZQBdddNFFFx1Af6VArV8pIEByHMdxHMchQGWTTTbZZCNAWArU+pUCJUBLgVq/UqAmQD744IMPPihAMW9nSMzbKUAk5u0MiXkrQBdddNFFFy1ACtT6lQK1LkB/pUCtXykwQPjggw8++DBAchzHcRzHMUDrVwrU+pUyQGWTTTbZZDNA3s6QmLczNEBYCtT6lQI1QNFFF1100TVAS4Fav1KgNkDEvJ0hMW83QD744IMPPjhAtzMk5u0MOUAxb2dIzNs5QKuqqqqqqjpAJObtDIl5O0CeITFvZ0g8QBdddNFFFz1AkZi3MyTmPUAK1PqVArU+QIQPPvjggz9Af6VArV8pQEA7Q2LezpBAQPjggw8++EBAtX6lQK1fQUByHMdxHMdBQC666KKLLkJA61cK1PqVQkCo9SsFav1CQGWTTTbZZENAIjFvZ0jMQ0DezpCYtzNEQJtssskmm0RAWArU+pUCRUAVqPUrBWpFQNFFF1100UVAjuM4juM4RkBLgVq/UqBGQAgffPDBB0dAxLydITFvR0CBWr9SoNZHQD744IMPPkhA+5UCtX6lSEC3MyTm7QxJQHTRRRdddElAMW9nSMzbSUDuDIl5O0NKQKuqqqqqqkpAZ0jM2xkSS0Ak5u0MiXlLQOGDDz744EtAniExb2dITEBav1Kg1q9MQBdddNFFF01A1PqVArV+TUCRmLczJOZNQE022WSTTU5ACtT6lQK1TkDHcRzHcRxPQIQPPvjgg09AQK1fKVDrT0B/pUCtXylQQF100UUXXVBAO0Ni3s6QUEAaEvN2hsRQQPjggw8++FBA168UqPUrUUC1fqVArV9RQJNNNtlkk1FAchzHcRzHUUBQ61cK1PpRQC666KKLLlJADYl5O0NiUkDrVwrU+pVSQMomm2yyyVJAqPUrBWr9UkCGxLydITFTQGWTTTbZZFNAQ2LezpCYU0AiMW9nSMxTQAAAAAAAAFRA3s6QmLczVEC9nSExb2dUQJtssskmm1RAeTtDYt7OVEBYCtT6lQJVQDbZZJNNNlVAFaj1KwVqVUDzdobEvJ1VQNFFF1100VVAsBSo9SsFVkAAAAAAAAAAACTm7QyJees/JObtDIl5+z+bbLLJJpsEQCTm7QyJeQtA1q8UqPUrEUCbbLLJJpsUQGApUOtXChhAJObtDIl5G0DooosuuugeQNavFKj1KyFAOY7jOI7jIkCbbLLJJpskQP1KgVq/UiZAYClQ61cKKEDCBx988MEpQCTm7QyJeStAhsS8nSExLUDooosuuuguQKVArV8pUDBA1q8UqPUrMUAIH3zwwQcyQDmO4ziO4zJAav1KgVq/M0CbbLLJJps0QMzbGRLzdjVA/UqBWr9SNkAuuuiiiy43QGApUOtXCjhAkZi3MyTmOEDCBx988ME5QPN2hsS8nTpAJObtDIl5O0BVVVVVVVU8QIbEvJ0hMT1AtzMk5u0MPkDooosuuug+QBoS83aGxD9ApUCtXylQQEA++OCDD75AQNavFKj1K0FAb2dIzNuZQUAIH3zwwQdCQKDWrxSodUJAOY7jOI7jQkDRRRdddFFDQGr9SoFav0NAArV+pUAtRECbbLLJJptEQDQk5u0MCUVAzNsZEvN2RUBlk0022eRFQP1KgVq/UkZAlgK1fqXARkAuuuiiiy5HQMdxHMdxnEdAYClQ61cKSED44IMPPnhIQJGYtzMk5khAKVDrVwpUSUDCBx988MFJQFq/UqDWL0pA83aGxLydSkCLLrroogtLQCTm7QyJeUtAvZ0hMW/nS0BVVVVVVVVMQO4MiXk7w0xAhsS8nSExTUAffPDBB59NQLczJObtDE5AUOtXCtR6TkDooosuuuhOQIFav1KgVk9AGhLzdobET0DZZJNNNhlQQKVArV8pUFBAchzHcRyHUEA++OCDD75QQArU+pUC9VBA1q8UqPUrUUCjiy666GJRQG9nSMzbmVFAO0Ni3s7QUUAIH3zwwQdSQNT6lQK1PlJAoNavFKh1UkBssskmm6xSQDmO4ziO41JABWr9SoEaU0DRRRdddFFTQJ4hMW9niFNAav1KgVq/U0A22WSTTfZTQAK1fqVALVRAz5CYtzNkVECbbLLJJptUQGdIzNsZ0lRANCTm7QwJVUAAAAAAAEBVQMzbGRLzdlVAmLczJOatVUBlk0022eRVQDFvZ0jMG1ZA/UqBWr9SVkDKJptssolWQJYCtX6lwFZAYt7OkJj3VkAuuuiiiy5XQPuVArV+ZVdAAAAAAAAAAAAXXXTRRRftPxdddNFFF/0/0UUXXXTRBUAXXXTRRRcNQC666KKLLhJA0UUXXXTRFUB00UUXXXQZQBdddNFFFx1AXXTRRRddIEAuuuiiiy4iQAAAAAAAACRA0UUXXXTRJUCjiy666KInQHTRRRdddClARhdddNFFK0AXXXTRRRctQOiiiy666C5AXXTRRRddMEBGF1100UUxQC666KKLLjJAF1100UUXM0AAAAAAAAA0QOmiiy666DRA0UUXXXTRNUC66KKLLro2QKOLLrroojdAiy666KKLOEB00UUXXXQ5QF100UUXXTpARhdddNFFO0Auuuiiiy48QBdddNFFFz1AAAAAAAAAPkDooosuuug+QNFFF1100T9AXXTRRRddQEDRRRdddNFAQEYXXXTRRUFAuuiiiy66QUAuuuiiiy5CQKOLLrrookJAF1100UUXQ0CLLrroootDQAAAAAAAAERAdNFFF110REDpoosuuuhEQF100UUXXUVA0UUXXXTRRUBGF1100UVGQLrooosuukZALrrooosuR0Cjiy666KJHQBdddNFFF0hAiy666KKLSEAAAAAAAABJQHTRRRdddElA6KKLLrroSUBddNFFF11KQNFFF1100UpARhdddNFFS0C66KKLLrpLQC666KKLLkxAo4suuuiiTEAXXXTRRRdNQIsuuuiii01AAAAAAAAATkB00UUXXXROQOiiiy666E5AXXTRRRddT0DRRRdddNFPQKOLLrroIlBAXXTRRRddUEAXXXTRRZdQQNFFF1100VBAiy666KILUUBGF1100UVRQAAAAAAAgFFAuuiiiy66UUB00UUXXfRRQC666KKLLlJA6aKLLrpoUkCjiy666KJSQF100UUX3VJAF1100UUXU0DRRRdddFFTQIsuuuiii1NARhdddNHFU0AAAAAAAABUQLrooosuOlRAdNFFF110VEAuuuiii65UQOmiiy666FRAo4suuugiVUBddNFFF11VQBdddNFFl1VA0UUXXXTRVUCLLrroogtWQEYXXXTRRVZAAAAAAACAVkC66KKLLrpWQHTRRRdd9FZALrrooosuV0DpoosuumhXQKOLLrrooldAXXTRRRfdV0AXXXTRRRdYQNFFF110UVhAiy666KKLWEBGF1100cVYQAAAAAAAAAAACtT6lQK17j8K1PqVArX+PwgffPDBBwdACtT6lQK1DkCGxLydITETQAgffPDBBxdAiXk7Q2LeGkAK1PqVArUeQEYXXXTRRSFAhsS8nSExI0DHcRzHcRwlQAgffPDBBydASMzbGRLzKECJeTtDYt4qQMkmm2yyySxACtT6lQK1LkClQK1fKVAwQEYXXXTRRTFA5u0MiXk7MkCGxLydITEzQCebbLLJJjRAx3Ecx3EcNUBnSMzbGRI2QAgffPDBBzdAqPUrBWr9N0BIzNsZEvM4QOiiiy666DlAiXk7Q2LeOkApUOtXCtQ7QMkmm2yyyTxAav1KgVq/PUAK1PqVArU+QKqqqqqqqj9ApUCtXylQQED1KwVq/cpAQEYXXXTRRUFAlgK1fqXAQUDm7QyJeTtCQDbZZJNNtkJAhsS8nSExQ0DWrxSo9atDQCebbLLJJkRAd4bEvJ2hREDHcRzHcRxFQBdddNFFl0VAZ0jM2xkSRkC3MyTm7YxGQAgffPDBB0dAWArU+pWCR0Co9SsFav1HQPjggw8+eEhASMzbGRLzSECYtzMk5m1JQOiiiy666ElAOY7jOI5jSkCJeTtDYt5KQNlkk002WUtAKVDrVwrUS0B5O0Ni3k5MQMkmm2yyyUxAGhLzdoZETUBq/UqBWr9NQLrooosuOk5ACtT6lQK1TkBav1Kg1i9PQKqqqqqqqk9A/UqBWr8SUEClQK1fKVBQQE022WSTjVBA9SsFav3KUECeITFvZwhRQEYXXXTRRVFA7gyJeTuDUUCWArV+pcBRQD744IMP/lFA5u0MiXk7UkCO4ziO43hSQDbZZJNNtlJA3s6QmLfzUkCGxLydITFTQC666KKLblNA1q8UqPWrU0B+pUCtX+lTQCebbLLJJlRAz5CYtzNkVEB3hsS8naFUQB988MEH31RAx3Ecx3EcVUBvZ0jM21lVQBdddNFFl1VAv1Kg1q/UVUBnSMzbGRJWQA8++OCDT1ZAtzMk5u2MVkBfKVDrV8pWQAgffPDBB1dAsBSo9StFV0BYCtT6lYJXQAAAAAAAwFdAqPUrBWr9V0BQ61cK1DpYQPjggw8+eFhAoNavFKi1WEBIzNsZEvNYQPDBBx98MFlAmLczJOZtWUBArV8pUKtZQOiiiy666FlAkZi3MyQmWkAAAAAAAAAAAH+lQK1fKfA/f6VArV8pAEA++OCDDz4IQH+lQK1fKRBA386QmLczFEA++OCDDz4YQJ4hMW9nSBxAf6VArV8pIEAvuuiiiy4iQN/OkJi3MyRAj+M4juM4JkA++OCDDz4oQO4MiXk7QypAniExb2dILEBONtlkk00uQH+lQK1fKTBA168UqPUrMUAvuuiiiy4yQIfEvJ0hMTNA386QmLczNEA32WSTTTY1QI/jOI7jODZA5+0MiXk7N0A++OCDDz44QJYCtX6lQDlA7gyJeTtDOkBGF1100UU7QJ4hMW9nSDxA9isFav1KPUBONtlkk00+QKZArV8pUD9Af6VArV8pQECrqqqqqqpAQNevFKj1K0FAA7V+pUCtQUAvuuiiiy5CQFu/UqDWr0JAh8S8nSExQ0CzySabbLJDQN/OkJi3M0RAC9T6lQK1REA32WSTTTZFQGPezpCYt0VAj+M4juM4RkC76KKLLrpGQOftDIl5O0dAE/N2hsS8R0A++OCDDz5IQGr9SoFav0hAlgK1fqVASUDCBx988MFJQO4MiXk7Q0pAGhLzdobESkBGF1100UVLQHIcx3Ecx0tAniExb2dITEDKJptssslMQPYrBWr9Sk1AIjFvZ0jMTUBONtlkk01OQHo7Q2Lezk5ApkCtXylQT0DSRRdddNFPQH+lQK1fKVBAFaj1KwVqUECrqqqqqqpQQEGtXylQ61BA168UqPUrUUBtsskmm2xRQAO1fqVArVFAmbczJObtUUAvuuiiiy5SQMW8nSExb1JAW79SoNavUkDxwQcffPBSQIfEvJ0hMVNAHcdxHMdxU0CzySabbLJTQEnM2xkS81NA386QmLczVEB10UUXXXRUQAvU+pUCtVRAodavFKj1VEA32WSTTTZVQM3bGRLzdlVAY97OkJi3VUD54IMPPvhVQI/jOI7jOFZAJebtDIl5VkC76KKLLrpWQFHrVwrU+lZA5+0MiXk7V0B98MEHH3xXQBPzdobEvFdAqfUrBWr9V0A++OCDDz5YQNT6lQK1flhAav1KgVq/WEAAAAAAAABZQJYCtX6lQFlALAVq/UqBWUDCBx988MFZQFgK1PqVAlpA7gyJeTtDWkCEDz744INaQBoS83aGxFpAsBSo9SsFW0BGF1100UVbQNwZEvN2hltAAAAAAAAAAAD44IMPPvjwP/jggw8++ABAdNFFF110CUD44IMPPvgQQDbZZJNNNhVAdNFFF110GUCyySabbLIdQPjggw8++CBAF1100UUXI0A22WSTTTYlQFVVVVVVVSdAdNFFF110KUCTTTbZZJMrQLLJJptssi1A0UUXXXTRL0D44IMPPvgwQAgffPDBBzJAF1100UUXM0Amm2yyySY0QDbZZJNNNjVARhdddNFFNkBVVVVVVVU3QGSTTTbZZDhAdNFFF110OUCEDz744IM6QJNNNtlkkztAoosuuuiiPECyySabbLI9QMIHH3zwwT5A0UUXXXTRP0DwwQcffHBAQPjggw8++EBAAAAAAACAQUAIH3zwwQdCQA8++OCDj0JAF1100UUXQ0AffPDBB59DQCabbLLJJkRALrrooouuREA22WSTTTZFQD744IMPvkVARhdddNFFRkBNNtlkk81GQFVVVVVVVUdAXXTRRRfdR0Bkk0022WRIQGyyySab7EhAdNFFF110SUB88MEHH/xJQIQPPvjgg0pAiy666KILS0CTTTbZZJNLQJtssskmG0xAoosuuuiiTECqqqqqqipNQLLJJptssk1Auuiiiy46TkDCBx988MFOQMkmm2yySU9A0UUXXXTRT0BssskmmyxQQPDBBx98cFBAdNFFF120UED44IMPPvhQQHzwwQcfPFFAAAAAAACAUUCEDz744MNRQAgffPDBB1JAiy666KJLUkAPPvjgg49SQJNNNtlk01JAF1100UUXU0CbbLLJJltTQB988MEHn1NAo4suuujiU0Amm2yyySZUQKqqqqqqalRALrrooouuVECyySabbPJUQDbZZJNNNlVAuuiiiy56VUA++OCDD75VQMIHH3zwAVZARhdddNFFVkDJJptssolWQE022WSTzVZA0UUXXXQRV0BVVVVVVVVXQNlkk002mVdAXXTRRRfdV0Dhgw8++CBYQGSTTTbZZFhA6KKLLrqoWEBssskmm+xYQPDBBx98MFlAdNFFF110WUD44IMPPrhZQHzwwQcf/FlAAAAAAABAWkCEDz744INaQAcffPDBx1pAiy666KILW0APPvjgg09bQJNNNtlkk1tAF1100UXXW0CbbLLJJhtcQB988MEHX1xAoosuuuiiXEAmm2yyyeZcQAAAAAAAAAAAchzHcRzH8T9yHMdxHMcBQKuqqqqqqgpAchzHcRzHEUCO4ziO4zgWQKuqqqqqqhpAyHEcx3EcH0ByHMdxHMchQAAAAAAAACRAjuM4juM4JkAdx3Ecx3EoQKuqqqqqqipAOY7jOI7jLEDIcRzHcRwvQKuqqqqqqjBAchzHcRzHMUA5juM4juMyQAAAAAAAADRAx3Ecx3EcNUCO4ziO4zg2QFZVVVVVVTdAHcdxHMdxOEDkOI7jOI45QKuqqqqqqjpAchzHcRzHO0A5juM4juM8QAAAAAAAAD5AyHEcx3EcP0DHcRzHcRxAQKuqqqqqqkBAjuM4juM4QUByHMdxHMdBQFZVVVVVVUJAOY7jOI7jQkAdx3Ecx3FDQAAAAAAAAERA5DiO4ziOREDHcRzHcRxFQKuqqqqqqkVAjuM4juM4RkByHMdxHMdGQFZVVVVVVUdAOY7jOI7jR0Adx3Ecx3FIQAAAAAAAAElA5DiO4ziOSUDHcRzHcRxKQKuqqqqqqkpAj+M4juM4S0ByHMdxHMdLQFZVVVVVVUxAOY7jOI7jTEAdx3Ecx3FNQAAAAAAAAE5A5DiO4ziOTkDIcRzHcRxPQKuqqqqqqk9Ax3Ecx3EcUEA5juM4jmNQQKuqqqqqqlBAHcdxHMfxUECO4ziO4zhRQAAAAAAAgFFAchzHcRzHUUDkOI7jOA5SQFZVVVVVVVJAx3Ecx3GcUkA5juM4juNSQKuqqqqqKlNAHcdxHMdxU0CO4ziO47hTQAAAAAAAAFRAchzHcRxHVEDkOI7jOI5UQFZVVVVV1VRAx3Ecx3EcVUA5juM4jmNVQKuqqqqqqlVAHcdxHMfxVUCO4ziO4zhWQAAAAAAAgFZAchzHcRzHVkDkOI7jOA5XQFZVVVVVVVdAx3Ecx3GcV0A5juM4juNXQKuqqqqqKlhAHcdxHMdxWECP4ziO47hYQAAAAAAAAFlAchzHcRxHWUDkOI7jOI5ZQFZVVVVV1VlAx3Ecx3EcWkA5juM4jmNaQKuqqqqqqlpAHcdxHMfxWkCP4ziO4zhbQAAAAAAAgFtAchzHcRzHW0DkOI7jOA5cQFZVVVVVVVxAx3Ecx3GcXEA5juM4juNcQKuqqqqqKl1AHcdxHMdxXUCP4ziO47hdQAAAAAAAAF5AchzHcRxHXkAAAAAAAAAAAOtXCtT6lfI/61cK1PqVAkDggw8++OALQOtXCtT6lRJA5u0MiXk7F0Dggw8++OAbQO4MiXk7QyBA61cK1PqVIkDooosuuugkQObtDIl5OydA4ziO4ziOKUDggw8++OArQN7OkJi3My5A7gyJeTtDMEBssskmm2wxQOtXCtT6lTJAav1KgVq/M0Dooosuuug0QGdIzNsZEjZA5u0MiXk7N0Bkk0022WQ4QOM4juM4jjlAYt7OkJi3OkDggw8++OA7QF8pUOtXCj1A3s6QmLczPkBddNFFF10/QO4MiXk7Q0BArV8pUOvXQEBssskmm2xBQCwFav1KAUJA61cK1PqVQkCqqqqqqipDQGr9SoFav0NAKVDrVwpUREDooosuuuhEQKj1KwVqfUVAZ0jM2xkSRkAmm2yyyaZGQObtDIl5O0dApUCtXynQR0Bkk0022WRIQCTm7QyJ+UhA4ziO4ziOSUCiiy666CJKQGLezpCYt0pAITFvZ0hMS0Dggw8++OBLQKDWrxSodUxAXylQ61cKTUAffPDBB59NQN7OkJi3M05AnSExb2fITkBddNFFF11PQBzHcRzH8U9A7gyJeTtDUEBNNtlkk41QQK1fKVDr11BADYl5O0MiUUBssskmm2xRQMzbGRLztlFALAVq/UoBUkCLLrrooktSQOtXCtT6lVJAS4Fav1LgUkCqqqqqqipTQArU+pUCdVNAav1KgVq/U0DJJptssglUQClQ61cKVFRAiXk7Q2KeVEDooosuuuhUQEjM2xkSM1VAqPUrBWp9VUAHH3zwwcdVQGdIzNsZElZAx3Ecx3FcVkAmm2yyyaZWQIbEvJ0h8VZA5u0MiXk7V0BFF1100YVXQKVArV8p0FdABWr9SoEaWEBkk0022WRYQMS8nSExr1hAJObtDIn5WECDDz744ENZQOM4juM4jllAQ2LezpDYWUCiiy666CJaQAK1fqVAbVpAYt7OkJi3WkDBBx988AFbQCExb2dITFtAgVq/UqCWW0Dggw8++OBbQECtXylQK1xAoNavFKh1XEAAAAAAAMBcQF8pUOtXCl1Av1Kg1q9UXUAffPDBB59dQH6lQK1f6V1A3s6QmLczXkA++OCDD35eQJ0hMW9nyF5A/UqBWr8SX0BddNFFF11fQLydITFvp19AAAAAAAAAAABlk0022WTzP2WTTTbZZANAGF100UUXDUBlk0022WQTQD744IMPPhhAGF100UUXHUD44IMPPvggQGWTTTbZZCNA0kUXXXTRJUA++OCDDz4oQKuqqqqqqipAGF100UUXLUCEDz744IMvQPjggw8++DBAL7rooosuMkBlk0022WQzQJtssskmmzRA0kUXXXTRNUAIH3zwwQc3QD744IMPPjhAddFFF110OUCrqqqqqqo6QOGDDz744DtAGF100UUXPUBONtlkk00+QIQPPvjggz9AXXTRRRddQED44IMPPvhAQJRNNtlkk0FAL7rooosuQkDKJptssslCQGWTTTbZZENAAAAAAAAARECbbLLJJptEQDbZZJNNNkVA0kUXXXTRRUBtsskmm2xGQAgffPDBB0dAo4suuuiiR0A++OCDDz5IQNlkk0022UhAddFFF110SUAQPvjggw9KQKuqqqqqqkpARhdddNFFS0Dhgw8++OBLQHzwwQcffExAGF100UUXTUCzySabbLJNQE422WSTTU5A6aKLLrroTkCEDz744INPQBA++OCDD1BAXXTRRRddUECrqqqqqqpQQPjggw8++FBARhdddNFFUUCUTTbZZJNRQOGDDz744FFAL7rooosuUkB88MEHH3xSQMomm2yyyVJAF1100UUXU0Blk0022WRTQLPJJptsslNAAAAAAAAAVEBONtlkk01UQJtssskmm1RA6aKLLrroVEA22WSTTTZVQIQPPvjgg1VA0kUXXXTRVUAffPDBBx9WQG2yySabbFZAuuiiiy66VkAIH3zwwQdXQFZVVVVVVVdAo4suuuiiV0DxwQcffPBXQD744IMPPlhAjC666KKLWEDZZJNNNtlYQCebbLLJJllAddFFF110WUDCBx988MFZQBA++OCDD1pAXXTRRRddWkCrqqqqqqpaQPjggw8++FpARhdddNFFW0CUTTbZZJNbQOGDDz744FtAL7rooosuXEB88MEHH3xcQMomm2yyyVxAGF100UUXXUBlk0022WRdQLPJJptssl1AAAAAAAAAXkBONtlkk01eQJtssskmm15A6aKLLrroXkA32WSTTTZfQIQPPvjgg19A0kUXXXTRX0AQPvjggw9gQDbZZJNNNmBAXXTRRRddYECEDz744INgQAAAAAAAAAAA3s6QmLcz9D/ezpCYtzMEQE022WSTTQ5A3s6QmLczFECWArV+pUAZQE022WSTTR5AArV+pUCtIUDezpCYtzMkQLrooosuuiZAlgK1fqVAKUBxHMdxHMcrQE022WSTTS5AFKj1KwVqMEACtX6lQK0xQPDBBx988DJA3s6QmLczNEDM2xkS83Y1QLrooosuujZAqPUrBWr9N0CWArV+pUA5QIMPPvjggzpAcRzHcRzHO0BfKVDrVwo9QE022WSTTT5AO0Ni3s6QP0AUqPUrBWpAQIsuuuiiC0FAArV+pUCtQUB5O0Ni3k5CQPDBBx988EJAZ0jM2xmSQ0DezpCYtzNEQFVVVVVV1URAzNsZEvN2RUBDYt7OkBhGQLrooosuukZAMW9nSMxbR0Co9SsFav1HQB988MEHn0hAlgK1fqVASUAMiXk7Q+JJQIMPPvjgg0pA+pUCtX4lS0BxHMdxHMdLQOiiiy66aExAXylQ61cKTUDWrxSo9atNQE022WSTTU5AxLydITHvTkA7Q2LezpBPQNlkk002GVBAFKj1KwVqUEBQ61cK1LpQQIsuuuiiC1FAx3Ecx3FcUUACtX6lQK1RQD744IMP/lFAeTtDYt5OUkC1fqVArZ9SQPDBBx988FJALAVq/UpBU0BnSMzbGZJTQKOLLrro4lNA3s6QmLczVEAZEvN2hoRUQFVVVVVV1VRAkJi3MyQmVUDM2xkS83ZVQAcffPDBx1VAQ2LezpAYVkB+pUCtX2lWQLrooosuulZA9SsFav0KV0Axb2dIzFtXQGyyySabrFdAqPUrBWr9V0DjOI7jOE5YQB988MEHn1hAWr9SoNbvWECWArV+pUBZQNFFF110kVlADIl5O0PiWUBIzNsZEjNaQIMPPvjgg1pAv1Kg1q/UWkD6lQK1fiVbQDbZZJNNdltAcRzHcRzHW0CtXylQ6xdcQOiiiy66aFxAJObtDIm5XEBfKVDrVwpdQJtssskmW11A1q8UqPWrXUAS83aGxPxdQE022WSTTV5AiHk7Q2KeXkDEvJ0hMe9eQP//////P19AO0Ni3s6QX0B2hsS8neFfQNlkk002GWBAd4bEvJ1BYEAUqPUrBWpgQLLJJptskmBAUOtXCtS6YEDuDIl5O+NgQIsuuuiiC2FAKVDrVwo0YUAAAAAAAAAAAFgK1PqVAvU/WArU+pUCBUCEDz744IMPQFgK1PqVAhVA7gyJeTtDGkCEDz744IMfQA2JeTtDYiJAWArU+pUCJUCjiy666KInQO4MiXk7QypAOY7jOI7jLECEDz744IMvQGhIzNsZEjFADYl5O0NiMkCyySabbLIzQFgK1PqVAjVA/kqBWr9SNkCjiy666KI3QEjM2xkS8zhA7gyJeTtDOkCUTTbZZJM7QDmO4ziO4zxA3s6QmLczPkCEDz744IM/QBWo9SsFakBAaEjM2xkSQUC66KKLLrpBQA2JeTtDYkJAYClQ61cKQ0CyySabbLJDQAVq/UqBWkRAWArU+pUCRUCrqqqqqqpFQP5KgVq/UkZAUOtXCtT6RkCjiy666KJHQPYrBWr9SkhASMzbGRLzSECbbLLJJptJQO4MiXk7Q0pAQa1fKVDrSkCUTTbZZJNLQObtDIl5O0xAOY7jOI7jTECMLrroootNQN7OkJi3M05AMW9nSMzbTkCEDz744INPQOtXCtT6FVBAFaj1KwVqUEA++OCDD75QQGhIzNsZElFAkZi3MyRmUUC66KKLLrpRQOQ4juM4DlJADYl5O0NiUkA22WSTTbZSQGApUOtXClNAiXk7Q2JeU0CyySabbLJTQNwZEvN2BlRABWr9SoFaVEAvuuiii65UQFgK1PqVAlVAgVq/UqBWVUCrqqqqqqpVQNT6lQK1/lVA/kqBWr9SVkAnm2yyyaZWQFDrVwrU+lZAejtDYt5OV0Cjiy666KJXQMzbGRLz9ldA9isFav1KWEAffPDBB59YQEjM2xkS81hAchzHcRxHWUCbbLLJJptZQMW8nSEx71lA7gyJeTtDWkAXXXTRRZdaQEGtXylQ61pAav1KgVo/W0CUTTbZZJNbQL2dITFv51tA5u0MiXk7XEAQPvjgg49cQDmO4ziO41xAYt7OkJg3XUCMLrroootdQLV+pUCt311A3s6QmLczXkAIH3zwwYdeQDFvZ0jM215AW79SoNYvX0CEDz744INfQK1fKVDr119A61cK1PoVYEAAAAAAAEBgQBWo9SsFamBAKVDrVwqUYEA++OCDD75gQFOg1q8U6GBAaEjM2xkSYUB88MEHHzxhQJGYtzMkZmFApkCtXymQYUC66KKLLrphQM+QmLcz5GFAAAAAAAAAAADRRRdddNH1P9FFF1100QVAXXTRRRddEEDRRRdddNEVQEUXXXTRRRtAXXTRRRddIEAXXXTRRRcjQNFFF1100SVAiy666KKLKEBFF1100UUrQP///////y1AXXTRRRddMEC66KKLLroxQBdddNFFFzNAdNFFF110NEDRRRdddNE1QC666KKLLjdAiy666KKLOEDooosuuug5QEUXXXTRRTtAoosuuuiiPED///////89QFx00UUXXT9AXXTRRRddQECLLrroogtBQLrooosuukFA6KKLLrpoQkAXXXTRRRdDQEUXXXTRxUNAdNFFF110RECiiy666CJFQNFFF1100UVAAAAAAACARkAuuuiiiy5HQF100UUX3UdAiy666KKLSEC66KKLLjpJQOiiiy666ElAF1100UWXSkBFF1100UVLQHTRRRdd9EtAoosuuuiiTEDRRRdddFFNQP///////01ALrrooouuTkBcdNFFF11PQEUXXXTRBVBAXXTRRRddUEB00UUXXbRQQIsuuuiiC1FAo4suuuhiUUC66KKLLrpRQNFFF110EVJA6KKLLrpoUkAAAAAAAMBSQBdddNFFF1NALrroootuU0BFF1100cVTQF100UUXHVRAdNFFF110VECLLrroostUQKKLLrroIlVAuuiiiy56VUDRRRdddNFVQOiiiy66KFZAAAAAAACAVkAXXXTRRddWQC666KKLLldARRdddNGFV0BddNFFF91XQHTRRRddNFhAiy666KKLWECiiy666OJYQLrooosuOllA0UUXXXSRWUDooosuuuhZQP//////P1pAF1100UWXWkAuuuiii+5aQEUXXXTRRVtAXXTRRRedW0B00UUXXfRbQIsuuuiiS1xAoosuuuiiXEC66KKLLvpcQNFFF110UV1A6KKLLrqoXUD///////9dQBdddNFFV15ALrrooouuXkBFF1100QVfQFx00UUXXV9AdNFFF120X0BFF1100QVgQNFFF110MWBAXXTRRRddYEDooosuuohgQHTRRRddtGBAAAAAAADgYECLLrroogthQBdddNFFN2FAo4suuuhiYUAuuuiii45hQLrooosuumFARRdddNHlYUDRRRdddBFiQF100UUXPWJA6KKLLrpoYkB00UUXXZRiQAAAAAAAAAAAS4Fav1Kg9j9LgVq/UqAGQPjggw8++BBAS4Fav1KgFkCeITFvZ0gcQPjggw8++CBAIjFvZ0jMI0BLgVq/UqAmQHTRRRdddClAniExb2dILEDHcRzHcRwvQPjggw8++DBADYl5O0NiMkAiMW9nSMwzQDbZZJNNNjVAS4Fav1KgNkBgKVDrVwo4QHTRRRdddDlAiXk7Q2LeOkCeITFvZ0g8QLLJJptssj1Ax3Ecx3EcP0DuDIl5O0NAQPjggw8++EBAA7V+pUCtQUANiXk7Q2JCQBdddNFFF0NAIjFvZ0jMQ0AsBWr9SoFEQDbZZJNNNkVAQa1fKVDrRUBLgVq/UqBGQFVVVVVVVUdAYClQ61cKSEBq/UqBWr9IQHTRRRdddElAf6VArV8pSkCJeTtDYt5KQJNNNtlkk0tAniExb2dITECo9SsFav1MQLLJJptssk1AvZ0hMW9nTkDHcRzHcRxPQNFFF1100U9A7gyJeTtDUEDzdobEvJ1QQPjggw8++FBA/UqBWr9SUUADtX6lQK1RQAgffPDBB1JADYl5O0NiUkAS83aGxLxSQBdddNFFF1NAHMdxHMdxU0AiMW9nSMxTQCebbLLJJlRALAVq/UqBVEAxb2dIzNtUQDbZZJNNNlVAO0Ni3s6QVUBBrV8pUOtVQEYXXXTRRVZAS4Fav1KgVkBQ61cK1PpWQFVVVVVVVVdAW79SoNavV0BgKVDrVwpYQGWTTTbZZFhAav1KgVq/WEBvZ0jM2xlZQHTRRRdddFlAejtDYt7OWUB/pUCtXylaQIQPPvjgg1pAiXk7Q2LeWkCO4ziO4zhbQJNNNtlkk1tAmbczJObtW0CeITFvZ0hcQKOLLrroolxAqPUrBWr9XECtXylQ61ddQLLJJptssl1AuDMk5u0MXkC9nSExb2deQMIHH3zwwV5Ax3Ecx3EcX0DM2xkS83ZfQNFFF1100V9A61cK1PoVYEDuDIl5O0NgQPDBBx98cGBA83aGxLydYED2KwVq/cpgQPjggw8++GBA+5UCtX4lYUD9SoFav1JhQAAAAAAAgGFAA7V+pUCtYUAFav1KgdphQAgffPDBB2JACtT6lQI1YkANiXk7Q2JiQBA++OCDj2JAEvN2hsS8YkAVqPUrBepiQBdddNFFF2NAGhLzdoZEY0AAAAAAAAAAAMS8nSExb/c/xLydITFvB0CTTTbZZJMRQMS8nSExbxdA9SsFav1KHUCTTTbZZJMhQCwFav1KgSRAxLydITFvJ0BcdNFFF10qQPUrBWr9Si1Ax3Ecx3EcMECTTTbZZJMxQF8pUOtXCjNALAVq/UqBNED44IMPPvg1QMS8nSExbzdAkJi3MyTmOEBcdNFFF106QClQ61cK1DtA9SsFav1KPUDBBx988ME+QMdxHMdxHEBArV8pUOvXQECTTTbZZJNBQHk7Q2LeTkJAXylQ61cKQ0BFF1100cVDQCwFav1KgURAEvN2hsQ8RUD44IMPPvhFQN7OkJi3s0ZAxLydITFvR0CqqqqqqipIQJCYtzMk5khAdobEvJ2hSUBcdNFFF11KQENi3s6QGEtAKVDrVwrUS0APPvjgg49MQPUrBWr9Sk1A2xkS83YGTkDBBx988MFOQKf1KwVqfU9Ax3Ecx3EcUEC66KKLLnpQQK1fKVDr11BAoNavFKg1UUCTTTbZZJNRQIbEvJ0h8VFAeTtDYt5OUkBssskmm6xSQF8pUOtXClNAUqDWrxRoU0BFF1100cVTQDiO4ziOI1RALAVq/UqBVEAffPDBB99UQBLzdobEPFVABWr9SoGaVUD44IMPPvhVQOtXCtT6VVZA3s6QmLezVkDRRRdddBFXQMS8nSExb1dAtzMk5u3MV0CqqqqqqipYQJ0hMW9niFhAkJi3MyTmWECDDz744ENZQHaGxLydoVlAaf1KgVr/WUBcdNFFF11aQFDrVwrUulpAQ2LezpAYW0A22WSTTXZbQClQ61cK1FtAHMdxHMcxXEAPPvjgg49cQAK1fqVA7VxA9SsFav1KXUDooosuuqhdQNsZEvN2Bl5AzpCYtzNkXkDBBx988MFeQLR+pUCtH19Ap/UrBWp9X0CabLLJJttfQMdxHMdxHGBAQK1fKVBLYEC66KKLLnpgQDMk5u0MqWBArV8pUOvXYEAmm2yyyQZhQKDWrxSoNWFAGRLzdoZkYUCTTTbZZJNhQA2JeTtDwmFAhsS8nSHxYUAAAAAAACBiQHk7Q2LeTmJA83aGxLx9YkBssskmm6xiQObtDIl522JAXylQ61cKY0DZZJNNNjljQFKg1q8UaGNAzNsZEvOWY0BFF1100cVjQL9SoNav9GNAAAAAAAAAAAA++OCDDz74Pz744IMPPghALrrooosuEkA++OCDDz4YQE422WSTTR5ALrrooosuIkA22WSTTTYlQD744IMPPihARhdddNFFK0BONtlkk00uQKuqqqqqqjBALrrooosuMkCyySabbLIzQDbZZJNNNjVAuuiiiy66NkA++OCDDz44QMIHH3zwwTlARhdddNFFO0DKJptsssk8QE422WSTTT5A0UUXXXTRP0CrqqqqqqpAQG2yySabbEFALrrooosuQkDwwQcffPBCQLLJJptsskNAdNFFF110REA22WSTTTZFQPjggw8++EVAuuiiiy66RkB88MEHH3xHQD744IMPPkhAAAAAAAAASUDCBx988MFJQIQPPvjgg0pARhdddNFFS0AIH3zwwQdMQMomm2yyyUxAjC666KKLTUBONtlkk01OQA8++OCDD09A0UUXXXTRT0DKJptssklQQKuqqqqqqlBAjC666KILUUBtsskmm2xRQE422WSTzVFALrrooosuUkAPPvjgg49SQPDBBx988FJA0UUXXXRRU0CyySabbLJTQJNNNtlkE1RAdNFFF110VEBVVVVVVdVUQDbZZJNNNlVAF1100UWXVUD44IMPPvhVQNlkk002WVZAuuiiiy66VkCbbLLJJhtXQHzwwQcffFdAXXTRRRfdV0A++OCDDz5YQB988MEHn1hAAAAAAAAAWUDhgw8++GBZQMIHH3zwwVlAo4suuugiWkCEDz744INaQGWTTTbZ5FpARhdddNFFW0Anm2yyyaZbQAgffPDBB1xA6aKLLrpoXEDKJptssslcQKuqqqqqKl1AjC666KKLXUBtsskmm+xdQE422WSTTV5ALrrooouuXkAPPvjggw9fQPDBBx98cF9A0UUXXXTRX0DZZJNNNhlgQMomm2yySWBAuuiiiy56YECrqqqqqqpgQJtssskm22BAjC666KILYUB88MEHHzxhQG2yySabbGFAXXTRRRedYUBONtlkk81hQD744IMP/mFALrrooosuYkAffPDBB19iQA8++OCDj2JAAAAAAADAYkDwwQcffPBiQOGDDz74IGNA0UUXXXRRY0DCBx988IFjQLLJJptssmNAo4suuujiY0CTTTbZZBNkQIQPPvjgQ2RAdNFFF110ZEBlk0022aRkQAAAAAAAAAAAtzMk5u0M+T+3MyTm7QwJQMkmm2yyyRJAtzMk5u0MGUClQK1fKVAfQMkmm2yyySJAQK1fKVDrJUC3MyTm7QwpQC666KKLLixApUCtXylQL0CO4ziO4zgxQMkmm2yyyTJABWr9SoFaNEBArV8pUOs1QHzwwQcffDdAtzMk5u0MOUDydobEvJ06QC666KKLLjxAaf1KgVq/PUClQK1fKVA/QPDBBx98cEBAjuM4juM4QUAsBWr9SgFCQMkmm2yyyUJAZ0jM2xmSQ0AFav1KgVpEQKKLLrroIkVAQK1fKVDrRUDezpCYt7NGQHzwwQcffEdAGRLzdoZESEC3MyTm7QxJQFVVVVVV1UlA8naGxLydSkCQmLczJGZLQC666KKLLkxAzNsZEvP2TEBp/UqBWr9NQAcffPDBh05ApUCtXylQT0AhMW9nSAxQQPDBBx98cFBAv1Kg1q/UUECO4ziO4zhRQF100UUXnVFALAVq/UoBUkD6lQK1fmVSQMkmm2yyyVJAmLczJOYtU0BnSMzbGZJTQDbZZJNN9lNABWr9SoFaVEDU+pUCtb5UQKKLLrroIlVAcRzHcRyHVUBArV8pUOtVQA8++OCDT1ZA3s6QmLezVkCtXylQ6xdXQHzwwQcffFdASoFav1LgV0AZEvN2hkRYQOiiiy66qFhAtzMk5u0MWUCGxLydIXFZQFVVVVVV1VlAJObtDIk5WkDydobEvJ1aQMEHH3zwAVtAkJi3MyRmW0BfKVDrV8pbQC666KKLLlxA/UqBWr+SXEDM2xkS8/ZcQJpssskmW11Aaf1KgVq/XUA4juM4jiNeQAcffPDBh15A1q8UqPXrXkClQK1fKVBfQHTRRRddtF9AITFvZ0gMYECJeTtDYj5gQPDBBx98cGBAWArU+pWiYEC/UqDWr9RgQCabbLLJBmFAjuM4juM4YUD1KwVq/WphQF100UUXnWFAxLydITHPYUAsBWr9SgFiQJNNNtlkM2JA+pUCtX5lYkBi3s6QmJdiQMkmm2yyyWJAMW9nSMz7YkCYtzMk5i1jQAAAAAAAYGNAZ0jM2xmSY0DOkJi3M8RjQDbZZJNN9mNAnSExb2coZEAFav1KgVpkQGyyySabjGRA1PqVArW+ZEA7Q2LezvBkQKKLLrroImVACtT6lQJVZUAAAAAAAAAAADFvZ0jM2/k/MW9nSMzbCUBlk0022WQTQDFvZ0jM2xlAf6VArV8pIEBlk0022WQjQEuBWr9SoCZAMW9nSMzbKUAXXXTRRRctQH+lQK1fKTBAchzHcRzHMUBlk0022WQzQFgK1PqVAjVAS4Fav1KgNkA++OCDDz44QDFvZ0jM2zlAJObtDIl5O0AXXXTRRRc9QArU+pUCtT5Af6VArV8pQED44IMPPvhAQHIcx3Ecx0FA61cK1PqVQkBlk0022WRDQN7OkJi3M0RAWArU+pUCRUDRRRdddNFFQEuBWr9SoEZAxLydITFvR0A++OCDDz5IQLczJObtDElAMW9nSMzbSUCrqqqqqqpKQCTm7QyJeUtAniExb2dITEAXXXTRRRdNQJGYtzMk5k1ACtT6lQK1TkCEDz744INPQH+lQK1fKVBAO0Ni3s6QUED44IMPPvhQQLV+pUCtX1FAchzHcRzHUUAuuuiiiy5SQOtXCtT6lVJAqPUrBWr9UkBlk0022WRTQCIxb2dIzFNA3s6QmLczVECbbLLJJptUQFgK1PqVAlVAFaj1KwVqVUDRRRdddNFVQI7jOI7jOFZAS4Fav1KgVkAIH3zwwQdXQMS8nSExb1dAgVq/UqDWV0A++OCDDz5YQPuVArV+pVhAtzMk5u0MWUB00UUXXXRZQDFvZ0jM21lA7gyJeTtDWkCrqqqqqqpaQGdIzNsZEltAJObtDIl5W0Dhgw8++OBbQJ4hMW9nSFxAWr9SoNavXEAXXXTRRRddQNT6lQK1fl1AkZi3MyTmXUBNNtlkk01eQArU+pUCtV5Ax3Ecx3EcX0CEDz744INfQECtXylQ619Af6VArV8pYEBddNFFF11gQDtDYt7OkGBAGhLzdobEYED44IMPPvhgQNevFKj1K2FAtX6lQK1fYUCTTTbZZJNhQHIcx3Ecx2FAUOtXCtT6YUAuuuiiiy5iQA2JeTtDYmJA61cK1PqVYkDKJptsssliQKj1KwVq/WJAhsS8nSExY0Blk0022WRjQENi3s6QmGNAIjFvZ0jMY0AAAAAAAABkQN7OkJi3M2RAvZ0hMW9nZECbbLLJJptkQHk7Q2LezmRAWArU+pUCZUA22WSTTTZlQBWo9SsFamVA83aGxLydZUDRRRdddNFlQLAUqPUrBWZAAAAAAAAAAACrqqqqqqr6P6uqqqqqqgpAAAAAAAAAFECrqqqqqqoaQKuqqqqqqiBAAAAAAAAAJEBWVVVVVVUnQKuqqqqqqipAAAAAAAAALkCrqqqqqqowQFZVVVVVVTJAAAAAAAAANECrqqqqqqo1QFZVVVVVVTdAAAAAAAAAOUCrqqqqqqo6QFZVVVVVVTxAAAAAAAAAPkCrqqqqqqo/QKuqqqqqqkBAAAAAAACAQUBWVVVVVVVCQKuqqqqqKkNAAAAAAAAAREBWVVVVVdVEQKuqqqqqqkVAAAAAAACARkBWVVVVVVVHQKuqqqqqKkhAAAAAAAAASUBWVVVVVdVJQKuqqqqqqkpAAAAAAACAS0BWVVVVVVVMQKuqqqqqKk1AAAAAAAAATkBWVVVVVdVOQKuqqqqqqk9AAAAAAABAUECrqqqqqqpQQFZVVVVVFVFAAAAAAACAUUCrqqqqqupRQFZVVVVVVVJAAAAAAADAUkCrqqqqqipTQFZVVVVVlVNAAAAAAAAAVECrqqqqqmpUQFZVVVVV1VRAAAAAAABAVUCrqqqqqqpVQFZVVVVVFVZAAAAAAACAVkCrqqqqqupWQFZVVVVVVVdAAAAAAADAV0CrqqqqqipYQFZVVVVVlVhAAAAAAAAAWUCrqqqqqmpZQFZVVVVV1VlAAAAAAABAWkCrqqqqqqpaQFZVVVVVFVtAAAAAAACAW0CrqqqqqupbQFZVVVVVVVxAAAAAAADAXECrqqqqqipdQFZVVVVVlV1AAAAAAAAAXkCrqqqqqmpeQFZVVVVV1V5AAAAAAABAX0CrqqqqqqpfQKuqqqqqCmBAAAAAAABAYEBWVVVVVXVgQKuqqqqqqmBAAAAAAADgYEBWVVVVVRVhQKuqqqqqSmFAAAAAAACAYUBWVVVVVbVhQKuqqqqq6mFAAAAAAAAgYkBWVVVVVVViQKuqqqqqimJAAAAAAADAYkBWVVVVVfViQKuqqqqqKmNAAAAAAABgY0BWVVVVVZVjQKuqqqqqymNAAAAAAAAAZEBWVVVVVTVkQKuqqqqqamRAAAAAAACgZEBWVVVVVdVkQKuqqqqqCmVAAAAAAABAZUBWVVVVVXVlQKuqqqqqqmVAAAAAAADgZUBWVVVVVRVmQKuqqqqqSmZAAAAAAACAZkBWVVVVVbVmQAAAAAAAAAAAJObtDIl5+z8k5u0MiXkLQJtssskmmxRAJObtDIl5G0DWrxSo9SshQJtssskmmyRAYClQ61cKKEAk5u0MiXkrQOiiiy666C5A1q8UqPUrMUA5juM4juMyQJtssskmmzRA/UqBWr9SNkBgKVDrVwo4QMIHH3zwwTlAJObtDIl5O0CGxLydITE9QOiiiy666D5ApUCtXylQQEDWrxSo9StBQAgffPDBB0JAOY7jOI7jQkBq/UqBWr9DQJtssskmm0RAzNsZEvN2RUD9SoFav1JGQC666KKLLkdAYClQ61cKSECRmLczJOZIQMIHH3zwwUlA83aGxLydSkAk5u0MiXlLQFVVVVVVVUxAhsS8nSExTUC3MyTm7QxOQOiiiy666E5AGhLzdobET0ClQK1fKVBQQD744IMPvlBA1q8UqPUrUUBvZ0jM25lRQAgffPDBB1JAoNavFKh1UkA5juM4juNSQNFFF110UVNAav1KgVq/U0ACtX6lQC1UQJtssskmm1RANCTm7QwJVUDM2xkS83ZVQGWTTTbZ5FVA/UqBWr9SVkCWArV+pcBWQC666KKLLldAx3Ecx3GcV0BgKVDrVwpYQPjggw8+eFhAkZi3MyTmWEApUOtXClRZQMIHH3zwwVlAWr9SoNYvWkDzdobEvJ1aQIsuuuiiC1tAJObtDIl5W0C9nSExb+dbQFVVVVVVVVxA7gyJeTvDXECGxLydITFdQB988MEHn11AtzMk5u0MXkBQ61cK1HpeQOiiiy666F5AgVq/UqBWX0AaEvN2hsRfQNlkk002GWBApUCtXylQYEByHMdxHIdgQD744IMPvmBACtT6lQL1YEDWrxSo9SthQKOLLrroYmFAb2dIzNuZYUA7Q2LeztBhQAgffPDBB2JA1PqVArU+YkCg1q8UqHViQGyyySabrGJAOY7jOI7jYkAFav1KgRpjQNFFF110UWNAniExb2eIY0Bq/UqBWr9jQDbZZJNN9mNAArV+pUAtZEDPkJi3M2RkQJtssskmm2RAZ0jM2xnSZEA0JObtDAllQAAAAAAAQGVAzNsZEvN2ZUCYtzMk5q1lQGWTTTbZ5GVAMW9nSMwbZkD9SoFav1JmQMomm2yyiWZAlgK1fqXAZkBi3s6QmPdmQC666KKLLmdA+5UCtX5lZ0AAAAAAAAAAAJ4hMW9nSPw/niExb2dIDEA22WSTTTYVQJ4hMW9nSBxAA7V+pUCtIUA22WSTTTYlQGr9SoFavyhAniExb2dILEDSRRdddNEvQAO1fqVArTFAHcdxHMdxM0A22WSTTTY1QFDrVwrU+jZAav1KgVq/OECEDz744IM6QJ4hMW9nSDxAuDMk5u0MPkDSRRdddNE/QPYrBWr9ykBAA7V+pUCtQUAQPvjgg49CQB3HcRzHcUNAKlDrVwpUREA22WSTTTZFQENi3s6QGEZAUOtXCtT6RkBddNFFF91HQGr9SoFav0hAd4bEvJ2hSUCEDz744INKQJGYtzMkZktAniExb2dITECrqqqqqipNQLgzJObtDE5AxbydITHvTkDSRRdddNFPQG9nSMzbWVBA9isFav3KUEB88MEHHzxRQAO1fqVArVFAiXk7Q2IeUkAQPvjgg49SQJYCtX6lAFNAHcdxHMdxU0Cjiy666OJTQCpQ61cKVFRAsBSo9SvFVEA22WSTTTZVQL2dITFvp1VAQ2LezpAYVkDKJptssolWQFDrVwrU+lZA168UqPVrV0BddNFFF91XQOQ4juM4TlhAav1KgVq/WEDxwQcffDBZQHeGxLydoVlA/kqBWr8SWkCEDz744INaQAvU+pUC9VpAkZi3MyRmW0AYXXTRRddbQJ4hMW9nSFxAJObtDIm5XECrqqqqqipdQDFvZ0jMm11AuDMk5u0MXkA++OCDD35eQMW8nSEx715AS4Fav1JgX0DSRRdddNFfQCwFav1KIWBAb2dIzNtZYECzySabbJJgQPYrBWr9ymBAOY7jOI4DYUB88MEHHzxhQMBSoNavdGFAA7V+pUCtYUBGF1100eVhQIl5O0NiHmJAzNsZEvNWYkAQPvjgg49iQFOg1q8UyGJAlgK1fqUAY0DZZJNNNjljQB3HcRzHcWNAYClQ61eqY0Cjiy666OJjQObtDIl5G2RAKlDrVwpUZEBtsskmm4xkQLAUqPUrxWRA83aGxLz9ZEA22WSTTTZlQHo7Q2LebmVAvZ0hMW+nZUAAAAAAAOBlQENi3s6QGGZAh8S8nSFRZkDKJptssolmQA2JeTtDwmZAUOtXCtT6ZkCUTTbZZDNnQNevFKj1a2dAGhLzdoakZ0BddNFFF91nQKHWrxSoFWhAAAAAAAAAAAAXXXTRRRf9PxdddNFFFw1A0UUXXXTRFUAXXXTRRRcdQC666KKLLiJA0UUXXXTRJUB00UUXXXQpQBdddNFFFy1AXXTRRRddMEAuuuiiiy4yQAAAAAAAADRA0UUXXXTRNUCjiy666KI3QHTRRRdddDlARhdddNFFO0AXXXTRRRc9QOiiiy666D5AXXTRRRddQEBGF1100UVBQC666KKLLkJAF1100UUXQ0AAAAAAAABEQOmiiy666ERA0UUXXXTRRUC66KKLLrpGQKOLLrrookdAiy666KKLSEB00UUXXXRJQF100UUXXUpARhdddNFFS0Auuuiiiy5MQBdddNFFF01AAAAAAAAATkDooosuuuhOQNFFF1100U9AXXTRRRddUEDRRRdddNFQQEYXXXTRRVFAuuiiiy66UUAuuuiiiy5SQKOLLrroolJAF1100UUXU0CLLrroootTQAAAAAAAAFRAdNFFF110VEDpoosuuuhUQF100UUXXVVA0UUXXXTRVUBGF1100UVWQLrooosuulZALrrooosuV0Cjiy666KJXQBdddNFFF1hAiy666KKLWEAAAAAAAABZQHTRRRdddFlA6KKLLrroWUBddNFFF11aQNFFF1100VpARhdddNFFW0C66KKLLrpbQC666KKLLlxAo4suuuiiXEAXXXTRRRddQIsuuuiii11AAAAAAAAAXkB00UUXXXReQOiiiy666F5AXXTRRRddX0DRRRdddNFfQKOLLrroImBAXXTRRRddYEAXXXTRRZdgQNFFF1100WBAiy666KILYUBGF1100UVhQAAAAAAAgGFAuuiiiy66YUB00UUXXfRhQC666KKLLmJA6aKLLrpoYkCjiy666KJiQF100UUX3WJAF1100UUXY0DRRRdddFFjQIsuuuiii2NARhdddNHFY0AAAAAAAABkQLrooosuOmRAdNFFF110ZEAuuuiii65kQOmiiy666GRAo4suuugiZUBddNFFF11lQBdddNFFl2VA0UUXXXTRZUCLLrroogtmQEYXXXTRRWZAAAAAAACAZkC66KKLLrpmQHTRRRdd9GZALrrooosuZ0DpoosuumhnQKOLLrroomdAXXTRRRfdZ0AXXXTRRRdoQNFFF110UWhAiy666KKLaEBGF1100cVoQAAAAAAAAAAAkZi3MyTm/T+RmLczJOYNQG2yySabbBZAkZi3MyTmHUBbv1Kg1q8iQG2yySabbCZAf6VArV8pKkCRmLczJOYtQNJFF1100TBAW79SoNavMkDkOI7jOI40QG2yySabbDZA9isFav1KOEB/pUCtXyk6QAgffPDBBzxAkZi3MyTmPUAaEvN2hsQ/QNJFF1100UBAlgK1fqXAQUBbv1Kg1q9CQB988MEHn0NA5DiO4ziORECo9SsFan1FQG2yySabbEZAMW9nSMxbR0D2KwVq/UpIQLrooosuOklAf6VArV8pSkBDYt7OkBhLQAgffPDBB0xAzNsZEvP2TECRmLczJOZNQFZVVVVV1U5AGhLzdobET0BvZ0jM21lQQNJFF1100VBANCTm7QxJUUCWArV+pcBRQPjggw8+OFJAW79SoNavUkC9nSExbydTQB988MEHn1NAgVq/UqAWVEDkOI7jOI5UQEYXXXTRBVVAqPUrBWp9VUAK1PqVAvVVQG2yySabbFZAz5CYtzPkVkAxb2dIzFtXQJRNNtlk01dA9isFav1KWEBYCtT6lcJYQLrooosuOllAHcdxHMexWUB/pUCtXylaQOGDDz74oFpAQ2LezpAYW0CmQK1fKZBbQAgffPDBB1xAav1KgVp/XEDM2xkS8/ZcQC+66KKLbl1AkZi3MyTmXUDzdobEvF1eQFZVVVVV1V5AuDMk5u1MX0AaEvN2hsRfQD744IMPHmBAb2dIzNtZYECg1q8UqJVgQNJFF1100WBAA7V+pUANYUA0JObtDElhQGWTTTbZhGFAlgK1fqXAYUDHcRzHcfxhQPjggw8+OGJAKVDrVwp0YkBbv1Kg1q9iQIwuuuii62JAvZ0hMW8nY0DuDIl5O2NjQB988MEHn2NAUOtXCtTaY0CBWr9SoBZkQLPJJptsUmRA5DiO4ziOZEAVqPUrBcpkQEYXXXTRBWVAd4bEvJ1BZUCo9SsFan1lQNlkk002uWVACtT6lQL1ZUA8Q2LezjBmQG2yySabbGZAniExb2eoZkDPkJi3M+RmQAAAAAAAIGdAMW9nSMxbZ0Bi3s6QmJdnQJRNNtlk02dAxbydITEPaED2KwVq/UpoQCebbLLJhmhAWArU+pXCaECJeTtDYv5oQLrooosuOmlA61cK1Pp1aUAAAAAAAAAAAArU+pUCtf4/CtT6lQK1DkAIH3zwwQcXQArU+pUCtR5AhsS8nSExI0AIH3zwwQcnQIl5O0Ni3ipACtT6lQK1LkBGF1100UUxQIbEvJ0hMTNAx3Ecx3EcNUAIH3zwwQc3QEjM2xkS8zhAiXk7Q2LeOkDJJptsssk8QArU+pUCtT5ApUCtXylQQEBGF1100UVBQObtDIl5O0JAhsS8nSExQ0Anm2yyySZEQMdxHMdxHEVAZ0jM2xkSRkAIH3zwwQdHQKj1KwVq/UdASMzbGRLzSEDooosuuuhJQIl5O0Ni3kpAKVDrVwrUS0DJJptssslMQGr9SoFav01ACtT6lQK1TkCqqqqqqqpPQKVArV8pUFBA9SsFav3KUEBGF1100UVRQJYCtX6lwFFA5u0MiXk7UkA22WSTTbZSQIbEvJ0hMVNA1q8UqPWrU0Anm2yyySZUQHeGxLydoVRAx3Ecx3EcVUAXXXTRRZdVQGdIzNsZElZAtzMk5u2MVkAIH3zwwQdXQFgK1PqVgldAqPUrBWr9V0D44IMPPnhYQEjM2xkS81hAmLczJOZtWUDooosuuuhZQDmO4ziOY1pAiXk7Q2LeWkDZZJNNNllbQClQ61cK1FtAeTtDYt5OXEDJJptssslcQBoS83aGRF1Aav1KgVq/XUC66KKLLjpeQArU+pUCtV5AWr9SoNYvX0CqqqqqqqpfQP1KgVq/EmBApUCtXylQYEBNNtlkk41gQPUrBWr9ymBAniExb2cIYUBGF1100UVhQO4MiXk7g2FAlgK1fqXAYUA++OCDD/5hQObtDIl5O2JAjuM4juN4YkA22WSTTbZiQN7OkJi382JAhsS8nSExY0Auuuiii25jQNavFKj1q2NAfqVArV/pY0Anm2yyySZkQM+QmLczZGRAd4bEvJ2hZEAffPDBB99kQMdxHMdxHGVAb2dIzNtZZUAXXXTRRZdlQL9SoNav1GVAZ0jM2xkSZkAPPvjgg09mQLczJObtjGZAXylQ61fKZkAIH3zwwQdnQLAUqPUrRWdAWArU+pWCZ0AAAAAAAMBnQKj1KwVq/WdAUOtXCtQ6aED44IMPPnhoQKDWrxSotWhASMzbGRLzaEDwwQcffDBpQJi3MyTmbWlAQK1fKVCraUDooosuuuhpQJGYtzMkJmpAAAAAAAAAAACEDz744IP/P4QPPvjggw9Ao4suuuiiF0CEDz744IMfQLLJJptssiNAo4suuuiiJ0CUTTbZZJMrQIQPPvjggy9Auuiiiy66MUCyySabbLIzQKuqqqqqqjVAo4suuuiiN0CbbLLJJps5QJRNNtlkkztAjC666KKLPUCEDz744IM/QD744IMPvkBAuuiiiy66QUA22WSTTbZCQLLJJptsskNAL7rooouuRECrqqqqqqpFQCebbLLJpkZAo4suuuiiR0AffPDBB59IQJtssskmm0lAF1100UWXSkCUTTbZZJNLQBA++OCDj0xAjC666KKLTUAIH3zwwYdOQIQPPvjgg09AAAAAAABAUEA++OCDD75QQHzwwQcfPFFAuuiiiy66UUD44IMPPjhSQDbZZJNNtlJAdNFFF100U0CyySabbLJTQPHBBx98MFRAL7rooouuVEBtsskmmyxVQKuqqqqqqlVA6aKLLrooVkAnm2yyyaZWQGWTTTbZJFdAo4suuuiiV0Dhgw8++CBYQB988MEHn1hAXXTRRRcdWUCbbLLJJptZQNlkk002GVpAF1100UWXWkBVVVVVVRVbQJRNNtlkk1tA0kUXXXQRXEAQPvjgg49cQE422WSTDV1AjC666KKLXUDKJptssgleQAgffPDBh15ARhdddNEFX0CEDz744INfQOGDDz74AGBAAAAAAABAYEAffPDBB39gQD744IMPvmBAXXTRRRf9YEB88MEHHzxhQJtssskme2FAuuiiiy66YUDZZJNNNvlhQPjggw8+OGJAF1100UV3YkA22WSTTbZiQFVVVVVV9WJAdNFFF100Y0CTTTbZZHNjQLLJJptssmNA0kUXXXTxY0DxwQcffDBkQBA++OCDb2RAL7rooouuZEBONtlkk+1kQG2yySabLGVAjC666KJrZUCrqqqqqqplQMomm2yy6WVA6aKLLrooZkAIH3zwwWdmQCebbLLJpmZARhdddNHlZkBlk0022SRnQIQPPvjgY2dAo4suuuiiZ0DCBx988OFnQOGDDz74IGhAAAAAAABgaEAffPDBB59oQD744IMP3mhAXXTRRRcdaUB88MEHH1xpQJtssskmm2lAuuiiiy7aaUDZZJNNNhlqQPjggw8+WGpAF1100UWXakA22WSTTdZqQAAAAAAAAAAAf6VArV8pAEB/pUCtXykQQD744IMPPhhAf6VArV8pIEDfzpCYtzMkQD744IMPPihAniExb2dILEB/pUCtXykwQC+66KKLLjJA386QmLczNECP4ziO4zg2QD744IMPPjhA7gyJeTtDOkCeITFvZ0g8QE422WSTTT5Af6VArV8pQEDXrxSo9StBQC+66KKLLkJAh8S8nSExQ0DfzpCYtzNEQDfZZJNNNkVAj+M4juM4RkDn7QyJeTtHQD744IMPPkhAlgK1fqVASUDuDIl5O0NKQEYXXXTRRUtAniExb2dITED2KwVq/UpNQE422WSTTU5ApkCtXylQT0B/pUCtXylQQKuqqqqqqlBA168UqPUrUUADtX6lQK1RQC+66KKLLlJAW79SoNavUkCHxLydITFTQLPJJptsslNA386QmLczVEAL1PqVArVUQDfZZJNNNlVAY97OkJi3VUCP4ziO4zhWQLvooosuulZA5+0MiXk7V0AT83aGxLxXQD744IMPPlhAav1KgVq/WECWArV+pUBZQMIHH3zwwVlA7gyJeTtDWkAaEvN2hsRaQEYXXXTRRVtAchzHcRzHW0CeITFvZ0hcQMomm2yyyVxA9isFav1KXUAiMW9nSMxdQE422WSTTV5AejtDYt7OXkCmQK1fKVBfQNJFF1100V9Af6VArV8pYEAVqPUrBWpgQKuqqqqqqmBAQa1fKVDrYEDXrxSo9SthQG2yySabbGFAA7V+pUCtYUCZtzMk5u1hQC+66KKLLmJAxbydITFvYkBbv1Kg1q9iQPHBBx988GJAh8S8nSExY0Adx3Ecx3FjQLPJJptssmNASczbGRLzY0DfzpCYtzNkQHXRRRdddGRAC9T6lQK1ZECh1q8UqPVkQDfZZJNNNmVAzdsZEvN2ZUBj3s6QmLdlQPnggw8++GVAj+M4juM4ZkAl5u0MiXlmQLvooosuumZAUetXCtT6ZkDn7QyJeTtnQH3wwQcffGdAE/N2hsS8Z0Cp9SsFav1nQD744IMPPmhA1PqVArV+aEBq/UqBWr9oQAAAAAAAAGlAlgK1fqVAaUAsBWr9SoFpQMIHH3zwwWlAWArU+pUCakDuDIl5O0NqQIQPPvjgg2pAGhLzdobEakCwFKj1KwVrQEYXXXTRRWtA3BkS83aGa0AAAAAAAAAAADtDYt7OkABAO0Ni3s6QEEDYZJNNNtkYQDtDYt7OkCBACtT6lQK1JEDYZJNNNtkoQKf1KwVq/SxAO0Ni3s6QMECiiy666KIyQArU+pUCtTRAcRzHcRzHNkDYZJNNNtk4QECtXylQ6zpAp/UrBWr9PEAPPvjggw8/QDtDYt7OkEBAb2dIzNuZQUCiiy666KJCQNavFKj1q0NACtT6lQK1REA9+OCDD75FQHEcx3Ecx0ZApUCtXynQR0DYZJNNNtlIQAyJeTtD4klAQK1fKVDrSkB00UUXXfRLQKf1KwVq/UxA2xkS83YGTkAPPvjggw9PQCExb2dIDFBAO0Ni3s6QUEBVVVVVVRVRQG9nSMzbmVFAiXk7Q2IeUkCiiy666KJSQLydITFvJ1NA1q8UqPWrU0DwwQcffDBUQArU+pUCtVRAJObtDIk5VUA9+OCDD75VQFcK1PqVQlZAcRzHcRzHVkCLLrrooktXQKVArV8p0FdAv1Kg1q9UWEDYZJNNNtlYQPJ2hsS8XVlADIl5O0PiWUAmm2yyyWZaQECtXylQ61pAWr9SoNZvW0B00UUXXfRbQI3jOI7jeFxAp/UrBWr9XEDBBx988IFdQNsZEvN2Bl5A9SsFav2KXkAPPvjggw9fQChQ61cKlF9AITFvZ0gMYEAuuuiii05gQDtDYt7OkGBASMzbGRLTYEBVVVVVVRVhQGLezpCYV2FAb2dIzNuZYUB88MEHH9xhQIl5O0NiHmJAlQK1fqVgYkCiiy666KJiQK8UqPUr5WJAvJ0hMW8nY0DJJptssmljQNavFKj1q2NA4ziO4zjuY0DwwQcffDBkQP1KgVq/cmRACtT6lQK1ZEAXXXTRRfdkQCTm7QyJOWVAMW9nSMx7ZUA9+OCDD75lQEqBWr9SAGZAVwrU+pVCZkBkk0022YRmQHEcx3Ecx2ZAfqVArV8JZ0CLLrrooktnQJi3MyTmjWdApUCtXynQZ0CyySabbBJoQL9SoNavVGhAzNsZEvOWaEDYZJNNNtloQOXtDIl5G2lA8naGxLxdaUD//////59pQAyJeTtD4mlAGRLzdoYkakAmm2yyyWZqQDMk5u0MqWpAQK1fKVDrakBNNtlkky1rQFq/UqDWb2tAZ0jM2xmya0B00UUXXfRrQIBav1KgNmxAAAAAAAAAAAD44IMPPvgAQPjggw8++BBAdNFFF110GUD44IMPPvggQDbZZJNNNiVAdNFFF110KUCyySabbLItQPjggw8++DBAF1100UUXM0A22WSTTTY1QFVVVVVVVTdAdNFFF110OUCTTTbZZJM7QLLJJptssj1A0UUXXXTRP0D44IMPPvhAQAgffPDBB0JAF1100UUXQ0Amm2yyySZEQDbZZJNNNkVARhdddNFFRkBVVVVVVVVHQGSTTTbZZEhAdNFFF110SUCEDz744INKQJNNNtlkk0tAoosuuuiiTECyySabbLJNQMIHH3zwwU5A0UUXXXTRT0DwwQcffHBQQPjggw8++FBAAAAAAACAUUAIH3zwwQdSQA8++OCDj1JAF1100UUXU0AffPDBB59TQCabbLLJJlRALrrooouuVEA22WSTTTZVQD744IMPvlVARhdddNFFVkBNNtlkk81WQFVVVVVVVVdAXXTRRRfdV0Bkk0022WRYQGyyySab7FhAdNFFF110WUB88MEHH/xZQIQPPvjgg1pAiy666KILW0CTTTbZZJNbQJtssskmG1xAoosuuuiiXECqqqqqqipdQLLJJptssl1Auuiiiy46XkDCBx988MFeQMkmm2yySV9A0UUXXXTRX0BssskmmyxgQPDBBx98cGBAdNFFF120YED44IMPPvhgQHzwwQcfPGFAAAAAAACAYUCEDz744MNhQAgffPDBB2JAiy666KJLYkAPPvjgg49iQJNNNtlk02JAF1100UUXY0CbbLLJJltjQB988MEHn2NAo4suuujiY0Amm2yyySZkQKqqqqqqamRALrrooouuZECyySabbPJkQDbZZJNNNmVAuuiiiy56ZUA++OCDD75lQMIHH3zwAWZARhdddNFFZkDJJptssolmQE022WSTzWZA0UUXXXQRZ0BVVVVVVVVnQNlkk002mWdAXXTRRRfdZ0Dhgw8++CBoQGSTTTbZZGhA6KKLLrqoaEBssskmm+xoQPDBBx98MGlAdNFFF110aUD44IMPPrhpQHzwwQcf/GlAAAAAAABAakCEDz744INqQAcffPDBx2pAiy666KILa0APPvjgg09rQJNNNtlkk2tAF1100UXXa0CbbLLJJhtsQB988MEHX2xAoosuuuiibEAmm2yyyeZsQAAAAAAAAAAAtX6lQK1fAUC1fqVArV8RQBA++OCDDxpAtX6lQK1fIUBi3s6QmLclQBA++OCDDypAvZ0hMW9nLkC1fqVArV8xQIwuuuiiizNAYt7OkJi3NUA5juM4juM3QBA++OCDDzpA5u0MiXk7PEC9nSExb2c+QMomm2yySUBAtX6lQK1fQUCg1q8UqHVCQIwuuuiii0NAd4bEvJ2hREBi3s6QmLdFQE422WSTzUZAOY7jOI7jR0Ak5u0MiflIQBA++OCDD0pA+5UCtX4lS0Dm7QyJeTtMQNFFF110UU1AvZ0hMW9nTkCo9SsFan1PQMomm2yySVBAv1Kg1q/UUEC1fqVArV9RQKuqqqqq6lFAoNavFKh1UkCWArV+pQBTQIwuuuiii1NAgVq/UqAWVEB3hsS8naFUQG2yySabLFVAYt7OkJi3VUBYCtT6lUJWQE422WSTzVZAQ2LezpBYV0A5juM4juNXQC+66KKLblhAJObtDIn5WEAaEvN2hoRZQBA++OCDD1pABWr9SoGaWkD7lQK1fiVbQPDBBx98sFtA5u0MiXk7XEDcGRLzdsZcQNFFF110UV1Ax3Ecx3HcXUC9nSExb2deQLLJJpts8l5AqPUrBWp9X0DPkJi3MwRgQMomm2yySWBAxbydITGPYEC/UqDWr9RgQLrooosuGmFAtX6lQK1fYUCwFKj1K6VhQKuqqqqq6mFApUCtXykwYkCg1q8UqHViQJtssskmu2JAlgK1fqUAY0CRmLczJEZjQIwuuuiii2NAhsS8nSHRY0CBWr9SoBZkQHzwwQcfXGRAd4bEvJ2hZEByHMdxHOdkQG2yySabLGVAZ0jM2xlyZUBi3s6QmLdlQF100UUX/WVAWArU+pVCZkBToNavFIhmQE422WSTzWZASMzbGRITZ0BDYt7OkFhnQD744IMPnmdAOY7jOI7jZ0A0JObtDCloQC+66KKLbmhAKVDrVwq0aEAk5u0MifloQB988MEHP2lAGhLzdoaEaUAVqPUrBcppQBA++OCDD2pACtT6lQJVakAFav1KgZpqQAAAAAAA4GpA+5UCtX4la0D2KwVq/WprQPDBBx98sGtA61cK1Pr1a0Dm7QyJeTtsQOGDDz74gGxA3BkS83bGbEDXrxSo9QttQNFFF110UW1AzNsZEvOWbUAAAAAAAAAAAHIcx3EcxwFAchzHcRzHEUCrqqqqqqoaQHIcx3EcxyFAjuM4juM4JkCrqqqqqqoqQMhxHMdxHC9AchzHcRzHMUAAAAAAAAA0QI7jOI7jODZAHcdxHMdxOECrqqqqqqo6QDmO4ziO4zxAyHEcx3EcP0CrqqqqqqpAQHIcx3Ecx0FAOY7jOI7jQkAAAAAAAABEQMdxHMdxHEVAjuM4juM4RkBWVVVVVVVHQB3HcRzHcUhA5DiO4ziOSUCrqqqqqqpKQHIcx3Ecx0tAOY7jOI7jTEAAAAAAAABOQMhxHMdxHE9Ax3Ecx3EcUECrqqqqqqpQQI7jOI7jOFFAchzHcRzHUUBWVVVVVVVSQDmO4ziO41JAHcdxHMdxU0AAAAAAAABUQOQ4juM4jlRAx3Ecx3EcVUCrqqqqqqpVQI7jOI7jOFZAchzHcRzHVkBWVVVVVVVXQDmO4ziO41dAHcdxHMdxWEAAAAAAAABZQOQ4juM4jllAx3Ecx3EcWkCrqqqqqqpaQI/jOI7jOFtAchzHcRzHW0BWVVVVVVVcQDmO4ziO41xAHcdxHMdxXUAAAAAAAABeQOQ4juM4jl5AyHEcx3EcX0CrqqqqqqpfQMdxHMdxHGBAOY7jOI5jYECrqqqqqqpgQB3HcRzH8WBAjuM4juM4YUAAAAAAAIBhQHIcx3Ecx2FA5DiO4zgOYkBWVVVVVVViQMdxHMdxnGJAOY7jOI7jYkCrqqqqqipjQB3HcRzHcWNAjuM4juO4Y0AAAAAAAABkQHIcx3EcR2RA5DiO4ziOZEBWVVVVVdVkQMdxHMdxHGVAOY7jOI5jZUCrqqqqqqplQB3HcRzH8WVAjuM4juM4ZkAAAAAAAIBmQHIcx3Ecx2ZA5DiO4zgOZ0BWVVVVVVVnQMdxHMdxnGdAOY7jOI7jZ0CrqqqqqipoQB3HcRzHcWhAj+M4juO4aEAAAAAAAABpQHIcx3EcR2lA5DiO4ziOaUBWVVVVVdVpQMdxHMdxHGpAOY7jOI5jakCrqqqqqqpqQB3HcRzH8WpAj+M4juM4a0AAAAAAAIBrQHIcx3Ecx2tA5DiO4zgObEBWVVVVVVVsQMdxHMdxnGxAOY7jOI7jbECrqqqqqiptQB3HcRzHcW1Aj+M4juO4bUAAAAAAAABuQHIcx3EcR25AAAAAAAAAAAAuuuiiiy4CQC666KKLLhJARRdddNFFG0Auuuiiiy4iQLrooosuuiZARRdddNFFK0DQRRdddNEvQC666KKLLjJAdNFFF110NEC66KKLLro2QP///////zhARRdddNFFO0CLLrrooos9QNBFF1100T9Aiy666KILQUAuuuiiiy5CQNFFF110UUNAdNFFF110REAXXXTRRZdFQLrooosuukZAXHTRRRfdR0D///////9IQKKLLrroIkpARRdddNFFS0DooosuumhMQIsuuuiii01ALrrooouuTkDQRRdddNFPQLrooosuelBAiy666KILUUBddNFFF51RQC666KKLLlJA//////+/UkDRRRdddFFTQKKLLrro4lNAdNFFF110VEBFF1100QVVQBdddNFFl1VA6KKLLrooVkC66KKLLrpWQIsuuuiiS1dAXHTRRRfdV0Auuuiii25YQP///////1hA0UUXXXSRWUCiiy666CJaQHTRRRddtFpARRdddNFFW0AWXXTRRddbQOiiiy66aFxAueiiiy76XECLLrroootdQFx00UUXHV5ALrrooouuXkD//////z9fQNBFF1100V9A0UUXXXQxYEC66KKLLnpgQKKLLrrowmBAiy666KILYUB00UUXXVRhQF100UUXnWFARRdddNHlYUAuuuiiiy5iQBdddNFFd2JA//////+/YkDooosuughjQNFFF110UWNAuuiiiy6aY0Ciiy666OJjQIsuuuiiK2RAdNFFF110ZEBcdNFFF71kQEUXXXTRBWVALrroootOZUAXXXTRRZdlQP//////32VA6KKLLrooZkDRRRdddHFmQLrooosuumZAoosuuugCZ0CLLrrooktnQHTRRRddlGdAXHTRRRfdZ0BFF1100SVoQC666KKLbmhAF1100UW3aED///////9oQOiiiy66SGlA0UUXXXSRaUC56KKLLtppQKKLLrroImpAiy666KJrakB00UUXXbRqQFx00UUX/WpARRdddNFFa0Auuuiii45rQBZddNFF12tA//////8fbEDooosuumhsQNFFF110sWxAueiiiy76bECiiy666EJtQIsuuuiii21Ac9FFF13UbUBcdNFFFx1uQEUXXXTRZW5ALrrooouubkAWXXTRRfduQAAAAAAAAAAA61cK1PqVAkDrVwrU+pUSQOCDDz744BtA61cK1PqVIkDm7QyJeTsnQOCDDz744CtA7gyJeTtDMEDrVwrU+pUyQOiiiy666DRA5u0MiXk7N0DjOI7jOI45QOCDDz744DtA3s6QmLczPkDuDIl5O0NAQGyyySabbEFA61cK1PqVQkBq/UqBWr9DQOiiiy666ERAZ0jM2xkSRkDm7QyJeTtHQGSTTTbZZEhA4ziO4ziOSUBi3s6QmLdKQOCDDz744EtAXylQ61cKTUDezpCYtzNOQF100UUXXU9A7gyJeTtDUECtXylQ69dQQGyyySabbFFALAVq/UoBUkDrVwrU+pVSQKqqqqqqKlNAav1KgVq/U0ApUOtXClRUQOiiiy666FRAqPUrBWp9VUBnSMzbGRJWQCabbLLJplZA5u0MiXk7V0ClQK1fKdBXQGSTTTbZZFhAJObtDIn5WEDjOI7jOI5ZQKKLLrroIlpAYt7OkJi3WkAhMW9nSExbQOCDDz744FtAoNavFKh1XEBfKVDrVwpdQB988MEHn11A3s6QmLczXkCdITFvZ8heQF100UUXXV9AHMdxHMfxX0DuDIl5O0NgQE022WSTjWBArV8pUOvXYEANiXk7QyJhQGyyySabbGFAzNsZEvO2YUAsBWr9SgFiQIsuuuiiS2JA61cK1PqVYkBLgVq/UuBiQKqqqqqqKmNACtT6lQJ1Y0Bq/UqBWr9jQMkmm2yyCWRAKVDrVwpUZECJeTtDYp5kQOiiiy666GRASMzbGRIzZUCo9SsFan1lQAcffPDBx2VAZ0jM2xkSZkDHcRzHcVxmQCabbLLJpmZAhsS8nSHxZkDm7QyJeTtnQEUXXXTRhWdApUCtXynQZ0AFav1KgRpoQGSTTTbZZGhAxLydITGvaEAk5u0MifloQIMPPvjgQ2lA4ziO4ziOaUBDYt7OkNhpQKKLLrroImpAArV+pUBtakBi3s6QmLdqQMEHH3zwAWtAITFvZ0hMa0CBWr9SoJZrQOCDDz744GtAQK1fKVArbECg1q8UqHVsQAAAAAAAwGxAXylQ61cKbUC/UqDWr1RtQB988MEHn21AfqVArV/pbUDezpCYtzNuQD744IMPfm5AnSExb2fIbkD9SoFavxJvQF100UUXXW9AvJ0hMW+nb0AAAAAAAAAAAKj1KwVq/QJAqPUrBWr9EkB88MEHH3wcQKj1KwVq/SJAEvN2hsS8J0B88MEHH3wsQPN2hsS8nTBAqPUrBWr9MkBddNFFF101QBLzdobEvDdAx3Ecx3EcOkB88MEHH3w8QDFvZ0jM2z5A83aGxLydQEBONtlkk81BQKj1KwVq/UJAArV+pUAtREBddNFFF11FQLgzJObtjEZAEvN2hsS8R0Bssskmm+xIQMdxHMdxHEpAIjFvZ0hMS0B88MEHH3xMQNavFKj1q01AMW9nSMzbTkBGF1100QVQQPN2hsS8nVBAoNavFKg1UUBONtlkk81RQPuVArV+ZVJAqPUrBWr9UkBVVVVVVZVTQAK1fqVALVRAsBSo9SvFVEBddNFFF11VQArU+pUC9VVAuDMk5u2MVkBlk0022SRXQBLzdobEvFdAv1Kg1q9UWEBssskmm+xYQBoS83aGhFlAx3Ecx3EcWkB00UUXXbRaQCIxb2dITFtAz5CYtzPkW0B88MEHH3xcQClQ61cKFF1A1q8UqPWrXUCEDz744ENeQDFvZ0jM215A3s6QmLdzX0BGF1100QVgQBzHcRzHUWBA83aGxLydYEDKJptssulgQKDWrxSoNWFAd4bEvJ2BYUBONtlkk81hQCTm7QyJGWJA+5UCtX5lYkDRRRdddLFiQKj1KwVq/WJAf6VArV9JY0BVVVVVVZVjQCwFav1K4WNAArV+pUAtZEDZZJNNNnlkQLAUqPUrxWRAhsS8nSERZUBddNFFF11lQDQk5u0MqWVACtT6lQL1ZUDhgw8++EBmQLgzJObtjGZAjuM4juPYZkBlk0022SRnQDtDYt7OcGdAEvN2hsS8Z0DpoosuughoQL9SoNavVGhAlgK1fqWgaEBssskmm+xoQENi3s6QOGlAGhLzdoaEaUDwwQcffNBpQMdxHMdxHGpAniExb2doakB00UUXXbRqQEuBWr9SAGtAIjFvZ0hMa0D44IMPPphrQM+QmLcz5GtApUCtXykwbEB88MEHH3xsQFOg1q8UyGxAKVDrVwoUbUAAAAAAAGBtQNavFKj1q21ArV8pUOv3bUCEDz744ENuQFq/UqDWj25AMW9nSMzbbkAIH3zwwSdvQN7OkJi3c29AtX6lQK2/b0BGF1100QVwQDFvZ0jMK3BAAAAAAAAAAABlk0022WQDQGWTTTbZZBNAGF100UUXHUBlk0022WQjQD744IMPPihAGF100UUXLUD44IMPPvgwQGWTTTbZZDNA0kUXXXTRNUA++OCDDz44QKuqqqqqqjpAGF100UUXPUCEDz744IM/QPjggw8++EBAL7rooosuQkBlk0022WRDQJtssskmm0RA0kUXXXTRRUAIH3zwwQdHQD744IMPPkhAddFFF110SUCrqqqqqqpKQOGDDz744EtAGF100UUXTUBONtlkk01OQIQPPvjgg09AXXTRRRddUED44IMPPvhQQJRNNtlkk1FAL7rooosuUkDKJptssslSQGWTTTbZZFNAAAAAAAAAVECbbLLJJptUQDbZZJNNNlVA0kUXXXTRVUBtsskmm2xWQAgffPDBB1dAo4suuuiiV0A++OCDDz5YQNlkk0022VhAddFFF110WUAQPvjggw9aQKuqqqqqqlpARhdddNFFW0Dhgw8++OBbQHzwwQcffFxAGF100UUXXUCzySabbLJdQE422WSTTV5A6aKLLrroXkCEDz744INfQBA++OCDD2BAXXTRRRddYECrqqqqqqpgQPjggw8++GBARhdddNFFYUCUTTbZZJNhQOGDDz744GFAL7rooosuYkB88MEHH3xiQMomm2yyyWJAF1100UUXY0Blk0022WRjQLPJJptssmNAAAAAAAAAZEBONtlkk01kQJtssskmm2RA6aKLLrroZEA22WSTTTZlQIQPPvjgg2VA0kUXXXTRZUAffPDBBx9mQG2yySabbGZAuuiiiy66ZkAIH3zwwQdnQFZVVVVVVWdAo4suuuiiZ0DxwQcffPBnQD744IMPPmhAjC666KKLaEDZZJNNNtloQCebbLLJJmlAddFFF110aUDCBx988MFpQBA++OCDD2pAXXTRRRddakCrqqqqqqpqQPjggw8++GpARhdddNFFa0CUTTbZZJNrQOGDDz744GtAL7rooosubEB88MEHH3xsQMomm2yyyWxAGF100UUXbUBlk0022WRtQLPJJptssm1AAAAAAAAAbkBONtlkk01uQJtssskmm25A6aKLLrrobkA32WSTTTZvQIQPPvjgg29A0kUXXXTRb0AQPvjggw9wQDbZZJNNNnBAXXTRRRddcECEDz744INwQAAAAAAAAAAAIjFvZ0jMA0AiMW9nSMwTQLPJJptssh1AIjFvZ0jMI0Bq/UqBWr8oQLPJJptssi1A/kqBWr9SMUAiMW9nSMwzQEYXXXTRRTZAav1KgVq/OECP4ziO4zg7QLPJJptssj1A7FcK1PoVQED+SoFav1JBQBA++OCDj0JAIjFvZ0jMQ0A0JObtDAlFQEYXXXTRRUZAWArU+pWCR0Bq/UqBWr9IQH3wwQcf/ElAj+M4juM4S0Ch1q8UqHVMQLPJJptssk1AxbydITHvTkDsVwrU+hVQQHXRRRddtFBA/kqBWr9SUUCHxLydIfFRQBA++OCDj1JAmbczJOYtU0AiMW9nSMxTQKuqqqqqalRANCTm7QwJVUC9nSExb6dVQEYXXXTRRVZAz5CYtzPkVkBYCtT6lYJXQOGDDz74IFhAav1KgVq/WED0dobEvF1ZQH3wwQcf/FlABmr9SoGaWkCP4ziO4zhbQBhddNFF11tAodavFKh1XEAqUOtXChRdQLPJJptssl1APENi3s5QXkDFvJ0hMe9eQE422WSTjV9A7FcK1PoVYECwFKj1K2VgQHXRRRddtGBAOY7jOI4DYUD+SoFav1JhQMIHH3zwoWFAh8S8nSHxYUBLgVq/UkBiQBA++OCDj2JA1PqVArXeYkCZtzMk5i1jQF100UUXfWNAIjFvZ0jMY0Dn7QyJeRtkQKuqqqqqamRAcGdIzNu5ZEA0JObtDAllQPnggw8+WGVAvZ0hMW+nZUCCWr9SoPZlQEYXXXTRRWZAC9T6lQKVZkDPkJi3M+RmQJRNNtlkM2dAWArU+pWCZ0Adx3Ecx9FnQOGDDz74IGhApkCtXylwaEBq/UqBWr9oQC+66KKLDmlA9HaGxLxdaUC4MyTm7axpQH3wwQcf/GlAQa1fKVBLakAGav1KgZpqQMomm2yy6WpAj+M4juM4a0BToNavFIhrQBhddNFF12tA3BkS83YmbECh1q8UqHVsQGWTTTbZxGxAKlDrVwoUbUDuDIl5O2NtQLPJJptssm1AeIbEvJ0BbkA8Q2LezlBuQAEAAAAAoG5AxbydITHvbkCKeTtDYj5vQE422WSTjW9AE/N2hsTcb0DsVwrU+hVwQE422WSTPXBAsBSo9StlcEAS83aGxIxwQHXRRRddtHBA168UqPXbcEAAAAAAAAAAAN7OkJi3MwRA3s6QmLczFEBNNtlkk00eQN7OkJi3MyRAlgK1fqVAKUBNNtlkk00uQAK1fqVArTFA3s6QmLczNEC66KKLLro2QJYCtX6lQDlAcRzHcRzHO0BNNtlkk00+QBSo9SsFakBAArV+pUCtQUDwwQcffPBCQN7OkJi3M0RAzNsZEvN2RUC66KKLLrpGQKj1KwVq/UdAlgK1fqVASUCDDz744INKQHEcx3Ecx0tAXylQ61cKTUBNNtlkk01OQDtDYt7OkE9AFKj1KwVqUECLLrroogtRQAK1fqVArVFAeTtDYt5OUkDwwQcffPBSQGdIzNsZklNA3s6QmLczVEBVVVVVVdVUQMzbGRLzdlVAQ2LezpAYVkC66KKLLrpWQDFvZ0jMW1dAqPUrBWr9V0AffPDBB59YQJYCtX6lQFlADIl5O0PiWUCDDz744INaQPqVArV+JVtAcRzHcRzHW0DooosuumhcQF8pUOtXCl1A1q8UqPWrXUBNNtlkk01eQMS8nSEx715AO0Ni3s6QX0DZZJNNNhlgQBSo9SsFamBAUOtXCtS6YECLLrroogthQMdxHMdxXGFAArV+pUCtYUA++OCDD/5hQHk7Q2LeTmJAtX6lQK2fYkDwwQcffPBiQCwFav1KQWNAZ0jM2xmSY0Cjiy666OJjQN7OkJi3M2RAGRLzdoaEZEBVVVVVVdVkQJCYtzMkJmVAzNsZEvN2ZUAHH3zwwcdlQENi3s6QGGZAfqVArV9pZkC66KKLLrpmQPUrBWr9CmdAMW9nSMxbZ0Bssskmm6xnQKj1KwVq/WdA4ziO4zhOaEAffPDBB59oQFq/UqDW72hAlgK1fqVAaUDRRRdddJFpQAyJeTtD4mlASMzbGRIzakCDDz744INqQL9SoNav1GpA+pUCtX4la0A22WSTTXZrQHEcx3Ecx2tArV8pUOsXbEDooosuumhsQCTm7QyJuWxAXylQ61cKbUCbbLLJJlttQNavFKj1q21AEvN2hsT8bUBNNtlkk01uQIh5O0Ninm5AxLydITHvbkD//////z9vQDtDYt7OkG9AdobEvJ3hb0DZZJNNNhlwQHeGxLydQXBAFKj1KwVqcECyySabbJJwQFDrVwrUunBA7gyJeTvjcECLLrroogtxQClQ61cKNHFAAAAAAAAAAACbbLLJJpsEQJtssskmmxRA6KKLLrroHkCbbLLJJpskQMIHH3zwwSlA6KKLLrroLkAIH3zwwQcyQJtssskmmzRALrrooosuN0DCBx988ME5QFVVVVVVVTxA6KKLLrroPkA++OCDD75AQAgffPDBB0JA0UUXXXRRQ0CbbLLJJptEQGWTTTbZ5EVALrrooosuR0D44IMPPnhIQMIHH3zwwUlAiy666KILS0BVVVVVVVVMQB988MEHn01A6KKLLrroTkDZZJNNNhlQQD744IMPvlBAo4suuuhiUUAIH3zwwQdSQGyyySabrFJA0UUXXXRRU0A22WSTTfZTQJtssskmm1RAAAAAAABAVUBlk0022eRVQMomm2yyiVZALrrooosuV0CTTTbZZNNXQPjggw8+eFhAXXTRRRcdWUDCBx988MFZQCebbLLJZlpAiy666KILW0DwwQcffLBbQFVVVVVVVVxAuuiiiy76XEAffPDBB59dQIQPPvjgQ15A6KKLLrroXkBNNtlkk41fQNlkk002GWBAjC666KJrYEA++OCDD75gQPDBBx98EGFAo4suuuhiYUBVVVVVVbVhQAgffPDBB2JAuuiiiy5aYkBssskmm6xiQB988MEH/2JA0UUXXXRRY0CEDz744KNjQDbZZJNN9mNA6aKLLrpIZECbbLLJJptkQE022WST7WRAAAAAAABAZUCyySabbJJlQGWTTTbZ5GVAF1100UU3ZkDKJptssolmQHzwwQcf3GZALrrooosuZ0Dhgw8++IBnQJNNNtlk02dARhdddNElaED44IMPPnhoQKqqqqqqymhAXXTRRRcdaUAPPvjgg29pQMIHH3zwwWlAdNFFF10UakAnm2yyyWZqQNlkk002uWpAiy666KILa0A++OCDD15rQPDBBx98sGtAo4suuugCbEBVVVVVVVVsQAgffPDBp2xAuuiiiy76bEBssskmm0xtQB988MEHn21A0UUXXXTxbUCEDz744ENuQDbZZJNNlm5A6KKLLrrobkCbbLLJJjtvQE022WSTjW9AAAAAAADgb0DZZJNNNhlwQLLJJptsQnBAjC666KJrcEBlk0022ZRwQD744IMPvnBAF1100UXncEDwwQcffBBxQMomm2yyOXFAo4suuuhicUB88MEHH4xxQAAAAAAAAAAAWArU+pUCBUBYCtT6lQIVQIQPPvjggx9AWArU+pUCJUDuDIl5O0MqQIQPPvjggy9ADYl5O0NiMkBYCtT6lQI1QKOLLrroojdA7gyJeTtDOkA5juM4juM8QIQPPvjggz9AaEjM2xkSQUANiXk7Q2JCQLLJJptsskNAWArU+pUCRUD+SoFav1JGQKOLLrrookdASMzbGRLzSEDuDIl5O0NKQJRNNtlkk0tAOY7jOI7jTEDezpCYtzNOQIQPPvjgg09AFaj1KwVqUEBoSMzbGRJRQLrooosuulFADYl5O0NiUkBgKVDrVwpTQLLJJptsslNABWr9SoFaVEBYCtT6lQJVQKuqqqqqqlVA/kqBWr9SVkBQ61cK1PpWQKOLLrrooldA9isFav1KWEBIzNsZEvNYQJtssskmm1lA7gyJeTtDWkBBrV8pUOtaQJRNNtlkk1tA5u0MiXk7XEA5juM4juNcQIwuuuiii11A3s6QmLczXkAxb2dIzNteQIQPPvjgg19A61cK1PoVYEAVqPUrBWpgQD744IMPvmBAaEjM2xkSYUCRmLczJGZhQLrooosuumFA5DiO4zgOYkANiXk7Q2JiQDbZZJNNtmJAYClQ61cKY0CJeTtDYl5jQLLJJptssmNA3BkS83YGZEAFav1KgVpkQC+66KKLrmRAWArU+pUCZUCBWr9SoFZlQKuqqqqqqmVA1PqVArX+ZUD+SoFav1JmQCebbLLJpmZAUOtXCtT6ZkB6O0Ni3k5nQKOLLrroomdAzNsZEvP2Z0D2KwVq/UpoQB988MEHn2hASMzbGRLzaEByHMdxHEdpQJtssskmm2lAxbydITHvaUDuDIl5O0NqQBdddNFFl2pAQa1fKVDrakBq/UqBWj9rQJRNNtlkk2tAvZ0hMW/na0Dm7QyJeTtsQBA++OCDj2xAOY7jOI7jbEBi3s6QmDdtQIwuuuiii21AtX6lQK3fbUDezpCYtzNuQAgffPDBh25AMW9nSMzbbkBbv1Kg1i9vQIQPPvjgg29ArV8pUOvXb0DrVwrU+hVwQAAAAAAAQHBAFaj1KwVqcEApUOtXCpRwQD744IMPvnBAU6DWrxTocEBoSMzbGRJxQHzwwQcfPHFAkZi3MyRmcUCmQK1fKZBxQLrooosuunFAz5CYtzPkcUAAAAAAAAAAABWo9SsFagVAFaj1KwVqFUAQPvjggw8gQBWo9SsFaiVAGhLzdobEKkAQPvjggw8wQBLzdobEvDJAFaj1KwVqNUAYXXTRRRc4QBoS83aGxDpAHcdxHMdxPUAQPvjggw9AQJGYtzMkZkFAEvN2hsS8QkCUTTbZZBNEQBWo9SsFakVAlgK1fqXARkAYXXTRRRdIQJm3MyTmbUlAGhLzdobESkCcbLLJJhtMQB3HcRzHcU1AniExb2fITkAQPvjggw9QQFDrVwrUulBAkZi3MyRmUUDSRRdddBFSQBLzdobEvFJAU6DWrxRoU0CUTTbZZBNUQNT6lQK1vlRAFaj1KwVqVUBWVVVVVRVWQJYCtX6lwFZA168UqPVrV0AYXXTRRRdYQFgK1PqVwlhAmbczJOZtWUDaZJNNNhlaQBoS83aGxFpAW79SoNZvW0CcbLLJJhtcQNwZEvN2xlxAHcdxHMdxXUBedNFFFx1eQJ4hMW9nyF5A386QmLdzX0AQPvjggw9gQLAUqPUrZWBAUOtXCtS6YEDxwQcffBBhQJGYtzMkZmFAMW9nSMy7YUDSRRdddBFiQHIcx3EcZ2JAEvN2hsS8YkCzySabbBJjQFOg1q8UaGNA83aGxLy9Y0CUTTbZZBNkQDQk5u0MaWRA1PqVArW+ZEB10UUXXRRlQBWo9SsFamVAtX6lQK2/ZUBWVVVVVRVmQPYrBWr9amZAlgK1fqXAZkA32WSTTRZnQNevFKj1a2dAd4bEvJ3BZ0AYXXTRRRdoQLgzJObtbGhAWArU+pXCaED54IMPPhhpQJm3MyTmbWlAOY7jOI7DaUDaZJNNNhlqQHo7Q2LebmpAGhLzdobEakC76KKLLhprQFu/UqDWb2tA+5UCtX7Fa0CcbLLJJhtsQDxDYt7OcGxA3BkS83bGbEB98MEHHxxtQB3HcRzHcW1AvZ0hMW/HbUBedNFFFx1uQP5KgVq/cm5AniExb2fIbkA/+OCDDx5vQN/OkJi3c29Af6VArV/Jb0AQPvjggw9wQGApUOtXOnBAsBSo9StlcEAAAAAAAJBwQFDrVwrUunBAodavFKjlcEDxwQcffBBxQEGtXylQO3FAkZi3MyRmcUDhgw8++JBxQDFvZ0jMu3FAglq/UqDmcUDSRRdddBFyQCIxb2dIPHJAAAAAAAAAAADRRRdddNEFQNFFF1100RVAXXTRRRddIEDRRRdddNElQEUXXXTRRStAXXTRRRddMEAXXXTRRRczQNFFF1100TVAiy666KKLOEBFF1100UU7QP///////z1AXXTRRRddQEC66KKLLrpBQBdddNFFF0NAdNFFF110REDRRRdddNFFQC666KKLLkdAiy666KKLSEDooosuuuhJQEUXXXTRRUtAoosuuuiiTED///////9NQFx00UUXXU9AXXTRRRddUECLLrroogtRQLrooosuulFA6KKLLrpoUkAXXXTRRRdTQEUXXXTRxVNAdNFFF110VECiiy666CJVQNFFF1100VVAAAAAAACAVkAuuuiiiy5XQF100UUX3VdAiy666KKLWEC66KKLLjpZQOiiiy666FlAF1100UWXWkBFF1100UVbQHTRRRdd9FtAoosuuuiiXEDRRRdddFFdQP///////11ALrrooouuXkBcdNFFF11fQEUXXXTRBWBAXXTRRRddYEB00UUXXbRgQIsuuuiiC2FAo4suuuhiYUC66KKLLrphQNFFF110EWJA6KKLLrpoYkAAAAAAAMBiQBdddNFFF2NALrroootuY0BFF1100cVjQF100UUXHWRAdNFFF110ZECLLrroostkQKKLLrroImVAuuiiiy56ZUDRRRdddNFlQOiiiy66KGZAAAAAAACAZkAXXXTRRddmQC666KKLLmdARRdddNGFZ0BddNFFF91nQHTRRRddNGhAiy666KKLaECiiy666OJoQLrooosuOmlA0UUXXXSRaUDooosuuuhpQP//////P2pAF1100UWXakAuuuiii+5qQEUXXXTRRWtAXXTRRReda0B00UUXXfRrQIsuuuiiS2xAoosuuuiibEC66KKLLvpsQNFFF110UW1A6KKLLrqobUD///////9tQBdddNFFV25ALrrooouubkBFF1100QVvQFx00UUXXW9AdNFFF120b0BFF1100QVwQNFFF110MXBAXXTRRRddcEDooosuuohwQHTRRRddtHBAAAAAAADgcECLLrroogtxQBdddNFFN3FAo4suuuhicUAuuuiii45xQLrooosuunFARRdddNHlcUDRRRdddBFyQF100UUXPXJA6KKLLrpockB00UUXXZRyQAAAAAAAAAAAjuM4juM4BkCO4ziO4zgWQKqqqqqqqiBAjuM4juM4JkByHMdxHMcrQKqqqqqqqjBAHMdxHMdxM0CO4ziO4zg2QAAAAAAAADlAchzHcRzHO0DjOI7jOI4+QKqqqqqqqkBA4ziO4zgOQkAcx3Ecx3FDQFVVVVVV1URAjuM4juM4RkDHcRzHcZxHQAAAAAAAAElAOY7jOI5jSkByHMdxHMdLQKqqqqqqKk1A4ziO4ziOTkAcx3Ecx/FPQKqqqqqqqlBAx3Ecx3FcUUDjOI7jOA5SQAAAAAAAwFJAHMdxHMdxU0A5juM4jiNUQFVVVVVV1VRAchzHcRyHVUCO4ziO4zhWQKqqqqqq6lZAx3Ecx3GcV0DjOI7jOE5YQAAAAAAAAFlAHMdxHMexWUA5juM4jmNaQFVVVVVVFVtAchzHcRzHW0CO4ziO43hcQKqqqqqqKl1Ax3Ecx3HcXUDjOI7jOI5eQAAAAAAAQF9AHMdxHMfxX0Acx3Ecx1FgQKqqqqqqqmBAOY7jOI4DYUDHcRzHcVxhQFVVVVVVtWFA4ziO4zgOYkByHMdxHGdiQAAAAAAAwGJAjuM4juMYY0Acx3Ecx3FjQKqqqqqqymNAOY7jOI4jZEDHcRzHcXxkQFVVVVVV1WRA4ziO4zguZUByHMdxHIdlQAAAAAAA4GVAjuM4juM4ZkAcx3Ecx5FmQKqqqqqq6mZAOY7jOI5DZ0DHcRzHcZxnQFVVVVVV9WdA4ziO4zhOaEByHMdxHKdoQAAAAAAAAGlAjuM4juNYaUAcx3Ecx7FpQKqqqqqqCmpAOY7jOI5jakDHcRzHcbxqQFVVVVVVFWtA4ziO4zhua0ByHMdxHMdrQAAAAAAAIGxAjuM4juN4bEAcx3Ecx9FsQKqqqqqqKm1AOY7jOI6DbUDHcRzHcdxtQFVVVVVVNW5A4ziO4ziObkBxHMdxHOduQAAAAAAAQG9AjuM4juOYb0Acx3Ecx/FvQFVVVVVVJXBAHMdxHMdRcEDjOI7jOH5wQKqqqqqqqnBAchzHcRzXcEA5juM4jgNxQAAAAAAAMHFAx3Ecx3FccUCO4ziO44hxQFVVVVVVtXFAHMdxHMfhcUDjOI7jOA5yQKqqqqqqOnJAchzHcRxnckA5juM4jpNyQAAAAAAAwHJAx3Ecx3HsckAAAAAAAAAAAEuBWr9SoAZAS4Fav1KgFkD44IMPPvggQEuBWr9SoCZAniExb2dILED44IMPPvgwQCIxb2dIzDNAS4Fav1KgNkB00UUXXXQ5QJ4hMW9nSDxAx3Ecx3EcP0D44IMPPvhAQA2JeTtDYkJAIjFvZ0jMQ0A22WSTTTZFQEuBWr9SoEZAYClQ61cKSEB00UUXXXRJQIl5O0Ni3kpAniExb2dITECyySabbLJNQMdxHMdxHE9A7gyJeTtDUED44IMPPvhQQAO1fqVArVFADYl5O0NiUkAXXXTRRRdTQCIxb2dIzFNALAVq/UqBVEA22WSTTTZVQEGtXylQ61VAS4Fav1KgVkBVVVVVVVVXQGApUOtXClhAav1KgVq/WEB00UUXXXRZQH+lQK1fKVpAiXk7Q2LeWkCTTTbZZJNbQJ4hMW9nSFxAqPUrBWr9XECyySabbLJdQL2dITFvZ15Ax3Ecx3EcX0DRRRdddNFfQO4MiXk7Q2BA83aGxLydYED44IMPPvhgQP1KgVq/UmFAA7V+pUCtYUAIH3zwwQdiQA2JeTtDYmJAEvN2hsS8YkAXXXTRRRdjQBzHcRzHcWNAIjFvZ0jMY0Anm2yyySZkQCwFav1KgWRAMW9nSMzbZEA22WSTTTZlQDtDYt7OkGVAQa1fKVDrZUBGF1100UVmQEuBWr9SoGZAUOtXCtT6ZkBVVVVVVVVnQFu/UqDWr2dAYClQ61cKaEBlk0022WRoQGr9SoFav2hAb2dIzNsZaUB00UUXXXRpQHo7Q2LezmlAf6VArV8pakCEDz744INqQIl5O0Ni3mpAjuM4juM4a0CTTTbZZJNrQJm3MyTm7WtAniExb2dIbECjiy666KJsQKj1KwVq/WxArV8pUOtXbUCyySabbLJtQLgzJObtDG5AvZ0hMW9nbkDCBx988MFuQMdxHMdxHG9AzNsZEvN2b0DRRRdddNFvQOtXCtT6FXBA7gyJeTtDcEDwwQcffHBwQPN2hsS8nXBA9isFav3KcED44IMPPvhwQPuVArV+JXFA/UqBWr9ScUAAAAAAAIBxQAO1fqVArXFABWr9SoHacUAIH3zwwQdyQArU+pUCNXJADYl5O0NickAQPvjgg49yQBLzdobEvHJAFaj1KwXqckAXXXTRRRdzQBoS83aGRHNAAAAAAAAAAAAIH3zwwQcHQAgffPDBBxdARhdddNFFIUAIH3zwwQcnQMomm2yyySxARhdddNFFMUAnm2yyySY0QAgffPDBBzdA6aKLLrroOUDKJptsssk8QKuqqqqqqj9ARhdddNFFQUA22WSTTbZCQCebbLLJJkRAGF100UWXRUAIH3zwwQdHQPjggw8+eEhA6aKLLrroSUDaZJNNNllLQMomm2yyyUxAuuiiiy46TkCrqqqqqqpPQE422WSTjVBARhdddNFFUUA++OCDD/5RQDbZZJNNtlJAL7roootuU0Anm2yyySZUQB988MEH31RAGF100UWXVUAQPvjgg09WQAgffPDBB1dAAAAAAADAV0D44IMPPnhYQPHBBx98MFlA6aKLLrroWUDhgw8++KBaQNpkk002WVtA0kUXXXQRXEDKJptssslcQMIHH3zwgV1Auuiiiy46XkCzySabbPJeQKuqqqqqql9A0kUXXXQxYEBONtlkk41gQMomm2yy6WBARhdddNFFYUDCBx988KFhQD744IMP/mFAuuiiiy5aYkA22WSTTbZiQLPJJptsEmNAL7roootuY0CrqqqqqspjQCebbLLJJmRAo4suuuiCZEAffPDBB99kQJtssskmO2VAGF100UWXZUCUTTbZZPNlQBA++OCDT2ZAjC666KKrZkAIH3zwwQdnQIQPPvjgY2dAAAAAAADAZ0B88MEHHxxoQPjggw8+eGhAddFFF13UaEDxwQcffDBpQG2yySabjGlA6aKLLrroaUBlk0022URqQOGDDz74oGpAXXTRRRf9akDaZJNNNllrQFZVVVVVtWtA0kUXXXQRbEBONtlkk21sQMomm2yyyWxARhdddNElbUDCBx988IFtQD744IMP3m1Auuiiiy46bkA32WSTTZZuQLPJJpts8m5AL7roootOb0CrqqqqqqpvQJRNNtlkA3BA0kUXXXQxcEAQPvjgg19wQE422WSTjXBAjC666KK7cEDKJptssulwQAgffPDBF3FARhdddNFFcUCEDz744HNxQMIHH3zwoXFAAAAAAADQcUA++OCDD/5xQHzwwQcfLHJAuuiiiy5ackD44IMPPohyQDbZZJNNtnJAddFFF13kckCzySabbBJzQPHBBx98QHNAL7roootuc0Btsskmm5xzQAAAAAAAAAAAxLydITFvB0DEvJ0hMW8XQJNNNtlkkyFAxLydITFvJ0D1KwVq/UotQJNNNtlkkzFALAVq/UqBNEDEvJ0hMW83QFx00UUXXTpA9SsFav1KPUDHcRzHcRxAQJNNNtlkk0FAXylQ61cKQ0AsBWr9SoFEQPjggw8++EVAxLydITFvR0CQmLczJOZIQFx00UUXXUpAKVDrVwrUS0D1KwVq/UpNQMEHH3zwwU5Ax3Ecx3EcUECtXylQ69dQQJNNNtlkk1FAeTtDYt5OUkBfKVDrVwpTQEUXXXTRxVNALAVq/UqBVEAS83aGxDxVQPjggw8++FVA3s6QmLezVkDEvJ0hMW9XQKqqqqqqKlhAkJi3MyTmWEB2hsS8naFZQFx00UUXXVpAQ2LezpAYW0ApUOtXCtRbQA8++OCDj1xA9SsFav1KXUDbGRLzdgZeQMEHH3zwwV5Ap/UrBWp9X0DHcRzHcRxgQLrooosuemBArV8pUOvXYECg1q8UqDVhQJNNNtlkk2FAhsS8nSHxYUB5O0Ni3k5iQGyyySabrGJAXylQ61cKY0BSoNavFGhjQEUXXXTRxWNAOI7jOI4jZEAsBWr9SoFkQB988MEH32RAEvN2hsQ8ZUAFav1KgZplQPjggw8++GVA61cK1PpVZkDezpCYt7NmQNFFF110EWdAxLydITFvZ0C3MyTm7cxnQKqqqqqqKmhAnSExb2eIaECQmLczJOZoQIMPPvjgQ2lAdobEvJ2haUBp/UqBWv9pQFx00UUXXWpAUOtXCtS6akBDYt7OkBhrQDbZZJNNdmtAKVDrVwrUa0Acx3EcxzFsQA8++OCDj2xAArV+pUDtbED1KwVq/UptQOiiiy66qG1A2xkS83YGbkDOkJi3M2RuQMEHH3zwwW5AtH6lQK0fb0Cn9SsFan1vQJpssskm229Ax3Ecx3EccEBArV8pUEtwQLrooosuenBAMyTm7QypcECtXylQ69dwQCabbLLJBnFAoNavFKg1cUAZEvN2hmRxQJNNNtlkk3FADYl5O0PCcUCGxLydIfFxQAAAAAAAIHJAeTtDYt5OckDzdobEvH1yQGyyySabrHJA5u0MiXnbckBfKVDrVwpzQNlkk002OXNAUqDWrxRoc0DM2xkS85ZzQEUXXXTRxXNAv1Kg1q/0c0AAAAAAAAAAAIFav1Kg1gdAgVq/UqDWF0Dhgw8++OAhQIFav1Kg1idAITFvZ0jMLUDhgw8++OAxQDFvZ0jM2zRAgVq/UqDWN0DRRRdddNE6QCExb2dIzD1AOY7jOI5jQEDhgw8++OBBQIl5O0NiXkNAMW9nSMzbREDZZJNNNllGQIFav1Kg1kdAKVDrVwpUSUDRRRdddNFKQHk7Q2LeTkxAITFvZ0jMTUDJJptssklPQDmO4ziOY1BADYl5O0MiUUDhgw8++OBRQLV+pUCtn1JAiXk7Q2JeU0BddNFFFx1UQDFvZ0jM21RABWr9SoGaVUDZZJNNNllWQK1fKVDrF1dAgVq/UqDWV0BVVVVVVZVYQClQ61cKVFlA/UqBWr8SWkDRRRdddNFaQKVArV8pkFtAeTtDYt5OXEBNNtlkkw1dQCExb2dIzF1A9SsFav2KXkDJJptssklfQM+QmLczBGBAOY7jOI5jYECjiy666MJgQA2JeTtDImFAd4bEvJ2BYUDhgw8++OBhQEuBWr9SQGJAtX6lQK2fYkAffPDBB/9iQIl5O0NiXmNA83aGxLy9Y0BddNFFFx1kQMdxHMdxfGRAMW9nSMzbZECbbLLJJjtlQAVq/UqBmmVAb2dIzNv5ZUDZZJNNNllmQENi3s6QuGZArV8pUOsXZ0AXXXTRRXdnQIFav1Kg1mdA61cK1Po1aEBVVVVVVZVoQL9SoNav9GhAKVDrVwpUaUCTTTbZZLNpQP1KgVq/EmpAZ0jM2xlyakDRRRdddNFqQDtDYt7OMGtApUCtXymQa0APPvjgg+9rQHk7Q2LeTmxA4ziO4ziubEBNNtlkkw1tQLczJObtbG1AITFvZ0jMbUCLLrrooituQPUrBWr9im5AXylQ61fqbkDJJptssklvQDMk5u0MqW9Az5CYtzMEcECEDz744DNwQDmO4ziOY3BA7gyJeTuTcECjiy666MJwQFgK1PqV8nBADYl5O0MicUDCBx988FFxQHeGxLydgXFALAVq/UqxcUDhgw8++OBxQJYCtX6lEHJAS4Fav1JAckAAAAAAAHByQLV+pUCtn3JAav1KgVrPckAffPDBB/9yQNT6lQK1LnNAiXk7Q2Jec0A++OCDD45zQPN2hsS8vXNAqPUrBWrtc0BddNFFFx10QBLzdobETHRAAAAAAAAAAAA++OCDDz4IQD744IMPPhhALrrooosuIkA++OCDDz4oQE422WSTTS5ALrrooosuMkA22WSTTTY1QD744IMPPjhARhdddNFFO0BONtlkk00+QKuqqqqqqkBALrrooosuQkCyySabbLJDQDbZZJNNNkVAuuiiiy66RkA++OCDDz5IQMIHH3zwwUlARhdddNFFS0DKJptssslMQE422WSTTU5A0UUXXXTRT0CrqqqqqqpQQG2yySabbFFALrrooosuUkDwwQcffPBSQLLJJptsslNAdNFFF110VEA22WSTTTZVQPjggw8++FVAuuiiiy66VkB88MEHH3xXQD744IMPPlhAAAAAAAAAWUDCBx988MFZQIQPPvjgg1pARhdddNFFW0AIH3zwwQdcQMomm2yyyVxAjC666KKLXUBONtlkk01eQA8++OCDD19A0UUXXXTRX0DKJptssklgQKuqqqqqqmBAjC666KILYUBtsskmm2xhQE422WSTzWFALrrooosuYkAPPvjgg49iQPDBBx988GJA0UUXXXRRY0CyySabbLJjQJNNNtlkE2RAdNFFF110ZEBVVVVVVdVkQDbZZJNNNmVAF1100UWXZUD44IMPPvhlQNlkk002WWZAuuiiiy66ZkCbbLLJJhtnQHzwwQcffGdAXXTRRRfdZ0A++OCDDz5oQB988MEHn2hAAAAAAAAAaUDhgw8++GBpQMIHH3zwwWlAo4suuugiakCEDz744INqQGWTTTbZ5GpARhdddNFFa0Anm2yyyaZrQAgffPDBB2xA6aKLLrpobEDKJptssslsQKuqqqqqKm1AjC666KKLbUBtsskmm+xtQE422WSTTW5ALrrooouubkAPPvjggw9vQPDBBx98cG9A0UUXXXTRb0DZZJNNNhlwQMomm2yySXBAuuiiiy56cECrqqqqqqpwQJtssskm23BAjC666KILcUB88MEHHzxxQG2yySabbHFAXXTRRRedcUBONtlkk81xQD744IMP/nFALrrooosuckAffPDBB19yQA8++OCDj3JAAAAAAADAckDwwQcffPByQOGDDz74IHNA0UUXXXRRc0DCBx988IFzQLLJJptssnNAo4suuujic0CTTTbZZBN0QIQPPvjgQ3RAdNFFF110dEBlk0022aR0QAAAAAAAAAAA+5UCtX6lCED7lQK1fqUYQHzwwQcffCJA+5UCtX6lKEB6O0Ni3s4uQHzwwQcffDJAPENi3s6QNUD7lQK1fqU4QLrooosuujtAejtDYt7OPkAdx3Ecx/FAQHzwwQcffEJA3BkS83YGREA8Q2LezpBFQJtssskmG0dA+5UCtX6lSEBbv1Kg1i9KQLrooosuuktAGhLzdoZETUB6O0Ni3s5OQG2yySabLFBAHcdxHMfxUEDM2xkS87ZRQHzwwQcffFJALAVq/UpBU0DcGRLzdgZUQIwuuuiiy1RAPENi3s6QVUDrVwrU+lVWQJtssskmG1dAS4Fav1LgV0D7lQK1fqVYQKuqqqqqallAW79SoNYvWkAL1PqVAvVaQLrooosuultAav1KgVp/XEAaEvN2hkRdQMomm2yyCV5AejtDYt7OXkAqUOtXCpRfQG2yySabLGBAxbydITGPYEAdx3Ecx/FgQHTRRRddVGFAzNsZEvO2YUAk5u0MiRliQHzwwQcffGJA1PqVArXeYkAsBWr9SkFjQIQPPvjgo2NA3BkS83YGZEA0JObtDGlkQIwuuuiiy2RA5DiO4zguZUA8Q2LezpBlQJRNNtlk82VA61cK1PpVZkBDYt7OkLhmQJtssskmG2dA83aGxLx9Z0BLgVq/UuBnQKOLLrroQmhA+5UCtX6laEBToNavFAhpQKuqqqqqamlAA7V+pUDNaUBbv1Kg1i9qQLPJJptskmpAC9T6lQL1akBi3s6QmFdrQLrooosuumtAEvN2hsQcbEBq/UqBWn9sQMIHH3zw4WxAGhLzdoZEbUByHMdxHKdtQMomm2yyCW5AIjFvZ0hsbkB6O0Ni3s5uQNJFF110MW9AKlDrVwqUb0CCWr9SoPZvQG2yySabLHBAmbczJOZdcEDFvJ0hMY9wQPHBBx98wHBAHcdxHMfxcEBJzNsZEiNxQHTRRRddVHFAoNavFKiFcUDM2xkS87ZxQPjggw8+6HFAJObtDIkZckBQ61cK1EpyQHzwwQcffHJAqPUrBWqtckDU+pUCtd5yQAAAAAAAEHNALAVq/UpBc0BYCtT6lXJzQIQPPvjgo3NAsBSo9SvVc0DcGRLzdgZ0QAgffPDBN3RANCTm7QxpdEBgKVDrV5p0QIwuuuiiy3RAuDMk5u38dEAAAAAAAAAAALczJObtDAlAtzMk5u0MGUDJJptssskiQLczJObtDClApUCtXylQL0DJJptssskyQECtXylQ6zVAtzMk5u0MOUAuuuiiiy48QKVArV8pUD9AjuM4juM4QUDJJptssslCQAVq/UqBWkRAQK1fKVDrRUB88MEHH3xHQLczJObtDElA8naGxLydSkAuuuiiiy5MQGn9SoFav01ApUCtXylQT0DwwQcffHBQQI7jOI7jOFFALAVq/UoBUkDJJptssslSQGdIzNsZklNABWr9SoFaVECiiy666CJVQECtXylQ61VA3s6QmLezVkB88MEHH3xXQBkS83aGRFhAtzMk5u0MWUBVVVVVVdVZQPJ2hsS8nVpAkJi3MyRmW0Auuuiiiy5cQMzbGRLz9lxAaf1KgVq/XUAHH3zwwYdeQKVArV8pUF9AITFvZ0gMYEDwwQcffHBgQL9SoNav1GBAjuM4juM4YUBddNFFF51hQCwFav1KAWJA+pUCtX5lYkDJJptsssliQJi3MyTmLWNAZ0jM2xmSY0A22WSTTfZjQAVq/UqBWmRA1PqVArW+ZECiiy666CJlQHEcx3Ech2VAQK1fKVDrZUAPPvjgg09mQN7OkJi3s2ZArV8pUOsXZ0B88MEHH3xnQEqBWr9S4GdAGRLzdoZEaEDooosuuqhoQLczJObtDGlAhsS8nSFxaUBVVVVVVdVpQCTm7QyJOWpA8naGxLydakDBBx988AFrQJCYtzMkZmtAXylQ61fKa0Auuuiiiy5sQP1KgVq/kmxAzNsZEvP2bECabLLJJlttQGn9SoFav21AOI7jOI4jbkAHH3zwwYduQNavFKj1625ApUCtXylQb0B00UUXXbRvQCExb2dIDHBAiXk7Q2I+cEDwwQcffHBwQFgK1PqVonBAv1Kg1q/UcEAmm2yyyQZxQI7jOI7jOHFA9SsFav1qcUBddNFFF51xQMS8nSExz3FALAVq/UoBckCTTTbZZDNyQPqVArV+ZXJAYt7OkJiXckDJJptssslyQDFvZ0jM+3JAmLczJOYtc0AAAAAAAGBzQGdIzNsZknNAzpCYtzPEc0A22WSTTfZzQJ0hMW9nKHRABWr9SoFadEBssskmm4x0QNT6lQK1vnRAO0Ni3s7wdECiiy666CJ1QArU+pUCVXVAAAAAAAAAAAB00UUXXXQJQHTRRRdddBlAF1100UUXI0B00UUXXXQpQNFFF1100S9AF1100UUXM0BGF1100UU2QHTRRRdddDlAoosuuuiiPEDRRRdddNE/QAAAAAAAgEFAF1100UUXQ0Auuuiii65EQEYXXXTRRUZAXXTRRRfdR0B00UUXXXRJQIsuuuiiC0tAoosuuuiiTEC66KKLLjpOQNFFF1100U9AdNFFF120UEAAAAAAAIBRQIsuuuiiS1JAF1100UUXU0Cjiy666OJTQC666KKLrlRAuuiiiy56VUBGF1100UVWQNFFF110EVdAXXTRRRfdV0DooosuuqhYQHTRRRdddFlAAAAAAABAWkCLLrroogtbQBdddNFF11tAoosuuuiiXEAuuuiii25dQLrooosuOl5ARRdddNEFX0DRRRdddNFfQC666KKLTmBAdNFFF120YEC66KKLLhphQAAAAAAAgGFARhdddNHlYUCLLrrooktiQNFFF110sWJAF1100UUXY0BddNFFF31jQKOLLrro4mNA6KKLLrpIZEAuuuiii65kQHTRRRddFGVAuuiiiy56ZUAAAAAAAOBlQEYXXXTRRWZAiy666KKrZkDRRRdddBFnQBdddNFFd2dAXXTRRRfdZ0Cjiy666EJoQOiiiy66qGhALrrooosOaUB00UUXXXRpQLrooosu2mlAAAAAAABAakBFF1100aVqQIsuuuiiC2tA0UUXXXRxa0AXXXTRRddrQF100UUXPWxAoosuuuiibEDooosuughtQC666KKLbm1AdNFFF13UbUC66KKLLjpuQAAAAAAAoG5ARRdddNEFb0CLLrroomtvQNFFF1100W9Aiy666KIbcEAuuuiii05wQNFFF110gXBAdNFFF120cEAXXXTRRedwQLrooosuGnFAXXTRRRdNcUAAAAAAAIBxQKOLLrrosnFARhdddNHlcUDooosuuhhyQIsuuuiiS3JALrrooot+ckDRRRdddLFyQHTRRRdd5HJAF1100UUXc0C66KKLLkpzQF100UUXfXNAAAAAAACwc0Cjiy666OJzQEYXXXTRFXRA6KKLLrpIdECLLrroont0QC666KKLrnRA0UUXXXThdEB00UUXXRR1QBdddNFFR3VAuuiiiy56dUBddNFFF611QAAAAAAAAAAAMW9nSMzbCUAxb2dIzNsZQGWTTTbZZCNAMW9nSMzbKUB/pUCtXykwQGWTTTbZZDNAS4Fav1KgNkAxb2dIzNs5QBdddNFFFz1Af6VArV8pQEByHMdxHMdBQGWTTTbZZENAWArU+pUCRUBLgVq/UqBGQD744IMPPkhAMW9nSMzbSUAk5u0MiXlLQBdddNFFF01ACtT6lQK1TkB/pUCtXylQQPjggw8++FBAchzHcRzHUUDrVwrU+pVSQGWTTTbZZFNA3s6QmLczVEBYCtT6lQJVQNFFF1100VVAS4Fav1KgVkDEvJ0hMW9XQD744IMPPlhAtzMk5u0MWUAxb2dIzNtZQKuqqqqqqlpAJObtDIl5W0CeITFvZ0hcQBdddNFFF11AkZi3MyTmXUAK1PqVArVeQIQPPvjgg19Af6VArV8pYEA7Q2LezpBgQPjggw8++GBAtX6lQK1fYUByHMdxHMdhQC666KKLLmJA61cK1PqVYkCo9SsFav1iQGWTTTbZZGNAIjFvZ0jMY0DezpCYtzNkQJtssskmm2RAWArU+pUCZUAVqPUrBWplQNFFF1100WVAjuM4juM4ZkBLgVq/UqBmQAgffPDBB2dAxLydITFvZ0CBWr9SoNZnQD744IMPPmhA+5UCtX6laEC3MyTm7QxpQHTRRRdddGlAMW9nSMzbaUDuDIl5O0NqQKuqqqqqqmpAZ0jM2xkSa0Ak5u0MiXlrQOGDDz744GtAniExb2dIbEBav1Kg1q9sQBdddNFFF21A1PqVArV+bUCRmLczJOZtQE022WSTTW5ACtT6lQK1bkDHcRzHcRxvQIQPPvjgg29AQK1fKVDrb0B/pUCtXylwQF100UUXXXBAO0Ni3s6QcEAaEvN2hsRwQPjggw8++HBA168UqPUrcUC1fqVArV9xQJNNNtlkk3FAchzHcRzHcUBQ61cK1PpxQC666KKLLnJADYl5O0NickDrVwrU+pVyQMomm2yyyXJAqPUrBWr9ckCGxLydITFzQGWTTTbZZHNAQ2LezpCYc0AiMW9nSMxzQAAAAAAAAHRA3s6QmLczdEC9nSExb2d0QJtssskmm3RAeTtDYt7OdEBYCtT6lQJ1QDbZZJNNNnVAFaj1KwVqdUDzdobEvJ11QNFFF1100XVAsBSo9SsFdkAAAAAAAAAAAO4MiXk7QwpA7gyJeTtDGkCyySabbLIjQO4MiXk7QypAFaj1KwVqMECyySabbLIzQFDrVwrU+jZA7gyJeTtDOkCMLrrooos9QBWo9SsFakBA5DiO4zgOQkCyySabbLJDQIFav1KgVkVAUOtXCtT6RkAffPDBB59IQO4MiXk7Q0pAvZ0hMW/nS0CMLrroootNQFu/UqDWL09AFaj1KwVqUEB88MEHHzxRQOQ4juM4DlJAS4Fav1LgUkCyySabbLJTQBoS83aGhFRAgVq/UqBWVUDpoosuuihWQFDrVwrU+lZAuDMk5u3MV0AffPDBB59YQIfEvJ0hcVlA7gyJeTtDWkBVVVVVVRVbQL2dITFv51tAJObtDIm5XECMLrroootdQPN2hsS8XV5AW79SoNYvX0Dhgw8++ABgQBWo9SsFamBASMzbGRLTYEB88MEHHzxhQLAUqPUrpWFA5DiO4zgOYkAXXXTRRXdiQEuBWr9S4GJAf6VArV9JY0CyySabbLJjQObtDIl5G2RAGhLzdoaEZEBONtlkk+1kQIFav1KgVmVAtX6lQK2/ZUDpoosuuihmQB3HcRzHkWZAUOtXCtT6ZkCEDz744GNnQLgzJObtzGdA61cK1Po1aEAffPDBB59oQFOg1q8UCGlAh8S8nSFxaUC66KKLLtppQO4MiXk7Q2pAIjFvZ0isakBVVVVVVRVrQIl5O0NifmtAvZ0hMW/na0DxwQcffFBsQCTm7QyJuWxAWArU+pUibUCMLrrooottQL9SoNav9G1A83aGxLxdbkAnm2yyycZuQFu/UqDWL29AjuM4juOYb0Dhgw8++ABwQPuVArV+NXBAFaj1KwVqcEAvuuiii55wQEjM2xkS03BAYt7OkJgHcUB88MEHHzxxQJYCtX6lcHFAsBSo9SulcUDKJptsstlxQOQ4juM4DnJA/UqBWr9CckAXXXTRRXdyQDFvZ0jMq3JAS4Fav1LgckBlk0022RRzQH+lQK1fSXNAmbczJOZ9c0CyySabbLJzQMzbGRLz5nNA5u0MiXkbdEAAAAAAAFB0QBoS83aGhHRANCTm7Qy5dEBONtlkk+10QGhIzNsZInVAgVq/UqBWdUCbbLLJJot1QLV+pUCtv3VAz5CYtzP0dUDpoosuuih2QAO1fqVAXXZAAAAAAAAAAACrqqqqqqoKQKuqqqqqqhpAAAAAAAAAJECrqqqqqqoqQKuqqqqqqjBAAAAAAAAANEBWVVVVVVU3QKuqqqqqqjpAAAAAAAAAPkCrqqqqqqpAQFZVVVVVVUJAAAAAAAAARECrqqqqqqpFQFZVVVVVVUdAAAAAAAAASUCrqqqqqqpKQFZVVVVVVUxAAAAAAAAATkCrqqqqqqpPQKuqqqqqqlBAAAAAAACAUUBWVVVVVVVSQKuqqqqqKlNAAAAAAAAAVEBWVVVVVdVUQKuqqqqqqlVAAAAAAACAVkBWVVVVVVVXQKuqqqqqKlhAAAAAAAAAWUBWVVVVVdVZQKuqqqqqqlpAAAAAAACAW0BWVVVVVVVcQKuqqqqqKl1AAAAAAAAAXkBWVVVVVdVeQKuqqqqqql9AAAAAAABAYECrqqqqqqpgQFZVVVVVFWFAAAAAAACAYUCrqqqqquphQFZVVVVVVWJAAAAAAADAYkCrqqqqqipjQFZVVVVVlWNAAAAAAAAAZECrqqqqqmpkQFZVVVVV1WRAAAAAAABAZUCrqqqqqqplQFZVVVVVFWZAAAAAAACAZkCrqqqqqupmQFZVVVVVVWdAAAAAAADAZ0CrqqqqqipoQFZVVVVVlWhAAAAAAAAAaUCrqqqqqmppQFZVVVVV1WlAAAAAAABAakCrqqqqqqpqQFZVVVVVFWtAAAAAAACAa0CrqqqqquprQFZVVVVVVWxAAAAAAADAbECrqqqqqiptQFZVVVVVlW1AAAAAAAAAbkCrqqqqqmpuQFZVVVVV1W5AAAAAAABAb0CrqqqqqqpvQKuqqqqqCnBAAAAAAABAcEBWVVVVVXVwQKuqqqqqqnBAAAAAAADgcEBWVVVVVRVxQKuqqqqqSnFAAAAAAACAcUBWVVVVVbVxQKuqqqqq6nFAAAAAAAAgckBWVVVVVVVyQKuqqqqqinJAAAAAAADAckBWVVVVVfVyQKuqqqqqKnNAAAAAAABgc0BWVVVVVZVzQKuqqqqqynNAAAAAAAAAdEBWVVVVVTV0QKuqqqqqanRAAAAAAACgdEBWVVVVVdV0QKuqqqqqCnVAAAAAAABAdUBWVVVVVXV1QKuqqqqqqnVAAAAAAADgdUBWVVVVVRV2QKuqqqqqSnZAAAAAAACAdkBWVVVVVbV2QAAAAAAAAAAAZ0jM2xkSC0BnSMzbGRIbQE022WSTTSRAZ0jM2xkSK0BArV8pUOswQE022WSTTTRAWr9SoNavN0BnSMzbGRI7QHTRRRdddD5AQK1fKVDrQEDHcRzHcZxCQE022WSTTURA1PqVArX+RUBav1Kg1q9HQOGDDz74YElAZ0jM2xkSS0DtDIl5O8NMQHTRRRdddE5A/UqBWr8SUEBArV8pUOtQQIQPPvjgw1FAx3Ecx3GcUkAK1PqVAnVTQE022WSTTVRAkJi3MyQmVUDU+pUCtf5VQBdddNFF11ZAWr9SoNavV0CdITFvZ4hYQOGDDz74YFlAJObtDIk5WkBnSMzbGRJbQKqqqqqq6ltA7QyJeTvDXEAxb2dIzJtdQHTRRRdddF5AtzMk5u1MX0D9SoFavxJgQB988MEHf2BAQK1fKVDrYEBi3s6QmFdhQIQPPvjgw2FApUCtXykwYkDHcRzHcZxiQOiiiy66CGNACtT6lQJ1Y0AsBWr9SuFjQE022WSTTWRAb2dIzNu5ZECQmLczJCZlQLLJJptskmVA1PqVArX+ZUD1KwVq/WpmQBdddNFF12ZAOY7jOI5DZ0Bav1Kg1q9nQHzwwQcfHGhAnSExb2eIaEC/UqDWr/RoQOGDDz74YGlAArV+pUDNaUAk5u0MiTlqQEUXXXTRpWpAZ0jM2xkSa0CJeTtDYn5rQKqqqqqq6mtAzNsZEvNWbEDtDIl5O8NsQA8++OCDL21AMW9nSMybbUBSoNavFAhuQHTRRRdddG5AlQK1fqXgbkC3MyTm7UxvQNlkk002uW9A/UqBWr8ScECO4ziO40hwQB988MEHf3BAsBSo9Su1cEBArV8pUOtwQNFFF110IXFAYt7OkJhXcUDzdobEvI1xQIQPPvjgw3FAFKj1KwX6cUClQK1fKTByQDbZZJNNZnJAx3Ecx3GcckBYCtT6ldJyQOiiiy66CHNAeTtDYt4+c0AK1PqVAnVzQJtssskmq3NALAVq/Urhc0C8nSExbxd0QE022WSTTXRA3s6QmLeDdEBvZ0jM27l0QAAAAAAA8HRAkJi3MyQmdUAhMW9nSFx1QLLJJptsknVAQ2LezpDIdUDU+pUCtf51QGSTTTbZNHZA9SsFav1qdkCGxLydIaF2QBdddNFF13ZAqPUrBWoNd0AAAAAAAAAAACTm7QyJeQtAJObtDIl5G0CbbLLJJpskQCTm7QyJeStA1q8UqPUrMUCbbLLJJps0QGApUOtXCjhAJObtDIl5O0Dooosuuug+QNavFKj1K0FAOY7jOI7jQkCbbLLJJptEQP1KgVq/UkZAYClQ61cKSEDCBx988MFJQCTm7QyJeUtAhsS8nSExTUDooosuuuhOQKVArV8pUFBA1q8UqPUrUUAIH3zwwQdSQDmO4ziO41JAav1KgVq/U0CbbLLJJptUQMzbGRLzdlVA/UqBWr9SVkAuuuiiiy5XQGApUOtXClhAkZi3MyTmWEDCBx988MFZQPN2hsS8nVpAJObtDIl5W0BVVVVVVVVcQIbEvJ0hMV1AtzMk5u0MXkDooosuuuheQBoS83aGxF9ApUCtXylQYEA++OCDD75gQNavFKj1K2FAb2dIzNuZYUAIH3zwwQdiQKDWrxSodWJAOY7jOI7jYkDRRRdddFFjQGr9SoFav2NAArV+pUAtZECbbLLJJptkQDQk5u0MCWVAzNsZEvN2ZUBlk0022eRlQP1KgVq/UmZAlgK1fqXAZkAuuuiiiy5nQMdxHMdxnGdAYClQ61cKaED44IMPPnhoQJGYtzMk5mhAKVDrVwpUaUDCBx988MFpQFq/UqDWL2pA83aGxLydakCLLrroogtrQCTm7QyJeWtAvZ0hMW/na0BVVVVVVVVsQO4MiXk7w2xAhsS8nSExbUAffPDBB59tQLczJObtDG5AUOtXCtR6bkDooosuuuhuQIFav1KgVm9AGhLzdobEb0DZZJNNNhlwQKVArV8pUHBAchzHcRyHcEA++OCDD75wQArU+pUC9XBA1q8UqPUrcUCjiy666GJxQG9nSMzbmXFAO0Ni3s7QcUAIH3zwwQdyQNT6lQK1PnJAoNavFKh1ckBssskmm6xyQDmO4ziO43JABWr9SoEac0DRRRdddFFzQJ4hMW9niHNAav1KgVq/c0A22WSTTfZzQAK1fqVALXRAz5CYtzNkdECbbLLJJpt0QGdIzNsZ0nRANCTm7QwJdUAAAAAAAEB1QMzbGRLzdnVAmLczJOatdUBlk0022eR1QDFvZ0jMG3ZA/UqBWr9SdkDKJptssol2QJYCtX6lwHZAYt7OkJj3dkAuuuiiiy53QPuVArV+ZXdAAAAAAAAAAADhgw8++OALQOGDDz744BtA6aKLLrroJEDhgw8++OArQG2yySabbDFA6aKLLrroNEBlk0022WQ4QOGDDz744DtAXXTRRRddP0Btsskmm2xBQKuqqqqqKkNA6aKLLrroREAnm2yyyaZGQGWTTTbZZEhAo4suuugiSkDhgw8++OBLQB988MEHn01AXXTRRRddT0BONtlkk41QQG2yySabbFFAjC666KJLUkCrqqqqqipTQMomm2yyCVRA6aKLLrroVEAIH3zwwcdVQCebbLLJplZARhdddNGFV0Blk0022WRYQIQPPvjgQ1lAo4suuugiWkDCBx988AFbQOGDDz744FtAAAAAAADAXEAffPDBB59dQD744IMPfl5AXXTRRRddX0A++OCDDx5gQE422WSTjWBAXXTRRRf9YEBtsskmm2xhQHzwwQcf3GFAjC666KJLYkCbbLLJJrtiQKuqqqqqKmNAuuiiiy6aY0DKJptssglkQNlkk002eWRA6aKLLrroZED44IMPPlhlQAgffPDBx2VAF1100UU3ZkAnm2yyyaZmQDbZZJNNFmdARhdddNGFZ0BVVVVVVfVnQGWTTTbZZGhAdNFFF13UaECEDz744ENpQJNNNtlks2lAo4suuugiakCyySabbJJqQMIHH3zwAWtA0UUXXXRxa0Dhgw8++OBrQPHBBx98UGxAAAAAAADAbEAQPvjggy9tQB988MEHn21AL7rooosObkA++OCDD35uQE422WST7W5AXXTRRRddb0Btsskmm8xvQD744IMPHnBARhdddNFVcEBONtlkk41wQFVVVVVVxXBAXXTRRRf9cEBlk0022TRxQG2yySabbHFAdNFFF12kcUB88MEHH9xxQIQPPvjgE3JAjC666KJLckCTTTbZZINyQJtssskmu3JAo4suuujyckCrqqqqqipzQLLJJptsYnNAuuiiiy6ac0DCBx988NFzQMomm2yyCXRA0UUXXXRBdEDZZJNNNnl0QOGDDz74sHRA6aKLLrrodEDxwQcffCB1QPjggw8+WHVAAAAAAACQdUAIH3zwwcd1QBA++OCD/3VAF1100UU3dkAffPDBB292QCebbLLJpnZAL7rooovedkA22WSTTRZ3QD744IMPTndARhdddNGFd0BONtlkk713QAAAAAAAAAAAniExb2dIDECeITFvZ0gcQDbZZJNNNiVAniExb2dILEADtX6lQK0xQDbZZJNNNjVAav1KgVq/OECeITFvZ0g8QNJFF1100T9AA7V+pUCtQUAdx3Ecx3FDQDbZZJNNNkVAUOtXCtT6RkBq/UqBWr9IQIQPPvjgg0pAniExb2dITEC4MyTm7QxOQNJFF1100U9A9isFav3KUEADtX6lQK1RQBA++OCDj1JAHcdxHMdxU0AqUOtXClRUQDbZZJNNNlVAQ2LezpAYVkBQ61cK1PpWQF100UUX3VdAav1KgVq/WEB3hsS8naFZQIQPPvjgg1pAkZi3MyRmW0CeITFvZ0hcQKuqqqqqKl1AuDMk5u0MXkDFvJ0hMe9eQNJFF1100V9Ab2dIzNtZYED2KwVq/cpgQHzwwQcfPGFAA7V+pUCtYUCJeTtDYh5iQBA++OCDj2JAlgK1fqUAY0Adx3Ecx3FjQKOLLrro4mNAKlDrVwpUZECwFKj1K8VkQDbZZJNNNmVAvZ0hMW+nZUBDYt7OkBhmQMomm2yyiWZAUOtXCtT6ZkDXrxSo9WtnQF100UUX3WdA5DiO4zhOaEBq/UqBWr9oQPHBBx98MGlAd4bEvJ2haUD+SoFavxJqQIQPPvjgg2pAC9T6lQL1akCRmLczJGZrQBhddNFF12tAniExb2dIbEAk5u0MiblsQKuqqqqqKm1AMW9nSMybbUC4MyTm7QxuQD744IMPfm5AxbydITHvbkBLgVq/UmBvQNJFF1100W9ALAVq/UohcEBvZ0jM21lwQLPJJptsknBA9isFav3KcEA5juM4jgNxQHzwwQcfPHFAwFKg1q90cUADtX6lQK1xQEYXXXTR5XFAiXk7Q2IeckDM2xkS81ZyQBA++OCDj3JAU6DWrxTIckCWArV+pQBzQNlkk002OXNAHcdxHMdxc0BgKVDrV6pzQKOLLrro4nNA5u0MiXkbdEAqUOtXClR0QG2yySabjHRAsBSo9SvFdEDzdobEvP10QDbZZJNNNnVAejtDYt5udUC9nSExb6d1QAAAAAAA4HVAQ2LezpAYdkCHxLydIVF2QMomm2yyiXZADYl5O0PCdkBQ61cK1Pp2QJRNNtlkM3dA168UqPVrd0AaEvN2hqR3QF100UUX3XdAodavFKgVeEAAAAAAAAAAAFq/UqDWrwxAWr9SoNavHECEDz744IMlQFq/UqDWryxAmLczJObtMUCEDz744IM1QG9nSMzbGTlAWr9SoNavPECjiy666CJAQJi3MyTm7UFAjuM4juO4Q0CEDz744INFQHk7Q2LeTkdAb2dIzNsZSUBkk0022eRKQFq/UqDWr0xAUOtXCtR6TkCjiy666CJQQJ0hMW9nCFFAmLczJObtUUCTTTbZZNNSQI7jOI7juFNAiXk7Q2KeVECEDz744INVQH6lQK1faVZAeTtDYt5OV0B00UUXXTRYQG9nSMzbGVlAav1KgVr/WUBkk0022eRaQF8pUOtXyltAWr9SoNavXEBVVVVVVZVdQFDrVwrUel5ASoFav1JgX0Cjiy666CJgQKDWrxSolWBAnSExb2cIYUCbbLLJJnthQJi3MyTm7WFAlgK1fqVgYkCTTTbZZNNiQJCYtzMkRmNAjuM4juO4Y0CLLrrooitkQIl5O0NinmRAhsS8nSERZUCEDz744INlQIFav1Kg9mVAfqVArV9pZkB88MEHH9xmQHk7Q2LeTmdAd4bEvJ3BZ0B00UUXXTRoQHEcx3Ecp2hAb2dIzNsZaUBssskmm4xpQGr9SoFa/2lAZ0jM2xlyakBkk0022eRqQGLezpCYV2tAXylQ61fKa0BddNFFFz1sQFq/UqDWr2xAVwrU+pUibUBVVVVVVZVtQFKg1q8UCG5AUOtXCtR6bkBNNtlkk+1uQEqBWr9SYG9ASMzbGRLTb0Cjiy666CJwQCExb2dIXHBAoNavFKiVcEAffPDBB89wQJ0hMW9nCHFAHMdxHMdBcUCbbLLJJntxQBoS83aGtHFAmLczJObtcUAXXXTRRSdyQJYCtX6lYHJAFKj1KwWackCTTTbZZNNyQBLzdobEDHNAkJi3MyRGc0APPvjgg39zQI7jOI7juHNADYl5O0Pyc0CLLrrooit0QArU+pUCZXRAiXk7Q2KedEAHH3zwwdd0QIbEvJ0hEXVABWr9SoFKdUCEDz744IN1QAK1fqVAvXVAgVq/UqD2dUAAAAAAADB2QH6lQK1faXZA/UqBWr+idkB88MEHH9x2QPqVArV+FXdAeTtDYt5Od0D44IMPPoh3QHeGxLydwXdA9SsFav36d0B00UUXXTR4QPN2hsS8bXhAAAAAAAAAAAAXXXTRRRcNQBdddNFFFx1A0UUXXXTRJUAXXXTRRRctQC666KKLLjJA0UUXXXTRNUB00UUXXXQ5QBdddNFFFz1AXXTRRRddQEAuuuiiiy5CQAAAAAAAAERA0UUXXXTRRUCjiy666KJHQHTRRRdddElARhdddNFFS0AXXXTRRRdNQOiiiy666E5AXXTRRRddUEBGF1100UVRQC666KKLLlJAF1100UUXU0AAAAAAAABUQOmiiy666FRA0UUXXXTRVUC66KKLLrpWQKOLLrrooldAiy666KKLWEB00UUXXXRZQF100UUXXVpARhdddNFFW0Auuuiiiy5cQBdddNFFF11AAAAAAAAAXkDooosuuuheQNFFF1100V9AXXTRRRddYEDRRRdddNFgQEYXXXTRRWFAuuiiiy66YUAuuuiiiy5iQKOLLrroomJAF1100UUXY0CLLrroootjQAAAAAAAAGRAdNFFF110ZEDpoosuuuhkQF100UUXXWVA0UUXXXTRZUBGF1100UVmQLrooosuumZALrrooosuZ0Cjiy666KJnQBdddNFFF2hAiy666KKLaEAAAAAAAABpQHTRRRdddGlA6KKLLrroaUBddNFFF11qQNFFF1100WpARhdddNFFa0C66KKLLrprQC666KKLLmxAo4suuuiibEAXXXTRRRdtQIsuuuiii21AAAAAAAAAbkB00UUXXXRuQOiiiy666G5AXXTRRRddb0DRRRdddNFvQKOLLrroInBAXXTRRRddcEAXXXTRRZdwQNFFF1100XBAiy666KILcUBGF1100UVxQAAAAAAAgHFAuuiiiy66cUB00UUXXfRxQC666KKLLnJA6aKLLrpockCjiy666KJyQF100UUX3XJAF1100UUXc0DRRRdddFFzQIsuuuiii3NARhdddNHFc0AAAAAAAAB0QLrooosuOnRAdNFFF110dEAuuuiii650QOmiiy666HRAo4suuugidUBddNFFF111QBdddNFFl3VA0UUXXXTRdUCLLrroogt2QEYXXXTRRXZAAAAAAACAdkC66KKLLrp2QHTRRRdd9HZALrrooosud0Dpoosuumh3QKOLLrroondAXXTRRRfdd0AXXXTRRRd4QNFFF110UXhAiy666KKLeEBGF1100cV4QAAAAAAAAAAA1PqVArV+DUDU+pUCtX4dQB988MEHHyZA1PqVArV+LUDEvJ0hMW8yQB988MEHHzZAejtDYt7OOUDU+pUCtX49QBdddNFFl0BAxLydITFvQkByHMdxHEdEQB988MEHH0ZAzNsZEvP2R0B6O0Ni3s5JQCebbLLJpktA1PqVArV+TUCBWr9SoFZPQBdddNFFl1BA7gyJeTuDUUDEvJ0hMW9SQJtssskmW1NAchzHcRxHVEBIzNsZEjNVQB988MEHH1ZA9isFav0KV0DM2xkS8/ZXQKOLLrro4lhAejtDYt7OWUBQ61cK1LpaQCebbLLJpltA/UqBWr+SXEDU+pUCtX5dQKuqqqqqal5AgVq/UqBWX0AsBWr9SiFgQBdddNFFl2BAA7V+pUANYUDuDIl5O4NhQNlkk002+WFAxLydITFvYkCwFKj1K+ViQJtssskmW2NAhsS8nSHRY0ByHMdxHEdkQF100UUXvWRASMzbGRIzZUA0JObtDKllQB988MEHH2ZACtT6lQKVZkD2KwVq/QpnQOGDDz74gGdAzNsZEvP2Z0C4MyTm7WxoQKOLLrro4mhAjuM4juNYaUB6O0Ni3s5pQGWTTTbZRGpAUOtXCtS6akA7Q2LezjBrQCebbLLJpmtAEvN2hsQcbED9SoFav5JsQOmiiy66CG1A1PqVArV+bUC/UqDWr/RtQKuqqqqqam5AlgK1fqXgbkCBWr9SoFZvQG2yySabzG9ALAVq/UohcEAiMW9nSFxwQBdddNFFl3BADYl5O0PScEADtX6lQA1xQPjggw8+SHFA7gyJeTuDcUDkOI7jOL5xQNlkk002+XFAz5CYtzM0ckDEvJ0hMW9yQLrooosuqnJAsBSo9SvlckClQK1fKSBzQJtssskmW3NAkZi3MySWc0CGxLydIdFzQHzwwQcfDHRAchzHcRxHdEBnSMzbGYJ0QF100UUXvXRAU6DWrxT4dEBIzNsZEjN1QD744IMPbnVANCTm7QypdUApUOtXCuR1QB988MEHH3ZAFaj1KwVadkAK1PqVApV2QAAAAAAA0HZA9isFav0Kd0DrVwrU+kV3QOGDDz74gHdA168UqPW7d0DM2xkS8/Z3QMIHH3zwMXhAuDMk5u1seECtXylQ66d4QKOLLrro4nhAmbczJOYdeUAAAAAAAAAAAJGYtzMk5g1AkZi3MyTmHUBtsskmm2wmQJGYtzMk5i1AW79SoNavMkBtsskmm2w2QH+lQK1fKTpAkZi3MyTmPUDSRRdddNFAQFu/UqDWr0JA5DiO4ziOREBtsskmm2xGQPYrBWr9SkhAf6VArV8pSkAIH3zwwQdMQJGYtzMk5k1AGhLzdobET0DSRRdddNFQQJYCtX6lwFFAW79SoNavUkAffPDBB59TQOQ4juM4jlRAqPUrBWp9VUBtsskmm2xWQDFvZ0jMW1dA9isFav1KWEC66KKLLjpZQH+lQK1fKVpAQ2LezpAYW0AIH3zwwQdcQMzbGRLz9lxAkZi3MyTmXUBWVVVVVdVeQBoS83aGxF9Ab2dIzNtZYEDSRRdddNFgQDQk5u0MSWFAlgK1fqXAYUD44IMPPjhiQFu/UqDWr2JAvZ0hMW8nY0AffPDBB59jQIFav1KgFmRA5DiO4ziOZEBGF1100QVlQKj1KwVqfWVACtT6lQL1ZUBtsskmm2xmQM+QmLcz5GZAMW9nSMxbZ0CUTTbZZNNnQPYrBWr9SmhAWArU+pXCaEC66KKLLjppQB3HcRzHsWlAf6VArV8pakDhgw8++KBqQENi3s6QGGtApkCtXymQa0AIH3zwwQdsQGr9SoFaf2xAzNsZEvP2bEAvuuiii25tQJGYtzMk5m1A83aGxLxdbkBWVVVVVdVuQLgzJObtTG9AGhLzdobEb0A++OCDDx5wQG9nSMzbWXBAoNavFKiVcEDSRRdddNFwQAO1fqVADXFANCTm7QxJcUBlk0022YRxQJYCtX6lwHFAx3Ecx3H8cUD44IMPPjhyQClQ61cKdHJAW79SoNavckCMLrrooutyQL2dITFvJ3NA7gyJeTtjc0AffPDBB59zQFDrVwrU2nNAgVq/UqAWdECzySabbFJ0QOQ4juM4jnRAFaj1KwXKdEBGF1100QV1QHeGxLydQXVAqPUrBWp9dUDZZJNNNrl1QArU+pUC9XVAPENi3s4wdkBtsskmm2x2QJ4hMW9nqHZAz5CYtzPkdkAAAAAAACB3QDFvZ0jMW3dAYt7OkJiXd0CUTTbZZNN3QMW8nSExD3hA9isFav1KeEAnm2yyyYZ4QFgK1PqVwnhAiXk7Q2L+eEC66KKLLjp5QOtXCtT6dXlAAAAAAAAAAABNNtlkk00OQE022WSTTR5Auuiiiy66JkBNNtlkk00uQPDBBx988DJAuuiiiy66NkCDDz744IM6QE022WSTTT5Aiy666KILQUDwwQcffPBCQFVVVVVV1URAuuiiiy66RkAffPDBB59IQIMPPvjgg0pA6KKLLrpoTEBNNtlkk01OQNlkk002GVBAiy666KILUUA++OCDD/5RQPDBBx988FJAo4suuujiU0BVVVVVVdVUQAcffPDBx1VAuuiiiy66VkBssskmm6xXQB988MEHn1hA0UUXXXSRWUCDDz744INaQDbZZJNNdltA6KKLLrpoXECbbLLJJltdQE022WSTTV5A//////8/X0DZZJNNNhlgQLLJJptskmBAiy666KILYUBlk0022YRhQD744IMP/mFAF1100UV3YkDwwQcffPBiQMkmm2yyaWNAo4suuujiY0B88MEHH1xkQFVVVVVV1WRALrroootOZUAHH3zwwcdlQOGDDz74QGZAuuiiiy66ZkCTTTbZZDNnQGyyySabrGdARRdddNElaEAffPDBB59oQPjggw8+GGlA0UUXXXSRaUCqqqqqqgpqQIMPPvjgg2pAXXTRRRf9akA22WSTTXZrQA8++OCD72tA6KKLLrpobEDBBx988OFsQJtssskmW21AdNFFF13UbUBNNtlkk01uQCabbLLJxm5A//////8/b0DZZJNNNrlvQNlkk002GXBARhdddNFVcECyySabbJJwQB988MEHz3BAiy666KILcUD44IMPPkhxQGWTTTbZhHFA0UUXXXTBcUA++OCDD/5xQKqqqqqqOnJAF1100UV3ckCEDz744LNyQPDBBx988HJAXXTRRRctc0DJJptssmlzQDbZZJNNpnNAo4suuujic0APPvjggx90QHzwwQcfXHRA6KKLLrqYdEBVVVVVVdV0QMIHH3zwEXVALrroootOdUCbbLLJJot1QAcffPDBx3VAdNFFF10EdkDhgw8++EB2QE022WSTfXZAuuiiiy66dkAmm2yyyfZ2QJNNNtlkM3dAAAAAAABwd0Bssskmm6x3QNlkk0026XdARRdddNEleECyySabbGJ4QB988MEHn3hAiy666KLbeED44IMPPhh5QGSTTTbZVHlA0UUXXXSReUA++OCDD855QAAAAAAAAAAACtT6lQK1DkAK1PqVArUeQAgffPDBBydACtT6lQK1LkCGxLydITEzQAgffPDBBzdAiXk7Q2LeOkAK1PqVArU+QEYXXXTRRUFAhsS8nSExQ0DHcRzHcRxFQAgffPDBB0dASMzbGRLzSECJeTtDYt5KQMkmm2yyyUxACtT6lQK1TkClQK1fKVBQQEYXXXTRRVFA5u0MiXk7UkCGxLydITFTQCebbLLJJlRAx3Ecx3EcVUBnSMzbGRJWQAgffPDBB1dAqPUrBWr9V0BIzNsZEvNYQOiiiy666FlAiXk7Q2LeWkApUOtXCtRbQMkmm2yyyVxAav1KgVq/XUAK1PqVArVeQKqqqqqqql9ApUCtXylQYED1KwVq/cpgQEYXXXTRRWFAlgK1fqXAYUDm7QyJeTtiQDbZZJNNtmJAhsS8nSExY0DWrxSo9atjQCebbLLJJmRAd4bEvJ2hZEDHcRzHcRxlQBdddNFFl2VAZ0jM2xkSZkC3MyTm7YxmQAgffPDBB2dAWArU+pWCZ0Co9SsFav1nQPjggw8+eGhASMzbGRLzaECYtzMk5m1pQOiiiy666GlAOY7jOI5jakCJeTtDYt5qQNlkk002WWtAKVDrVwrUa0B5O0Ni3k5sQMkmm2yyyWxAGhLzdoZEbUBq/UqBWr9tQLrooosuOm5ACtT6lQK1bkBav1Kg1i9vQKqqqqqqqm9A/UqBWr8ScEClQK1fKVBwQE022WSTjXBA9SsFav3KcECeITFvZwhxQEYXXXTRRXFA7gyJeTuDcUCWArV+pcBxQD744IMP/nFA5u0MiXk7ckCO4ziO43hyQDbZZJNNtnJA3s6QmLfzckCGxLydITFzQC666KKLbnNA1q8UqPWrc0B+pUCtX+lzQCebbLLJJnRAz5CYtzNkdEB3hsS8naF0QB988MEH33RAx3Ecx3EcdUBvZ0jM21l1QBdddNFFl3VAv1Kg1q/UdUBnSMzbGRJ2QA8++OCDT3ZAtzMk5u2MdkBfKVDrV8p2QAgffPDBB3dAsBSo9StFd0BYCtT6lYJ3QAAAAAAAwHdAqPUrBWr9d0BQ61cK1Dp4QPjggw8+eHhAoNavFKi1eEBIzNsZEvN4QPDBBx98MHlAmLczJOZteUBArV8pUKt5QOiiiy666HlAkZi3MyQmekAAAAAAAAAAAMdxHMdxHA9Ax3Ecx3EcH0BVVVVVVVUnQMdxHMdxHC9AHMdxHMdxM0BVVVVVVVU3QI7jOI7jODtAx3Ecx3EcP0AAAAAAAIBBQBzHcRzHcUNAOY7jOI5jRUBVVVVVVVVHQHIcx3EcR0lAjuM4juM4S0CrqqqqqipNQMdxHMdxHE9AchzHcRyHUEAAAAAAAIBRQI7jOI7jeFJAHMdxHMdxU0CrqqqqqmpUQDmO4ziOY1VAx3Ecx3FcVkBVVVVVVVVXQOM4juM4TlhAchzHcRxHWUAAAAAAAEBaQI7jOI7jOFtAHMdxHMcxXECrqqqqqipdQDmO4ziOI15Ax3Ecx3EcX0CrqqqqqgpgQHIcx3Ech2BAOY7jOI4DYUAAAAAAAIBhQMdxHMdx/GFAjuM4juN4YkBVVVVVVfViQBzHcRzHcWNA4ziO4zjuY0CrqqqqqmpkQHIcx3Ec52RAOY7jOI5jZUAAAAAAAOBlQMdxHMdxXGZAjuM4juPYZkBVVVVVVVVnQBzHcRzH0WdA4ziO4zhOaECrqqqqqspoQHIcx3EcR2lAOY7jOI7DaUAAAAAAAEBqQMdxHMdxvGpAjuM4juM4a0BVVVVVVbVrQBzHcRzHMWxA4ziO4ziubECrqqqqqiptQHIcx3Ecp21AOY7jOI4jbkAAAAAAAKBuQMdxHMdxHG9AjuM4juOYb0CrqqqqqgpwQI7jOI7jSHBAchzHcRyHcEBVVVVVVcVwQDmO4ziOA3FAHMdxHMdBcUAAAAAAAIBxQOM4juM4vnFAx3Ecx3H8cUCrqqqqqjpyQI7jOI7jeHJAchzHcRy3ckBVVVVVVfVyQDmO4ziOM3NAHMdxHMdxc0AAAAAAALBzQOM4juM47nNAx3Ecx3EsdECrqqqqqmp0QI7jOI7jqHRAchzHcRzndEBVVVVVVSV1QDmO4ziOY3VAHMdxHMehdUAAAAAAAOB1QOM4juM4HnZAx3Ecx3FcdkCrqqqqqpp2QI7jOI7j2HZAchzHcRwXd0BVVVVVVVV3QDmO4ziOk3dAHMdxHMfRd0AAAAAAABB4QOM4juM4TnhAx3Ecx3GMeECrqqqqqsp4QI7jOI7jCHlAchzHcRxHeUBVVVVVVYV5QDmO4ziOw3lAHMdxHMcBekAAAAAAAEB6QOM4juM4fnpAAAAAAAAAAACEDz744IMPQIQPPvjggx9Ao4suuuiiJ0CEDz744IMvQLLJJptssjNAo4suuuiiN0CUTTbZZJM7QIQPPvjggz9Auuiiiy66QUCyySabbLJDQKuqqqqqqkVAo4suuuiiR0CbbLLJJptJQJRNNtlkk0tAjC666KKLTUCEDz744INPQD744IMPvlBAuuiiiy66UUA22WSTTbZSQLLJJptsslNAL7rooouuVECrqqqqqqpVQCebbLLJplZAo4suuuiiV0AffPDBB59YQJtssskmm1lAF1100UWXWkCUTTbZZJNbQBA++OCDj1xAjC666KKLXUAIH3zwwYdeQIQPPvjgg19AAAAAAABAYEA++OCDD75gQHzwwQcfPGFAuuiiiy66YUD44IMPPjhiQDbZZJNNtmJAdNFFF100Y0CyySabbLJjQPHBBx98MGRAL7rooouuZEBtsskmmyxlQKuqqqqqqmVA6aKLLrooZkAnm2yyyaZmQGWTTTbZJGdAo4suuuiiZ0Dhgw8++CBoQB988MEHn2hAXXTRRRcdaUCbbLLJJptpQNlkk002GWpAF1100UWXakBVVVVVVRVrQJRNNtlkk2tA0kUXXXQRbEAQPvjgg49sQE422WSTDW1AjC666KKLbUDKJptssgluQAgffPDBh25ARhdddNEFb0CEDz744INvQOGDDz74AHBAAAAAAABAcEAffPDBB39wQD744IMPvnBAXXTRRRf9cEB88MEHHzxxQJtssskme3FAuuiiiy66cUDZZJNNNvlxQPjggw8+OHJAF1100UV3ckA22WSTTbZyQFVVVVVV9XJAdNFFF100c0CTTTbZZHNzQLLJJptssnNA0kUXXXTxc0DxwQcffDB0QBA++OCDb3RAL7rooouudEBONtlkk+10QG2yySabLHVAjC666KJrdUCrqqqqqqp1QMomm2yy6XVA6aKLLroodkAIH3zwwWd2QCebbLLJpnZARhdddNHldkBlk0022SR3QIQPPvjgY3dAo4suuuiid0DCBx988OF3QOGDDz74IHhAAAAAAABgeEAffPDBB594QD744IMP3nhAXXTRRRcdeUB88MEHH1x5QJtssskmm3lAuuiiiy7aeUDZZJNNNhl6QPjggw8+WHpAF1100UWXekA22WSTTdZ6QAAAAAAAAAAAQK1fKVDrD0BArV8pUOsfQPDBBx988CdAQK1fKVDrL0BIzNsZEvMzQPDBBx988DdAmLczJObtO0BArV8pUOs/QHTRRRdd9EFASMzbGRLzQ0Acx3Ecx/FFQPDBBx988EdAxLydITHvSUCYtzMk5u1LQGyyySab7E1AQK1fKVDrT0AK1PqVAvVQQHTRRRdd9FFA3s6QmLfzUkBIzNsZEvNTQLLJJpts8lRAHMdxHMfxVUCGxLydIfFWQPDBBx988FdAWr9SoNbvWEDEvJ0hMe9ZQC666KKL7lpAmLczJObtW0ACtX6lQO1cQGyyySab7F1A1q8UqPXrXkBArV8pUOtfQFVVVVVVdWBACtT6lQL1YEC/UqDWr3RhQHTRRRdd9GFAKVDrVwp0YkDezpCYt/NiQJNNNtlkc2NASMzbGRLzY0D9SoFav3JkQLLJJpts8mRAZ0jM2xlyZUAcx3Ecx/FlQNFFF110cWZAhsS8nSHxZkA7Q2LeznBnQPDBBx988GdApUCtXylwaEBav1Kg1u9oQA8++OCDb2lAxLydITHvaUB5O0Ni3m5qQC666KKL7mpA4ziO4zhua0CYtzMk5u1rQE022WSTbWxAArV+pUDtbEC3MyTm7WxtQGyyySab7G1AITFvZ0hsbkDWrxSo9etuQIsuuuiia29AQK1fKVDrb0D6lQK1fjVwQFVVVVVVdXBAsBSo9Su1cEAK1PqVAvVwQGSTTTbZNHFAv1Kg1q90cUAaEvN2hrRxQHTRRRdd9HFAzpCYtzM0ckApUOtXCnRyQIQPPvjgs3JA3s6QmLfzckA4juM4jjNzQJNNNtlkc3NA7gyJeTuzc0BIzNsZEvNzQKKLLrroMnRA/UqBWr9ydEBYCtT6lbJ0QLLJJpts8nRADIl5O0MydUBnSMzbGXJ1QMIHH3zwsXVAHMdxHMfxdUB2hsS8nTF2QNFFF110cXZALAVq/UqxdkCGxLydIfF2QOCDDz74MHdAO0Ni3s5wd0CWArV+pbB3QPDBBx988HdASoFav1IweEClQK1fKXB4QAAAAAAAsHhAWr9SoNbveEC0fqVArS95QA8++OCDb3lAav1KgVqveUDEvJ0hMe95QB588MEHL3pAeTtDYt5uekDU+pUCta56QC666KKL7npAiHk7Q2Iue0AAAAAAAAAAAH+lQK1fKRBAf6VArV8pIEA++OCDDz4oQH+lQK1fKTBA386QmLczNEA++OCDDz44QJ4hMW9nSDxAf6VArV8pQEAvuuiiiy5CQN/OkJi3M0RAj+M4juM4RkA++OCDDz5IQO4MiXk7Q0pAniExb2dITEBONtlkk01OQH+lQK1fKVBA168UqPUrUUAvuuiiiy5SQIfEvJ0hMVNA386QmLczVEA32WSTTTZVQI/jOI7jOFZA5+0MiXk7V0A++OCDDz5YQJYCtX6lQFlA7gyJeTtDWkBGF1100UVbQJ4hMW9nSFxA9isFav1KXUBONtlkk01eQKZArV8pUF9Af6VArV8pYECrqqqqqqpgQNevFKj1K2FAA7V+pUCtYUAvuuiiiy5iQFu/UqDWr2JAh8S8nSExY0CzySabbLJjQN/OkJi3M2RAC9T6lQK1ZEA32WSTTTZlQGPezpCYt2VAj+M4juM4ZkC76KKLLrpmQOftDIl5O2dAE/N2hsS8Z0A++OCDDz5oQGr9SoFav2hAlgK1fqVAaUDCBx988MFpQO4MiXk7Q2pAGhLzdobEakBGF1100UVrQHIcx3Ecx2tAniExb2dIbEDKJptssslsQPYrBWr9Sm1AIjFvZ0jMbUBONtlkk01uQHo7Q2Lezm5ApkCtXylQb0DSRRdddNFvQH+lQK1fKXBAFaj1KwVqcECrqqqqqqpwQEGtXylQ63BA168UqPUrcUBtsskmm2xxQAO1fqVArXFAmbczJObtcUAvuuiiiy5yQMW8nSExb3JAW79SoNavckDxwQcffPByQIfEvJ0hMXNAHcdxHMdxc0CzySabbLJzQEnM2xkS83NA386QmLczdEB10UUXXXR0QAvU+pUCtXRAodavFKj1dEA32WSTTTZ1QM3bGRLzdnVAY97OkJi3dUD54IMPPvh1QI/jOI7jOHZAJebtDIl5dkC76KKLLrp2QFHrVwrU+nZA5+0MiXk7d0B98MEHH3x3QBPzdobEvHdAqfUrBWr9d0A++OCDDz54QNT6lQK1fnhAav1KgVq/eEAAAAAAAAB5QJYCtX6lQHlALAVq/UqBeUDCBx988MF5QFgK1PqVAnpA7gyJeTtDekCEDz744IN6QBoS83aGxHpAsBSo9SsFe0BGF1100UV7QNwZEvN2hntAAAAAAAAAAABddNFFF10QQF100UUXXSBAjC666KKLKEBddNFFF10wQHTRRRdddDRAjC666KKLOECjiy666KI8QF100UUXXUBA6aKLLrpoQkB00UUXXXREQAAAAAAAgEZAjC666KKLSEAXXXTRRZdKQKOLLrrookxALrrooouuTkBddNFFF11QQKOLLrroYlFA6aKLLrpoUkAuuuiii25TQHTRRRdddFRAuuiiiy56VUAAAAAAAIBWQEYXXXTRhVdAjC666KKLWEDRRRdddJFZQBdddNFFl1pAXXTRRRedW0Cjiy666KJcQOmiiy66qF1ALrrooouuXkB00UUXXbRfQF100UUXXWBAAAAAAADgYECjiy666GJhQEYXXXTR5WFA6aKLLrpoYkCMLrrooutiQC666KKLbmNA0UUXXXTxY0B00UUXXXRkQBdddNFF92RAuuiiiy56ZUBddNFFF/1lQAAAAAAAgGZAo4suuugCZ0BGF1100YVnQOmiiy66CGhAjC666KKLaEAuuuiiiw5pQNFFF110kWlAdNFFF10UakAXXXTRRZdqQLrooosuGmtAXXTRRReda0AAAAAAACBsQKOLLrroomxARhdddNElbUDpoosuuqhtQIsuuuiiK25ALrrooouubkDRRRdddDFvQHTRRRddtG9AjC666KIbcEBddNFFF11wQC666KKLnnBAAAAAAADgcEDRRRdddCFxQKOLLrroYnFAdNFFF12kcUBGF1100eVxQBdddNFFJ3JA6aKLLrpockC66KKLLqpyQIwuuuii63JAXXTRRRctc0Auuuiii25zQAAAAAAAsHNA0UUXXXTxc0Cjiy666DJ0QHTRRRdddHRARhdddNG1dEAXXXTRRfd0QOmiiy66OHVAuuiiiy56dUCMLrroort1QF100UUX/XVALrrooos+dkAAAAAAAIB2QNFFF110wXZAo4suuugCd0B00UUXXUR3QEYXXXTRhXdAF1100UXHd0Dpoosuugh4QLrooosuSnhAjC666KKLeEBddNFFF814QC666KKLDnlAAAAAAABQeUDRRRdddJF5QKOLLrro0nlAdNFFF10UekBGF1100VV6QBdddNFFl3pA6aKLLrrYekC66KKLLhp7QIsuuuiiW3tAXXTRRRede0Auuuiii957QAAAAAAAAAAAO0Ni3s6QEEA7Q2LezpAgQNhkk0022ShAO0Ni3s6QMEAK1PqVArU0QNhkk0022ThAp/UrBWr9PEA7Q2LezpBAQKKLLrrookJACtT6lQK1REBxHMdxHMdGQNhkk0022UhAQK1fKVDrSkCn9SsFav1MQA8++OCDD09AO0Ni3s6QUEBvZ0jM25lRQKKLLrroolJA1q8UqPWrU0AK1PqVArVUQD344IMPvlVAcRzHcRzHVkClQK1fKdBXQNhkk0022VhADIl5O0PiWUBArV8pUOtaQHTRRRdd9FtAp/UrBWr9XEDbGRLzdgZeQA8++OCDD19AITFvZ0gMYEA7Q2LezpBgQFVVVVVVFWFAb2dIzNuZYUCJeTtDYh5iQKKLLrroomJAvJ0hMW8nY0DWrxSo9atjQPDBBx98MGRACtT6lQK1ZEAk5u0MiTllQD344IMPvmVAVwrU+pVCZkBxHMdxHMdmQIsuuuiiS2dApUCtXynQZ0C/UqDWr1RoQNhkk0022WhA8naGxLxdaUAMiXk7Q+JpQCabbLLJZmpAQK1fKVDrakBav1Kg1m9rQHTRRRdd9GtAjeM4juN4bECn9SsFav1sQMEHH3zwgW1A2xkS83YGbkD1KwVq/YpuQA8++OCDD29AKFDrVwqUb0AhMW9nSAxwQC666KKLTnBAO0Ni3s6QcEBIzNsZEtNwQFVVVVVVFXFAYt7OkJhXcUBvZ0jM25lxQHzwwQcf3HFAiXk7Q2IeckCVArV+pWByQKKLLrroonJArxSo9SvlckC8nSExbydzQMkmm2yyaXNA1q8UqPWrc0DjOI7jOO5zQPDBBx98MHRA/UqBWr9ydEAK1PqVArV0QBdddNFF93RAJObtDIk5dUAxb2dIzHt1QD344IMPvnVASoFav1IAdkBXCtT6lUJ2QGSTTTbZhHZAcRzHcRzHdkB+pUCtXwl3QIsuuuiiS3dAmLczJOaNd0ClQK1fKdB3QLLJJptsEnhAv1Kg1q9UeEDM2xkS85Z4QNhkk0022XhA5e0MiXkbeUDydobEvF15QP//////n3lADIl5O0PieUAZEvN2hiR6QCabbLLJZnpAMyTm7QypekBArV8pUOt6QE022WSTLXtAWr9SoNZve0BnSMzbGbJ7QHTRRRdd9HtAgFq/UqA2fEAAAAAAAAAAABoS83aGxBBAGhLzdobEIEAnm2yyySYpQBoS83aGxDBAoNavFKj1NEAnm2yyySY5QK5fKVDrVz1AGhLzdobEQEBddNFFF91CQKDWrxSo9URA5DiO4zgOR0Anm2yyySZJQGr9SoFaP0tArl8pUOtXTUDxwQcffHBPQBoS83aGxFBAPENi3s7QUUBddNFFF91SQH+lQK1f6VNAoNavFKj1VEDCBx988AFWQOQ4juM4DldABWr9SoEaWEAnm2yyySZZQEnM2xkSM1pAav1KgVo/W0CMLrrooktcQK5fKVDrV11Az5CYtzNkXkDxwQcffHBfQIl5O0NiPmBAGhLzdobEYECrqqqqqkphQDxDYt7O0GFAzNsZEvNWYkBddNFFF91iQO4MiXk7Y2NAf6VArV/pY0AQPvjgg29kQKDWrxSo9WRAMW9nSMx7ZUDCBx988AFmQFOg1q8UiGZA5DiO4zgOZ0B10UUXXZRnQAVq/UqBGmhAlgK1fqWgaEAnm2yyySZpQLgzJObtrGlASczbGRIzakDZZJNNNrlqQGr9SoFaP2tA+5UCtX7Fa0CMLrrooktsQB3HcRzH0WxArl8pUOtXbUA++OCDD95tQM+QmLczZG5AYClQ61fqbkDxwQcffHBvQIJav1Kg9m9AiXk7Q2I+cEDSRRdddIFwQBoS83aGxHBAYt7OkJgHcUCrqqqqqkpxQPN2hsS8jXFAPENi3s7QcUCEDz744BNyQMzbGRLzVnJAFaj1KwWackBddNFFF91yQKZArV8pIHNA7gyJeTtjc0A22WSTTaZzQH+lQK1f6XNAx3Ecx3EsdEAQPvjgg290QFgK1PqVsnRAoNavFKj1dEDpoosuujh1QDFvZ0jMe3VAejtDYt6+dUDCBx988AF2QAvU+pUCRXZAU6DWrxSIdkCbbLLJJst2QOQ4juM4DndALAVq/UpRd0B10UUXXZR3QL2dITFv13dABWr9SoEaeEBONtlkk114QJYCtX6loHhA386QmLfjeEAnm2yyySZ5QG9nSMzbaXlAuDMk5u2seUAAAAAAAPB5QEnM2xkSM3pAkZi3MyR2ekDZZJNNNrl6QCIxb2dI/HpAav1KgVo/e0CzySabbIJ7QPuVArV+xXtAQ2LezpAIfECMLrrookt8QNT6lQK1jnxAAAAAAAAAAAD44IMPPvgQQPjggw8++CBAdNFFF110KUD44IMPPvgwQDbZZJNNNjVAdNFFF110OUCyySabbLI9QPjggw8++EBAF1100UUXQ0A22WSTTTZFQFVVVVVVVUdAdNFFF110SUCTTTbZZJNLQLLJJptssk1A0UUXXXTRT0D44IMPPvhQQAgffPDBB1JAF1100UUXU0Amm2yyySZUQDbZZJNNNlVARhdddNFFVkBVVVVVVVVXQGSTTTbZZFhAdNFFF110WUCEDz744INaQJNNNtlkk1tAoosuuuiiXECyySabbLJdQMIHH3zwwV5A0UUXXXTRX0DwwQcffHBgQPjggw8++GBAAAAAAACAYUAIH3zwwQdiQA8++OCDj2JAF1100UUXY0AffPDBB59jQCabbLLJJmRALrrooouuZEA22WSTTTZlQD744IMPvmVARhdddNFFZkBNNtlkk81mQFVVVVVVVWdAXXTRRRfdZ0Bkk0022WRoQGyyySab7GhAdNFFF110aUB88MEHH/xpQIQPPvjgg2pAiy666KILa0CTTTbZZJNrQJtssskmG2xAoosuuuiibECqqqqqqiptQLLJJptssm1Auuiiiy46bkDCBx988MFuQMkmm2yySW9A0UUXXXTRb0BssskmmyxwQPDBBx98cHBAdNFFF120cED44IMPPvhwQHzwwQcfPHFAAAAAAACAcUCEDz744MNxQAgffPDBB3JAiy666KJLckAPPvjgg49yQJNNNtlk03JAF1100UUXc0CbbLLJJltzQB988MEHn3NAo4suuujic0Amm2yyySZ0QKqqqqqqanRALrrooouudECyySabbPJ0QDbZZJNNNnVAuuiiiy56dUA++OCDD751QMIHH3zwAXZARhdddNFFdkDJJptssol2QE022WSTzXZA0UUXXXQRd0BVVVVVVVV3QNlkk002mXdAXXTRRRfdd0Dhgw8++CB4QGSTTTbZZHhA6KKLLrqoeEBssskmm+x4QPDBBx98MHlAdNFFF110eUD44IMPPrh5QHzwwQcf/HlAAAAAAABAekCEDz744IN6QAcffPDBx3pAiy666KILe0APPvjgg097QJNNNtlkk3tAF1100UXXe0CbbLLJJht8QB988MEHX3xAoosuuuiifEAmm2yyyeZ8QAAAAAAAAAAA168UqPUrEUDXrxSo9SshQMIHH3zwwSlA168UqPUrMUDN2xkS83Y1QMIHH3zwwTlAuDMk5u0MPkDXrxSo9StBQNJFF110UUNAzdsZEvN2RUDIcRzHcZxHQMIHH3zwwUlAvZ0hMW/nS0C4MyTm7QxOQNpkk002GVBA168UqPUrUUDU+pUCtT5SQNJFF110UVNAz5CYtzNkVEDN2xkS83ZVQMomm2yyiVZAyHEcx3GcV0DFvJ0hMa9YQMIHH3zwwVlAwFKg1q/UWkC9nSExb+dbQLvooosu+lxAuDMk5u0MXkC2fqVArR9fQNpkk002GWBAWArU+pWiYEDXrxSo9SthQFZVVVVVtWFA1PqVArU+YkBToNavFMhiQNJFF110UWNAUetXCtTaY0DPkJi3M2RkQE422WST7WRAzdsZEvN2ZUBLgVq/UgBmQMomm2yyiWZASczbGRITZ0DIcRzHcZxnQEYXXXTRJWhAxbydITGvaEBEYt7OkDhpQMIHH3zwwWlAQa1fKVBLakDAUqDWr9RqQD/44IMPXmtAvZ0hMW/na0A8Q2LeznBsQLvooosu+mxAOo7jOI6DbUC4MyTm7QxuQDfZZJNNlm5Atn6lQK0fb0A0JObtDKlvQNpkk002GXBAmbczJOZdcEBYCtT6laJwQBhddNFF53BA168UqPUrcUCWArV+pXBxQFZVVVVVtXFAFaj1KwX6cUDU+pUCtT5yQJRNNtlkg3JAU6DWrxTIckAT83aGxAxzQNJFF110UXNAkZi3MySWc0BR61cK1NpzQBA++OCDH3RAz5CYtzNkdECP4ziO46h0QE422WST7XRADYl5O0MydUDN2xkS83Z1QIwuuuiiu3VAS4Fav1IAdkAL1PqVAkV2QMomm2yyiXZAink7Q2LOdkBJzNsZEhN3QAgffPDBV3dAyHEcx3Gcd0CHxLydIeF3QEYXXXTRJXhABmr9SoFqeEDFvJ0hMa94QIQPPvjg83hARGLezpA4eUADtX6lQH15QMIHH3zwwXlAglq/UqAGekBBrV8pUEt6QAEAAAAAkHpAwFKg1q/UekB/pUCtXxl7QD/44IMPXntA/kqBWr+ie0C9nSExb+d7QH3wwQcfLHxAPENi3s5wfED7lQK1frV8QLvooosu+nxAejtDYt4+fUAAAAAAAAAAALV+pUCtXxFAtX6lQK1fIUAQPvjggw8qQLV+pUCtXzFAYt7OkJi3NUAQPvjggw86QL2dITFvZz5AtX6lQK1fQUCMLrroootDQGLezpCYt0VAOY7jOI7jR0AQPvjggw9KQObtDIl5O0xAvZ0hMW9nTkDKJptssklQQLV+pUCtX1FAoNavFKh1UkCMLrroootTQHeGxLydoVRAYt7OkJi3VUBONtlkk81WQDmO4ziO41dAJObtDIn5WEAQPvjggw9aQPuVArV+JVtA5u0MiXk7XEDRRRdddFFdQL2dITFvZ15AqPUrBWp9X0DKJptssklgQL9SoNav1GBAtX6lQK1fYUCrqqqqquphQKDWrxSodWJAlgK1fqUAY0CMLrroootjQIFav1KgFmRAd4bEvJ2hZEBtsskmmyxlQGLezpCYt2VAWArU+pVCZkBONtlkk81mQENi3s6QWGdAOY7jOI7jZ0Avuuiii25oQCTm7QyJ+WhAGhLzdoaEaUAQPvjggw9qQAVq/UqBmmpA+5UCtX4la0DwwQcffLBrQObtDIl5O2xA3BkS83bGbEDRRRdddFFtQMdxHMdx3G1AvZ0hMW9nbkCyySabbPJuQKj1KwVqfW9Az5CYtzMEcEDKJptssklwQMW8nSExj3BAv1Kg1q/UcEC66KKLLhpxQLV+pUCtX3FAsBSo9SulcUCrqqqqqupxQKVArV8pMHJAoNavFKh1ckCbbLLJJrtyQJYCtX6lAHNAkZi3MyRGc0CMLrroootzQIbEvJ0h0XNAgVq/UqAWdEB88MEHH1x0QHeGxLydoXRAchzHcRzndEBtsskmmyx1QGdIzNsZcnVAYt7OkJi3dUBddNFFF/11QFgK1PqVQnZAU6DWrxSIdkBONtlkk812QEjM2xkSE3dAQ2LezpBYd0A++OCDD553QDmO4ziO43dANCTm7QwpeEAvuuiii254QClQ61cKtHhAJObtDIn5eEAffPDBBz95QBoS83aGhHlAFaj1KwXKeUAQPvjggw96QArU+pUCVXpABWr9SoGaekAAAAAAAOB6QPuVArV+JXtA9isFav1qe0DwwQcffLB7QOtXCtT69XtA5u0MiXk7fEDhgw8++IB8QNwZEvN2xnxA168UqPULfUDRRRdddFF9QMzbGRLzln1AAAAAAAAAAACTTTbZZJMRQJNNNtlkkyFAXHTRRRddKkCTTTbZZJMxQPjggw8++DVAXHTRRRddOkDBBx988ME+QJNNNtlkk0FARRdddNHFQ0D44IMPPvhFQKqqqqqqKkhAXHTRRRddSkAPPvjgg49MQMEHH3zwwU5Auuiiiy56UECTTTbZZJNRQGyyySabrFJARRdddNHFU0AffPDBB99UQPjggw8++FVA0UUXXXQRV0CqqqqqqipYQIMPPvjgQ1lAXHTRRRddWkA22WSTTXZbQA8++OCDj1xA6KKLLrqoXUDBBx988MFeQJpssskm219Auuiiiy56YEAmm2yyyQZhQJNNNtlkk2FAAAAAAAAgYkBssskmm6xiQNlkk002OWNARRdddNHFY0CyySabbFJkQB988MEH32RAiy666KJrZUD44IMPPvhlQGSTTTbZhGZA0UUXXXQRZ0A++OCDD55nQKqqqqqqKmhAF1100UW3aECDDz744ENpQPDBBx980GlAXHTRRRddakDJJptssulqQDbZZJNNdmtAoosuuugCbEAPPvjgg49sQHvwwQcfHG1A6KKLLrqobUBVVVVVVTVuQMEHH3zwwW5ALrroootOb0CabLLJJttvQIQPPvjgM3BAuuiiiy56cEDwwQcffMBwQCabbLLJBnFAXXTRRRdNcUCTTTbZZJNxQMkmm2yy2XFAAAAAAAAgckA22WSTTWZyQGyyySabrHJAoosuuujyckDZZJNNNjlzQA8++OCDf3NARRdddNHFc0B88MEHHwx0QLLJJptsUnRA6KKLLrqYdEAffPDBB990QFVVVVVVJXVAiy666KJrdUDBBx988LF1QPjggw8++HVALrrooos+dkBkk0022YR2QJtssskmy3ZA0UUXXXQRd0AHH3zwwVd3QD744IMPnndAdNFFF13kd0Cqqqqqqip4QOCDDz74cHhAF1100UW3eEBNNtlkk/14QIMPPvjgQ3lAuuiiiy6KeUDwwQcffNB5QCabbLLJFnpAXHTRRRddekCTTTbZZKN6QMkmm2yy6XpA//////8ve0A22WSTTXZ7QGyyySabvHtAoosuuugCfEDZZJNNNkl8QA8++OCDj3xARRdddNHVfEB78MEHHxx9QLLJJptsYn1A6KKLLrqofUAefPDBB+99QAAAAAAAAAAAchzHcRzHEUByHMdxHMchQKuqqqqqqipAchzHcRzHMUCO4ziO4zg2QKuqqqqqqjpAyHEcx3EcP0ByHMdxHMdBQAAAAAAAAERAjuM4juM4RkAdx3Ecx3FIQKuqqqqqqkpAOY7jOI7jTEDIcRzHcRxPQKuqqqqqqlBAchzHcRzHUUA5juM4juNSQAAAAAAAAFRAx3Ecx3EcVUCO4ziO4zhWQFZVVVVVVVdAHcdxHMdxWEDkOI7jOI5ZQKuqqqqqqlpAchzHcRzHW0A5juM4juNcQAAAAAAAAF5AyHEcx3EcX0DHcRzHcRxgQKuqqqqqqmBAjuM4juM4YUByHMdxHMdhQFZVVVVVVWJAOY7jOI7jYkAdx3Ecx3FjQAAAAAAAAGRA5DiO4ziOZEDHcRzHcRxlQKuqqqqqqmVAjuM4juM4ZkByHMdxHMdmQFZVVVVVVWdAOY7jOI7jZ0Adx3Ecx3FoQAAAAAAAAGlA5DiO4ziOaUDHcRzHcRxqQKuqqqqqqmpAj+M4juM4a0ByHMdxHMdrQFZVVVVVVWxAOY7jOI7jbEAdx3Ecx3FtQAAAAAAAAG5A5DiO4ziObkDIcRzHcRxvQKuqqqqqqm9Ax3Ecx3EccEA5juM4jmNwQKuqqqqqqnBAHcdxHMfxcECO4ziO4zhxQAAAAAAAgHFAchzHcRzHcUDkOI7jOA5yQFZVVVVVVXJAx3Ecx3GcckA5juM4juNyQKuqqqqqKnNAHcdxHMdxc0CO4ziO47hzQAAAAAAAAHRAchzHcRxHdEDkOI7jOI50QFZVVVVV1XRAx3Ecx3EcdUA5juM4jmN1QKuqqqqqqnVAHcdxHMfxdUCO4ziO4zh2QAAAAAAAgHZAchzHcRzHdkDkOI7jOA53QFZVVVVVVXdAx3Ecx3Gcd0A5juM4juN3QKuqqqqqKnhAHcdxHMdxeECP4ziO47h4QAAAAAAAAHlAchzHcRxHeUDkOI7jOI55QFZVVVVV1XlAx3Ecx3EcekA5juM4jmN6QKuqqqqqqnpAHcdxHMfxekCP4ziO4zh7QAAAAAAAgHtAchzHcRzHe0DkOI7jOA58QFZVVVVVVXxAx3Ecx3GcfEA5juM4juN8QKuqqqqqKn1AHcdxHMdxfUCP4ziO47h9QAAAAAAAAH5AchzHcRxHfkAAAAAAAAAAAFDrVwrU+hFAUOtXCtT6IUD44IMPPvgqQFDrVwrU+jFAJObtDIl5NkD44IMPPvg6QMzbGRLzdj9AUOtXCtT6QUC66KKLLjpEQCTm7QyJeUZAjuM4juO4SED44IMPPvhKQGLezpCYN01AzNsZEvN2T0CbbLLJJttQQFDrVwrU+lFABWr9SoEaU0C66KKLLjpUQG9nSMzbWVVAJObtDIl5VkDZZJNNNplXQI7jOI7juFhAQ2LezpDYWUD44IMPPvhaQK1fKVDrF1xAYt7OkJg3XUAXXXTRRVdeQMzbGRLzdl9AQK1fKVBLYECbbLLJJttgQPYrBWr9amFAUOtXCtT6YUCqqqqqqopiQAVq/UqBGmNAYClQ61eqY0C66KKLLjpkQBSo9SsFymRAb2dIzNtZZUDKJptssullQCTm7QyJeWZAfqVArV8JZ0DZZJNNNplnQDQk5u0MKWhAjuM4juO4aEDooosuukhpQENi3s6Q2GlAniExb2doakD44IMPPvhqQFKg1q8UiGtArV8pUOsXbEAIH3zwwadsQGLezpCYN21AvJ0hMW/HbUAXXXTRRVduQHIcx3Ec525AzNsZEvN2b0CTTTbZZANwQECtXylQS3BA7gyJeTuTcECbbLLJJttwQEjM2xkSI3FA9isFav1qcUCjiy666LJxQFDrVwrU+nFA/UqBWr9CckCqqqqqqopyQFgK1PqV0nJABWr9SoEac0CyySabbGJzQGApUOtXqnNADYl5O0Pyc0C66KKLLjp0QGdIzNsZgnRAFKj1KwXKdEDCBx988BF1QG9nSMzbWXVAHMdxHMehdUDKJptssul1QHeGxLydMXZAJObtDIl5dkDRRRdddMF2QH6lQK1fCXdALAVq/UpRd0DZZJNNNpl3QIbEvJ0h4XdANCTm7QwpeEDhgw8++HB4QI7jOI7juHhAO0Ni3s4AeUDooosuukh5QJYCtX6lkHlAQ2LezpDYeUDwwQcffCB6QJ4hMW9naHpAS4Fav1KwekD44IMPPvh6QKVArV8pQHtAUqDWrxSIe0AAAAAAANB7QK1fKVDrF3xAWr9SoNZffEAIH3zwwad8QLV+pUCt73xAYt7OkJg3fUAPPvjgg399QLydITFvx31Aav1KgVoPfkAXXXTRRVd+QMS8nSExn35AAAAAAAAAAAAuuuiiiy4SQC666KKLLiJARRdddNFFK0Auuuiiiy4yQLrooosuujZARRdddNFFO0DQRRdddNE/QC666KKLLkJAdNFFF110REC66KKLLrpGQP///////0hARRdddNFFS0CLLrroootNQNBFF1100U9Aiy666KILUUAuuuiiiy5SQNFFF110UVNAdNFFF110VEAXXXTRRZdVQLrooosuulZAXHTRRRfdV0D///////9YQKKLLrroIlpARRdddNFFW0DooosuumhcQIsuuuiii11ALrrooouuXkDQRRdddNFfQLrooosuemBAiy666KILYUBddNFFF51hQC666KKLLmJA//////+/YkDRRRdddFFjQKKLLrro4mNAdNFFF110ZEBFF1100QVlQBdddNFFl2VA6KKLLrooZkC66KKLLrpmQIsuuuiiS2dAXHTRRRfdZ0Auuuiii25oQP///////2hA0UUXXXSRaUCiiy666CJqQHTRRRddtGpARRdddNFFa0AWXXTRRddrQOiiiy66aGxAueiiiy76bECLLrrooottQFx00UUXHW5ALrrooouubkD//////z9vQNBFF1100W9A0UUXXXQxcEC66KKLLnpwQKKLLrrownBAiy666KILcUB00UUXXVRxQF100UUXnXFARRdddNHlcUAuuuiiiy5yQBdddNFFd3JA//////+/ckDooosuughzQNFFF110UXNAuuiiiy6ac0Ciiy666OJzQIsuuuiiK3RAdNFFF110dEBcdNFFF710QEUXXXTRBXVALrroootOdUAXXXTRRZd1QP//////33VA6KKLLroodkDRRRdddHF2QLrooosuunZAoosuuugCd0CLLrrookt3QHTRRRddlHdAXHTRRRfdd0BFF1100SV4QC666KKLbnhAF1100UW3eED///////94QOiiiy66SHlA0UUXXXSReUC56KKLLtp5QKKLLrroInpAiy666KJrekB00UUXXbR6QFx00UUX/XpARRdddNFFe0Auuuiii457QBZddNFF13tA//////8ffEDooosuumh8QNFFF110sXxAueiiiy76fECiiy666EJ9QIsuuuiii31Ac9FFF13UfUBcdNFFFx1+QEUXXXTRZX5ALrrooouufkAWXXTRRfd+QAAAAAAAAAAADYl5O0NiEkANiXk7Q2IiQJRNNtlkkytADYl5O0NiMkBQ61cK1Po2QJRNNtlkkztA61cK1PoVQEANiXk7Q2JCQC+66KKLrkRAUOtXCtT6RkByHMdxHEdJQJRNNtlkk0tAtX6lQK3fTUDrVwrU+hVQQHzwwQcfPFFADYl5O0NiUkCeITFvZ4hTQC+66KKLrlRAv1Kg1q/UVUBQ61cK1PpWQOGDDz74IFhAchzHcRxHWUADtX6lQG1aQJRNNtlkk1tAJObtDIm5XEC1fqVArd9dQEYXXXTRBV9A61cK1PoVYEA0JObtDKlgQHzwwQcfPGFAxbydITHPYUANiXk7Q2JiQFVVVVVV9WJAniExb2eIY0Dm7QyJeRtkQC+66KKLrmRAd4bEvJ1BZUC/UqDWr9RlQAgffPDBZ2ZAUOtXCtT6ZkCZtzMk5o1nQOGDDz74IGhAKVDrVwq0aEByHMdxHEdpQLrooosu2mlAA7V+pUBtakBLgVq/UgBrQJRNNtlkk2tA3BkS83YmbEAk5u0MiblsQG2yySabTG1AtX6lQK3fbUD+SoFav3JuQEYXXXTRBW9AjuM4juOYb0DrVwrU+hVwQBA++OCDX3BANCTm7QypcEBYCtT6lfJwQHzwwQcfPHFAoNavFKiFcUDFvJ0hMc9xQOmiiy66GHJADYl5O0NickAxb2dIzKtyQFVVVVVV9XJAejtDYt4+c0CeITFvZ4hzQMIHH3zw0XNA5u0MiXkbdEAK1PqVAmV0QC+66KKLrnRAU6DWrxT4dEB3hsS8nUF1QJtssskmi3VAv1Kg1q/UdUDkOI7jOB52QAgffPDBZ3ZALAVq/UqxdkBQ61cK1Pp2QHTRRRddRHdAmbczJOaNd0C9nSExb9d3QOGDDz74IHhABWr9SoFqeEApUOtXCrR4QE422WST/XhAchzHcRxHeUCWArV+pZB5QLrooosu2nlA3s6QmLcjekADtX6lQG16QCebbLLJtnpAS4Fav1IAe0BvZ0jM20l7QJRNNtlkk3tAuDMk5u3ce0DcGRLzdiZ8QAAAAAAAcHxAJObtDIm5fEBJzNsZEgN9QG2yySabTH1AkZi3MySWfUC1fqVArd99QNlkk002KX5A/kqBWr9yfkAiMW9nSLx+QEYXXXTRBX9Aav1KgVpPf0AAAAAAAAAAAOtXCtT6lRJA61cK1PqVIkDggw8++OArQOtXCtT6lTJA5u0MiXk7N0Dggw8++OA7QO4MiXk7Q0BA61cK1PqVQkDooosuuuhEQObtDIl5O0dA4ziO4ziOSUDggw8++OBLQN7OkJi3M05A7gyJeTtDUEBssskmm2xRQOtXCtT6lVJAav1KgVq/U0DooosuuuhUQGdIzNsZElZA5u0MiXk7V0Bkk0022WRYQOM4juM4jllAYt7OkJi3WkDggw8++OBbQF8pUOtXCl1A3s6QmLczXkBddNFFF11fQO4MiXk7Q2BArV8pUOvXYEBssskmm2xhQCwFav1KAWJA61cK1PqVYkCqqqqqqipjQGr9SoFav2NAKVDrVwpUZEDooosuuuhkQKj1KwVqfWVAZ0jM2xkSZkAmm2yyyaZmQObtDIl5O2dApUCtXynQZ0Bkk0022WRoQCTm7QyJ+WhA4ziO4ziOaUCiiy666CJqQGLezpCYt2pAITFvZ0hMa0Dggw8++OBrQKDWrxSodWxAXylQ61cKbUAffPDBB59tQN7OkJi3M25AnSExb2fIbkBddNFFF11vQBzHcRzH8W9A7gyJeTtDcEBNNtlkk41wQK1fKVDr13BADYl5O0MicUBssskmm2xxQMzbGRLztnFALAVq/UoBckCLLrrooktyQOtXCtT6lXJAS4Fav1LgckCqqqqqqipzQArU+pUCdXNAav1KgVq/c0DJJptssgl0QClQ61cKVHRAiXk7Q2KedEDooosuuuh0QEjM2xkSM3VAqPUrBWp9dUAHH3zwwcd1QGdIzNsZEnZAx3Ecx3FcdkAmm2yyyaZ2QIbEvJ0h8XZA5u0MiXk7d0BFF1100YV3QKVArV8p0HdABWr9SoEaeEBkk0022WR4QMS8nSExr3hAJObtDIn5eECDDz744EN5QOM4juM4jnlAQ2LezpDYeUCiiy666CJ6QAK1fqVAbXpAYt7OkJi3ekDBBx988AF7QCExb2dITHtAgVq/UqCWe0Dggw8++OB7QECtXylQK3xAoNavFKh1fEAAAAAAAMB8QF8pUOtXCn1Av1Kg1q9UfUAffPDBB599QH6lQK1f6X1A3s6QmLczfkA++OCDD35+QJ0hMW9nyH5A/UqBWr8Sf0BddNFFF11/QLydITFvp39AAAAAAAAAAADKJptssskSQMomm2yyySJAL7rooosuLEDKJptssskyQHzwwQcffDdAL7rooosuPEDxwQcffHBAQMomm2yyyUJAo4suuugiRUB88MEHH3xHQFZVVVVV1UlAL7rooosuTEAIH3zwwYdOQPHBBx98cFBAXXTRRRedUUDKJptssslSQDfZZJNN9lNAo4suuugiVUAQPvjgg09WQHzwwQcffFdA6aKLLrqoWEBWVVVVVdVZQMIHH3zwAVtAL7rooosuXECcbLLJJltdQAgffPDBh15AddFFF120X0DxwQcffHBgQCebbLLJBmFAXXTRRRedYUCUTTbZZDNiQMomm2yyyWJAAAAAAABgY0A32WSTTfZjQG2yySabjGRAo4suuugiZUDaZJNNNrllQBA++OCDT2ZARhdddNHlZkB88MEHH3xnQLPJJptsEmhA6aKLLrqoaEAffPDBBz9pQFZVVVVV1WlAjC666KJrakDCBx988AFrQPnggw8+mGtAL7rooosubEBlk0022cRsQJxssskmW21A0kUXXXTxbUAIH3zwwYduQD/44IMPHm9AddFFF120b0BWVVVVVSVwQPHBBx98cHBAjC666KK7cEAnm2yyyQZxQMIHH3zwUXFAXXTRRRedcUD54IMPPuhxQJRNNtlkM3JAL7rooot+ckDKJptssslyQGWTTTbZFHNAAAAAAABgc0CbbLLJJqtzQDfZZJNN9nNA0kUXXXRBdEBtsskmm4x0QAgffPDB13RAo4suuugidUA++OCDD251QNpkk002uXVAddFFF10EdkAQPvjgg092QKuqqqqqmnZARhdddNHldkDhgw8++DB3QHzwwQcffHdAGF100UXHd0CzySabbBJ4QE422WSTXXhA6aKLLrqoeECEDz744PN4QB988MEHP3lAu+iiiy6KeUBWVVVVVdV5QPHBBx98IHpAjC666KJrekAnm2yyybZ6QMIHH3zwAXtAXnTRRRdNe0D54IMPPph7QJRNNtlk43tAL7rooosufEDKJptssnl8QGWTTTbZxHxAAAAAAAAQfUCcbLLJJlt9QDfZZJNNpn1A0kUXXXTxfUBtsskmmzx+QAgffPDBh35Ao4suuujSfkA/+OCDDx5/QNpkk002aX9AddFFF120f0AQPvjgg/9/QAAAAAAAAAAAqPUrBWr9EkCo9SsFav0iQHzwwQcffCxAqPUrBWr9MkAS83aGxLw3QHzwwQcffDxA83aGxLydQECo9SsFav1CQF100UUXXUVAEvN2hsS8R0DHcRzHcRxKQHzwwQcffExAMW9nSMzbTkDzdobEvJ1QQE422WSTzVFAqPUrBWr9UkACtX6lQC1UQF100UUXXVVAuDMk5u2MVkAS83aGxLxXQGyyySab7FhAx3Ecx3EcWkAiMW9nSExbQHzwwQcffFxA1q8UqPWrXUAxb2dIzNteQEYXXXTRBWBA83aGxLydYECg1q8UqDVhQE422WSTzWFA+5UCtX5lYkCo9SsFav1iQFVVVVVVlWNAArV+pUAtZECwFKj1K8VkQF100UUXXWVACtT6lQL1ZUC4MyTm7YxmQGWTTTbZJGdAEvN2hsS8Z0C/UqDWr1RoQGyyySab7GhAGhLzdoaEaUDHcRzHcRxqQHTRRRddtGpAIjFvZ0hMa0DPkJi3M+RrQHzwwQcffGxAKVDrVwoUbUDWrxSo9attQIQPPvjgQ25AMW9nSMzbbkDezpCYt3NvQEYXXXTRBXBAHMdxHMdRcEDzdobEvJ1wQMomm2yy6XBAoNavFKg1cUB3hsS8nYFxQE422WSTzXFAJObtDIkZckD7lQK1fmVyQNFFF110sXJAqPUrBWr9ckB/pUCtX0lzQFVVVVVVlXNALAVq/Urhc0ACtX6lQC10QNlkk002eXRAsBSo9SvFdECGxLydIRF1QF100UUXXXVANCTm7QypdUAK1PqVAvV1QOGDDz74QHZAuDMk5u2MdkCO4ziO49h2QGWTTTbZJHdAO0Ni3s5wd0AS83aGxLx3QOmiiy66CHhAv1Kg1q9UeECWArV+paB4QGyyySab7HhAQ2LezpA4eUAaEvN2hoR5QPDBBx980HlAx3Ecx3EcekCeITFvZ2h6QHTRRRddtHpAS4Fav1IAe0AiMW9nSEx7QPjggw8+mHtAz5CYtzPke0ClQK1fKTB8QHzwwQcffHxAU6DWrxTIfEApUOtXChR9QAAAAAAAYH1A1q8UqPWrfUCtXylQ6/d9QIQPPvjgQ35AWr9SoNaPfkAxb2dIzNt+QAgffPDBJ39A3s6QmLdzf0C1fqVArb9/QEYXXXTRBYBAMW9nSMwrgEAAAAAAAAAAAIbEvJ0hMRNAhsS8nSExI0DJJptsssksQIbEvJ0hMTNAqPUrBWr9N0DJJptsssk8QPUrBWr9ykBAhsS8nSExQ0AXXXTRRZdFQKj1KwVq/UdAOI7jOI5jSkDJJptssslMQFq/UqDWL09A9SsFav3KUEA++OCDD/5RQIbEvJ0hMVNAzpCYtzNkVEAXXXTRRZdVQF8pUOtXylZAqPUrBWr9V0DwwQcffDBZQDiO4ziOY1pAgVq/UqCWW0DJJptssslcQBHzdobE/F1AWr9SoNYvX0DRRRdddDFgQPUrBWr9ymBAGRLzdoZkYUA++OCDD/5hQGLezpCYl2JAhsS8nSExY0CqqqqqqspjQM6QmLczZGRA83aGxLz9ZEAXXXTRRZdlQDtDYt7OMGZAXylQ61fKZkCDDz744GNnQKj1KwVq/WdAzNsZEvOWaEDwwQcffDBpQBSo9SsFymlAOI7jOI5jakBcdNFFF/1qQIFav1KglmtApUCtXykwbEDJJptssslsQO0MiXk7Y21AEfN2hsT8bUA22WSTTZZuQFq/UqDWL29AfqVArV/Jb0DRRRdddDFwQOM4juM4fnBA9SsFav3KcEAHH3zwwRdxQBkS83aGZHFALAVq/UqxcUA++OCDD/5xQFDrVwrUSnJAYt7OkJiXckB00UUXXeRyQIbEvJ0hMXNAmLczJOZ9c0CqqqqqqspzQLydITFvF3RAzpCYtzNkdEDggw8++LB0QPN2hsS8/XRABWr9SoFKdUAXXXTRRZd1QClQ61cK5HVAO0Ni3s4wdkBNNtlkk312QF8pUOtXynZAcRzHcRwXd0CDDz744GN3QJUCtX6lsHdAqPUrBWr9d0C66KKLLkp4QMzbGRLzlnhA3s6QmLfjeEDwwQcffDB5QAK1fqVAfXlAFKj1KwXKeUAmm2yyyRZ6QDiO4ziOY3pASoFav1KwekBcdNFFF/16QG9nSMzbSXtAgVq/UqCWe0CTTTbZZON7QKVArV8pMHxAtzMk5u18fEDJJptsssl8QNsZEvN2Fn1A7QyJeTtjfUD//////699QBHzdobE/H1AI+btDIlJfkA22WSTTZZ+QEjM2xkS435AWr9SoNYvf0Bssskmm3x/QH6lQK1fyX9ASMzbGRILgEDRRRdddDGAQFq/UqDWV4BAAAAAAAAAAABlk0022WQTQGWTTTbZZCNAGF100UUXLUBlk0022WQzQD744IMPPjhAGF100UUXPUD44IMPPvhAQGWTTTbZZENA0kUXXXTRRUA++OCDDz5IQKuqqqqqqkpAGF100UUXTUCEDz744INPQPjggw8++FBAL7rooosuUkBlk0022WRTQJtssskmm1RA0kUXXXTRVUAIH3zwwQdXQD744IMPPlhAddFFF110WUCrqqqqqqpaQOGDDz744FtAGF100UUXXUBONtlkk01eQIQPPvjgg19AXXTRRRddYED44IMPPvhgQJRNNtlkk2FAL7rooosuYkDKJptsssliQGWTTTbZZGNAAAAAAAAAZECbbLLJJptkQDbZZJNNNmVA0kUXXXTRZUBtsskmm2xmQAgffPDBB2dAo4suuuiiZ0A++OCDDz5oQNlkk0022WhAddFFF110aUAQPvjggw9qQKuqqqqqqmpARhdddNFFa0Dhgw8++OBrQHzwwQcffGxAGF100UUXbUCzySabbLJtQE422WSTTW5A6aKLLrrobkCEDz744INvQBA++OCDD3BAXXTRRRddcECrqqqqqqpwQPjggw8++HBARhdddNFFcUCUTTbZZJNxQOGDDz744HFAL7rooosuckB88MEHH3xyQMomm2yyyXJAF1100UUXc0Blk0022WRzQLPJJptssnNAAAAAAAAAdEBONtlkk010QJtssskmm3RA6aKLLrrodEA22WSTTTZ1QIQPPvjgg3VA0kUXXXTRdUAffPDBBx92QG2yySabbHZAuuiiiy66dkAIH3zwwQd3QFZVVVVVVXdAo4suuuiid0DxwQcffPB3QD744IMPPnhAjC666KKLeEDZZJNNNtl4QCebbLLJJnlAddFFF110eUDCBx988MF5QBA++OCDD3pAXXTRRRddekCrqqqqqqp6QPjggw8++HpARhdddNFFe0CUTTbZZJN7QOGDDz744HtAL7rooosufEB88MEHH3x8QMomm2yyyXxAGF100UUXfUBlk0022WR9QLPJJptssn1AAAAAAAAAfkBONtlkk01+QJtssskmm35A6aKLLrrofkA32WSTTTZ/QIQPPvjgg39A0kUXXXTRf0AQPvjggw+AQDbZZJNNNoBAXXTRRRddgECEDz744IOAQAAAAAAAAAAAQ2LezpCYE0BDYt7OkJgjQGSTTTbZZC1AQ2LezpCYM0DU+pUCtX44QGSTTTbZZD1A+5UCtX4lQUBDYt7OkJhDQIsuuuiiC0ZA1PqVArV+SEAcx3Ecx/FKQGSTTTbZZE1ArV8pUOvXT0D7lQK1fiVRQB988MEHX1JAQ2LezpCYU0BnSMzbGdJUQIsuuuiiC1ZAsBSo9StFV0DU+pUCtX5YQPjggw8+uFlAHMdxHMfxWkBArV8pUCtcQGSTTTbZZF1AiXk7Q2KeXkCtXylQ69dfQOmiiy66iGBA+5UCtX4lYUANiXk7Q8JhQB988MEHX2JAMW9nSMz7YkBDYt7OkJhjQFVVVVVVNWRAZ0jM2xnSZEB5O0Ni3m5lQIsuuuiiC2ZAnSExb2eoZkCwFKj1K0VnQMIHH3zw4WdA1PqVArV+aEDm7QyJeRtpQPjggw8+uGlACtT6lQJVakAcx3Ecx/FqQC666KKLjmtAQK1fKVArbEBSoNavFMhsQGSTTTbZZG1Ad4bEvJ0BbkCJeTtDYp5uQJtssskmO29ArV8pUOvXb0BfKVDrVzpwQOmiiy66iHBAchzHcRzXcED7lQK1fiVxQIQPPvjgc3FADYl5O0PCcUCWArV+pRByQB988MEHX3JAqPUrBWqtckAxb2dIzPtyQLrooosuSnNAQ2LezpCYc0DM2xkS8+ZzQFVVVVVVNXRA3s6QmLeDdEBnSMzbGdJ0QPDBBx98IHVAeTtDYt5udUACtX6lQL11QIsuuuiiC3ZAFKj1KwVadkCdITFvZ6h2QCebbLLJ9nZAsBSo9StFd0A5juM4jpN3QMIHH3zw4XdAS4Fav1IweEDU+pUCtX54QF100UUXzXhA5u0MiXkbeUBvZ0jM22l5QPjggw8+uHlAgVq/UqAGekAK1PqVAlV6QJNNNtlko3pAHMdxHMfxekClQK1fKUB7QC666KKLjntAtzMk5u3ce0BArV8pUCt8QMkmm2yyeXxAUqDWrxTIfEDbGRLzdhZ9QGSTTTbZZH1A7gyJeTuzfUB3hsS8nQF+QAAAAAAAUH5AiXk7Q2KefkAS83aGxOx+QJtssskmO39AJObtDImJf0CtXylQ69d/QJtssskmE4BAXylQ61c6gEAk5u0MiWGAQOmiiy66iIBArV8pUOuvgEAAAAAAAAAAACIxb2dIzBNAIjFvZ0jMI0CzySabbLItQCIxb2dIzDNAav1KgVq/OECzySabbLI9QP5KgVq/UkFAIjFvZ0jMQ0BGF1100UVGQGr9SoFav0hAj+M4juM4S0CzySabbLJNQOxXCtT6FVBA/kqBWr9SUUAQPvjgg49SQCIxb2dIzFNANCTm7QwJVUBGF1100UVWQFgK1PqVgldAav1KgVq/WEB98MEHH/xZQI/jOI7jOFtAodavFKh1XECzySabbLJdQMW8nSEx715A7FcK1PoVYEB10UUXXbRgQP5KgVq/UmFAh8S8nSHxYUAQPvjgg49iQJm3MyTmLWNAIjFvZ0jMY0CrqqqqqmpkQDQk5u0MCWVAvZ0hMW+nZUBGF1100UVmQM+QmLcz5GZAWArU+pWCZ0Dhgw8++CBoQGr9SoFav2hA9HaGxLxdaUB98MEHH/xpQAZq/UqBmmpAj+M4juM4a0AYXXTRRddrQKHWrxSodWxAKlDrVwoUbUCzySabbLJtQDxDYt7OUG5AxbydITHvbkBONtlkk41vQOxXCtT6FXBAsBSo9StlcEB10UUXXbRwQDmO4ziOA3FA/kqBWr9ScUDCBx988KFxQIfEvJ0h8XFAS4Fav1JAckAQPvjgg49yQNT6lQK13nJAmbczJOYtc0BddNFFF31zQCIxb2dIzHNA5+0MiXkbdECrqqqqqmp0QHBnSMzbuXRANCTm7QwJdUD54IMPPlh1QL2dITFvp3VAglq/UqD2dUBGF1100UV2QAvU+pUClXZAz5CYtzPkdkCUTTbZZDN3QFgK1PqVgndAHcdxHMfRd0Dhgw8++CB4QKZArV8pcHhAav1KgVq/eEAvuuiiiw55QPR2hsS8XXlAuDMk5u2seUB98MEHH/x5QEGtXylQS3pABmr9SoGaekDKJptssul6QI/jOI7jOHtAU6DWrxSIe0AYXXTRRdd7QNwZEvN2JnxAodavFKh1fEBlk0022cR8QCpQ61cKFH1A7gyJeTtjfUCzySabbLJ9QHiGxLydAX5APENi3s5QfkABAAAAAKB+QMW8nSEx735Aink7Q2I+f0BONtlkk41/QBPzdobE3H9A7FcK1PoVgEBONtlkkz2AQLAUqPUrZYBAEvN2hsSMgEB10UUXXbSAQNevFKj124BAAAAAAAAAAAAAAAAAAAAUQAAAAAAAACRAAAAAAAAALkAAAAAAAAA0QAAAAAAAADlAAAAAAAAAPkAAAAAAAIBBQAAAAAAAAERAAAAAAACARkAAAAAAAABJQAAAAAAAgEtAAAAAAAAATkAAAAAAAEBQQAAAAAAAgFFAAAAAAADAUkAAAAAAAABUQAAAAAAAQFVAAAAAAACAVkAAAAAAAMBXQAAAAAAAAFlAAAAAAABAWkAAAAAAAIBbQAAAAAAAwFxAAAAAAAAAXkAAAAAAAEBfQAAAAAAAQGBAAAAAAADgYEAAAAAAAIBhQAAAAAAAIGJAAAAAAADAYkAAAAAAAGBjQAAAAAAAAGRAAAAAAACgZEAAAAAAAEBlQAAAAAAA4GVAAAAAAACAZkAAAAAAACBnQAAAAAAAwGdAAAAAAABgaEAAAAAAAABpQAAAAAAAoGlAAAAAAABAakAAAAAAAOBqQAAAAAAAgGtAAAAAAAAgbEAAAAAAAMBsQAAAAAAAYG1AAAAAAAAAbkAAAAAAAKBuQAAAAAAAQG9AAAAAAADgb0AAAAAAAEBwQAAAAAAAkHBAAAAAAADgcEAAAAAAADBxQAAAAAAAgHFAAAAAAADQcUAAAAAAACByQAAAAAAAcHJAAAAAAADAckAAAAAAABBzQAAAAAAAYHNAAAAAAACwc0AAAAAAAAB0QAAAAAAAUHRAAAAAAACgdEAAAAAAAPB0QAAAAAAAQHVAAAAAAACQdUAAAAAAAOB1QAAAAAAAMHZAAAAAAACAdkAAAAAAANB2QAAAAAAAIHdAAAAAAABwd0AAAAAAAMB3QAAAAAAAEHhAAAAAAABgeEAAAAAAALB4QAAAAAAAAHlAAAAAAABQeUAAAAAAAKB5QAAAAAAA8HlAAAAAAABAekAAAAAAAJB6QAAAAAAA4HpAAAAAAAAwe0AAAAAAAIB7QAAAAAAA0HtAAAAAAAAgfEAAAAAAAHB8QAAAAAAAwHxAAAAAAAAQfUAAAAAAAGB9QAAAAAAAsH1AAAAAAAAAfkAAAAAAAFB+QAAAAAAAoH5AAAAAAADwfkAAAAAAAEB/QAAAAAAAkH9AAAAAAADgf0AAAAAAABiAQAAAAAAAQIBAAAAAAABogEAAAAAAAJCAQAAAAAAAuIBAAAAAAADggEAAAAAAAAiBQA==",
          "dtype": "f8",
          "shape": "100, 110"
         },
         "zmax": 100,
         "zmin": 0
        },
        {
         "hoverinfo": "none",
         "line": {
          "color": "black",
          "dash": "dash",
          "width": 1
         },
         "mode": "lines",
         "showlegend": false,
         "type": "scatter",
         "x": {
          "bdata": "AAAAAAAAAAAAAAAAAAAAAHsUrkfhegxAXI/C9ShcLEDhehSuR+HiP6RwPQrXYzdAw/UoXI9CI0AAAAAAAAAAAK5H4XoULiBAXI/C9Shc8z9SuB6F65E3QPYoXI/C9RlAAAAAAAAAAAAAAAAAAAAAAAAAAAAAAAAAAAAAAAAAAAAAAAAAAAAAAJqZmZmZmck/AAAAAAAAAAAAAAAAAAAAAJqZmZmZmck/AAAAAAAAAAAAAAAAAAAAAAAAAAAAAAAAAAAAAAAAAADhehSuR+ECQJqZmZmZmck/9ihcj8L1FUAUrkfhehT2P4/C9ShcDzNAAAAAAAAAAABcj8L1KFz/Pw==",
          "dtype": "f8"
         },
         "y": {
          "bdata": "KVyPwvUoBEApXI/C9SgEQClcj8L1KARAKVyPwvUoBECF61G4HoUDQIXrUbgehQNAhetRuB6FA0CF61G4HoUDQLgehetRuAJAuB6F61G4AkC4HoXrUbgCQLgehetRuAJAw/UoXI/CAUDD9Shcj8IBQMP1KFyPwgFAw/UoXI/CAUDhehSuR+EAQOF6FK5H4QBA4XoUrkfhAEDhehSuR+EAQGZmZmZmZgBAZmZmZmZmAEBmZmZmZmYAQGZmZmZmZgBAexSuR+F6AEB7FK5H4XoAQHsUrkfhegBAexSuR+F6AEBcj8L1KFwBQFyPwvUoXAFAXI/C9ShcAUBcj8L1KFwBQA==",
          "dtype": "f8"
         }
        },
        {
         "hoverinfo": "text",
         "hovertext": "<b>Estação:</b> Campina do Barreto<br><b>Data:</b> 2025-05-14<br><b>Hora:</b> 02:00:00<br><b>Risco:</b> Baixo (0.0)<br><b>VP:</b> 0.0<br><b>AM:</b> 2.52",
         "marker": {
          "color": "#4CAF50",
          "line": {
           "color": "black",
           "width": 1
          },
          "size": 12
         },
         "mode": "markers",
         "showlegend": false,
         "type": "scatter",
         "x": [
          0
         ],
         "y": [
          2.52
         ]
        },
        {
         "hoverinfo": "text",
         "hovertext": "<b>Estação:</b> Campina do Barreto<br><b>Data:</b> 2025-05-14<br><b>Hora:</b> 08:00:00<br><b>Risco:</b> Baixo (0.0)<br><b>VP:</b> 0.0<br><b>AM:</b> 2.52",
         "marker": {
          "color": "#4CAF50",
          "line": {
           "color": "black",
           "width": 1
          },
          "size": 12
         },
         "mode": "markers",
         "showlegend": false,
         "type": "scatter",
         "x": [
          0
         ],
         "y": [
          2.52
         ]
        },
        {
         "hoverinfo": "text",
         "hovertext": "<b>Estação:</b> Campina do Barreto<br><b>Data:</b> 2025-05-14<br><b>Hora:</b> 14:00:00<br><b>Risco:</b> Baixo (8.97)<br><b>VP:</b> 3.56<br><b>AM:</b> 2.52",
         "marker": {
          "color": "#4CAF50",
          "line": {
           "color": "black",
           "width": 1
          },
          "size": 12
         },
         "mode": "markers",
         "showlegend": false,
         "type": "scatter",
         "x": [
          3.56
         ],
         "y": [
          2.52
         ]
        },
        {
         "hoverinfo": "text",
         "hovertext": "<b>Estação:</b> Campina do Barreto<br><b>Data:</b> 2025-05-14<br><b>Hora:</b> 20:00:00<br><b>Risco:</b> Moderado (35.73)<br><b>VP:</b> 14.18<br><b>AM:</b> 2.52",
         "marker": {
          "color": "#FFC107",
          "line": {
           "color": "black",
           "width": 1
          },
          "size": 12
         },
         "mode": "markers",
         "showlegend": false,
         "type": "scatter",
         "x": [
          14.18
         ],
         "y": [
          2.52
         ]
        },
        {
         "hoverinfo": "text",
         "hovertext": "<b>Estação:</b> Campina do Barreto<br><b>Data:</b> 2025-05-15<br><b>Hora:</b> 02:00:00<br><b>Risco:</b> Baixo (1.44)<br><b>VP:</b> 0.59<br><b>AM:</b> 2.44",
         "marker": {
          "color": "#4CAF50",
          "line": {
           "color": "black",
           "width": 1
          },
          "size": 12
         },
         "mode": "markers",
         "showlegend": false,
         "type": "scatter",
         "x": [
          0.59
         ],
         "y": [
          2.44
         ]
        },
        {
         "hoverinfo": "text",
         "hovertext": "<b>Estação:</b> Campina do Barreto<br><b>Data:</b> 2025-05-15<br><b>Hora:</b> 08:00:00<br><b>Risco:</b> Moderado Alto (57.07)<br><b>VP:</b> 23.39<br><b>AM:</b> 2.44",
         "marker": {
          "color": "#FFA500",
          "line": {
           "color": "black",
           "width": 1
          },
          "size": 12
         },
         "mode": "markers",
         "showlegend": false,
         "type": "scatter",
         "x": [
          23.39
         ],
         "y": [
          2.44
         ]
        },
        {
         "hoverinfo": "text",
         "hovertext": "<b>Estação:</b> Campina do Barreto<br><b>Data:</b> 2025-05-15<br><b>Hora:</b> 14:00:00<br><b>Risco:</b> Baixo (23.5)<br><b>VP:</b> 9.63<br><b>AM:</b> 2.44",
         "marker": {
          "color": "#4CAF50",
          "line": {
           "color": "black",
           "width": 1
          },
          "size": 12
         },
         "mode": "markers",
         "showlegend": false,
         "type": "scatter",
         "x": [
          9.63
         ],
         "y": [
          2.44
         ]
        },
        {
         "hoverinfo": "text",
         "hovertext": "<b>Estação:</b> Campina do Barreto<br><b>Data:</b> 2025-05-15<br><b>Hora:</b> 20:00:00<br><b>Risco:</b> Baixo (0.0)<br><b>VP:</b> 0.0<br><b>AM:</b> 2.44",
         "marker": {
          "color": "#4CAF50",
          "line": {
           "color": "black",
           "width": 1
          },
          "size": 12
         },
         "mode": "markers",
         "showlegend": false,
         "type": "scatter",
         "x": [
          0
         ],
         "y": [
          2.44
         ]
        },
        {
         "hoverinfo": "text",
         "hovertext": "<b>Estação:</b> Campina do Barreto<br><b>Data:</b> 2025-05-16<br><b>Hora:</b> 02:00:00<br><b>Risco:</b> Baixo (18.93)<br><b>VP:</b> 8.09<br><b>AM:</b> 2.34",
         "marker": {
          "color": "#4CAF50",
          "line": {
           "color": "black",
           "width": 1
          },
          "size": 12
         },
         "mode": "markers",
         "showlegend": false,
         "type": "scatter",
         "x": [
          8.09
         ],
         "y": [
          2.34
         ]
        },
        {
         "hoverinfo": "text",
         "hovertext": "<b>Estação:</b> Campina do Barreto<br><b>Data:</b> 2025-05-16<br><b>Hora:</b> 08:00:00<br><b>Risco:</b> Baixo (2.83)<br><b>VP:</b> 1.21<br><b>AM:</b> 2.34",
         "marker": {
          "color": "#4CAF50",
          "line": {
           "color": "black",
           "width": 1
          },
          "size": 12
         },
         "mode": "markers",
         "showlegend": false,
         "type": "scatter",
         "x": [
          1.21
         ],
         "y": [
          2.34
         ]
        },
        {
         "hoverinfo": "text",
         "hovertext": "<b>Estação:</b> Campina do Barreto<br><b>Data:</b> 2025-05-16<br><b>Hora:</b> 14:00:00<br><b>Risco:</b> Moderado Alto (55.15)<br><b>VP:</b> 23.57<br><b>AM:</b> 2.34",
         "marker": {
          "color": "#FFA500",
          "line": {
           "color": "black",
           "width": 1
          },
          "size": 12
         },
         "mode": "markers",
         "showlegend": false,
         "type": "scatter",
         "x": [
          23.57
         ],
         "y": [
          2.34
         ]
        },
        {
         "hoverinfo": "text",
         "hovertext": "<b>Estação:</b> Campina do Barreto<br><b>Data:</b> 2025-05-16<br><b>Hora:</b> 20:00:00<br><b>Risco:</b> Baixo (15.19)<br><b>VP:</b> 6.49<br><b>AM:</b> 2.34",
         "marker": {
          "color": "#4CAF50",
          "line": {
           "color": "black",
           "width": 1
          },
          "size": 12
         },
         "mode": "markers",
         "showlegend": false,
         "type": "scatter",
         "x": [
          6.49
         ],
         "y": [
          2.34
         ]
        },
        {
         "hoverinfo": "text",
         "hovertext": "<b>Estação:</b> Campina do Barreto<br><b>Data:</b> 2025-05-17<br><b>Hora:</b> 02:00:00<br><b>Risco:</b> Baixo (0.0)<br><b>VP:</b> 0.0<br><b>AM:</b> 2.22",
         "marker": {
          "color": "#4CAF50",
          "line": {
           "color": "black",
           "width": 1
          },
          "size": 12
         },
         "mode": "markers",
         "showlegend": false,
         "type": "scatter",
         "x": [
          0
         ],
         "y": [
          2.22
         ]
        },
        {
         "hoverinfo": "text",
         "hovertext": "<b>Estação:</b> Campina do Barreto<br><b>Data:</b> 2025-05-17<br><b>Hora:</b> 08:00:00<br><b>Risco:</b> Baixo (0.0)<br><b>VP:</b> 0.0<br><b>AM:</b> 2.22",
         "marker": {
          "color": "#4CAF50",
          "line": {
           "color": "black",
           "width": 1
          },
          "size": 12
         },
         "mode": "markers",
         "showlegend": false,
         "type": "scatter",
         "x": [
          0
         ],
         "y": [
          2.22
         ]
        },
        {
         "hoverinfo": "text",
         "hovertext": "<b>Estação:</b> Campina do Barreto<br><b>Data:</b> 2025-05-17<br><b>Hora:</b> 14:00:00<br><b>Risco:</b> Baixo (0.0)<br><b>VP:</b> 0.0<br><b>AM:</b> 2.22",
         "marker": {
          "color": "#4CAF50",
          "line": {
           "color": "black",
           "width": 1
          },
          "size": 12
         },
         "mode": "markers",
         "showlegend": false,
         "type": "scatter",
         "x": [
          0
         ],
         "y": [
          2.22
         ]
        },
        {
         "hoverinfo": "text",
         "hovertext": "<b>Estação:</b> Campina do Barreto<br><b>Data:</b> 2025-05-17<br><b>Hora:</b> 20:00:00<br><b>Risco:</b> Baixo (0.0)<br><b>VP:</b> 0.0<br><b>AM:</b> 2.22",
         "marker": {
          "color": "#4CAF50",
          "line": {
           "color": "black",
           "width": 1
          },
          "size": 12
         },
         "mode": "markers",
         "showlegend": false,
         "type": "scatter",
         "x": [
          0
         ],
         "y": [
          2.22
         ]
        },
        {
         "hoverinfo": "text",
         "hovertext": "<b>Estação:</b> Campina do Barreto<br><b>Data:</b> 2025-05-18<br><b>Hora:</b> 02:00:00<br><b>Risco:</b> Baixo (0.0)<br><b>VP:</b> 0.0<br><b>AM:</b> 2.11",
         "marker": {
          "color": "#4CAF50",
          "line": {
           "color": "black",
           "width": 1
          },
          "size": 12
         },
         "mode": "markers",
         "showlegend": false,
         "type": "scatter",
         "x": [
          0
         ],
         "y": [
          2.11
         ]
        },
        {
         "hoverinfo": "text",
         "hovertext": "<b>Estação:</b> Campina do Barreto<br><b>Data:</b> 2025-05-18<br><b>Hora:</b> 08:00:00<br><b>Risco:</b> Baixo (0.42)<br><b>VP:</b> 0.2<br><b>AM:</b> 2.11",
         "marker": {
          "color": "#4CAF50",
          "line": {
           "color": "black",
           "width": 1
          },
          "size": 12
         },
         "mode": "markers",
         "showlegend": false,
         "type": "scatter",
         "x": [
          0.2
         ],
         "y": [
          2.11
         ]
        },
        {
         "hoverinfo": "text",
         "hovertext": "<b>Estação:</b> Campina do Barreto<br><b>Data:</b> 2025-05-18<br><b>Hora:</b> 14:00:00<br><b>Risco:</b> Baixo (0.0)<br><b>VP:</b> 0.0<br><b>AM:</b> 2.11",
         "marker": {
          "color": "#4CAF50",
          "line": {
           "color": "black",
           "width": 1
          },
          "size": 12
         },
         "mode": "markers",
         "showlegend": false,
         "type": "scatter",
         "x": [
          0
         ],
         "y": [
          2.11
         ]
        },
        {
         "hoverinfo": "text",
         "hovertext": "<b>Estação:</b> Campina do Barreto<br><b>Data:</b> 2025-05-18<br><b>Hora:</b> 20:00:00<br><b>Risco:</b> Baixo (0.0)<br><b>VP:</b> 0.0<br><b>AM:</b> 2.11",
         "marker": {
          "color": "#4CAF50",
          "line": {
           "color": "black",
           "width": 1
          },
          "size": 12
         },
         "mode": "markers",
         "showlegend": false,
         "type": "scatter",
         "x": [
          0
         ],
         "y": [
          2.11
         ]
        },
        {
         "hoverinfo": "text",
         "hovertext": "<b>Estação:</b> Campina do Barreto<br><b>Data:</b> 2025-05-19<br><b>Hora:</b> 02:00:00<br><b>Risco:</b> Baixo (0.41)<br><b>VP:</b> 0.2<br><b>AM:</b> 2.05",
         "marker": {
          "color": "#4CAF50",
          "line": {
           "color": "black",
           "width": 1
          },
          "size": 12
         },
         "mode": "markers",
         "showlegend": false,
         "type": "scatter",
         "x": [
          0.2
         ],
         "y": [
          2.05
         ]
        },
        {
         "hoverinfo": "text",
         "hovertext": "<b>Estação:</b> Campina do Barreto<br><b>Data:</b> 2025-05-19<br><b>Hora:</b> 08:00:00<br><b>Risco:</b> Baixo (0.0)<br><b>VP:</b> 0.0<br><b>AM:</b> 2.05",
         "marker": {
          "color": "#4CAF50",
          "line": {
           "color": "black",
           "width": 1
          },
          "size": 12
         },
         "mode": "markers",
         "showlegend": false,
         "type": "scatter",
         "x": [
          0
         ],
         "y": [
          2.05
         ]
        },
        {
         "hoverinfo": "text",
         "hovertext": "<b>Estação:</b> Campina do Barreto<br><b>Data:</b> 2025-05-19<br><b>Hora:</b> 14:00:00<br><b>Risco:</b> Baixo (0.0)<br><b>VP:</b> 0.0<br><b>AM:</b> 2.05",
         "marker": {
          "color": "#4CAF50",
          "line": {
           "color": "black",
           "width": 1
          },
          "size": 12
         },
         "mode": "markers",
         "showlegend": false,
         "type": "scatter",
         "x": [
          0
         ],
         "y": [
          2.05
         ]
        },
        {
         "hoverinfo": "text",
         "hovertext": "<b>Estação:</b> Campina do Barreto<br><b>Data:</b> 2025-05-19<br><b>Hora:</b> 20:00:00<br><b>Risco:</b> Baixo (0.0)<br><b>VP:</b> 0.0<br><b>AM:</b> 2.05",
         "marker": {
          "color": "#4CAF50",
          "line": {
           "color": "black",
           "width": 1
          },
          "size": 12
         },
         "mode": "markers",
         "showlegend": false,
         "type": "scatter",
         "x": [
          0
         ],
         "y": [
          2.05
         ]
        },
        {
         "hoverinfo": "text",
         "hovertext": "<b>Estação:</b> Campina do Barreto<br><b>Data:</b> 2025-05-20<br><b>Hora:</b> 02:00:00<br><b>Risco:</b> Baixo (0.0)<br><b>VP:</b> 0.0<br><b>AM:</b> 2.06",
         "marker": {
          "color": "#4CAF50",
          "line": {
           "color": "black",
           "width": 1
          },
          "size": 12
         },
         "mode": "markers",
         "showlegend": false,
         "type": "scatter",
         "x": [
          0
         ],
         "y": [
          2.06
         ]
        },
        {
         "hoverinfo": "text",
         "hovertext": "<b>Estação:</b> Campina do Barreto<br><b>Data:</b> 2025-05-20<br><b>Hora:</b> 08:00:00<br><b>Risco:</b> Baixo (4.86)<br><b>VP:</b> 2.36<br><b>AM:</b> 2.06",
         "marker": {
          "color": "#4CAF50",
          "line": {
           "color": "black",
           "width": 1
          },
          "size": 12
         },
         "mode": "markers",
         "showlegend": false,
         "type": "scatter",
         "x": [
          2.36
         ],
         "y": [
          2.06
         ]
        },
        {
         "hoverinfo": "text",
         "hovertext": "<b>Estação:</b> Campina do Barreto<br><b>Data:</b> 2025-05-20<br><b>Hora:</b> 14:00:00<br><b>Risco:</b> Baixo (0.41)<br><b>VP:</b> 0.2<br><b>AM:</b> 2.06",
         "marker": {
          "color": "#4CAF50",
          "line": {
           "color": "black",
           "width": 1
          },
          "size": 12
         },
         "mode": "markers",
         "showlegend": false,
         "type": "scatter",
         "x": [
          0.2
         ],
         "y": [
          2.06
         ]
        },
        {
         "hoverinfo": "text",
         "hovertext": "<b>Estação:</b> Campina do Barreto<br><b>Data:</b> 2025-05-20<br><b>Hora:</b> 20:00:00<br><b>Risco:</b> Baixo (11.31)<br><b>VP:</b> 5.49<br><b>AM:</b> 2.06",
         "marker": {
          "color": "#4CAF50",
          "line": {
           "color": "black",
           "width": 1
          },
          "size": 12
         },
         "mode": "markers",
         "showlegend": false,
         "type": "scatter",
         "x": [
          5.49
         ],
         "y": [
          2.06
         ]
        },
        {
         "hoverinfo": "text",
         "hovertext": "<b>Estação:</b> Campina do Barreto<br><b>Data:</b> 2025-05-21<br><b>Hora:</b> 02:00:00<br><b>Risco:</b> Baixo (2.99)<br><b>VP:</b> 1.38<br><b>AM:</b> 2.17",
         "marker": {
          "color": "#4CAF50",
          "line": {
           "color": "black",
           "width": 1
          },
          "size": 12
         },
         "mode": "markers",
         "showlegend": false,
         "type": "scatter",
         "x": [
          1.38
         ],
         "y": [
          2.17
         ]
        },
        {
         "hoverinfo": "text",
         "hovertext": "<b>Estação:</b> Campina do Barreto<br><b>Data:</b> 2025-05-21<br><b>Hora:</b> 08:00:00<br><b>Risco:</b> Moderado (41.36)<br><b>VP:</b> 19.06<br><b>AM:</b> 2.17",
         "marker": {
          "color": "#FFC107",
          "line": {
           "color": "black",
           "width": 1
          },
          "size": 12
         },
         "mode": "markers",
         "showlegend": false,
         "type": "scatter",
         "x": [
          19.06
         ],
         "y": [
          2.17
         ]
        },
        {
         "hoverinfo": "text",
         "hovertext": "<b>Estação:</b> Campina do Barreto<br><b>Data:</b> 2025-05-21<br><b>Hora:</b> 14:00:00<br><b>Risco:</b> Baixo (0.0)<br><b>VP:</b> 0.0<br><b>AM:</b> 2.17",
         "marker": {
          "color": "#4CAF50",
          "line": {
           "color": "black",
           "width": 1
          },
          "size": 12
         },
         "mode": "markers",
         "showlegend": false,
         "type": "scatter",
         "x": [
          0
         ],
         "y": [
          2.17
         ]
        },
        {
         "hoverinfo": "text",
         "hovertext": "<b>Estação:</b> Campina do Barreto<br><b>Data:</b> 2025-05-21<br><b>Hora:</b> 20:00:00<br><b>Risco:</b> Baixo (4.25)<br><b>VP:</b> 1.96<br><b>AM:</b> 2.17",
         "marker": {
          "color": "#4CAF50",
          "line": {
           "color": "black",
           "width": 1
          },
          "size": 12
         },
         "mode": "markers",
         "showlegend": false,
         "type": "scatter",
         "x": [
          1.96
         ],
         "y": [
          2.17
         ]
        },
        {
         "marker": {
          "color": "#4CAF50",
          "size": 10,
          "symbol": "square"
         },
         "mode": "markers",
         "name": "Baixo: RA < 30",
         "type": "scatter",
         "x": [
          null
         ],
         "y": [
          null
         ]
        },
        {
         "marker": {
          "color": "#FFC107",
          "size": 10,
          "symbol": "square"
         },
         "mode": "markers",
         "name": "Moderado: 30 ≤ RA < 50",
         "type": "scatter",
         "x": [
          null
         ],
         "y": [
          null
         ]
        },
        {
         "marker": {
          "color": "#FFA500",
          "size": 10,
          "symbol": "square"
         },
         "mode": "markers",
         "name": "Moderado Alto: 50 ≤ RA < 100",
         "type": "scatter",
         "x": [
          null
         ],
         "y": [
          null
         ]
        },
        {
         "marker": {
          "color": "#D32F2F",
          "size": 10,
          "symbol": "square"
         },
         "mode": "markers",
         "name": "Alto: RA ≥ 100",
         "type": "scatter",
         "x": [
          null
         ],
         "y": [
          null
         ]
        }
       ],
       "layout": {
        "legend": {
         "title": {
          "text": "<b>Níveis de Risco</b>"
         }
        },
        "showlegend": true,
        "template": {
         "data": {
          "bar": [
           {
            "error_x": {
             "color": "#2a3f5f"
            },
            "error_y": {
             "color": "#2a3f5f"
            },
            "marker": {
             "line": {
              "color": "#E5ECF6",
              "width": 0.5
             },
             "pattern": {
              "fillmode": "overlay",
              "size": 10,
              "solidity": 0.2
             }
            },
            "type": "bar"
           }
          ],
          "barpolar": [
           {
            "marker": {
             "line": {
              "color": "#E5ECF6",
              "width": 0.5
             },
             "pattern": {
              "fillmode": "overlay",
              "size": 10,
              "solidity": 0.2
             }
            },
            "type": "barpolar"
           }
          ],
          "carpet": [
           {
            "aaxis": {
             "endlinecolor": "#2a3f5f",
             "gridcolor": "white",
             "linecolor": "white",
             "minorgridcolor": "white",
             "startlinecolor": "#2a3f5f"
            },
            "baxis": {
             "endlinecolor": "#2a3f5f",
             "gridcolor": "white",
             "linecolor": "white",
             "minorgridcolor": "white",
             "startlinecolor": "#2a3f5f"
            },
            "type": "carpet"
           }
          ],
          "choropleth": [
           {
            "colorbar": {
             "outlinewidth": 0,
             "ticks": ""
            },
            "type": "choropleth"
           }
          ],
          "contour": [
           {
            "colorbar": {
             "outlinewidth": 0,
             "ticks": ""
            },
            "colorscale": [
             [
              0,
              "#0d0887"
             ],
             [
              0.1111111111111111,
              "#46039f"
             ],
             [
              0.2222222222222222,
              "#7201a8"
             ],
             [
              0.3333333333333333,
              "#9c179e"
             ],
             [
              0.4444444444444444,
              "#bd3786"
             ],
             [
              0.5555555555555556,
              "#d8576b"
             ],
             [
              0.6666666666666666,
              "#ed7953"
             ],
             [
              0.7777777777777778,
              "#fb9f3a"
             ],
             [
              0.8888888888888888,
              "#fdca26"
             ],
             [
              1,
              "#f0f921"
             ]
            ],
            "type": "contour"
           }
          ],
          "contourcarpet": [
           {
            "colorbar": {
             "outlinewidth": 0,
             "ticks": ""
            },
            "type": "contourcarpet"
           }
          ],
          "heatmap": [
           {
            "colorbar": {
             "outlinewidth": 0,
             "ticks": ""
            },
            "colorscale": [
             [
              0,
              "#0d0887"
             ],
             [
              0.1111111111111111,
              "#46039f"
             ],
             [
              0.2222222222222222,
              "#7201a8"
             ],
             [
              0.3333333333333333,
              "#9c179e"
             ],
             [
              0.4444444444444444,
              "#bd3786"
             ],
             [
              0.5555555555555556,
              "#d8576b"
             ],
             [
              0.6666666666666666,
              "#ed7953"
             ],
             [
              0.7777777777777778,
              "#fb9f3a"
             ],
             [
              0.8888888888888888,
              "#fdca26"
             ],
             [
              1,
              "#f0f921"
             ]
            ],
            "type": "heatmap"
           }
          ],
          "histogram": [
           {
            "marker": {
             "pattern": {
              "fillmode": "overlay",
              "size": 10,
              "solidity": 0.2
             }
            },
            "type": "histogram"
           }
          ],
          "histogram2d": [
           {
            "colorbar": {
             "outlinewidth": 0,
             "ticks": ""
            },
            "colorscale": [
             [
              0,
              "#0d0887"
             ],
             [
              0.1111111111111111,
              "#46039f"
             ],
             [
              0.2222222222222222,
              "#7201a8"
             ],
             [
              0.3333333333333333,
              "#9c179e"
             ],
             [
              0.4444444444444444,
              "#bd3786"
             ],
             [
              0.5555555555555556,
              "#d8576b"
             ],
             [
              0.6666666666666666,
              "#ed7953"
             ],
             [
              0.7777777777777778,
              "#fb9f3a"
             ],
             [
              0.8888888888888888,
              "#fdca26"
             ],
             [
              1,
              "#f0f921"
             ]
            ],
            "type": "histogram2d"
           }
          ],
          "histogram2dcontour": [
           {
            "colorbar": {
             "outlinewidth": 0,
             "ticks": ""
            },
            "colorscale": [
             [
              0,
              "#0d0887"
             ],
             [
              0.1111111111111111,
              "#46039f"
             ],
             [
              0.2222222222222222,
              "#7201a8"
             ],
             [
              0.3333333333333333,
              "#9c179e"
             ],
             [
              0.4444444444444444,
              "#bd3786"
             ],
             [
              0.5555555555555556,
              "#d8576b"
             ],
             [
              0.6666666666666666,
              "#ed7953"
             ],
             [
              0.7777777777777778,
              "#fb9f3a"
             ],
             [
              0.8888888888888888,
              "#fdca26"
             ],
             [
              1,
              "#f0f921"
             ]
            ],
            "type": "histogram2dcontour"
           }
          ],
          "mesh3d": [
           {
            "colorbar": {
             "outlinewidth": 0,
             "ticks": ""
            },
            "type": "mesh3d"
           }
          ],
          "parcoords": [
           {
            "line": {
             "colorbar": {
              "outlinewidth": 0,
              "ticks": ""
             }
            },
            "type": "parcoords"
           }
          ],
          "pie": [
           {
            "automargin": true,
            "type": "pie"
           }
          ],
          "scatter": [
           {
            "fillpattern": {
             "fillmode": "overlay",
             "size": 10,
             "solidity": 0.2
            },
            "type": "scatter"
           }
          ],
          "scatter3d": [
           {
            "line": {
             "colorbar": {
              "outlinewidth": 0,
              "ticks": ""
             }
            },
            "marker": {
             "colorbar": {
              "outlinewidth": 0,
              "ticks": ""
             }
            },
            "type": "scatter3d"
           }
          ],
          "scattercarpet": [
           {
            "marker": {
             "colorbar": {
              "outlinewidth": 0,
              "ticks": ""
             }
            },
            "type": "scattercarpet"
           }
          ],
          "scattergeo": [
           {
            "marker": {
             "colorbar": {
              "outlinewidth": 0,
              "ticks": ""
             }
            },
            "type": "scattergeo"
           }
          ],
          "scattergl": [
           {
            "marker": {
             "colorbar": {
              "outlinewidth": 0,
              "ticks": ""
             }
            },
            "type": "scattergl"
           }
          ],
          "scattermap": [
           {
            "marker": {
             "colorbar": {
              "outlinewidth": 0,
              "ticks": ""
             }
            },
            "type": "scattermap"
           }
          ],
          "scattermapbox": [
           {
            "marker": {
             "colorbar": {
              "outlinewidth": 0,
              "ticks": ""
             }
            },
            "type": "scattermapbox"
           }
          ],
          "scatterpolar": [
           {
            "marker": {
             "colorbar": {
              "outlinewidth": 0,
              "ticks": ""
             }
            },
            "type": "scatterpolar"
           }
          ],
          "scatterpolargl": [
           {
            "marker": {
             "colorbar": {
              "outlinewidth": 0,
              "ticks": ""
             }
            },
            "type": "scatterpolargl"
           }
          ],
          "scatterternary": [
           {
            "marker": {
             "colorbar": {
              "outlinewidth": 0,
              "ticks": ""
             }
            },
            "type": "scatterternary"
           }
          ],
          "surface": [
           {
            "colorbar": {
             "outlinewidth": 0,
             "ticks": ""
            },
            "colorscale": [
             [
              0,
              "#0d0887"
             ],
             [
              0.1111111111111111,
              "#46039f"
             ],
             [
              0.2222222222222222,
              "#7201a8"
             ],
             [
              0.3333333333333333,
              "#9c179e"
             ],
             [
              0.4444444444444444,
              "#bd3786"
             ],
             [
              0.5555555555555556,
              "#d8576b"
             ],
             [
              0.6666666666666666,
              "#ed7953"
             ],
             [
              0.7777777777777778,
              "#fb9f3a"
             ],
             [
              0.8888888888888888,
              "#fdca26"
             ],
             [
              1,
              "#f0f921"
             ]
            ],
            "type": "surface"
           }
          ],
          "table": [
           {
            "cells": {
             "fill": {
              "color": "#EBF0F8"
             },
             "line": {
              "color": "white"
             }
            },
            "header": {
             "fill": {
              "color": "#C8D4E3"
             },
             "line": {
              "color": "white"
             }
            },
            "type": "table"
           }
          ]
         },
         "layout": {
          "annotationdefaults": {
           "arrowcolor": "#2a3f5f",
           "arrowhead": 0,
           "arrowwidth": 1
          },
          "autotypenumbers": "strict",
          "coloraxis": {
           "colorbar": {
            "outlinewidth": 0,
            "ticks": ""
           }
          },
          "colorscale": {
           "diverging": [
            [
             0,
             "#8e0152"
            ],
            [
             0.1,
             "#c51b7d"
            ],
            [
             0.2,
             "#de77ae"
            ],
            [
             0.3,
             "#f1b6da"
            ],
            [
             0.4,
             "#fde0ef"
            ],
            [
             0.5,
             "#f7f7f7"
            ],
            [
             0.6,
             "#e6f5d0"
            ],
            [
             0.7,
             "#b8e186"
            ],
            [
             0.8,
             "#7fbc41"
            ],
            [
             0.9,
             "#4d9221"
            ],
            [
             1,
             "#276419"
            ]
           ],
           "sequential": [
            [
             0,
             "#0d0887"
            ],
            [
             0.1111111111111111,
             "#46039f"
            ],
            [
             0.2222222222222222,
             "#7201a8"
            ],
            [
             0.3333333333333333,
             "#9c179e"
            ],
            [
             0.4444444444444444,
             "#bd3786"
            ],
            [
             0.5555555555555556,
             "#d8576b"
            ],
            [
             0.6666666666666666,
             "#ed7953"
            ],
            [
             0.7777777777777778,
             "#fb9f3a"
            ],
            [
             0.8888888888888888,
             "#fdca26"
            ],
            [
             1,
             "#f0f921"
            ]
           ],
           "sequentialminus": [
            [
             0,
             "#0d0887"
            ],
            [
             0.1111111111111111,
             "#46039f"
            ],
            [
             0.2222222222222222,
             "#7201a8"
            ],
            [
             0.3333333333333333,
             "#9c179e"
            ],
            [
             0.4444444444444444,
             "#bd3786"
            ],
            [
             0.5555555555555556,
             "#d8576b"
            ],
            [
             0.6666666666666666,
             "#ed7953"
            ],
            [
             0.7777777777777778,
             "#fb9f3a"
            ],
            [
             0.8888888888888888,
             "#fdca26"
            ],
            [
             1,
             "#f0f921"
            ]
           ]
          },
          "colorway": [
           "#636efa",
           "#EF553B",
           "#00cc96",
           "#ab63fa",
           "#FFA15A",
           "#19d3f3",
           "#FF6692",
           "#B6E880",
           "#FF97FF",
           "#FECB52"
          ],
          "font": {
           "color": "#2a3f5f"
          },
          "geo": {
           "bgcolor": "white",
           "lakecolor": "white",
           "landcolor": "#E5ECF6",
           "showlakes": true,
           "showland": true,
           "subunitcolor": "white"
          },
          "hoverlabel": {
           "align": "left"
          },
          "hovermode": "closest",
          "mapbox": {
           "style": "light"
          },
          "paper_bgcolor": "white",
          "plot_bgcolor": "#E5ECF6",
          "polar": {
           "angularaxis": {
            "gridcolor": "white",
            "linecolor": "white",
            "ticks": ""
           },
           "bgcolor": "#E5ECF6",
           "radialaxis": {
            "gridcolor": "white",
            "linecolor": "white",
            "ticks": ""
           }
          },
          "scene": {
           "xaxis": {
            "backgroundcolor": "#E5ECF6",
            "gridcolor": "white",
            "gridwidth": 2,
            "linecolor": "white",
            "showbackground": true,
            "ticks": "",
            "zerolinecolor": "white"
           },
           "yaxis": {
            "backgroundcolor": "#E5ECF6",
            "gridcolor": "white",
            "gridwidth": 2,
            "linecolor": "white",
            "showbackground": true,
            "ticks": "",
            "zerolinecolor": "white"
           },
           "zaxis": {
            "backgroundcolor": "#E5ECF6",
            "gridcolor": "white",
            "gridwidth": 2,
            "linecolor": "white",
            "showbackground": true,
            "ticks": "",
            "zerolinecolor": "white"
           }
          },
          "shapedefaults": {
           "line": {
            "color": "#2a3f5f"
           }
          },
          "ternary": {
           "aaxis": {
            "gridcolor": "white",
            "linecolor": "white",
            "ticks": ""
           },
           "baxis": {
            "gridcolor": "white",
            "linecolor": "white",
            "ticks": ""
           },
           "bgcolor": "#E5ECF6",
           "caxis": {
            "gridcolor": "white",
            "linecolor": "white",
            "ticks": ""
           }
          },
          "title": {
           "x": 0.05
          },
          "xaxis": {
           "automargin": true,
           "gridcolor": "white",
           "linecolor": "white",
           "ticks": "",
           "title": {
            "standoff": 15
           },
           "zerolinecolor": "white",
           "zerolinewidth": 2
          },
          "yaxis": {
           "automargin": true,
           "gridcolor": "white",
           "linecolor": "white",
           "ticks": "",
           "title": {
            "standoff": 15
           },
           "zerolinecolor": "white",
           "zerolinewidth": 2
          }
         }
        },
        "title": {
         "text": "<b>Diagrama de Risco Interativo para a Estação: Campina do Barreto</b>"
        },
        "xaxis": {
         "range": [
          0,
          110
         ],
         "title": {
          "text": "Precipitação (milímetros)"
         }
        },
        "yaxis": {
         "range": [
          0,
          5
         ],
         "title": {
          "text": "Altura da Maré metros)"
         }
        }
       }
      }
     },
     "metadata": {},
     "output_type": "display_data"
    },
    {
     "name": "stdout",
     "output_type": "stream",
     "text": [
      "  -> Diagrama interativo para 'Campina do Barreto' salvo em: diagramas_interativos\\diagrama_interativo_Campina_do_Barreto.html\n"
     ]
    },
    {
     "data": {
      "application/vnd.plotly.v1+json": {
       "config": {
        "plotlyServerURL": "https://plot.ly"
       },
       "data": [
        {
         "colorscale": [
          [
           0,
           "#90EE90"
          ],
          [
           0.3,
           "#FFD700"
          ],
          [
           0.5,
           "#FFA500"
          ],
          [
           1,
           "#D32F2F"
          ]
         ],
         "showscale": false,
         "type": "heatmap",
         "x": {
          "bdata": "AAECAwQFBgcICQoLDA0ODxAREhMUFRYXGBkaGxwdHh8gISIjJCUmJygpKissLS4vMDEyMzQ1Njc4OTo7PD0+P0BBQkNERUZHSElKS0xNTk9QUVJTVFVWV1hZWltcXV5fYGFiY2RlZmdoaWprbG0=",
          "dtype": "i1"
         },
         "y": {
          "bdata": "AAAAAAAAAAAxb2dIzNupPzFvZ0jM27k/ZZNNNtlkwz8xb2dIzNvJP3+lQK1fKdA/ZZNNNtlk0z9LgVq/UqDWPzFvZ0jM29k/F1100UUX3T9/pUCtXyngP3Icx3Ecx+E/ZZNNNtlk4z9YCtT6lQLlP0uBWr9SoOY/Pvjggw8+6D8xb2dIzNvpPyTm7QyJees/F1100UUX7T8K1PqVArXuP3+lQK1fKfA/+OCDDz748D9yHMdxHMfxP+tXCtT6lfI/ZZNNNtlk8z/ezpCYtzP0P1gK1PqVAvU/0UUXXXTR9T9LgVq/UqD2P8S8nSExb/c/Pvjggw8++D+3MyTm7Qz5PzFvZ0jM2/k/q6qqqqqq+j8k5u0MiXn7P54hMW9nSPw/F1100UUX/T+RmLczJOb9PwrU+pUCtf4/hA8++OCD/z9/pUCtXykAQDtDYt7OkABA+OCDDz74AEC1fqVArV8BQHIcx3EcxwFALrrooosuAkDrVwrU+pUCQKj1KwVq/QJAZZNNNtlkA0AiMW9nSMwDQN7OkJi3MwRAm2yyySabBEBYCtT6lQIFQBWo9SsFagVA0UUXXXTRBUCO4ziO4zgGQEuBWr9SoAZACB988MEHB0DEvJ0hMW8HQIFav1Kg1gdAPvjggw8+CED7lQK1fqUIQLczJObtDAlAdNFFF110CUAxb2dIzNsJQO4MiXk7QwpAq6qqqqqqCkBnSMzbGRILQCTm7QyJeQtA4YMPPvjgC0CeITFvZ0gMQFq/UqDWrwxAF1100UUXDUDU+pUCtX4NQJGYtzMk5g1ATTbZZJNNDkAK1PqVArUOQMdxHMdxHA9AhA8++OCDD0BArV8pUOsPQH+lQK1fKRBAXXTRRRddEEA7Q2LezpAQQBoS83aGxBBA+OCDDz74EEDXrxSo9SsRQLV+pUCtXxFAk0022WSTEUByHMdxHMcRQFDrVwrU+hFALrrooosuEkANiXk7Q2ISQOtXCtT6lRJAyiabbLLJEkCo9SsFav0SQIbEvJ0hMRNAZZNNNtlkE0BDYt7OkJgTQCIxb2dIzBNAAAAAAAAAFEA=",
          "dtype": "f8"
         },
         "z": {
          "bdata": "AAAAAAAAAAAAAAAAAAAAAAAAAAAAAAAAAAAAAAAAAAAAAAAAAAAAAAAAAAAAAAAAAAAAAAAAAAAAAAAAAAAAAAAAAAAAAAAAAAAAAAAAAAAAAAAAAAAAAAAAAAAAAAAAAAAAAAAAAAAAAAAAAAAAAAAAAAAAAAAAAAAAAAAAAAAAAAAAAAAAAAAAAAAAAAAAAAAAAAAAAAAAAAAAAAAAAAAAAAAAAAAAAAAAAAAAAAAAAAAAAAAAAAAAAAAAAAAAAAAAAAAAAAAAAAAAAAAAAAAAAAAAAAAAAAAAAAAAAAAAAAAAAAAAAAAAAAAAAAAAAAAAAAAAAAAAAAAAAAAAAAAAAAAAAAAAAAAAAAAAAAAAAAAAAAAAAAAAAAAAAAAAAAAAAAAAAAAAAAAAAAAAAAAAAAAAAAAAAAAAAAAAAAAAAAAAAAAAAAAAAAAAAAAAAAAAAAAAAAAAAAAAAAAAAAAAAAAAAAAAAAAAAAAAAAAAAAAAAAAAAAAAAAAAAAAAAAAAAAAAAAAAAAAAAAAAAAAAAAAAAAAAAAAAAAAAAAAAAAAAAAAAAAAAAAAAAAAAAAAAAAAAAAAAAAAAAAAAAAAAAAAAAAAAAAAAAAAAAAAAAAAAAAAAAAAAAAAAAAAAAAAAAAAAAAAAAAAAAAAAAAAAAAAAAAAAAAAAAAAAAAAAAAAAAAAAAAAAAAAAAAAAAAAAAAAAAAAAAAAAAAAAAAAAAAAAAAAAAAAAAAAAAAAAAAAAAAAAAAAAAAAAAAAAAAAAAAAAAAAAAAAAAAAAAAAAAAAAAAAAAAAAAAAAAAAAAAAAAAAAAAAAAAAAAAAAAAAAAAAAAAAAAAAAAAAAAAAAAAAAAAAAAAAAAAAAAAAAAAAAAAAAAAAAAAAAAAAAAAAAAAAAAAAAAAAAAAAAAAAAAAAAAAAAAAAAAAAAAAAAAAAAAAAAAAAAAAAAAAAAAAAAAAAAAAAAAAAAAAAAAAAAAAAAAAAAAAAAAAAAAAAAAAAAAAAAAAAAAAAAAAAAAAAAAAAAAAAAAAAAAAAAAAAAAAAAAAAAAAAAAAAAAAAAAAAAAAAAAAAAAAAAAAAAAAAAAAAAAAAAAAAAAAAAAAAAAAAAAAAAAAAAAAAAAAAAAAAAAAAAAAAAAAAAAAAAAAAAAAAAAAAAAAAAAAAAAAAAAAAAAAAAMW9nSMzbqT8xb2dIzNu5P2WTTTbZZMM/MW9nSMzbyT9/pUCtXynQP2WTTTbZZNM/S4Fav1Kg1j8xb2dIzNvZPxdddNFFF90/f6VArV8p4D9yHMdxHMfhP2WTTTbZZOM/WArU+pUC5T9LgVq/UqDmPz744IMPPug/MW9nSMzb6T8k5u0MiXnrPxdddNFFF+0/CtT6lQK17j9/pUCtXynwP/jggw8++PA/chzHcRzH8T/rVwrU+pXyP2WTTTbZZPM/3s6QmLcz9D9YCtT6lQL1P9FFF1100fU/S4Fav1Kg9j/EvJ0hMW/3Pz744IMPPvg/tzMk5u0M+T8xb2dIzNv5P6uqqqqqqvo/JObtDIl5+z+eITFvZ0j8PxdddNFFF/0/kZi3MyTm/T8K1PqVArX+P4QPPvjgg/8/f6VArV8pAEA7Q2LezpAAQPjggw8++ABAtX6lQK1fAUByHMdxHMcBQC666KKLLgJA61cK1PqVAkCo9SsFav0CQGWTTTbZZANAIjFvZ0jMA0DezpCYtzMEQJtssskmmwRAWArU+pUCBUAVqPUrBWoFQNFFF1100QVAjuM4juM4BkBLgVq/UqAGQAgffPDBBwdAxLydITFvB0CBWr9SoNYHQD744IMPPghA+5UCtX6lCEC3MyTm7QwJQHTRRRdddAlAMW9nSMzbCUDuDIl5O0MKQKuqqqqqqgpAZ0jM2xkSC0Ak5u0MiXkLQOGDDz744AtAniExb2dIDEBav1Kg1q8MQBdddNFFFw1A1PqVArV+DUCRmLczJOYNQE022WSTTQ5ACtT6lQK1DkDHcRzHcRwPQIQPPvjggw9AQK1fKVDrD0B/pUCtXykQQF100UUXXRBAO0Ni3s6QEEAaEvN2hsQQQPjggw8++BBA168UqPUrEUC1fqVArV8RQJNNNtlkkxFAchzHcRzHEUBQ61cK1PoRQC666KKLLhJADYl5O0NiEkDrVwrU+pUSQMomm2yyyRJAqPUrBWr9EkCGxLydITETQGWTTTbZZBNAQ2LezpCYE0AiMW9nSMwTQAAAAAAAABRA3s6QmLczFEC9nSExb2cUQJtssskmmxRAeTtDYt7OFEBYCtT6lQIVQDbZZJNNNhVAFaj1KwVqFUDzdobEvJ0VQNFFF1100RVAsBSo9SsFFkAAAAAAAAAAADFvZ0jM27k/MW9nSMzbyT9lk0022WTTPzFvZ0jM29k/f6VArV8p4D9lk0022WTjP0uBWr9SoOY/MW9nSMzb6T8XXXTRRRftP3+lQK1fKfA/chzHcRzH8T9lk0022WTzP1gK1PqVAvU/S4Fav1Kg9j8++OCDDz74PzFvZ0jM2/k/JObtDIl5+z8XXXTRRRf9PwrU+pUCtf4/f6VArV8pAED44IMPPvgAQHIcx3EcxwFA61cK1PqVAkBlk0022WQDQN7OkJi3MwRAWArU+pUCBUDRRRdddNEFQEuBWr9SoAZAxLydITFvB0A++OCDDz4IQLczJObtDAlAMW9nSMzbCUCrqqqqqqoKQCTm7QyJeQtAniExb2dIDEAXXXTRRRcNQJGYtzMk5g1ACtT6lQK1DkCEDz744IMPQH+lQK1fKRBAO0Ni3s6QEED44IMPPvgQQLV+pUCtXxFAchzHcRzHEUAuuuiiiy4SQOtXCtT6lRJAqPUrBWr9EkBlk0022WQTQCIxb2dIzBNA3s6QmLczFECbbLLJJpsUQFgK1PqVAhVAFaj1KwVqFUDRRRdddNEVQI7jOI7jOBZAS4Fav1KgFkAIH3zwwQcXQMS8nSExbxdAgVq/UqDWF0A++OCDDz4YQPuVArV+pRhAtzMk5u0MGUB00UUXXXQZQDFvZ0jM2xlA7gyJeTtDGkCrqqqqqqoaQGdIzNsZEhtAJObtDIl5G0Dhgw8++OAbQJ4hMW9nSBxAWr9SoNavHEAXXXTRRRcdQNT6lQK1fh1AkZi3MyTmHUBNNtlkk00eQArU+pUCtR5Ax3Ecx3EcH0CEDz744IMfQECtXylQ6x9Af6VArV8pIEBddNFFF10gQDtDYt7OkCBAGhLzdobEIED44IMPPvggQNevFKj1KyFAtX6lQK1fIUCTTTbZZJMhQHIcx3EcxyFAUOtXCtT6IUAuuuiiiy4iQA2JeTtDYiJA61cK1PqVIkDKJptssskiQKj1KwVq/SJAhsS8nSExI0Blk0022WQjQENi3s6QmCNAIjFvZ0jMI0AAAAAAAAAkQN7OkJi3MyRAvZ0hMW9nJECbbLLJJpskQHk7Q2LeziRAWArU+pUCJUA22WSTTTYlQBWo9SsFaiVA83aGxLydJUDRRRdddNElQLAUqPUrBSZAAAAAAAAAAABlk0022WTDP2WTTTbZZNM/GF100UUX3T9lk0022WTjPz744IMPPug/GF100UUX7T/44IMPPvjwP2WTTTbZZPM/0kUXXXTR9T8++OCDDz74P6uqqqqqqvo/GF100UUX/T+EDz744IP/P/jggw8++ABAL7rooosuAkBlk0022WQDQJtssskmmwRA0kUXXXTRBUAIH3zwwQcHQD744IMPPghAddFFF110CUCrqqqqqqoKQOGDDz744AtAGF100UUXDUBONtlkk00OQIQPPvjggw9AXXTRRRddEED44IMPPvgQQJRNNtlkkxFAL7rooosuEkDKJptssskSQGWTTTbZZBNAAAAAAAAAFECbbLLJJpsUQDbZZJNNNhVA0kUXXXTRFUBtsskmm2wWQAgffPDBBxdAo4suuuiiF0A++OCDDz4YQNlkk0022RhAddFFF110GUAQPvjggw8aQKuqqqqqqhpARhdddNFFG0Dhgw8++OAbQHzwwQcffBxAGF100UUXHUCzySabbLIdQE422WSTTR5A6aKLLrroHkCEDz744IMfQBA++OCDDyBAXXTRRRddIECrqqqqqqogQPjggw8++CBARhdddNFFIUCUTTbZZJMhQOGDDz744CFAL7rooosuIkB88MEHH3wiQMomm2yyySJAF1100UUXI0Blk0022WQjQLPJJptssiNAAAAAAAAAJEBONtlkk00kQJtssskmmyRA6aKLLrroJEA22WSTTTYlQIQPPvjggyVA0kUXXXTRJUAffPDBBx8mQG2yySabbCZAuuiiiy66JkAIH3zwwQcnQFZVVVVVVSdAo4suuuiiJ0DxwQcffPAnQD744IMPPihAjC666KKLKEDZZJNNNtkoQCebbLLJJilAddFFF110KUDCBx988MEpQBA++OCDDypAXXTRRRddKkCrqqqqqqoqQPjggw8++CpARhdddNFFK0CUTTbZZJMrQOGDDz744CtAL7rooosuLEB88MEHH3wsQMomm2yyySxAGF100UUXLUBlk0022WQtQLPJJptssi1AAAAAAAAALkBONtlkk00uQJtssskmmy5A6aKLLrroLkA32WSTTTYvQIQPPvjggy9A0kUXXXTRL0AQPvjggw8wQDbZZJNNNjBAXXTRRRddMECEDz744IMwQAAAAAAAAAAAMW9nSMzbyT8xb2dIzNvZP2WTTTbZZOM/MW9nSMzb6T9/pUCtXynwP2WTTTbZZPM/S4Fav1Kg9j8xb2dIzNv5PxdddNFFF/0/f6VArV8pAEByHMdxHMcBQGWTTTbZZANAWArU+pUCBUBLgVq/UqAGQD744IMPPghAMW9nSMzbCUAk5u0MiXkLQBdddNFFFw1ACtT6lQK1DkB/pUCtXykQQPjggw8++BBAchzHcRzHEUDrVwrU+pUSQGWTTTbZZBNA3s6QmLczFEBYCtT6lQIVQNFFF1100RVAS4Fav1KgFkDEvJ0hMW8XQD744IMPPhhAtzMk5u0MGUAxb2dIzNsZQKuqqqqqqhpAJObtDIl5G0CeITFvZ0gcQBdddNFFFx1AkZi3MyTmHUAK1PqVArUeQIQPPvjggx9Af6VArV8pIEA7Q2LezpAgQPjggw8++CBAtX6lQK1fIUByHMdxHMchQC666KKLLiJA61cK1PqVIkCo9SsFav0iQGWTTTbZZCNAIjFvZ0jMI0DezpCYtzMkQJtssskmmyRAWArU+pUCJUAVqPUrBWolQNFFF1100SVAjuM4juM4JkBLgVq/UqAmQAgffPDBBydAxLydITFvJ0CBWr9SoNYnQD744IMPPihA+5UCtX6lKEC3MyTm7QwpQHTRRRdddClAMW9nSMzbKUDuDIl5O0MqQKuqqqqqqipAZ0jM2xkSK0Ak5u0MiXkrQOGDDz744CtAniExb2dILEBav1Kg1q8sQBdddNFFFy1A1PqVArV+LUCRmLczJOYtQE022WSTTS5ACtT6lQK1LkDHcRzHcRwvQIQPPvjggy9AQK1fKVDrL0B/pUCtXykwQF100UUXXTBAO0Ni3s6QMEAaEvN2hsQwQPjggw8++DBA168UqPUrMUC1fqVArV8xQJNNNtlkkzFAchzHcRzHMUBQ61cK1PoxQC666KKLLjJADYl5O0NiMkDrVwrU+pUyQMomm2yyyTJAqPUrBWr9MkCGxLydITEzQGWTTTbZZDNAQ2LezpCYM0AiMW9nSMwzQAAAAAAAADRA3s6QmLczNEC9nSExb2c0QJtssskmmzRAeTtDYt7ONEBYCtT6lQI1QDbZZJNNNjVAFaj1KwVqNUDzdobEvJ01QNFFF1100TVAsBSo9SsFNkAAAAAAAAAAAH+lQK1fKdA/f6VArV8p4D8++OCDDz7oP3+lQK1fKfA/386QmLcz9D8++OCDDz74P54hMW9nSPw/f6VArV8pAEAvuuiiiy4CQN/OkJi3MwRAj+M4juM4BkA++OCDDz4IQO4MiXk7QwpAniExb2dIDEBONtlkk00OQH+lQK1fKRBA168UqPUrEUAvuuiiiy4SQIfEvJ0hMRNA386QmLczFEA32WSTTTYVQI/jOI7jOBZA5+0MiXk7F0A++OCDDz4YQJYCtX6lQBlA7gyJeTtDGkBGF1100UUbQJ4hMW9nSBxA9isFav1KHUBONtlkk00eQKZArV8pUB9Af6VArV8pIECrqqqqqqogQNevFKj1KyFAA7V+pUCtIUAvuuiiiy4iQFu/UqDWryJAh8S8nSExI0CzySabbLIjQN/OkJi3MyRAC9T6lQK1JEA32WSTTTYlQGPezpCYtyVAj+M4juM4JkC76KKLLromQOftDIl5OydAE/N2hsS8J0A++OCDDz4oQGr9SoFavyhAlgK1fqVAKUDCBx988MEpQO4MiXk7QypAGhLzdobEKkBGF1100UUrQHIcx3EcxytAniExb2dILEDKJptsssksQPYrBWr9Si1AIjFvZ0jMLUBONtlkk00uQHo7Q2Lezi5ApkCtXylQL0DSRRdddNEvQH+lQK1fKTBAFaj1KwVqMECrqqqqqqowQEGtXylQ6zBA168UqPUrMUBtsskmm2wxQAO1fqVArTFAmbczJObtMUAvuuiiiy4yQMW8nSExbzJAW79SoNavMkDxwQcffPAyQIfEvJ0hMTNAHcdxHMdxM0CzySabbLIzQEnM2xkS8zNA386QmLczNEB10UUXXXQ0QAvU+pUCtTRAodavFKj1NEA32WSTTTY1QM3bGRLzdjVAY97OkJi3NUD54IMPPvg1QI/jOI7jODZAJebtDIl5NkC76KKLLro2QFHrVwrU+jZA5+0MiXk7N0B98MEHH3w3QBPzdobEvDdAqfUrBWr9N0A++OCDDz44QNT6lQK1fjhAav1KgVq/OEAAAAAAAAA5QJYCtX6lQDlALAVq/UqBOUDCBx988ME5QFgK1PqVAjpA7gyJeTtDOkCEDz744IM6QBoS83aGxDpAsBSo9SsFO0BGF1100UU7QNwZEvN2hjtAAAAAAAAAAABlk0022WTTP2WTTTbZZOM/GF100UUX7T9lk0022WTzPz744IMPPvg/GF100UUX/T/44IMPPvgAQGWTTTbZZANA0kUXXXTRBUA++OCDDz4IQKuqqqqqqgpAGF100UUXDUCEDz744IMPQPjggw8++BBAL7rooosuEkBlk0022WQTQJtssskmmxRA0kUXXXTRFUAIH3zwwQcXQD744IMPPhhAddFFF110GUCrqqqqqqoaQOGDDz744BtAGF100UUXHUBONtlkk00eQIQPPvjggx9AXXTRRRddIED44IMPPvggQJRNNtlkkyFAL7rooosuIkDKJptssskiQGWTTTbZZCNAAAAAAAAAJECbbLLJJpskQDbZZJNNNiVA0kUXXXTRJUBtsskmm2wmQAgffPDBBydAo4suuuiiJ0A++OCDDz4oQNlkk0022ShAddFFF110KUAQPvjggw8qQKuqqqqqqipARhdddNFFK0Dhgw8++OArQHzwwQcffCxAGF100UUXLUCzySabbLItQE422WSTTS5A6aKLLrroLkCEDz744IMvQBA++OCDDzBAXXTRRRddMECrqqqqqqowQPjggw8++DBARhdddNFFMUCUTTbZZJMxQOGDDz744DFAL7rooosuMkB88MEHH3wyQMomm2yyyTJAF1100UUXM0Blk0022WQzQLPJJptssjNAAAAAAAAANEBONtlkk000QJtssskmmzRA6aKLLrroNEA22WSTTTY1QIQPPvjggzVA0kUXXXTRNUAffPDBBx82QG2yySabbDZAuuiiiy66NkAIH3zwwQc3QFZVVVVVVTdAo4suuuiiN0DxwQcffPA3QD744IMPPjhAjC666KKLOEDZZJNNNtk4QCebbLLJJjlAddFFF110OUDCBx988ME5QBA++OCDDzpAXXTRRRddOkCrqqqqqqo6QPjggw8++DpARhdddNFFO0CUTTbZZJM7QOGDDz744DtAL7rooosuPEB88MEHH3w8QMomm2yyyTxAGF100UUXPUBlk0022WQ9QLPJJptssj1AAAAAAAAAPkBONtlkk00+QJtssskmmz5A6aKLLrroPkA32WSTTTY/QIQPPvjggz9A0kUXXXTRP0AQPvjggw9AQDbZZJNNNkBAXXTRRRddQECEDz744INAQAAAAAAAAAAAS4Fav1Kg1j9LgVq/UqDmP/jggw8++PA/S4Fav1Kg9j+eITFvZ0j8P/jggw8++ABAIjFvZ0jMA0BLgVq/UqAGQHTRRRdddAlAniExb2dIDEDHcRzHcRwPQPjggw8++BBADYl5O0NiEkAiMW9nSMwTQDbZZJNNNhVAS4Fav1KgFkBgKVDrVwoYQHTRRRdddBlAiXk7Q2LeGkCeITFvZ0gcQLLJJptssh1Ax3Ecx3EcH0DuDIl5O0MgQPjggw8++CBAA7V+pUCtIUANiXk7Q2IiQBdddNFFFyNAIjFvZ0jMI0AsBWr9SoEkQDbZZJNNNiVAQa1fKVDrJUBLgVq/UqAmQFVVVVVVVSdAYClQ61cKKEBq/UqBWr8oQHTRRRdddClAf6VArV8pKkCJeTtDYt4qQJNNNtlkkytAniExb2dILECo9SsFav0sQLLJJptssi1AvZ0hMW9nLkDHcRzHcRwvQNFFF1100S9A7gyJeTtDMEDzdobEvJ0wQPjggw8++DBA/UqBWr9SMUADtX6lQK0xQAgffPDBBzJADYl5O0NiMkAS83aGxLwyQBdddNFFFzNAHMdxHMdxM0AiMW9nSMwzQCebbLLJJjRALAVq/UqBNEAxb2dIzNs0QDbZZJNNNjVAO0Ni3s6QNUBBrV8pUOs1QEYXXXTRRTZAS4Fav1KgNkBQ61cK1Po2QFVVVVVVVTdAW79SoNavN0BgKVDrVwo4QGWTTTbZZDhAav1KgVq/OEBvZ0jM2xk5QHTRRRdddDlAejtDYt7OOUB/pUCtXyk6QIQPPvjggzpAiXk7Q2LeOkCO4ziO4zg7QJNNNtlkkztAmbczJObtO0CeITFvZ0g8QKOLLrroojxAqPUrBWr9PECtXylQ61c9QLLJJptssj1AuDMk5u0MPkC9nSExb2c+QMIHH3zwwT5Ax3Ecx3EcP0DM2xkS83Y/QNFFF1100T9A61cK1PoVQEDuDIl5O0NAQPDBBx98cEBA83aGxLydQED2KwVq/cpAQPjggw8++EBA+5UCtX4lQUD9SoFav1JBQAAAAAAAgEFAA7V+pUCtQUAFav1KgdpBQAgffPDBB0JACtT6lQI1QkANiXk7Q2JCQBA++OCDj0JAEvN2hsS8QkAVqPUrBepCQBdddNFFF0NAGhLzdoZEQ0AAAAAAAAAAADFvZ0jM29k/MW9nSMzb6T9lk0022WTzPzFvZ0jM2/k/f6VArV8pAEBlk0022WQDQEuBWr9SoAZAMW9nSMzbCUAXXXTRRRcNQH+lQK1fKRBAchzHcRzHEUBlk0022WQTQFgK1PqVAhVAS4Fav1KgFkA++OCDDz4YQDFvZ0jM2xlAJObtDIl5G0AXXXTRRRcdQArU+pUCtR5Af6VArV8pIED44IMPPvggQHIcx3EcxyFA61cK1PqVIkBlk0022WQjQN7OkJi3MyRAWArU+pUCJUDRRRdddNElQEuBWr9SoCZAxLydITFvJ0A++OCDDz4oQLczJObtDClAMW9nSMzbKUCrqqqqqqoqQCTm7QyJeStAniExb2dILEAXXXTRRRctQJGYtzMk5i1ACtT6lQK1LkCEDz744IMvQH+lQK1fKTBAO0Ni3s6QMED44IMPPvgwQLV+pUCtXzFAchzHcRzHMUAuuuiiiy4yQOtXCtT6lTJAqPUrBWr9MkBlk0022WQzQCIxb2dIzDNA3s6QmLczNECbbLLJJps0QFgK1PqVAjVAFaj1KwVqNUDRRRdddNE1QI7jOI7jODZAS4Fav1KgNkAIH3zwwQc3QMS8nSExbzdAgVq/UqDWN0A++OCDDz44QPuVArV+pThAtzMk5u0MOUB00UUXXXQ5QDFvZ0jM2zlA7gyJeTtDOkCrqqqqqqo6QGdIzNsZEjtAJObtDIl5O0Dhgw8++OA7QJ4hMW9nSDxAWr9SoNavPEAXXXTRRRc9QNT6lQK1fj1AkZi3MyTmPUBNNtlkk00+QArU+pUCtT5Ax3Ecx3EcP0CEDz744IM/QECtXylQ6z9Af6VArV8pQEBddNFFF11AQDtDYt7OkEBAGhLzdobEQED44IMPPvhAQNevFKj1K0FAtX6lQK1fQUCTTTbZZJNBQHIcx3Ecx0FAUOtXCtT6QUAuuuiiiy5CQA2JeTtDYkJA61cK1PqVQkDKJptssslCQKj1KwVq/UJAhsS8nSExQ0Blk0022WRDQENi3s6QmENAIjFvZ0jMQ0AAAAAAAABEQN7OkJi3M0RAvZ0hMW9nRECbbLLJJptEQHk7Q2LezkRAWArU+pUCRUA22WSTTTZFQBWo9SsFakVA83aGxLydRUDRRRdddNFFQLAUqPUrBUZAAAAAAAAAAAAXXXTRRRfdPxdddNFFF+0/0UUXXXTR9T8XXXTRRRf9Py666KKLLgJA0UUXXXTRBUB00UUXXXQJQBdddNFFFw1AXXTRRRddEEAuuuiiiy4SQAAAAAAAABRA0UUXXXTRFUCjiy666KIXQHTRRRdddBlARhdddNFFG0AXXXTRRRcdQOiiiy666B5AXXTRRRddIEBGF1100UUhQC666KKLLiJAF1100UUXI0AAAAAAAAAkQOmiiy666CRA0UUXXXTRJUC66KKLLromQKOLLrrooidAiy666KKLKEB00UUXXXQpQF100UUXXSpARhdddNFFK0Auuuiiiy4sQBdddNFFFy1AAAAAAAAALkDooosuuuguQNFFF1100S9AXXTRRRddMEDRRRdddNEwQEYXXXTRRTFAuuiiiy66MUAuuuiiiy4yQKOLLrroojJAF1100UUXM0CLLrroooszQAAAAAAAADRAdNFFF110NEDpoosuuug0QF100UUXXTVA0UUXXXTRNUBGF1100UU2QLrooosuujZALrrooosuN0Cjiy666KI3QBdddNFFFzhAiy666KKLOEAAAAAAAAA5QHTRRRdddDlA6KKLLrroOUBddNFFF106QNFFF1100TpARhdddNFFO0C66KKLLro7QC666KKLLjxAo4suuuiiPEAXXXTRRRc9QIsuuuiiiz1AAAAAAAAAPkB00UUXXXQ+QOiiiy666D5AXXTRRRddP0DRRRdddNE/QKOLLrroIkBAXXTRRRddQEAXXXTRRZdAQNFFF1100UBAiy666KILQUBGF1100UVBQAAAAAAAgEFAuuiiiy66QUB00UUXXfRBQC666KKLLkJA6aKLLrpoQkCjiy666KJCQF100UUX3UJAF1100UUXQ0DRRRdddFFDQIsuuuiii0NARhdddNHFQ0AAAAAAAABEQLrooosuOkRAdNFFF110REAuuuiii65EQOmiiy666ERAo4suuugiRUBddNFFF11FQBdddNFFl0VA0UUXXXTRRUCLLrroogtGQEYXXXTRRUZAAAAAAACARkC66KKLLrpGQHTRRRdd9EZALrrooosuR0DpoosuumhHQKOLLrrookdAXXTRRRfdR0AXXXTRRRdIQNFFF110UUhAiy666KKLSEBGF1100cVIQAAAAAAAAAAAf6VArV8p4D9/pUCtXynwPz744IMPPvg/f6VArV8pAEDfzpCYtzMEQD744IMPPghAniExb2dIDEB/pUCtXykQQC+66KKLLhJA386QmLczFECP4ziO4zgWQD744IMPPhhA7gyJeTtDGkCeITFvZ0gcQE422WSTTR5Af6VArV8pIEDXrxSo9SshQC+66KKLLiJAh8S8nSExI0DfzpCYtzMkQDfZZJNNNiVAj+M4juM4JkDn7QyJeTsnQD744IMPPihAlgK1fqVAKUDuDIl5O0MqQEYXXXTRRStAniExb2dILED2KwVq/UotQE422WSTTS5ApkCtXylQL0B/pUCtXykwQKuqqqqqqjBA168UqPUrMUADtX6lQK0xQC+66KKLLjJAW79SoNavMkCHxLydITEzQLPJJptssjNA386QmLczNEAL1PqVArU0QDfZZJNNNjVAY97OkJi3NUCP4ziO4zg2QLvooosuujZA5+0MiXk7N0AT83aGxLw3QD744IMPPjhAav1KgVq/OECWArV+pUA5QMIHH3zwwTlA7gyJeTtDOkAaEvN2hsQ6QEYXXXTRRTtAchzHcRzHO0CeITFvZ0g8QMomm2yyyTxA9isFav1KPUAiMW9nSMw9QE422WSTTT5AejtDYt7OPkCmQK1fKVA/QNJFF1100T9Af6VArV8pQEAVqPUrBWpAQKuqqqqqqkBAQa1fKVDrQEDXrxSo9StBQG2yySabbEFAA7V+pUCtQUCZtzMk5u1BQC+66KKLLkJAxbydITFvQkBbv1Kg1q9CQPHBBx988EJAh8S8nSExQ0Adx3Ecx3FDQLPJJptsskNASczbGRLzQ0DfzpCYtzNEQHXRRRdddERAC9T6lQK1RECh1q8UqPVEQDfZZJNNNkVAzdsZEvN2RUBj3s6QmLdFQPnggw8++EVAj+M4juM4RkAl5u0MiXlGQLvooosuukZAUetXCtT6RkDn7QyJeTtHQH3wwQcffEdAE/N2hsS8R0Cp9SsFav1HQD744IMPPkhA1PqVArV+SEBq/UqBWr9IQAAAAAAAAElAlgK1fqVASUAsBWr9SoFJQMIHH3zwwUlAWArU+pUCSkDuDIl5O0NKQIQPPvjgg0pAGhLzdobESkCwFKj1KwVLQEYXXXTRRUtA3BkS83aGS0AAAAAAAAAAAHIcx3Ecx+E/chzHcRzH8T+rqqqqqqr6P3Icx3EcxwFAjuM4juM4BkCrqqqqqqoKQMhxHMdxHA9AchzHcRzHEUAAAAAAAAAUQI7jOI7jOBZAHcdxHMdxGECrqqqqqqoaQDmO4ziO4xxAyHEcx3EcH0CrqqqqqqogQHIcx3EcxyFAOY7jOI7jIkAAAAAAAAAkQMdxHMdxHCVAjuM4juM4JkBWVVVVVVUnQB3HcRzHcShA5DiO4ziOKUCrqqqqqqoqQHIcx3EcxytAOY7jOI7jLEAAAAAAAAAuQMhxHMdxHC9Ax3Ecx3EcMECrqqqqqqowQI7jOI7jODFAchzHcRzHMUBWVVVVVVUyQDmO4ziO4zJAHcdxHMdxM0AAAAAAAAA0QOQ4juM4jjRAx3Ecx3EcNUCrqqqqqqo1QI7jOI7jODZAchzHcRzHNkBWVVVVVVU3QDmO4ziO4zdAHcdxHMdxOEAAAAAAAAA5QOQ4juM4jjlAx3Ecx3EcOkCrqqqqqqo6QI/jOI7jODtAchzHcRzHO0BWVVVVVVU8QDmO4ziO4zxAHcdxHMdxPUAAAAAAAAA+QOQ4juM4jj5AyHEcx3EcP0Crqqqqqqo/QMdxHMdxHEBAOY7jOI5jQECrqqqqqqpAQB3HcRzH8UBAjuM4juM4QUAAAAAAAIBBQHIcx3Ecx0FA5DiO4zgOQkBWVVVVVVVCQMdxHMdxnEJAOY7jOI7jQkCrqqqqqipDQB3HcRzHcUNAjuM4juO4Q0AAAAAAAABEQHIcx3EcR0RA5DiO4ziOREBWVVVVVdVEQMdxHMdxHEVAOY7jOI5jRUCrqqqqqqpFQB3HcRzH8UVAjuM4juM4RkAAAAAAAIBGQHIcx3Ecx0ZA5DiO4zgOR0BWVVVVVVVHQMdxHMdxnEdAOY7jOI7jR0CrqqqqqipIQB3HcRzHcUhAj+M4juO4SEAAAAAAAABJQHIcx3EcR0lA5DiO4ziOSUBWVVVVVdVJQMdxHMdxHEpAOY7jOI5jSkCrqqqqqqpKQB3HcRzH8UpAj+M4juM4S0AAAAAAAIBLQHIcx3Ecx0tA5DiO4zgOTEBWVVVVVVVMQMdxHMdxnExAOY7jOI7jTECrqqqqqipNQB3HcRzHcU1Aj+M4juO4TUAAAAAAAABOQHIcx3EcR05AAAAAAAAAAABlk0022WTjP2WTTTbZZPM/GF100UUX/T9lk0022WQDQD744IMPPghAGF100UUXDUD44IMPPvgQQGWTTTbZZBNA0kUXXXTRFUA++OCDDz4YQKuqqqqqqhpAGF100UUXHUCEDz744IMfQPjggw8++CBAL7rooosuIkBlk0022WQjQJtssskmmyRA0kUXXXTRJUAIH3zwwQcnQD744IMPPihAddFFF110KUCrqqqqqqoqQOGDDz744CtAGF100UUXLUBONtlkk00uQIQPPvjggy9AXXTRRRddMED44IMPPvgwQJRNNtlkkzFAL7rooosuMkDKJptssskyQGWTTTbZZDNAAAAAAAAANECbbLLJJps0QDbZZJNNNjVA0kUXXXTRNUBtsskmm2w2QAgffPDBBzdAo4suuuiiN0A++OCDDz44QNlkk0022ThAddFFF110OUAQPvjggw86QKuqqqqqqjpARhdddNFFO0Dhgw8++OA7QHzwwQcffDxAGF100UUXPUCzySabbLI9QE422WSTTT5A6aKLLrroPkCEDz744IM/QBA++OCDD0BAXXTRRRddQECrqqqqqqpAQPjggw8++EBARhdddNFFQUCUTTbZZJNBQOGDDz744EFAL7rooosuQkB88MEHH3xCQMomm2yyyUJAF1100UUXQ0Blk0022WRDQLPJJptsskNAAAAAAAAAREBONtlkk01EQJtssskmm0RA6aKLLrroREA22WSTTTZFQIQPPvjgg0VA0kUXXXTRRUAffPDBBx9GQG2yySabbEZAuuiiiy66RkAIH3zwwQdHQFZVVVVVVUdAo4suuuiiR0DxwQcffPBHQD744IMPPkhAjC666KKLSEDZZJNNNtlIQCebbLLJJklAddFFF110SUDCBx988MFJQBA++OCDD0pAXXTRRRddSkCrqqqqqqpKQPjggw8++EpARhdddNFFS0CUTTbZZJNLQOGDDz744EtAL7rooosuTEB88MEHH3xMQMomm2yyyUxAGF100UUXTUBlk0022WRNQLPJJptssk1AAAAAAAAATkBONtlkk01OQJtssskmm05A6aKLLrroTkA32WSTTTZPQIQPPvjgg09A0kUXXXTRT0AQPvjggw9QQDbZZJNNNlBAXXTRRRddUECEDz744INQQAAAAAAAAAAAWArU+pUC5T9YCtT6lQL1P4QPPvjgg/8/WArU+pUCBUDuDIl5O0MKQIQPPvjggw9ADYl5O0NiEkBYCtT6lQIVQKOLLrroohdA7gyJeTtDGkA5juM4juMcQIQPPvjggx9AaEjM2xkSIUANiXk7Q2IiQLLJJptssiNAWArU+pUCJUD+SoFav1ImQKOLLrrooidASMzbGRLzKEDuDIl5O0MqQJRNNtlkkytAOY7jOI7jLEDezpCYtzMuQIQPPvjggy9AFaj1KwVqMEBoSMzbGRIxQLrooosuujFADYl5O0NiMkBgKVDrVwozQLLJJptssjNABWr9SoFaNEBYCtT6lQI1QKuqqqqqqjVA/kqBWr9SNkBQ61cK1Po2QKOLLrroojdA9isFav1KOEBIzNsZEvM4QJtssskmmzlA7gyJeTtDOkBBrV8pUOs6QJRNNtlkkztA5u0MiXk7PEA5juM4juM8QIwuuuiiiz1A3s6QmLczPkAxb2dIzNs+QIQPPvjggz9A61cK1PoVQEAVqPUrBWpAQD744IMPvkBAaEjM2xkSQUCRmLczJGZBQLrooosuukFA5DiO4zgOQkANiXk7Q2JCQDbZZJNNtkJAYClQ61cKQ0CJeTtDYl5DQLLJJptsskNA3BkS83YGREAFav1KgVpEQC+66KKLrkRAWArU+pUCRUCBWr9SoFZFQKuqqqqqqkVA1PqVArX+RUD+SoFav1JGQCebbLLJpkZAUOtXCtT6RkB6O0Ni3k5HQKOLLrrookdAzNsZEvP2R0D2KwVq/UpIQB988MEHn0hASMzbGRLzSEByHMdxHEdJQJtssskmm0lAxbydITHvSUDuDIl5O0NKQBdddNFFl0pAQa1fKVDrSkBq/UqBWj9LQJRNNtlkk0tAvZ0hMW/nS0Dm7QyJeTtMQBA++OCDj0xAOY7jOI7jTEBi3s6QmDdNQIwuuuiii01AtX6lQK3fTUDezpCYtzNOQAgffPDBh05AMW9nSMzbTkBbv1Kg1i9PQIQPPvjgg09ArV8pUOvXT0DrVwrU+hVQQAAAAAAAQFBAFaj1KwVqUEApUOtXCpRQQD744IMPvlBAU6DWrxToUEBoSMzbGRJRQHzwwQcfPFFAkZi3MyRmUUCmQK1fKZBRQLrooosuulFAz5CYtzPkUUAAAAAAAAAAAEuBWr9SoOY/S4Fav1Kg9j/44IMPPvgAQEuBWr9SoAZAniExb2dIDED44IMPPvgQQCIxb2dIzBNAS4Fav1KgFkB00UUXXXQZQJ4hMW9nSBxAx3Ecx3EcH0D44IMPPvggQA2JeTtDYiJAIjFvZ0jMI0A22WSTTTYlQEuBWr9SoCZAYClQ61cKKEB00UUXXXQpQIl5O0Ni3ipAniExb2dILECyySabbLItQMdxHMdxHC9A7gyJeTtDMED44IMPPvgwQAO1fqVArTFADYl5O0NiMkAXXXTRRRczQCIxb2dIzDNALAVq/UqBNEA22WSTTTY1QEGtXylQ6zVAS4Fav1KgNkBVVVVVVVU3QGApUOtXCjhAav1KgVq/OEB00UUXXXQ5QH+lQK1fKTpAiXk7Q2LeOkCTTTbZZJM7QJ4hMW9nSDxAqPUrBWr9PECyySabbLI9QL2dITFvZz5Ax3Ecx3EcP0DRRRdddNE/QO4MiXk7Q0BA83aGxLydQED44IMPPvhAQP1KgVq/UkFAA7V+pUCtQUAIH3zwwQdCQA2JeTtDYkJAEvN2hsS8QkAXXXTRRRdDQBzHcRzHcUNAIjFvZ0jMQ0Anm2yyySZEQCwFav1KgURAMW9nSMzbREA22WSTTTZFQDtDYt7OkEVAQa1fKVDrRUBGF1100UVGQEuBWr9SoEZAUOtXCtT6RkBVVVVVVVVHQFu/UqDWr0dAYClQ61cKSEBlk0022WRIQGr9SoFav0hAb2dIzNsZSUB00UUXXXRJQHo7Q2LezklAf6VArV8pSkCEDz744INKQIl5O0Ni3kpAjuM4juM4S0CTTTbZZJNLQJm3MyTm7UtAniExb2dITECjiy666KJMQKj1KwVq/UxArV8pUOtXTUCyySabbLJNQLgzJObtDE5AvZ0hMW9nTkDCBx988MFOQMdxHMdxHE9AzNsZEvN2T0DRRRdddNFPQOtXCtT6FVBA7gyJeTtDUEDwwQcffHBQQPN2hsS8nVBA9isFav3KUED44IMPPvhQQPuVArV+JVFA/UqBWr9SUUAAAAAAAIBRQAO1fqVArVFABWr9SoHaUUAIH3zwwQdSQArU+pUCNVJADYl5O0NiUkAQPvjgg49SQBLzdobEvFJAFaj1KwXqUkAXXXTRRRdTQBoS83aGRFNAAAAAAAAAAAA++OCDDz7oPz744IMPPvg/LrrooosuAkA++OCDDz4IQE422WSTTQ5ALrrooosuEkA22WSTTTYVQD744IMPPhhARhdddNFFG0BONtlkk00eQKuqqqqqqiBALrrooosuIkCyySabbLIjQDbZZJNNNiVAuuiiiy66JkA++OCDDz4oQMIHH3zwwSlARhdddNFFK0DKJptsssksQE422WSTTS5A0UUXXXTRL0CrqqqqqqowQG2yySabbDFALrrooosuMkDwwQcffPAyQLLJJptssjNAdNFFF110NEA22WSTTTY1QPjggw8++DVAuuiiiy66NkB88MEHH3w3QD744IMPPjhAAAAAAAAAOUDCBx988ME5QIQPPvjggzpARhdddNFFO0AIH3zwwQc8QMomm2yyyTxAjC666KKLPUBONtlkk00+QA8++OCDDz9A0UUXXXTRP0DKJptssklAQKuqqqqqqkBAjC666KILQUBtsskmm2xBQE422WSTzUFALrrooosuQkAPPvjgg49CQPDBBx988EJA0UUXXXRRQ0CyySabbLJDQJNNNtlkE0RAdNFFF110REBVVVVVVdVEQDbZZJNNNkVAF1100UWXRUD44IMPPvhFQNlkk002WUZAuuiiiy66RkCbbLLJJhtHQHzwwQcffEdAXXTRRRfdR0A++OCDDz5IQB988MEHn0hAAAAAAAAASUDhgw8++GBJQMIHH3zwwUlAo4suuugiSkCEDz744INKQGWTTTbZ5EpARhdddNFFS0Anm2yyyaZLQAgffPDBB0xA6aKLLrpoTEDKJptssslMQKuqqqqqKk1AjC666KKLTUBtsskmm+xNQE422WSTTU5ALrrooouuTkAPPvjggw9PQPDBBx98cE9A0UUXXXTRT0DZZJNNNhlQQMomm2yySVBAuuiiiy56UECrqqqqqqpQQJtssskm21BAjC666KILUUB88MEHHzxRQG2yySabbFFAXXTRRRedUUBONtlkk81RQD744IMP/lFALrrooosuUkAffPDBB19SQA8++OCDj1JAAAAAAADAUkDwwQcffPBSQOGDDz74IFNA0UUXXXRRU0DCBx988IFTQLLJJptsslNAo4suuujiU0CTTTbZZBNUQIQPPvjgQ1RAdNFFF110VEBlk0022aRUQAAAAAAAAAAAMW9nSMzb6T8xb2dIzNv5P2WTTTbZZANAMW9nSMzbCUB/pUCtXykQQGWTTTbZZBNAS4Fav1KgFkAxb2dIzNsZQBdddNFFFx1Af6VArV8pIEByHMdxHMchQGWTTTbZZCNAWArU+pUCJUBLgVq/UqAmQD744IMPPihAMW9nSMzbKUAk5u0MiXkrQBdddNFFFy1ACtT6lQK1LkB/pUCtXykwQPjggw8++DBAchzHcRzHMUDrVwrU+pUyQGWTTTbZZDNA3s6QmLczNEBYCtT6lQI1QNFFF1100TVAS4Fav1KgNkDEvJ0hMW83QD744IMPPjhAtzMk5u0MOUAxb2dIzNs5QKuqqqqqqjpAJObtDIl5O0CeITFvZ0g8QBdddNFFFz1AkZi3MyTmPUAK1PqVArU+QIQPPvjggz9Af6VArV8pQEA7Q2LezpBAQPjggw8++EBAtX6lQK1fQUByHMdxHMdBQC666KKLLkJA61cK1PqVQkCo9SsFav1CQGWTTTbZZENAIjFvZ0jMQ0DezpCYtzNEQJtssskmm0RAWArU+pUCRUAVqPUrBWpFQNFFF1100UVAjuM4juM4RkBLgVq/UqBGQAgffPDBB0dAxLydITFvR0CBWr9SoNZHQD744IMPPkhA+5UCtX6lSEC3MyTm7QxJQHTRRRdddElAMW9nSMzbSUDuDIl5O0NKQKuqqqqqqkpAZ0jM2xkSS0Ak5u0MiXlLQOGDDz744EtAniExb2dITEBav1Kg1q9MQBdddNFFF01A1PqVArV+TUCRmLczJOZNQE022WSTTU5ACtT6lQK1TkDHcRzHcRxPQIQPPvjgg09AQK1fKVDrT0B/pUCtXylQQF100UUXXVBAO0Ni3s6QUEAaEvN2hsRQQPjggw8++FBA168UqPUrUUC1fqVArV9RQJNNNtlkk1FAchzHcRzHUUBQ61cK1PpRQC666KKLLlJADYl5O0NiUkDrVwrU+pVSQMomm2yyyVJAqPUrBWr9UkCGxLydITFTQGWTTTbZZFNAQ2LezpCYU0AiMW9nSMxTQAAAAAAAAFRA3s6QmLczVEC9nSExb2dUQJtssskmm1RAeTtDYt7OVEBYCtT6lQJVQDbZZJNNNlVAFaj1KwVqVUDzdobEvJ1VQNFFF1100VVAsBSo9SsFVkAAAAAAAAAAACTm7QyJees/JObtDIl5+z+bbLLJJpsEQCTm7QyJeQtA1q8UqPUrEUCbbLLJJpsUQGApUOtXChhAJObtDIl5G0DooosuuugeQNavFKj1KyFAOY7jOI7jIkCbbLLJJpskQP1KgVq/UiZAYClQ61cKKEDCBx988MEpQCTm7QyJeStAhsS8nSExLUDooosuuuguQKVArV8pUDBA1q8UqPUrMUAIH3zwwQcyQDmO4ziO4zJAav1KgVq/M0CbbLLJJps0QMzbGRLzdjVA/UqBWr9SNkAuuuiiiy43QGApUOtXCjhAkZi3MyTmOEDCBx988ME5QPN2hsS8nTpAJObtDIl5O0BVVVVVVVU8QIbEvJ0hMT1AtzMk5u0MPkDooosuuug+QBoS83aGxD9ApUCtXylQQEA++OCDD75AQNavFKj1K0FAb2dIzNuZQUAIH3zwwQdCQKDWrxSodUJAOY7jOI7jQkDRRRdddFFDQGr9SoFav0NAArV+pUAtRECbbLLJJptEQDQk5u0MCUVAzNsZEvN2RUBlk0022eRFQP1KgVq/UkZAlgK1fqXARkAuuuiiiy5HQMdxHMdxnEdAYClQ61cKSED44IMPPnhIQJGYtzMk5khAKVDrVwpUSUDCBx988MFJQFq/UqDWL0pA83aGxLydSkCLLrroogtLQCTm7QyJeUtAvZ0hMW/nS0BVVVVVVVVMQO4MiXk7w0xAhsS8nSExTUAffPDBB59NQLczJObtDE5AUOtXCtR6TkDooosuuuhOQIFav1KgVk9AGhLzdobET0DZZJNNNhlQQKVArV8pUFBAchzHcRyHUEA++OCDD75QQArU+pUC9VBA1q8UqPUrUUCjiy666GJRQG9nSMzbmVFAO0Ni3s7QUUAIH3zwwQdSQNT6lQK1PlJAoNavFKh1UkBssskmm6xSQDmO4ziO41JABWr9SoEaU0DRRRdddFFTQJ4hMW9niFNAav1KgVq/U0A22WSTTfZTQAK1fqVALVRAz5CYtzNkVECbbLLJJptUQGdIzNsZ0lRANCTm7QwJVUAAAAAAAEBVQMzbGRLzdlVAmLczJOatVUBlk0022eRVQDFvZ0jMG1ZA/UqBWr9SVkDKJptssolWQJYCtX6lwFZAYt7OkJj3VkAuuuiiiy5XQPuVArV+ZVdAAAAAAAAAAAAXXXTRRRftPxdddNFFF/0/0UUXXXTRBUAXXXTRRRcNQC666KKLLhJA0UUXXXTRFUB00UUXXXQZQBdddNFFFx1AXXTRRRddIEAuuuiiiy4iQAAAAAAAACRA0UUXXXTRJUCjiy666KInQHTRRRdddClARhdddNFFK0AXXXTRRRctQOiiiy666C5AXXTRRRddMEBGF1100UUxQC666KKLLjJAF1100UUXM0AAAAAAAAA0QOmiiy666DRA0UUXXXTRNUC66KKLLro2QKOLLrroojdAiy666KKLOEB00UUXXXQ5QF100UUXXTpARhdddNFFO0Auuuiiiy48QBdddNFFFz1AAAAAAAAAPkDooosuuug+QNFFF1100T9AXXTRRRddQEDRRRdddNFAQEYXXXTRRUFAuuiiiy66QUAuuuiiiy5CQKOLLrrookJAF1100UUXQ0CLLrroootDQAAAAAAAAERAdNFFF110REDpoosuuuhEQF100UUXXUVA0UUXXXTRRUBGF1100UVGQLrooosuukZALrrooosuR0Cjiy666KJHQBdddNFFF0hAiy666KKLSEAAAAAAAABJQHTRRRdddElA6KKLLrroSUBddNFFF11KQNFFF1100UpARhdddNFFS0C66KKLLrpLQC666KKLLkxAo4suuuiiTEAXXXTRRRdNQIsuuuiii01AAAAAAAAATkB00UUXXXROQOiiiy666E5AXXTRRRddT0DRRRdddNFPQKOLLrroIlBAXXTRRRddUEAXXXTRRZdQQNFFF1100VBAiy666KILUUBGF1100UVRQAAAAAAAgFFAuuiiiy66UUB00UUXXfRRQC666KKLLlJA6aKLLrpoUkCjiy666KJSQF100UUX3VJAF1100UUXU0DRRRdddFFTQIsuuuiii1NARhdddNHFU0AAAAAAAABUQLrooosuOlRAdNFFF110VEAuuuiii65UQOmiiy666FRAo4suuugiVUBddNFFF11VQBdddNFFl1VA0UUXXXTRVUCLLrroogtWQEYXXXTRRVZAAAAAAACAVkC66KKLLrpWQHTRRRdd9FZALrrooosuV0DpoosuumhXQKOLLrrooldAXXTRRRfdV0AXXXTRRRdYQNFFF110UVhAiy666KKLWEBGF1100cVYQAAAAAAAAAAACtT6lQK17j8K1PqVArX+PwgffPDBBwdACtT6lQK1DkCGxLydITETQAgffPDBBxdAiXk7Q2LeGkAK1PqVArUeQEYXXXTRRSFAhsS8nSExI0DHcRzHcRwlQAgffPDBBydASMzbGRLzKECJeTtDYt4qQMkmm2yyySxACtT6lQK1LkClQK1fKVAwQEYXXXTRRTFA5u0MiXk7MkCGxLydITEzQCebbLLJJjRAx3Ecx3EcNUBnSMzbGRI2QAgffPDBBzdAqPUrBWr9N0BIzNsZEvM4QOiiiy666DlAiXk7Q2LeOkApUOtXCtQ7QMkmm2yyyTxAav1KgVq/PUAK1PqVArU+QKqqqqqqqj9ApUCtXylQQED1KwVq/cpAQEYXXXTRRUFAlgK1fqXAQUDm7QyJeTtCQDbZZJNNtkJAhsS8nSExQ0DWrxSo9atDQCebbLLJJkRAd4bEvJ2hREDHcRzHcRxFQBdddNFFl0VAZ0jM2xkSRkC3MyTm7YxGQAgffPDBB0dAWArU+pWCR0Co9SsFav1HQPjggw8+eEhASMzbGRLzSECYtzMk5m1JQOiiiy666ElAOY7jOI5jSkCJeTtDYt5KQNlkk002WUtAKVDrVwrUS0B5O0Ni3k5MQMkmm2yyyUxAGhLzdoZETUBq/UqBWr9NQLrooosuOk5ACtT6lQK1TkBav1Kg1i9PQKqqqqqqqk9A/UqBWr8SUEClQK1fKVBQQE022WSTjVBA9SsFav3KUECeITFvZwhRQEYXXXTRRVFA7gyJeTuDUUCWArV+pcBRQD744IMP/lFA5u0MiXk7UkCO4ziO43hSQDbZZJNNtlJA3s6QmLfzUkCGxLydITFTQC666KKLblNA1q8UqPWrU0B+pUCtX+lTQCebbLLJJlRAz5CYtzNkVEB3hsS8naFUQB988MEH31RAx3Ecx3EcVUBvZ0jM21lVQBdddNFFl1VAv1Kg1q/UVUBnSMzbGRJWQA8++OCDT1ZAtzMk5u2MVkBfKVDrV8pWQAgffPDBB1dAsBSo9StFV0BYCtT6lYJXQAAAAAAAwFdAqPUrBWr9V0BQ61cK1DpYQPjggw8+eFhAoNavFKi1WEBIzNsZEvNYQPDBBx98MFlAmLczJOZtWUBArV8pUKtZQOiiiy666FlAkZi3MyQmWkAAAAAAAAAAAH+lQK1fKfA/f6VArV8pAEA++OCDDz4IQH+lQK1fKRBA386QmLczFEA++OCDDz4YQJ4hMW9nSBxAf6VArV8pIEAvuuiiiy4iQN/OkJi3MyRAj+M4juM4JkA++OCDDz4oQO4MiXk7QypAniExb2dILEBONtlkk00uQH+lQK1fKTBA168UqPUrMUAvuuiiiy4yQIfEvJ0hMTNA386QmLczNEA32WSTTTY1QI/jOI7jODZA5+0MiXk7N0A++OCDDz44QJYCtX6lQDlA7gyJeTtDOkBGF1100UU7QJ4hMW9nSDxA9isFav1KPUBONtlkk00+QKZArV8pUD9Af6VArV8pQECrqqqqqqpAQNevFKj1K0FAA7V+pUCtQUAvuuiiiy5CQFu/UqDWr0JAh8S8nSExQ0CzySabbLJDQN/OkJi3M0RAC9T6lQK1REA32WSTTTZFQGPezpCYt0VAj+M4juM4RkC76KKLLrpGQOftDIl5O0dAE/N2hsS8R0A++OCDDz5IQGr9SoFav0hAlgK1fqVASUDCBx988MFJQO4MiXk7Q0pAGhLzdobESkBGF1100UVLQHIcx3Ecx0tAniExb2dITEDKJptssslMQPYrBWr9Sk1AIjFvZ0jMTUBONtlkk01OQHo7Q2Lezk5ApkCtXylQT0DSRRdddNFPQH+lQK1fKVBAFaj1KwVqUECrqqqqqqpQQEGtXylQ61BA168UqPUrUUBtsskmm2xRQAO1fqVArVFAmbczJObtUUAvuuiiiy5SQMW8nSExb1JAW79SoNavUkDxwQcffPBSQIfEvJ0hMVNAHcdxHMdxU0CzySabbLJTQEnM2xkS81NA386QmLczVEB10UUXXXRUQAvU+pUCtVRAodavFKj1VEA32WSTTTZVQM3bGRLzdlVAY97OkJi3VUD54IMPPvhVQI/jOI7jOFZAJebtDIl5VkC76KKLLrpWQFHrVwrU+lZA5+0MiXk7V0B98MEHH3xXQBPzdobEvFdAqfUrBWr9V0A++OCDDz5YQNT6lQK1flhAav1KgVq/WEAAAAAAAABZQJYCtX6lQFlALAVq/UqBWUDCBx988MFZQFgK1PqVAlpA7gyJeTtDWkCEDz744INaQBoS83aGxFpAsBSo9SsFW0BGF1100UVbQNwZEvN2hltAAAAAAAAAAAD44IMPPvjwP/jggw8++ABAdNFFF110CUD44IMPPvgQQDbZZJNNNhVAdNFFF110GUCyySabbLIdQPjggw8++CBAF1100UUXI0A22WSTTTYlQFVVVVVVVSdAdNFFF110KUCTTTbZZJMrQLLJJptssi1A0UUXXXTRL0D44IMPPvgwQAgffPDBBzJAF1100UUXM0Amm2yyySY0QDbZZJNNNjVARhdddNFFNkBVVVVVVVU3QGSTTTbZZDhAdNFFF110OUCEDz744IM6QJNNNtlkkztAoosuuuiiPECyySabbLI9QMIHH3zwwT5A0UUXXXTRP0DwwQcffHBAQPjggw8++EBAAAAAAACAQUAIH3zwwQdCQA8++OCDj0JAF1100UUXQ0AffPDBB59DQCabbLLJJkRALrrooouuREA22WSTTTZFQD744IMPvkVARhdddNFFRkBNNtlkk81GQFVVVVVVVUdAXXTRRRfdR0Bkk0022WRIQGyyySab7EhAdNFFF110SUB88MEHH/xJQIQPPvjgg0pAiy666KILS0CTTTbZZJNLQJtssskmG0xAoosuuuiiTECqqqqqqipNQLLJJptssk1Auuiiiy46TkDCBx988MFOQMkmm2yySU9A0UUXXXTRT0BssskmmyxQQPDBBx98cFBAdNFFF120UED44IMPPvhQQHzwwQcfPFFAAAAAAACAUUCEDz744MNRQAgffPDBB1JAiy666KJLUkAPPvjgg49SQJNNNtlk01JAF1100UUXU0CbbLLJJltTQB988MEHn1NAo4suuujiU0Amm2yyySZUQKqqqqqqalRALrrooouuVECyySabbPJUQDbZZJNNNlVAuuiiiy56VUA++OCDD75VQMIHH3zwAVZARhdddNFFVkDJJptssolWQE022WSTzVZA0UUXXXQRV0BVVVVVVVVXQNlkk002mVdAXXTRRRfdV0Dhgw8++CBYQGSTTTbZZFhA6KKLLrqoWEBssskmm+xYQPDBBx98MFlAdNFFF110WUD44IMPPrhZQHzwwQcf/FlAAAAAAABAWkCEDz744INaQAcffPDBx1pAiy666KILW0APPvjgg09bQJNNNtlkk1tAF1100UXXW0CbbLLJJhtcQB988MEHX1xAoosuuuiiXEAmm2yyyeZcQAAAAAAAAAAAchzHcRzH8T9yHMdxHMcBQKuqqqqqqgpAchzHcRzHEUCO4ziO4zgWQKuqqqqqqhpAyHEcx3EcH0ByHMdxHMchQAAAAAAAACRAjuM4juM4JkAdx3Ecx3EoQKuqqqqqqipAOY7jOI7jLEDIcRzHcRwvQKuqqqqqqjBAchzHcRzHMUA5juM4juMyQAAAAAAAADRAx3Ecx3EcNUCO4ziO4zg2QFZVVVVVVTdAHcdxHMdxOEDkOI7jOI45QKuqqqqqqjpAchzHcRzHO0A5juM4juM8QAAAAAAAAD5AyHEcx3EcP0DHcRzHcRxAQKuqqqqqqkBAjuM4juM4QUByHMdxHMdBQFZVVVVVVUJAOY7jOI7jQkAdx3Ecx3FDQAAAAAAAAERA5DiO4ziOREDHcRzHcRxFQKuqqqqqqkVAjuM4juM4RkByHMdxHMdGQFZVVVVVVUdAOY7jOI7jR0Adx3Ecx3FIQAAAAAAAAElA5DiO4ziOSUDHcRzHcRxKQKuqqqqqqkpAj+M4juM4S0ByHMdxHMdLQFZVVVVVVUxAOY7jOI7jTEAdx3Ecx3FNQAAAAAAAAE5A5DiO4ziOTkDIcRzHcRxPQKuqqqqqqk9Ax3Ecx3EcUEA5juM4jmNQQKuqqqqqqlBAHcdxHMfxUECO4ziO4zhRQAAAAAAAgFFAchzHcRzHUUDkOI7jOA5SQFZVVVVVVVJAx3Ecx3GcUkA5juM4juNSQKuqqqqqKlNAHcdxHMdxU0CO4ziO47hTQAAAAAAAAFRAchzHcRxHVEDkOI7jOI5UQFZVVVVV1VRAx3Ecx3EcVUA5juM4jmNVQKuqqqqqqlVAHcdxHMfxVUCO4ziO4zhWQAAAAAAAgFZAchzHcRzHVkDkOI7jOA5XQFZVVVVVVVdAx3Ecx3GcV0A5juM4juNXQKuqqqqqKlhAHcdxHMdxWECP4ziO47hYQAAAAAAAAFlAchzHcRxHWUDkOI7jOI5ZQFZVVVVV1VlAx3Ecx3EcWkA5juM4jmNaQKuqqqqqqlpAHcdxHMfxWkCP4ziO4zhbQAAAAAAAgFtAchzHcRzHW0DkOI7jOA5cQFZVVVVVVVxAx3Ecx3GcXEA5juM4juNcQKuqqqqqKl1AHcdxHMdxXUCP4ziO47hdQAAAAAAAAF5AchzHcRxHXkAAAAAAAAAAAOtXCtT6lfI/61cK1PqVAkDggw8++OALQOtXCtT6lRJA5u0MiXk7F0Dggw8++OAbQO4MiXk7QyBA61cK1PqVIkDooosuuugkQObtDIl5OydA4ziO4ziOKUDggw8++OArQN7OkJi3My5A7gyJeTtDMEBssskmm2wxQOtXCtT6lTJAav1KgVq/M0Dooosuuug0QGdIzNsZEjZA5u0MiXk7N0Bkk0022WQ4QOM4juM4jjlAYt7OkJi3OkDggw8++OA7QF8pUOtXCj1A3s6QmLczPkBddNFFF10/QO4MiXk7Q0BArV8pUOvXQEBssskmm2xBQCwFav1KAUJA61cK1PqVQkCqqqqqqipDQGr9SoFav0NAKVDrVwpUREDooosuuuhEQKj1KwVqfUVAZ0jM2xkSRkAmm2yyyaZGQObtDIl5O0dApUCtXynQR0Bkk0022WRIQCTm7QyJ+UhA4ziO4ziOSUCiiy666CJKQGLezpCYt0pAITFvZ0hMS0Dggw8++OBLQKDWrxSodUxAXylQ61cKTUAffPDBB59NQN7OkJi3M05AnSExb2fITkBddNFFF11PQBzHcRzH8U9A7gyJeTtDUEBNNtlkk41QQK1fKVDr11BADYl5O0MiUUBssskmm2xRQMzbGRLztlFALAVq/UoBUkCLLrrooktSQOtXCtT6lVJAS4Fav1LgUkCqqqqqqipTQArU+pUCdVNAav1KgVq/U0DJJptssglUQClQ61cKVFRAiXk7Q2KeVEDooosuuuhUQEjM2xkSM1VAqPUrBWp9VUAHH3zwwcdVQGdIzNsZElZAx3Ecx3FcVkAmm2yyyaZWQIbEvJ0h8VZA5u0MiXk7V0BFF1100YVXQKVArV8p0FdABWr9SoEaWEBkk0022WRYQMS8nSExr1hAJObtDIn5WECDDz744ENZQOM4juM4jllAQ2LezpDYWUCiiy666CJaQAK1fqVAbVpAYt7OkJi3WkDBBx988AFbQCExb2dITFtAgVq/UqCWW0Dggw8++OBbQECtXylQK1xAoNavFKh1XEAAAAAAAMBcQF8pUOtXCl1Av1Kg1q9UXUAffPDBB59dQH6lQK1f6V1A3s6QmLczXkA++OCDD35eQJ0hMW9nyF5A/UqBWr8SX0BddNFFF11fQLydITFvp19AAAAAAAAAAABlk0022WTzP2WTTTbZZANAGF100UUXDUBlk0022WQTQD744IMPPhhAGF100UUXHUD44IMPPvggQGWTTTbZZCNA0kUXXXTRJUA++OCDDz4oQKuqqqqqqipAGF100UUXLUCEDz744IMvQPjggw8++DBAL7rooosuMkBlk0022WQzQJtssskmmzRA0kUXXXTRNUAIH3zwwQc3QD744IMPPjhAddFFF110OUCrqqqqqqo6QOGDDz744DtAGF100UUXPUBONtlkk00+QIQPPvjggz9AXXTRRRddQED44IMPPvhAQJRNNtlkk0FAL7rooosuQkDKJptssslCQGWTTTbZZENAAAAAAAAARECbbLLJJptEQDbZZJNNNkVA0kUXXXTRRUBtsskmm2xGQAgffPDBB0dAo4suuuiiR0A++OCDDz5IQNlkk0022UhAddFFF110SUAQPvjggw9KQKuqqqqqqkpARhdddNFFS0Dhgw8++OBLQHzwwQcffExAGF100UUXTUCzySabbLJNQE422WSTTU5A6aKLLrroTkCEDz744INPQBA++OCDD1BAXXTRRRddUECrqqqqqqpQQPjggw8++FBARhdddNFFUUCUTTbZZJNRQOGDDz744FFAL7rooosuUkB88MEHH3xSQMomm2yyyVJAF1100UUXU0Blk0022WRTQLPJJptsslNAAAAAAAAAVEBONtlkk01UQJtssskmm1RA6aKLLrroVEA22WSTTTZVQIQPPvjgg1VA0kUXXXTRVUAffPDBBx9WQG2yySabbFZAuuiiiy66VkAIH3zwwQdXQFZVVVVVVVdAo4suuuiiV0DxwQcffPBXQD744IMPPlhAjC666KKLWEDZZJNNNtlYQCebbLLJJllAddFFF110WUDCBx988MFZQBA++OCDD1pAXXTRRRddWkCrqqqqqqpaQPjggw8++FpARhdddNFFW0CUTTbZZJNbQOGDDz744FtAL7rooosuXEB88MEHH3xcQMomm2yyyVxAGF100UUXXUBlk0022WRdQLPJJptssl1AAAAAAAAAXkBONtlkk01eQJtssskmm15A6aKLLrroXkA32WSTTTZfQIQPPvjgg19A0kUXXXTRX0AQPvjggw9gQDbZZJNNNmBAXXTRRRddYECEDz744INgQAAAAAAAAAAA3s6QmLcz9D/ezpCYtzMEQE022WSTTQ5A3s6QmLczFECWArV+pUAZQE022WSTTR5AArV+pUCtIUDezpCYtzMkQLrooosuuiZAlgK1fqVAKUBxHMdxHMcrQE022WSTTS5AFKj1KwVqMEACtX6lQK0xQPDBBx988DJA3s6QmLczNEDM2xkS83Y1QLrooosuujZAqPUrBWr9N0CWArV+pUA5QIMPPvjggzpAcRzHcRzHO0BfKVDrVwo9QE022WSTTT5AO0Ni3s6QP0AUqPUrBWpAQIsuuuiiC0FAArV+pUCtQUB5O0Ni3k5CQPDBBx988EJAZ0jM2xmSQ0DezpCYtzNEQFVVVVVV1URAzNsZEvN2RUBDYt7OkBhGQLrooosuukZAMW9nSMxbR0Co9SsFav1HQB988MEHn0hAlgK1fqVASUAMiXk7Q+JJQIMPPvjgg0pA+pUCtX4lS0BxHMdxHMdLQOiiiy66aExAXylQ61cKTUDWrxSo9atNQE022WSTTU5AxLydITHvTkA7Q2LezpBPQNlkk002GVBAFKj1KwVqUEBQ61cK1LpQQIsuuuiiC1FAx3Ecx3FcUUACtX6lQK1RQD744IMP/lFAeTtDYt5OUkC1fqVArZ9SQPDBBx988FJALAVq/UpBU0BnSMzbGZJTQKOLLrro4lNA3s6QmLczVEAZEvN2hoRUQFVVVVVV1VRAkJi3MyQmVUDM2xkS83ZVQAcffPDBx1VAQ2LezpAYVkB+pUCtX2lWQLrooosuulZA9SsFav0KV0Axb2dIzFtXQGyyySabrFdAqPUrBWr9V0DjOI7jOE5YQB988MEHn1hAWr9SoNbvWECWArV+pUBZQNFFF110kVlADIl5O0PiWUBIzNsZEjNaQIMPPvjgg1pAv1Kg1q/UWkD6lQK1fiVbQDbZZJNNdltAcRzHcRzHW0CtXylQ6xdcQOiiiy66aFxAJObtDIm5XEBfKVDrVwpdQJtssskmW11A1q8UqPWrXUAS83aGxPxdQE022WSTTV5AiHk7Q2KeXkDEvJ0hMe9eQP//////P19AO0Ni3s6QX0B2hsS8neFfQNlkk002GWBAd4bEvJ1BYEAUqPUrBWpgQLLJJptskmBAUOtXCtS6YEDuDIl5O+NgQIsuuuiiC2FAKVDrVwo0YUAAAAAAAAAAAFgK1PqVAvU/WArU+pUCBUCEDz744IMPQFgK1PqVAhVA7gyJeTtDGkCEDz744IMfQA2JeTtDYiJAWArU+pUCJUCjiy666KInQO4MiXk7QypAOY7jOI7jLECEDz744IMvQGhIzNsZEjFADYl5O0NiMkCyySabbLIzQFgK1PqVAjVA/kqBWr9SNkCjiy666KI3QEjM2xkS8zhA7gyJeTtDOkCUTTbZZJM7QDmO4ziO4zxA3s6QmLczPkCEDz744IM/QBWo9SsFakBAaEjM2xkSQUC66KKLLrpBQA2JeTtDYkJAYClQ61cKQ0CyySabbLJDQAVq/UqBWkRAWArU+pUCRUCrqqqqqqpFQP5KgVq/UkZAUOtXCtT6RkCjiy666KJHQPYrBWr9SkhASMzbGRLzSECbbLLJJptJQO4MiXk7Q0pAQa1fKVDrSkCUTTbZZJNLQObtDIl5O0xAOY7jOI7jTECMLrroootNQN7OkJi3M05AMW9nSMzbTkCEDz744INPQOtXCtT6FVBAFaj1KwVqUEA++OCDD75QQGhIzNsZElFAkZi3MyRmUUC66KKLLrpRQOQ4juM4DlJADYl5O0NiUkA22WSTTbZSQGApUOtXClNAiXk7Q2JeU0CyySabbLJTQNwZEvN2BlRABWr9SoFaVEAvuuiii65UQFgK1PqVAlVAgVq/UqBWVUCrqqqqqqpVQNT6lQK1/lVA/kqBWr9SVkAnm2yyyaZWQFDrVwrU+lZAejtDYt5OV0Cjiy666KJXQMzbGRLz9ldA9isFav1KWEAffPDBB59YQEjM2xkS81hAchzHcRxHWUCbbLLJJptZQMW8nSEx71lA7gyJeTtDWkAXXXTRRZdaQEGtXylQ61pAav1KgVo/W0CUTTbZZJNbQL2dITFv51tA5u0MiXk7XEAQPvjgg49cQDmO4ziO41xAYt7OkJg3XUCMLrroootdQLV+pUCt311A3s6QmLczXkAIH3zwwYdeQDFvZ0jM215AW79SoNYvX0CEDz744INfQK1fKVDr119A61cK1PoVYEAAAAAAAEBgQBWo9SsFamBAKVDrVwqUYEA++OCDD75gQFOg1q8U6GBAaEjM2xkSYUB88MEHHzxhQJGYtzMkZmFApkCtXymQYUC66KKLLrphQM+QmLcz5GFAAAAAAAAAAADRRRdddNH1P9FFF1100QVAXXTRRRddEEDRRRdddNEVQEUXXXTRRRtAXXTRRRddIEAXXXTRRRcjQNFFF1100SVAiy666KKLKEBFF1100UUrQP///////y1AXXTRRRddMEC66KKLLroxQBdddNFFFzNAdNFFF110NEDRRRdddNE1QC666KKLLjdAiy666KKLOEDooosuuug5QEUXXXTRRTtAoosuuuiiPED///////89QFx00UUXXT9AXXTRRRddQECLLrroogtBQLrooosuukFA6KKLLrpoQkAXXXTRRRdDQEUXXXTRxUNAdNFFF110RECiiy666CJFQNFFF1100UVAAAAAAACARkAuuuiiiy5HQF100UUX3UdAiy666KKLSEC66KKLLjpJQOiiiy666ElAF1100UWXSkBFF1100UVLQHTRRRdd9EtAoosuuuiiTEDRRRdddFFNQP///////01ALrrooouuTkBcdNFFF11PQEUXXXTRBVBAXXTRRRddUEB00UUXXbRQQIsuuuiiC1FAo4suuuhiUUC66KKLLrpRQNFFF110EVJA6KKLLrpoUkAAAAAAAMBSQBdddNFFF1NALrroootuU0BFF1100cVTQF100UUXHVRAdNFFF110VECLLrroostUQKKLLrroIlVAuuiiiy56VUDRRRdddNFVQOiiiy66KFZAAAAAAACAVkAXXXTRRddWQC666KKLLldARRdddNGFV0BddNFFF91XQHTRRRddNFhAiy666KKLWECiiy666OJYQLrooosuOllA0UUXXXSRWUDooosuuuhZQP//////P1pAF1100UWXWkAuuuiii+5aQEUXXXTRRVtAXXTRRRedW0B00UUXXfRbQIsuuuiiS1xAoosuuuiiXEC66KKLLvpcQNFFF110UV1A6KKLLrqoXUD///////9dQBdddNFFV15ALrrooouuXkBFF1100QVfQFx00UUXXV9AdNFFF120X0BFF1100QVgQNFFF110MWBAXXTRRRddYEDooosuuohgQHTRRRddtGBAAAAAAADgYECLLrroogthQBdddNFFN2FAo4suuuhiYUAuuuiii45hQLrooosuumFARRdddNHlYUDRRRdddBFiQF100UUXPWJA6KKLLrpoYkB00UUXXZRiQAAAAAAAAAAAS4Fav1Kg9j9LgVq/UqAGQPjggw8++BBAS4Fav1KgFkCeITFvZ0gcQPjggw8++CBAIjFvZ0jMI0BLgVq/UqAmQHTRRRdddClAniExb2dILEDHcRzHcRwvQPjggw8++DBADYl5O0NiMkAiMW9nSMwzQDbZZJNNNjVAS4Fav1KgNkBgKVDrVwo4QHTRRRdddDlAiXk7Q2LeOkCeITFvZ0g8QLLJJptssj1Ax3Ecx3EcP0DuDIl5O0NAQPjggw8++EBAA7V+pUCtQUANiXk7Q2JCQBdddNFFF0NAIjFvZ0jMQ0AsBWr9SoFEQDbZZJNNNkVAQa1fKVDrRUBLgVq/UqBGQFVVVVVVVUdAYClQ61cKSEBq/UqBWr9IQHTRRRdddElAf6VArV8pSkCJeTtDYt5KQJNNNtlkk0tAniExb2dITECo9SsFav1MQLLJJptssk1AvZ0hMW9nTkDHcRzHcRxPQNFFF1100U9A7gyJeTtDUEDzdobEvJ1QQPjggw8++FBA/UqBWr9SUUADtX6lQK1RQAgffPDBB1JADYl5O0NiUkAS83aGxLxSQBdddNFFF1NAHMdxHMdxU0AiMW9nSMxTQCebbLLJJlRALAVq/UqBVEAxb2dIzNtUQDbZZJNNNlVAO0Ni3s6QVUBBrV8pUOtVQEYXXXTRRVZAS4Fav1KgVkBQ61cK1PpWQFVVVVVVVVdAW79SoNavV0BgKVDrVwpYQGWTTTbZZFhAav1KgVq/WEBvZ0jM2xlZQHTRRRdddFlAejtDYt7OWUB/pUCtXylaQIQPPvjgg1pAiXk7Q2LeWkCO4ziO4zhbQJNNNtlkk1tAmbczJObtW0CeITFvZ0hcQKOLLrroolxAqPUrBWr9XECtXylQ61ddQLLJJptssl1AuDMk5u0MXkC9nSExb2deQMIHH3zwwV5Ax3Ecx3EcX0DM2xkS83ZfQNFFF1100V9A61cK1PoVYEDuDIl5O0NgQPDBBx98cGBA83aGxLydYED2KwVq/cpgQPjggw8++GBA+5UCtX4lYUD9SoFav1JhQAAAAAAAgGFAA7V+pUCtYUAFav1KgdphQAgffPDBB2JACtT6lQI1YkANiXk7Q2JiQBA++OCDj2JAEvN2hsS8YkAVqPUrBepiQBdddNFFF2NAGhLzdoZEY0AAAAAAAAAAAMS8nSExb/c/xLydITFvB0CTTTbZZJMRQMS8nSExbxdA9SsFav1KHUCTTTbZZJMhQCwFav1KgSRAxLydITFvJ0BcdNFFF10qQPUrBWr9Si1Ax3Ecx3EcMECTTTbZZJMxQF8pUOtXCjNALAVq/UqBNED44IMPPvg1QMS8nSExbzdAkJi3MyTmOEBcdNFFF106QClQ61cK1DtA9SsFav1KPUDBBx988ME+QMdxHMdxHEBArV8pUOvXQECTTTbZZJNBQHk7Q2LeTkJAXylQ61cKQ0BFF1100cVDQCwFav1KgURAEvN2hsQ8RUD44IMPPvhFQN7OkJi3s0ZAxLydITFvR0CqqqqqqipIQJCYtzMk5khAdobEvJ2hSUBcdNFFF11KQENi3s6QGEtAKVDrVwrUS0APPvjgg49MQPUrBWr9Sk1A2xkS83YGTkDBBx988MFOQKf1KwVqfU9Ax3Ecx3EcUEC66KKLLnpQQK1fKVDr11BAoNavFKg1UUCTTTbZZJNRQIbEvJ0h8VFAeTtDYt5OUkBssskmm6xSQF8pUOtXClNAUqDWrxRoU0BFF1100cVTQDiO4ziOI1RALAVq/UqBVEAffPDBB99UQBLzdobEPFVABWr9SoGaVUD44IMPPvhVQOtXCtT6VVZA3s6QmLezVkDRRRdddBFXQMS8nSExb1dAtzMk5u3MV0CqqqqqqipYQJ0hMW9niFhAkJi3MyTmWECDDz744ENZQHaGxLydoVlAaf1KgVr/WUBcdNFFF11aQFDrVwrUulpAQ2LezpAYW0A22WSTTXZbQClQ61cK1FtAHMdxHMcxXEAPPvjgg49cQAK1fqVA7VxA9SsFav1KXUDooosuuqhdQNsZEvN2Bl5AzpCYtzNkXkDBBx988MFeQLR+pUCtH19Ap/UrBWp9X0CabLLJJttfQMdxHMdxHGBAQK1fKVBLYEC66KKLLnpgQDMk5u0MqWBArV8pUOvXYEAmm2yyyQZhQKDWrxSoNWFAGRLzdoZkYUCTTTbZZJNhQA2JeTtDwmFAhsS8nSHxYUAAAAAAACBiQHk7Q2LeTmJA83aGxLx9YkBssskmm6xiQObtDIl522JAXylQ61cKY0DZZJNNNjljQFKg1q8UaGNAzNsZEvOWY0BFF1100cVjQL9SoNav9GNAAAAAAAAAAAA++OCDDz74Pz744IMPPghALrrooosuEkA++OCDDz4YQE422WSTTR5ALrrooosuIkA22WSTTTYlQD744IMPPihARhdddNFFK0BONtlkk00uQKuqqqqqqjBALrrooosuMkCyySabbLIzQDbZZJNNNjVAuuiiiy66NkA++OCDDz44QMIHH3zwwTlARhdddNFFO0DKJptsssk8QE422WSTTT5A0UUXXXTRP0CrqqqqqqpAQG2yySabbEFALrrooosuQkDwwQcffPBCQLLJJptsskNAdNFFF110REA22WSTTTZFQPjggw8++EVAuuiiiy66RkB88MEHH3xHQD744IMPPkhAAAAAAAAASUDCBx988MFJQIQPPvjgg0pARhdddNFFS0AIH3zwwQdMQMomm2yyyUxAjC666KKLTUBONtlkk01OQA8++OCDD09A0UUXXXTRT0DKJptssklQQKuqqqqqqlBAjC666KILUUBtsskmm2xRQE422WSTzVFALrrooosuUkAPPvjgg49SQPDBBx988FJA0UUXXXRRU0CyySabbLJTQJNNNtlkE1RAdNFFF110VEBVVVVVVdVUQDbZZJNNNlVAF1100UWXVUD44IMPPvhVQNlkk002WVZAuuiiiy66VkCbbLLJJhtXQHzwwQcffFdAXXTRRRfdV0A++OCDDz5YQB988MEHn1hAAAAAAAAAWUDhgw8++GBZQMIHH3zwwVlAo4suuugiWkCEDz744INaQGWTTTbZ5FpARhdddNFFW0Anm2yyyaZbQAgffPDBB1xA6aKLLrpoXEDKJptssslcQKuqqqqqKl1AjC666KKLXUBtsskmm+xdQE422WSTTV5ALrrooouuXkAPPvjggw9fQPDBBx98cF9A0UUXXXTRX0DZZJNNNhlgQMomm2yySWBAuuiiiy56YECrqqqqqqpgQJtssskm22BAjC666KILYUB88MEHHzxhQG2yySabbGFAXXTRRRedYUBONtlkk81hQD744IMP/mFALrrooosuYkAffPDBB19iQA8++OCDj2JAAAAAAADAYkDwwQcffPBiQOGDDz74IGNA0UUXXXRRY0DCBx988IFjQLLJJptssmNAo4suuujiY0CTTTbZZBNkQIQPPvjgQ2RAdNFFF110ZEBlk0022aRkQAAAAAAAAAAAtzMk5u0M+T+3MyTm7QwJQMkmm2yyyRJAtzMk5u0MGUClQK1fKVAfQMkmm2yyySJAQK1fKVDrJUC3MyTm7QwpQC666KKLLixApUCtXylQL0CO4ziO4zgxQMkmm2yyyTJABWr9SoFaNEBArV8pUOs1QHzwwQcffDdAtzMk5u0MOUDydobEvJ06QC666KKLLjxAaf1KgVq/PUClQK1fKVA/QPDBBx98cEBAjuM4juM4QUAsBWr9SgFCQMkmm2yyyUJAZ0jM2xmSQ0AFav1KgVpEQKKLLrroIkVAQK1fKVDrRUDezpCYt7NGQHzwwQcffEdAGRLzdoZESEC3MyTm7QxJQFVVVVVV1UlA8naGxLydSkCQmLczJGZLQC666KKLLkxAzNsZEvP2TEBp/UqBWr9NQAcffPDBh05ApUCtXylQT0AhMW9nSAxQQPDBBx98cFBAv1Kg1q/UUECO4ziO4zhRQF100UUXnVFALAVq/UoBUkD6lQK1fmVSQMkmm2yyyVJAmLczJOYtU0BnSMzbGZJTQDbZZJNN9lNABWr9SoFaVEDU+pUCtb5UQKKLLrroIlVAcRzHcRyHVUBArV8pUOtVQA8++OCDT1ZA3s6QmLezVkCtXylQ6xdXQHzwwQcffFdASoFav1LgV0AZEvN2hkRYQOiiiy66qFhAtzMk5u0MWUCGxLydIXFZQFVVVVVV1VlAJObtDIk5WkDydobEvJ1aQMEHH3zwAVtAkJi3MyRmW0BfKVDrV8pbQC666KKLLlxA/UqBWr+SXEDM2xkS8/ZcQJpssskmW11Aaf1KgVq/XUA4juM4jiNeQAcffPDBh15A1q8UqPXrXkClQK1fKVBfQHTRRRddtF9AITFvZ0gMYECJeTtDYj5gQPDBBx98cGBAWArU+pWiYEC/UqDWr9RgQCabbLLJBmFAjuM4juM4YUD1KwVq/WphQF100UUXnWFAxLydITHPYUAsBWr9SgFiQJNNNtlkM2JA+pUCtX5lYkBi3s6QmJdiQMkmm2yyyWJAMW9nSMz7YkCYtzMk5i1jQAAAAAAAYGNAZ0jM2xmSY0DOkJi3M8RjQDbZZJNN9mNAnSExb2coZEAFav1KgVpkQGyyySabjGRA1PqVArW+ZEA7Q2LezvBkQKKLLrroImVACtT6lQJVZUAAAAAAAAAAADFvZ0jM2/k/MW9nSMzbCUBlk0022WQTQDFvZ0jM2xlAf6VArV8pIEBlk0022WQjQEuBWr9SoCZAMW9nSMzbKUAXXXTRRRctQH+lQK1fKTBAchzHcRzHMUBlk0022WQzQFgK1PqVAjVAS4Fav1KgNkA++OCDDz44QDFvZ0jM2zlAJObtDIl5O0AXXXTRRRc9QArU+pUCtT5Af6VArV8pQED44IMPPvhAQHIcx3Ecx0FA61cK1PqVQkBlk0022WRDQN7OkJi3M0RAWArU+pUCRUDRRRdddNFFQEuBWr9SoEZAxLydITFvR0A++OCDDz5IQLczJObtDElAMW9nSMzbSUCrqqqqqqpKQCTm7QyJeUtAniExb2dITEAXXXTRRRdNQJGYtzMk5k1ACtT6lQK1TkCEDz744INPQH+lQK1fKVBAO0Ni3s6QUED44IMPPvhQQLV+pUCtX1FAchzHcRzHUUAuuuiiiy5SQOtXCtT6lVJAqPUrBWr9UkBlk0022WRTQCIxb2dIzFNA3s6QmLczVECbbLLJJptUQFgK1PqVAlVAFaj1KwVqVUDRRRdddNFVQI7jOI7jOFZAS4Fav1KgVkAIH3zwwQdXQMS8nSExb1dAgVq/UqDWV0A++OCDDz5YQPuVArV+pVhAtzMk5u0MWUB00UUXXXRZQDFvZ0jM21lA7gyJeTtDWkCrqqqqqqpaQGdIzNsZEltAJObtDIl5W0Dhgw8++OBbQJ4hMW9nSFxAWr9SoNavXEAXXXTRRRddQNT6lQK1fl1AkZi3MyTmXUBNNtlkk01eQArU+pUCtV5Ax3Ecx3EcX0CEDz744INfQECtXylQ619Af6VArV8pYEBddNFFF11gQDtDYt7OkGBAGhLzdobEYED44IMPPvhgQNevFKj1K2FAtX6lQK1fYUCTTTbZZJNhQHIcx3Ecx2FAUOtXCtT6YUAuuuiiiy5iQA2JeTtDYmJA61cK1PqVYkDKJptsssliQKj1KwVq/WJAhsS8nSExY0Blk0022WRjQENi3s6QmGNAIjFvZ0jMY0AAAAAAAABkQN7OkJi3M2RAvZ0hMW9nZECbbLLJJptkQHk7Q2LezmRAWArU+pUCZUA22WSTTTZlQBWo9SsFamVA83aGxLydZUDRRRdddNFlQLAUqPUrBWZAAAAAAAAAAACrqqqqqqr6P6uqqqqqqgpAAAAAAAAAFECrqqqqqqoaQKuqqqqqqiBAAAAAAAAAJEBWVVVVVVUnQKuqqqqqqipAAAAAAAAALkCrqqqqqqowQFZVVVVVVTJAAAAAAAAANECrqqqqqqo1QFZVVVVVVTdAAAAAAAAAOUCrqqqqqqo6QFZVVVVVVTxAAAAAAAAAPkCrqqqqqqo/QKuqqqqqqkBAAAAAAACAQUBWVVVVVVVCQKuqqqqqKkNAAAAAAAAAREBWVVVVVdVEQKuqqqqqqkVAAAAAAACARkBWVVVVVVVHQKuqqqqqKkhAAAAAAAAASUBWVVVVVdVJQKuqqqqqqkpAAAAAAACAS0BWVVVVVVVMQKuqqqqqKk1AAAAAAAAATkBWVVVVVdVOQKuqqqqqqk9AAAAAAABAUECrqqqqqqpQQFZVVVVVFVFAAAAAAACAUUCrqqqqqupRQFZVVVVVVVJAAAAAAADAUkCrqqqqqipTQFZVVVVVlVNAAAAAAAAAVECrqqqqqmpUQFZVVVVV1VRAAAAAAABAVUCrqqqqqqpVQFZVVVVVFVZAAAAAAACAVkCrqqqqqupWQFZVVVVVVVdAAAAAAADAV0CrqqqqqipYQFZVVVVVlVhAAAAAAAAAWUCrqqqqqmpZQFZVVVVV1VlAAAAAAABAWkCrqqqqqqpaQFZVVVVVFVtAAAAAAACAW0CrqqqqqupbQFZVVVVVVVxAAAAAAADAXECrqqqqqipdQFZVVVVVlV1AAAAAAAAAXkCrqqqqqmpeQFZVVVVV1V5AAAAAAABAX0CrqqqqqqpfQKuqqqqqCmBAAAAAAABAYEBWVVVVVXVgQKuqqqqqqmBAAAAAAADgYEBWVVVVVRVhQKuqqqqqSmFAAAAAAACAYUBWVVVVVbVhQKuqqqqq6mFAAAAAAAAgYkBWVVVVVVViQKuqqqqqimJAAAAAAADAYkBWVVVVVfViQKuqqqqqKmNAAAAAAABgY0BWVVVVVZVjQKuqqqqqymNAAAAAAAAAZEBWVVVVVTVkQKuqqqqqamRAAAAAAACgZEBWVVVVVdVkQKuqqqqqCmVAAAAAAABAZUBWVVVVVXVlQKuqqqqqqmVAAAAAAADgZUBWVVVVVRVmQKuqqqqqSmZAAAAAAACAZkBWVVVVVbVmQAAAAAAAAAAAJObtDIl5+z8k5u0MiXkLQJtssskmmxRAJObtDIl5G0DWrxSo9SshQJtssskmmyRAYClQ61cKKEAk5u0MiXkrQOiiiy666C5A1q8UqPUrMUA5juM4juMyQJtssskmmzRA/UqBWr9SNkBgKVDrVwo4QMIHH3zwwTlAJObtDIl5O0CGxLydITE9QOiiiy666D5ApUCtXylQQEDWrxSo9StBQAgffPDBB0JAOY7jOI7jQkBq/UqBWr9DQJtssskmm0RAzNsZEvN2RUD9SoFav1JGQC666KKLLkdAYClQ61cKSECRmLczJOZIQMIHH3zwwUlA83aGxLydSkAk5u0MiXlLQFVVVVVVVUxAhsS8nSExTUC3MyTm7QxOQOiiiy666E5AGhLzdobET0ClQK1fKVBQQD744IMPvlBA1q8UqPUrUUBvZ0jM25lRQAgffPDBB1JAoNavFKh1UkA5juM4juNSQNFFF110UVNAav1KgVq/U0ACtX6lQC1UQJtssskmm1RANCTm7QwJVUDM2xkS83ZVQGWTTTbZ5FVA/UqBWr9SVkCWArV+pcBWQC666KKLLldAx3Ecx3GcV0BgKVDrVwpYQPjggw8+eFhAkZi3MyTmWEApUOtXClRZQMIHH3zwwVlAWr9SoNYvWkDzdobEvJ1aQIsuuuiiC1tAJObtDIl5W0C9nSExb+dbQFVVVVVVVVxA7gyJeTvDXECGxLydITFdQB988MEHn11AtzMk5u0MXkBQ61cK1HpeQOiiiy666F5AgVq/UqBWX0AaEvN2hsRfQNlkk002GWBApUCtXylQYEByHMdxHIdgQD744IMPvmBACtT6lQL1YEDWrxSo9SthQKOLLrroYmFAb2dIzNuZYUA7Q2LeztBhQAgffPDBB2JA1PqVArU+YkCg1q8UqHViQGyyySabrGJAOY7jOI7jYkAFav1KgRpjQNFFF110UWNAniExb2eIY0Bq/UqBWr9jQDbZZJNN9mNAArV+pUAtZEDPkJi3M2RkQJtssskmm2RAZ0jM2xnSZEA0JObtDAllQAAAAAAAQGVAzNsZEvN2ZUCYtzMk5q1lQGWTTTbZ5GVAMW9nSMwbZkD9SoFav1JmQMomm2yyiWZAlgK1fqXAZkBi3s6QmPdmQC666KKLLmdA+5UCtX5lZ0AAAAAAAAAAAJ4hMW9nSPw/niExb2dIDEA22WSTTTYVQJ4hMW9nSBxAA7V+pUCtIUA22WSTTTYlQGr9SoFavyhAniExb2dILEDSRRdddNEvQAO1fqVArTFAHcdxHMdxM0A22WSTTTY1QFDrVwrU+jZAav1KgVq/OECEDz744IM6QJ4hMW9nSDxAuDMk5u0MPkDSRRdddNE/QPYrBWr9ykBAA7V+pUCtQUAQPvjgg49CQB3HcRzHcUNAKlDrVwpUREA22WSTTTZFQENi3s6QGEZAUOtXCtT6RkBddNFFF91HQGr9SoFav0hAd4bEvJ2hSUCEDz744INKQJGYtzMkZktAniExb2dITECrqqqqqipNQLgzJObtDE5AxbydITHvTkDSRRdddNFPQG9nSMzbWVBA9isFav3KUEB88MEHHzxRQAO1fqVArVFAiXk7Q2IeUkAQPvjgg49SQJYCtX6lAFNAHcdxHMdxU0Cjiy666OJTQCpQ61cKVFRAsBSo9SvFVEA22WSTTTZVQL2dITFvp1VAQ2LezpAYVkDKJptssolWQFDrVwrU+lZA168UqPVrV0BddNFFF91XQOQ4juM4TlhAav1KgVq/WEDxwQcffDBZQHeGxLydoVlA/kqBWr8SWkCEDz744INaQAvU+pUC9VpAkZi3MyRmW0AYXXTRRddbQJ4hMW9nSFxAJObtDIm5XECrqqqqqipdQDFvZ0jMm11AuDMk5u0MXkA++OCDD35eQMW8nSEx715AS4Fav1JgX0DSRRdddNFfQCwFav1KIWBAb2dIzNtZYECzySabbJJgQPYrBWr9ymBAOY7jOI4DYUB88MEHHzxhQMBSoNavdGFAA7V+pUCtYUBGF1100eVhQIl5O0NiHmJAzNsZEvNWYkAQPvjgg49iQFOg1q8UyGJAlgK1fqUAY0DZZJNNNjljQB3HcRzHcWNAYClQ61eqY0Cjiy666OJjQObtDIl5G2RAKlDrVwpUZEBtsskmm4xkQLAUqPUrxWRA83aGxLz9ZEA22WSTTTZlQHo7Q2LebmVAvZ0hMW+nZUAAAAAAAOBlQENi3s6QGGZAh8S8nSFRZkDKJptssolmQA2JeTtDwmZAUOtXCtT6ZkCUTTbZZDNnQNevFKj1a2dAGhLzdoakZ0BddNFFF91nQKHWrxSoFWhAAAAAAAAAAAAXXXTRRRf9PxdddNFFFw1A0UUXXXTRFUAXXXTRRRcdQC666KKLLiJA0UUXXXTRJUB00UUXXXQpQBdddNFFFy1AXXTRRRddMEAuuuiiiy4yQAAAAAAAADRA0UUXXXTRNUCjiy666KI3QHTRRRdddDlARhdddNFFO0AXXXTRRRc9QOiiiy666D5AXXTRRRddQEBGF1100UVBQC666KKLLkJAF1100UUXQ0AAAAAAAABEQOmiiy666ERA0UUXXXTRRUC66KKLLrpGQKOLLrrookdAiy666KKLSEB00UUXXXRJQF100UUXXUpARhdddNFFS0Auuuiiiy5MQBdddNFFF01AAAAAAAAATkDooosuuuhOQNFFF1100U9AXXTRRRddUEDRRRdddNFQQEYXXXTRRVFAuuiiiy66UUAuuuiiiy5SQKOLLrroolJAF1100UUXU0CLLrroootTQAAAAAAAAFRAdNFFF110VEDpoosuuuhUQF100UUXXVVA0UUXXXTRVUBGF1100UVWQLrooosuulZALrrooosuV0Cjiy666KJXQBdddNFFF1hAiy666KKLWEAAAAAAAABZQHTRRRdddFlA6KKLLrroWUBddNFFF11aQNFFF1100VpARhdddNFFW0C66KKLLrpbQC666KKLLlxAo4suuuiiXEAXXXTRRRddQIsuuuiii11AAAAAAAAAXkB00UUXXXReQOiiiy666F5AXXTRRRddX0DRRRdddNFfQKOLLrroImBAXXTRRRddYEAXXXTRRZdgQNFFF1100WBAiy666KILYUBGF1100UVhQAAAAAAAgGFAuuiiiy66YUB00UUXXfRhQC666KKLLmJA6aKLLrpoYkCjiy666KJiQF100UUX3WJAF1100UUXY0DRRRdddFFjQIsuuuiii2NARhdddNHFY0AAAAAAAABkQLrooosuOmRAdNFFF110ZEAuuuiii65kQOmiiy666GRAo4suuugiZUBddNFFF11lQBdddNFFl2VA0UUXXXTRZUCLLrroogtmQEYXXXTRRWZAAAAAAACAZkC66KKLLrpmQHTRRRdd9GZALrrooosuZ0DpoosuumhnQKOLLrroomdAXXTRRRfdZ0AXXXTRRRdoQNFFF110UWhAiy666KKLaEBGF1100cVoQAAAAAAAAAAAkZi3MyTm/T+RmLczJOYNQG2yySabbBZAkZi3MyTmHUBbv1Kg1q8iQG2yySabbCZAf6VArV8pKkCRmLczJOYtQNJFF1100TBAW79SoNavMkDkOI7jOI40QG2yySabbDZA9isFav1KOEB/pUCtXyk6QAgffPDBBzxAkZi3MyTmPUAaEvN2hsQ/QNJFF1100UBAlgK1fqXAQUBbv1Kg1q9CQB988MEHn0NA5DiO4ziORECo9SsFan1FQG2yySabbEZAMW9nSMxbR0D2KwVq/UpIQLrooosuOklAf6VArV8pSkBDYt7OkBhLQAgffPDBB0xAzNsZEvP2TECRmLczJOZNQFZVVVVV1U5AGhLzdobET0BvZ0jM21lQQNJFF1100VBANCTm7QxJUUCWArV+pcBRQPjggw8+OFJAW79SoNavUkC9nSExbydTQB988MEHn1NAgVq/UqAWVEDkOI7jOI5UQEYXXXTRBVVAqPUrBWp9VUAK1PqVAvVVQG2yySabbFZAz5CYtzPkVkAxb2dIzFtXQJRNNtlk01dA9isFav1KWEBYCtT6lcJYQLrooosuOllAHcdxHMexWUB/pUCtXylaQOGDDz74oFpAQ2LezpAYW0CmQK1fKZBbQAgffPDBB1xAav1KgVp/XEDM2xkS8/ZcQC+66KKLbl1AkZi3MyTmXUDzdobEvF1eQFZVVVVV1V5AuDMk5u1MX0AaEvN2hsRfQD744IMPHmBAb2dIzNtZYECg1q8UqJVgQNJFF1100WBAA7V+pUANYUA0JObtDElhQGWTTTbZhGFAlgK1fqXAYUDHcRzHcfxhQPjggw8+OGJAKVDrVwp0YkBbv1Kg1q9iQIwuuuii62JAvZ0hMW8nY0DuDIl5O2NjQB988MEHn2NAUOtXCtTaY0CBWr9SoBZkQLPJJptsUmRA5DiO4ziOZEAVqPUrBcpkQEYXXXTRBWVAd4bEvJ1BZUCo9SsFan1lQNlkk002uWVACtT6lQL1ZUA8Q2LezjBmQG2yySabbGZAniExb2eoZkDPkJi3M+RmQAAAAAAAIGdAMW9nSMxbZ0Bi3s6QmJdnQJRNNtlk02dAxbydITEPaED2KwVq/UpoQCebbLLJhmhAWArU+pXCaECJeTtDYv5oQLrooosuOmlA61cK1Pp1aUAAAAAAAAAAAArU+pUCtf4/CtT6lQK1DkAIH3zwwQcXQArU+pUCtR5AhsS8nSExI0AIH3zwwQcnQIl5O0Ni3ipACtT6lQK1LkBGF1100UUxQIbEvJ0hMTNAx3Ecx3EcNUAIH3zwwQc3QEjM2xkS8zhAiXk7Q2LeOkDJJptsssk8QArU+pUCtT5ApUCtXylQQEBGF1100UVBQObtDIl5O0JAhsS8nSExQ0Anm2yyySZEQMdxHMdxHEVAZ0jM2xkSRkAIH3zwwQdHQKj1KwVq/UdASMzbGRLzSEDooosuuuhJQIl5O0Ni3kpAKVDrVwrUS0DJJptssslMQGr9SoFav01ACtT6lQK1TkCqqqqqqqpPQKVArV8pUFBA9SsFav3KUEBGF1100UVRQJYCtX6lwFFA5u0MiXk7UkA22WSTTbZSQIbEvJ0hMVNA1q8UqPWrU0Anm2yyySZUQHeGxLydoVRAx3Ecx3EcVUAXXXTRRZdVQGdIzNsZElZAtzMk5u2MVkAIH3zwwQdXQFgK1PqVgldAqPUrBWr9V0D44IMPPnhYQEjM2xkS81hAmLczJOZtWUDooosuuuhZQDmO4ziOY1pAiXk7Q2LeWkDZZJNNNllbQClQ61cK1FtAeTtDYt5OXEDJJptssslcQBoS83aGRF1Aav1KgVq/XUC66KKLLjpeQArU+pUCtV5AWr9SoNYvX0CqqqqqqqpfQP1KgVq/EmBApUCtXylQYEBNNtlkk41gQPUrBWr9ymBAniExb2cIYUBGF1100UVhQO4MiXk7g2FAlgK1fqXAYUA++OCDD/5hQObtDIl5O2JAjuM4juN4YkA22WSTTbZiQN7OkJi382JAhsS8nSExY0Auuuiii25jQNavFKj1q2NAfqVArV/pY0Anm2yyySZkQM+QmLczZGRAd4bEvJ2hZEAffPDBB99kQMdxHMdxHGVAb2dIzNtZZUAXXXTRRZdlQL9SoNav1GVAZ0jM2xkSZkAPPvjgg09mQLczJObtjGZAXylQ61fKZkAIH3zwwQdnQLAUqPUrRWdAWArU+pWCZ0AAAAAAAMBnQKj1KwVq/WdAUOtXCtQ6aED44IMPPnhoQKDWrxSotWhASMzbGRLzaEDwwQcffDBpQJi3MyTmbWlAQK1fKVCraUDooosuuuhpQJGYtzMkJmpAAAAAAAAAAACEDz744IP/P4QPPvjggw9Ao4suuuiiF0CEDz744IMfQLLJJptssiNAo4suuuiiJ0CUTTbZZJMrQIQPPvjggy9Auuiiiy66MUCyySabbLIzQKuqqqqqqjVAo4suuuiiN0CbbLLJJps5QJRNNtlkkztAjC666KKLPUCEDz744IM/QD744IMPvkBAuuiiiy66QUA22WSTTbZCQLLJJptsskNAL7rooouuRECrqqqqqqpFQCebbLLJpkZAo4suuuiiR0AffPDBB59IQJtssskmm0lAF1100UWXSkCUTTbZZJNLQBA++OCDj0xAjC666KKLTUAIH3zwwYdOQIQPPvjgg09AAAAAAABAUEA++OCDD75QQHzwwQcfPFFAuuiiiy66UUD44IMPPjhSQDbZZJNNtlJAdNFFF100U0CyySabbLJTQPHBBx98MFRAL7rooouuVEBtsskmmyxVQKuqqqqqqlVA6aKLLrooVkAnm2yyyaZWQGWTTTbZJFdAo4suuuiiV0Dhgw8++CBYQB988MEHn1hAXXTRRRcdWUCbbLLJJptZQNlkk002GVpAF1100UWXWkBVVVVVVRVbQJRNNtlkk1tA0kUXXXQRXEAQPvjgg49cQE422WSTDV1AjC666KKLXUDKJptssgleQAgffPDBh15ARhdddNEFX0CEDz744INfQOGDDz74AGBAAAAAAABAYEAffPDBB39gQD744IMPvmBAXXTRRRf9YEB88MEHHzxhQJtssskme2FAuuiiiy66YUDZZJNNNvlhQPjggw8+OGJAF1100UV3YkA22WSTTbZiQFVVVVVV9WJAdNFFF100Y0CTTTbZZHNjQLLJJptssmNA0kUXXXTxY0DxwQcffDBkQBA++OCDb2RAL7rooouuZEBONtlkk+1kQG2yySabLGVAjC666KJrZUCrqqqqqqplQMomm2yy6WVA6aKLLrooZkAIH3zwwWdmQCebbLLJpmZARhdddNHlZkBlk0022SRnQIQPPvjgY2dAo4suuuiiZ0DCBx988OFnQOGDDz74IGhAAAAAAABgaEAffPDBB59oQD744IMP3mhAXXTRRRcdaUB88MEHH1xpQJtssskmm2lAuuiiiy7aaUDZZJNNNhlqQPjggw8+WGpAF1100UWXakA22WSTTdZqQAAAAAAAAAAAf6VArV8pAEB/pUCtXykQQD744IMPPhhAf6VArV8pIEDfzpCYtzMkQD744IMPPihAniExb2dILEB/pUCtXykwQC+66KKLLjJA386QmLczNECP4ziO4zg2QD744IMPPjhA7gyJeTtDOkCeITFvZ0g8QE422WSTTT5Af6VArV8pQEDXrxSo9StBQC+66KKLLkJAh8S8nSExQ0DfzpCYtzNEQDfZZJNNNkVAj+M4juM4RkDn7QyJeTtHQD744IMPPkhAlgK1fqVASUDuDIl5O0NKQEYXXXTRRUtAniExb2dITED2KwVq/UpNQE422WSTTU5ApkCtXylQT0B/pUCtXylQQKuqqqqqqlBA168UqPUrUUADtX6lQK1RQC+66KKLLlJAW79SoNavUkCHxLydITFTQLPJJptsslNA386QmLczVEAL1PqVArVUQDfZZJNNNlVAY97OkJi3VUCP4ziO4zhWQLvooosuulZA5+0MiXk7V0AT83aGxLxXQD744IMPPlhAav1KgVq/WECWArV+pUBZQMIHH3zwwVlA7gyJeTtDWkAaEvN2hsRaQEYXXXTRRVtAchzHcRzHW0CeITFvZ0hcQMomm2yyyVxA9isFav1KXUAiMW9nSMxdQE422WSTTV5AejtDYt7OXkCmQK1fKVBfQNJFF1100V9Af6VArV8pYEAVqPUrBWpgQKuqqqqqqmBAQa1fKVDrYEDXrxSo9SthQG2yySabbGFAA7V+pUCtYUCZtzMk5u1hQC+66KKLLmJAxbydITFvYkBbv1Kg1q9iQPHBBx988GJAh8S8nSExY0Adx3Ecx3FjQLPJJptssmNASczbGRLzY0DfzpCYtzNkQHXRRRdddGRAC9T6lQK1ZECh1q8UqPVkQDfZZJNNNmVAzdsZEvN2ZUBj3s6QmLdlQPnggw8++GVAj+M4juM4ZkAl5u0MiXlmQLvooosuumZAUetXCtT6ZkDn7QyJeTtnQH3wwQcffGdAE/N2hsS8Z0Cp9SsFav1nQD744IMPPmhA1PqVArV+aEBq/UqBWr9oQAAAAAAAAGlAlgK1fqVAaUAsBWr9SoFpQMIHH3zwwWlAWArU+pUCakDuDIl5O0NqQIQPPvjgg2pAGhLzdobEakCwFKj1KwVrQEYXXXTRRWtA3BkS83aGa0AAAAAAAAAAADtDYt7OkABAO0Ni3s6QEEDYZJNNNtkYQDtDYt7OkCBACtT6lQK1JEDYZJNNNtkoQKf1KwVq/SxAO0Ni3s6QMECiiy666KIyQArU+pUCtTRAcRzHcRzHNkDYZJNNNtk4QECtXylQ6zpAp/UrBWr9PEAPPvjggw8/QDtDYt7OkEBAb2dIzNuZQUCiiy666KJCQNavFKj1q0NACtT6lQK1REA9+OCDD75FQHEcx3Ecx0ZApUCtXynQR0DYZJNNNtlIQAyJeTtD4klAQK1fKVDrSkB00UUXXfRLQKf1KwVq/UxA2xkS83YGTkAPPvjggw9PQCExb2dIDFBAO0Ni3s6QUEBVVVVVVRVRQG9nSMzbmVFAiXk7Q2IeUkCiiy666KJSQLydITFvJ1NA1q8UqPWrU0DwwQcffDBUQArU+pUCtVRAJObtDIk5VUA9+OCDD75VQFcK1PqVQlZAcRzHcRzHVkCLLrrooktXQKVArV8p0FdAv1Kg1q9UWEDYZJNNNtlYQPJ2hsS8XVlADIl5O0PiWUAmm2yyyWZaQECtXylQ61pAWr9SoNZvW0B00UUXXfRbQI3jOI7jeFxAp/UrBWr9XEDBBx988IFdQNsZEvN2Bl5A9SsFav2KXkAPPvjggw9fQChQ61cKlF9AITFvZ0gMYEAuuuiii05gQDtDYt7OkGBASMzbGRLTYEBVVVVVVRVhQGLezpCYV2FAb2dIzNuZYUB88MEHH9xhQIl5O0NiHmJAlQK1fqVgYkCiiy666KJiQK8UqPUr5WJAvJ0hMW8nY0DJJptssmljQNavFKj1q2NA4ziO4zjuY0DwwQcffDBkQP1KgVq/cmRACtT6lQK1ZEAXXXTRRfdkQCTm7QyJOWVAMW9nSMx7ZUA9+OCDD75lQEqBWr9SAGZAVwrU+pVCZkBkk0022YRmQHEcx3Ecx2ZAfqVArV8JZ0CLLrrooktnQJi3MyTmjWdApUCtXynQZ0CyySabbBJoQL9SoNavVGhAzNsZEvOWaEDYZJNNNtloQOXtDIl5G2lA8naGxLxdaUD//////59pQAyJeTtD4mlAGRLzdoYkakAmm2yyyWZqQDMk5u0MqWpAQK1fKVDrakBNNtlkky1rQFq/UqDWb2tAZ0jM2xmya0B00UUXXfRrQIBav1KgNmxAAAAAAAAAAAD44IMPPvgAQPjggw8++BBAdNFFF110GUD44IMPPvggQDbZZJNNNiVAdNFFF110KUCyySabbLItQPjggw8++DBAF1100UUXM0A22WSTTTY1QFVVVVVVVTdAdNFFF110OUCTTTbZZJM7QLLJJptssj1A0UUXXXTRP0D44IMPPvhAQAgffPDBB0JAF1100UUXQ0Amm2yyySZEQDbZZJNNNkVARhdddNFFRkBVVVVVVVVHQGSTTTbZZEhAdNFFF110SUCEDz744INKQJNNNtlkk0tAoosuuuiiTECyySabbLJNQMIHH3zwwU5A0UUXXXTRT0DwwQcffHBQQPjggw8++FBAAAAAAACAUUAIH3zwwQdSQA8++OCDj1JAF1100UUXU0AffPDBB59TQCabbLLJJlRALrrooouuVEA22WSTTTZVQD744IMPvlVARhdddNFFVkBNNtlkk81WQFVVVVVVVVdAXXTRRRfdV0Bkk0022WRYQGyyySab7FhAdNFFF110WUB88MEHH/xZQIQPPvjgg1pAiy666KILW0CTTTbZZJNbQJtssskmG1xAoosuuuiiXECqqqqqqipdQLLJJptssl1Auuiiiy46XkDCBx988MFeQMkmm2yySV9A0UUXXXTRX0BssskmmyxgQPDBBx98cGBAdNFFF120YED44IMPPvhgQHzwwQcfPGFAAAAAAACAYUCEDz744MNhQAgffPDBB2JAiy666KJLYkAPPvjgg49iQJNNNtlk02JAF1100UUXY0CbbLLJJltjQB988MEHn2NAo4suuujiY0Amm2yyySZkQKqqqqqqamRALrrooouuZECyySabbPJkQDbZZJNNNmVAuuiiiy56ZUA++OCDD75lQMIHH3zwAWZARhdddNFFZkDJJptssolmQE022WSTzWZA0UUXXXQRZ0BVVVVVVVVnQNlkk002mWdAXXTRRRfdZ0Dhgw8++CBoQGSTTTbZZGhA6KKLLrqoaEBssskmm+xoQPDBBx98MGlAdNFFF110aUD44IMPPrhpQHzwwQcf/GlAAAAAAABAakCEDz744INqQAcffPDBx2pAiy666KILa0APPvjgg09rQJNNNtlkk2tAF1100UXXa0CbbLLJJhtsQB988MEHX2xAoosuuuiibEAmm2yyyeZsQAAAAAAAAAAAtX6lQK1fAUC1fqVArV8RQBA++OCDDxpAtX6lQK1fIUBi3s6QmLclQBA++OCDDypAvZ0hMW9nLkC1fqVArV8xQIwuuuiiizNAYt7OkJi3NUA5juM4juM3QBA++OCDDzpA5u0MiXk7PEC9nSExb2c+QMomm2yySUBAtX6lQK1fQUCg1q8UqHVCQIwuuuiii0NAd4bEvJ2hREBi3s6QmLdFQE422WSTzUZAOY7jOI7jR0Ak5u0MiflIQBA++OCDD0pA+5UCtX4lS0Dm7QyJeTtMQNFFF110UU1AvZ0hMW9nTkCo9SsFan1PQMomm2yySVBAv1Kg1q/UUEC1fqVArV9RQKuqqqqq6lFAoNavFKh1UkCWArV+pQBTQIwuuuiii1NAgVq/UqAWVEB3hsS8naFUQG2yySabLFVAYt7OkJi3VUBYCtT6lUJWQE422WSTzVZAQ2LezpBYV0A5juM4juNXQC+66KKLblhAJObtDIn5WEAaEvN2hoRZQBA++OCDD1pABWr9SoGaWkD7lQK1fiVbQPDBBx98sFtA5u0MiXk7XEDcGRLzdsZcQNFFF110UV1Ax3Ecx3HcXUC9nSExb2deQLLJJpts8l5AqPUrBWp9X0DPkJi3MwRgQMomm2yySWBAxbydITGPYEC/UqDWr9RgQLrooosuGmFAtX6lQK1fYUCwFKj1K6VhQKuqqqqq6mFApUCtXykwYkCg1q8UqHViQJtssskmu2JAlgK1fqUAY0CRmLczJEZjQIwuuuiii2NAhsS8nSHRY0CBWr9SoBZkQHzwwQcfXGRAd4bEvJ2hZEByHMdxHOdkQG2yySabLGVAZ0jM2xlyZUBi3s6QmLdlQF100UUX/WVAWArU+pVCZkBToNavFIhmQE422WSTzWZASMzbGRITZ0BDYt7OkFhnQD744IMPnmdAOY7jOI7jZ0A0JObtDCloQC+66KKLbmhAKVDrVwq0aEAk5u0MifloQB988MEHP2lAGhLzdoaEaUAVqPUrBcppQBA++OCDD2pACtT6lQJVakAFav1KgZpqQAAAAAAA4GpA+5UCtX4la0D2KwVq/WprQPDBBx98sGtA61cK1Pr1a0Dm7QyJeTtsQOGDDz74gGxA3BkS83bGbEDXrxSo9QttQNFFF110UW1AzNsZEvOWbUAAAAAAAAAAAHIcx3EcxwFAchzHcRzHEUCrqqqqqqoaQHIcx3EcxyFAjuM4juM4JkCrqqqqqqoqQMhxHMdxHC9AchzHcRzHMUAAAAAAAAA0QI7jOI7jODZAHcdxHMdxOECrqqqqqqo6QDmO4ziO4zxAyHEcx3EcP0CrqqqqqqpAQHIcx3Ecx0FAOY7jOI7jQkAAAAAAAABEQMdxHMdxHEVAjuM4juM4RkBWVVVVVVVHQB3HcRzHcUhA5DiO4ziOSUCrqqqqqqpKQHIcx3Ecx0tAOY7jOI7jTEAAAAAAAABOQMhxHMdxHE9Ax3Ecx3EcUECrqqqqqqpQQI7jOI7jOFFAchzHcRzHUUBWVVVVVVVSQDmO4ziO41JAHcdxHMdxU0AAAAAAAABUQOQ4juM4jlRAx3Ecx3EcVUCrqqqqqqpVQI7jOI7jOFZAchzHcRzHVkBWVVVVVVVXQDmO4ziO41dAHcdxHMdxWEAAAAAAAABZQOQ4juM4jllAx3Ecx3EcWkCrqqqqqqpaQI/jOI7jOFtAchzHcRzHW0BWVVVVVVVcQDmO4ziO41xAHcdxHMdxXUAAAAAAAABeQOQ4juM4jl5AyHEcx3EcX0CrqqqqqqpfQMdxHMdxHGBAOY7jOI5jYECrqqqqqqpgQB3HcRzH8WBAjuM4juM4YUAAAAAAAIBhQHIcx3Ecx2FA5DiO4zgOYkBWVVVVVVViQMdxHMdxnGJAOY7jOI7jYkCrqqqqqipjQB3HcRzHcWNAjuM4juO4Y0AAAAAAAABkQHIcx3EcR2RA5DiO4ziOZEBWVVVVVdVkQMdxHMdxHGVAOY7jOI5jZUCrqqqqqqplQB3HcRzH8WVAjuM4juM4ZkAAAAAAAIBmQHIcx3Ecx2ZA5DiO4zgOZ0BWVVVVVVVnQMdxHMdxnGdAOY7jOI7jZ0CrqqqqqipoQB3HcRzHcWhAj+M4juO4aEAAAAAAAABpQHIcx3EcR2lA5DiO4ziOaUBWVVVVVdVpQMdxHMdxHGpAOY7jOI5jakCrqqqqqqpqQB3HcRzH8WpAj+M4juM4a0AAAAAAAIBrQHIcx3Ecx2tA5DiO4zgObEBWVVVVVVVsQMdxHMdxnGxAOY7jOI7jbECrqqqqqiptQB3HcRzHcW1Aj+M4juO4bUAAAAAAAABuQHIcx3EcR25AAAAAAAAAAAAuuuiiiy4CQC666KKLLhJARRdddNFFG0Auuuiiiy4iQLrooosuuiZARRdddNFFK0DQRRdddNEvQC666KKLLjJAdNFFF110NEC66KKLLro2QP///////zhARRdddNFFO0CLLrrooos9QNBFF1100T9Aiy666KILQUAuuuiiiy5CQNFFF110UUNAdNFFF110REAXXXTRRZdFQLrooosuukZAXHTRRRfdR0D///////9IQKKLLrroIkpARRdddNFFS0DooosuumhMQIsuuuiii01ALrrooouuTkDQRRdddNFPQLrooosuelBAiy666KILUUBddNFFF51RQC666KKLLlJA//////+/UkDRRRdddFFTQKKLLrro4lNAdNFFF110VEBFF1100QVVQBdddNFFl1VA6KKLLrooVkC66KKLLrpWQIsuuuiiS1dAXHTRRRfdV0Auuuiii25YQP///////1hA0UUXXXSRWUCiiy666CJaQHTRRRddtFpARRdddNFFW0AWXXTRRddbQOiiiy66aFxAueiiiy76XECLLrroootdQFx00UUXHV5ALrrooouuXkD//////z9fQNBFF1100V9A0UUXXXQxYEC66KKLLnpgQKKLLrrowmBAiy666KILYUB00UUXXVRhQF100UUXnWFARRdddNHlYUAuuuiiiy5iQBdddNFFd2JA//////+/YkDooosuughjQNFFF110UWNAuuiiiy6aY0Ciiy666OJjQIsuuuiiK2RAdNFFF110ZEBcdNFFF71kQEUXXXTRBWVALrroootOZUAXXXTRRZdlQP//////32VA6KKLLrooZkDRRRdddHFmQLrooosuumZAoosuuugCZ0CLLrrooktnQHTRRRddlGdAXHTRRRfdZ0BFF1100SVoQC666KKLbmhAF1100UW3aED///////9oQOiiiy66SGlA0UUXXXSRaUC56KKLLtppQKKLLrroImpAiy666KJrakB00UUXXbRqQFx00UUX/WpARRdddNFFa0Auuuiii45rQBZddNFF12tA//////8fbEDooosuumhsQNFFF110sWxAueiiiy76bECiiy666EJtQIsuuuiii21Ac9FFF13UbUBcdNFFFx1uQEUXXXTRZW5ALrrooouubkAWXXTRRfduQAAAAAAAAAAA61cK1PqVAkDrVwrU+pUSQOCDDz744BtA61cK1PqVIkDm7QyJeTsnQOCDDz744CtA7gyJeTtDMEDrVwrU+pUyQOiiiy666DRA5u0MiXk7N0DjOI7jOI45QOCDDz744DtA3s6QmLczPkDuDIl5O0NAQGyyySabbEFA61cK1PqVQkBq/UqBWr9DQOiiiy666ERAZ0jM2xkSRkDm7QyJeTtHQGSTTTbZZEhA4ziO4ziOSUBi3s6QmLdKQOCDDz744EtAXylQ61cKTUDezpCYtzNOQF100UUXXU9A7gyJeTtDUECtXylQ69dQQGyyySabbFFALAVq/UoBUkDrVwrU+pVSQKqqqqqqKlNAav1KgVq/U0ApUOtXClRUQOiiiy666FRAqPUrBWp9VUBnSMzbGRJWQCabbLLJplZA5u0MiXk7V0ClQK1fKdBXQGSTTTbZZFhAJObtDIn5WEDjOI7jOI5ZQKKLLrroIlpAYt7OkJi3WkAhMW9nSExbQOCDDz744FtAoNavFKh1XEBfKVDrVwpdQB988MEHn11A3s6QmLczXkCdITFvZ8heQF100UUXXV9AHMdxHMfxX0DuDIl5O0NgQE022WSTjWBArV8pUOvXYEANiXk7QyJhQGyyySabbGFAzNsZEvO2YUAsBWr9SgFiQIsuuuiiS2JA61cK1PqVYkBLgVq/UuBiQKqqqqqqKmNACtT6lQJ1Y0Bq/UqBWr9jQMkmm2yyCWRAKVDrVwpUZECJeTtDYp5kQOiiiy666GRASMzbGRIzZUCo9SsFan1lQAcffPDBx2VAZ0jM2xkSZkDHcRzHcVxmQCabbLLJpmZAhsS8nSHxZkDm7QyJeTtnQEUXXXTRhWdApUCtXynQZ0AFav1KgRpoQGSTTTbZZGhAxLydITGvaEAk5u0MifloQIMPPvjgQ2lA4ziO4ziOaUBDYt7OkNhpQKKLLrroImpAArV+pUBtakBi3s6QmLdqQMEHH3zwAWtAITFvZ0hMa0CBWr9SoJZrQOCDDz744GtAQK1fKVArbECg1q8UqHVsQAAAAAAAwGxAXylQ61cKbUC/UqDWr1RtQB988MEHn21AfqVArV/pbUDezpCYtzNuQD744IMPfm5AnSExb2fIbkD9SoFavxJvQF100UUXXW9AvJ0hMW+nb0AAAAAAAAAAAKj1KwVq/QJAqPUrBWr9EkB88MEHH3wcQKj1KwVq/SJAEvN2hsS8J0B88MEHH3wsQPN2hsS8nTBAqPUrBWr9MkBddNFFF101QBLzdobEvDdAx3Ecx3EcOkB88MEHH3w8QDFvZ0jM2z5A83aGxLydQEBONtlkk81BQKj1KwVq/UJAArV+pUAtREBddNFFF11FQLgzJObtjEZAEvN2hsS8R0Bssskmm+xIQMdxHMdxHEpAIjFvZ0hMS0B88MEHH3xMQNavFKj1q01AMW9nSMzbTkBGF1100QVQQPN2hsS8nVBAoNavFKg1UUBONtlkk81RQPuVArV+ZVJAqPUrBWr9UkBVVVVVVZVTQAK1fqVALVRAsBSo9SvFVEBddNFFF11VQArU+pUC9VVAuDMk5u2MVkBlk0022SRXQBLzdobEvFdAv1Kg1q9UWEBssskmm+xYQBoS83aGhFlAx3Ecx3EcWkB00UUXXbRaQCIxb2dITFtAz5CYtzPkW0B88MEHH3xcQClQ61cKFF1A1q8UqPWrXUCEDz744ENeQDFvZ0jM215A3s6QmLdzX0BGF1100QVgQBzHcRzHUWBA83aGxLydYEDKJptssulgQKDWrxSoNWFAd4bEvJ2BYUBONtlkk81hQCTm7QyJGWJA+5UCtX5lYkDRRRdddLFiQKj1KwVq/WJAf6VArV9JY0BVVVVVVZVjQCwFav1K4WNAArV+pUAtZEDZZJNNNnlkQLAUqPUrxWRAhsS8nSERZUBddNFFF11lQDQk5u0MqWVACtT6lQL1ZUDhgw8++EBmQLgzJObtjGZAjuM4juPYZkBlk0022SRnQDtDYt7OcGdAEvN2hsS8Z0DpoosuughoQL9SoNavVGhAlgK1fqWgaEBssskmm+xoQENi3s6QOGlAGhLzdoaEaUDwwQcffNBpQMdxHMdxHGpAniExb2doakB00UUXXbRqQEuBWr9SAGtAIjFvZ0hMa0D44IMPPphrQM+QmLcz5GtApUCtXykwbEB88MEHH3xsQFOg1q8UyGxAKVDrVwoUbUAAAAAAAGBtQNavFKj1q21ArV8pUOv3bUCEDz744ENuQFq/UqDWj25AMW9nSMzbbkAIH3zwwSdvQN7OkJi3c29AtX6lQK2/b0BGF1100QVwQDFvZ0jMK3BAAAAAAAAAAABlk0022WQDQGWTTTbZZBNAGF100UUXHUBlk0022WQjQD744IMPPihAGF100UUXLUD44IMPPvgwQGWTTTbZZDNA0kUXXXTRNUA++OCDDz44QKuqqqqqqjpAGF100UUXPUCEDz744IM/QPjggw8++EBAL7rooosuQkBlk0022WRDQJtssskmm0RA0kUXXXTRRUAIH3zwwQdHQD744IMPPkhAddFFF110SUCrqqqqqqpKQOGDDz744EtAGF100UUXTUBONtlkk01OQIQPPvjgg09AXXTRRRddUED44IMPPvhQQJRNNtlkk1FAL7rooosuUkDKJptssslSQGWTTTbZZFNAAAAAAAAAVECbbLLJJptUQDbZZJNNNlVA0kUXXXTRVUBtsskmm2xWQAgffPDBB1dAo4suuuiiV0A++OCDDz5YQNlkk0022VhAddFFF110WUAQPvjggw9aQKuqqqqqqlpARhdddNFFW0Dhgw8++OBbQHzwwQcffFxAGF100UUXXUCzySabbLJdQE422WSTTV5A6aKLLrroXkCEDz744INfQBA++OCDD2BAXXTRRRddYECrqqqqqqpgQPjggw8++GBARhdddNFFYUCUTTbZZJNhQOGDDz744GFAL7rooosuYkB88MEHH3xiQMomm2yyyWJAF1100UUXY0Blk0022WRjQLPJJptssmNAAAAAAAAAZEBONtlkk01kQJtssskmm2RA6aKLLrroZEA22WSTTTZlQIQPPvjgg2VA0kUXXXTRZUAffPDBBx9mQG2yySabbGZAuuiiiy66ZkAIH3zwwQdnQFZVVVVVVWdAo4suuuiiZ0DxwQcffPBnQD744IMPPmhAjC666KKLaEDZZJNNNtloQCebbLLJJmlAddFFF110aUDCBx988MFpQBA++OCDD2pAXXTRRRddakCrqqqqqqpqQPjggw8++GpARhdddNFFa0CUTTbZZJNrQOGDDz744GtAL7rooosubEB88MEHH3xsQMomm2yyyWxAGF100UUXbUBlk0022WRtQLPJJptssm1AAAAAAAAAbkBONtlkk01uQJtssskmm25A6aKLLrrobkA32WSTTTZvQIQPPvjgg29A0kUXXXTRb0AQPvjggw9wQDbZZJNNNnBAXXTRRRddcECEDz744INwQAAAAAAAAAAAIjFvZ0jMA0AiMW9nSMwTQLPJJptssh1AIjFvZ0jMI0Bq/UqBWr8oQLPJJptssi1A/kqBWr9SMUAiMW9nSMwzQEYXXXTRRTZAav1KgVq/OECP4ziO4zg7QLPJJptssj1A7FcK1PoVQED+SoFav1JBQBA++OCDj0JAIjFvZ0jMQ0A0JObtDAlFQEYXXXTRRUZAWArU+pWCR0Bq/UqBWr9IQH3wwQcf/ElAj+M4juM4S0Ch1q8UqHVMQLPJJptssk1AxbydITHvTkDsVwrU+hVQQHXRRRddtFBA/kqBWr9SUUCHxLydIfFRQBA++OCDj1JAmbczJOYtU0AiMW9nSMxTQKuqqqqqalRANCTm7QwJVUC9nSExb6dVQEYXXXTRRVZAz5CYtzPkVkBYCtT6lYJXQOGDDz74IFhAav1KgVq/WED0dobEvF1ZQH3wwQcf/FlABmr9SoGaWkCP4ziO4zhbQBhddNFF11tAodavFKh1XEAqUOtXChRdQLPJJptssl1APENi3s5QXkDFvJ0hMe9eQE422WSTjV9A7FcK1PoVYECwFKj1K2VgQHXRRRddtGBAOY7jOI4DYUD+SoFav1JhQMIHH3zwoWFAh8S8nSHxYUBLgVq/UkBiQBA++OCDj2JA1PqVArXeYkCZtzMk5i1jQF100UUXfWNAIjFvZ0jMY0Dn7QyJeRtkQKuqqqqqamRAcGdIzNu5ZEA0JObtDAllQPnggw8+WGVAvZ0hMW+nZUCCWr9SoPZlQEYXXXTRRWZAC9T6lQKVZkDPkJi3M+RmQJRNNtlkM2dAWArU+pWCZ0Adx3Ecx9FnQOGDDz74IGhApkCtXylwaEBq/UqBWr9oQC+66KKLDmlA9HaGxLxdaUC4MyTm7axpQH3wwQcf/GlAQa1fKVBLakAGav1KgZpqQMomm2yy6WpAj+M4juM4a0BToNavFIhrQBhddNFF12tA3BkS83YmbECh1q8UqHVsQGWTTTbZxGxAKlDrVwoUbUDuDIl5O2NtQLPJJptssm1AeIbEvJ0BbkA8Q2LezlBuQAEAAAAAoG5AxbydITHvbkCKeTtDYj5vQE422WSTjW9AE/N2hsTcb0DsVwrU+hVwQE422WSTPXBAsBSo9StlcEAS83aGxIxwQHXRRRddtHBA168UqPXbcEAAAAAAAAAAAN7OkJi3MwRA3s6QmLczFEBNNtlkk00eQN7OkJi3MyRAlgK1fqVAKUBNNtlkk00uQAK1fqVArTFA3s6QmLczNEC66KKLLro2QJYCtX6lQDlAcRzHcRzHO0BNNtlkk00+QBSo9SsFakBAArV+pUCtQUDwwQcffPBCQN7OkJi3M0RAzNsZEvN2RUC66KKLLrpGQKj1KwVq/UdAlgK1fqVASUCDDz744INKQHEcx3Ecx0tAXylQ61cKTUBNNtlkk01OQDtDYt7OkE9AFKj1KwVqUECLLrroogtRQAK1fqVArVFAeTtDYt5OUkDwwQcffPBSQGdIzNsZklNA3s6QmLczVEBVVVVVVdVUQMzbGRLzdlVAQ2LezpAYVkC66KKLLrpWQDFvZ0jMW1dAqPUrBWr9V0AffPDBB59YQJYCtX6lQFlADIl5O0PiWUCDDz744INaQPqVArV+JVtAcRzHcRzHW0DooosuumhcQF8pUOtXCl1A1q8UqPWrXUBNNtlkk01eQMS8nSEx715AO0Ni3s6QX0DZZJNNNhlgQBSo9SsFamBAUOtXCtS6YECLLrroogthQMdxHMdxXGFAArV+pUCtYUA++OCDD/5hQHk7Q2LeTmJAtX6lQK2fYkDwwQcffPBiQCwFav1KQWNAZ0jM2xmSY0Cjiy666OJjQN7OkJi3M2RAGRLzdoaEZEBVVVVVVdVkQJCYtzMkJmVAzNsZEvN2ZUAHH3zwwcdlQENi3s6QGGZAfqVArV9pZkC66KKLLrpmQPUrBWr9CmdAMW9nSMxbZ0Bssskmm6xnQKj1KwVq/WdA4ziO4zhOaEAffPDBB59oQFq/UqDW72hAlgK1fqVAaUDRRRdddJFpQAyJeTtD4mlASMzbGRIzakCDDz744INqQL9SoNav1GpA+pUCtX4la0A22WSTTXZrQHEcx3Ecx2tArV8pUOsXbEDooosuumhsQCTm7QyJuWxAXylQ61cKbUCbbLLJJlttQNavFKj1q21AEvN2hsT8bUBNNtlkk01uQIh5O0Ninm5AxLydITHvbkD//////z9vQDtDYt7OkG9AdobEvJ3hb0DZZJNNNhlwQHeGxLydQXBAFKj1KwVqcECyySabbJJwQFDrVwrUunBA7gyJeTvjcECLLrroogtxQClQ61cKNHFAAAAAAAAAAACbbLLJJpsEQJtssskmmxRA6KKLLrroHkCbbLLJJpskQMIHH3zwwSlA6KKLLrroLkAIH3zwwQcyQJtssskmmzRALrrooosuN0DCBx988ME5QFVVVVVVVTxA6KKLLrroPkA++OCDD75AQAgffPDBB0JA0UUXXXRRQ0CbbLLJJptEQGWTTTbZ5EVALrrooosuR0D44IMPPnhIQMIHH3zwwUlAiy666KILS0BVVVVVVVVMQB988MEHn01A6KKLLrroTkDZZJNNNhlQQD744IMPvlBAo4suuuhiUUAIH3zwwQdSQGyyySabrFJA0UUXXXRRU0A22WSTTfZTQJtssskmm1RAAAAAAABAVUBlk0022eRVQMomm2yyiVZALrrooosuV0CTTTbZZNNXQPjggw8+eFhAXXTRRRcdWUDCBx988MFZQCebbLLJZlpAiy666KILW0DwwQcffLBbQFVVVVVVVVxAuuiiiy76XEAffPDBB59dQIQPPvjgQ15A6KKLLrroXkBNNtlkk41fQNlkk002GWBAjC666KJrYEA++OCDD75gQPDBBx98EGFAo4suuuhiYUBVVVVVVbVhQAgffPDBB2JAuuiiiy5aYkBssskmm6xiQB988MEH/2JA0UUXXXRRY0CEDz744KNjQDbZZJNN9mNA6aKLLrpIZECbbLLJJptkQE022WST7WRAAAAAAABAZUCyySabbJJlQGWTTTbZ5GVAF1100UU3ZkDKJptssolmQHzwwQcf3GZALrrooosuZ0Dhgw8++IBnQJNNNtlk02dARhdddNElaED44IMPPnhoQKqqqqqqymhAXXTRRRcdaUAPPvjgg29pQMIHH3zwwWlAdNFFF10UakAnm2yyyWZqQNlkk002uWpAiy666KILa0A++OCDD15rQPDBBx98sGtAo4suuugCbEBVVVVVVVVsQAgffPDBp2xAuuiiiy76bEBssskmm0xtQB988MEHn21A0UUXXXTxbUCEDz744ENuQDbZZJNNlm5A6KKLLrrobkCbbLLJJjtvQE022WSTjW9AAAAAAADgb0DZZJNNNhlwQLLJJptsQnBAjC666KJrcEBlk0022ZRwQD744IMPvnBAF1100UXncEDwwQcffBBxQMomm2yyOXFAo4suuuhicUB88MEHH4xxQAAAAAAAAAAAWArU+pUCBUBYCtT6lQIVQIQPPvjggx9AWArU+pUCJUDuDIl5O0MqQIQPPvjggy9ADYl5O0NiMkBYCtT6lQI1QKOLLrroojdA7gyJeTtDOkA5juM4juM8QIQPPvjggz9AaEjM2xkSQUANiXk7Q2JCQLLJJptsskNAWArU+pUCRUD+SoFav1JGQKOLLrrookdASMzbGRLzSEDuDIl5O0NKQJRNNtlkk0tAOY7jOI7jTEDezpCYtzNOQIQPPvjgg09AFaj1KwVqUEBoSMzbGRJRQLrooosuulFADYl5O0NiUkBgKVDrVwpTQLLJJptsslNABWr9SoFaVEBYCtT6lQJVQKuqqqqqqlVA/kqBWr9SVkBQ61cK1PpWQKOLLrrooldA9isFav1KWEBIzNsZEvNYQJtssskmm1lA7gyJeTtDWkBBrV8pUOtaQJRNNtlkk1tA5u0MiXk7XEA5juM4juNcQIwuuuiii11A3s6QmLczXkAxb2dIzNteQIQPPvjgg19A61cK1PoVYEAVqPUrBWpgQD744IMPvmBAaEjM2xkSYUCRmLczJGZhQLrooosuumFA5DiO4zgOYkANiXk7Q2JiQDbZZJNNtmJAYClQ61cKY0CJeTtDYl5jQLLJJptssmNA3BkS83YGZEAFav1KgVpkQC+66KKLrmRAWArU+pUCZUCBWr9SoFZlQKuqqqqqqmVA1PqVArX+ZUD+SoFav1JmQCebbLLJpmZAUOtXCtT6ZkB6O0Ni3k5nQKOLLrroomdAzNsZEvP2Z0D2KwVq/UpoQB988MEHn2hASMzbGRLzaEByHMdxHEdpQJtssskmm2lAxbydITHvaUDuDIl5O0NqQBdddNFFl2pAQa1fKVDrakBq/UqBWj9rQJRNNtlkk2tAvZ0hMW/na0Dm7QyJeTtsQBA++OCDj2xAOY7jOI7jbEBi3s6QmDdtQIwuuuiii21AtX6lQK3fbUDezpCYtzNuQAgffPDBh25AMW9nSMzbbkBbv1Kg1i9vQIQPPvjgg29ArV8pUOvXb0DrVwrU+hVwQAAAAAAAQHBAFaj1KwVqcEApUOtXCpRwQD744IMPvnBAU6DWrxTocEBoSMzbGRJxQHzwwQcfPHFAkZi3MyRmcUCmQK1fKZBxQLrooosuunFAz5CYtzPkcUAAAAAAAAAAABWo9SsFagVAFaj1KwVqFUAQPvjggw8gQBWo9SsFaiVAGhLzdobEKkAQPvjggw8wQBLzdobEvDJAFaj1KwVqNUAYXXTRRRc4QBoS83aGxDpAHcdxHMdxPUAQPvjggw9AQJGYtzMkZkFAEvN2hsS8QkCUTTbZZBNEQBWo9SsFakVAlgK1fqXARkAYXXTRRRdIQJm3MyTmbUlAGhLzdobESkCcbLLJJhtMQB3HcRzHcU1AniExb2fITkAQPvjggw9QQFDrVwrUulBAkZi3MyRmUUDSRRdddBFSQBLzdobEvFJAU6DWrxRoU0CUTTbZZBNUQNT6lQK1vlRAFaj1KwVqVUBWVVVVVRVWQJYCtX6lwFZA168UqPVrV0AYXXTRRRdYQFgK1PqVwlhAmbczJOZtWUDaZJNNNhlaQBoS83aGxFpAW79SoNZvW0CcbLLJJhtcQNwZEvN2xlxAHcdxHMdxXUBedNFFFx1eQJ4hMW9nyF5A386QmLdzX0AQPvjggw9gQLAUqPUrZWBAUOtXCtS6YEDxwQcffBBhQJGYtzMkZmFAMW9nSMy7YUDSRRdddBFiQHIcx3EcZ2JAEvN2hsS8YkCzySabbBJjQFOg1q8UaGNA83aGxLy9Y0CUTTbZZBNkQDQk5u0MaWRA1PqVArW+ZEB10UUXXRRlQBWo9SsFamVAtX6lQK2/ZUBWVVVVVRVmQPYrBWr9amZAlgK1fqXAZkA32WSTTRZnQNevFKj1a2dAd4bEvJ3BZ0AYXXTRRRdoQLgzJObtbGhAWArU+pXCaED54IMPPhhpQJm3MyTmbWlAOY7jOI7DaUDaZJNNNhlqQHo7Q2LebmpAGhLzdobEakC76KKLLhprQFu/UqDWb2tA+5UCtX7Fa0CcbLLJJhtsQDxDYt7OcGxA3BkS83bGbEB98MEHHxxtQB3HcRzHcW1AvZ0hMW/HbUBedNFFFx1uQP5KgVq/cm5AniExb2fIbkA/+OCDDx5vQN/OkJi3c29Af6VArV/Jb0AQPvjggw9wQGApUOtXOnBAsBSo9StlcEAAAAAAAJBwQFDrVwrUunBAodavFKjlcEDxwQcffBBxQEGtXylQO3FAkZi3MyRmcUDhgw8++JBxQDFvZ0jMu3FAglq/UqDmcUDSRRdddBFyQCIxb2dIPHJAAAAAAAAAAADRRRdddNEFQNFFF1100RVAXXTRRRddIEDRRRdddNElQEUXXXTRRStAXXTRRRddMEAXXXTRRRczQNFFF1100TVAiy666KKLOEBFF1100UU7QP///////z1AXXTRRRddQEC66KKLLrpBQBdddNFFF0NAdNFFF110REDRRRdddNFFQC666KKLLkdAiy666KKLSEDooosuuuhJQEUXXXTRRUtAoosuuuiiTED///////9NQFx00UUXXU9AXXTRRRddUECLLrroogtRQLrooosuulFA6KKLLrpoUkAXXXTRRRdTQEUXXXTRxVNAdNFFF110VECiiy666CJVQNFFF1100VVAAAAAAACAVkAuuuiiiy5XQF100UUX3VdAiy666KKLWEC66KKLLjpZQOiiiy666FlAF1100UWXWkBFF1100UVbQHTRRRdd9FtAoosuuuiiXEDRRRdddFFdQP///////11ALrrooouuXkBcdNFFF11fQEUXXXTRBWBAXXTRRRddYEB00UUXXbRgQIsuuuiiC2FAo4suuuhiYUC66KKLLrphQNFFF110EWJA6KKLLrpoYkAAAAAAAMBiQBdddNFFF2NALrroootuY0BFF1100cVjQF100UUXHWRAdNFFF110ZECLLrroostkQKKLLrroImVAuuiiiy56ZUDRRRdddNFlQOiiiy66KGZAAAAAAACAZkAXXXTRRddmQC666KKLLmdARRdddNGFZ0BddNFFF91nQHTRRRddNGhAiy666KKLaECiiy666OJoQLrooosuOmlA0UUXXXSRaUDooosuuuhpQP//////P2pAF1100UWXakAuuuiii+5qQEUXXXTRRWtAXXTRRReda0B00UUXXfRrQIsuuuiiS2xAoosuuuiibEC66KKLLvpsQNFFF110UW1A6KKLLrqobUD///////9tQBdddNFFV25ALrrooouubkBFF1100QVvQFx00UUXXW9AdNFFF120b0BFF1100QVwQNFFF110MXBAXXTRRRddcEDooosuuohwQHTRRRddtHBAAAAAAADgcECLLrroogtxQBdddNFFN3FAo4suuuhicUAuuuiii45xQLrooosuunFARRdddNHlcUDRRRdddBFyQF100UUXPXJA6KKLLrpockB00UUXXZRyQAAAAAAAAAAAjuM4juM4BkCO4ziO4zgWQKqqqqqqqiBAjuM4juM4JkByHMdxHMcrQKqqqqqqqjBAHMdxHMdxM0CO4ziO4zg2QAAAAAAAADlAchzHcRzHO0DjOI7jOI4+QKqqqqqqqkBA4ziO4zgOQkAcx3Ecx3FDQFVVVVVV1URAjuM4juM4RkDHcRzHcZxHQAAAAAAAAElAOY7jOI5jSkByHMdxHMdLQKqqqqqqKk1A4ziO4ziOTkAcx3Ecx/FPQKqqqqqqqlBAx3Ecx3FcUUDjOI7jOA5SQAAAAAAAwFJAHMdxHMdxU0A5juM4jiNUQFVVVVVV1VRAchzHcRyHVUCO4ziO4zhWQKqqqqqq6lZAx3Ecx3GcV0DjOI7jOE5YQAAAAAAAAFlAHMdxHMexWUA5juM4jmNaQFVVVVVVFVtAchzHcRzHW0CO4ziO43hcQKqqqqqqKl1Ax3Ecx3HcXUDjOI7jOI5eQAAAAAAAQF9AHMdxHMfxX0Acx3Ecx1FgQKqqqqqqqmBAOY7jOI4DYUDHcRzHcVxhQFVVVVVVtWFA4ziO4zgOYkByHMdxHGdiQAAAAAAAwGJAjuM4juMYY0Acx3Ecx3FjQKqqqqqqymNAOY7jOI4jZEDHcRzHcXxkQFVVVVVV1WRA4ziO4zguZUByHMdxHIdlQAAAAAAA4GVAjuM4juM4ZkAcx3Ecx5FmQKqqqqqq6mZAOY7jOI5DZ0DHcRzHcZxnQFVVVVVV9WdA4ziO4zhOaEByHMdxHKdoQAAAAAAAAGlAjuM4juNYaUAcx3Ecx7FpQKqqqqqqCmpAOY7jOI5jakDHcRzHcbxqQFVVVVVVFWtA4ziO4zhua0ByHMdxHMdrQAAAAAAAIGxAjuM4juN4bEAcx3Ecx9FsQKqqqqqqKm1AOY7jOI6DbUDHcRzHcdxtQFVVVVVVNW5A4ziO4ziObkBxHMdxHOduQAAAAAAAQG9AjuM4juOYb0Acx3Ecx/FvQFVVVVVVJXBAHMdxHMdRcEDjOI7jOH5wQKqqqqqqqnBAchzHcRzXcEA5juM4jgNxQAAAAAAAMHFAx3Ecx3FccUCO4ziO44hxQFVVVVVVtXFAHMdxHMfhcUDjOI7jOA5yQKqqqqqqOnJAchzHcRxnckA5juM4jpNyQAAAAAAAwHJAx3Ecx3HsckAAAAAAAAAAAEuBWr9SoAZAS4Fav1KgFkD44IMPPvggQEuBWr9SoCZAniExb2dILED44IMPPvgwQCIxb2dIzDNAS4Fav1KgNkB00UUXXXQ5QJ4hMW9nSDxAx3Ecx3EcP0D44IMPPvhAQA2JeTtDYkJAIjFvZ0jMQ0A22WSTTTZFQEuBWr9SoEZAYClQ61cKSEB00UUXXXRJQIl5O0Ni3kpAniExb2dITECyySabbLJNQMdxHMdxHE9A7gyJeTtDUED44IMPPvhQQAO1fqVArVFADYl5O0NiUkAXXXTRRRdTQCIxb2dIzFNALAVq/UqBVEA22WSTTTZVQEGtXylQ61VAS4Fav1KgVkBVVVVVVVVXQGApUOtXClhAav1KgVq/WEB00UUXXXRZQH+lQK1fKVpAiXk7Q2LeWkCTTTbZZJNbQJ4hMW9nSFxAqPUrBWr9XECyySabbLJdQL2dITFvZ15Ax3Ecx3EcX0DRRRdddNFfQO4MiXk7Q2BA83aGxLydYED44IMPPvhgQP1KgVq/UmFAA7V+pUCtYUAIH3zwwQdiQA2JeTtDYmJAEvN2hsS8YkAXXXTRRRdjQBzHcRzHcWNAIjFvZ0jMY0Anm2yyySZkQCwFav1KgWRAMW9nSMzbZEA22WSTTTZlQDtDYt7OkGVAQa1fKVDrZUBGF1100UVmQEuBWr9SoGZAUOtXCtT6ZkBVVVVVVVVnQFu/UqDWr2dAYClQ61cKaEBlk0022WRoQGr9SoFav2hAb2dIzNsZaUB00UUXXXRpQHo7Q2LezmlAf6VArV8pakCEDz744INqQIl5O0Ni3mpAjuM4juM4a0CTTTbZZJNrQJm3MyTm7WtAniExb2dIbECjiy666KJsQKj1KwVq/WxArV8pUOtXbUCyySabbLJtQLgzJObtDG5AvZ0hMW9nbkDCBx988MFuQMdxHMdxHG9AzNsZEvN2b0DRRRdddNFvQOtXCtT6FXBA7gyJeTtDcEDwwQcffHBwQPN2hsS8nXBA9isFav3KcED44IMPPvhwQPuVArV+JXFA/UqBWr9ScUAAAAAAAIBxQAO1fqVArXFABWr9SoHacUAIH3zwwQdyQArU+pUCNXJADYl5O0NickAQPvjgg49yQBLzdobEvHJAFaj1KwXqckAXXXTRRRdzQBoS83aGRHNAAAAAAAAAAAAIH3zwwQcHQAgffPDBBxdARhdddNFFIUAIH3zwwQcnQMomm2yyySxARhdddNFFMUAnm2yyySY0QAgffPDBBzdA6aKLLrroOUDKJptsssk8QKuqqqqqqj9ARhdddNFFQUA22WSTTbZCQCebbLLJJkRAGF100UWXRUAIH3zwwQdHQPjggw8+eEhA6aKLLrroSUDaZJNNNllLQMomm2yyyUxAuuiiiy46TkCrqqqqqqpPQE422WSTjVBARhdddNFFUUA++OCDD/5RQDbZZJNNtlJAL7roootuU0Anm2yyySZUQB988MEH31RAGF100UWXVUAQPvjgg09WQAgffPDBB1dAAAAAAADAV0D44IMPPnhYQPHBBx98MFlA6aKLLrroWUDhgw8++KBaQNpkk002WVtA0kUXXXQRXEDKJptssslcQMIHH3zwgV1Auuiiiy46XkCzySabbPJeQKuqqqqqql9A0kUXXXQxYEBONtlkk41gQMomm2yy6WBARhdddNFFYUDCBx988KFhQD744IMP/mFAuuiiiy5aYkA22WSTTbZiQLPJJptsEmNAL7roootuY0CrqqqqqspjQCebbLLJJmRAo4suuuiCZEAffPDBB99kQJtssskmO2VAGF100UWXZUCUTTbZZPNlQBA++OCDT2ZAjC666KKrZkAIH3zwwQdnQIQPPvjgY2dAAAAAAADAZ0B88MEHHxxoQPjggw8+eGhAddFFF13UaEDxwQcffDBpQG2yySabjGlA6aKLLrroaUBlk0022URqQOGDDz74oGpAXXTRRRf9akDaZJNNNllrQFZVVVVVtWtA0kUXXXQRbEBONtlkk21sQMomm2yyyWxARhdddNElbUDCBx988IFtQD744IMP3m1Auuiiiy46bkA32WSTTZZuQLPJJpts8m5AL7roootOb0CrqqqqqqpvQJRNNtlkA3BA0kUXXXQxcEAQPvjgg19wQE422WSTjXBAjC666KK7cEDKJptssulwQAgffPDBF3FARhdddNFFcUCEDz744HNxQMIHH3zwoXFAAAAAAADQcUA++OCDD/5xQHzwwQcfLHJAuuiiiy5ackD44IMPPohyQDbZZJNNtnJAddFFF13kckCzySabbBJzQPHBBx98QHNAL7roootuc0Btsskmm5xzQAAAAAAAAAAAxLydITFvB0DEvJ0hMW8XQJNNNtlkkyFAxLydITFvJ0D1KwVq/UotQJNNNtlkkzFALAVq/UqBNEDEvJ0hMW83QFx00UUXXTpA9SsFav1KPUDHcRzHcRxAQJNNNtlkk0FAXylQ61cKQ0AsBWr9SoFEQPjggw8++EVAxLydITFvR0CQmLczJOZIQFx00UUXXUpAKVDrVwrUS0D1KwVq/UpNQMEHH3zwwU5Ax3Ecx3EcUECtXylQ69dQQJNNNtlkk1FAeTtDYt5OUkBfKVDrVwpTQEUXXXTRxVNALAVq/UqBVEAS83aGxDxVQPjggw8++FVA3s6QmLezVkDEvJ0hMW9XQKqqqqqqKlhAkJi3MyTmWEB2hsS8naFZQFx00UUXXVpAQ2LezpAYW0ApUOtXCtRbQA8++OCDj1xA9SsFav1KXUDbGRLzdgZeQMEHH3zwwV5Ap/UrBWp9X0DHcRzHcRxgQLrooosuemBArV8pUOvXYECg1q8UqDVhQJNNNtlkk2FAhsS8nSHxYUB5O0Ni3k5iQGyyySabrGJAXylQ61cKY0BSoNavFGhjQEUXXXTRxWNAOI7jOI4jZEAsBWr9SoFkQB988MEH32RAEvN2hsQ8ZUAFav1KgZplQPjggw8++GVA61cK1PpVZkDezpCYt7NmQNFFF110EWdAxLydITFvZ0C3MyTm7cxnQKqqqqqqKmhAnSExb2eIaECQmLczJOZoQIMPPvjgQ2lAdobEvJ2haUBp/UqBWv9pQFx00UUXXWpAUOtXCtS6akBDYt7OkBhrQDbZZJNNdmtAKVDrVwrUa0Acx3EcxzFsQA8++OCDj2xAArV+pUDtbED1KwVq/UptQOiiiy66qG1A2xkS83YGbkDOkJi3M2RuQMEHH3zwwW5AtH6lQK0fb0Cn9SsFan1vQJpssskm229Ax3Ecx3EccEBArV8pUEtwQLrooosuenBAMyTm7QypcECtXylQ69dwQCabbLLJBnFAoNavFKg1cUAZEvN2hmRxQJNNNtlkk3FADYl5O0PCcUCGxLydIfFxQAAAAAAAIHJAeTtDYt5OckDzdobEvH1yQGyyySabrHJA5u0MiXnbckBfKVDrVwpzQNlkk002OXNAUqDWrxRoc0DM2xkS85ZzQEUXXXTRxXNAv1Kg1q/0c0AAAAAAAAAAAIFav1Kg1gdAgVq/UqDWF0Dhgw8++OAhQIFav1Kg1idAITFvZ0jMLUDhgw8++OAxQDFvZ0jM2zRAgVq/UqDWN0DRRRdddNE6QCExb2dIzD1AOY7jOI5jQEDhgw8++OBBQIl5O0NiXkNAMW9nSMzbREDZZJNNNllGQIFav1Kg1kdAKVDrVwpUSUDRRRdddNFKQHk7Q2LeTkxAITFvZ0jMTUDJJptssklPQDmO4ziOY1BADYl5O0MiUUDhgw8++OBRQLV+pUCtn1JAiXk7Q2JeU0BddNFFFx1UQDFvZ0jM21RABWr9SoGaVUDZZJNNNllWQK1fKVDrF1dAgVq/UqDWV0BVVVVVVZVYQClQ61cKVFlA/UqBWr8SWkDRRRdddNFaQKVArV8pkFtAeTtDYt5OXEBNNtlkkw1dQCExb2dIzF1A9SsFav2KXkDJJptssklfQM+QmLczBGBAOY7jOI5jYECjiy666MJgQA2JeTtDImFAd4bEvJ2BYUDhgw8++OBhQEuBWr9SQGJAtX6lQK2fYkAffPDBB/9iQIl5O0NiXmNA83aGxLy9Y0BddNFFFx1kQMdxHMdxfGRAMW9nSMzbZECbbLLJJjtlQAVq/UqBmmVAb2dIzNv5ZUDZZJNNNllmQENi3s6QuGZArV8pUOsXZ0AXXXTRRXdnQIFav1Kg1mdA61cK1Po1aEBVVVVVVZVoQL9SoNav9GhAKVDrVwpUaUCTTTbZZLNpQP1KgVq/EmpAZ0jM2xlyakDRRRdddNFqQDtDYt7OMGtApUCtXymQa0APPvjgg+9rQHk7Q2LeTmxA4ziO4ziubEBNNtlkkw1tQLczJObtbG1AITFvZ0jMbUCLLrrooituQPUrBWr9im5AXylQ61fqbkDJJptssklvQDMk5u0MqW9Az5CYtzMEcECEDz744DNwQDmO4ziOY3BA7gyJeTuTcECjiy666MJwQFgK1PqV8nBADYl5O0MicUDCBx988FFxQHeGxLydgXFALAVq/UqxcUDhgw8++OBxQJYCtX6lEHJAS4Fav1JAckAAAAAAAHByQLV+pUCtn3JAav1KgVrPckAffPDBB/9yQNT6lQK1LnNAiXk7Q2Jec0A++OCDD45zQPN2hsS8vXNAqPUrBWrtc0BddNFFFx10QBLzdobETHRAAAAAAAAAAAA++OCDDz4IQD744IMPPhhALrrooosuIkA++OCDDz4oQE422WSTTS5ALrrooosuMkA22WSTTTY1QD744IMPPjhARhdddNFFO0BONtlkk00+QKuqqqqqqkBALrrooosuQkCyySabbLJDQDbZZJNNNkVAuuiiiy66RkA++OCDDz5IQMIHH3zwwUlARhdddNFFS0DKJptssslMQE422WSTTU5A0UUXXXTRT0CrqqqqqqpQQG2yySabbFFALrrooosuUkDwwQcffPBSQLLJJptsslNAdNFFF110VEA22WSTTTZVQPjggw8++FVAuuiiiy66VkB88MEHH3xXQD744IMPPlhAAAAAAAAAWUDCBx988MFZQIQPPvjgg1pARhdddNFFW0AIH3zwwQdcQMomm2yyyVxAjC666KKLXUBONtlkk01eQA8++OCDD19A0UUXXXTRX0DKJptssklgQKuqqqqqqmBAjC666KILYUBtsskmm2xhQE422WSTzWFALrrooosuYkAPPvjgg49iQPDBBx988GJA0UUXXXRRY0CyySabbLJjQJNNNtlkE2RAdNFFF110ZEBVVVVVVdVkQDbZZJNNNmVAF1100UWXZUD44IMPPvhlQNlkk002WWZAuuiiiy66ZkCbbLLJJhtnQHzwwQcffGdAXXTRRRfdZ0A++OCDDz5oQB988MEHn2hAAAAAAAAAaUDhgw8++GBpQMIHH3zwwWlAo4suuugiakCEDz744INqQGWTTTbZ5GpARhdddNFFa0Anm2yyyaZrQAgffPDBB2xA6aKLLrpobEDKJptssslsQKuqqqqqKm1AjC666KKLbUBtsskmm+xtQE422WSTTW5ALrrooouubkAPPvjggw9vQPDBBx98cG9A0UUXXXTRb0DZZJNNNhlwQMomm2yySXBAuuiiiy56cECrqqqqqqpwQJtssskm23BAjC666KILcUB88MEHHzxxQG2yySabbHFAXXTRRRedcUBONtlkk81xQD744IMP/nFALrrooosuckAffPDBB19yQA8++OCDj3JAAAAAAADAckDwwQcffPByQOGDDz74IHNA0UUXXXRRc0DCBx988IFzQLLJJptssnNAo4suuujic0CTTTbZZBN0QIQPPvjgQ3RAdNFFF110dEBlk0022aR0QAAAAAAAAAAA+5UCtX6lCED7lQK1fqUYQHzwwQcffCJA+5UCtX6lKEB6O0Ni3s4uQHzwwQcffDJAPENi3s6QNUD7lQK1fqU4QLrooosuujtAejtDYt7OPkAdx3Ecx/FAQHzwwQcffEJA3BkS83YGREA8Q2LezpBFQJtssskmG0dA+5UCtX6lSEBbv1Kg1i9KQLrooosuuktAGhLzdoZETUB6O0Ni3s5OQG2yySabLFBAHcdxHMfxUEDM2xkS87ZRQHzwwQcffFJALAVq/UpBU0DcGRLzdgZUQIwuuuiiy1RAPENi3s6QVUDrVwrU+lVWQJtssskmG1dAS4Fav1LgV0D7lQK1fqVYQKuqqqqqallAW79SoNYvWkAL1PqVAvVaQLrooosuultAav1KgVp/XEAaEvN2hkRdQMomm2yyCV5AejtDYt7OXkAqUOtXCpRfQG2yySabLGBAxbydITGPYEAdx3Ecx/FgQHTRRRddVGFAzNsZEvO2YUAk5u0MiRliQHzwwQcffGJA1PqVArXeYkAsBWr9SkFjQIQPPvjgo2NA3BkS83YGZEA0JObtDGlkQIwuuuiiy2RA5DiO4zguZUA8Q2LezpBlQJRNNtlk82VA61cK1PpVZkBDYt7OkLhmQJtssskmG2dA83aGxLx9Z0BLgVq/UuBnQKOLLrroQmhA+5UCtX6laEBToNavFAhpQKuqqqqqamlAA7V+pUDNaUBbv1Kg1i9qQLPJJptskmpAC9T6lQL1akBi3s6QmFdrQLrooosuumtAEvN2hsQcbEBq/UqBWn9sQMIHH3zw4WxAGhLzdoZEbUByHMdxHKdtQMomm2yyCW5AIjFvZ0hsbkB6O0Ni3s5uQNJFF110MW9AKlDrVwqUb0CCWr9SoPZvQG2yySabLHBAmbczJOZdcEDFvJ0hMY9wQPHBBx98wHBAHcdxHMfxcEBJzNsZEiNxQHTRRRddVHFAoNavFKiFcUDM2xkS87ZxQPjggw8+6HFAJObtDIkZckBQ61cK1EpyQHzwwQcffHJAqPUrBWqtckDU+pUCtd5yQAAAAAAAEHNALAVq/UpBc0BYCtT6lXJzQIQPPvjgo3NAsBSo9SvVc0DcGRLzdgZ0QAgffPDBN3RANCTm7QxpdEBgKVDrV5p0QIwuuuiiy3RAuDMk5u38dEAAAAAAAAAAALczJObtDAlAtzMk5u0MGUDJJptssskiQLczJObtDClApUCtXylQL0DJJptssskyQECtXylQ6zVAtzMk5u0MOUAuuuiiiy48QKVArV8pUD9AjuM4juM4QUDJJptssslCQAVq/UqBWkRAQK1fKVDrRUB88MEHH3xHQLczJObtDElA8naGxLydSkAuuuiiiy5MQGn9SoFav01ApUCtXylQT0DwwQcffHBQQI7jOI7jOFFALAVq/UoBUkDJJptssslSQGdIzNsZklNABWr9SoFaVECiiy666CJVQECtXylQ61VA3s6QmLezVkB88MEHH3xXQBkS83aGRFhAtzMk5u0MWUBVVVVVVdVZQPJ2hsS8nVpAkJi3MyRmW0Auuuiiiy5cQMzbGRLz9lxAaf1KgVq/XUAHH3zwwYdeQKVArV8pUF9AITFvZ0gMYEDwwQcffHBgQL9SoNav1GBAjuM4juM4YUBddNFFF51hQCwFav1KAWJA+pUCtX5lYkDJJptsssliQJi3MyTmLWNAZ0jM2xmSY0A22WSTTfZjQAVq/UqBWmRA1PqVArW+ZECiiy666CJlQHEcx3Ech2VAQK1fKVDrZUAPPvjgg09mQN7OkJi3s2ZArV8pUOsXZ0B88MEHH3xnQEqBWr9S4GdAGRLzdoZEaEDooosuuqhoQLczJObtDGlAhsS8nSFxaUBVVVVVVdVpQCTm7QyJOWpA8naGxLydakDBBx988AFrQJCYtzMkZmtAXylQ61fKa0Auuuiiiy5sQP1KgVq/kmxAzNsZEvP2bECabLLJJlttQGn9SoFav21AOI7jOI4jbkAHH3zwwYduQNavFKj1625ApUCtXylQb0B00UUXXbRvQCExb2dIDHBAiXk7Q2I+cEDwwQcffHBwQFgK1PqVonBAv1Kg1q/UcEAmm2yyyQZxQI7jOI7jOHFA9SsFav1qcUBddNFFF51xQMS8nSExz3FALAVq/UoBckCTTTbZZDNyQPqVArV+ZXJAYt7OkJiXckDJJptssslyQDFvZ0jM+3JAmLczJOYtc0AAAAAAAGBzQGdIzNsZknNAzpCYtzPEc0A22WSTTfZzQJ0hMW9nKHRABWr9SoFadEBssskmm4x0QNT6lQK1vnRAO0Ni3s7wdECiiy666CJ1QArU+pUCVXVAAAAAAAAAAAB00UUXXXQJQHTRRRdddBlAF1100UUXI0B00UUXXXQpQNFFF1100S9AF1100UUXM0BGF1100UU2QHTRRRdddDlAoosuuuiiPEDRRRdddNE/QAAAAAAAgEFAF1100UUXQ0Auuuiii65EQEYXXXTRRUZAXXTRRRfdR0B00UUXXXRJQIsuuuiiC0tAoosuuuiiTEC66KKLLjpOQNFFF1100U9AdNFFF120UEAAAAAAAIBRQIsuuuiiS1JAF1100UUXU0Cjiy666OJTQC666KKLrlRAuuiiiy56VUBGF1100UVWQNFFF110EVdAXXTRRRfdV0DooosuuqhYQHTRRRdddFlAAAAAAABAWkCLLrroogtbQBdddNFF11tAoosuuuiiXEAuuuiii25dQLrooosuOl5ARRdddNEFX0DRRRdddNFfQC666KKLTmBAdNFFF120YEC66KKLLhphQAAAAAAAgGFARhdddNHlYUCLLrrooktiQNFFF110sWJAF1100UUXY0BddNFFF31jQKOLLrro4mNA6KKLLrpIZEAuuuiii65kQHTRRRddFGVAuuiiiy56ZUAAAAAAAOBlQEYXXXTRRWZAiy666KKrZkDRRRdddBFnQBdddNFFd2dAXXTRRRfdZ0Cjiy666EJoQOiiiy66qGhALrrooosOaUB00UUXXXRpQLrooosu2mlAAAAAAABAakBFF1100aVqQIsuuuiiC2tA0UUXXXRxa0AXXXTRRddrQF100UUXPWxAoosuuuiibEDooosuughtQC666KKLbm1AdNFFF13UbUC66KKLLjpuQAAAAAAAoG5ARRdddNEFb0CLLrroomtvQNFFF1100W9Aiy666KIbcEAuuuiii05wQNFFF110gXBAdNFFF120cEAXXXTRRedwQLrooosuGnFAXXTRRRdNcUAAAAAAAIBxQKOLLrrosnFARhdddNHlcUDooosuuhhyQIsuuuiiS3JALrrooot+ckDRRRdddLFyQHTRRRdd5HJAF1100UUXc0C66KKLLkpzQF100UUXfXNAAAAAAACwc0Cjiy666OJzQEYXXXTRFXRA6KKLLrpIdECLLrroont0QC666KKLrnRA0UUXXXThdEB00UUXXRR1QBdddNFFR3VAuuiiiy56dUBddNFFF611QAAAAAAAAAAAMW9nSMzbCUAxb2dIzNsZQGWTTTbZZCNAMW9nSMzbKUB/pUCtXykwQGWTTTbZZDNAS4Fav1KgNkAxb2dIzNs5QBdddNFFFz1Af6VArV8pQEByHMdxHMdBQGWTTTbZZENAWArU+pUCRUBLgVq/UqBGQD744IMPPkhAMW9nSMzbSUAk5u0MiXlLQBdddNFFF01ACtT6lQK1TkB/pUCtXylQQPjggw8++FBAchzHcRzHUUDrVwrU+pVSQGWTTTbZZFNA3s6QmLczVEBYCtT6lQJVQNFFF1100VVAS4Fav1KgVkDEvJ0hMW9XQD744IMPPlhAtzMk5u0MWUAxb2dIzNtZQKuqqqqqqlpAJObtDIl5W0CeITFvZ0hcQBdddNFFF11AkZi3MyTmXUAK1PqVArVeQIQPPvjgg19Af6VArV8pYEA7Q2LezpBgQPjggw8++GBAtX6lQK1fYUByHMdxHMdhQC666KKLLmJA61cK1PqVYkCo9SsFav1iQGWTTTbZZGNAIjFvZ0jMY0DezpCYtzNkQJtssskmm2RAWArU+pUCZUAVqPUrBWplQNFFF1100WVAjuM4juM4ZkBLgVq/UqBmQAgffPDBB2dAxLydITFvZ0CBWr9SoNZnQD744IMPPmhA+5UCtX6laEC3MyTm7QxpQHTRRRdddGlAMW9nSMzbaUDuDIl5O0NqQKuqqqqqqmpAZ0jM2xkSa0Ak5u0MiXlrQOGDDz744GtAniExb2dIbEBav1Kg1q9sQBdddNFFF21A1PqVArV+bUCRmLczJOZtQE022WSTTW5ACtT6lQK1bkDHcRzHcRxvQIQPPvjgg29AQK1fKVDrb0B/pUCtXylwQF100UUXXXBAO0Ni3s6QcEAaEvN2hsRwQPjggw8++HBA168UqPUrcUC1fqVArV9xQJNNNtlkk3FAchzHcRzHcUBQ61cK1PpxQC666KKLLnJADYl5O0NickDrVwrU+pVyQMomm2yyyXJAqPUrBWr9ckCGxLydITFzQGWTTTbZZHNAQ2LezpCYc0AiMW9nSMxzQAAAAAAAAHRA3s6QmLczdEC9nSExb2d0QJtssskmm3RAeTtDYt7OdEBYCtT6lQJ1QDbZZJNNNnVAFaj1KwVqdUDzdobEvJ11QNFFF1100XVAsBSo9SsFdkAAAAAAAAAAAO4MiXk7QwpA7gyJeTtDGkCyySabbLIjQO4MiXk7QypAFaj1KwVqMECyySabbLIzQFDrVwrU+jZA7gyJeTtDOkCMLrrooos9QBWo9SsFakBA5DiO4zgOQkCyySabbLJDQIFav1KgVkVAUOtXCtT6RkAffPDBB59IQO4MiXk7Q0pAvZ0hMW/nS0CMLrroootNQFu/UqDWL09AFaj1KwVqUEB88MEHHzxRQOQ4juM4DlJAS4Fav1LgUkCyySabbLJTQBoS83aGhFRAgVq/UqBWVUDpoosuuihWQFDrVwrU+lZAuDMk5u3MV0AffPDBB59YQIfEvJ0hcVlA7gyJeTtDWkBVVVVVVRVbQL2dITFv51tAJObtDIm5XECMLrroootdQPN2hsS8XV5AW79SoNYvX0Dhgw8++ABgQBWo9SsFamBASMzbGRLTYEB88MEHHzxhQLAUqPUrpWFA5DiO4zgOYkAXXXTRRXdiQEuBWr9S4GJAf6VArV9JY0CyySabbLJjQObtDIl5G2RAGhLzdoaEZEBONtlkk+1kQIFav1KgVmVAtX6lQK2/ZUDpoosuuihmQB3HcRzHkWZAUOtXCtT6ZkCEDz744GNnQLgzJObtzGdA61cK1Po1aEAffPDBB59oQFOg1q8UCGlAh8S8nSFxaUC66KKLLtppQO4MiXk7Q2pAIjFvZ0isakBVVVVVVRVrQIl5O0NifmtAvZ0hMW/na0DxwQcffFBsQCTm7QyJuWxAWArU+pUibUCMLrrooottQL9SoNav9G1A83aGxLxdbkAnm2yyycZuQFu/UqDWL29AjuM4juOYb0Dhgw8++ABwQPuVArV+NXBAFaj1KwVqcEAvuuiii55wQEjM2xkS03BAYt7OkJgHcUB88MEHHzxxQJYCtX6lcHFAsBSo9SulcUDKJptsstlxQOQ4juM4DnJA/UqBWr9CckAXXXTRRXdyQDFvZ0jMq3JAS4Fav1LgckBlk0022RRzQH+lQK1fSXNAmbczJOZ9c0CyySabbLJzQMzbGRLz5nNA5u0MiXkbdEAAAAAAAFB0QBoS83aGhHRANCTm7Qy5dEBONtlkk+10QGhIzNsZInVAgVq/UqBWdUCbbLLJJot1QLV+pUCtv3VAz5CYtzP0dUDpoosuuih2QAO1fqVAXXZAAAAAAAAAAACrqqqqqqoKQKuqqqqqqhpAAAAAAAAAJECrqqqqqqoqQKuqqqqqqjBAAAAAAAAANEBWVVVVVVU3QKuqqqqqqjpAAAAAAAAAPkCrqqqqqqpAQFZVVVVVVUJAAAAAAAAARECrqqqqqqpFQFZVVVVVVUdAAAAAAAAASUCrqqqqqqpKQFZVVVVVVUxAAAAAAAAATkCrqqqqqqpPQKuqqqqqqlBAAAAAAACAUUBWVVVVVVVSQKuqqqqqKlNAAAAAAAAAVEBWVVVVVdVUQKuqqqqqqlVAAAAAAACAVkBWVVVVVVVXQKuqqqqqKlhAAAAAAAAAWUBWVVVVVdVZQKuqqqqqqlpAAAAAAACAW0BWVVVVVVVcQKuqqqqqKl1AAAAAAAAAXkBWVVVVVdVeQKuqqqqqql9AAAAAAABAYECrqqqqqqpgQFZVVVVVFWFAAAAAAACAYUCrqqqqquphQFZVVVVVVWJAAAAAAADAYkCrqqqqqipjQFZVVVVVlWNAAAAAAAAAZECrqqqqqmpkQFZVVVVV1WRAAAAAAABAZUCrqqqqqqplQFZVVVVVFWZAAAAAAACAZkCrqqqqqupmQFZVVVVVVWdAAAAAAADAZ0CrqqqqqipoQFZVVVVVlWhAAAAAAAAAaUCrqqqqqmppQFZVVVVV1WlAAAAAAABAakCrqqqqqqpqQFZVVVVVFWtAAAAAAACAa0CrqqqqquprQFZVVVVVVWxAAAAAAADAbECrqqqqqiptQFZVVVVVlW1AAAAAAAAAbkCrqqqqqmpuQFZVVVVV1W5AAAAAAABAb0CrqqqqqqpvQKuqqqqqCnBAAAAAAABAcEBWVVVVVXVwQKuqqqqqqnBAAAAAAADgcEBWVVVVVRVxQKuqqqqqSnFAAAAAAACAcUBWVVVVVbVxQKuqqqqq6nFAAAAAAAAgckBWVVVVVVVyQKuqqqqqinJAAAAAAADAckBWVVVVVfVyQKuqqqqqKnNAAAAAAABgc0BWVVVVVZVzQKuqqqqqynNAAAAAAAAAdEBWVVVVVTV0QKuqqqqqanRAAAAAAACgdEBWVVVVVdV0QKuqqqqqCnVAAAAAAABAdUBWVVVVVXV1QKuqqqqqqnVAAAAAAADgdUBWVVVVVRV2QKuqqqqqSnZAAAAAAACAdkBWVVVVVbV2QAAAAAAAAAAAZ0jM2xkSC0BnSMzbGRIbQE022WSTTSRAZ0jM2xkSK0BArV8pUOswQE022WSTTTRAWr9SoNavN0BnSMzbGRI7QHTRRRdddD5AQK1fKVDrQEDHcRzHcZxCQE022WSTTURA1PqVArX+RUBav1Kg1q9HQOGDDz74YElAZ0jM2xkSS0DtDIl5O8NMQHTRRRdddE5A/UqBWr8SUEBArV8pUOtQQIQPPvjgw1FAx3Ecx3GcUkAK1PqVAnVTQE022WSTTVRAkJi3MyQmVUDU+pUCtf5VQBdddNFF11ZAWr9SoNavV0CdITFvZ4hYQOGDDz74YFlAJObtDIk5WkBnSMzbGRJbQKqqqqqq6ltA7QyJeTvDXEAxb2dIzJtdQHTRRRdddF5AtzMk5u1MX0D9SoFavxJgQB988MEHf2BAQK1fKVDrYEBi3s6QmFdhQIQPPvjgw2FApUCtXykwYkDHcRzHcZxiQOiiiy66CGNACtT6lQJ1Y0AsBWr9SuFjQE022WSTTWRAb2dIzNu5ZECQmLczJCZlQLLJJptskmVA1PqVArX+ZUD1KwVq/WpmQBdddNFF12ZAOY7jOI5DZ0Bav1Kg1q9nQHzwwQcfHGhAnSExb2eIaEC/UqDWr/RoQOGDDz74YGlAArV+pUDNaUAk5u0MiTlqQEUXXXTRpWpAZ0jM2xkSa0CJeTtDYn5rQKqqqqqq6mtAzNsZEvNWbEDtDIl5O8NsQA8++OCDL21AMW9nSMybbUBSoNavFAhuQHTRRRdddG5AlQK1fqXgbkC3MyTm7UxvQNlkk002uW9A/UqBWr8ScECO4ziO40hwQB988MEHf3BAsBSo9Su1cEBArV8pUOtwQNFFF110IXFAYt7OkJhXcUDzdobEvI1xQIQPPvjgw3FAFKj1KwX6cUClQK1fKTByQDbZZJNNZnJAx3Ecx3GcckBYCtT6ldJyQOiiiy66CHNAeTtDYt4+c0AK1PqVAnVzQJtssskmq3NALAVq/Urhc0C8nSExbxd0QE022WSTTXRA3s6QmLeDdEBvZ0jM27l0QAAAAAAA8HRAkJi3MyQmdUAhMW9nSFx1QLLJJptsknVAQ2LezpDIdUDU+pUCtf51QGSTTTbZNHZA9SsFav1qdkCGxLydIaF2QBdddNFF13ZAqPUrBWoNd0AAAAAAAAAAACTm7QyJeQtAJObtDIl5G0CbbLLJJpskQCTm7QyJeStA1q8UqPUrMUCbbLLJJps0QGApUOtXCjhAJObtDIl5O0Dooosuuug+QNavFKj1K0FAOY7jOI7jQkCbbLLJJptEQP1KgVq/UkZAYClQ61cKSEDCBx988MFJQCTm7QyJeUtAhsS8nSExTUDooosuuuhOQKVArV8pUFBA1q8UqPUrUUAIH3zwwQdSQDmO4ziO41JAav1KgVq/U0CbbLLJJptUQMzbGRLzdlVA/UqBWr9SVkAuuuiiiy5XQGApUOtXClhAkZi3MyTmWEDCBx988MFZQPN2hsS8nVpAJObtDIl5W0BVVVVVVVVcQIbEvJ0hMV1AtzMk5u0MXkDooosuuuheQBoS83aGxF9ApUCtXylQYEA++OCDD75gQNavFKj1K2FAb2dIzNuZYUAIH3zwwQdiQKDWrxSodWJAOY7jOI7jYkDRRRdddFFjQGr9SoFav2NAArV+pUAtZECbbLLJJptkQDQk5u0MCWVAzNsZEvN2ZUBlk0022eRlQP1KgVq/UmZAlgK1fqXAZkAuuuiiiy5nQMdxHMdxnGdAYClQ61cKaED44IMPPnhoQJGYtzMk5mhAKVDrVwpUaUDCBx988MFpQFq/UqDWL2pA83aGxLydakCLLrroogtrQCTm7QyJeWtAvZ0hMW/na0BVVVVVVVVsQO4MiXk7w2xAhsS8nSExbUAffPDBB59tQLczJObtDG5AUOtXCtR6bkDooosuuuhuQIFav1KgVm9AGhLzdobEb0DZZJNNNhlwQKVArV8pUHBAchzHcRyHcEA++OCDD75wQArU+pUC9XBA1q8UqPUrcUCjiy666GJxQG9nSMzbmXFAO0Ni3s7QcUAIH3zwwQdyQNT6lQK1PnJAoNavFKh1ckBssskmm6xyQDmO4ziO43JABWr9SoEac0DRRRdddFFzQJ4hMW9niHNAav1KgVq/c0A22WSTTfZzQAK1fqVALXRAz5CYtzNkdECbbLLJJpt0QGdIzNsZ0nRANCTm7QwJdUAAAAAAAEB1QMzbGRLzdnVAmLczJOatdUBlk0022eR1QDFvZ0jMG3ZA/UqBWr9SdkDKJptssol2QJYCtX6lwHZAYt7OkJj3dkAuuuiiiy53QPuVArV+ZXdAAAAAAAAAAADhgw8++OALQOGDDz744BtA6aKLLrroJEDhgw8++OArQG2yySabbDFA6aKLLrroNEBlk0022WQ4QOGDDz744DtAXXTRRRddP0Btsskmm2xBQKuqqqqqKkNA6aKLLrroREAnm2yyyaZGQGWTTTbZZEhAo4suuugiSkDhgw8++OBLQB988MEHn01AXXTRRRddT0BONtlkk41QQG2yySabbFFAjC666KJLUkCrqqqqqipTQMomm2yyCVRA6aKLLrroVEAIH3zwwcdVQCebbLLJplZARhdddNGFV0Blk0022WRYQIQPPvjgQ1lAo4suuugiWkDCBx988AFbQOGDDz744FtAAAAAAADAXEAffPDBB59dQD744IMPfl5AXXTRRRddX0A++OCDDx5gQE422WSTjWBAXXTRRRf9YEBtsskmm2xhQHzwwQcf3GFAjC666KJLYkCbbLLJJrtiQKuqqqqqKmNAuuiiiy6aY0DKJptssglkQNlkk002eWRA6aKLLrroZED44IMPPlhlQAgffPDBx2VAF1100UU3ZkAnm2yyyaZmQDbZZJNNFmdARhdddNGFZ0BVVVVVVfVnQGWTTTbZZGhAdNFFF13UaECEDz744ENpQJNNNtlks2lAo4suuugiakCyySabbJJqQMIHH3zwAWtA0UUXXXRxa0Dhgw8++OBrQPHBBx98UGxAAAAAAADAbEAQPvjggy9tQB988MEHn21AL7rooosObkA++OCDD35uQE422WST7W5AXXTRRRddb0Btsskmm8xvQD744IMPHnBARhdddNFVcEBONtlkk41wQFVVVVVVxXBAXXTRRRf9cEBlk0022TRxQG2yySabbHFAdNFFF12kcUB88MEHH9xxQIQPPvjgE3JAjC666KJLckCTTTbZZINyQJtssskmu3JAo4suuujyckCrqqqqqipzQLLJJptsYnNAuuiiiy6ac0DCBx988NFzQMomm2yyCXRA0UUXXXRBdEDZZJNNNnl0QOGDDz74sHRA6aKLLrrodEDxwQcffCB1QPjggw8+WHVAAAAAAACQdUAIH3zwwcd1QBA++OCD/3VAF1100UU3dkAffPDBB292QCebbLLJpnZAL7rooovedkA22WSTTRZ3QD744IMPTndARhdddNGFd0BONtlkk713QAAAAAAAAAAAniExb2dIDECeITFvZ0gcQDbZZJNNNiVAniExb2dILEADtX6lQK0xQDbZZJNNNjVAav1KgVq/OECeITFvZ0g8QNJFF1100T9AA7V+pUCtQUAdx3Ecx3FDQDbZZJNNNkVAUOtXCtT6RkBq/UqBWr9IQIQPPvjgg0pAniExb2dITEC4MyTm7QxOQNJFF1100U9A9isFav3KUEADtX6lQK1RQBA++OCDj1JAHcdxHMdxU0AqUOtXClRUQDbZZJNNNlVAQ2LezpAYVkBQ61cK1PpWQF100UUX3VdAav1KgVq/WEB3hsS8naFZQIQPPvjgg1pAkZi3MyRmW0CeITFvZ0hcQKuqqqqqKl1AuDMk5u0MXkDFvJ0hMe9eQNJFF1100V9Ab2dIzNtZYED2KwVq/cpgQHzwwQcfPGFAA7V+pUCtYUCJeTtDYh5iQBA++OCDj2JAlgK1fqUAY0Adx3Ecx3FjQKOLLrro4mNAKlDrVwpUZECwFKj1K8VkQDbZZJNNNmVAvZ0hMW+nZUBDYt7OkBhmQMomm2yyiWZAUOtXCtT6ZkDXrxSo9WtnQF100UUX3WdA5DiO4zhOaEBq/UqBWr9oQPHBBx98MGlAd4bEvJ2haUD+SoFavxJqQIQPPvjgg2pAC9T6lQL1akCRmLczJGZrQBhddNFF12tAniExb2dIbEAk5u0MiblsQKuqqqqqKm1AMW9nSMybbUC4MyTm7QxuQD744IMPfm5AxbydITHvbkBLgVq/UmBvQNJFF1100W9ALAVq/UohcEBvZ0jM21lwQLPJJptsknBA9isFav3KcEA5juM4jgNxQHzwwQcfPHFAwFKg1q90cUADtX6lQK1xQEYXXXTR5XFAiXk7Q2IeckDM2xkS81ZyQBA++OCDj3JAU6DWrxTIckCWArV+pQBzQNlkk002OXNAHcdxHMdxc0BgKVDrV6pzQKOLLrro4nNA5u0MiXkbdEAqUOtXClR0QG2yySabjHRAsBSo9SvFdEDzdobEvP10QDbZZJNNNnVAejtDYt5udUC9nSExb6d1QAAAAAAA4HVAQ2LezpAYdkCHxLydIVF2QMomm2yyiXZADYl5O0PCdkBQ61cK1Pp2QJRNNtlkM3dA168UqPVrd0AaEvN2hqR3QF100UUX3XdAodavFKgVeEAAAAAAAAAAAFq/UqDWrwxAWr9SoNavHECEDz744IMlQFq/UqDWryxAmLczJObtMUCEDz744IM1QG9nSMzbGTlAWr9SoNavPECjiy666CJAQJi3MyTm7UFAjuM4juO4Q0CEDz744INFQHk7Q2LeTkdAb2dIzNsZSUBkk0022eRKQFq/UqDWr0xAUOtXCtR6TkCjiy666CJQQJ0hMW9nCFFAmLczJObtUUCTTTbZZNNSQI7jOI7juFNAiXk7Q2KeVECEDz744INVQH6lQK1faVZAeTtDYt5OV0B00UUXXTRYQG9nSMzbGVlAav1KgVr/WUBkk0022eRaQF8pUOtXyltAWr9SoNavXEBVVVVVVZVdQFDrVwrUel5ASoFav1JgX0Cjiy666CJgQKDWrxSolWBAnSExb2cIYUCbbLLJJnthQJi3MyTm7WFAlgK1fqVgYkCTTTbZZNNiQJCYtzMkRmNAjuM4juO4Y0CLLrrooitkQIl5O0NinmRAhsS8nSERZUCEDz744INlQIFav1Kg9mVAfqVArV9pZkB88MEHH9xmQHk7Q2LeTmdAd4bEvJ3BZ0B00UUXXTRoQHEcx3Ecp2hAb2dIzNsZaUBssskmm4xpQGr9SoFa/2lAZ0jM2xlyakBkk0022eRqQGLezpCYV2tAXylQ61fKa0BddNFFFz1sQFq/UqDWr2xAVwrU+pUibUBVVVVVVZVtQFKg1q8UCG5AUOtXCtR6bkBNNtlkk+1uQEqBWr9SYG9ASMzbGRLTb0Cjiy666CJwQCExb2dIXHBAoNavFKiVcEAffPDBB89wQJ0hMW9nCHFAHMdxHMdBcUCbbLLJJntxQBoS83aGtHFAmLczJObtcUAXXXTRRSdyQJYCtX6lYHJAFKj1KwWackCTTTbZZNNyQBLzdobEDHNAkJi3MyRGc0APPvjgg39zQI7jOI7juHNADYl5O0Pyc0CLLrrooit0QArU+pUCZXRAiXk7Q2KedEAHH3zwwdd0QIbEvJ0hEXVABWr9SoFKdUCEDz744IN1QAK1fqVAvXVAgVq/UqD2dUAAAAAAADB2QH6lQK1faXZA/UqBWr+idkB88MEHH9x2QPqVArV+FXdAeTtDYt5Od0D44IMPPoh3QHeGxLydwXdA9SsFav36d0B00UUXXTR4QPN2hsS8bXhAAAAAAAAAAAAXXXTRRRcNQBdddNFFFx1A0UUXXXTRJUAXXXTRRRctQC666KKLLjJA0UUXXXTRNUB00UUXXXQ5QBdddNFFFz1AXXTRRRddQEAuuuiiiy5CQAAAAAAAAERA0UUXXXTRRUCjiy666KJHQHTRRRdddElARhdddNFFS0AXXXTRRRdNQOiiiy666E5AXXTRRRddUEBGF1100UVRQC666KKLLlJAF1100UUXU0AAAAAAAABUQOmiiy666FRA0UUXXXTRVUC66KKLLrpWQKOLLrrooldAiy666KKLWEB00UUXXXRZQF100UUXXVpARhdddNFFW0Auuuiiiy5cQBdddNFFF11AAAAAAAAAXkDooosuuuheQNFFF1100V9AXXTRRRddYEDRRRdddNFgQEYXXXTRRWFAuuiiiy66YUAuuuiiiy5iQKOLLrroomJAF1100UUXY0CLLrroootjQAAAAAAAAGRAdNFFF110ZEDpoosuuuhkQF100UUXXWVA0UUXXXTRZUBGF1100UVmQLrooosuumZALrrooosuZ0Cjiy666KJnQBdddNFFF2hAiy666KKLaEAAAAAAAABpQHTRRRdddGlA6KKLLrroaUBddNFFF11qQNFFF1100WpARhdddNFFa0C66KKLLrprQC666KKLLmxAo4suuuiibEAXXXTRRRdtQIsuuuiii21AAAAAAAAAbkB00UUXXXRuQOiiiy666G5AXXTRRRddb0DRRRdddNFvQKOLLrroInBAXXTRRRddcEAXXXTRRZdwQNFFF1100XBAiy666KILcUBGF1100UVxQAAAAAAAgHFAuuiiiy66cUB00UUXXfRxQC666KKLLnJA6aKLLrpockCjiy666KJyQF100UUX3XJAF1100UUXc0DRRRdddFFzQIsuuuiii3NARhdddNHFc0AAAAAAAAB0QLrooosuOnRAdNFFF110dEAuuuiii650QOmiiy666HRAo4suuugidUBddNFFF111QBdddNFFl3VA0UUXXXTRdUCLLrroogt2QEYXXXTRRXZAAAAAAACAdkC66KKLLrp2QHTRRRdd9HZALrrooosud0Dpoosuumh3QKOLLrroondAXXTRRRfdd0AXXXTRRRd4QNFFF110UXhAiy666KKLeEBGF1100cV4QAAAAAAAAAAA1PqVArV+DUDU+pUCtX4dQB988MEHHyZA1PqVArV+LUDEvJ0hMW8yQB988MEHHzZAejtDYt7OOUDU+pUCtX49QBdddNFFl0BAxLydITFvQkByHMdxHEdEQB988MEHH0ZAzNsZEvP2R0B6O0Ni3s5JQCebbLLJpktA1PqVArV+TUCBWr9SoFZPQBdddNFFl1BA7gyJeTuDUUDEvJ0hMW9SQJtssskmW1NAchzHcRxHVEBIzNsZEjNVQB988MEHH1ZA9isFav0KV0DM2xkS8/ZXQKOLLrro4lhAejtDYt7OWUBQ61cK1LpaQCebbLLJpltA/UqBWr+SXEDU+pUCtX5dQKuqqqqqal5AgVq/UqBWX0AsBWr9SiFgQBdddNFFl2BAA7V+pUANYUDuDIl5O4NhQNlkk002+WFAxLydITFvYkCwFKj1K+ViQJtssskmW2NAhsS8nSHRY0ByHMdxHEdkQF100UUXvWRASMzbGRIzZUA0JObtDKllQB988MEHH2ZACtT6lQKVZkD2KwVq/QpnQOGDDz74gGdAzNsZEvP2Z0C4MyTm7WxoQKOLLrro4mhAjuM4juNYaUB6O0Ni3s5pQGWTTTbZRGpAUOtXCtS6akA7Q2LezjBrQCebbLLJpmtAEvN2hsQcbED9SoFav5JsQOmiiy66CG1A1PqVArV+bUC/UqDWr/RtQKuqqqqqam5AlgK1fqXgbkCBWr9SoFZvQG2yySabzG9ALAVq/UohcEAiMW9nSFxwQBdddNFFl3BADYl5O0PScEADtX6lQA1xQPjggw8+SHFA7gyJeTuDcUDkOI7jOL5xQNlkk002+XFAz5CYtzM0ckDEvJ0hMW9yQLrooosuqnJAsBSo9SvlckClQK1fKSBzQJtssskmW3NAkZi3MySWc0CGxLydIdFzQHzwwQcfDHRAchzHcRxHdEBnSMzbGYJ0QF100UUXvXRAU6DWrxT4dEBIzNsZEjN1QD744IMPbnVANCTm7QypdUApUOtXCuR1QB988MEHH3ZAFaj1KwVadkAK1PqVApV2QAAAAAAA0HZA9isFav0Kd0DrVwrU+kV3QOGDDz74gHdA168UqPW7d0DM2xkS8/Z3QMIHH3zwMXhAuDMk5u1seECtXylQ66d4QKOLLrro4nhAmbczJOYdeUAAAAAAAAAAAJGYtzMk5g1AkZi3MyTmHUBtsskmm2wmQJGYtzMk5i1AW79SoNavMkBtsskmm2w2QH+lQK1fKTpAkZi3MyTmPUDSRRdddNFAQFu/UqDWr0JA5DiO4ziOREBtsskmm2xGQPYrBWr9SkhAf6VArV8pSkAIH3zwwQdMQJGYtzMk5k1AGhLzdobET0DSRRdddNFQQJYCtX6lwFFAW79SoNavUkAffPDBB59TQOQ4juM4jlRAqPUrBWp9VUBtsskmm2xWQDFvZ0jMW1dA9isFav1KWEC66KKLLjpZQH+lQK1fKVpAQ2LezpAYW0AIH3zwwQdcQMzbGRLz9lxAkZi3MyTmXUBWVVVVVdVeQBoS83aGxF9Ab2dIzNtZYEDSRRdddNFgQDQk5u0MSWFAlgK1fqXAYUD44IMPPjhiQFu/UqDWr2JAvZ0hMW8nY0AffPDBB59jQIFav1KgFmRA5DiO4ziOZEBGF1100QVlQKj1KwVqfWVACtT6lQL1ZUBtsskmm2xmQM+QmLcz5GZAMW9nSMxbZ0CUTTbZZNNnQPYrBWr9SmhAWArU+pXCaEC66KKLLjppQB3HcRzHsWlAf6VArV8pakDhgw8++KBqQENi3s6QGGtApkCtXymQa0AIH3zwwQdsQGr9SoFaf2xAzNsZEvP2bEAvuuiii25tQJGYtzMk5m1A83aGxLxdbkBWVVVVVdVuQLgzJObtTG9AGhLzdobEb0A++OCDDx5wQG9nSMzbWXBAoNavFKiVcEDSRRdddNFwQAO1fqVADXFANCTm7QxJcUBlk0022YRxQJYCtX6lwHFAx3Ecx3H8cUD44IMPPjhyQClQ61cKdHJAW79SoNavckCMLrrooutyQL2dITFvJ3NA7gyJeTtjc0AffPDBB59zQFDrVwrU2nNAgVq/UqAWdECzySabbFJ0QOQ4juM4jnRAFaj1KwXKdEBGF1100QV1QHeGxLydQXVAqPUrBWp9dUDZZJNNNrl1QArU+pUC9XVAPENi3s4wdkBtsskmm2x2QJ4hMW9nqHZAz5CYtzPkdkAAAAAAACB3QDFvZ0jMW3dAYt7OkJiXd0CUTTbZZNN3QMW8nSExD3hA9isFav1KeEAnm2yyyYZ4QFgK1PqVwnhAiXk7Q2L+eEC66KKLLjp5QOtXCtT6dXlAAAAAAAAAAABNNtlkk00OQE022WSTTR5Auuiiiy66JkBNNtlkk00uQPDBBx988DJAuuiiiy66NkCDDz744IM6QE022WSTTT5Aiy666KILQUDwwQcffPBCQFVVVVVV1URAuuiiiy66RkAffPDBB59IQIMPPvjgg0pA6KKLLrpoTEBNNtlkk01OQNlkk002GVBAiy666KILUUA++OCDD/5RQPDBBx988FJAo4suuujiU0BVVVVVVdVUQAcffPDBx1VAuuiiiy66VkBssskmm6xXQB988MEHn1hA0UUXXXSRWUCDDz744INaQDbZZJNNdltA6KKLLrpoXECbbLLJJltdQE022WSTTV5A//////8/X0DZZJNNNhlgQLLJJptskmBAiy666KILYUBlk0022YRhQD744IMP/mFAF1100UV3YkDwwQcffPBiQMkmm2yyaWNAo4suuujiY0B88MEHH1xkQFVVVVVV1WRALrroootOZUAHH3zwwcdlQOGDDz74QGZAuuiiiy66ZkCTTTbZZDNnQGyyySabrGdARRdddNElaEAffPDBB59oQPjggw8+GGlA0UUXXXSRaUCqqqqqqgpqQIMPPvjgg2pAXXTRRRf9akA22WSTTXZrQA8++OCD72tA6KKLLrpobEDBBx988OFsQJtssskmW21AdNFFF13UbUBNNtlkk01uQCabbLLJxm5A//////8/b0DZZJNNNrlvQNlkk002GXBARhdddNFVcECyySabbJJwQB988MEHz3BAiy666KILcUD44IMPPkhxQGWTTTbZhHFA0UUXXXTBcUA++OCDD/5xQKqqqqqqOnJAF1100UV3ckCEDz744LNyQPDBBx988HJAXXTRRRctc0DJJptssmlzQDbZZJNNpnNAo4suuujic0APPvjggx90QHzwwQcfXHRA6KKLLrqYdEBVVVVVVdV0QMIHH3zwEXVALrroootOdUCbbLLJJot1QAcffPDBx3VAdNFFF10EdkDhgw8++EB2QE022WSTfXZAuuiiiy66dkAmm2yyyfZ2QJNNNtlkM3dAAAAAAABwd0Bssskmm6x3QNlkk0026XdARRdddNEleECyySabbGJ4QB988MEHn3hAiy666KLbeED44IMPPhh5QGSTTTbZVHlA0UUXXXSReUA++OCDD855QAAAAAAAAAAACtT6lQK1DkAK1PqVArUeQAgffPDBBydACtT6lQK1LkCGxLydITEzQAgffPDBBzdAiXk7Q2LeOkAK1PqVArU+QEYXXXTRRUFAhsS8nSExQ0DHcRzHcRxFQAgffPDBB0dASMzbGRLzSECJeTtDYt5KQMkmm2yyyUxACtT6lQK1TkClQK1fKVBQQEYXXXTRRVFA5u0MiXk7UkCGxLydITFTQCebbLLJJlRAx3Ecx3EcVUBnSMzbGRJWQAgffPDBB1dAqPUrBWr9V0BIzNsZEvNYQOiiiy666FlAiXk7Q2LeWkApUOtXCtRbQMkmm2yyyVxAav1KgVq/XUAK1PqVArVeQKqqqqqqql9ApUCtXylQYED1KwVq/cpgQEYXXXTRRWFAlgK1fqXAYUDm7QyJeTtiQDbZZJNNtmJAhsS8nSExY0DWrxSo9atjQCebbLLJJmRAd4bEvJ2hZEDHcRzHcRxlQBdddNFFl2VAZ0jM2xkSZkC3MyTm7YxmQAgffPDBB2dAWArU+pWCZ0Co9SsFav1nQPjggw8+eGhASMzbGRLzaECYtzMk5m1pQOiiiy666GlAOY7jOI5jakCJeTtDYt5qQNlkk002WWtAKVDrVwrUa0B5O0Ni3k5sQMkmm2yyyWxAGhLzdoZEbUBq/UqBWr9tQLrooosuOm5ACtT6lQK1bkBav1Kg1i9vQKqqqqqqqm9A/UqBWr8ScEClQK1fKVBwQE022WSTjXBA9SsFav3KcECeITFvZwhxQEYXXXTRRXFA7gyJeTuDcUCWArV+pcBxQD744IMP/nFA5u0MiXk7ckCO4ziO43hyQDbZZJNNtnJA3s6QmLfzckCGxLydITFzQC666KKLbnNA1q8UqPWrc0B+pUCtX+lzQCebbLLJJnRAz5CYtzNkdEB3hsS8naF0QB988MEH33RAx3Ecx3EcdUBvZ0jM21l1QBdddNFFl3VAv1Kg1q/UdUBnSMzbGRJ2QA8++OCDT3ZAtzMk5u2MdkBfKVDrV8p2QAgffPDBB3dAsBSo9StFd0BYCtT6lYJ3QAAAAAAAwHdAqPUrBWr9d0BQ61cK1Dp4QPjggw8+eHhAoNavFKi1eEBIzNsZEvN4QPDBBx98MHlAmLczJOZteUBArV8pUKt5QOiiiy666HlAkZi3MyQmekAAAAAAAAAAAMdxHMdxHA9Ax3Ecx3EcH0BVVVVVVVUnQMdxHMdxHC9AHMdxHMdxM0BVVVVVVVU3QI7jOI7jODtAx3Ecx3EcP0AAAAAAAIBBQBzHcRzHcUNAOY7jOI5jRUBVVVVVVVVHQHIcx3EcR0lAjuM4juM4S0CrqqqqqipNQMdxHMdxHE9AchzHcRyHUEAAAAAAAIBRQI7jOI7jeFJAHMdxHMdxU0CrqqqqqmpUQDmO4ziOY1VAx3Ecx3FcVkBVVVVVVVVXQOM4juM4TlhAchzHcRxHWUAAAAAAAEBaQI7jOI7jOFtAHMdxHMcxXECrqqqqqipdQDmO4ziOI15Ax3Ecx3EcX0CrqqqqqgpgQHIcx3Ech2BAOY7jOI4DYUAAAAAAAIBhQMdxHMdx/GFAjuM4juN4YkBVVVVVVfViQBzHcRzHcWNA4ziO4zjuY0CrqqqqqmpkQHIcx3Ec52RAOY7jOI5jZUAAAAAAAOBlQMdxHMdxXGZAjuM4juPYZkBVVVVVVVVnQBzHcRzH0WdA4ziO4zhOaECrqqqqqspoQHIcx3EcR2lAOY7jOI7DaUAAAAAAAEBqQMdxHMdxvGpAjuM4juM4a0BVVVVVVbVrQBzHcRzHMWxA4ziO4ziubECrqqqqqiptQHIcx3Ecp21AOY7jOI4jbkAAAAAAAKBuQMdxHMdxHG9AjuM4juOYb0CrqqqqqgpwQI7jOI7jSHBAchzHcRyHcEBVVVVVVcVwQDmO4ziOA3FAHMdxHMdBcUAAAAAAAIBxQOM4juM4vnFAx3Ecx3H8cUCrqqqqqjpyQI7jOI7jeHJAchzHcRy3ckBVVVVVVfVyQDmO4ziOM3NAHMdxHMdxc0AAAAAAALBzQOM4juM47nNAx3Ecx3EsdECrqqqqqmp0QI7jOI7jqHRAchzHcRzndEBVVVVVVSV1QDmO4ziOY3VAHMdxHMehdUAAAAAAAOB1QOM4juM4HnZAx3Ecx3FcdkCrqqqqqpp2QI7jOI7j2HZAchzHcRwXd0BVVVVVVVV3QDmO4ziOk3dAHMdxHMfRd0AAAAAAABB4QOM4juM4TnhAx3Ecx3GMeECrqqqqqsp4QI7jOI7jCHlAchzHcRxHeUBVVVVVVYV5QDmO4ziOw3lAHMdxHMcBekAAAAAAAEB6QOM4juM4fnpAAAAAAAAAAACEDz744IMPQIQPPvjggx9Ao4suuuiiJ0CEDz744IMvQLLJJptssjNAo4suuuiiN0CUTTbZZJM7QIQPPvjggz9Auuiiiy66QUCyySabbLJDQKuqqqqqqkVAo4suuuiiR0CbbLLJJptJQJRNNtlkk0tAjC666KKLTUCEDz744INPQD744IMPvlBAuuiiiy66UUA22WSTTbZSQLLJJptsslNAL7rooouuVECrqqqqqqpVQCebbLLJplZAo4suuuiiV0AffPDBB59YQJtssskmm1lAF1100UWXWkCUTTbZZJNbQBA++OCDj1xAjC666KKLXUAIH3zwwYdeQIQPPvjgg19AAAAAAABAYEA++OCDD75gQHzwwQcfPGFAuuiiiy66YUD44IMPPjhiQDbZZJNNtmJAdNFFF100Y0CyySabbLJjQPHBBx98MGRAL7rooouuZEBtsskmmyxlQKuqqqqqqmVA6aKLLrooZkAnm2yyyaZmQGWTTTbZJGdAo4suuuiiZ0Dhgw8++CBoQB988MEHn2hAXXTRRRcdaUCbbLLJJptpQNlkk002GWpAF1100UWXakBVVVVVVRVrQJRNNtlkk2tA0kUXXXQRbEAQPvjgg49sQE422WSTDW1AjC666KKLbUDKJptssgluQAgffPDBh25ARhdddNEFb0CEDz744INvQOGDDz74AHBAAAAAAABAcEAffPDBB39wQD744IMPvnBAXXTRRRf9cEB88MEHHzxxQJtssskme3FAuuiiiy66cUDZZJNNNvlxQPjggw8+OHJAF1100UV3ckA22WSTTbZyQFVVVVVV9XJAdNFFF100c0CTTTbZZHNzQLLJJptssnNA0kUXXXTxc0DxwQcffDB0QBA++OCDb3RAL7rooouudEBONtlkk+10QG2yySabLHVAjC666KJrdUCrqqqqqqp1QMomm2yy6XVA6aKLLroodkAIH3zwwWd2QCebbLLJpnZARhdddNHldkBlk0022SR3QIQPPvjgY3dAo4suuuiid0DCBx988OF3QOGDDz74IHhAAAAAAABgeEAffPDBB594QD744IMP3nhAXXTRRRcdeUB88MEHH1x5QJtssskmm3lAuuiiiy7aeUDZZJNNNhl6QPjggw8+WHpAF1100UWXekA22WSTTdZ6QAAAAAAAAAAAQK1fKVDrD0BArV8pUOsfQPDBBx988CdAQK1fKVDrL0BIzNsZEvMzQPDBBx988DdAmLczJObtO0BArV8pUOs/QHTRRRdd9EFASMzbGRLzQ0Acx3Ecx/FFQPDBBx988EdAxLydITHvSUCYtzMk5u1LQGyyySab7E1AQK1fKVDrT0AK1PqVAvVQQHTRRRdd9FFA3s6QmLfzUkBIzNsZEvNTQLLJJpts8lRAHMdxHMfxVUCGxLydIfFWQPDBBx988FdAWr9SoNbvWEDEvJ0hMe9ZQC666KKL7lpAmLczJObtW0ACtX6lQO1cQGyyySab7F1A1q8UqPXrXkBArV8pUOtfQFVVVVVVdWBACtT6lQL1YEC/UqDWr3RhQHTRRRdd9GFAKVDrVwp0YkDezpCYt/NiQJNNNtlkc2NASMzbGRLzY0D9SoFav3JkQLLJJpts8mRAZ0jM2xlyZUAcx3Ecx/FlQNFFF110cWZAhsS8nSHxZkA7Q2LeznBnQPDBBx988GdApUCtXylwaEBav1Kg1u9oQA8++OCDb2lAxLydITHvaUB5O0Ni3m5qQC666KKL7mpA4ziO4zhua0CYtzMk5u1rQE022WSTbWxAArV+pUDtbEC3MyTm7WxtQGyyySab7G1AITFvZ0hsbkDWrxSo9etuQIsuuuiia29AQK1fKVDrb0D6lQK1fjVwQFVVVVVVdXBAsBSo9Su1cEAK1PqVAvVwQGSTTTbZNHFAv1Kg1q90cUAaEvN2hrRxQHTRRRdd9HFAzpCYtzM0ckApUOtXCnRyQIQPPvjgs3JA3s6QmLfzckA4juM4jjNzQJNNNtlkc3NA7gyJeTuzc0BIzNsZEvNzQKKLLrroMnRA/UqBWr9ydEBYCtT6lbJ0QLLJJpts8nRADIl5O0MydUBnSMzbGXJ1QMIHH3zwsXVAHMdxHMfxdUB2hsS8nTF2QNFFF110cXZALAVq/UqxdkCGxLydIfF2QOCDDz74MHdAO0Ni3s5wd0CWArV+pbB3QPDBBx988HdASoFav1IweEClQK1fKXB4QAAAAAAAsHhAWr9SoNbveEC0fqVArS95QA8++OCDb3lAav1KgVqveUDEvJ0hMe95QB588MEHL3pAeTtDYt5uekDU+pUCta56QC666KKL7npAiHk7Q2Iue0AAAAAAAAAAAH+lQK1fKRBAf6VArV8pIEA++OCDDz4oQH+lQK1fKTBA386QmLczNEA++OCDDz44QJ4hMW9nSDxAf6VArV8pQEAvuuiiiy5CQN/OkJi3M0RAj+M4juM4RkA++OCDDz5IQO4MiXk7Q0pAniExb2dITEBONtlkk01OQH+lQK1fKVBA168UqPUrUUAvuuiiiy5SQIfEvJ0hMVNA386QmLczVEA32WSTTTZVQI/jOI7jOFZA5+0MiXk7V0A++OCDDz5YQJYCtX6lQFlA7gyJeTtDWkBGF1100UVbQJ4hMW9nSFxA9isFav1KXUBONtlkk01eQKZArV8pUF9Af6VArV8pYECrqqqqqqpgQNevFKj1K2FAA7V+pUCtYUAvuuiiiy5iQFu/UqDWr2JAh8S8nSExY0CzySabbLJjQN/OkJi3M2RAC9T6lQK1ZEA32WSTTTZlQGPezpCYt2VAj+M4juM4ZkC76KKLLrpmQOftDIl5O2dAE/N2hsS8Z0A++OCDDz5oQGr9SoFav2hAlgK1fqVAaUDCBx988MFpQO4MiXk7Q2pAGhLzdobEakBGF1100UVrQHIcx3Ecx2tAniExb2dIbEDKJptssslsQPYrBWr9Sm1AIjFvZ0jMbUBONtlkk01uQHo7Q2Lezm5ApkCtXylQb0DSRRdddNFvQH+lQK1fKXBAFaj1KwVqcECrqqqqqqpwQEGtXylQ63BA168UqPUrcUBtsskmm2xxQAO1fqVArXFAmbczJObtcUAvuuiiiy5yQMW8nSExb3JAW79SoNavckDxwQcffPByQIfEvJ0hMXNAHcdxHMdxc0CzySabbLJzQEnM2xkS83NA386QmLczdEB10UUXXXR0QAvU+pUCtXRAodavFKj1dEA32WSTTTZ1QM3bGRLzdnVAY97OkJi3dUD54IMPPvh1QI/jOI7jOHZAJebtDIl5dkC76KKLLrp2QFHrVwrU+nZA5+0MiXk7d0B98MEHH3x3QBPzdobEvHdAqfUrBWr9d0A++OCDDz54QNT6lQK1fnhAav1KgVq/eEAAAAAAAAB5QJYCtX6lQHlALAVq/UqBeUDCBx988MF5QFgK1PqVAnpA7gyJeTtDekCEDz744IN6QBoS83aGxHpAsBSo9SsFe0BGF1100UV7QNwZEvN2hntAAAAAAAAAAABddNFFF10QQF100UUXXSBAjC666KKLKEBddNFFF10wQHTRRRdddDRAjC666KKLOECjiy666KI8QF100UUXXUBA6aKLLrpoQkB00UUXXXREQAAAAAAAgEZAjC666KKLSEAXXXTRRZdKQKOLLrrookxALrrooouuTkBddNFFF11QQKOLLrroYlFA6aKLLrpoUkAuuuiii25TQHTRRRdddFRAuuiiiy56VUAAAAAAAIBWQEYXXXTRhVdAjC666KKLWEDRRRdddJFZQBdddNFFl1pAXXTRRRedW0Cjiy666KJcQOmiiy66qF1ALrrooouuXkB00UUXXbRfQF100UUXXWBAAAAAAADgYECjiy666GJhQEYXXXTR5WFA6aKLLrpoYkCMLrrooutiQC666KKLbmNA0UUXXXTxY0B00UUXXXRkQBdddNFF92RAuuiiiy56ZUBddNFFF/1lQAAAAAAAgGZAo4suuugCZ0BGF1100YVnQOmiiy66CGhAjC666KKLaEAuuuiiiw5pQNFFF110kWlAdNFFF10UakAXXXTRRZdqQLrooosuGmtAXXTRRReda0AAAAAAACBsQKOLLrroomxARhdddNElbUDpoosuuqhtQIsuuuiiK25ALrrooouubkDRRRdddDFvQHTRRRddtG9AjC666KIbcEBddNFFF11wQC666KKLnnBAAAAAAADgcEDRRRdddCFxQKOLLrroYnFAdNFFF12kcUBGF1100eVxQBdddNFFJ3JA6aKLLrpockC66KKLLqpyQIwuuuii63JAXXTRRRctc0Auuuiii25zQAAAAAAAsHNA0UUXXXTxc0Cjiy666DJ0QHTRRRdddHRARhdddNG1dEAXXXTRRfd0QOmiiy66OHVAuuiiiy56dUCMLrroort1QF100UUX/XVALrrooos+dkAAAAAAAIB2QNFFF110wXZAo4suuugCd0B00UUXXUR3QEYXXXTRhXdAF1100UXHd0Dpoosuugh4QLrooosuSnhAjC666KKLeEBddNFFF814QC666KKLDnlAAAAAAABQeUDRRRdddJF5QKOLLrro0nlAdNFFF10UekBGF1100VV6QBdddNFFl3pA6aKLLrrYekC66KKLLhp7QIsuuuiiW3tAXXTRRRede0Auuuiii957QAAAAAAAAAAAO0Ni3s6QEEA7Q2LezpAgQNhkk0022ShAO0Ni3s6QMEAK1PqVArU0QNhkk0022ThAp/UrBWr9PEA7Q2LezpBAQKKLLrrookJACtT6lQK1REBxHMdxHMdGQNhkk0022UhAQK1fKVDrSkCn9SsFav1MQA8++OCDD09AO0Ni3s6QUEBvZ0jM25lRQKKLLrroolJA1q8UqPWrU0AK1PqVArVUQD344IMPvlVAcRzHcRzHVkClQK1fKdBXQNhkk0022VhADIl5O0PiWUBArV8pUOtaQHTRRRdd9FtAp/UrBWr9XEDbGRLzdgZeQA8++OCDD19AITFvZ0gMYEA7Q2LezpBgQFVVVVVVFWFAb2dIzNuZYUCJeTtDYh5iQKKLLrroomJAvJ0hMW8nY0DWrxSo9atjQPDBBx98MGRACtT6lQK1ZEAk5u0MiTllQD344IMPvmVAVwrU+pVCZkBxHMdxHMdmQIsuuuiiS2dApUCtXynQZ0C/UqDWr1RoQNhkk0022WhA8naGxLxdaUAMiXk7Q+JpQCabbLLJZmpAQK1fKVDrakBav1Kg1m9rQHTRRRdd9GtAjeM4juN4bECn9SsFav1sQMEHH3zwgW1A2xkS83YGbkD1KwVq/YpuQA8++OCDD29AKFDrVwqUb0AhMW9nSAxwQC666KKLTnBAO0Ni3s6QcEBIzNsZEtNwQFVVVVVVFXFAYt7OkJhXcUBvZ0jM25lxQHzwwQcf3HFAiXk7Q2IeckCVArV+pWByQKKLLrroonJArxSo9SvlckC8nSExbydzQMkmm2yyaXNA1q8UqPWrc0DjOI7jOO5zQPDBBx98MHRA/UqBWr9ydEAK1PqVArV0QBdddNFF93RAJObtDIk5dUAxb2dIzHt1QD344IMPvnVASoFav1IAdkBXCtT6lUJ2QGSTTTbZhHZAcRzHcRzHdkB+pUCtXwl3QIsuuuiiS3dAmLczJOaNd0ClQK1fKdB3QLLJJptsEnhAv1Kg1q9UeEDM2xkS85Z4QNhkk0022XhA5e0MiXkbeUDydobEvF15QP//////n3lADIl5O0PieUAZEvN2hiR6QCabbLLJZnpAMyTm7QypekBArV8pUOt6QE022WSTLXtAWr9SoNZve0BnSMzbGbJ7QHTRRRdd9HtAgFq/UqA2fEAAAAAAAAAAABoS83aGxBBAGhLzdobEIEAnm2yyySYpQBoS83aGxDBAoNavFKj1NEAnm2yyySY5QK5fKVDrVz1AGhLzdobEQEBddNFFF91CQKDWrxSo9URA5DiO4zgOR0Anm2yyySZJQGr9SoFaP0tArl8pUOtXTUDxwQcffHBPQBoS83aGxFBAPENi3s7QUUBddNFFF91SQH+lQK1f6VNAoNavFKj1VEDCBx988AFWQOQ4juM4DldABWr9SoEaWEAnm2yyySZZQEnM2xkSM1pAav1KgVo/W0CMLrrooktcQK5fKVDrV11Az5CYtzNkXkDxwQcffHBfQIl5O0NiPmBAGhLzdobEYECrqqqqqkphQDxDYt7O0GFAzNsZEvNWYkBddNFFF91iQO4MiXk7Y2NAf6VArV/pY0AQPvjgg29kQKDWrxSo9WRAMW9nSMx7ZUDCBx988AFmQFOg1q8UiGZA5DiO4zgOZ0B10UUXXZRnQAVq/UqBGmhAlgK1fqWgaEAnm2yyySZpQLgzJObtrGlASczbGRIzakDZZJNNNrlqQGr9SoFaP2tA+5UCtX7Fa0CMLrrooktsQB3HcRzH0WxArl8pUOtXbUA++OCDD95tQM+QmLczZG5AYClQ61fqbkDxwQcffHBvQIJav1Kg9m9AiXk7Q2I+cEDSRRdddIFwQBoS83aGxHBAYt7OkJgHcUCrqqqqqkpxQPN2hsS8jXFAPENi3s7QcUCEDz744BNyQMzbGRLzVnJAFaj1KwWackBddNFFF91yQKZArV8pIHNA7gyJeTtjc0A22WSTTaZzQH+lQK1f6XNAx3Ecx3EsdEAQPvjgg290QFgK1PqVsnRAoNavFKj1dEDpoosuujh1QDFvZ0jMe3VAejtDYt6+dUDCBx988AF2QAvU+pUCRXZAU6DWrxSIdkCbbLLJJst2QOQ4juM4DndALAVq/UpRd0B10UUXXZR3QL2dITFv13dABWr9SoEaeEBONtlkk114QJYCtX6loHhA386QmLfjeEAnm2yyySZ5QG9nSMzbaXlAuDMk5u2seUAAAAAAAPB5QEnM2xkSM3pAkZi3MyR2ekDZZJNNNrl6QCIxb2dI/HpAav1KgVo/e0CzySabbIJ7QPuVArV+xXtAQ2LezpAIfECMLrrookt8QNT6lQK1jnxAAAAAAAAAAAD44IMPPvgQQPjggw8++CBAdNFFF110KUD44IMPPvgwQDbZZJNNNjVAdNFFF110OUCyySabbLI9QPjggw8++EBAF1100UUXQ0A22WSTTTZFQFVVVVVVVUdAdNFFF110SUCTTTbZZJNLQLLJJptssk1A0UUXXXTRT0D44IMPPvhQQAgffPDBB1JAF1100UUXU0Amm2yyySZUQDbZZJNNNlVARhdddNFFVkBVVVVVVVVXQGSTTTbZZFhAdNFFF110WUCEDz744INaQJNNNtlkk1tAoosuuuiiXECyySabbLJdQMIHH3zwwV5A0UUXXXTRX0DwwQcffHBgQPjggw8++GBAAAAAAACAYUAIH3zwwQdiQA8++OCDj2JAF1100UUXY0AffPDBB59jQCabbLLJJmRALrrooouuZEA22WSTTTZlQD744IMPvmVARhdddNFFZkBNNtlkk81mQFVVVVVVVWdAXXTRRRfdZ0Bkk0022WRoQGyyySab7GhAdNFFF110aUB88MEHH/xpQIQPPvjgg2pAiy666KILa0CTTTbZZJNrQJtssskmG2xAoosuuuiibECqqqqqqiptQLLJJptssm1Auuiiiy46bkDCBx988MFuQMkmm2yySW9A0UUXXXTRb0BssskmmyxwQPDBBx98cHBAdNFFF120cED44IMPPvhwQHzwwQcfPHFAAAAAAACAcUCEDz744MNxQAgffPDBB3JAiy666KJLckAPPvjgg49yQJNNNtlk03JAF1100UUXc0CbbLLJJltzQB988MEHn3NAo4suuujic0Amm2yyySZ0QKqqqqqqanRALrrooouudECyySabbPJ0QDbZZJNNNnVAuuiiiy56dUA++OCDD751QMIHH3zwAXZARhdddNFFdkDJJptssol2QE022WSTzXZA0UUXXXQRd0BVVVVVVVV3QNlkk002mXdAXXTRRRfdd0Dhgw8++CB4QGSTTTbZZHhA6KKLLrqoeEBssskmm+x4QPDBBx98MHlAdNFFF110eUD44IMPPrh5QHzwwQcf/HlAAAAAAABAekCEDz744IN6QAcffPDBx3pAiy666KILe0APPvjgg097QJNNNtlkk3tAF1100UXXe0CbbLLJJht8QB988MEHX3xAoosuuuiifEAmm2yyyeZ8QAAAAAAAAAAA168UqPUrEUDXrxSo9SshQMIHH3zwwSlA168UqPUrMUDN2xkS83Y1QMIHH3zwwTlAuDMk5u0MPkDXrxSo9StBQNJFF110UUNAzdsZEvN2RUDIcRzHcZxHQMIHH3zwwUlAvZ0hMW/nS0C4MyTm7QxOQNpkk002GVBA168UqPUrUUDU+pUCtT5SQNJFF110UVNAz5CYtzNkVEDN2xkS83ZVQMomm2yyiVZAyHEcx3GcV0DFvJ0hMa9YQMIHH3zwwVlAwFKg1q/UWkC9nSExb+dbQLvooosu+lxAuDMk5u0MXkC2fqVArR9fQNpkk002GWBAWArU+pWiYEDXrxSo9SthQFZVVVVVtWFA1PqVArU+YkBToNavFMhiQNJFF110UWNAUetXCtTaY0DPkJi3M2RkQE422WST7WRAzdsZEvN2ZUBLgVq/UgBmQMomm2yyiWZASczbGRITZ0DIcRzHcZxnQEYXXXTRJWhAxbydITGvaEBEYt7OkDhpQMIHH3zwwWlAQa1fKVBLakDAUqDWr9RqQD/44IMPXmtAvZ0hMW/na0A8Q2LeznBsQLvooosu+mxAOo7jOI6DbUC4MyTm7QxuQDfZZJNNlm5Atn6lQK0fb0A0JObtDKlvQNpkk002GXBAmbczJOZdcEBYCtT6laJwQBhddNFF53BA168UqPUrcUCWArV+pXBxQFZVVVVVtXFAFaj1KwX6cUDU+pUCtT5yQJRNNtlkg3JAU6DWrxTIckAT83aGxAxzQNJFF110UXNAkZi3MySWc0BR61cK1NpzQBA++OCDH3RAz5CYtzNkdECP4ziO46h0QE422WST7XRADYl5O0MydUDN2xkS83Z1QIwuuuiiu3VAS4Fav1IAdkAL1PqVAkV2QMomm2yyiXZAink7Q2LOdkBJzNsZEhN3QAgffPDBV3dAyHEcx3Gcd0CHxLydIeF3QEYXXXTRJXhABmr9SoFqeEDFvJ0hMa94QIQPPvjg83hARGLezpA4eUADtX6lQH15QMIHH3zwwXlAglq/UqAGekBBrV8pUEt6QAEAAAAAkHpAwFKg1q/UekB/pUCtXxl7QD/44IMPXntA/kqBWr+ie0C9nSExb+d7QH3wwQcfLHxAPENi3s5wfED7lQK1frV8QLvooosu+nxAejtDYt4+fUAAAAAAAAAAALV+pUCtXxFAtX6lQK1fIUAQPvjggw8qQLV+pUCtXzFAYt7OkJi3NUAQPvjggw86QL2dITFvZz5AtX6lQK1fQUCMLrroootDQGLezpCYt0VAOY7jOI7jR0AQPvjggw9KQObtDIl5O0xAvZ0hMW9nTkDKJptssklQQLV+pUCtX1FAoNavFKh1UkCMLrroootTQHeGxLydoVRAYt7OkJi3VUBONtlkk81WQDmO4ziO41dAJObtDIn5WEAQPvjggw9aQPuVArV+JVtA5u0MiXk7XEDRRRdddFFdQL2dITFvZ15AqPUrBWp9X0DKJptssklgQL9SoNav1GBAtX6lQK1fYUCrqqqqquphQKDWrxSodWJAlgK1fqUAY0CMLrroootjQIFav1KgFmRAd4bEvJ2hZEBtsskmmyxlQGLezpCYt2VAWArU+pVCZkBONtlkk81mQENi3s6QWGdAOY7jOI7jZ0Avuuiii25oQCTm7QyJ+WhAGhLzdoaEaUAQPvjggw9qQAVq/UqBmmpA+5UCtX4la0DwwQcffLBrQObtDIl5O2xA3BkS83bGbEDRRRdddFFtQMdxHMdx3G1AvZ0hMW9nbkCyySabbPJuQKj1KwVqfW9Az5CYtzMEcEDKJptssklwQMW8nSExj3BAv1Kg1q/UcEC66KKLLhpxQLV+pUCtX3FAsBSo9SulcUCrqqqqqupxQKVArV8pMHJAoNavFKh1ckCbbLLJJrtyQJYCtX6lAHNAkZi3MyRGc0CMLrroootzQIbEvJ0h0XNAgVq/UqAWdEB88MEHH1x0QHeGxLydoXRAchzHcRzndEBtsskmmyx1QGdIzNsZcnVAYt7OkJi3dUBddNFFF/11QFgK1PqVQnZAU6DWrxSIdkBONtlkk812QEjM2xkSE3dAQ2LezpBYd0A++OCDD553QDmO4ziO43dANCTm7QwpeEAvuuiii254QClQ61cKtHhAJObtDIn5eEAffPDBBz95QBoS83aGhHlAFaj1KwXKeUAQPvjggw96QArU+pUCVXpABWr9SoGaekAAAAAAAOB6QPuVArV+JXtA9isFav1qe0DwwQcffLB7QOtXCtT69XtA5u0MiXk7fEDhgw8++IB8QNwZEvN2xnxA168UqPULfUDRRRdddFF9QMzbGRLzln1AAAAAAAAAAACTTTbZZJMRQJNNNtlkkyFAXHTRRRddKkCTTTbZZJMxQPjggw8++DVAXHTRRRddOkDBBx988ME+QJNNNtlkk0FARRdddNHFQ0D44IMPPvhFQKqqqqqqKkhAXHTRRRddSkAPPvjgg49MQMEHH3zwwU5Auuiiiy56UECTTTbZZJNRQGyyySabrFJARRdddNHFU0AffPDBB99UQPjggw8++FVA0UUXXXQRV0CqqqqqqipYQIMPPvjgQ1lAXHTRRRddWkA22WSTTXZbQA8++OCDj1xA6KKLLrqoXUDBBx988MFeQJpssskm219Auuiiiy56YEAmm2yyyQZhQJNNNtlkk2FAAAAAAAAgYkBssskmm6xiQNlkk002OWNARRdddNHFY0CyySabbFJkQB988MEH32RAiy666KJrZUD44IMPPvhlQGSTTTbZhGZA0UUXXXQRZ0A++OCDD55nQKqqqqqqKmhAF1100UW3aECDDz744ENpQPDBBx980GlAXHTRRRddakDJJptssulqQDbZZJNNdmtAoosuuugCbEAPPvjgg49sQHvwwQcfHG1A6KKLLrqobUBVVVVVVTVuQMEHH3zwwW5ALrroootOb0CabLLJJttvQIQPPvjgM3BAuuiiiy56cEDwwQcffMBwQCabbLLJBnFAXXTRRRdNcUCTTTbZZJNxQMkmm2yy2XFAAAAAAAAgckA22WSTTWZyQGyyySabrHJAoosuuujyckDZZJNNNjlzQA8++OCDf3NARRdddNHFc0B88MEHHwx0QLLJJptsUnRA6KKLLrqYdEAffPDBB990QFVVVVVVJXVAiy666KJrdUDBBx988LF1QPjggw8++HVALrrooos+dkBkk0022YR2QJtssskmy3ZA0UUXXXQRd0AHH3zwwVd3QD744IMPnndAdNFFF13kd0Cqqqqqqip4QOCDDz74cHhAF1100UW3eEBNNtlkk/14QIMPPvjgQ3lAuuiiiy6KeUDwwQcffNB5QCabbLLJFnpAXHTRRRddekCTTTbZZKN6QMkmm2yy6XpA//////8ve0A22WSTTXZ7QGyyySabvHtAoosuuugCfEDZZJNNNkl8QA8++OCDj3xARRdddNHVfEB78MEHHxx9QLLJJptsYn1A6KKLLrqofUAefPDBB+99QAAAAAAAAAAAchzHcRzHEUByHMdxHMchQKuqqqqqqipAchzHcRzHMUCO4ziO4zg2QKuqqqqqqjpAyHEcx3EcP0ByHMdxHMdBQAAAAAAAAERAjuM4juM4RkAdx3Ecx3FIQKuqqqqqqkpAOY7jOI7jTEDIcRzHcRxPQKuqqqqqqlBAchzHcRzHUUA5juM4juNSQAAAAAAAAFRAx3Ecx3EcVUCO4ziO4zhWQFZVVVVVVVdAHcdxHMdxWEDkOI7jOI5ZQKuqqqqqqlpAchzHcRzHW0A5juM4juNcQAAAAAAAAF5AyHEcx3EcX0DHcRzHcRxgQKuqqqqqqmBAjuM4juM4YUByHMdxHMdhQFZVVVVVVWJAOY7jOI7jYkAdx3Ecx3FjQAAAAAAAAGRA5DiO4ziOZEDHcRzHcRxlQKuqqqqqqmVAjuM4juM4ZkByHMdxHMdmQFZVVVVVVWdAOY7jOI7jZ0Adx3Ecx3FoQAAAAAAAAGlA5DiO4ziOaUDHcRzHcRxqQKuqqqqqqmpAj+M4juM4a0ByHMdxHMdrQFZVVVVVVWxAOY7jOI7jbEAdx3Ecx3FtQAAAAAAAAG5A5DiO4ziObkDIcRzHcRxvQKuqqqqqqm9Ax3Ecx3EccEA5juM4jmNwQKuqqqqqqnBAHcdxHMfxcECO4ziO4zhxQAAAAAAAgHFAchzHcRzHcUDkOI7jOA5yQFZVVVVVVXJAx3Ecx3GcckA5juM4juNyQKuqqqqqKnNAHcdxHMdxc0CO4ziO47hzQAAAAAAAAHRAchzHcRxHdEDkOI7jOI50QFZVVVVV1XRAx3Ecx3EcdUA5juM4jmN1QKuqqqqqqnVAHcdxHMfxdUCO4ziO4zh2QAAAAAAAgHZAchzHcRzHdkDkOI7jOA53QFZVVVVVVXdAx3Ecx3Gcd0A5juM4juN3QKuqqqqqKnhAHcdxHMdxeECP4ziO47h4QAAAAAAAAHlAchzHcRxHeUDkOI7jOI55QFZVVVVV1XlAx3Ecx3EcekA5juM4jmN6QKuqqqqqqnpAHcdxHMfxekCP4ziO4zh7QAAAAAAAgHtAchzHcRzHe0DkOI7jOA58QFZVVVVVVXxAx3Ecx3GcfEA5juM4juN8QKuqqqqqKn1AHcdxHMdxfUCP4ziO47h9QAAAAAAAAH5AchzHcRxHfkAAAAAAAAAAAFDrVwrU+hFAUOtXCtT6IUD44IMPPvgqQFDrVwrU+jFAJObtDIl5NkD44IMPPvg6QMzbGRLzdj9AUOtXCtT6QUC66KKLLjpEQCTm7QyJeUZAjuM4juO4SED44IMPPvhKQGLezpCYN01AzNsZEvN2T0CbbLLJJttQQFDrVwrU+lFABWr9SoEaU0C66KKLLjpUQG9nSMzbWVVAJObtDIl5VkDZZJNNNplXQI7jOI7juFhAQ2LezpDYWUD44IMPPvhaQK1fKVDrF1xAYt7OkJg3XUAXXXTRRVdeQMzbGRLzdl9AQK1fKVBLYECbbLLJJttgQPYrBWr9amFAUOtXCtT6YUCqqqqqqopiQAVq/UqBGmNAYClQ61eqY0C66KKLLjpkQBSo9SsFymRAb2dIzNtZZUDKJptssullQCTm7QyJeWZAfqVArV8JZ0DZZJNNNplnQDQk5u0MKWhAjuM4juO4aEDooosuukhpQENi3s6Q2GlAniExb2doakD44IMPPvhqQFKg1q8UiGtArV8pUOsXbEAIH3zwwadsQGLezpCYN21AvJ0hMW/HbUAXXXTRRVduQHIcx3Ec525AzNsZEvN2b0CTTTbZZANwQECtXylQS3BA7gyJeTuTcECbbLLJJttwQEjM2xkSI3FA9isFav1qcUCjiy666LJxQFDrVwrU+nFA/UqBWr9CckCqqqqqqopyQFgK1PqV0nJABWr9SoEac0CyySabbGJzQGApUOtXqnNADYl5O0Pyc0C66KKLLjp0QGdIzNsZgnRAFKj1KwXKdEDCBx988BF1QG9nSMzbWXVAHMdxHMehdUDKJptssul1QHeGxLydMXZAJObtDIl5dkDRRRdddMF2QH6lQK1fCXdALAVq/UpRd0DZZJNNNpl3QIbEvJ0h4XdANCTm7QwpeEDhgw8++HB4QI7jOI7juHhAO0Ni3s4AeUDooosuukh5QJYCtX6lkHlAQ2LezpDYeUDwwQcffCB6QJ4hMW9naHpAS4Fav1KwekD44IMPPvh6QKVArV8pQHtAUqDWrxSIe0AAAAAAANB7QK1fKVDrF3xAWr9SoNZffEAIH3zwwad8QLV+pUCt73xAYt7OkJg3fUAPPvjgg399QLydITFvx31Aav1KgVoPfkAXXXTRRVd+QMS8nSExn35AAAAAAAAAAAAuuuiiiy4SQC666KKLLiJARRdddNFFK0Auuuiiiy4yQLrooosuujZARRdddNFFO0DQRRdddNE/QC666KKLLkJAdNFFF110REC66KKLLrpGQP///////0hARRdddNFFS0CLLrroootNQNBFF1100U9Aiy666KILUUAuuuiiiy5SQNFFF110UVNAdNFFF110VEAXXXTRRZdVQLrooosuulZAXHTRRRfdV0D///////9YQKKLLrroIlpARRdddNFFW0DooosuumhcQIsuuuiii11ALrrooouuXkDQRRdddNFfQLrooosuemBAiy666KILYUBddNFFF51hQC666KKLLmJA//////+/YkDRRRdddFFjQKKLLrro4mNAdNFFF110ZEBFF1100QVlQBdddNFFl2VA6KKLLrooZkC66KKLLrpmQIsuuuiiS2dAXHTRRRfdZ0Auuuiii25oQP///////2hA0UUXXXSRaUCiiy666CJqQHTRRRddtGpARRdddNFFa0AWXXTRRddrQOiiiy66aGxAueiiiy76bECLLrrooottQFx00UUXHW5ALrrooouubkD//////z9vQNBFF1100W9A0UUXXXQxcEC66KKLLnpwQKKLLrrownBAiy666KILcUB00UUXXVRxQF100UUXnXFARRdddNHlcUAuuuiiiy5yQBdddNFFd3JA//////+/ckDooosuughzQNFFF110UXNAuuiiiy6ac0Ciiy666OJzQIsuuuiiK3RAdNFFF110dEBcdNFFF710QEUXXXTRBXVALrroootOdUAXXXTRRZd1QP//////33VA6KKLLroodkDRRRdddHF2QLrooosuunZAoosuuugCd0CLLrrookt3QHTRRRddlHdAXHTRRRfdd0BFF1100SV4QC666KKLbnhAF1100UW3eED///////94QOiiiy66SHlA0UUXXXSReUC56KKLLtp5QKKLLrroInpAiy666KJrekB00UUXXbR6QFx00UUX/XpARRdddNFFe0Auuuiii457QBZddNFF13tA//////8ffEDooosuumh8QNFFF110sXxAueiiiy76fECiiy666EJ9QIsuuuiii31Ac9FFF13UfUBcdNFFFx1+QEUXXXTRZX5ALrrooouufkAWXXTRRfd+QAAAAAAAAAAADYl5O0NiEkANiXk7Q2IiQJRNNtlkkytADYl5O0NiMkBQ61cK1Po2QJRNNtlkkztA61cK1PoVQEANiXk7Q2JCQC+66KKLrkRAUOtXCtT6RkByHMdxHEdJQJRNNtlkk0tAtX6lQK3fTUDrVwrU+hVQQHzwwQcfPFFADYl5O0NiUkCeITFvZ4hTQC+66KKLrlRAv1Kg1q/UVUBQ61cK1PpWQOGDDz74IFhAchzHcRxHWUADtX6lQG1aQJRNNtlkk1tAJObtDIm5XEC1fqVArd9dQEYXXXTRBV9A61cK1PoVYEA0JObtDKlgQHzwwQcfPGFAxbydITHPYUANiXk7Q2JiQFVVVVVV9WJAniExb2eIY0Dm7QyJeRtkQC+66KKLrmRAd4bEvJ1BZUC/UqDWr9RlQAgffPDBZ2ZAUOtXCtT6ZkCZtzMk5o1nQOGDDz74IGhAKVDrVwq0aEByHMdxHEdpQLrooosu2mlAA7V+pUBtakBLgVq/UgBrQJRNNtlkk2tA3BkS83YmbEAk5u0MiblsQG2yySabTG1AtX6lQK3fbUD+SoFav3JuQEYXXXTRBW9AjuM4juOYb0DrVwrU+hVwQBA++OCDX3BANCTm7QypcEBYCtT6lfJwQHzwwQcfPHFAoNavFKiFcUDFvJ0hMc9xQOmiiy66GHJADYl5O0NickAxb2dIzKtyQFVVVVVV9XJAejtDYt4+c0CeITFvZ4hzQMIHH3zw0XNA5u0MiXkbdEAK1PqVAmV0QC+66KKLrnRAU6DWrxT4dEB3hsS8nUF1QJtssskmi3VAv1Kg1q/UdUDkOI7jOB52QAgffPDBZ3ZALAVq/UqxdkBQ61cK1Pp2QHTRRRddRHdAmbczJOaNd0C9nSExb9d3QOGDDz74IHhABWr9SoFqeEApUOtXCrR4QE422WST/XhAchzHcRxHeUCWArV+pZB5QLrooosu2nlA3s6QmLcjekADtX6lQG16QCebbLLJtnpAS4Fav1IAe0BvZ0jM20l7QJRNNtlkk3tAuDMk5u3ce0DcGRLzdiZ8QAAAAAAAcHxAJObtDIm5fEBJzNsZEgN9QG2yySabTH1AkZi3MySWfUC1fqVArd99QNlkk002KX5A/kqBWr9yfkAiMW9nSLx+QEYXXXTRBX9Aav1KgVpPf0AAAAAAAAAAAOtXCtT6lRJA61cK1PqVIkDggw8++OArQOtXCtT6lTJA5u0MiXk7N0Dggw8++OA7QO4MiXk7Q0BA61cK1PqVQkDooosuuuhEQObtDIl5O0dA4ziO4ziOSUDggw8++OBLQN7OkJi3M05A7gyJeTtDUEBssskmm2xRQOtXCtT6lVJAav1KgVq/U0DooosuuuhUQGdIzNsZElZA5u0MiXk7V0Bkk0022WRYQOM4juM4jllAYt7OkJi3WkDggw8++OBbQF8pUOtXCl1A3s6QmLczXkBddNFFF11fQO4MiXk7Q2BArV8pUOvXYEBssskmm2xhQCwFav1KAWJA61cK1PqVYkCqqqqqqipjQGr9SoFav2NAKVDrVwpUZEDooosuuuhkQKj1KwVqfWVAZ0jM2xkSZkAmm2yyyaZmQObtDIl5O2dApUCtXynQZ0Bkk0022WRoQCTm7QyJ+WhA4ziO4ziOaUCiiy666CJqQGLezpCYt2pAITFvZ0hMa0Dggw8++OBrQKDWrxSodWxAXylQ61cKbUAffPDBB59tQN7OkJi3M25AnSExb2fIbkBddNFFF11vQBzHcRzH8W9A7gyJeTtDcEBNNtlkk41wQK1fKVDr13BADYl5O0MicUBssskmm2xxQMzbGRLztnFALAVq/UoBckCLLrrooktyQOtXCtT6lXJAS4Fav1LgckCqqqqqqipzQArU+pUCdXNAav1KgVq/c0DJJptssgl0QClQ61cKVHRAiXk7Q2KedEDooosuuuh0QEjM2xkSM3VAqPUrBWp9dUAHH3zwwcd1QGdIzNsZEnZAx3Ecx3FcdkAmm2yyyaZ2QIbEvJ0h8XZA5u0MiXk7d0BFF1100YV3QKVArV8p0HdABWr9SoEaeEBkk0022WR4QMS8nSExr3hAJObtDIn5eECDDz744EN5QOM4juM4jnlAQ2LezpDYeUCiiy666CJ6QAK1fqVAbXpAYt7OkJi3ekDBBx988AF7QCExb2dITHtAgVq/UqCWe0Dggw8++OB7QECtXylQK3xAoNavFKh1fEAAAAAAAMB8QF8pUOtXCn1Av1Kg1q9UfUAffPDBB599QH6lQK1f6X1A3s6QmLczfkA++OCDD35+QJ0hMW9nyH5A/UqBWr8Sf0BddNFFF11/QLydITFvp39AAAAAAAAAAADKJptssskSQMomm2yyySJAL7rooosuLEDKJptssskyQHzwwQcffDdAL7rooosuPEDxwQcffHBAQMomm2yyyUJAo4suuugiRUB88MEHH3xHQFZVVVVV1UlAL7rooosuTEAIH3zwwYdOQPHBBx98cFBAXXTRRRedUUDKJptssslSQDfZZJNN9lNAo4suuugiVUAQPvjgg09WQHzwwQcffFdA6aKLLrqoWEBWVVVVVdVZQMIHH3zwAVtAL7rooosuXECcbLLJJltdQAgffPDBh15AddFFF120X0DxwQcffHBgQCebbLLJBmFAXXTRRRedYUCUTTbZZDNiQMomm2yyyWJAAAAAAABgY0A32WSTTfZjQG2yySabjGRAo4suuugiZUDaZJNNNrllQBA++OCDT2ZARhdddNHlZkB88MEHH3xnQLPJJptsEmhA6aKLLrqoaEAffPDBBz9pQFZVVVVV1WlAjC666KJrakDCBx988AFrQPnggw8+mGtAL7rooosubEBlk0022cRsQJxssskmW21A0kUXXXTxbUAIH3zwwYduQD/44IMPHm9AddFFF120b0BWVVVVVSVwQPHBBx98cHBAjC666KK7cEAnm2yyyQZxQMIHH3zwUXFAXXTRRRedcUD54IMPPuhxQJRNNtlkM3JAL7rooot+ckDKJptssslyQGWTTTbZFHNAAAAAAABgc0CbbLLJJqtzQDfZZJNN9nNA0kUXXXRBdEBtsskmm4x0QAgffPDB13RAo4suuugidUA++OCDD251QNpkk002uXVAddFFF10EdkAQPvjgg092QKuqqqqqmnZARhdddNHldkDhgw8++DB3QHzwwQcffHdAGF100UXHd0CzySabbBJ4QE422WSTXXhA6aKLLrqoeECEDz744PN4QB988MEHP3lAu+iiiy6KeUBWVVVVVdV5QPHBBx98IHpAjC666KJrekAnm2yyybZ6QMIHH3zwAXtAXnTRRRdNe0D54IMPPph7QJRNNtlk43tAL7rooosufEDKJptssnl8QGWTTTbZxHxAAAAAAAAQfUCcbLLJJlt9QDfZZJNNpn1A0kUXXXTxfUBtsskmmzx+QAgffPDBh35Ao4suuujSfkA/+OCDDx5/QNpkk002aX9AddFFF120f0AQPvjgg/9/QAAAAAAAAAAAqPUrBWr9EkCo9SsFav0iQHzwwQcffCxAqPUrBWr9MkAS83aGxLw3QHzwwQcffDxA83aGxLydQECo9SsFav1CQF100UUXXUVAEvN2hsS8R0DHcRzHcRxKQHzwwQcffExAMW9nSMzbTkDzdobEvJ1QQE422WSTzVFAqPUrBWr9UkACtX6lQC1UQF100UUXXVVAuDMk5u2MVkAS83aGxLxXQGyyySab7FhAx3Ecx3EcWkAiMW9nSExbQHzwwQcffFxA1q8UqPWrXUAxb2dIzNteQEYXXXTRBWBA83aGxLydYECg1q8UqDVhQE422WSTzWFA+5UCtX5lYkCo9SsFav1iQFVVVVVVlWNAArV+pUAtZECwFKj1K8VkQF100UUXXWVACtT6lQL1ZUC4MyTm7YxmQGWTTTbZJGdAEvN2hsS8Z0C/UqDWr1RoQGyyySab7GhAGhLzdoaEaUDHcRzHcRxqQHTRRRddtGpAIjFvZ0hMa0DPkJi3M+RrQHzwwQcffGxAKVDrVwoUbUDWrxSo9attQIQPPvjgQ25AMW9nSMzbbkDezpCYt3NvQEYXXXTRBXBAHMdxHMdRcEDzdobEvJ1wQMomm2yy6XBAoNavFKg1cUB3hsS8nYFxQE422WSTzXFAJObtDIkZckD7lQK1fmVyQNFFF110sXJAqPUrBWr9ckB/pUCtX0lzQFVVVVVVlXNALAVq/Urhc0ACtX6lQC10QNlkk002eXRAsBSo9SvFdECGxLydIRF1QF100UUXXXVANCTm7QypdUAK1PqVAvV1QOGDDz74QHZAuDMk5u2MdkCO4ziO49h2QGWTTTbZJHdAO0Ni3s5wd0AS83aGxLx3QOmiiy66CHhAv1Kg1q9UeECWArV+paB4QGyyySab7HhAQ2LezpA4eUAaEvN2hoR5QPDBBx980HlAx3Ecx3EcekCeITFvZ2h6QHTRRRddtHpAS4Fav1IAe0AiMW9nSEx7QPjggw8+mHtAz5CYtzPke0ClQK1fKTB8QHzwwQcffHxAU6DWrxTIfEApUOtXChR9QAAAAAAAYH1A1q8UqPWrfUCtXylQ6/d9QIQPPvjgQ35AWr9SoNaPfkAxb2dIzNt+QAgffPDBJ39A3s6QmLdzf0C1fqVArb9/QEYXXXTRBYBAMW9nSMwrgEAAAAAAAAAAAIbEvJ0hMRNAhsS8nSExI0DJJptsssksQIbEvJ0hMTNAqPUrBWr9N0DJJptsssk8QPUrBWr9ykBAhsS8nSExQ0AXXXTRRZdFQKj1KwVq/UdAOI7jOI5jSkDJJptssslMQFq/UqDWL09A9SsFav3KUEA++OCDD/5RQIbEvJ0hMVNAzpCYtzNkVEAXXXTRRZdVQF8pUOtXylZAqPUrBWr9V0DwwQcffDBZQDiO4ziOY1pAgVq/UqCWW0DJJptssslcQBHzdobE/F1AWr9SoNYvX0DRRRdddDFgQPUrBWr9ymBAGRLzdoZkYUA++OCDD/5hQGLezpCYl2JAhsS8nSExY0CqqqqqqspjQM6QmLczZGRA83aGxLz9ZEAXXXTRRZdlQDtDYt7OMGZAXylQ61fKZkCDDz744GNnQKj1KwVq/WdAzNsZEvOWaEDwwQcffDBpQBSo9SsFymlAOI7jOI5jakBcdNFFF/1qQIFav1KglmtApUCtXykwbEDJJptssslsQO0MiXk7Y21AEfN2hsT8bUA22WSTTZZuQFq/UqDWL29AfqVArV/Jb0DRRRdddDFwQOM4juM4fnBA9SsFav3KcEAHH3zwwRdxQBkS83aGZHFALAVq/UqxcUA++OCDD/5xQFDrVwrUSnJAYt7OkJiXckB00UUXXeRyQIbEvJ0hMXNAmLczJOZ9c0CqqqqqqspzQLydITFvF3RAzpCYtzNkdEDggw8++LB0QPN2hsS8/XRABWr9SoFKdUAXXXTRRZd1QClQ61cK5HVAO0Ni3s4wdkBNNtlkk312QF8pUOtXynZAcRzHcRwXd0CDDz744GN3QJUCtX6lsHdAqPUrBWr9d0C66KKLLkp4QMzbGRLzlnhA3s6QmLfjeEDwwQcffDB5QAK1fqVAfXlAFKj1KwXKeUAmm2yyyRZ6QDiO4ziOY3pASoFav1KwekBcdNFFF/16QG9nSMzbSXtAgVq/UqCWe0CTTTbZZON7QKVArV8pMHxAtzMk5u18fEDJJptsssl8QNsZEvN2Fn1A7QyJeTtjfUD//////699QBHzdobE/H1AI+btDIlJfkA22WSTTZZ+QEjM2xkS435AWr9SoNYvf0Bssskmm3x/QH6lQK1fyX9ASMzbGRILgEDRRRdddDGAQFq/UqDWV4BAAAAAAAAAAABlk0022WQTQGWTTTbZZCNAGF100UUXLUBlk0022WQzQD744IMPPjhAGF100UUXPUD44IMPPvhAQGWTTTbZZENA0kUXXXTRRUA++OCDDz5IQKuqqqqqqkpAGF100UUXTUCEDz744INPQPjggw8++FBAL7rooosuUkBlk0022WRTQJtssskmm1RA0kUXXXTRVUAIH3zwwQdXQD744IMPPlhAddFFF110WUCrqqqqqqpaQOGDDz744FtAGF100UUXXUBONtlkk01eQIQPPvjgg19AXXTRRRddYED44IMPPvhgQJRNNtlkk2FAL7rooosuYkDKJptsssliQGWTTTbZZGNAAAAAAAAAZECbbLLJJptkQDbZZJNNNmVA0kUXXXTRZUBtsskmm2xmQAgffPDBB2dAo4suuuiiZ0A++OCDDz5oQNlkk0022WhAddFFF110aUAQPvjggw9qQKuqqqqqqmpARhdddNFFa0Dhgw8++OBrQHzwwQcffGxAGF100UUXbUCzySabbLJtQE422WSTTW5A6aKLLrrobkCEDz744INvQBA++OCDD3BAXXTRRRddcECrqqqqqqpwQPjggw8++HBARhdddNFFcUCUTTbZZJNxQOGDDz744HFAL7rooosuckB88MEHH3xyQMomm2yyyXJAF1100UUXc0Blk0022WRzQLPJJptssnNAAAAAAAAAdEBONtlkk010QJtssskmm3RA6aKLLrrodEA22WSTTTZ1QIQPPvjgg3VA0kUXXXTRdUAffPDBBx92QG2yySabbHZAuuiiiy66dkAIH3zwwQd3QFZVVVVVVXdAo4suuuiid0DxwQcffPB3QD744IMPPnhAjC666KKLeEDZZJNNNtl4QCebbLLJJnlAddFFF110eUDCBx988MF5QBA++OCDD3pAXXTRRRddekCrqqqqqqp6QPjggw8++HpARhdddNFFe0CUTTbZZJN7QOGDDz744HtAL7rooosufEB88MEHH3x8QMomm2yyyXxAGF100UUXfUBlk0022WR9QLPJJptssn1AAAAAAAAAfkBONtlkk01+QJtssskmm35A6aKLLrrofkA32WSTTTZ/QIQPPvjgg39A0kUXXXTRf0AQPvjggw+AQDbZZJNNNoBAXXTRRRddgECEDz744IOAQAAAAAAAAAAAQ2LezpCYE0BDYt7OkJgjQGSTTTbZZC1AQ2LezpCYM0DU+pUCtX44QGSTTTbZZD1A+5UCtX4lQUBDYt7OkJhDQIsuuuiiC0ZA1PqVArV+SEAcx3Ecx/FKQGSTTTbZZE1ArV8pUOvXT0D7lQK1fiVRQB988MEHX1JAQ2LezpCYU0BnSMzbGdJUQIsuuuiiC1ZAsBSo9StFV0DU+pUCtX5YQPjggw8+uFlAHMdxHMfxWkBArV8pUCtcQGSTTTbZZF1AiXk7Q2KeXkCtXylQ69dfQOmiiy66iGBA+5UCtX4lYUANiXk7Q8JhQB988MEHX2JAMW9nSMz7YkBDYt7OkJhjQFVVVVVVNWRAZ0jM2xnSZEB5O0Ni3m5lQIsuuuiiC2ZAnSExb2eoZkCwFKj1K0VnQMIHH3zw4WdA1PqVArV+aEDm7QyJeRtpQPjggw8+uGlACtT6lQJVakAcx3Ecx/FqQC666KKLjmtAQK1fKVArbEBSoNavFMhsQGSTTTbZZG1Ad4bEvJ0BbkCJeTtDYp5uQJtssskmO29ArV8pUOvXb0BfKVDrVzpwQOmiiy66iHBAchzHcRzXcED7lQK1fiVxQIQPPvjgc3FADYl5O0PCcUCWArV+pRByQB988MEHX3JAqPUrBWqtckAxb2dIzPtyQLrooosuSnNAQ2LezpCYc0DM2xkS8+ZzQFVVVVVVNXRA3s6QmLeDdEBnSMzbGdJ0QPDBBx98IHVAeTtDYt5udUACtX6lQL11QIsuuuiiC3ZAFKj1KwVadkCdITFvZ6h2QCebbLLJ9nZAsBSo9StFd0A5juM4jpN3QMIHH3zw4XdAS4Fav1IweEDU+pUCtX54QF100UUXzXhA5u0MiXkbeUBvZ0jM22l5QPjggw8+uHlAgVq/UqAGekAK1PqVAlV6QJNNNtlko3pAHMdxHMfxekClQK1fKUB7QC666KKLjntAtzMk5u3ce0BArV8pUCt8QMkmm2yyeXxAUqDWrxTIfEDbGRLzdhZ9QGSTTTbZZH1A7gyJeTuzfUB3hsS8nQF+QAAAAAAAUH5AiXk7Q2KefkAS83aGxOx+QJtssskmO39AJObtDImJf0CtXylQ69d/QJtssskmE4BAXylQ61c6gEAk5u0MiWGAQOmiiy66iIBArV8pUOuvgEAAAAAAAAAAACIxb2dIzBNAIjFvZ0jMI0CzySabbLItQCIxb2dIzDNAav1KgVq/OECzySabbLI9QP5KgVq/UkFAIjFvZ0jMQ0BGF1100UVGQGr9SoFav0hAj+M4juM4S0CzySabbLJNQOxXCtT6FVBA/kqBWr9SUUAQPvjgg49SQCIxb2dIzFNANCTm7QwJVUBGF1100UVWQFgK1PqVgldAav1KgVq/WEB98MEHH/xZQI/jOI7jOFtAodavFKh1XECzySabbLJdQMW8nSEx715A7FcK1PoVYEB10UUXXbRgQP5KgVq/UmFAh8S8nSHxYUAQPvjgg49iQJm3MyTmLWNAIjFvZ0jMY0CrqqqqqmpkQDQk5u0MCWVAvZ0hMW+nZUBGF1100UVmQM+QmLcz5GZAWArU+pWCZ0Dhgw8++CBoQGr9SoFav2hA9HaGxLxdaUB98MEHH/xpQAZq/UqBmmpAj+M4juM4a0AYXXTRRddrQKHWrxSodWxAKlDrVwoUbUCzySabbLJtQDxDYt7OUG5AxbydITHvbkBONtlkk41vQOxXCtT6FXBAsBSo9StlcEB10UUXXbRwQDmO4ziOA3FA/kqBWr9ScUDCBx988KFxQIfEvJ0h8XFAS4Fav1JAckAQPvjgg49yQNT6lQK13nJAmbczJOYtc0BddNFFF31zQCIxb2dIzHNA5+0MiXkbdECrqqqqqmp0QHBnSMzbuXRANCTm7QwJdUD54IMPPlh1QL2dITFvp3VAglq/UqD2dUBGF1100UV2QAvU+pUClXZAz5CYtzPkdkCUTTbZZDN3QFgK1PqVgndAHcdxHMfRd0Dhgw8++CB4QKZArV8pcHhAav1KgVq/eEAvuuiiiw55QPR2hsS8XXlAuDMk5u2seUB98MEHH/x5QEGtXylQS3pABmr9SoGaekDKJptssul6QI/jOI7jOHtAU6DWrxSIe0AYXXTRRdd7QNwZEvN2JnxAodavFKh1fEBlk0022cR8QCpQ61cKFH1A7gyJeTtjfUCzySabbLJ9QHiGxLydAX5APENi3s5QfkABAAAAAKB+QMW8nSEx735Aink7Q2I+f0BONtlkk41/QBPzdobE3H9A7FcK1PoVgEBONtlkkz2AQLAUqPUrZYBAEvN2hsSMgEB10UUXXbSAQNevFKj124BAAAAAAAAAAAAAAAAAAAAUQAAAAAAAACRAAAAAAAAALkAAAAAAAAA0QAAAAAAAADlAAAAAAAAAPkAAAAAAAIBBQAAAAAAAAERAAAAAAACARkAAAAAAAABJQAAAAAAAgEtAAAAAAAAATkAAAAAAAEBQQAAAAAAAgFFAAAAAAADAUkAAAAAAAABUQAAAAAAAQFVAAAAAAACAVkAAAAAAAMBXQAAAAAAAAFlAAAAAAABAWkAAAAAAAIBbQAAAAAAAwFxAAAAAAAAAXkAAAAAAAEBfQAAAAAAAQGBAAAAAAADgYEAAAAAAAIBhQAAAAAAAIGJAAAAAAADAYkAAAAAAAGBjQAAAAAAAAGRAAAAAAACgZEAAAAAAAEBlQAAAAAAA4GVAAAAAAACAZkAAAAAAACBnQAAAAAAAwGdAAAAAAABgaEAAAAAAAABpQAAAAAAAoGlAAAAAAABAakAAAAAAAOBqQAAAAAAAgGtAAAAAAAAgbEAAAAAAAMBsQAAAAAAAYG1AAAAAAAAAbkAAAAAAAKBuQAAAAAAAQG9AAAAAAADgb0AAAAAAAEBwQAAAAAAAkHBAAAAAAADgcEAAAAAAADBxQAAAAAAAgHFAAAAAAADQcUAAAAAAACByQAAAAAAAcHJAAAAAAADAckAAAAAAABBzQAAAAAAAYHNAAAAAAACwc0AAAAAAAAB0QAAAAAAAUHRAAAAAAACgdEAAAAAAAPB0QAAAAAAAQHVAAAAAAACQdUAAAAAAAOB1QAAAAAAAMHZAAAAAAACAdkAAAAAAANB2QAAAAAAAIHdAAAAAAABwd0AAAAAAAMB3QAAAAAAAEHhAAAAAAABgeEAAAAAAALB4QAAAAAAAAHlAAAAAAABQeUAAAAAAAKB5QAAAAAAA8HlAAAAAAABAekAAAAAAAJB6QAAAAAAA4HpAAAAAAAAwe0AAAAAAAIB7QAAAAAAA0HtAAAAAAAAgfEAAAAAAAHB8QAAAAAAAwHxAAAAAAAAQfUAAAAAAAGB9QAAAAAAAsH1AAAAAAAAAfkAAAAAAAFB+QAAAAAAAoH5AAAAAAADwfkAAAAAAAEB/QAAAAAAAkH9AAAAAAADgf0AAAAAAABiAQAAAAAAAQIBAAAAAAABogEAAAAAAAJCAQAAAAAAAuIBAAAAAAADggEAAAAAAAAiBQA==",
          "dtype": "f8",
          "shape": "100, 110"
         },
         "zmax": 100,
         "zmin": 0
        },
        {
         "hoverinfo": "none",
         "line": {
          "color": "black",
          "dash": "dash",
          "width": 1
         },
         "mode": "lines",
         "showlegend": false,
         "type": "scatter",
         "x": {
          "bdata": "AAAAAAAAAABcj8L1KFwBQEjhehSuR+k/cT0K16NwFECamZmZmVk2QJqZmZmZmQFAmpmZmZmZCUAAAAAAAADwP2ZmZmZmZvY/MzMzMzMz4z/NzMzMzMz8PwAAAAAAAABAMzMzMzMz8z/NzMzMzMz8P5qZmZmZmQFAZmZmZmZmBkDNzMzMzMwEQM3MzMzMzARAZmZmZmZmBkAAAAAAAADwP5qZmZmZmek/ZmZmZmZm9j/NzMzMzMz8PzMzMzMzM+M/mpmZmZmZ2T+amZmZmZnZPzMzMzMzM/M/mpmZmZmZ2T+amZmZmZnZP5qZmZmZmdk/mpmZmZmZ+T8zMzMzMzPjPw==",
          "dtype": "f8"
         },
         "y": {
          "bdata": "KVyPwvUoBEApXI/C9SgEQClcj8L1KARAKVyPwvUoBECF61G4HoUDQIXrUbgehQNAhetRuB6FA0CF61G4HoUDQLgehetRuAJAuB6F61G4AkC4HoXrUbgCQLgehetRuAJAw/UoXI/CAUDD9Shcj8IBQMP1KFyPwgFAw/UoXI/CAUDhehSuR+EAQOF6FK5H4QBA4XoUrkfhAEDhehSuR+EAQGZmZmZmZgBAZmZmZmZmAEBmZmZmZmYAQGZmZmZmZgBAexSuR+F6AEB7FK5H4XoAQHsUrkfhegBAexSuR+F6AEBcj8L1KFwBQFyPwvUoXAFAXI/C9ShcAUBcj8L1KFwBQA==",
          "dtype": "f8"
         }
        },
        {
         "hoverinfo": "text",
         "hovertext": "<b>Estação:</b> Imbiribeira<br><b>Data:</b> 2025-05-14<br><b>Hora:</b> 02:00:00<br><b>Risco:</b> Baixo (0.0)<br><b>VP:</b> 0.0<br><b>AM:</b> 2.52",
         "marker": {
          "color": "#4CAF50",
          "line": {
           "color": "black",
           "width": 1
          },
          "size": 12
         },
         "mode": "markers",
         "showlegend": false,
         "type": "scatter",
         "x": [
          0
         ],
         "y": [
          2.52
         ]
        },
        {
         "hoverinfo": "text",
         "hovertext": "<b>Estação:</b> Imbiribeira<br><b>Data:</b> 2025-05-14<br><b>Hora:</b> 08:00:00<br><b>Risco:</b> Baixo (5.47)<br><b>VP:</b> 2.17<br><b>AM:</b> 2.52",
         "marker": {
          "color": "#4CAF50",
          "line": {
           "color": "black",
           "width": 1
          },
          "size": 12
         },
         "mode": "markers",
         "showlegend": false,
         "type": "scatter",
         "x": [
          2.17
         ],
         "y": [
          2.52
         ]
        },
        {
         "hoverinfo": "text",
         "hovertext": "<b>Estação:</b> Imbiribeira<br><b>Data:</b> 2025-05-14<br><b>Hora:</b> 14:00:00<br><b>Risco:</b> Baixo (1.99)<br><b>VP:</b> 0.79<br><b>AM:</b> 2.52",
         "marker": {
          "color": "#4CAF50",
          "line": {
           "color": "black",
           "width": 1
          },
          "size": 12
         },
         "mode": "markers",
         "showlegend": false,
         "type": "scatter",
         "x": [
          0.79
         ],
         "y": [
          2.52
         ]
        },
        {
         "hoverinfo": "text",
         "hovertext": "<b>Estação:</b> Imbiribeira<br><b>Data:</b> 2025-05-14<br><b>Hora:</b> 20:00:00<br><b>Risco:</b> Baixo (12.88)<br><b>VP:</b> 5.11<br><b>AM:</b> 2.52",
         "marker": {
          "color": "#4CAF50",
          "line": {
           "color": "black",
           "width": 1
          },
          "size": 12
         },
         "mode": "markers",
         "showlegend": false,
         "type": "scatter",
         "x": [
          5.11
         ],
         "y": [
          2.52
         ]
        },
        {
         "hoverinfo": "text",
         "hovertext": "<b>Estação:</b> Imbiribeira<br><b>Data:</b> 2025-05-15<br><b>Hora:</b> 02:00:00<br><b>Risco:</b> Moderado Alto (54.53)<br><b>VP:</b> 22.35<br><b>AM:</b> 2.44",
         "marker": {
          "color": "#FFA500",
          "line": {
           "color": "black",
           "width": 1
          },
          "size": 12
         },
         "mode": "markers",
         "showlegend": false,
         "type": "scatter",
         "x": [
          22.35
         ],
         "y": [
          2.44
         ]
        },
        {
         "hoverinfo": "text",
         "hovertext": "<b>Estação:</b> Imbiribeira<br><b>Data:</b> 2025-05-15<br><b>Hora:</b> 08:00:00<br><b>Risco:</b> Baixo (5.37)<br><b>VP:</b> 2.2<br><b>AM:</b> 2.44",
         "marker": {
          "color": "#4CAF50",
          "line": {
           "color": "black",
           "width": 1
          },
          "size": 12
         },
         "mode": "markers",
         "showlegend": false,
         "type": "scatter",
         "x": [
          2.2
         ],
         "y": [
          2.44
         ]
        },
        {
         "hoverinfo": "text",
         "hovertext": "<b>Estação:</b> Imbiribeira<br><b>Data:</b> 2025-05-15<br><b>Hora:</b> 14:00:00<br><b>Risco:</b> Baixo (7.81)<br><b>VP:</b> 3.2<br><b>AM:</b> 2.44",
         "marker": {
          "color": "#4CAF50",
          "line": {
           "color": "black",
           "width": 1
          },
          "size": 12
         },
         "mode": "markers",
         "showlegend": false,
         "type": "scatter",
         "x": [
          3.2
         ],
         "y": [
          2.44
         ]
        },
        {
         "hoverinfo": "text",
         "hovertext": "<b>Estação:</b> Imbiribeira<br><b>Data:</b> 2025-05-15<br><b>Hora:</b> 20:00:00<br><b>Risco:</b> Baixo (2.44)<br><b>VP:</b> 1.0<br><b>AM:</b> 2.44",
         "marker": {
          "color": "#4CAF50",
          "line": {
           "color": "black",
           "width": 1
          },
          "size": 12
         },
         "mode": "markers",
         "showlegend": false,
         "type": "scatter",
         "x": [
          1
         ],
         "y": [
          2.44
         ]
        },
        {
         "hoverinfo": "text",
         "hovertext": "<b>Estação:</b> Imbiribeira<br><b>Data:</b> 2025-05-16<br><b>Hora:</b> 02:00:00<br><b>Risco:</b> Baixo (3.28)<br><b>VP:</b> 1.4<br><b>AM:</b> 2.34",
         "marker": {
          "color": "#4CAF50",
          "line": {
           "color": "black",
           "width": 1
          },
          "size": 12
         },
         "mode": "markers",
         "showlegend": false,
         "type": "scatter",
         "x": [
          1.4
         ],
         "y": [
          2.34
         ]
        },
        {
         "hoverinfo": "text",
         "hovertext": "<b>Estação:</b> Imbiribeira<br><b>Data:</b> 2025-05-16<br><b>Hora:</b> 08:00:00<br><b>Risco:</b> Baixo (1.4)<br><b>VP:</b> 0.6<br><b>AM:</b> 2.34",
         "marker": {
          "color": "#4CAF50",
          "line": {
           "color": "black",
           "width": 1
          },
          "size": 12
         },
         "mode": "markers",
         "showlegend": false,
         "type": "scatter",
         "x": [
          0.6
         ],
         "y": [
          2.34
         ]
        },
        {
         "hoverinfo": "text",
         "hovertext": "<b>Estação:</b> Imbiribeira<br><b>Data:</b> 2025-05-16<br><b>Hora:</b> 14:00:00<br><b>Risco:</b> Baixo (4.21)<br><b>VP:</b> 1.8<br><b>AM:</b> 2.34",
         "marker": {
          "color": "#4CAF50",
          "line": {
           "color": "black",
           "width": 1
          },
          "size": 12
         },
         "mode": "markers",
         "showlegend": false,
         "type": "scatter",
         "x": [
          1.8
         ],
         "y": [
          2.34
         ]
        },
        {
         "hoverinfo": "text",
         "hovertext": "<b>Estação:</b> Imbiribeira<br><b>Data:</b> 2025-05-16<br><b>Hora:</b> 20:00:00<br><b>Risco:</b> Baixo (4.68)<br><b>VP:</b> 2.0<br><b>AM:</b> 2.34",
         "marker": {
          "color": "#4CAF50",
          "line": {
           "color": "black",
           "width": 1
          },
          "size": 12
         },
         "mode": "markers",
         "showlegend": false,
         "type": "scatter",
         "x": [
          2
         ],
         "y": [
          2.34
         ]
        },
        {
         "hoverinfo": "text",
         "hovertext": "<b>Estação:</b> Imbiribeira<br><b>Data:</b> 2025-05-17<br><b>Hora:</b> 02:00:00<br><b>Risco:</b> Baixo (2.66)<br><b>VP:</b> 1.2<br><b>AM:</b> 2.22",
         "marker": {
          "color": "#4CAF50",
          "line": {
           "color": "black",
           "width": 1
          },
          "size": 12
         },
         "mode": "markers",
         "showlegend": false,
         "type": "scatter",
         "x": [
          1.2
         ],
         "y": [
          2.22
         ]
        },
        {
         "hoverinfo": "text",
         "hovertext": "<b>Estação:</b> Imbiribeira<br><b>Data:</b> 2025-05-17<br><b>Hora:</b> 08:00:00<br><b>Risco:</b> Baixo (4.0)<br><b>VP:</b> 1.8<br><b>AM:</b> 2.22",
         "marker": {
          "color": "#4CAF50",
          "line": {
           "color": "black",
           "width": 1
          },
          "size": 12
         },
         "mode": "markers",
         "showlegend": false,
         "type": "scatter",
         "x": [
          1.8
         ],
         "y": [
          2.22
         ]
        },
        {
         "hoverinfo": "text",
         "hovertext": "<b>Estação:</b> Imbiribeira<br><b>Data:</b> 2025-05-17<br><b>Hora:</b> 14:00:00<br><b>Risco:</b> Baixo (4.88)<br><b>VP:</b> 2.2<br><b>AM:</b> 2.22",
         "marker": {
          "color": "#4CAF50",
          "line": {
           "color": "black",
           "width": 1
          },
          "size": 12
         },
         "mode": "markers",
         "showlegend": false,
         "type": "scatter",
         "x": [
          2.2
         ],
         "y": [
          2.22
         ]
        },
        {
         "hoverinfo": "text",
         "hovertext": "<b>Estação:</b> Imbiribeira<br><b>Data:</b> 2025-05-17<br><b>Hora:</b> 20:00:00<br><b>Risco:</b> Baixo (6.22)<br><b>VP:</b> 2.8<br><b>AM:</b> 2.22",
         "marker": {
          "color": "#4CAF50",
          "line": {
           "color": "black",
           "width": 1
          },
          "size": 12
         },
         "mode": "markers",
         "showlegend": false,
         "type": "scatter",
         "x": [
          2.8
         ],
         "y": [
          2.22
         ]
        },
        {
         "hoverinfo": "text",
         "hovertext": "<b>Estação:</b> Imbiribeira<br><b>Data:</b> 2025-05-18<br><b>Hora:</b> 02:00:00<br><b>Risco:</b> Baixo (5.49)<br><b>VP:</b> 2.6<br><b>AM:</b> 2.11",
         "marker": {
          "color": "#4CAF50",
          "line": {
           "color": "black",
           "width": 1
          },
          "size": 12
         },
         "mode": "markers",
         "showlegend": false,
         "type": "scatter",
         "x": [
          2.6
         ],
         "y": [
          2.11
         ]
        },
        {
         "hoverinfo": "text",
         "hovertext": "<b>Estação:</b> Imbiribeira<br><b>Data:</b> 2025-05-18<br><b>Hora:</b> 08:00:00<br><b>Risco:</b> Baixo (5.49)<br><b>VP:</b> 2.6<br><b>AM:</b> 2.11",
         "marker": {
          "color": "#4CAF50",
          "line": {
           "color": "black",
           "width": 1
          },
          "size": 12
         },
         "mode": "markers",
         "showlegend": false,
         "type": "scatter",
         "x": [
          2.6
         ],
         "y": [
          2.11
         ]
        },
        {
         "hoverinfo": "text",
         "hovertext": "<b>Estação:</b> Imbiribeira<br><b>Data:</b> 2025-05-18<br><b>Hora:</b> 14:00:00<br><b>Risco:</b> Baixo (5.91)<br><b>VP:</b> 2.8<br><b>AM:</b> 2.11",
         "marker": {
          "color": "#4CAF50",
          "line": {
           "color": "black",
           "width": 1
          },
          "size": 12
         },
         "mode": "markers",
         "showlegend": false,
         "type": "scatter",
         "x": [
          2.8
         ],
         "y": [
          2.11
         ]
        },
        {
         "hoverinfo": "text",
         "hovertext": "<b>Estação:</b> Imbiribeira<br><b>Data:</b> 2025-05-18<br><b>Hora:</b> 20:00:00<br><b>Risco:</b> Baixo (2.11)<br><b>VP:</b> 1.0<br><b>AM:</b> 2.11",
         "marker": {
          "color": "#4CAF50",
          "line": {
           "color": "black",
           "width": 1
          },
          "size": 12
         },
         "mode": "markers",
         "showlegend": false,
         "type": "scatter",
         "x": [
          1
         ],
         "y": [
          2.11
         ]
        },
        {
         "hoverinfo": "text",
         "hovertext": "<b>Estação:</b> Imbiribeira<br><b>Data:</b> 2025-05-19<br><b>Hora:</b> 02:00:00<br><b>Risco:</b> Baixo (1.64)<br><b>VP:</b> 0.8<br><b>AM:</b> 2.05",
         "marker": {
          "color": "#4CAF50",
          "line": {
           "color": "black",
           "width": 1
          },
          "size": 12
         },
         "mode": "markers",
         "showlegend": false,
         "type": "scatter",
         "x": [
          0.8
         ],
         "y": [
          2.05
         ]
        },
        {
         "hoverinfo": "text",
         "hovertext": "<b>Estação:</b> Imbiribeira<br><b>Data:</b> 2025-05-19<br><b>Hora:</b> 08:00:00<br><b>Risco:</b> Baixo (2.87)<br><b>VP:</b> 1.4<br><b>AM:</b> 2.05",
         "marker": {
          "color": "#4CAF50",
          "line": {
           "color": "black",
           "width": 1
          },
          "size": 12
         },
         "mode": "markers",
         "showlegend": false,
         "type": "scatter",
         "x": [
          1.4
         ],
         "y": [
          2.05
         ]
        },
        {
         "hoverinfo": "text",
         "hovertext": "<b>Estação:</b> Imbiribeira<br><b>Data:</b> 2025-05-19<br><b>Hora:</b> 14:00:00<br><b>Risco:</b> Baixo (3.69)<br><b>VP:</b> 1.8<br><b>AM:</b> 2.05",
         "marker": {
          "color": "#4CAF50",
          "line": {
           "color": "black",
           "width": 1
          },
          "size": 12
         },
         "mode": "markers",
         "showlegend": false,
         "type": "scatter",
         "x": [
          1.8
         ],
         "y": [
          2.05
         ]
        },
        {
         "hoverinfo": "text",
         "hovertext": "<b>Estação:</b> Imbiribeira<br><b>Data:</b> 2025-05-19<br><b>Hora:</b> 20:00:00<br><b>Risco:</b> Baixo (1.23)<br><b>VP:</b> 0.6<br><b>AM:</b> 2.05",
         "marker": {
          "color": "#4CAF50",
          "line": {
           "color": "black",
           "width": 1
          },
          "size": 12
         },
         "mode": "markers",
         "showlegend": false,
         "type": "scatter",
         "x": [
          0.6
         ],
         "y": [
          2.05
         ]
        },
        {
         "hoverinfo": "text",
         "hovertext": "<b>Estação:</b> Imbiribeira<br><b>Data:</b> 2025-05-20<br><b>Hora:</b> 02:00:00<br><b>Risco:</b> Baixo (0.82)<br><b>VP:</b> 0.4<br><b>AM:</b> 2.06",
         "marker": {
          "color": "#4CAF50",
          "line": {
           "color": "black",
           "width": 1
          },
          "size": 12
         },
         "mode": "markers",
         "showlegend": false,
         "type": "scatter",
         "x": [
          0.4
         ],
         "y": [
          2.06
         ]
        },
        {
         "hoverinfo": "text",
         "hovertext": "<b>Estação:</b> Imbiribeira<br><b>Data:</b> 2025-05-20<br><b>Hora:</b> 08:00:00<br><b>Risco:</b> Baixo (0.82)<br><b>VP:</b> 0.4<br><b>AM:</b> 2.06",
         "marker": {
          "color": "#4CAF50",
          "line": {
           "color": "black",
           "width": 1
          },
          "size": 12
         },
         "mode": "markers",
         "showlegend": false,
         "type": "scatter",
         "x": [
          0.4
         ],
         "y": [
          2.06
         ]
        },
        {
         "hoverinfo": "text",
         "hovertext": "<b>Estação:</b> Imbiribeira<br><b>Data:</b> 2025-05-20<br><b>Hora:</b> 14:00:00<br><b>Risco:</b> Baixo (2.47)<br><b>VP:</b> 1.2<br><b>AM:</b> 2.06",
         "marker": {
          "color": "#4CAF50",
          "line": {
           "color": "black",
           "width": 1
          },
          "size": 12
         },
         "mode": "markers",
         "showlegend": false,
         "type": "scatter",
         "x": [
          1.2
         ],
         "y": [
          2.06
         ]
        },
        {
         "hoverinfo": "text",
         "hovertext": "<b>Estação:</b> Imbiribeira<br><b>Data:</b> 2025-05-20<br><b>Hora:</b> 20:00:00<br><b>Risco:</b> Baixo (0.82)<br><b>VP:</b> 0.4<br><b>AM:</b> 2.06",
         "marker": {
          "color": "#4CAF50",
          "line": {
           "color": "black",
           "width": 1
          },
          "size": 12
         },
         "mode": "markers",
         "showlegend": false,
         "type": "scatter",
         "x": [
          0.4
         ],
         "y": [
          2.06
         ]
        },
        {
         "hoverinfo": "text",
         "hovertext": "<b>Estação:</b> Imbiribeira<br><b>Data:</b> 2025-05-21<br><b>Hora:</b> 02:00:00<br><b>Risco:</b> Baixo (0.87)<br><b>VP:</b> 0.4<br><b>AM:</b> 2.17",
         "marker": {
          "color": "#4CAF50",
          "line": {
           "color": "black",
           "width": 1
          },
          "size": 12
         },
         "mode": "markers",
         "showlegend": false,
         "type": "scatter",
         "x": [
          0.4
         ],
         "y": [
          2.17
         ]
        },
        {
         "hoverinfo": "text",
         "hovertext": "<b>Estação:</b> Imbiribeira<br><b>Data:</b> 2025-05-21<br><b>Hora:</b> 08:00:00<br><b>Risco:</b> Baixo (0.87)<br><b>VP:</b> 0.4<br><b>AM:</b> 2.17",
         "marker": {
          "color": "#4CAF50",
          "line": {
           "color": "black",
           "width": 1
          },
          "size": 12
         },
         "mode": "markers",
         "showlegend": false,
         "type": "scatter",
         "x": [
          0.4
         ],
         "y": [
          2.17
         ]
        },
        {
         "hoverinfo": "text",
         "hovertext": "<b>Estação:</b> Imbiribeira<br><b>Data:</b> 2025-05-21<br><b>Hora:</b> 14:00:00<br><b>Risco:</b> Baixo (3.47)<br><b>VP:</b> 1.6<br><b>AM:</b> 2.17",
         "marker": {
          "color": "#4CAF50",
          "line": {
           "color": "black",
           "width": 1
          },
          "size": 12
         },
         "mode": "markers",
         "showlegend": false,
         "type": "scatter",
         "x": [
          1.6
         ],
         "y": [
          2.17
         ]
        },
        {
         "hoverinfo": "text",
         "hovertext": "<b>Estação:</b> Imbiribeira<br><b>Data:</b> 2025-05-21<br><b>Hora:</b> 20:00:00<br><b>Risco:</b> Baixo (1.3)<br><b>VP:</b> 0.6<br><b>AM:</b> 2.17",
         "marker": {
          "color": "#4CAF50",
          "line": {
           "color": "black",
           "width": 1
          },
          "size": 12
         },
         "mode": "markers",
         "showlegend": false,
         "type": "scatter",
         "x": [
          0.6
         ],
         "y": [
          2.17
         ]
        },
        {
         "marker": {
          "color": "#4CAF50",
          "size": 10,
          "symbol": "square"
         },
         "mode": "markers",
         "name": "Baixo: RA < 30",
         "type": "scatter",
         "x": [
          null
         ],
         "y": [
          null
         ]
        },
        {
         "marker": {
          "color": "#FFC107",
          "size": 10,
          "symbol": "square"
         },
         "mode": "markers",
         "name": "Moderado: 30 ≤ RA < 50",
         "type": "scatter",
         "x": [
          null
         ],
         "y": [
          null
         ]
        },
        {
         "marker": {
          "color": "#FFA500",
          "size": 10,
          "symbol": "square"
         },
         "mode": "markers",
         "name": "Moderado Alto: 50 ≤ RA < 100",
         "type": "scatter",
         "x": [
          null
         ],
         "y": [
          null
         ]
        },
        {
         "marker": {
          "color": "#D32F2F",
          "size": 10,
          "symbol": "square"
         },
         "mode": "markers",
         "name": "Alto: RA ≥ 100",
         "type": "scatter",
         "x": [
          null
         ],
         "y": [
          null
         ]
        }
       ],
       "layout": {
        "legend": {
         "title": {
          "text": "<b>Níveis de Risco</b>"
         }
        },
        "showlegend": true,
        "template": {
         "data": {
          "bar": [
           {
            "error_x": {
             "color": "#2a3f5f"
            },
            "error_y": {
             "color": "#2a3f5f"
            },
            "marker": {
             "line": {
              "color": "#E5ECF6",
              "width": 0.5
             },
             "pattern": {
              "fillmode": "overlay",
              "size": 10,
              "solidity": 0.2
             }
            },
            "type": "bar"
           }
          ],
          "barpolar": [
           {
            "marker": {
             "line": {
              "color": "#E5ECF6",
              "width": 0.5
             },
             "pattern": {
              "fillmode": "overlay",
              "size": 10,
              "solidity": 0.2
             }
            },
            "type": "barpolar"
           }
          ],
          "carpet": [
           {
            "aaxis": {
             "endlinecolor": "#2a3f5f",
             "gridcolor": "white",
             "linecolor": "white",
             "minorgridcolor": "white",
             "startlinecolor": "#2a3f5f"
            },
            "baxis": {
             "endlinecolor": "#2a3f5f",
             "gridcolor": "white",
             "linecolor": "white",
             "minorgridcolor": "white",
             "startlinecolor": "#2a3f5f"
            },
            "type": "carpet"
           }
          ],
          "choropleth": [
           {
            "colorbar": {
             "outlinewidth": 0,
             "ticks": ""
            },
            "type": "choropleth"
           }
          ],
          "contour": [
           {
            "colorbar": {
             "outlinewidth": 0,
             "ticks": ""
            },
            "colorscale": [
             [
              0,
              "#0d0887"
             ],
             [
              0.1111111111111111,
              "#46039f"
             ],
             [
              0.2222222222222222,
              "#7201a8"
             ],
             [
              0.3333333333333333,
              "#9c179e"
             ],
             [
              0.4444444444444444,
              "#bd3786"
             ],
             [
              0.5555555555555556,
              "#d8576b"
             ],
             [
              0.6666666666666666,
              "#ed7953"
             ],
             [
              0.7777777777777778,
              "#fb9f3a"
             ],
             [
              0.8888888888888888,
              "#fdca26"
             ],
             [
              1,
              "#f0f921"
             ]
            ],
            "type": "contour"
           }
          ],
          "contourcarpet": [
           {
            "colorbar": {
             "outlinewidth": 0,
             "ticks": ""
            },
            "type": "contourcarpet"
           }
          ],
          "heatmap": [
           {
            "colorbar": {
             "outlinewidth": 0,
             "ticks": ""
            },
            "colorscale": [
             [
              0,
              "#0d0887"
             ],
             [
              0.1111111111111111,
              "#46039f"
             ],
             [
              0.2222222222222222,
              "#7201a8"
             ],
             [
              0.3333333333333333,
              "#9c179e"
             ],
             [
              0.4444444444444444,
              "#bd3786"
             ],
             [
              0.5555555555555556,
              "#d8576b"
             ],
             [
              0.6666666666666666,
              "#ed7953"
             ],
             [
              0.7777777777777778,
              "#fb9f3a"
             ],
             [
              0.8888888888888888,
              "#fdca26"
             ],
             [
              1,
              "#f0f921"
             ]
            ],
            "type": "heatmap"
           }
          ],
          "histogram": [
           {
            "marker": {
             "pattern": {
              "fillmode": "overlay",
              "size": 10,
              "solidity": 0.2
             }
            },
            "type": "histogram"
           }
          ],
          "histogram2d": [
           {
            "colorbar": {
             "outlinewidth": 0,
             "ticks": ""
            },
            "colorscale": [
             [
              0,
              "#0d0887"
             ],
             [
              0.1111111111111111,
              "#46039f"
             ],
             [
              0.2222222222222222,
              "#7201a8"
             ],
             [
              0.3333333333333333,
              "#9c179e"
             ],
             [
              0.4444444444444444,
              "#bd3786"
             ],
             [
              0.5555555555555556,
              "#d8576b"
             ],
             [
              0.6666666666666666,
              "#ed7953"
             ],
             [
              0.7777777777777778,
              "#fb9f3a"
             ],
             [
              0.8888888888888888,
              "#fdca26"
             ],
             [
              1,
              "#f0f921"
             ]
            ],
            "type": "histogram2d"
           }
          ],
          "histogram2dcontour": [
           {
            "colorbar": {
             "outlinewidth": 0,
             "ticks": ""
            },
            "colorscale": [
             [
              0,
              "#0d0887"
             ],
             [
              0.1111111111111111,
              "#46039f"
             ],
             [
              0.2222222222222222,
              "#7201a8"
             ],
             [
              0.3333333333333333,
              "#9c179e"
             ],
             [
              0.4444444444444444,
              "#bd3786"
             ],
             [
              0.5555555555555556,
              "#d8576b"
             ],
             [
              0.6666666666666666,
              "#ed7953"
             ],
             [
              0.7777777777777778,
              "#fb9f3a"
             ],
             [
              0.8888888888888888,
              "#fdca26"
             ],
             [
              1,
              "#f0f921"
             ]
            ],
            "type": "histogram2dcontour"
           }
          ],
          "mesh3d": [
           {
            "colorbar": {
             "outlinewidth": 0,
             "ticks": ""
            },
            "type": "mesh3d"
           }
          ],
          "parcoords": [
           {
            "line": {
             "colorbar": {
              "outlinewidth": 0,
              "ticks": ""
             }
            },
            "type": "parcoords"
           }
          ],
          "pie": [
           {
            "automargin": true,
            "type": "pie"
           }
          ],
          "scatter": [
           {
            "fillpattern": {
             "fillmode": "overlay",
             "size": 10,
             "solidity": 0.2
            },
            "type": "scatter"
           }
          ],
          "scatter3d": [
           {
            "line": {
             "colorbar": {
              "outlinewidth": 0,
              "ticks": ""
             }
            },
            "marker": {
             "colorbar": {
              "outlinewidth": 0,
              "ticks": ""
             }
            },
            "type": "scatter3d"
           }
          ],
          "scattercarpet": [
           {
            "marker": {
             "colorbar": {
              "outlinewidth": 0,
              "ticks": ""
             }
            },
            "type": "scattercarpet"
           }
          ],
          "scattergeo": [
           {
            "marker": {
             "colorbar": {
              "outlinewidth": 0,
              "ticks": ""
             }
            },
            "type": "scattergeo"
           }
          ],
          "scattergl": [
           {
            "marker": {
             "colorbar": {
              "outlinewidth": 0,
              "ticks": ""
             }
            },
            "type": "scattergl"
           }
          ],
          "scattermap": [
           {
            "marker": {
             "colorbar": {
              "outlinewidth": 0,
              "ticks": ""
             }
            },
            "type": "scattermap"
           }
          ],
          "scattermapbox": [
           {
            "marker": {
             "colorbar": {
              "outlinewidth": 0,
              "ticks": ""
             }
            },
            "type": "scattermapbox"
           }
          ],
          "scatterpolar": [
           {
            "marker": {
             "colorbar": {
              "outlinewidth": 0,
              "ticks": ""
             }
            },
            "type": "scatterpolar"
           }
          ],
          "scatterpolargl": [
           {
            "marker": {
             "colorbar": {
              "outlinewidth": 0,
              "ticks": ""
             }
            },
            "type": "scatterpolargl"
           }
          ],
          "scatterternary": [
           {
            "marker": {
             "colorbar": {
              "outlinewidth": 0,
              "ticks": ""
             }
            },
            "type": "scatterternary"
           }
          ],
          "surface": [
           {
            "colorbar": {
             "outlinewidth": 0,
             "ticks": ""
            },
            "colorscale": [
             [
              0,
              "#0d0887"
             ],
             [
              0.1111111111111111,
              "#46039f"
             ],
             [
              0.2222222222222222,
              "#7201a8"
             ],
             [
              0.3333333333333333,
              "#9c179e"
             ],
             [
              0.4444444444444444,
              "#bd3786"
             ],
             [
              0.5555555555555556,
              "#d8576b"
             ],
             [
              0.6666666666666666,
              "#ed7953"
             ],
             [
              0.7777777777777778,
              "#fb9f3a"
             ],
             [
              0.8888888888888888,
              "#fdca26"
             ],
             [
              1,
              "#f0f921"
             ]
            ],
            "type": "surface"
           }
          ],
          "table": [
           {
            "cells": {
             "fill": {
              "color": "#EBF0F8"
             },
             "line": {
              "color": "white"
             }
            },
            "header": {
             "fill": {
              "color": "#C8D4E3"
             },
             "line": {
              "color": "white"
             }
            },
            "type": "table"
           }
          ]
         },
         "layout": {
          "annotationdefaults": {
           "arrowcolor": "#2a3f5f",
           "arrowhead": 0,
           "arrowwidth": 1
          },
          "autotypenumbers": "strict",
          "coloraxis": {
           "colorbar": {
            "outlinewidth": 0,
            "ticks": ""
           }
          },
          "colorscale": {
           "diverging": [
            [
             0,
             "#8e0152"
            ],
            [
             0.1,
             "#c51b7d"
            ],
            [
             0.2,
             "#de77ae"
            ],
            [
             0.3,
             "#f1b6da"
            ],
            [
             0.4,
             "#fde0ef"
            ],
            [
             0.5,
             "#f7f7f7"
            ],
            [
             0.6,
             "#e6f5d0"
            ],
            [
             0.7,
             "#b8e186"
            ],
            [
             0.8,
             "#7fbc41"
            ],
            [
             0.9,
             "#4d9221"
            ],
            [
             1,
             "#276419"
            ]
           ],
           "sequential": [
            [
             0,
             "#0d0887"
            ],
            [
             0.1111111111111111,
             "#46039f"
            ],
            [
             0.2222222222222222,
             "#7201a8"
            ],
            [
             0.3333333333333333,
             "#9c179e"
            ],
            [
             0.4444444444444444,
             "#bd3786"
            ],
            [
             0.5555555555555556,
             "#d8576b"
            ],
            [
             0.6666666666666666,
             "#ed7953"
            ],
            [
             0.7777777777777778,
             "#fb9f3a"
            ],
            [
             0.8888888888888888,
             "#fdca26"
            ],
            [
             1,
             "#f0f921"
            ]
           ],
           "sequentialminus": [
            [
             0,
             "#0d0887"
            ],
            [
             0.1111111111111111,
             "#46039f"
            ],
            [
             0.2222222222222222,
             "#7201a8"
            ],
            [
             0.3333333333333333,
             "#9c179e"
            ],
            [
             0.4444444444444444,
             "#bd3786"
            ],
            [
             0.5555555555555556,
             "#d8576b"
            ],
            [
             0.6666666666666666,
             "#ed7953"
            ],
            [
             0.7777777777777778,
             "#fb9f3a"
            ],
            [
             0.8888888888888888,
             "#fdca26"
            ],
            [
             1,
             "#f0f921"
            ]
           ]
          },
          "colorway": [
           "#636efa",
           "#EF553B",
           "#00cc96",
           "#ab63fa",
           "#FFA15A",
           "#19d3f3",
           "#FF6692",
           "#B6E880",
           "#FF97FF",
           "#FECB52"
          ],
          "font": {
           "color": "#2a3f5f"
          },
          "geo": {
           "bgcolor": "white",
           "lakecolor": "white",
           "landcolor": "#E5ECF6",
           "showlakes": true,
           "showland": true,
           "subunitcolor": "white"
          },
          "hoverlabel": {
           "align": "left"
          },
          "hovermode": "closest",
          "mapbox": {
           "style": "light"
          },
          "paper_bgcolor": "white",
          "plot_bgcolor": "#E5ECF6",
          "polar": {
           "angularaxis": {
            "gridcolor": "white",
            "linecolor": "white",
            "ticks": ""
           },
           "bgcolor": "#E5ECF6",
           "radialaxis": {
            "gridcolor": "white",
            "linecolor": "white",
            "ticks": ""
           }
          },
          "scene": {
           "xaxis": {
            "backgroundcolor": "#E5ECF6",
            "gridcolor": "white",
            "gridwidth": 2,
            "linecolor": "white",
            "showbackground": true,
            "ticks": "",
            "zerolinecolor": "white"
           },
           "yaxis": {
            "backgroundcolor": "#E5ECF6",
            "gridcolor": "white",
            "gridwidth": 2,
            "linecolor": "white",
            "showbackground": true,
            "ticks": "",
            "zerolinecolor": "white"
           },
           "zaxis": {
            "backgroundcolor": "#E5ECF6",
            "gridcolor": "white",
            "gridwidth": 2,
            "linecolor": "white",
            "showbackground": true,
            "ticks": "",
            "zerolinecolor": "white"
           }
          },
          "shapedefaults": {
           "line": {
            "color": "#2a3f5f"
           }
          },
          "ternary": {
           "aaxis": {
            "gridcolor": "white",
            "linecolor": "white",
            "ticks": ""
           },
           "baxis": {
            "gridcolor": "white",
            "linecolor": "white",
            "ticks": ""
           },
           "bgcolor": "#E5ECF6",
           "caxis": {
            "gridcolor": "white",
            "linecolor": "white",
            "ticks": ""
           }
          },
          "title": {
           "x": 0.05
          },
          "xaxis": {
           "automargin": true,
           "gridcolor": "white",
           "linecolor": "white",
           "ticks": "",
           "title": {
            "standoff": 15
           },
           "zerolinecolor": "white",
           "zerolinewidth": 2
          },
          "yaxis": {
           "automargin": true,
           "gridcolor": "white",
           "linecolor": "white",
           "ticks": "",
           "title": {
            "standoff": 15
           },
           "zerolinecolor": "white",
           "zerolinewidth": 2
          }
         }
        },
        "title": {
         "text": "<b>Diagrama de Risco Interativo para a Estação: Imbiribeira</b>"
        },
        "xaxis": {
         "range": [
          0,
          110
         ],
         "title": {
          "text": "Precipitação (milímetros)"
         }
        },
        "yaxis": {
         "range": [
          0,
          5
         ],
         "title": {
          "text": "Altura da Maré metros)"
         }
        }
       }
      }
     },
     "metadata": {},
     "output_type": "display_data"
    },
    {
     "name": "stdout",
     "output_type": "stream",
     "text": [
      "  -> Diagrama interativo para 'Imbiribeira' salvo em: diagramas_interativos\\diagrama_interativo_Imbiribeira.html\n"
     ]
    },
    {
     "data": {
      "application/vnd.plotly.v1+json": {
       "config": {
        "plotlyServerURL": "https://plot.ly"
       },
       "data": [
        {
         "colorscale": [
          [
           0,
           "#90EE90"
          ],
          [
           0.3,
           "#FFD700"
          ],
          [
           0.5,
           "#FFA500"
          ],
          [
           1,
           "#D32F2F"
          ]
         ],
         "showscale": false,
         "type": "heatmap",
         "x": {
          "bdata": "AAECAwQFBgcICQoLDA0ODxAREhMUFRYXGBkaGxwdHh8gISIjJCUmJygpKissLS4vMDEyMzQ1Njc4OTo7PD0+P0BBQkNERUZHSElKS0xNTk9QUVJTVFVWV1hZWltcXV5fYGFiY2RlZmdoaWprbG0=",
          "dtype": "i1"
         },
         "y": {
          "bdata": "AAAAAAAAAAAxb2dIzNupPzFvZ0jM27k/ZZNNNtlkwz8xb2dIzNvJP3+lQK1fKdA/ZZNNNtlk0z9LgVq/UqDWPzFvZ0jM29k/F1100UUX3T9/pUCtXyngP3Icx3Ecx+E/ZZNNNtlk4z9YCtT6lQLlP0uBWr9SoOY/Pvjggw8+6D8xb2dIzNvpPyTm7QyJees/F1100UUX7T8K1PqVArXuP3+lQK1fKfA/+OCDDz748D9yHMdxHMfxP+tXCtT6lfI/ZZNNNtlk8z/ezpCYtzP0P1gK1PqVAvU/0UUXXXTR9T9LgVq/UqD2P8S8nSExb/c/Pvjggw8++D+3MyTm7Qz5PzFvZ0jM2/k/q6qqqqqq+j8k5u0MiXn7P54hMW9nSPw/F1100UUX/T+RmLczJOb9PwrU+pUCtf4/hA8++OCD/z9/pUCtXykAQDtDYt7OkABA+OCDDz74AEC1fqVArV8BQHIcx3EcxwFALrrooosuAkDrVwrU+pUCQKj1KwVq/QJAZZNNNtlkA0AiMW9nSMwDQN7OkJi3MwRAm2yyySabBEBYCtT6lQIFQBWo9SsFagVA0UUXXXTRBUCO4ziO4zgGQEuBWr9SoAZACB988MEHB0DEvJ0hMW8HQIFav1Kg1gdAPvjggw8+CED7lQK1fqUIQLczJObtDAlAdNFFF110CUAxb2dIzNsJQO4MiXk7QwpAq6qqqqqqCkBnSMzbGRILQCTm7QyJeQtA4YMPPvjgC0CeITFvZ0gMQFq/UqDWrwxAF1100UUXDUDU+pUCtX4NQJGYtzMk5g1ATTbZZJNNDkAK1PqVArUOQMdxHMdxHA9AhA8++OCDD0BArV8pUOsPQH+lQK1fKRBAXXTRRRddEEA7Q2LezpAQQBoS83aGxBBA+OCDDz74EEDXrxSo9SsRQLV+pUCtXxFAk0022WSTEUByHMdxHMcRQFDrVwrU+hFALrrooosuEkANiXk7Q2ISQOtXCtT6lRJAyiabbLLJEkCo9SsFav0SQIbEvJ0hMRNAZZNNNtlkE0BDYt7OkJgTQCIxb2dIzBNAAAAAAAAAFEA=",
          "dtype": "f8"
         },
         "z": {
          "bdata": "AAAAAAAAAAAAAAAAAAAAAAAAAAAAAAAAAAAAAAAAAAAAAAAAAAAAAAAAAAAAAAAAAAAAAAAAAAAAAAAAAAAAAAAAAAAAAAAAAAAAAAAAAAAAAAAAAAAAAAAAAAAAAAAAAAAAAAAAAAAAAAAAAAAAAAAAAAAAAAAAAAAAAAAAAAAAAAAAAAAAAAAAAAAAAAAAAAAAAAAAAAAAAAAAAAAAAAAAAAAAAAAAAAAAAAAAAAAAAAAAAAAAAAAAAAAAAAAAAAAAAAAAAAAAAAAAAAAAAAAAAAAAAAAAAAAAAAAAAAAAAAAAAAAAAAAAAAAAAAAAAAAAAAAAAAAAAAAAAAAAAAAAAAAAAAAAAAAAAAAAAAAAAAAAAAAAAAAAAAAAAAAAAAAAAAAAAAAAAAAAAAAAAAAAAAAAAAAAAAAAAAAAAAAAAAAAAAAAAAAAAAAAAAAAAAAAAAAAAAAAAAAAAAAAAAAAAAAAAAAAAAAAAAAAAAAAAAAAAAAAAAAAAAAAAAAAAAAAAAAAAAAAAAAAAAAAAAAAAAAAAAAAAAAAAAAAAAAAAAAAAAAAAAAAAAAAAAAAAAAAAAAAAAAAAAAAAAAAAAAAAAAAAAAAAAAAAAAAAAAAAAAAAAAAAAAAAAAAAAAAAAAAAAAAAAAAAAAAAAAAAAAAAAAAAAAAAAAAAAAAAAAAAAAAAAAAAAAAAAAAAAAAAAAAAAAAAAAAAAAAAAAAAAAAAAAAAAAAAAAAAAAAAAAAAAAAAAAAAAAAAAAAAAAAAAAAAAAAAAAAAAAAAAAAAAAAAAAAAAAAAAAAAAAAAAAAAAAAAAAAAAAAAAAAAAAAAAAAAAAAAAAAAAAAAAAAAAAAAAAAAAAAAAAAAAAAAAAAAAAAAAAAAAAAAAAAAAAAAAAAAAAAAAAAAAAAAAAAAAAAAAAAAAAAAAAAAAAAAAAAAAAAAAAAAAAAAAAAAAAAAAAAAAAAAAAAAAAAAAAAAAAAAAAAAAAAAAAAAAAAAAAAAAAAAAAAAAAAAAAAAAAAAAAAAAAAAAAAAAAAAAAAAAAAAAAAAAAAAAAAAAAAAAAAAAAAAAAAAAAAAAAAAAAAAAAAAAAAAAAAAAAAAAAAAAAAAAAAAAAAAAAAAAAAAAAAAAAAAAAAAAAAAAAAAAAAAAAAAAAAAAAAAAAAAAAAAAAAAAAAAAAAMW9nSMzbqT8xb2dIzNu5P2WTTTbZZMM/MW9nSMzbyT9/pUCtXynQP2WTTTbZZNM/S4Fav1Kg1j8xb2dIzNvZPxdddNFFF90/f6VArV8p4D9yHMdxHMfhP2WTTTbZZOM/WArU+pUC5T9LgVq/UqDmPz744IMPPug/MW9nSMzb6T8k5u0MiXnrPxdddNFFF+0/CtT6lQK17j9/pUCtXynwP/jggw8++PA/chzHcRzH8T/rVwrU+pXyP2WTTTbZZPM/3s6QmLcz9D9YCtT6lQL1P9FFF1100fU/S4Fav1Kg9j/EvJ0hMW/3Pz744IMPPvg/tzMk5u0M+T8xb2dIzNv5P6uqqqqqqvo/JObtDIl5+z+eITFvZ0j8PxdddNFFF/0/kZi3MyTm/T8K1PqVArX+P4QPPvjgg/8/f6VArV8pAEA7Q2LezpAAQPjggw8++ABAtX6lQK1fAUByHMdxHMcBQC666KKLLgJA61cK1PqVAkCo9SsFav0CQGWTTTbZZANAIjFvZ0jMA0DezpCYtzMEQJtssskmmwRAWArU+pUCBUAVqPUrBWoFQNFFF1100QVAjuM4juM4BkBLgVq/UqAGQAgffPDBBwdAxLydITFvB0CBWr9SoNYHQD744IMPPghA+5UCtX6lCEC3MyTm7QwJQHTRRRdddAlAMW9nSMzbCUDuDIl5O0MKQKuqqqqqqgpAZ0jM2xkSC0Ak5u0MiXkLQOGDDz744AtAniExb2dIDEBav1Kg1q8MQBdddNFFFw1A1PqVArV+DUCRmLczJOYNQE022WSTTQ5ACtT6lQK1DkDHcRzHcRwPQIQPPvjggw9AQK1fKVDrD0B/pUCtXykQQF100UUXXRBAO0Ni3s6QEEAaEvN2hsQQQPjggw8++BBA168UqPUrEUC1fqVArV8RQJNNNtlkkxFAchzHcRzHEUBQ61cK1PoRQC666KKLLhJADYl5O0NiEkDrVwrU+pUSQMomm2yyyRJAqPUrBWr9EkCGxLydITETQGWTTTbZZBNAQ2LezpCYE0AiMW9nSMwTQAAAAAAAABRA3s6QmLczFEC9nSExb2cUQJtssskmmxRAeTtDYt7OFEBYCtT6lQIVQDbZZJNNNhVAFaj1KwVqFUDzdobEvJ0VQNFFF1100RVAsBSo9SsFFkAAAAAAAAAAADFvZ0jM27k/MW9nSMzbyT9lk0022WTTPzFvZ0jM29k/f6VArV8p4D9lk0022WTjP0uBWr9SoOY/MW9nSMzb6T8XXXTRRRftP3+lQK1fKfA/chzHcRzH8T9lk0022WTzP1gK1PqVAvU/S4Fav1Kg9j8++OCDDz74PzFvZ0jM2/k/JObtDIl5+z8XXXTRRRf9PwrU+pUCtf4/f6VArV8pAED44IMPPvgAQHIcx3EcxwFA61cK1PqVAkBlk0022WQDQN7OkJi3MwRAWArU+pUCBUDRRRdddNEFQEuBWr9SoAZAxLydITFvB0A++OCDDz4IQLczJObtDAlAMW9nSMzbCUCrqqqqqqoKQCTm7QyJeQtAniExb2dIDEAXXXTRRRcNQJGYtzMk5g1ACtT6lQK1DkCEDz744IMPQH+lQK1fKRBAO0Ni3s6QEED44IMPPvgQQLV+pUCtXxFAchzHcRzHEUAuuuiiiy4SQOtXCtT6lRJAqPUrBWr9EkBlk0022WQTQCIxb2dIzBNA3s6QmLczFECbbLLJJpsUQFgK1PqVAhVAFaj1KwVqFUDRRRdddNEVQI7jOI7jOBZAS4Fav1KgFkAIH3zwwQcXQMS8nSExbxdAgVq/UqDWF0A++OCDDz4YQPuVArV+pRhAtzMk5u0MGUB00UUXXXQZQDFvZ0jM2xlA7gyJeTtDGkCrqqqqqqoaQGdIzNsZEhtAJObtDIl5G0Dhgw8++OAbQJ4hMW9nSBxAWr9SoNavHEAXXXTRRRcdQNT6lQK1fh1AkZi3MyTmHUBNNtlkk00eQArU+pUCtR5Ax3Ecx3EcH0CEDz744IMfQECtXylQ6x9Af6VArV8pIEBddNFFF10gQDtDYt7OkCBAGhLzdobEIED44IMPPvggQNevFKj1KyFAtX6lQK1fIUCTTTbZZJMhQHIcx3EcxyFAUOtXCtT6IUAuuuiiiy4iQA2JeTtDYiJA61cK1PqVIkDKJptssskiQKj1KwVq/SJAhsS8nSExI0Blk0022WQjQENi3s6QmCNAIjFvZ0jMI0AAAAAAAAAkQN7OkJi3MyRAvZ0hMW9nJECbbLLJJpskQHk7Q2LeziRAWArU+pUCJUA22WSTTTYlQBWo9SsFaiVA83aGxLydJUDRRRdddNElQLAUqPUrBSZAAAAAAAAAAABlk0022WTDP2WTTTbZZNM/GF100UUX3T9lk0022WTjPz744IMPPug/GF100UUX7T/44IMPPvjwP2WTTTbZZPM/0kUXXXTR9T8++OCDDz74P6uqqqqqqvo/GF100UUX/T+EDz744IP/P/jggw8++ABAL7rooosuAkBlk0022WQDQJtssskmmwRA0kUXXXTRBUAIH3zwwQcHQD744IMPPghAddFFF110CUCrqqqqqqoKQOGDDz744AtAGF100UUXDUBONtlkk00OQIQPPvjggw9AXXTRRRddEED44IMPPvgQQJRNNtlkkxFAL7rooosuEkDKJptssskSQGWTTTbZZBNAAAAAAAAAFECbbLLJJpsUQDbZZJNNNhVA0kUXXXTRFUBtsskmm2wWQAgffPDBBxdAo4suuuiiF0A++OCDDz4YQNlkk0022RhAddFFF110GUAQPvjggw8aQKuqqqqqqhpARhdddNFFG0Dhgw8++OAbQHzwwQcffBxAGF100UUXHUCzySabbLIdQE422WSTTR5A6aKLLrroHkCEDz744IMfQBA++OCDDyBAXXTRRRddIECrqqqqqqogQPjggw8++CBARhdddNFFIUCUTTbZZJMhQOGDDz744CFAL7rooosuIkB88MEHH3wiQMomm2yyySJAF1100UUXI0Blk0022WQjQLPJJptssiNAAAAAAAAAJEBONtlkk00kQJtssskmmyRA6aKLLrroJEA22WSTTTYlQIQPPvjggyVA0kUXXXTRJUAffPDBBx8mQG2yySabbCZAuuiiiy66JkAIH3zwwQcnQFZVVVVVVSdAo4suuuiiJ0DxwQcffPAnQD744IMPPihAjC666KKLKEDZZJNNNtkoQCebbLLJJilAddFFF110KUDCBx988MEpQBA++OCDDypAXXTRRRddKkCrqqqqqqoqQPjggw8++CpARhdddNFFK0CUTTbZZJMrQOGDDz744CtAL7rooosuLEB88MEHH3wsQMomm2yyySxAGF100UUXLUBlk0022WQtQLPJJptssi1AAAAAAAAALkBONtlkk00uQJtssskmmy5A6aKLLrroLkA32WSTTTYvQIQPPvjggy9A0kUXXXTRL0AQPvjggw8wQDbZZJNNNjBAXXTRRRddMECEDz744IMwQAAAAAAAAAAAMW9nSMzbyT8xb2dIzNvZP2WTTTbZZOM/MW9nSMzb6T9/pUCtXynwP2WTTTbZZPM/S4Fav1Kg9j8xb2dIzNv5PxdddNFFF/0/f6VArV8pAEByHMdxHMcBQGWTTTbZZANAWArU+pUCBUBLgVq/UqAGQD744IMPPghAMW9nSMzbCUAk5u0MiXkLQBdddNFFFw1ACtT6lQK1DkB/pUCtXykQQPjggw8++BBAchzHcRzHEUDrVwrU+pUSQGWTTTbZZBNA3s6QmLczFEBYCtT6lQIVQNFFF1100RVAS4Fav1KgFkDEvJ0hMW8XQD744IMPPhhAtzMk5u0MGUAxb2dIzNsZQKuqqqqqqhpAJObtDIl5G0CeITFvZ0gcQBdddNFFFx1AkZi3MyTmHUAK1PqVArUeQIQPPvjggx9Af6VArV8pIEA7Q2LezpAgQPjggw8++CBAtX6lQK1fIUByHMdxHMchQC666KKLLiJA61cK1PqVIkCo9SsFav0iQGWTTTbZZCNAIjFvZ0jMI0DezpCYtzMkQJtssskmmyRAWArU+pUCJUAVqPUrBWolQNFFF1100SVAjuM4juM4JkBLgVq/UqAmQAgffPDBBydAxLydITFvJ0CBWr9SoNYnQD744IMPPihA+5UCtX6lKEC3MyTm7QwpQHTRRRdddClAMW9nSMzbKUDuDIl5O0MqQKuqqqqqqipAZ0jM2xkSK0Ak5u0MiXkrQOGDDz744CtAniExb2dILEBav1Kg1q8sQBdddNFFFy1A1PqVArV+LUCRmLczJOYtQE022WSTTS5ACtT6lQK1LkDHcRzHcRwvQIQPPvjggy9AQK1fKVDrL0B/pUCtXykwQF100UUXXTBAO0Ni3s6QMEAaEvN2hsQwQPjggw8++DBA168UqPUrMUC1fqVArV8xQJNNNtlkkzFAchzHcRzHMUBQ61cK1PoxQC666KKLLjJADYl5O0NiMkDrVwrU+pUyQMomm2yyyTJAqPUrBWr9MkCGxLydITEzQGWTTTbZZDNAQ2LezpCYM0AiMW9nSMwzQAAAAAAAADRA3s6QmLczNEC9nSExb2c0QJtssskmmzRAeTtDYt7ONEBYCtT6lQI1QDbZZJNNNjVAFaj1KwVqNUDzdobEvJ01QNFFF1100TVAsBSo9SsFNkAAAAAAAAAAAH+lQK1fKdA/f6VArV8p4D8++OCDDz7oP3+lQK1fKfA/386QmLcz9D8++OCDDz74P54hMW9nSPw/f6VArV8pAEAvuuiiiy4CQN/OkJi3MwRAj+M4juM4BkA++OCDDz4IQO4MiXk7QwpAniExb2dIDEBONtlkk00OQH+lQK1fKRBA168UqPUrEUAvuuiiiy4SQIfEvJ0hMRNA386QmLczFEA32WSTTTYVQI/jOI7jOBZA5+0MiXk7F0A++OCDDz4YQJYCtX6lQBlA7gyJeTtDGkBGF1100UUbQJ4hMW9nSBxA9isFav1KHUBONtlkk00eQKZArV8pUB9Af6VArV8pIECrqqqqqqogQNevFKj1KyFAA7V+pUCtIUAvuuiiiy4iQFu/UqDWryJAh8S8nSExI0CzySabbLIjQN/OkJi3MyRAC9T6lQK1JEA32WSTTTYlQGPezpCYtyVAj+M4juM4JkC76KKLLromQOftDIl5OydAE/N2hsS8J0A++OCDDz4oQGr9SoFavyhAlgK1fqVAKUDCBx988MEpQO4MiXk7QypAGhLzdobEKkBGF1100UUrQHIcx3EcxytAniExb2dILEDKJptsssksQPYrBWr9Si1AIjFvZ0jMLUBONtlkk00uQHo7Q2Lezi5ApkCtXylQL0DSRRdddNEvQH+lQK1fKTBAFaj1KwVqMECrqqqqqqowQEGtXylQ6zBA168UqPUrMUBtsskmm2wxQAO1fqVArTFAmbczJObtMUAvuuiiiy4yQMW8nSExbzJAW79SoNavMkDxwQcffPAyQIfEvJ0hMTNAHcdxHMdxM0CzySabbLIzQEnM2xkS8zNA386QmLczNEB10UUXXXQ0QAvU+pUCtTRAodavFKj1NEA32WSTTTY1QM3bGRLzdjVAY97OkJi3NUD54IMPPvg1QI/jOI7jODZAJebtDIl5NkC76KKLLro2QFHrVwrU+jZA5+0MiXk7N0B98MEHH3w3QBPzdobEvDdAqfUrBWr9N0A++OCDDz44QNT6lQK1fjhAav1KgVq/OEAAAAAAAAA5QJYCtX6lQDlALAVq/UqBOUDCBx988ME5QFgK1PqVAjpA7gyJeTtDOkCEDz744IM6QBoS83aGxDpAsBSo9SsFO0BGF1100UU7QNwZEvN2hjtAAAAAAAAAAABlk0022WTTP2WTTTbZZOM/GF100UUX7T9lk0022WTzPz744IMPPvg/GF100UUX/T/44IMPPvgAQGWTTTbZZANA0kUXXXTRBUA++OCDDz4IQKuqqqqqqgpAGF100UUXDUCEDz744IMPQPjggw8++BBAL7rooosuEkBlk0022WQTQJtssskmmxRA0kUXXXTRFUAIH3zwwQcXQD744IMPPhhAddFFF110GUCrqqqqqqoaQOGDDz744BtAGF100UUXHUBONtlkk00eQIQPPvjggx9AXXTRRRddIED44IMPPvggQJRNNtlkkyFAL7rooosuIkDKJptssskiQGWTTTbZZCNAAAAAAAAAJECbbLLJJpskQDbZZJNNNiVA0kUXXXTRJUBtsskmm2wmQAgffPDBBydAo4suuuiiJ0A++OCDDz4oQNlkk0022ShAddFFF110KUAQPvjggw8qQKuqqqqqqipARhdddNFFK0Dhgw8++OArQHzwwQcffCxAGF100UUXLUCzySabbLItQE422WSTTS5A6aKLLrroLkCEDz744IMvQBA++OCDDzBAXXTRRRddMECrqqqqqqowQPjggw8++DBARhdddNFFMUCUTTbZZJMxQOGDDz744DFAL7rooosuMkB88MEHH3wyQMomm2yyyTJAF1100UUXM0Blk0022WQzQLPJJptssjNAAAAAAAAANEBONtlkk000QJtssskmmzRA6aKLLrroNEA22WSTTTY1QIQPPvjggzVA0kUXXXTRNUAffPDBBx82QG2yySabbDZAuuiiiy66NkAIH3zwwQc3QFZVVVVVVTdAo4suuuiiN0DxwQcffPA3QD744IMPPjhAjC666KKLOEDZZJNNNtk4QCebbLLJJjlAddFFF110OUDCBx988ME5QBA++OCDDzpAXXTRRRddOkCrqqqqqqo6QPjggw8++DpARhdddNFFO0CUTTbZZJM7QOGDDz744DtAL7rooosuPEB88MEHH3w8QMomm2yyyTxAGF100UUXPUBlk0022WQ9QLPJJptssj1AAAAAAAAAPkBONtlkk00+QJtssskmmz5A6aKLLrroPkA32WSTTTY/QIQPPvjggz9A0kUXXXTRP0AQPvjggw9AQDbZZJNNNkBAXXTRRRddQECEDz744INAQAAAAAAAAAAAS4Fav1Kg1j9LgVq/UqDmP/jggw8++PA/S4Fav1Kg9j+eITFvZ0j8P/jggw8++ABAIjFvZ0jMA0BLgVq/UqAGQHTRRRdddAlAniExb2dIDEDHcRzHcRwPQPjggw8++BBADYl5O0NiEkAiMW9nSMwTQDbZZJNNNhVAS4Fav1KgFkBgKVDrVwoYQHTRRRdddBlAiXk7Q2LeGkCeITFvZ0gcQLLJJptssh1Ax3Ecx3EcH0DuDIl5O0MgQPjggw8++CBAA7V+pUCtIUANiXk7Q2IiQBdddNFFFyNAIjFvZ0jMI0AsBWr9SoEkQDbZZJNNNiVAQa1fKVDrJUBLgVq/UqAmQFVVVVVVVSdAYClQ61cKKEBq/UqBWr8oQHTRRRdddClAf6VArV8pKkCJeTtDYt4qQJNNNtlkkytAniExb2dILECo9SsFav0sQLLJJptssi1AvZ0hMW9nLkDHcRzHcRwvQNFFF1100S9A7gyJeTtDMEDzdobEvJ0wQPjggw8++DBA/UqBWr9SMUADtX6lQK0xQAgffPDBBzJADYl5O0NiMkAS83aGxLwyQBdddNFFFzNAHMdxHMdxM0AiMW9nSMwzQCebbLLJJjRALAVq/UqBNEAxb2dIzNs0QDbZZJNNNjVAO0Ni3s6QNUBBrV8pUOs1QEYXXXTRRTZAS4Fav1KgNkBQ61cK1Po2QFVVVVVVVTdAW79SoNavN0BgKVDrVwo4QGWTTTbZZDhAav1KgVq/OEBvZ0jM2xk5QHTRRRdddDlAejtDYt7OOUB/pUCtXyk6QIQPPvjggzpAiXk7Q2LeOkCO4ziO4zg7QJNNNtlkkztAmbczJObtO0CeITFvZ0g8QKOLLrroojxAqPUrBWr9PECtXylQ61c9QLLJJptssj1AuDMk5u0MPkC9nSExb2c+QMIHH3zwwT5Ax3Ecx3EcP0DM2xkS83Y/QNFFF1100T9A61cK1PoVQEDuDIl5O0NAQPDBBx98cEBA83aGxLydQED2KwVq/cpAQPjggw8++EBA+5UCtX4lQUD9SoFav1JBQAAAAAAAgEFAA7V+pUCtQUAFav1KgdpBQAgffPDBB0JACtT6lQI1QkANiXk7Q2JCQBA++OCDj0JAEvN2hsS8QkAVqPUrBepCQBdddNFFF0NAGhLzdoZEQ0AAAAAAAAAAADFvZ0jM29k/MW9nSMzb6T9lk0022WTzPzFvZ0jM2/k/f6VArV8pAEBlk0022WQDQEuBWr9SoAZAMW9nSMzbCUAXXXTRRRcNQH+lQK1fKRBAchzHcRzHEUBlk0022WQTQFgK1PqVAhVAS4Fav1KgFkA++OCDDz4YQDFvZ0jM2xlAJObtDIl5G0AXXXTRRRcdQArU+pUCtR5Af6VArV8pIED44IMPPvggQHIcx3EcxyFA61cK1PqVIkBlk0022WQjQN7OkJi3MyRAWArU+pUCJUDRRRdddNElQEuBWr9SoCZAxLydITFvJ0A++OCDDz4oQLczJObtDClAMW9nSMzbKUCrqqqqqqoqQCTm7QyJeStAniExb2dILEAXXXTRRRctQJGYtzMk5i1ACtT6lQK1LkCEDz744IMvQH+lQK1fKTBAO0Ni3s6QMED44IMPPvgwQLV+pUCtXzFAchzHcRzHMUAuuuiiiy4yQOtXCtT6lTJAqPUrBWr9MkBlk0022WQzQCIxb2dIzDNA3s6QmLczNECbbLLJJps0QFgK1PqVAjVAFaj1KwVqNUDRRRdddNE1QI7jOI7jODZAS4Fav1KgNkAIH3zwwQc3QMS8nSExbzdAgVq/UqDWN0A++OCDDz44QPuVArV+pThAtzMk5u0MOUB00UUXXXQ5QDFvZ0jM2zlA7gyJeTtDOkCrqqqqqqo6QGdIzNsZEjtAJObtDIl5O0Dhgw8++OA7QJ4hMW9nSDxAWr9SoNavPEAXXXTRRRc9QNT6lQK1fj1AkZi3MyTmPUBNNtlkk00+QArU+pUCtT5Ax3Ecx3EcP0CEDz744IM/QECtXylQ6z9Af6VArV8pQEBddNFFF11AQDtDYt7OkEBAGhLzdobEQED44IMPPvhAQNevFKj1K0FAtX6lQK1fQUCTTTbZZJNBQHIcx3Ecx0FAUOtXCtT6QUAuuuiiiy5CQA2JeTtDYkJA61cK1PqVQkDKJptssslCQKj1KwVq/UJAhsS8nSExQ0Blk0022WRDQENi3s6QmENAIjFvZ0jMQ0AAAAAAAABEQN7OkJi3M0RAvZ0hMW9nRECbbLLJJptEQHk7Q2LezkRAWArU+pUCRUA22WSTTTZFQBWo9SsFakVA83aGxLydRUDRRRdddNFFQLAUqPUrBUZAAAAAAAAAAAAXXXTRRRfdPxdddNFFF+0/0UUXXXTR9T8XXXTRRRf9Py666KKLLgJA0UUXXXTRBUB00UUXXXQJQBdddNFFFw1AXXTRRRddEEAuuuiiiy4SQAAAAAAAABRA0UUXXXTRFUCjiy666KIXQHTRRRdddBlARhdddNFFG0AXXXTRRRcdQOiiiy666B5AXXTRRRddIEBGF1100UUhQC666KKLLiJAF1100UUXI0AAAAAAAAAkQOmiiy666CRA0UUXXXTRJUC66KKLLromQKOLLrrooidAiy666KKLKEB00UUXXXQpQF100UUXXSpARhdddNFFK0Auuuiiiy4sQBdddNFFFy1AAAAAAAAALkDooosuuuguQNFFF1100S9AXXTRRRddMEDRRRdddNEwQEYXXXTRRTFAuuiiiy66MUAuuuiiiy4yQKOLLrroojJAF1100UUXM0CLLrroooszQAAAAAAAADRAdNFFF110NEDpoosuuug0QF100UUXXTVA0UUXXXTRNUBGF1100UU2QLrooosuujZALrrooosuN0Cjiy666KI3QBdddNFFFzhAiy666KKLOEAAAAAAAAA5QHTRRRdddDlA6KKLLrroOUBddNFFF106QNFFF1100TpARhdddNFFO0C66KKLLro7QC666KKLLjxAo4suuuiiPEAXXXTRRRc9QIsuuuiiiz1AAAAAAAAAPkB00UUXXXQ+QOiiiy666D5AXXTRRRddP0DRRRdddNE/QKOLLrroIkBAXXTRRRddQEAXXXTRRZdAQNFFF1100UBAiy666KILQUBGF1100UVBQAAAAAAAgEFAuuiiiy66QUB00UUXXfRBQC666KKLLkJA6aKLLrpoQkCjiy666KJCQF100UUX3UJAF1100UUXQ0DRRRdddFFDQIsuuuiii0NARhdddNHFQ0AAAAAAAABEQLrooosuOkRAdNFFF110REAuuuiii65EQOmiiy666ERAo4suuugiRUBddNFFF11FQBdddNFFl0VA0UUXXXTRRUCLLrroogtGQEYXXXTRRUZAAAAAAACARkC66KKLLrpGQHTRRRdd9EZALrrooosuR0DpoosuumhHQKOLLrrookdAXXTRRRfdR0AXXXTRRRdIQNFFF110UUhAiy666KKLSEBGF1100cVIQAAAAAAAAAAAf6VArV8p4D9/pUCtXynwPz744IMPPvg/f6VArV8pAEDfzpCYtzMEQD744IMPPghAniExb2dIDEB/pUCtXykQQC+66KKLLhJA386QmLczFECP4ziO4zgWQD744IMPPhhA7gyJeTtDGkCeITFvZ0gcQE422WSTTR5Af6VArV8pIEDXrxSo9SshQC+66KKLLiJAh8S8nSExI0DfzpCYtzMkQDfZZJNNNiVAj+M4juM4JkDn7QyJeTsnQD744IMPPihAlgK1fqVAKUDuDIl5O0MqQEYXXXTRRStAniExb2dILED2KwVq/UotQE422WSTTS5ApkCtXylQL0B/pUCtXykwQKuqqqqqqjBA168UqPUrMUADtX6lQK0xQC+66KKLLjJAW79SoNavMkCHxLydITEzQLPJJptssjNA386QmLczNEAL1PqVArU0QDfZZJNNNjVAY97OkJi3NUCP4ziO4zg2QLvooosuujZA5+0MiXk7N0AT83aGxLw3QD744IMPPjhAav1KgVq/OECWArV+pUA5QMIHH3zwwTlA7gyJeTtDOkAaEvN2hsQ6QEYXXXTRRTtAchzHcRzHO0CeITFvZ0g8QMomm2yyyTxA9isFav1KPUAiMW9nSMw9QE422WSTTT5AejtDYt7OPkCmQK1fKVA/QNJFF1100T9Af6VArV8pQEAVqPUrBWpAQKuqqqqqqkBAQa1fKVDrQEDXrxSo9StBQG2yySabbEFAA7V+pUCtQUCZtzMk5u1BQC+66KKLLkJAxbydITFvQkBbv1Kg1q9CQPHBBx988EJAh8S8nSExQ0Adx3Ecx3FDQLPJJptsskNASczbGRLzQ0DfzpCYtzNEQHXRRRdddERAC9T6lQK1RECh1q8UqPVEQDfZZJNNNkVAzdsZEvN2RUBj3s6QmLdFQPnggw8++EVAj+M4juM4RkAl5u0MiXlGQLvooosuukZAUetXCtT6RkDn7QyJeTtHQH3wwQcffEdAE/N2hsS8R0Cp9SsFav1HQD744IMPPkhA1PqVArV+SEBq/UqBWr9IQAAAAAAAAElAlgK1fqVASUAsBWr9SoFJQMIHH3zwwUlAWArU+pUCSkDuDIl5O0NKQIQPPvjgg0pAGhLzdobESkCwFKj1KwVLQEYXXXTRRUtA3BkS83aGS0AAAAAAAAAAAHIcx3Ecx+E/chzHcRzH8T+rqqqqqqr6P3Icx3EcxwFAjuM4juM4BkCrqqqqqqoKQMhxHMdxHA9AchzHcRzHEUAAAAAAAAAUQI7jOI7jOBZAHcdxHMdxGECrqqqqqqoaQDmO4ziO4xxAyHEcx3EcH0CrqqqqqqogQHIcx3EcxyFAOY7jOI7jIkAAAAAAAAAkQMdxHMdxHCVAjuM4juM4JkBWVVVVVVUnQB3HcRzHcShA5DiO4ziOKUCrqqqqqqoqQHIcx3EcxytAOY7jOI7jLEAAAAAAAAAuQMhxHMdxHC9Ax3Ecx3EcMECrqqqqqqowQI7jOI7jODFAchzHcRzHMUBWVVVVVVUyQDmO4ziO4zJAHcdxHMdxM0AAAAAAAAA0QOQ4juM4jjRAx3Ecx3EcNUCrqqqqqqo1QI7jOI7jODZAchzHcRzHNkBWVVVVVVU3QDmO4ziO4zdAHcdxHMdxOEAAAAAAAAA5QOQ4juM4jjlAx3Ecx3EcOkCrqqqqqqo6QI/jOI7jODtAchzHcRzHO0BWVVVVVVU8QDmO4ziO4zxAHcdxHMdxPUAAAAAAAAA+QOQ4juM4jj5AyHEcx3EcP0Crqqqqqqo/QMdxHMdxHEBAOY7jOI5jQECrqqqqqqpAQB3HcRzH8UBAjuM4juM4QUAAAAAAAIBBQHIcx3Ecx0FA5DiO4zgOQkBWVVVVVVVCQMdxHMdxnEJAOY7jOI7jQkCrqqqqqipDQB3HcRzHcUNAjuM4juO4Q0AAAAAAAABEQHIcx3EcR0RA5DiO4ziOREBWVVVVVdVEQMdxHMdxHEVAOY7jOI5jRUCrqqqqqqpFQB3HcRzH8UVAjuM4juM4RkAAAAAAAIBGQHIcx3Ecx0ZA5DiO4zgOR0BWVVVVVVVHQMdxHMdxnEdAOY7jOI7jR0CrqqqqqipIQB3HcRzHcUhAj+M4juO4SEAAAAAAAABJQHIcx3EcR0lA5DiO4ziOSUBWVVVVVdVJQMdxHMdxHEpAOY7jOI5jSkCrqqqqqqpKQB3HcRzH8UpAj+M4juM4S0AAAAAAAIBLQHIcx3Ecx0tA5DiO4zgOTEBWVVVVVVVMQMdxHMdxnExAOY7jOI7jTECrqqqqqipNQB3HcRzHcU1Aj+M4juO4TUAAAAAAAABOQHIcx3EcR05AAAAAAAAAAABlk0022WTjP2WTTTbZZPM/GF100UUX/T9lk0022WQDQD744IMPPghAGF100UUXDUD44IMPPvgQQGWTTTbZZBNA0kUXXXTRFUA++OCDDz4YQKuqqqqqqhpAGF100UUXHUCEDz744IMfQPjggw8++CBAL7rooosuIkBlk0022WQjQJtssskmmyRA0kUXXXTRJUAIH3zwwQcnQD744IMPPihAddFFF110KUCrqqqqqqoqQOGDDz744CtAGF100UUXLUBONtlkk00uQIQPPvjggy9AXXTRRRddMED44IMPPvgwQJRNNtlkkzFAL7rooosuMkDKJptssskyQGWTTTbZZDNAAAAAAAAANECbbLLJJps0QDbZZJNNNjVA0kUXXXTRNUBtsskmm2w2QAgffPDBBzdAo4suuuiiN0A++OCDDz44QNlkk0022ThAddFFF110OUAQPvjggw86QKuqqqqqqjpARhdddNFFO0Dhgw8++OA7QHzwwQcffDxAGF100UUXPUCzySabbLI9QE422WSTTT5A6aKLLrroPkCEDz744IM/QBA++OCDD0BAXXTRRRddQECrqqqqqqpAQPjggw8++EBARhdddNFFQUCUTTbZZJNBQOGDDz744EFAL7rooosuQkB88MEHH3xCQMomm2yyyUJAF1100UUXQ0Blk0022WRDQLPJJptsskNAAAAAAAAAREBONtlkk01EQJtssskmm0RA6aKLLrroREA22WSTTTZFQIQPPvjgg0VA0kUXXXTRRUAffPDBBx9GQG2yySabbEZAuuiiiy66RkAIH3zwwQdHQFZVVVVVVUdAo4suuuiiR0DxwQcffPBHQD744IMPPkhAjC666KKLSEDZZJNNNtlIQCebbLLJJklAddFFF110SUDCBx988MFJQBA++OCDD0pAXXTRRRddSkCrqqqqqqpKQPjggw8++EpARhdddNFFS0CUTTbZZJNLQOGDDz744EtAL7rooosuTEB88MEHH3xMQMomm2yyyUxAGF100UUXTUBlk0022WRNQLPJJptssk1AAAAAAAAATkBONtlkk01OQJtssskmm05A6aKLLrroTkA32WSTTTZPQIQPPvjgg09A0kUXXXTRT0AQPvjggw9QQDbZZJNNNlBAXXTRRRddUECEDz744INQQAAAAAAAAAAAWArU+pUC5T9YCtT6lQL1P4QPPvjgg/8/WArU+pUCBUDuDIl5O0MKQIQPPvjggw9ADYl5O0NiEkBYCtT6lQIVQKOLLrroohdA7gyJeTtDGkA5juM4juMcQIQPPvjggx9AaEjM2xkSIUANiXk7Q2IiQLLJJptssiNAWArU+pUCJUD+SoFav1ImQKOLLrrooidASMzbGRLzKEDuDIl5O0MqQJRNNtlkkytAOY7jOI7jLEDezpCYtzMuQIQPPvjggy9AFaj1KwVqMEBoSMzbGRIxQLrooosuujFADYl5O0NiMkBgKVDrVwozQLLJJptssjNABWr9SoFaNEBYCtT6lQI1QKuqqqqqqjVA/kqBWr9SNkBQ61cK1Po2QKOLLrroojdA9isFav1KOEBIzNsZEvM4QJtssskmmzlA7gyJeTtDOkBBrV8pUOs6QJRNNtlkkztA5u0MiXk7PEA5juM4juM8QIwuuuiiiz1A3s6QmLczPkAxb2dIzNs+QIQPPvjggz9A61cK1PoVQEAVqPUrBWpAQD744IMPvkBAaEjM2xkSQUCRmLczJGZBQLrooosuukFA5DiO4zgOQkANiXk7Q2JCQDbZZJNNtkJAYClQ61cKQ0CJeTtDYl5DQLLJJptsskNA3BkS83YGREAFav1KgVpEQC+66KKLrkRAWArU+pUCRUCBWr9SoFZFQKuqqqqqqkVA1PqVArX+RUD+SoFav1JGQCebbLLJpkZAUOtXCtT6RkB6O0Ni3k5HQKOLLrrookdAzNsZEvP2R0D2KwVq/UpIQB988MEHn0hASMzbGRLzSEByHMdxHEdJQJtssskmm0lAxbydITHvSUDuDIl5O0NKQBdddNFFl0pAQa1fKVDrSkBq/UqBWj9LQJRNNtlkk0tAvZ0hMW/nS0Dm7QyJeTtMQBA++OCDj0xAOY7jOI7jTEBi3s6QmDdNQIwuuuiii01AtX6lQK3fTUDezpCYtzNOQAgffPDBh05AMW9nSMzbTkBbv1Kg1i9PQIQPPvjgg09ArV8pUOvXT0DrVwrU+hVQQAAAAAAAQFBAFaj1KwVqUEApUOtXCpRQQD744IMPvlBAU6DWrxToUEBoSMzbGRJRQHzwwQcfPFFAkZi3MyRmUUCmQK1fKZBRQLrooosuulFAz5CYtzPkUUAAAAAAAAAAAEuBWr9SoOY/S4Fav1Kg9j/44IMPPvgAQEuBWr9SoAZAniExb2dIDED44IMPPvgQQCIxb2dIzBNAS4Fav1KgFkB00UUXXXQZQJ4hMW9nSBxAx3Ecx3EcH0D44IMPPvggQA2JeTtDYiJAIjFvZ0jMI0A22WSTTTYlQEuBWr9SoCZAYClQ61cKKEB00UUXXXQpQIl5O0Ni3ipAniExb2dILECyySabbLItQMdxHMdxHC9A7gyJeTtDMED44IMPPvgwQAO1fqVArTFADYl5O0NiMkAXXXTRRRczQCIxb2dIzDNALAVq/UqBNEA22WSTTTY1QEGtXylQ6zVAS4Fav1KgNkBVVVVVVVU3QGApUOtXCjhAav1KgVq/OEB00UUXXXQ5QH+lQK1fKTpAiXk7Q2LeOkCTTTbZZJM7QJ4hMW9nSDxAqPUrBWr9PECyySabbLI9QL2dITFvZz5Ax3Ecx3EcP0DRRRdddNE/QO4MiXk7Q0BA83aGxLydQED44IMPPvhAQP1KgVq/UkFAA7V+pUCtQUAIH3zwwQdCQA2JeTtDYkJAEvN2hsS8QkAXXXTRRRdDQBzHcRzHcUNAIjFvZ0jMQ0Anm2yyySZEQCwFav1KgURAMW9nSMzbREA22WSTTTZFQDtDYt7OkEVAQa1fKVDrRUBGF1100UVGQEuBWr9SoEZAUOtXCtT6RkBVVVVVVVVHQFu/UqDWr0dAYClQ61cKSEBlk0022WRIQGr9SoFav0hAb2dIzNsZSUB00UUXXXRJQHo7Q2LezklAf6VArV8pSkCEDz744INKQIl5O0Ni3kpAjuM4juM4S0CTTTbZZJNLQJm3MyTm7UtAniExb2dITECjiy666KJMQKj1KwVq/UxArV8pUOtXTUCyySabbLJNQLgzJObtDE5AvZ0hMW9nTkDCBx988MFOQMdxHMdxHE9AzNsZEvN2T0DRRRdddNFPQOtXCtT6FVBA7gyJeTtDUEDwwQcffHBQQPN2hsS8nVBA9isFav3KUED44IMPPvhQQPuVArV+JVFA/UqBWr9SUUAAAAAAAIBRQAO1fqVArVFABWr9SoHaUUAIH3zwwQdSQArU+pUCNVJADYl5O0NiUkAQPvjgg49SQBLzdobEvFJAFaj1KwXqUkAXXXTRRRdTQBoS83aGRFNAAAAAAAAAAAA++OCDDz7oPz744IMPPvg/LrrooosuAkA++OCDDz4IQE422WSTTQ5ALrrooosuEkA22WSTTTYVQD744IMPPhhARhdddNFFG0BONtlkk00eQKuqqqqqqiBALrrooosuIkCyySabbLIjQDbZZJNNNiVAuuiiiy66JkA++OCDDz4oQMIHH3zwwSlARhdddNFFK0DKJptsssksQE422WSTTS5A0UUXXXTRL0CrqqqqqqowQG2yySabbDFALrrooosuMkDwwQcffPAyQLLJJptssjNAdNFFF110NEA22WSTTTY1QPjggw8++DVAuuiiiy66NkB88MEHH3w3QD744IMPPjhAAAAAAAAAOUDCBx988ME5QIQPPvjggzpARhdddNFFO0AIH3zwwQc8QMomm2yyyTxAjC666KKLPUBONtlkk00+QA8++OCDDz9A0UUXXXTRP0DKJptssklAQKuqqqqqqkBAjC666KILQUBtsskmm2xBQE422WSTzUFALrrooosuQkAPPvjgg49CQPDBBx988EJA0UUXXXRRQ0CyySabbLJDQJNNNtlkE0RAdNFFF110REBVVVVVVdVEQDbZZJNNNkVAF1100UWXRUD44IMPPvhFQNlkk002WUZAuuiiiy66RkCbbLLJJhtHQHzwwQcffEdAXXTRRRfdR0A++OCDDz5IQB988MEHn0hAAAAAAAAASUDhgw8++GBJQMIHH3zwwUlAo4suuugiSkCEDz744INKQGWTTTbZ5EpARhdddNFFS0Anm2yyyaZLQAgffPDBB0xA6aKLLrpoTEDKJptssslMQKuqqqqqKk1AjC666KKLTUBtsskmm+xNQE422WSTTU5ALrrooouuTkAPPvjggw9PQPDBBx98cE9A0UUXXXTRT0DZZJNNNhlQQMomm2yySVBAuuiiiy56UECrqqqqqqpQQJtssskm21BAjC666KILUUB88MEHHzxRQG2yySabbFFAXXTRRRedUUBONtlkk81RQD744IMP/lFALrrooosuUkAffPDBB19SQA8++OCDj1JAAAAAAADAUkDwwQcffPBSQOGDDz74IFNA0UUXXXRRU0DCBx988IFTQLLJJptsslNAo4suuujiU0CTTTbZZBNUQIQPPvjgQ1RAdNFFF110VEBlk0022aRUQAAAAAAAAAAAMW9nSMzb6T8xb2dIzNv5P2WTTTbZZANAMW9nSMzbCUB/pUCtXykQQGWTTTbZZBNAS4Fav1KgFkAxb2dIzNsZQBdddNFFFx1Af6VArV8pIEByHMdxHMchQGWTTTbZZCNAWArU+pUCJUBLgVq/UqAmQD744IMPPihAMW9nSMzbKUAk5u0MiXkrQBdddNFFFy1ACtT6lQK1LkB/pUCtXykwQPjggw8++DBAchzHcRzHMUDrVwrU+pUyQGWTTTbZZDNA3s6QmLczNEBYCtT6lQI1QNFFF1100TVAS4Fav1KgNkDEvJ0hMW83QD744IMPPjhAtzMk5u0MOUAxb2dIzNs5QKuqqqqqqjpAJObtDIl5O0CeITFvZ0g8QBdddNFFFz1AkZi3MyTmPUAK1PqVArU+QIQPPvjggz9Af6VArV8pQEA7Q2LezpBAQPjggw8++EBAtX6lQK1fQUByHMdxHMdBQC666KKLLkJA61cK1PqVQkCo9SsFav1CQGWTTTbZZENAIjFvZ0jMQ0DezpCYtzNEQJtssskmm0RAWArU+pUCRUAVqPUrBWpFQNFFF1100UVAjuM4juM4RkBLgVq/UqBGQAgffPDBB0dAxLydITFvR0CBWr9SoNZHQD744IMPPkhA+5UCtX6lSEC3MyTm7QxJQHTRRRdddElAMW9nSMzbSUDuDIl5O0NKQKuqqqqqqkpAZ0jM2xkSS0Ak5u0MiXlLQOGDDz744EtAniExb2dITEBav1Kg1q9MQBdddNFFF01A1PqVArV+TUCRmLczJOZNQE022WSTTU5ACtT6lQK1TkDHcRzHcRxPQIQPPvjgg09AQK1fKVDrT0B/pUCtXylQQF100UUXXVBAO0Ni3s6QUEAaEvN2hsRQQPjggw8++FBA168UqPUrUUC1fqVArV9RQJNNNtlkk1FAchzHcRzHUUBQ61cK1PpRQC666KKLLlJADYl5O0NiUkDrVwrU+pVSQMomm2yyyVJAqPUrBWr9UkCGxLydITFTQGWTTTbZZFNAQ2LezpCYU0AiMW9nSMxTQAAAAAAAAFRA3s6QmLczVEC9nSExb2dUQJtssskmm1RAeTtDYt7OVEBYCtT6lQJVQDbZZJNNNlVAFaj1KwVqVUDzdobEvJ1VQNFFF1100VVAsBSo9SsFVkAAAAAAAAAAACTm7QyJees/JObtDIl5+z+bbLLJJpsEQCTm7QyJeQtA1q8UqPUrEUCbbLLJJpsUQGApUOtXChhAJObtDIl5G0DooosuuugeQNavFKj1KyFAOY7jOI7jIkCbbLLJJpskQP1KgVq/UiZAYClQ61cKKEDCBx988MEpQCTm7QyJeStAhsS8nSExLUDooosuuuguQKVArV8pUDBA1q8UqPUrMUAIH3zwwQcyQDmO4ziO4zJAav1KgVq/M0CbbLLJJps0QMzbGRLzdjVA/UqBWr9SNkAuuuiiiy43QGApUOtXCjhAkZi3MyTmOEDCBx988ME5QPN2hsS8nTpAJObtDIl5O0BVVVVVVVU8QIbEvJ0hMT1AtzMk5u0MPkDooosuuug+QBoS83aGxD9ApUCtXylQQEA++OCDD75AQNavFKj1K0FAb2dIzNuZQUAIH3zwwQdCQKDWrxSodUJAOY7jOI7jQkDRRRdddFFDQGr9SoFav0NAArV+pUAtRECbbLLJJptEQDQk5u0MCUVAzNsZEvN2RUBlk0022eRFQP1KgVq/UkZAlgK1fqXARkAuuuiiiy5HQMdxHMdxnEdAYClQ61cKSED44IMPPnhIQJGYtzMk5khAKVDrVwpUSUDCBx988MFJQFq/UqDWL0pA83aGxLydSkCLLrroogtLQCTm7QyJeUtAvZ0hMW/nS0BVVVVVVVVMQO4MiXk7w0xAhsS8nSExTUAffPDBB59NQLczJObtDE5AUOtXCtR6TkDooosuuuhOQIFav1KgVk9AGhLzdobET0DZZJNNNhlQQKVArV8pUFBAchzHcRyHUEA++OCDD75QQArU+pUC9VBA1q8UqPUrUUCjiy666GJRQG9nSMzbmVFAO0Ni3s7QUUAIH3zwwQdSQNT6lQK1PlJAoNavFKh1UkBssskmm6xSQDmO4ziO41JABWr9SoEaU0DRRRdddFFTQJ4hMW9niFNAav1KgVq/U0A22WSTTfZTQAK1fqVALVRAz5CYtzNkVECbbLLJJptUQGdIzNsZ0lRANCTm7QwJVUAAAAAAAEBVQMzbGRLzdlVAmLczJOatVUBlk0022eRVQDFvZ0jMG1ZA/UqBWr9SVkDKJptssolWQJYCtX6lwFZAYt7OkJj3VkAuuuiiiy5XQPuVArV+ZVdAAAAAAAAAAAAXXXTRRRftPxdddNFFF/0/0UUXXXTRBUAXXXTRRRcNQC666KKLLhJA0UUXXXTRFUB00UUXXXQZQBdddNFFFx1AXXTRRRddIEAuuuiiiy4iQAAAAAAAACRA0UUXXXTRJUCjiy666KInQHTRRRdddClARhdddNFFK0AXXXTRRRctQOiiiy666C5AXXTRRRddMEBGF1100UUxQC666KKLLjJAF1100UUXM0AAAAAAAAA0QOmiiy666DRA0UUXXXTRNUC66KKLLro2QKOLLrroojdAiy666KKLOEB00UUXXXQ5QF100UUXXTpARhdddNFFO0Auuuiiiy48QBdddNFFFz1AAAAAAAAAPkDooosuuug+QNFFF1100T9AXXTRRRddQEDRRRdddNFAQEYXXXTRRUFAuuiiiy66QUAuuuiiiy5CQKOLLrrookJAF1100UUXQ0CLLrroootDQAAAAAAAAERAdNFFF110REDpoosuuuhEQF100UUXXUVA0UUXXXTRRUBGF1100UVGQLrooosuukZALrrooosuR0Cjiy666KJHQBdddNFFF0hAiy666KKLSEAAAAAAAABJQHTRRRdddElA6KKLLrroSUBddNFFF11KQNFFF1100UpARhdddNFFS0C66KKLLrpLQC666KKLLkxAo4suuuiiTEAXXXTRRRdNQIsuuuiii01AAAAAAAAATkB00UUXXXROQOiiiy666E5AXXTRRRddT0DRRRdddNFPQKOLLrroIlBAXXTRRRddUEAXXXTRRZdQQNFFF1100VBAiy666KILUUBGF1100UVRQAAAAAAAgFFAuuiiiy66UUB00UUXXfRRQC666KKLLlJA6aKLLrpoUkCjiy666KJSQF100UUX3VJAF1100UUXU0DRRRdddFFTQIsuuuiii1NARhdddNHFU0AAAAAAAABUQLrooosuOlRAdNFFF110VEAuuuiii65UQOmiiy666FRAo4suuugiVUBddNFFF11VQBdddNFFl1VA0UUXXXTRVUCLLrroogtWQEYXXXTRRVZAAAAAAACAVkC66KKLLrpWQHTRRRdd9FZALrrooosuV0DpoosuumhXQKOLLrrooldAXXTRRRfdV0AXXXTRRRdYQNFFF110UVhAiy666KKLWEBGF1100cVYQAAAAAAAAAAACtT6lQK17j8K1PqVArX+PwgffPDBBwdACtT6lQK1DkCGxLydITETQAgffPDBBxdAiXk7Q2LeGkAK1PqVArUeQEYXXXTRRSFAhsS8nSExI0DHcRzHcRwlQAgffPDBBydASMzbGRLzKECJeTtDYt4qQMkmm2yyySxACtT6lQK1LkClQK1fKVAwQEYXXXTRRTFA5u0MiXk7MkCGxLydITEzQCebbLLJJjRAx3Ecx3EcNUBnSMzbGRI2QAgffPDBBzdAqPUrBWr9N0BIzNsZEvM4QOiiiy666DlAiXk7Q2LeOkApUOtXCtQ7QMkmm2yyyTxAav1KgVq/PUAK1PqVArU+QKqqqqqqqj9ApUCtXylQQED1KwVq/cpAQEYXXXTRRUFAlgK1fqXAQUDm7QyJeTtCQDbZZJNNtkJAhsS8nSExQ0DWrxSo9atDQCebbLLJJkRAd4bEvJ2hREDHcRzHcRxFQBdddNFFl0VAZ0jM2xkSRkC3MyTm7YxGQAgffPDBB0dAWArU+pWCR0Co9SsFav1HQPjggw8+eEhASMzbGRLzSECYtzMk5m1JQOiiiy666ElAOY7jOI5jSkCJeTtDYt5KQNlkk002WUtAKVDrVwrUS0B5O0Ni3k5MQMkmm2yyyUxAGhLzdoZETUBq/UqBWr9NQLrooosuOk5ACtT6lQK1TkBav1Kg1i9PQKqqqqqqqk9A/UqBWr8SUEClQK1fKVBQQE022WSTjVBA9SsFav3KUECeITFvZwhRQEYXXXTRRVFA7gyJeTuDUUCWArV+pcBRQD744IMP/lFA5u0MiXk7UkCO4ziO43hSQDbZZJNNtlJA3s6QmLfzUkCGxLydITFTQC666KKLblNA1q8UqPWrU0B+pUCtX+lTQCebbLLJJlRAz5CYtzNkVEB3hsS8naFUQB988MEH31RAx3Ecx3EcVUBvZ0jM21lVQBdddNFFl1VAv1Kg1q/UVUBnSMzbGRJWQA8++OCDT1ZAtzMk5u2MVkBfKVDrV8pWQAgffPDBB1dAsBSo9StFV0BYCtT6lYJXQAAAAAAAwFdAqPUrBWr9V0BQ61cK1DpYQPjggw8+eFhAoNavFKi1WEBIzNsZEvNYQPDBBx98MFlAmLczJOZtWUBArV8pUKtZQOiiiy666FlAkZi3MyQmWkAAAAAAAAAAAH+lQK1fKfA/f6VArV8pAEA++OCDDz4IQH+lQK1fKRBA386QmLczFEA++OCDDz4YQJ4hMW9nSBxAf6VArV8pIEAvuuiiiy4iQN/OkJi3MyRAj+M4juM4JkA++OCDDz4oQO4MiXk7QypAniExb2dILEBONtlkk00uQH+lQK1fKTBA168UqPUrMUAvuuiiiy4yQIfEvJ0hMTNA386QmLczNEA32WSTTTY1QI/jOI7jODZA5+0MiXk7N0A++OCDDz44QJYCtX6lQDlA7gyJeTtDOkBGF1100UU7QJ4hMW9nSDxA9isFav1KPUBONtlkk00+QKZArV8pUD9Af6VArV8pQECrqqqqqqpAQNevFKj1K0FAA7V+pUCtQUAvuuiiiy5CQFu/UqDWr0JAh8S8nSExQ0CzySabbLJDQN/OkJi3M0RAC9T6lQK1REA32WSTTTZFQGPezpCYt0VAj+M4juM4RkC76KKLLrpGQOftDIl5O0dAE/N2hsS8R0A++OCDDz5IQGr9SoFav0hAlgK1fqVASUDCBx988MFJQO4MiXk7Q0pAGhLzdobESkBGF1100UVLQHIcx3Ecx0tAniExb2dITEDKJptssslMQPYrBWr9Sk1AIjFvZ0jMTUBONtlkk01OQHo7Q2Lezk5ApkCtXylQT0DSRRdddNFPQH+lQK1fKVBAFaj1KwVqUECrqqqqqqpQQEGtXylQ61BA168UqPUrUUBtsskmm2xRQAO1fqVArVFAmbczJObtUUAvuuiiiy5SQMW8nSExb1JAW79SoNavUkDxwQcffPBSQIfEvJ0hMVNAHcdxHMdxU0CzySabbLJTQEnM2xkS81NA386QmLczVEB10UUXXXRUQAvU+pUCtVRAodavFKj1VEA32WSTTTZVQM3bGRLzdlVAY97OkJi3VUD54IMPPvhVQI/jOI7jOFZAJebtDIl5VkC76KKLLrpWQFHrVwrU+lZA5+0MiXk7V0B98MEHH3xXQBPzdobEvFdAqfUrBWr9V0A++OCDDz5YQNT6lQK1flhAav1KgVq/WEAAAAAAAABZQJYCtX6lQFlALAVq/UqBWUDCBx988MFZQFgK1PqVAlpA7gyJeTtDWkCEDz744INaQBoS83aGxFpAsBSo9SsFW0BGF1100UVbQNwZEvN2hltAAAAAAAAAAAD44IMPPvjwP/jggw8++ABAdNFFF110CUD44IMPPvgQQDbZZJNNNhVAdNFFF110GUCyySabbLIdQPjggw8++CBAF1100UUXI0A22WSTTTYlQFVVVVVVVSdAdNFFF110KUCTTTbZZJMrQLLJJptssi1A0UUXXXTRL0D44IMPPvgwQAgffPDBBzJAF1100UUXM0Amm2yyySY0QDbZZJNNNjVARhdddNFFNkBVVVVVVVU3QGSTTTbZZDhAdNFFF110OUCEDz744IM6QJNNNtlkkztAoosuuuiiPECyySabbLI9QMIHH3zwwT5A0UUXXXTRP0DwwQcffHBAQPjggw8++EBAAAAAAACAQUAIH3zwwQdCQA8++OCDj0JAF1100UUXQ0AffPDBB59DQCabbLLJJkRALrrooouuREA22WSTTTZFQD744IMPvkVARhdddNFFRkBNNtlkk81GQFVVVVVVVUdAXXTRRRfdR0Bkk0022WRIQGyyySab7EhAdNFFF110SUB88MEHH/xJQIQPPvjgg0pAiy666KILS0CTTTbZZJNLQJtssskmG0xAoosuuuiiTECqqqqqqipNQLLJJptssk1Auuiiiy46TkDCBx988MFOQMkmm2yySU9A0UUXXXTRT0BssskmmyxQQPDBBx98cFBAdNFFF120UED44IMPPvhQQHzwwQcfPFFAAAAAAACAUUCEDz744MNRQAgffPDBB1JAiy666KJLUkAPPvjgg49SQJNNNtlk01JAF1100UUXU0CbbLLJJltTQB988MEHn1NAo4suuujiU0Amm2yyySZUQKqqqqqqalRALrrooouuVECyySabbPJUQDbZZJNNNlVAuuiiiy56VUA++OCDD75VQMIHH3zwAVZARhdddNFFVkDJJptssolWQE022WSTzVZA0UUXXXQRV0BVVVVVVVVXQNlkk002mVdAXXTRRRfdV0Dhgw8++CBYQGSTTTbZZFhA6KKLLrqoWEBssskmm+xYQPDBBx98MFlAdNFFF110WUD44IMPPrhZQHzwwQcf/FlAAAAAAABAWkCEDz744INaQAcffPDBx1pAiy666KILW0APPvjgg09bQJNNNtlkk1tAF1100UXXW0CbbLLJJhtcQB988MEHX1xAoosuuuiiXEAmm2yyyeZcQAAAAAAAAAAAchzHcRzH8T9yHMdxHMcBQKuqqqqqqgpAchzHcRzHEUCO4ziO4zgWQKuqqqqqqhpAyHEcx3EcH0ByHMdxHMchQAAAAAAAACRAjuM4juM4JkAdx3Ecx3EoQKuqqqqqqipAOY7jOI7jLEDIcRzHcRwvQKuqqqqqqjBAchzHcRzHMUA5juM4juMyQAAAAAAAADRAx3Ecx3EcNUCO4ziO4zg2QFZVVVVVVTdAHcdxHMdxOEDkOI7jOI45QKuqqqqqqjpAchzHcRzHO0A5juM4juM8QAAAAAAAAD5AyHEcx3EcP0DHcRzHcRxAQKuqqqqqqkBAjuM4juM4QUByHMdxHMdBQFZVVVVVVUJAOY7jOI7jQkAdx3Ecx3FDQAAAAAAAAERA5DiO4ziOREDHcRzHcRxFQKuqqqqqqkVAjuM4juM4RkByHMdxHMdGQFZVVVVVVUdAOY7jOI7jR0Adx3Ecx3FIQAAAAAAAAElA5DiO4ziOSUDHcRzHcRxKQKuqqqqqqkpAj+M4juM4S0ByHMdxHMdLQFZVVVVVVUxAOY7jOI7jTEAdx3Ecx3FNQAAAAAAAAE5A5DiO4ziOTkDIcRzHcRxPQKuqqqqqqk9Ax3Ecx3EcUEA5juM4jmNQQKuqqqqqqlBAHcdxHMfxUECO4ziO4zhRQAAAAAAAgFFAchzHcRzHUUDkOI7jOA5SQFZVVVVVVVJAx3Ecx3GcUkA5juM4juNSQKuqqqqqKlNAHcdxHMdxU0CO4ziO47hTQAAAAAAAAFRAchzHcRxHVEDkOI7jOI5UQFZVVVVV1VRAx3Ecx3EcVUA5juM4jmNVQKuqqqqqqlVAHcdxHMfxVUCO4ziO4zhWQAAAAAAAgFZAchzHcRzHVkDkOI7jOA5XQFZVVVVVVVdAx3Ecx3GcV0A5juM4juNXQKuqqqqqKlhAHcdxHMdxWECP4ziO47hYQAAAAAAAAFlAchzHcRxHWUDkOI7jOI5ZQFZVVVVV1VlAx3Ecx3EcWkA5juM4jmNaQKuqqqqqqlpAHcdxHMfxWkCP4ziO4zhbQAAAAAAAgFtAchzHcRzHW0DkOI7jOA5cQFZVVVVVVVxAx3Ecx3GcXEA5juM4juNcQKuqqqqqKl1AHcdxHMdxXUCP4ziO47hdQAAAAAAAAF5AchzHcRxHXkAAAAAAAAAAAOtXCtT6lfI/61cK1PqVAkDggw8++OALQOtXCtT6lRJA5u0MiXk7F0Dggw8++OAbQO4MiXk7QyBA61cK1PqVIkDooosuuugkQObtDIl5OydA4ziO4ziOKUDggw8++OArQN7OkJi3My5A7gyJeTtDMEBssskmm2wxQOtXCtT6lTJAav1KgVq/M0Dooosuuug0QGdIzNsZEjZA5u0MiXk7N0Bkk0022WQ4QOM4juM4jjlAYt7OkJi3OkDggw8++OA7QF8pUOtXCj1A3s6QmLczPkBddNFFF10/QO4MiXk7Q0BArV8pUOvXQEBssskmm2xBQCwFav1KAUJA61cK1PqVQkCqqqqqqipDQGr9SoFav0NAKVDrVwpUREDooosuuuhEQKj1KwVqfUVAZ0jM2xkSRkAmm2yyyaZGQObtDIl5O0dApUCtXynQR0Bkk0022WRIQCTm7QyJ+UhA4ziO4ziOSUCiiy666CJKQGLezpCYt0pAITFvZ0hMS0Dggw8++OBLQKDWrxSodUxAXylQ61cKTUAffPDBB59NQN7OkJi3M05AnSExb2fITkBddNFFF11PQBzHcRzH8U9A7gyJeTtDUEBNNtlkk41QQK1fKVDr11BADYl5O0MiUUBssskmm2xRQMzbGRLztlFALAVq/UoBUkCLLrrooktSQOtXCtT6lVJAS4Fav1LgUkCqqqqqqipTQArU+pUCdVNAav1KgVq/U0DJJptssglUQClQ61cKVFRAiXk7Q2KeVEDooosuuuhUQEjM2xkSM1VAqPUrBWp9VUAHH3zwwcdVQGdIzNsZElZAx3Ecx3FcVkAmm2yyyaZWQIbEvJ0h8VZA5u0MiXk7V0BFF1100YVXQKVArV8p0FdABWr9SoEaWEBkk0022WRYQMS8nSExr1hAJObtDIn5WECDDz744ENZQOM4juM4jllAQ2LezpDYWUCiiy666CJaQAK1fqVAbVpAYt7OkJi3WkDBBx988AFbQCExb2dITFtAgVq/UqCWW0Dggw8++OBbQECtXylQK1xAoNavFKh1XEAAAAAAAMBcQF8pUOtXCl1Av1Kg1q9UXUAffPDBB59dQH6lQK1f6V1A3s6QmLczXkA++OCDD35eQJ0hMW9nyF5A/UqBWr8SX0BddNFFF11fQLydITFvp19AAAAAAAAAAABlk0022WTzP2WTTTbZZANAGF100UUXDUBlk0022WQTQD744IMPPhhAGF100UUXHUD44IMPPvggQGWTTTbZZCNA0kUXXXTRJUA++OCDDz4oQKuqqqqqqipAGF100UUXLUCEDz744IMvQPjggw8++DBAL7rooosuMkBlk0022WQzQJtssskmmzRA0kUXXXTRNUAIH3zwwQc3QD744IMPPjhAddFFF110OUCrqqqqqqo6QOGDDz744DtAGF100UUXPUBONtlkk00+QIQPPvjggz9AXXTRRRddQED44IMPPvhAQJRNNtlkk0FAL7rooosuQkDKJptssslCQGWTTTbZZENAAAAAAAAARECbbLLJJptEQDbZZJNNNkVA0kUXXXTRRUBtsskmm2xGQAgffPDBB0dAo4suuuiiR0A++OCDDz5IQNlkk0022UhAddFFF110SUAQPvjggw9KQKuqqqqqqkpARhdddNFFS0Dhgw8++OBLQHzwwQcffExAGF100UUXTUCzySabbLJNQE422WSTTU5A6aKLLrroTkCEDz744INPQBA++OCDD1BAXXTRRRddUECrqqqqqqpQQPjggw8++FBARhdddNFFUUCUTTbZZJNRQOGDDz744FFAL7rooosuUkB88MEHH3xSQMomm2yyyVJAF1100UUXU0Blk0022WRTQLPJJptsslNAAAAAAAAAVEBONtlkk01UQJtssskmm1RA6aKLLrroVEA22WSTTTZVQIQPPvjgg1VA0kUXXXTRVUAffPDBBx9WQG2yySabbFZAuuiiiy66VkAIH3zwwQdXQFZVVVVVVVdAo4suuuiiV0DxwQcffPBXQD744IMPPlhAjC666KKLWEDZZJNNNtlYQCebbLLJJllAddFFF110WUDCBx988MFZQBA++OCDD1pAXXTRRRddWkCrqqqqqqpaQPjggw8++FpARhdddNFFW0CUTTbZZJNbQOGDDz744FtAL7rooosuXEB88MEHH3xcQMomm2yyyVxAGF100UUXXUBlk0022WRdQLPJJptssl1AAAAAAAAAXkBONtlkk01eQJtssskmm15A6aKLLrroXkA32WSTTTZfQIQPPvjgg19A0kUXXXTRX0AQPvjggw9gQDbZZJNNNmBAXXTRRRddYECEDz744INgQAAAAAAAAAAA3s6QmLcz9D/ezpCYtzMEQE022WSTTQ5A3s6QmLczFECWArV+pUAZQE022WSTTR5AArV+pUCtIUDezpCYtzMkQLrooosuuiZAlgK1fqVAKUBxHMdxHMcrQE022WSTTS5AFKj1KwVqMEACtX6lQK0xQPDBBx988DJA3s6QmLczNEDM2xkS83Y1QLrooosuujZAqPUrBWr9N0CWArV+pUA5QIMPPvjggzpAcRzHcRzHO0BfKVDrVwo9QE022WSTTT5AO0Ni3s6QP0AUqPUrBWpAQIsuuuiiC0FAArV+pUCtQUB5O0Ni3k5CQPDBBx988EJAZ0jM2xmSQ0DezpCYtzNEQFVVVVVV1URAzNsZEvN2RUBDYt7OkBhGQLrooosuukZAMW9nSMxbR0Co9SsFav1HQB988MEHn0hAlgK1fqVASUAMiXk7Q+JJQIMPPvjgg0pA+pUCtX4lS0BxHMdxHMdLQOiiiy66aExAXylQ61cKTUDWrxSo9atNQE022WSTTU5AxLydITHvTkA7Q2LezpBPQNlkk002GVBAFKj1KwVqUEBQ61cK1LpQQIsuuuiiC1FAx3Ecx3FcUUACtX6lQK1RQD744IMP/lFAeTtDYt5OUkC1fqVArZ9SQPDBBx988FJALAVq/UpBU0BnSMzbGZJTQKOLLrro4lNA3s6QmLczVEAZEvN2hoRUQFVVVVVV1VRAkJi3MyQmVUDM2xkS83ZVQAcffPDBx1VAQ2LezpAYVkB+pUCtX2lWQLrooosuulZA9SsFav0KV0Axb2dIzFtXQGyyySabrFdAqPUrBWr9V0DjOI7jOE5YQB988MEHn1hAWr9SoNbvWECWArV+pUBZQNFFF110kVlADIl5O0PiWUBIzNsZEjNaQIMPPvjgg1pAv1Kg1q/UWkD6lQK1fiVbQDbZZJNNdltAcRzHcRzHW0CtXylQ6xdcQOiiiy66aFxAJObtDIm5XEBfKVDrVwpdQJtssskmW11A1q8UqPWrXUAS83aGxPxdQE022WSTTV5AiHk7Q2KeXkDEvJ0hMe9eQP//////P19AO0Ni3s6QX0B2hsS8neFfQNlkk002GWBAd4bEvJ1BYEAUqPUrBWpgQLLJJptskmBAUOtXCtS6YEDuDIl5O+NgQIsuuuiiC2FAKVDrVwo0YUAAAAAAAAAAAFgK1PqVAvU/WArU+pUCBUCEDz744IMPQFgK1PqVAhVA7gyJeTtDGkCEDz744IMfQA2JeTtDYiJAWArU+pUCJUCjiy666KInQO4MiXk7QypAOY7jOI7jLECEDz744IMvQGhIzNsZEjFADYl5O0NiMkCyySabbLIzQFgK1PqVAjVA/kqBWr9SNkCjiy666KI3QEjM2xkS8zhA7gyJeTtDOkCUTTbZZJM7QDmO4ziO4zxA3s6QmLczPkCEDz744IM/QBWo9SsFakBAaEjM2xkSQUC66KKLLrpBQA2JeTtDYkJAYClQ61cKQ0CyySabbLJDQAVq/UqBWkRAWArU+pUCRUCrqqqqqqpFQP5KgVq/UkZAUOtXCtT6RkCjiy666KJHQPYrBWr9SkhASMzbGRLzSECbbLLJJptJQO4MiXk7Q0pAQa1fKVDrSkCUTTbZZJNLQObtDIl5O0xAOY7jOI7jTECMLrroootNQN7OkJi3M05AMW9nSMzbTkCEDz744INPQOtXCtT6FVBAFaj1KwVqUEA++OCDD75QQGhIzNsZElFAkZi3MyRmUUC66KKLLrpRQOQ4juM4DlJADYl5O0NiUkA22WSTTbZSQGApUOtXClNAiXk7Q2JeU0CyySabbLJTQNwZEvN2BlRABWr9SoFaVEAvuuiii65UQFgK1PqVAlVAgVq/UqBWVUCrqqqqqqpVQNT6lQK1/lVA/kqBWr9SVkAnm2yyyaZWQFDrVwrU+lZAejtDYt5OV0Cjiy666KJXQMzbGRLz9ldA9isFav1KWEAffPDBB59YQEjM2xkS81hAchzHcRxHWUCbbLLJJptZQMW8nSEx71lA7gyJeTtDWkAXXXTRRZdaQEGtXylQ61pAav1KgVo/W0CUTTbZZJNbQL2dITFv51tA5u0MiXk7XEAQPvjgg49cQDmO4ziO41xAYt7OkJg3XUCMLrroootdQLV+pUCt311A3s6QmLczXkAIH3zwwYdeQDFvZ0jM215AW79SoNYvX0CEDz744INfQK1fKVDr119A61cK1PoVYEAAAAAAAEBgQBWo9SsFamBAKVDrVwqUYEA++OCDD75gQFOg1q8U6GBAaEjM2xkSYUB88MEHHzxhQJGYtzMkZmFApkCtXymQYUC66KKLLrphQM+QmLcz5GFAAAAAAAAAAADRRRdddNH1P9FFF1100QVAXXTRRRddEEDRRRdddNEVQEUXXXTRRRtAXXTRRRddIEAXXXTRRRcjQNFFF1100SVAiy666KKLKEBFF1100UUrQP///////y1AXXTRRRddMEC66KKLLroxQBdddNFFFzNAdNFFF110NEDRRRdddNE1QC666KKLLjdAiy666KKLOEDooosuuug5QEUXXXTRRTtAoosuuuiiPED///////89QFx00UUXXT9AXXTRRRddQECLLrroogtBQLrooosuukFA6KKLLrpoQkAXXXTRRRdDQEUXXXTRxUNAdNFFF110RECiiy666CJFQNFFF1100UVAAAAAAACARkAuuuiiiy5HQF100UUX3UdAiy666KKLSEC66KKLLjpJQOiiiy666ElAF1100UWXSkBFF1100UVLQHTRRRdd9EtAoosuuuiiTEDRRRdddFFNQP///////01ALrrooouuTkBcdNFFF11PQEUXXXTRBVBAXXTRRRddUEB00UUXXbRQQIsuuuiiC1FAo4suuuhiUUC66KKLLrpRQNFFF110EVJA6KKLLrpoUkAAAAAAAMBSQBdddNFFF1NALrroootuU0BFF1100cVTQF100UUXHVRAdNFFF110VECLLrroostUQKKLLrroIlVAuuiiiy56VUDRRRdddNFVQOiiiy66KFZAAAAAAACAVkAXXXTRRddWQC666KKLLldARRdddNGFV0BddNFFF91XQHTRRRddNFhAiy666KKLWECiiy666OJYQLrooosuOllA0UUXXXSRWUDooosuuuhZQP//////P1pAF1100UWXWkAuuuiii+5aQEUXXXTRRVtAXXTRRRedW0B00UUXXfRbQIsuuuiiS1xAoosuuuiiXEC66KKLLvpcQNFFF110UV1A6KKLLrqoXUD///////9dQBdddNFFV15ALrrooouuXkBFF1100QVfQFx00UUXXV9AdNFFF120X0BFF1100QVgQNFFF110MWBAXXTRRRddYEDooosuuohgQHTRRRddtGBAAAAAAADgYECLLrroogthQBdddNFFN2FAo4suuuhiYUAuuuiii45hQLrooosuumFARRdddNHlYUDRRRdddBFiQF100UUXPWJA6KKLLrpoYkB00UUXXZRiQAAAAAAAAAAAS4Fav1Kg9j9LgVq/UqAGQPjggw8++BBAS4Fav1KgFkCeITFvZ0gcQPjggw8++CBAIjFvZ0jMI0BLgVq/UqAmQHTRRRdddClAniExb2dILEDHcRzHcRwvQPjggw8++DBADYl5O0NiMkAiMW9nSMwzQDbZZJNNNjVAS4Fav1KgNkBgKVDrVwo4QHTRRRdddDlAiXk7Q2LeOkCeITFvZ0g8QLLJJptssj1Ax3Ecx3EcP0DuDIl5O0NAQPjggw8++EBAA7V+pUCtQUANiXk7Q2JCQBdddNFFF0NAIjFvZ0jMQ0AsBWr9SoFEQDbZZJNNNkVAQa1fKVDrRUBLgVq/UqBGQFVVVVVVVUdAYClQ61cKSEBq/UqBWr9IQHTRRRdddElAf6VArV8pSkCJeTtDYt5KQJNNNtlkk0tAniExb2dITECo9SsFav1MQLLJJptssk1AvZ0hMW9nTkDHcRzHcRxPQNFFF1100U9A7gyJeTtDUEDzdobEvJ1QQPjggw8++FBA/UqBWr9SUUADtX6lQK1RQAgffPDBB1JADYl5O0NiUkAS83aGxLxSQBdddNFFF1NAHMdxHMdxU0AiMW9nSMxTQCebbLLJJlRALAVq/UqBVEAxb2dIzNtUQDbZZJNNNlVAO0Ni3s6QVUBBrV8pUOtVQEYXXXTRRVZAS4Fav1KgVkBQ61cK1PpWQFVVVVVVVVdAW79SoNavV0BgKVDrVwpYQGWTTTbZZFhAav1KgVq/WEBvZ0jM2xlZQHTRRRdddFlAejtDYt7OWUB/pUCtXylaQIQPPvjgg1pAiXk7Q2LeWkCO4ziO4zhbQJNNNtlkk1tAmbczJObtW0CeITFvZ0hcQKOLLrroolxAqPUrBWr9XECtXylQ61ddQLLJJptssl1AuDMk5u0MXkC9nSExb2deQMIHH3zwwV5Ax3Ecx3EcX0DM2xkS83ZfQNFFF1100V9A61cK1PoVYEDuDIl5O0NgQPDBBx98cGBA83aGxLydYED2KwVq/cpgQPjggw8++GBA+5UCtX4lYUD9SoFav1JhQAAAAAAAgGFAA7V+pUCtYUAFav1KgdphQAgffPDBB2JACtT6lQI1YkANiXk7Q2JiQBA++OCDj2JAEvN2hsS8YkAVqPUrBepiQBdddNFFF2NAGhLzdoZEY0AAAAAAAAAAAMS8nSExb/c/xLydITFvB0CTTTbZZJMRQMS8nSExbxdA9SsFav1KHUCTTTbZZJMhQCwFav1KgSRAxLydITFvJ0BcdNFFF10qQPUrBWr9Si1Ax3Ecx3EcMECTTTbZZJMxQF8pUOtXCjNALAVq/UqBNED44IMPPvg1QMS8nSExbzdAkJi3MyTmOEBcdNFFF106QClQ61cK1DtA9SsFav1KPUDBBx988ME+QMdxHMdxHEBArV8pUOvXQECTTTbZZJNBQHk7Q2LeTkJAXylQ61cKQ0BFF1100cVDQCwFav1KgURAEvN2hsQ8RUD44IMPPvhFQN7OkJi3s0ZAxLydITFvR0CqqqqqqipIQJCYtzMk5khAdobEvJ2hSUBcdNFFF11KQENi3s6QGEtAKVDrVwrUS0APPvjgg49MQPUrBWr9Sk1A2xkS83YGTkDBBx988MFOQKf1KwVqfU9Ax3Ecx3EcUEC66KKLLnpQQK1fKVDr11BAoNavFKg1UUCTTTbZZJNRQIbEvJ0h8VFAeTtDYt5OUkBssskmm6xSQF8pUOtXClNAUqDWrxRoU0BFF1100cVTQDiO4ziOI1RALAVq/UqBVEAffPDBB99UQBLzdobEPFVABWr9SoGaVUD44IMPPvhVQOtXCtT6VVZA3s6QmLezVkDRRRdddBFXQMS8nSExb1dAtzMk5u3MV0CqqqqqqipYQJ0hMW9niFhAkJi3MyTmWECDDz744ENZQHaGxLydoVlAaf1KgVr/WUBcdNFFF11aQFDrVwrUulpAQ2LezpAYW0A22WSTTXZbQClQ61cK1FtAHMdxHMcxXEAPPvjgg49cQAK1fqVA7VxA9SsFav1KXUDooosuuqhdQNsZEvN2Bl5AzpCYtzNkXkDBBx988MFeQLR+pUCtH19Ap/UrBWp9X0CabLLJJttfQMdxHMdxHGBAQK1fKVBLYEC66KKLLnpgQDMk5u0MqWBArV8pUOvXYEAmm2yyyQZhQKDWrxSoNWFAGRLzdoZkYUCTTTbZZJNhQA2JeTtDwmFAhsS8nSHxYUAAAAAAACBiQHk7Q2LeTmJA83aGxLx9YkBssskmm6xiQObtDIl522JAXylQ61cKY0DZZJNNNjljQFKg1q8UaGNAzNsZEvOWY0BFF1100cVjQL9SoNav9GNAAAAAAAAAAAA++OCDDz74Pz744IMPPghALrrooosuEkA++OCDDz4YQE422WSTTR5ALrrooosuIkA22WSTTTYlQD744IMPPihARhdddNFFK0BONtlkk00uQKuqqqqqqjBALrrooosuMkCyySabbLIzQDbZZJNNNjVAuuiiiy66NkA++OCDDz44QMIHH3zwwTlARhdddNFFO0DKJptsssk8QE422WSTTT5A0UUXXXTRP0CrqqqqqqpAQG2yySabbEFALrrooosuQkDwwQcffPBCQLLJJptsskNAdNFFF110REA22WSTTTZFQPjggw8++EVAuuiiiy66RkB88MEHH3xHQD744IMPPkhAAAAAAAAASUDCBx988MFJQIQPPvjgg0pARhdddNFFS0AIH3zwwQdMQMomm2yyyUxAjC666KKLTUBONtlkk01OQA8++OCDD09A0UUXXXTRT0DKJptssklQQKuqqqqqqlBAjC666KILUUBtsskmm2xRQE422WSTzVFALrrooosuUkAPPvjgg49SQPDBBx988FJA0UUXXXRRU0CyySabbLJTQJNNNtlkE1RAdNFFF110VEBVVVVVVdVUQDbZZJNNNlVAF1100UWXVUD44IMPPvhVQNlkk002WVZAuuiiiy66VkCbbLLJJhtXQHzwwQcffFdAXXTRRRfdV0A++OCDDz5YQB988MEHn1hAAAAAAAAAWUDhgw8++GBZQMIHH3zwwVlAo4suuugiWkCEDz744INaQGWTTTbZ5FpARhdddNFFW0Anm2yyyaZbQAgffPDBB1xA6aKLLrpoXEDKJptssslcQKuqqqqqKl1AjC666KKLXUBtsskmm+xdQE422WSTTV5ALrrooouuXkAPPvjggw9fQPDBBx98cF9A0UUXXXTRX0DZZJNNNhlgQMomm2yySWBAuuiiiy56YECrqqqqqqpgQJtssskm22BAjC666KILYUB88MEHHzxhQG2yySabbGFAXXTRRRedYUBONtlkk81hQD744IMP/mFALrrooosuYkAffPDBB19iQA8++OCDj2JAAAAAAADAYkDwwQcffPBiQOGDDz74IGNA0UUXXXRRY0DCBx988IFjQLLJJptssmNAo4suuujiY0CTTTbZZBNkQIQPPvjgQ2RAdNFFF110ZEBlk0022aRkQAAAAAAAAAAAtzMk5u0M+T+3MyTm7QwJQMkmm2yyyRJAtzMk5u0MGUClQK1fKVAfQMkmm2yyySJAQK1fKVDrJUC3MyTm7QwpQC666KKLLixApUCtXylQL0CO4ziO4zgxQMkmm2yyyTJABWr9SoFaNEBArV8pUOs1QHzwwQcffDdAtzMk5u0MOUDydobEvJ06QC666KKLLjxAaf1KgVq/PUClQK1fKVA/QPDBBx98cEBAjuM4juM4QUAsBWr9SgFCQMkmm2yyyUJAZ0jM2xmSQ0AFav1KgVpEQKKLLrroIkVAQK1fKVDrRUDezpCYt7NGQHzwwQcffEdAGRLzdoZESEC3MyTm7QxJQFVVVVVV1UlA8naGxLydSkCQmLczJGZLQC666KKLLkxAzNsZEvP2TEBp/UqBWr9NQAcffPDBh05ApUCtXylQT0AhMW9nSAxQQPDBBx98cFBAv1Kg1q/UUECO4ziO4zhRQF100UUXnVFALAVq/UoBUkD6lQK1fmVSQMkmm2yyyVJAmLczJOYtU0BnSMzbGZJTQDbZZJNN9lNABWr9SoFaVEDU+pUCtb5UQKKLLrroIlVAcRzHcRyHVUBArV8pUOtVQA8++OCDT1ZA3s6QmLezVkCtXylQ6xdXQHzwwQcffFdASoFav1LgV0AZEvN2hkRYQOiiiy66qFhAtzMk5u0MWUCGxLydIXFZQFVVVVVV1VlAJObtDIk5WkDydobEvJ1aQMEHH3zwAVtAkJi3MyRmW0BfKVDrV8pbQC666KKLLlxA/UqBWr+SXEDM2xkS8/ZcQJpssskmW11Aaf1KgVq/XUA4juM4jiNeQAcffPDBh15A1q8UqPXrXkClQK1fKVBfQHTRRRddtF9AITFvZ0gMYECJeTtDYj5gQPDBBx98cGBAWArU+pWiYEC/UqDWr9RgQCabbLLJBmFAjuM4juM4YUD1KwVq/WphQF100UUXnWFAxLydITHPYUAsBWr9SgFiQJNNNtlkM2JA+pUCtX5lYkBi3s6QmJdiQMkmm2yyyWJAMW9nSMz7YkCYtzMk5i1jQAAAAAAAYGNAZ0jM2xmSY0DOkJi3M8RjQDbZZJNN9mNAnSExb2coZEAFav1KgVpkQGyyySabjGRA1PqVArW+ZEA7Q2LezvBkQKKLLrroImVACtT6lQJVZUAAAAAAAAAAADFvZ0jM2/k/MW9nSMzbCUBlk0022WQTQDFvZ0jM2xlAf6VArV8pIEBlk0022WQjQEuBWr9SoCZAMW9nSMzbKUAXXXTRRRctQH+lQK1fKTBAchzHcRzHMUBlk0022WQzQFgK1PqVAjVAS4Fav1KgNkA++OCDDz44QDFvZ0jM2zlAJObtDIl5O0AXXXTRRRc9QArU+pUCtT5Af6VArV8pQED44IMPPvhAQHIcx3Ecx0FA61cK1PqVQkBlk0022WRDQN7OkJi3M0RAWArU+pUCRUDRRRdddNFFQEuBWr9SoEZAxLydITFvR0A++OCDDz5IQLczJObtDElAMW9nSMzbSUCrqqqqqqpKQCTm7QyJeUtAniExb2dITEAXXXTRRRdNQJGYtzMk5k1ACtT6lQK1TkCEDz744INPQH+lQK1fKVBAO0Ni3s6QUED44IMPPvhQQLV+pUCtX1FAchzHcRzHUUAuuuiiiy5SQOtXCtT6lVJAqPUrBWr9UkBlk0022WRTQCIxb2dIzFNA3s6QmLczVECbbLLJJptUQFgK1PqVAlVAFaj1KwVqVUDRRRdddNFVQI7jOI7jOFZAS4Fav1KgVkAIH3zwwQdXQMS8nSExb1dAgVq/UqDWV0A++OCDDz5YQPuVArV+pVhAtzMk5u0MWUB00UUXXXRZQDFvZ0jM21lA7gyJeTtDWkCrqqqqqqpaQGdIzNsZEltAJObtDIl5W0Dhgw8++OBbQJ4hMW9nSFxAWr9SoNavXEAXXXTRRRddQNT6lQK1fl1AkZi3MyTmXUBNNtlkk01eQArU+pUCtV5Ax3Ecx3EcX0CEDz744INfQECtXylQ619Af6VArV8pYEBddNFFF11gQDtDYt7OkGBAGhLzdobEYED44IMPPvhgQNevFKj1K2FAtX6lQK1fYUCTTTbZZJNhQHIcx3Ecx2FAUOtXCtT6YUAuuuiiiy5iQA2JeTtDYmJA61cK1PqVYkDKJptsssliQKj1KwVq/WJAhsS8nSExY0Blk0022WRjQENi3s6QmGNAIjFvZ0jMY0AAAAAAAABkQN7OkJi3M2RAvZ0hMW9nZECbbLLJJptkQHk7Q2LezmRAWArU+pUCZUA22WSTTTZlQBWo9SsFamVA83aGxLydZUDRRRdddNFlQLAUqPUrBWZAAAAAAAAAAACrqqqqqqr6P6uqqqqqqgpAAAAAAAAAFECrqqqqqqoaQKuqqqqqqiBAAAAAAAAAJEBWVVVVVVUnQKuqqqqqqipAAAAAAAAALkCrqqqqqqowQFZVVVVVVTJAAAAAAAAANECrqqqqqqo1QFZVVVVVVTdAAAAAAAAAOUCrqqqqqqo6QFZVVVVVVTxAAAAAAAAAPkCrqqqqqqo/QKuqqqqqqkBAAAAAAACAQUBWVVVVVVVCQKuqqqqqKkNAAAAAAAAAREBWVVVVVdVEQKuqqqqqqkVAAAAAAACARkBWVVVVVVVHQKuqqqqqKkhAAAAAAAAASUBWVVVVVdVJQKuqqqqqqkpAAAAAAACAS0BWVVVVVVVMQKuqqqqqKk1AAAAAAAAATkBWVVVVVdVOQKuqqqqqqk9AAAAAAABAUECrqqqqqqpQQFZVVVVVFVFAAAAAAACAUUCrqqqqqupRQFZVVVVVVVJAAAAAAADAUkCrqqqqqipTQFZVVVVVlVNAAAAAAAAAVECrqqqqqmpUQFZVVVVV1VRAAAAAAABAVUCrqqqqqqpVQFZVVVVVFVZAAAAAAACAVkCrqqqqqupWQFZVVVVVVVdAAAAAAADAV0CrqqqqqipYQFZVVVVVlVhAAAAAAAAAWUCrqqqqqmpZQFZVVVVV1VlAAAAAAABAWkCrqqqqqqpaQFZVVVVVFVtAAAAAAACAW0CrqqqqqupbQFZVVVVVVVxAAAAAAADAXECrqqqqqipdQFZVVVVVlV1AAAAAAAAAXkCrqqqqqmpeQFZVVVVV1V5AAAAAAABAX0CrqqqqqqpfQKuqqqqqCmBAAAAAAABAYEBWVVVVVXVgQKuqqqqqqmBAAAAAAADgYEBWVVVVVRVhQKuqqqqqSmFAAAAAAACAYUBWVVVVVbVhQKuqqqqq6mFAAAAAAAAgYkBWVVVVVVViQKuqqqqqimJAAAAAAADAYkBWVVVVVfViQKuqqqqqKmNAAAAAAABgY0BWVVVVVZVjQKuqqqqqymNAAAAAAAAAZEBWVVVVVTVkQKuqqqqqamRAAAAAAACgZEBWVVVVVdVkQKuqqqqqCmVAAAAAAABAZUBWVVVVVXVlQKuqqqqqqmVAAAAAAADgZUBWVVVVVRVmQKuqqqqqSmZAAAAAAACAZkBWVVVVVbVmQAAAAAAAAAAAJObtDIl5+z8k5u0MiXkLQJtssskmmxRAJObtDIl5G0DWrxSo9SshQJtssskmmyRAYClQ61cKKEAk5u0MiXkrQOiiiy666C5A1q8UqPUrMUA5juM4juMyQJtssskmmzRA/UqBWr9SNkBgKVDrVwo4QMIHH3zwwTlAJObtDIl5O0CGxLydITE9QOiiiy666D5ApUCtXylQQEDWrxSo9StBQAgffPDBB0JAOY7jOI7jQkBq/UqBWr9DQJtssskmm0RAzNsZEvN2RUD9SoFav1JGQC666KKLLkdAYClQ61cKSECRmLczJOZIQMIHH3zwwUlA83aGxLydSkAk5u0MiXlLQFVVVVVVVUxAhsS8nSExTUC3MyTm7QxOQOiiiy666E5AGhLzdobET0ClQK1fKVBQQD744IMPvlBA1q8UqPUrUUBvZ0jM25lRQAgffPDBB1JAoNavFKh1UkA5juM4juNSQNFFF110UVNAav1KgVq/U0ACtX6lQC1UQJtssskmm1RANCTm7QwJVUDM2xkS83ZVQGWTTTbZ5FVA/UqBWr9SVkCWArV+pcBWQC666KKLLldAx3Ecx3GcV0BgKVDrVwpYQPjggw8+eFhAkZi3MyTmWEApUOtXClRZQMIHH3zwwVlAWr9SoNYvWkDzdobEvJ1aQIsuuuiiC1tAJObtDIl5W0C9nSExb+dbQFVVVVVVVVxA7gyJeTvDXECGxLydITFdQB988MEHn11AtzMk5u0MXkBQ61cK1HpeQOiiiy666F5AgVq/UqBWX0AaEvN2hsRfQNlkk002GWBApUCtXylQYEByHMdxHIdgQD744IMPvmBACtT6lQL1YEDWrxSo9SthQKOLLrroYmFAb2dIzNuZYUA7Q2LeztBhQAgffPDBB2JA1PqVArU+YkCg1q8UqHViQGyyySabrGJAOY7jOI7jYkAFav1KgRpjQNFFF110UWNAniExb2eIY0Bq/UqBWr9jQDbZZJNN9mNAArV+pUAtZEDPkJi3M2RkQJtssskmm2RAZ0jM2xnSZEA0JObtDAllQAAAAAAAQGVAzNsZEvN2ZUCYtzMk5q1lQGWTTTbZ5GVAMW9nSMwbZkD9SoFav1JmQMomm2yyiWZAlgK1fqXAZkBi3s6QmPdmQC666KKLLmdA+5UCtX5lZ0AAAAAAAAAAAJ4hMW9nSPw/niExb2dIDEA22WSTTTYVQJ4hMW9nSBxAA7V+pUCtIUA22WSTTTYlQGr9SoFavyhAniExb2dILEDSRRdddNEvQAO1fqVArTFAHcdxHMdxM0A22WSTTTY1QFDrVwrU+jZAav1KgVq/OECEDz744IM6QJ4hMW9nSDxAuDMk5u0MPkDSRRdddNE/QPYrBWr9ykBAA7V+pUCtQUAQPvjgg49CQB3HcRzHcUNAKlDrVwpUREA22WSTTTZFQENi3s6QGEZAUOtXCtT6RkBddNFFF91HQGr9SoFav0hAd4bEvJ2hSUCEDz744INKQJGYtzMkZktAniExb2dITECrqqqqqipNQLgzJObtDE5AxbydITHvTkDSRRdddNFPQG9nSMzbWVBA9isFav3KUEB88MEHHzxRQAO1fqVArVFAiXk7Q2IeUkAQPvjgg49SQJYCtX6lAFNAHcdxHMdxU0Cjiy666OJTQCpQ61cKVFRAsBSo9SvFVEA22WSTTTZVQL2dITFvp1VAQ2LezpAYVkDKJptssolWQFDrVwrU+lZA168UqPVrV0BddNFFF91XQOQ4juM4TlhAav1KgVq/WEDxwQcffDBZQHeGxLydoVlA/kqBWr8SWkCEDz744INaQAvU+pUC9VpAkZi3MyRmW0AYXXTRRddbQJ4hMW9nSFxAJObtDIm5XECrqqqqqipdQDFvZ0jMm11AuDMk5u0MXkA++OCDD35eQMW8nSEx715AS4Fav1JgX0DSRRdddNFfQCwFav1KIWBAb2dIzNtZYECzySabbJJgQPYrBWr9ymBAOY7jOI4DYUB88MEHHzxhQMBSoNavdGFAA7V+pUCtYUBGF1100eVhQIl5O0NiHmJAzNsZEvNWYkAQPvjgg49iQFOg1q8UyGJAlgK1fqUAY0DZZJNNNjljQB3HcRzHcWNAYClQ61eqY0Cjiy666OJjQObtDIl5G2RAKlDrVwpUZEBtsskmm4xkQLAUqPUrxWRA83aGxLz9ZEA22WSTTTZlQHo7Q2LebmVAvZ0hMW+nZUAAAAAAAOBlQENi3s6QGGZAh8S8nSFRZkDKJptssolmQA2JeTtDwmZAUOtXCtT6ZkCUTTbZZDNnQNevFKj1a2dAGhLzdoakZ0BddNFFF91nQKHWrxSoFWhAAAAAAAAAAAAXXXTRRRf9PxdddNFFFw1A0UUXXXTRFUAXXXTRRRcdQC666KKLLiJA0UUXXXTRJUB00UUXXXQpQBdddNFFFy1AXXTRRRddMEAuuuiiiy4yQAAAAAAAADRA0UUXXXTRNUCjiy666KI3QHTRRRdddDlARhdddNFFO0AXXXTRRRc9QOiiiy666D5AXXTRRRddQEBGF1100UVBQC666KKLLkJAF1100UUXQ0AAAAAAAABEQOmiiy666ERA0UUXXXTRRUC66KKLLrpGQKOLLrrookdAiy666KKLSEB00UUXXXRJQF100UUXXUpARhdddNFFS0Auuuiiiy5MQBdddNFFF01AAAAAAAAATkDooosuuuhOQNFFF1100U9AXXTRRRddUEDRRRdddNFQQEYXXXTRRVFAuuiiiy66UUAuuuiiiy5SQKOLLrroolJAF1100UUXU0CLLrroootTQAAAAAAAAFRAdNFFF110VEDpoosuuuhUQF100UUXXVVA0UUXXXTRVUBGF1100UVWQLrooosuulZALrrooosuV0Cjiy666KJXQBdddNFFF1hAiy666KKLWEAAAAAAAABZQHTRRRdddFlA6KKLLrroWUBddNFFF11aQNFFF1100VpARhdddNFFW0C66KKLLrpbQC666KKLLlxAo4suuuiiXEAXXXTRRRddQIsuuuiii11AAAAAAAAAXkB00UUXXXReQOiiiy666F5AXXTRRRddX0DRRRdddNFfQKOLLrroImBAXXTRRRddYEAXXXTRRZdgQNFFF1100WBAiy666KILYUBGF1100UVhQAAAAAAAgGFAuuiiiy66YUB00UUXXfRhQC666KKLLmJA6aKLLrpoYkCjiy666KJiQF100UUX3WJAF1100UUXY0DRRRdddFFjQIsuuuiii2NARhdddNHFY0AAAAAAAABkQLrooosuOmRAdNFFF110ZEAuuuiii65kQOmiiy666GRAo4suuugiZUBddNFFF11lQBdddNFFl2VA0UUXXXTRZUCLLrroogtmQEYXXXTRRWZAAAAAAACAZkC66KKLLrpmQHTRRRdd9GZALrrooosuZ0DpoosuumhnQKOLLrroomdAXXTRRRfdZ0AXXXTRRRdoQNFFF110UWhAiy666KKLaEBGF1100cVoQAAAAAAAAAAAkZi3MyTm/T+RmLczJOYNQG2yySabbBZAkZi3MyTmHUBbv1Kg1q8iQG2yySabbCZAf6VArV8pKkCRmLczJOYtQNJFF1100TBAW79SoNavMkDkOI7jOI40QG2yySabbDZA9isFav1KOEB/pUCtXyk6QAgffPDBBzxAkZi3MyTmPUAaEvN2hsQ/QNJFF1100UBAlgK1fqXAQUBbv1Kg1q9CQB988MEHn0NA5DiO4ziORECo9SsFan1FQG2yySabbEZAMW9nSMxbR0D2KwVq/UpIQLrooosuOklAf6VArV8pSkBDYt7OkBhLQAgffPDBB0xAzNsZEvP2TECRmLczJOZNQFZVVVVV1U5AGhLzdobET0BvZ0jM21lQQNJFF1100VBANCTm7QxJUUCWArV+pcBRQPjggw8+OFJAW79SoNavUkC9nSExbydTQB988MEHn1NAgVq/UqAWVEDkOI7jOI5UQEYXXXTRBVVAqPUrBWp9VUAK1PqVAvVVQG2yySabbFZAz5CYtzPkVkAxb2dIzFtXQJRNNtlk01dA9isFav1KWEBYCtT6lcJYQLrooosuOllAHcdxHMexWUB/pUCtXylaQOGDDz74oFpAQ2LezpAYW0CmQK1fKZBbQAgffPDBB1xAav1KgVp/XEDM2xkS8/ZcQC+66KKLbl1AkZi3MyTmXUDzdobEvF1eQFZVVVVV1V5AuDMk5u1MX0AaEvN2hsRfQD744IMPHmBAb2dIzNtZYECg1q8UqJVgQNJFF1100WBAA7V+pUANYUA0JObtDElhQGWTTTbZhGFAlgK1fqXAYUDHcRzHcfxhQPjggw8+OGJAKVDrVwp0YkBbv1Kg1q9iQIwuuuii62JAvZ0hMW8nY0DuDIl5O2NjQB988MEHn2NAUOtXCtTaY0CBWr9SoBZkQLPJJptsUmRA5DiO4ziOZEAVqPUrBcpkQEYXXXTRBWVAd4bEvJ1BZUCo9SsFan1lQNlkk002uWVACtT6lQL1ZUA8Q2LezjBmQG2yySabbGZAniExb2eoZkDPkJi3M+RmQAAAAAAAIGdAMW9nSMxbZ0Bi3s6QmJdnQJRNNtlk02dAxbydITEPaED2KwVq/UpoQCebbLLJhmhAWArU+pXCaECJeTtDYv5oQLrooosuOmlA61cK1Pp1aUAAAAAAAAAAAArU+pUCtf4/CtT6lQK1DkAIH3zwwQcXQArU+pUCtR5AhsS8nSExI0AIH3zwwQcnQIl5O0Ni3ipACtT6lQK1LkBGF1100UUxQIbEvJ0hMTNAx3Ecx3EcNUAIH3zwwQc3QEjM2xkS8zhAiXk7Q2LeOkDJJptsssk8QArU+pUCtT5ApUCtXylQQEBGF1100UVBQObtDIl5O0JAhsS8nSExQ0Anm2yyySZEQMdxHMdxHEVAZ0jM2xkSRkAIH3zwwQdHQKj1KwVq/UdASMzbGRLzSEDooosuuuhJQIl5O0Ni3kpAKVDrVwrUS0DJJptssslMQGr9SoFav01ACtT6lQK1TkCqqqqqqqpPQKVArV8pUFBA9SsFav3KUEBGF1100UVRQJYCtX6lwFFA5u0MiXk7UkA22WSTTbZSQIbEvJ0hMVNA1q8UqPWrU0Anm2yyySZUQHeGxLydoVRAx3Ecx3EcVUAXXXTRRZdVQGdIzNsZElZAtzMk5u2MVkAIH3zwwQdXQFgK1PqVgldAqPUrBWr9V0D44IMPPnhYQEjM2xkS81hAmLczJOZtWUDooosuuuhZQDmO4ziOY1pAiXk7Q2LeWkDZZJNNNllbQClQ61cK1FtAeTtDYt5OXEDJJptssslcQBoS83aGRF1Aav1KgVq/XUC66KKLLjpeQArU+pUCtV5AWr9SoNYvX0CqqqqqqqpfQP1KgVq/EmBApUCtXylQYEBNNtlkk41gQPUrBWr9ymBAniExb2cIYUBGF1100UVhQO4MiXk7g2FAlgK1fqXAYUA++OCDD/5hQObtDIl5O2JAjuM4juN4YkA22WSTTbZiQN7OkJi382JAhsS8nSExY0Auuuiii25jQNavFKj1q2NAfqVArV/pY0Anm2yyySZkQM+QmLczZGRAd4bEvJ2hZEAffPDBB99kQMdxHMdxHGVAb2dIzNtZZUAXXXTRRZdlQL9SoNav1GVAZ0jM2xkSZkAPPvjgg09mQLczJObtjGZAXylQ61fKZkAIH3zwwQdnQLAUqPUrRWdAWArU+pWCZ0AAAAAAAMBnQKj1KwVq/WdAUOtXCtQ6aED44IMPPnhoQKDWrxSotWhASMzbGRLzaEDwwQcffDBpQJi3MyTmbWlAQK1fKVCraUDooosuuuhpQJGYtzMkJmpAAAAAAAAAAACEDz744IP/P4QPPvjggw9Ao4suuuiiF0CEDz744IMfQLLJJptssiNAo4suuuiiJ0CUTTbZZJMrQIQPPvjggy9Auuiiiy66MUCyySabbLIzQKuqqqqqqjVAo4suuuiiN0CbbLLJJps5QJRNNtlkkztAjC666KKLPUCEDz744IM/QD744IMPvkBAuuiiiy66QUA22WSTTbZCQLLJJptsskNAL7rooouuRECrqqqqqqpFQCebbLLJpkZAo4suuuiiR0AffPDBB59IQJtssskmm0lAF1100UWXSkCUTTbZZJNLQBA++OCDj0xAjC666KKLTUAIH3zwwYdOQIQPPvjgg09AAAAAAABAUEA++OCDD75QQHzwwQcfPFFAuuiiiy66UUD44IMPPjhSQDbZZJNNtlJAdNFFF100U0CyySabbLJTQPHBBx98MFRAL7rooouuVEBtsskmmyxVQKuqqqqqqlVA6aKLLrooVkAnm2yyyaZWQGWTTTbZJFdAo4suuuiiV0Dhgw8++CBYQB988MEHn1hAXXTRRRcdWUCbbLLJJptZQNlkk002GVpAF1100UWXWkBVVVVVVRVbQJRNNtlkk1tA0kUXXXQRXEAQPvjgg49cQE422WSTDV1AjC666KKLXUDKJptssgleQAgffPDBh15ARhdddNEFX0CEDz744INfQOGDDz74AGBAAAAAAABAYEAffPDBB39gQD744IMPvmBAXXTRRRf9YEB88MEHHzxhQJtssskme2FAuuiiiy66YUDZZJNNNvlhQPjggw8+OGJAF1100UV3YkA22WSTTbZiQFVVVVVV9WJAdNFFF100Y0CTTTbZZHNjQLLJJptssmNA0kUXXXTxY0DxwQcffDBkQBA++OCDb2RAL7rooouuZEBONtlkk+1kQG2yySabLGVAjC666KJrZUCrqqqqqqplQMomm2yy6WVA6aKLLrooZkAIH3zwwWdmQCebbLLJpmZARhdddNHlZkBlk0022SRnQIQPPvjgY2dAo4suuuiiZ0DCBx988OFnQOGDDz74IGhAAAAAAABgaEAffPDBB59oQD744IMP3mhAXXTRRRcdaUB88MEHH1xpQJtssskmm2lAuuiiiy7aaUDZZJNNNhlqQPjggw8+WGpAF1100UWXakA22WSTTdZqQAAAAAAAAAAAf6VArV8pAEB/pUCtXykQQD744IMPPhhAf6VArV8pIEDfzpCYtzMkQD744IMPPihAniExb2dILEB/pUCtXykwQC+66KKLLjJA386QmLczNECP4ziO4zg2QD744IMPPjhA7gyJeTtDOkCeITFvZ0g8QE422WSTTT5Af6VArV8pQEDXrxSo9StBQC+66KKLLkJAh8S8nSExQ0DfzpCYtzNEQDfZZJNNNkVAj+M4juM4RkDn7QyJeTtHQD744IMPPkhAlgK1fqVASUDuDIl5O0NKQEYXXXTRRUtAniExb2dITED2KwVq/UpNQE422WSTTU5ApkCtXylQT0B/pUCtXylQQKuqqqqqqlBA168UqPUrUUADtX6lQK1RQC+66KKLLlJAW79SoNavUkCHxLydITFTQLPJJptsslNA386QmLczVEAL1PqVArVUQDfZZJNNNlVAY97OkJi3VUCP4ziO4zhWQLvooosuulZA5+0MiXk7V0AT83aGxLxXQD744IMPPlhAav1KgVq/WECWArV+pUBZQMIHH3zwwVlA7gyJeTtDWkAaEvN2hsRaQEYXXXTRRVtAchzHcRzHW0CeITFvZ0hcQMomm2yyyVxA9isFav1KXUAiMW9nSMxdQE422WSTTV5AejtDYt7OXkCmQK1fKVBfQNJFF1100V9Af6VArV8pYEAVqPUrBWpgQKuqqqqqqmBAQa1fKVDrYEDXrxSo9SthQG2yySabbGFAA7V+pUCtYUCZtzMk5u1hQC+66KKLLmJAxbydITFvYkBbv1Kg1q9iQPHBBx988GJAh8S8nSExY0Adx3Ecx3FjQLPJJptssmNASczbGRLzY0DfzpCYtzNkQHXRRRdddGRAC9T6lQK1ZECh1q8UqPVkQDfZZJNNNmVAzdsZEvN2ZUBj3s6QmLdlQPnggw8++GVAj+M4juM4ZkAl5u0MiXlmQLvooosuumZAUetXCtT6ZkDn7QyJeTtnQH3wwQcffGdAE/N2hsS8Z0Cp9SsFav1nQD744IMPPmhA1PqVArV+aEBq/UqBWr9oQAAAAAAAAGlAlgK1fqVAaUAsBWr9SoFpQMIHH3zwwWlAWArU+pUCakDuDIl5O0NqQIQPPvjgg2pAGhLzdobEakCwFKj1KwVrQEYXXXTRRWtA3BkS83aGa0AAAAAAAAAAADtDYt7OkABAO0Ni3s6QEEDYZJNNNtkYQDtDYt7OkCBACtT6lQK1JEDYZJNNNtkoQKf1KwVq/SxAO0Ni3s6QMECiiy666KIyQArU+pUCtTRAcRzHcRzHNkDYZJNNNtk4QECtXylQ6zpAp/UrBWr9PEAPPvjggw8/QDtDYt7OkEBAb2dIzNuZQUCiiy666KJCQNavFKj1q0NACtT6lQK1REA9+OCDD75FQHEcx3Ecx0ZApUCtXynQR0DYZJNNNtlIQAyJeTtD4klAQK1fKVDrSkB00UUXXfRLQKf1KwVq/UxA2xkS83YGTkAPPvjggw9PQCExb2dIDFBAO0Ni3s6QUEBVVVVVVRVRQG9nSMzbmVFAiXk7Q2IeUkCiiy666KJSQLydITFvJ1NA1q8UqPWrU0DwwQcffDBUQArU+pUCtVRAJObtDIk5VUA9+OCDD75VQFcK1PqVQlZAcRzHcRzHVkCLLrrooktXQKVArV8p0FdAv1Kg1q9UWEDYZJNNNtlYQPJ2hsS8XVlADIl5O0PiWUAmm2yyyWZaQECtXylQ61pAWr9SoNZvW0B00UUXXfRbQI3jOI7jeFxAp/UrBWr9XEDBBx988IFdQNsZEvN2Bl5A9SsFav2KXkAPPvjggw9fQChQ61cKlF9AITFvZ0gMYEAuuuiii05gQDtDYt7OkGBASMzbGRLTYEBVVVVVVRVhQGLezpCYV2FAb2dIzNuZYUB88MEHH9xhQIl5O0NiHmJAlQK1fqVgYkCiiy666KJiQK8UqPUr5WJAvJ0hMW8nY0DJJptssmljQNavFKj1q2NA4ziO4zjuY0DwwQcffDBkQP1KgVq/cmRACtT6lQK1ZEAXXXTRRfdkQCTm7QyJOWVAMW9nSMx7ZUA9+OCDD75lQEqBWr9SAGZAVwrU+pVCZkBkk0022YRmQHEcx3Ecx2ZAfqVArV8JZ0CLLrrooktnQJi3MyTmjWdApUCtXynQZ0CyySabbBJoQL9SoNavVGhAzNsZEvOWaEDYZJNNNtloQOXtDIl5G2lA8naGxLxdaUD//////59pQAyJeTtD4mlAGRLzdoYkakAmm2yyyWZqQDMk5u0MqWpAQK1fKVDrakBNNtlkky1rQFq/UqDWb2tAZ0jM2xmya0B00UUXXfRrQIBav1KgNmxAAAAAAAAAAAD44IMPPvgAQPjggw8++BBAdNFFF110GUD44IMPPvggQDbZZJNNNiVAdNFFF110KUCyySabbLItQPjggw8++DBAF1100UUXM0A22WSTTTY1QFVVVVVVVTdAdNFFF110OUCTTTbZZJM7QLLJJptssj1A0UUXXXTRP0D44IMPPvhAQAgffPDBB0JAF1100UUXQ0Amm2yyySZEQDbZZJNNNkVARhdddNFFRkBVVVVVVVVHQGSTTTbZZEhAdNFFF110SUCEDz744INKQJNNNtlkk0tAoosuuuiiTECyySabbLJNQMIHH3zwwU5A0UUXXXTRT0DwwQcffHBQQPjggw8++FBAAAAAAACAUUAIH3zwwQdSQA8++OCDj1JAF1100UUXU0AffPDBB59TQCabbLLJJlRALrrooouuVEA22WSTTTZVQD744IMPvlVARhdddNFFVkBNNtlkk81WQFVVVVVVVVdAXXTRRRfdV0Bkk0022WRYQGyyySab7FhAdNFFF110WUB88MEHH/xZQIQPPvjgg1pAiy666KILW0CTTTbZZJNbQJtssskmG1xAoosuuuiiXECqqqqqqipdQLLJJptssl1Auuiiiy46XkDCBx988MFeQMkmm2yySV9A0UUXXXTRX0BssskmmyxgQPDBBx98cGBAdNFFF120YED44IMPPvhgQHzwwQcfPGFAAAAAAACAYUCEDz744MNhQAgffPDBB2JAiy666KJLYkAPPvjgg49iQJNNNtlk02JAF1100UUXY0CbbLLJJltjQB988MEHn2NAo4suuujiY0Amm2yyySZkQKqqqqqqamRALrrooouuZECyySabbPJkQDbZZJNNNmVAuuiiiy56ZUA++OCDD75lQMIHH3zwAWZARhdddNFFZkDJJptssolmQE022WSTzWZA0UUXXXQRZ0BVVVVVVVVnQNlkk002mWdAXXTRRRfdZ0Dhgw8++CBoQGSTTTbZZGhA6KKLLrqoaEBssskmm+xoQPDBBx98MGlAdNFFF110aUD44IMPPrhpQHzwwQcf/GlAAAAAAABAakCEDz744INqQAcffPDBx2pAiy666KILa0APPvjgg09rQJNNNtlkk2tAF1100UXXa0CbbLLJJhtsQB988MEHX2xAoosuuuiibEAmm2yyyeZsQAAAAAAAAAAAtX6lQK1fAUC1fqVArV8RQBA++OCDDxpAtX6lQK1fIUBi3s6QmLclQBA++OCDDypAvZ0hMW9nLkC1fqVArV8xQIwuuuiiizNAYt7OkJi3NUA5juM4juM3QBA++OCDDzpA5u0MiXk7PEC9nSExb2c+QMomm2yySUBAtX6lQK1fQUCg1q8UqHVCQIwuuuiii0NAd4bEvJ2hREBi3s6QmLdFQE422WSTzUZAOY7jOI7jR0Ak5u0MiflIQBA++OCDD0pA+5UCtX4lS0Dm7QyJeTtMQNFFF110UU1AvZ0hMW9nTkCo9SsFan1PQMomm2yySVBAv1Kg1q/UUEC1fqVArV9RQKuqqqqq6lFAoNavFKh1UkCWArV+pQBTQIwuuuiii1NAgVq/UqAWVEB3hsS8naFUQG2yySabLFVAYt7OkJi3VUBYCtT6lUJWQE422WSTzVZAQ2LezpBYV0A5juM4juNXQC+66KKLblhAJObtDIn5WEAaEvN2hoRZQBA++OCDD1pABWr9SoGaWkD7lQK1fiVbQPDBBx98sFtA5u0MiXk7XEDcGRLzdsZcQNFFF110UV1Ax3Ecx3HcXUC9nSExb2deQLLJJpts8l5AqPUrBWp9X0DPkJi3MwRgQMomm2yySWBAxbydITGPYEC/UqDWr9RgQLrooosuGmFAtX6lQK1fYUCwFKj1K6VhQKuqqqqq6mFApUCtXykwYkCg1q8UqHViQJtssskmu2JAlgK1fqUAY0CRmLczJEZjQIwuuuiii2NAhsS8nSHRY0CBWr9SoBZkQHzwwQcfXGRAd4bEvJ2hZEByHMdxHOdkQG2yySabLGVAZ0jM2xlyZUBi3s6QmLdlQF100UUX/WVAWArU+pVCZkBToNavFIhmQE422WSTzWZASMzbGRITZ0BDYt7OkFhnQD744IMPnmdAOY7jOI7jZ0A0JObtDCloQC+66KKLbmhAKVDrVwq0aEAk5u0MifloQB988MEHP2lAGhLzdoaEaUAVqPUrBcppQBA++OCDD2pACtT6lQJVakAFav1KgZpqQAAAAAAA4GpA+5UCtX4la0D2KwVq/WprQPDBBx98sGtA61cK1Pr1a0Dm7QyJeTtsQOGDDz74gGxA3BkS83bGbEDXrxSo9QttQNFFF110UW1AzNsZEvOWbUAAAAAAAAAAAHIcx3EcxwFAchzHcRzHEUCrqqqqqqoaQHIcx3EcxyFAjuM4juM4JkCrqqqqqqoqQMhxHMdxHC9AchzHcRzHMUAAAAAAAAA0QI7jOI7jODZAHcdxHMdxOECrqqqqqqo6QDmO4ziO4zxAyHEcx3EcP0CrqqqqqqpAQHIcx3Ecx0FAOY7jOI7jQkAAAAAAAABEQMdxHMdxHEVAjuM4juM4RkBWVVVVVVVHQB3HcRzHcUhA5DiO4ziOSUCrqqqqqqpKQHIcx3Ecx0tAOY7jOI7jTEAAAAAAAABOQMhxHMdxHE9Ax3Ecx3EcUECrqqqqqqpQQI7jOI7jOFFAchzHcRzHUUBWVVVVVVVSQDmO4ziO41JAHcdxHMdxU0AAAAAAAABUQOQ4juM4jlRAx3Ecx3EcVUCrqqqqqqpVQI7jOI7jOFZAchzHcRzHVkBWVVVVVVVXQDmO4ziO41dAHcdxHMdxWEAAAAAAAABZQOQ4juM4jllAx3Ecx3EcWkCrqqqqqqpaQI/jOI7jOFtAchzHcRzHW0BWVVVVVVVcQDmO4ziO41xAHcdxHMdxXUAAAAAAAABeQOQ4juM4jl5AyHEcx3EcX0CrqqqqqqpfQMdxHMdxHGBAOY7jOI5jYECrqqqqqqpgQB3HcRzH8WBAjuM4juM4YUAAAAAAAIBhQHIcx3Ecx2FA5DiO4zgOYkBWVVVVVVViQMdxHMdxnGJAOY7jOI7jYkCrqqqqqipjQB3HcRzHcWNAjuM4juO4Y0AAAAAAAABkQHIcx3EcR2RA5DiO4ziOZEBWVVVVVdVkQMdxHMdxHGVAOY7jOI5jZUCrqqqqqqplQB3HcRzH8WVAjuM4juM4ZkAAAAAAAIBmQHIcx3Ecx2ZA5DiO4zgOZ0BWVVVVVVVnQMdxHMdxnGdAOY7jOI7jZ0CrqqqqqipoQB3HcRzHcWhAj+M4juO4aEAAAAAAAABpQHIcx3EcR2lA5DiO4ziOaUBWVVVVVdVpQMdxHMdxHGpAOY7jOI5jakCrqqqqqqpqQB3HcRzH8WpAj+M4juM4a0AAAAAAAIBrQHIcx3Ecx2tA5DiO4zgObEBWVVVVVVVsQMdxHMdxnGxAOY7jOI7jbECrqqqqqiptQB3HcRzHcW1Aj+M4juO4bUAAAAAAAABuQHIcx3EcR25AAAAAAAAAAAAuuuiiiy4CQC666KKLLhJARRdddNFFG0Auuuiiiy4iQLrooosuuiZARRdddNFFK0DQRRdddNEvQC666KKLLjJAdNFFF110NEC66KKLLro2QP///////zhARRdddNFFO0CLLrrooos9QNBFF1100T9Aiy666KILQUAuuuiiiy5CQNFFF110UUNAdNFFF110REAXXXTRRZdFQLrooosuukZAXHTRRRfdR0D///////9IQKKLLrroIkpARRdddNFFS0DooosuumhMQIsuuuiii01ALrrooouuTkDQRRdddNFPQLrooosuelBAiy666KILUUBddNFFF51RQC666KKLLlJA//////+/UkDRRRdddFFTQKKLLrro4lNAdNFFF110VEBFF1100QVVQBdddNFFl1VA6KKLLrooVkC66KKLLrpWQIsuuuiiS1dAXHTRRRfdV0Auuuiii25YQP///////1hA0UUXXXSRWUCiiy666CJaQHTRRRddtFpARRdddNFFW0AWXXTRRddbQOiiiy66aFxAueiiiy76XECLLrroootdQFx00UUXHV5ALrrooouuXkD//////z9fQNBFF1100V9A0UUXXXQxYEC66KKLLnpgQKKLLrrowmBAiy666KILYUB00UUXXVRhQF100UUXnWFARRdddNHlYUAuuuiiiy5iQBdddNFFd2JA//////+/YkDooosuughjQNFFF110UWNAuuiiiy6aY0Ciiy666OJjQIsuuuiiK2RAdNFFF110ZEBcdNFFF71kQEUXXXTRBWVALrroootOZUAXXXTRRZdlQP//////32VA6KKLLrooZkDRRRdddHFmQLrooosuumZAoosuuugCZ0CLLrrooktnQHTRRRddlGdAXHTRRRfdZ0BFF1100SVoQC666KKLbmhAF1100UW3aED///////9oQOiiiy66SGlA0UUXXXSRaUC56KKLLtppQKKLLrroImpAiy666KJrakB00UUXXbRqQFx00UUX/WpARRdddNFFa0Auuuiii45rQBZddNFF12tA//////8fbEDooosuumhsQNFFF110sWxAueiiiy76bECiiy666EJtQIsuuuiii21Ac9FFF13UbUBcdNFFFx1uQEUXXXTRZW5ALrrooouubkAWXXTRRfduQAAAAAAAAAAA61cK1PqVAkDrVwrU+pUSQOCDDz744BtA61cK1PqVIkDm7QyJeTsnQOCDDz744CtA7gyJeTtDMEDrVwrU+pUyQOiiiy666DRA5u0MiXk7N0DjOI7jOI45QOCDDz744DtA3s6QmLczPkDuDIl5O0NAQGyyySabbEFA61cK1PqVQkBq/UqBWr9DQOiiiy666ERAZ0jM2xkSRkDm7QyJeTtHQGSTTTbZZEhA4ziO4ziOSUBi3s6QmLdKQOCDDz744EtAXylQ61cKTUDezpCYtzNOQF100UUXXU9A7gyJeTtDUECtXylQ69dQQGyyySabbFFALAVq/UoBUkDrVwrU+pVSQKqqqqqqKlNAav1KgVq/U0ApUOtXClRUQOiiiy666FRAqPUrBWp9VUBnSMzbGRJWQCabbLLJplZA5u0MiXk7V0ClQK1fKdBXQGSTTTbZZFhAJObtDIn5WEDjOI7jOI5ZQKKLLrroIlpAYt7OkJi3WkAhMW9nSExbQOCDDz744FtAoNavFKh1XEBfKVDrVwpdQB988MEHn11A3s6QmLczXkCdITFvZ8heQF100UUXXV9AHMdxHMfxX0DuDIl5O0NgQE022WSTjWBArV8pUOvXYEANiXk7QyJhQGyyySabbGFAzNsZEvO2YUAsBWr9SgFiQIsuuuiiS2JA61cK1PqVYkBLgVq/UuBiQKqqqqqqKmNACtT6lQJ1Y0Bq/UqBWr9jQMkmm2yyCWRAKVDrVwpUZECJeTtDYp5kQOiiiy666GRASMzbGRIzZUCo9SsFan1lQAcffPDBx2VAZ0jM2xkSZkDHcRzHcVxmQCabbLLJpmZAhsS8nSHxZkDm7QyJeTtnQEUXXXTRhWdApUCtXynQZ0AFav1KgRpoQGSTTTbZZGhAxLydITGvaEAk5u0MifloQIMPPvjgQ2lA4ziO4ziOaUBDYt7OkNhpQKKLLrroImpAArV+pUBtakBi3s6QmLdqQMEHH3zwAWtAITFvZ0hMa0CBWr9SoJZrQOCDDz744GtAQK1fKVArbECg1q8UqHVsQAAAAAAAwGxAXylQ61cKbUC/UqDWr1RtQB988MEHn21AfqVArV/pbUDezpCYtzNuQD744IMPfm5AnSExb2fIbkD9SoFavxJvQF100UUXXW9AvJ0hMW+nb0AAAAAAAAAAAKj1KwVq/QJAqPUrBWr9EkB88MEHH3wcQKj1KwVq/SJAEvN2hsS8J0B88MEHH3wsQPN2hsS8nTBAqPUrBWr9MkBddNFFF101QBLzdobEvDdAx3Ecx3EcOkB88MEHH3w8QDFvZ0jM2z5A83aGxLydQEBONtlkk81BQKj1KwVq/UJAArV+pUAtREBddNFFF11FQLgzJObtjEZAEvN2hsS8R0Bssskmm+xIQMdxHMdxHEpAIjFvZ0hMS0B88MEHH3xMQNavFKj1q01AMW9nSMzbTkBGF1100QVQQPN2hsS8nVBAoNavFKg1UUBONtlkk81RQPuVArV+ZVJAqPUrBWr9UkBVVVVVVZVTQAK1fqVALVRAsBSo9SvFVEBddNFFF11VQArU+pUC9VVAuDMk5u2MVkBlk0022SRXQBLzdobEvFdAv1Kg1q9UWEBssskmm+xYQBoS83aGhFlAx3Ecx3EcWkB00UUXXbRaQCIxb2dITFtAz5CYtzPkW0B88MEHH3xcQClQ61cKFF1A1q8UqPWrXUCEDz744ENeQDFvZ0jM215A3s6QmLdzX0BGF1100QVgQBzHcRzHUWBA83aGxLydYEDKJptssulgQKDWrxSoNWFAd4bEvJ2BYUBONtlkk81hQCTm7QyJGWJA+5UCtX5lYkDRRRdddLFiQKj1KwVq/WJAf6VArV9JY0BVVVVVVZVjQCwFav1K4WNAArV+pUAtZEDZZJNNNnlkQLAUqPUrxWRAhsS8nSERZUBddNFFF11lQDQk5u0MqWVACtT6lQL1ZUDhgw8++EBmQLgzJObtjGZAjuM4juPYZkBlk0022SRnQDtDYt7OcGdAEvN2hsS8Z0DpoosuughoQL9SoNavVGhAlgK1fqWgaEBssskmm+xoQENi3s6QOGlAGhLzdoaEaUDwwQcffNBpQMdxHMdxHGpAniExb2doakB00UUXXbRqQEuBWr9SAGtAIjFvZ0hMa0D44IMPPphrQM+QmLcz5GtApUCtXykwbEB88MEHH3xsQFOg1q8UyGxAKVDrVwoUbUAAAAAAAGBtQNavFKj1q21ArV8pUOv3bUCEDz744ENuQFq/UqDWj25AMW9nSMzbbkAIH3zwwSdvQN7OkJi3c29AtX6lQK2/b0BGF1100QVwQDFvZ0jMK3BAAAAAAAAAAABlk0022WQDQGWTTTbZZBNAGF100UUXHUBlk0022WQjQD744IMPPihAGF100UUXLUD44IMPPvgwQGWTTTbZZDNA0kUXXXTRNUA++OCDDz44QKuqqqqqqjpAGF100UUXPUCEDz744IM/QPjggw8++EBAL7rooosuQkBlk0022WRDQJtssskmm0RA0kUXXXTRRUAIH3zwwQdHQD744IMPPkhAddFFF110SUCrqqqqqqpKQOGDDz744EtAGF100UUXTUBONtlkk01OQIQPPvjgg09AXXTRRRddUED44IMPPvhQQJRNNtlkk1FAL7rooosuUkDKJptssslSQGWTTTbZZFNAAAAAAAAAVECbbLLJJptUQDbZZJNNNlVA0kUXXXTRVUBtsskmm2xWQAgffPDBB1dAo4suuuiiV0A++OCDDz5YQNlkk0022VhAddFFF110WUAQPvjggw9aQKuqqqqqqlpARhdddNFFW0Dhgw8++OBbQHzwwQcffFxAGF100UUXXUCzySabbLJdQE422WSTTV5A6aKLLrroXkCEDz744INfQBA++OCDD2BAXXTRRRddYECrqqqqqqpgQPjggw8++GBARhdddNFFYUCUTTbZZJNhQOGDDz744GFAL7rooosuYkB88MEHH3xiQMomm2yyyWJAF1100UUXY0Blk0022WRjQLPJJptssmNAAAAAAAAAZEBONtlkk01kQJtssskmm2RA6aKLLrroZEA22WSTTTZlQIQPPvjgg2VA0kUXXXTRZUAffPDBBx9mQG2yySabbGZAuuiiiy66ZkAIH3zwwQdnQFZVVVVVVWdAo4suuuiiZ0DxwQcffPBnQD744IMPPmhAjC666KKLaEDZZJNNNtloQCebbLLJJmlAddFFF110aUDCBx988MFpQBA++OCDD2pAXXTRRRddakCrqqqqqqpqQPjggw8++GpARhdddNFFa0CUTTbZZJNrQOGDDz744GtAL7rooosubEB88MEHH3xsQMomm2yyyWxAGF100UUXbUBlk0022WRtQLPJJptssm1AAAAAAAAAbkBONtlkk01uQJtssskmm25A6aKLLrrobkA32WSTTTZvQIQPPvjgg29A0kUXXXTRb0AQPvjggw9wQDbZZJNNNnBAXXTRRRddcECEDz744INwQAAAAAAAAAAAIjFvZ0jMA0AiMW9nSMwTQLPJJptssh1AIjFvZ0jMI0Bq/UqBWr8oQLPJJptssi1A/kqBWr9SMUAiMW9nSMwzQEYXXXTRRTZAav1KgVq/OECP4ziO4zg7QLPJJptssj1A7FcK1PoVQED+SoFav1JBQBA++OCDj0JAIjFvZ0jMQ0A0JObtDAlFQEYXXXTRRUZAWArU+pWCR0Bq/UqBWr9IQH3wwQcf/ElAj+M4juM4S0Ch1q8UqHVMQLPJJptssk1AxbydITHvTkDsVwrU+hVQQHXRRRddtFBA/kqBWr9SUUCHxLydIfFRQBA++OCDj1JAmbczJOYtU0AiMW9nSMxTQKuqqqqqalRANCTm7QwJVUC9nSExb6dVQEYXXXTRRVZAz5CYtzPkVkBYCtT6lYJXQOGDDz74IFhAav1KgVq/WED0dobEvF1ZQH3wwQcf/FlABmr9SoGaWkCP4ziO4zhbQBhddNFF11tAodavFKh1XEAqUOtXChRdQLPJJptssl1APENi3s5QXkDFvJ0hMe9eQE422WSTjV9A7FcK1PoVYECwFKj1K2VgQHXRRRddtGBAOY7jOI4DYUD+SoFav1JhQMIHH3zwoWFAh8S8nSHxYUBLgVq/UkBiQBA++OCDj2JA1PqVArXeYkCZtzMk5i1jQF100UUXfWNAIjFvZ0jMY0Dn7QyJeRtkQKuqqqqqamRAcGdIzNu5ZEA0JObtDAllQPnggw8+WGVAvZ0hMW+nZUCCWr9SoPZlQEYXXXTRRWZAC9T6lQKVZkDPkJi3M+RmQJRNNtlkM2dAWArU+pWCZ0Adx3Ecx9FnQOGDDz74IGhApkCtXylwaEBq/UqBWr9oQC+66KKLDmlA9HaGxLxdaUC4MyTm7axpQH3wwQcf/GlAQa1fKVBLakAGav1KgZpqQMomm2yy6WpAj+M4juM4a0BToNavFIhrQBhddNFF12tA3BkS83YmbECh1q8UqHVsQGWTTTbZxGxAKlDrVwoUbUDuDIl5O2NtQLPJJptssm1AeIbEvJ0BbkA8Q2LezlBuQAEAAAAAoG5AxbydITHvbkCKeTtDYj5vQE422WSTjW9AE/N2hsTcb0DsVwrU+hVwQE422WSTPXBAsBSo9StlcEAS83aGxIxwQHXRRRddtHBA168UqPXbcEAAAAAAAAAAAN7OkJi3MwRA3s6QmLczFEBNNtlkk00eQN7OkJi3MyRAlgK1fqVAKUBNNtlkk00uQAK1fqVArTFA3s6QmLczNEC66KKLLro2QJYCtX6lQDlAcRzHcRzHO0BNNtlkk00+QBSo9SsFakBAArV+pUCtQUDwwQcffPBCQN7OkJi3M0RAzNsZEvN2RUC66KKLLrpGQKj1KwVq/UdAlgK1fqVASUCDDz744INKQHEcx3Ecx0tAXylQ61cKTUBNNtlkk01OQDtDYt7OkE9AFKj1KwVqUECLLrroogtRQAK1fqVArVFAeTtDYt5OUkDwwQcffPBSQGdIzNsZklNA3s6QmLczVEBVVVVVVdVUQMzbGRLzdlVAQ2LezpAYVkC66KKLLrpWQDFvZ0jMW1dAqPUrBWr9V0AffPDBB59YQJYCtX6lQFlADIl5O0PiWUCDDz744INaQPqVArV+JVtAcRzHcRzHW0DooosuumhcQF8pUOtXCl1A1q8UqPWrXUBNNtlkk01eQMS8nSEx715AO0Ni3s6QX0DZZJNNNhlgQBSo9SsFamBAUOtXCtS6YECLLrroogthQMdxHMdxXGFAArV+pUCtYUA++OCDD/5hQHk7Q2LeTmJAtX6lQK2fYkDwwQcffPBiQCwFav1KQWNAZ0jM2xmSY0Cjiy666OJjQN7OkJi3M2RAGRLzdoaEZEBVVVVVVdVkQJCYtzMkJmVAzNsZEvN2ZUAHH3zwwcdlQENi3s6QGGZAfqVArV9pZkC66KKLLrpmQPUrBWr9CmdAMW9nSMxbZ0Bssskmm6xnQKj1KwVq/WdA4ziO4zhOaEAffPDBB59oQFq/UqDW72hAlgK1fqVAaUDRRRdddJFpQAyJeTtD4mlASMzbGRIzakCDDz744INqQL9SoNav1GpA+pUCtX4la0A22WSTTXZrQHEcx3Ecx2tArV8pUOsXbEDooosuumhsQCTm7QyJuWxAXylQ61cKbUCbbLLJJlttQNavFKj1q21AEvN2hsT8bUBNNtlkk01uQIh5O0Ninm5AxLydITHvbkD//////z9vQDtDYt7OkG9AdobEvJ3hb0DZZJNNNhlwQHeGxLydQXBAFKj1KwVqcECyySabbJJwQFDrVwrUunBA7gyJeTvjcECLLrroogtxQClQ61cKNHFAAAAAAAAAAACbbLLJJpsEQJtssskmmxRA6KKLLrroHkCbbLLJJpskQMIHH3zwwSlA6KKLLrroLkAIH3zwwQcyQJtssskmmzRALrrooosuN0DCBx988ME5QFVVVVVVVTxA6KKLLrroPkA++OCDD75AQAgffPDBB0JA0UUXXXRRQ0CbbLLJJptEQGWTTTbZ5EVALrrooosuR0D44IMPPnhIQMIHH3zwwUlAiy666KILS0BVVVVVVVVMQB988MEHn01A6KKLLrroTkDZZJNNNhlQQD744IMPvlBAo4suuuhiUUAIH3zwwQdSQGyyySabrFJA0UUXXXRRU0A22WSTTfZTQJtssskmm1RAAAAAAABAVUBlk0022eRVQMomm2yyiVZALrrooosuV0CTTTbZZNNXQPjggw8+eFhAXXTRRRcdWUDCBx988MFZQCebbLLJZlpAiy666KILW0DwwQcffLBbQFVVVVVVVVxAuuiiiy76XEAffPDBB59dQIQPPvjgQ15A6KKLLrroXkBNNtlkk41fQNlkk002GWBAjC666KJrYEA++OCDD75gQPDBBx98EGFAo4suuuhiYUBVVVVVVbVhQAgffPDBB2JAuuiiiy5aYkBssskmm6xiQB988MEH/2JA0UUXXXRRY0CEDz744KNjQDbZZJNN9mNA6aKLLrpIZECbbLLJJptkQE022WST7WRAAAAAAABAZUCyySabbJJlQGWTTTbZ5GVAF1100UU3ZkDKJptssolmQHzwwQcf3GZALrrooosuZ0Dhgw8++IBnQJNNNtlk02dARhdddNElaED44IMPPnhoQKqqqqqqymhAXXTRRRcdaUAPPvjgg29pQMIHH3zwwWlAdNFFF10UakAnm2yyyWZqQNlkk002uWpAiy666KILa0A++OCDD15rQPDBBx98sGtAo4suuugCbEBVVVVVVVVsQAgffPDBp2xAuuiiiy76bEBssskmm0xtQB988MEHn21A0UUXXXTxbUCEDz744ENuQDbZZJNNlm5A6KKLLrrobkCbbLLJJjtvQE022WSTjW9AAAAAAADgb0DZZJNNNhlwQLLJJptsQnBAjC666KJrcEBlk0022ZRwQD744IMPvnBAF1100UXncEDwwQcffBBxQMomm2yyOXFAo4suuuhicUB88MEHH4xxQAAAAAAAAAAAWArU+pUCBUBYCtT6lQIVQIQPPvjggx9AWArU+pUCJUDuDIl5O0MqQIQPPvjggy9ADYl5O0NiMkBYCtT6lQI1QKOLLrroojdA7gyJeTtDOkA5juM4juM8QIQPPvjggz9AaEjM2xkSQUANiXk7Q2JCQLLJJptsskNAWArU+pUCRUD+SoFav1JGQKOLLrrookdASMzbGRLzSEDuDIl5O0NKQJRNNtlkk0tAOY7jOI7jTEDezpCYtzNOQIQPPvjgg09AFaj1KwVqUEBoSMzbGRJRQLrooosuulFADYl5O0NiUkBgKVDrVwpTQLLJJptsslNABWr9SoFaVEBYCtT6lQJVQKuqqqqqqlVA/kqBWr9SVkBQ61cK1PpWQKOLLrrooldA9isFav1KWEBIzNsZEvNYQJtssskmm1lA7gyJeTtDWkBBrV8pUOtaQJRNNtlkk1tA5u0MiXk7XEA5juM4juNcQIwuuuiii11A3s6QmLczXkAxb2dIzNteQIQPPvjgg19A61cK1PoVYEAVqPUrBWpgQD744IMPvmBAaEjM2xkSYUCRmLczJGZhQLrooosuumFA5DiO4zgOYkANiXk7Q2JiQDbZZJNNtmJAYClQ61cKY0CJeTtDYl5jQLLJJptssmNA3BkS83YGZEAFav1KgVpkQC+66KKLrmRAWArU+pUCZUCBWr9SoFZlQKuqqqqqqmVA1PqVArX+ZUD+SoFav1JmQCebbLLJpmZAUOtXCtT6ZkB6O0Ni3k5nQKOLLrroomdAzNsZEvP2Z0D2KwVq/UpoQB988MEHn2hASMzbGRLzaEByHMdxHEdpQJtssskmm2lAxbydITHvaUDuDIl5O0NqQBdddNFFl2pAQa1fKVDrakBq/UqBWj9rQJRNNtlkk2tAvZ0hMW/na0Dm7QyJeTtsQBA++OCDj2xAOY7jOI7jbEBi3s6QmDdtQIwuuuiii21AtX6lQK3fbUDezpCYtzNuQAgffPDBh25AMW9nSMzbbkBbv1Kg1i9vQIQPPvjgg29ArV8pUOvXb0DrVwrU+hVwQAAAAAAAQHBAFaj1KwVqcEApUOtXCpRwQD744IMPvnBAU6DWrxTocEBoSMzbGRJxQHzwwQcfPHFAkZi3MyRmcUCmQK1fKZBxQLrooosuunFAz5CYtzPkcUAAAAAAAAAAABWo9SsFagVAFaj1KwVqFUAQPvjggw8gQBWo9SsFaiVAGhLzdobEKkAQPvjggw8wQBLzdobEvDJAFaj1KwVqNUAYXXTRRRc4QBoS83aGxDpAHcdxHMdxPUAQPvjggw9AQJGYtzMkZkFAEvN2hsS8QkCUTTbZZBNEQBWo9SsFakVAlgK1fqXARkAYXXTRRRdIQJm3MyTmbUlAGhLzdobESkCcbLLJJhtMQB3HcRzHcU1AniExb2fITkAQPvjggw9QQFDrVwrUulBAkZi3MyRmUUDSRRdddBFSQBLzdobEvFJAU6DWrxRoU0CUTTbZZBNUQNT6lQK1vlRAFaj1KwVqVUBWVVVVVRVWQJYCtX6lwFZA168UqPVrV0AYXXTRRRdYQFgK1PqVwlhAmbczJOZtWUDaZJNNNhlaQBoS83aGxFpAW79SoNZvW0CcbLLJJhtcQNwZEvN2xlxAHcdxHMdxXUBedNFFFx1eQJ4hMW9nyF5A386QmLdzX0AQPvjggw9gQLAUqPUrZWBAUOtXCtS6YEDxwQcffBBhQJGYtzMkZmFAMW9nSMy7YUDSRRdddBFiQHIcx3EcZ2JAEvN2hsS8YkCzySabbBJjQFOg1q8UaGNA83aGxLy9Y0CUTTbZZBNkQDQk5u0MaWRA1PqVArW+ZEB10UUXXRRlQBWo9SsFamVAtX6lQK2/ZUBWVVVVVRVmQPYrBWr9amZAlgK1fqXAZkA32WSTTRZnQNevFKj1a2dAd4bEvJ3BZ0AYXXTRRRdoQLgzJObtbGhAWArU+pXCaED54IMPPhhpQJm3MyTmbWlAOY7jOI7DaUDaZJNNNhlqQHo7Q2LebmpAGhLzdobEakC76KKLLhprQFu/UqDWb2tA+5UCtX7Fa0CcbLLJJhtsQDxDYt7OcGxA3BkS83bGbEB98MEHHxxtQB3HcRzHcW1AvZ0hMW/HbUBedNFFFx1uQP5KgVq/cm5AniExb2fIbkA/+OCDDx5vQN/OkJi3c29Af6VArV/Jb0AQPvjggw9wQGApUOtXOnBAsBSo9StlcEAAAAAAAJBwQFDrVwrUunBAodavFKjlcEDxwQcffBBxQEGtXylQO3FAkZi3MyRmcUDhgw8++JBxQDFvZ0jMu3FAglq/UqDmcUDSRRdddBFyQCIxb2dIPHJAAAAAAAAAAADRRRdddNEFQNFFF1100RVAXXTRRRddIEDRRRdddNElQEUXXXTRRStAXXTRRRddMEAXXXTRRRczQNFFF1100TVAiy666KKLOEBFF1100UU7QP///////z1AXXTRRRddQEC66KKLLrpBQBdddNFFF0NAdNFFF110REDRRRdddNFFQC666KKLLkdAiy666KKLSEDooosuuuhJQEUXXXTRRUtAoosuuuiiTED///////9NQFx00UUXXU9AXXTRRRddUECLLrroogtRQLrooosuulFA6KKLLrpoUkAXXXTRRRdTQEUXXXTRxVNAdNFFF110VECiiy666CJVQNFFF1100VVAAAAAAACAVkAuuuiiiy5XQF100UUX3VdAiy666KKLWEC66KKLLjpZQOiiiy666FlAF1100UWXWkBFF1100UVbQHTRRRdd9FtAoosuuuiiXEDRRRdddFFdQP///////11ALrrooouuXkBcdNFFF11fQEUXXXTRBWBAXXTRRRddYEB00UUXXbRgQIsuuuiiC2FAo4suuuhiYUC66KKLLrphQNFFF110EWJA6KKLLrpoYkAAAAAAAMBiQBdddNFFF2NALrroootuY0BFF1100cVjQF100UUXHWRAdNFFF110ZECLLrroostkQKKLLrroImVAuuiiiy56ZUDRRRdddNFlQOiiiy66KGZAAAAAAACAZkAXXXTRRddmQC666KKLLmdARRdddNGFZ0BddNFFF91nQHTRRRddNGhAiy666KKLaECiiy666OJoQLrooosuOmlA0UUXXXSRaUDooosuuuhpQP//////P2pAF1100UWXakAuuuiii+5qQEUXXXTRRWtAXXTRRReda0B00UUXXfRrQIsuuuiiS2xAoosuuuiibEC66KKLLvpsQNFFF110UW1A6KKLLrqobUD///////9tQBdddNFFV25ALrrooouubkBFF1100QVvQFx00UUXXW9AdNFFF120b0BFF1100QVwQNFFF110MXBAXXTRRRddcEDooosuuohwQHTRRRddtHBAAAAAAADgcECLLrroogtxQBdddNFFN3FAo4suuuhicUAuuuiii45xQLrooosuunFARRdddNHlcUDRRRdddBFyQF100UUXPXJA6KKLLrpockB00UUXXZRyQAAAAAAAAAAAjuM4juM4BkCO4ziO4zgWQKqqqqqqqiBAjuM4juM4JkByHMdxHMcrQKqqqqqqqjBAHMdxHMdxM0CO4ziO4zg2QAAAAAAAADlAchzHcRzHO0DjOI7jOI4+QKqqqqqqqkBA4ziO4zgOQkAcx3Ecx3FDQFVVVVVV1URAjuM4juM4RkDHcRzHcZxHQAAAAAAAAElAOY7jOI5jSkByHMdxHMdLQKqqqqqqKk1A4ziO4ziOTkAcx3Ecx/FPQKqqqqqqqlBAx3Ecx3FcUUDjOI7jOA5SQAAAAAAAwFJAHMdxHMdxU0A5juM4jiNUQFVVVVVV1VRAchzHcRyHVUCO4ziO4zhWQKqqqqqq6lZAx3Ecx3GcV0DjOI7jOE5YQAAAAAAAAFlAHMdxHMexWUA5juM4jmNaQFVVVVVVFVtAchzHcRzHW0CO4ziO43hcQKqqqqqqKl1Ax3Ecx3HcXUDjOI7jOI5eQAAAAAAAQF9AHMdxHMfxX0Acx3Ecx1FgQKqqqqqqqmBAOY7jOI4DYUDHcRzHcVxhQFVVVVVVtWFA4ziO4zgOYkByHMdxHGdiQAAAAAAAwGJAjuM4juMYY0Acx3Ecx3FjQKqqqqqqymNAOY7jOI4jZEDHcRzHcXxkQFVVVVVV1WRA4ziO4zguZUByHMdxHIdlQAAAAAAA4GVAjuM4juM4ZkAcx3Ecx5FmQKqqqqqq6mZAOY7jOI5DZ0DHcRzHcZxnQFVVVVVV9WdA4ziO4zhOaEByHMdxHKdoQAAAAAAAAGlAjuM4juNYaUAcx3Ecx7FpQKqqqqqqCmpAOY7jOI5jakDHcRzHcbxqQFVVVVVVFWtA4ziO4zhua0ByHMdxHMdrQAAAAAAAIGxAjuM4juN4bEAcx3Ecx9FsQKqqqqqqKm1AOY7jOI6DbUDHcRzHcdxtQFVVVVVVNW5A4ziO4ziObkBxHMdxHOduQAAAAAAAQG9AjuM4juOYb0Acx3Ecx/FvQFVVVVVVJXBAHMdxHMdRcEDjOI7jOH5wQKqqqqqqqnBAchzHcRzXcEA5juM4jgNxQAAAAAAAMHFAx3Ecx3FccUCO4ziO44hxQFVVVVVVtXFAHMdxHMfhcUDjOI7jOA5yQKqqqqqqOnJAchzHcRxnckA5juM4jpNyQAAAAAAAwHJAx3Ecx3HsckAAAAAAAAAAAEuBWr9SoAZAS4Fav1KgFkD44IMPPvggQEuBWr9SoCZAniExb2dILED44IMPPvgwQCIxb2dIzDNAS4Fav1KgNkB00UUXXXQ5QJ4hMW9nSDxAx3Ecx3EcP0D44IMPPvhAQA2JeTtDYkJAIjFvZ0jMQ0A22WSTTTZFQEuBWr9SoEZAYClQ61cKSEB00UUXXXRJQIl5O0Ni3kpAniExb2dITECyySabbLJNQMdxHMdxHE9A7gyJeTtDUED44IMPPvhQQAO1fqVArVFADYl5O0NiUkAXXXTRRRdTQCIxb2dIzFNALAVq/UqBVEA22WSTTTZVQEGtXylQ61VAS4Fav1KgVkBVVVVVVVVXQGApUOtXClhAav1KgVq/WEB00UUXXXRZQH+lQK1fKVpAiXk7Q2LeWkCTTTbZZJNbQJ4hMW9nSFxAqPUrBWr9XECyySabbLJdQL2dITFvZ15Ax3Ecx3EcX0DRRRdddNFfQO4MiXk7Q2BA83aGxLydYED44IMPPvhgQP1KgVq/UmFAA7V+pUCtYUAIH3zwwQdiQA2JeTtDYmJAEvN2hsS8YkAXXXTRRRdjQBzHcRzHcWNAIjFvZ0jMY0Anm2yyySZkQCwFav1KgWRAMW9nSMzbZEA22WSTTTZlQDtDYt7OkGVAQa1fKVDrZUBGF1100UVmQEuBWr9SoGZAUOtXCtT6ZkBVVVVVVVVnQFu/UqDWr2dAYClQ61cKaEBlk0022WRoQGr9SoFav2hAb2dIzNsZaUB00UUXXXRpQHo7Q2LezmlAf6VArV8pakCEDz744INqQIl5O0Ni3mpAjuM4juM4a0CTTTbZZJNrQJm3MyTm7WtAniExb2dIbECjiy666KJsQKj1KwVq/WxArV8pUOtXbUCyySabbLJtQLgzJObtDG5AvZ0hMW9nbkDCBx988MFuQMdxHMdxHG9AzNsZEvN2b0DRRRdddNFvQOtXCtT6FXBA7gyJeTtDcEDwwQcffHBwQPN2hsS8nXBA9isFav3KcED44IMPPvhwQPuVArV+JXFA/UqBWr9ScUAAAAAAAIBxQAO1fqVArXFABWr9SoHacUAIH3zwwQdyQArU+pUCNXJADYl5O0NickAQPvjgg49yQBLzdobEvHJAFaj1KwXqckAXXXTRRRdzQBoS83aGRHNAAAAAAAAAAAAIH3zwwQcHQAgffPDBBxdARhdddNFFIUAIH3zwwQcnQMomm2yyySxARhdddNFFMUAnm2yyySY0QAgffPDBBzdA6aKLLrroOUDKJptsssk8QKuqqqqqqj9ARhdddNFFQUA22WSTTbZCQCebbLLJJkRAGF100UWXRUAIH3zwwQdHQPjggw8+eEhA6aKLLrroSUDaZJNNNllLQMomm2yyyUxAuuiiiy46TkCrqqqqqqpPQE422WSTjVBARhdddNFFUUA++OCDD/5RQDbZZJNNtlJAL7roootuU0Anm2yyySZUQB988MEH31RAGF100UWXVUAQPvjgg09WQAgffPDBB1dAAAAAAADAV0D44IMPPnhYQPHBBx98MFlA6aKLLrroWUDhgw8++KBaQNpkk002WVtA0kUXXXQRXEDKJptssslcQMIHH3zwgV1Auuiiiy46XkCzySabbPJeQKuqqqqqql9A0kUXXXQxYEBONtlkk41gQMomm2yy6WBARhdddNFFYUDCBx988KFhQD744IMP/mFAuuiiiy5aYkA22WSTTbZiQLPJJptsEmNAL7roootuY0CrqqqqqspjQCebbLLJJmRAo4suuuiCZEAffPDBB99kQJtssskmO2VAGF100UWXZUCUTTbZZPNlQBA++OCDT2ZAjC666KKrZkAIH3zwwQdnQIQPPvjgY2dAAAAAAADAZ0B88MEHHxxoQPjggw8+eGhAddFFF13UaEDxwQcffDBpQG2yySabjGlA6aKLLrroaUBlk0022URqQOGDDz74oGpAXXTRRRf9akDaZJNNNllrQFZVVVVVtWtA0kUXXXQRbEBONtlkk21sQMomm2yyyWxARhdddNElbUDCBx988IFtQD744IMP3m1Auuiiiy46bkA32WSTTZZuQLPJJpts8m5AL7roootOb0CrqqqqqqpvQJRNNtlkA3BA0kUXXXQxcEAQPvjgg19wQE422WSTjXBAjC666KK7cEDKJptssulwQAgffPDBF3FARhdddNFFcUCEDz744HNxQMIHH3zwoXFAAAAAAADQcUA++OCDD/5xQHzwwQcfLHJAuuiiiy5ackD44IMPPohyQDbZZJNNtnJAddFFF13kckCzySabbBJzQPHBBx98QHNAL7roootuc0Btsskmm5xzQAAAAAAAAAAAxLydITFvB0DEvJ0hMW8XQJNNNtlkkyFAxLydITFvJ0D1KwVq/UotQJNNNtlkkzFALAVq/UqBNEDEvJ0hMW83QFx00UUXXTpA9SsFav1KPUDHcRzHcRxAQJNNNtlkk0FAXylQ61cKQ0AsBWr9SoFEQPjggw8++EVAxLydITFvR0CQmLczJOZIQFx00UUXXUpAKVDrVwrUS0D1KwVq/UpNQMEHH3zwwU5Ax3Ecx3EcUECtXylQ69dQQJNNNtlkk1FAeTtDYt5OUkBfKVDrVwpTQEUXXXTRxVNALAVq/UqBVEAS83aGxDxVQPjggw8++FVA3s6QmLezVkDEvJ0hMW9XQKqqqqqqKlhAkJi3MyTmWEB2hsS8naFZQFx00UUXXVpAQ2LezpAYW0ApUOtXCtRbQA8++OCDj1xA9SsFav1KXUDbGRLzdgZeQMEHH3zwwV5Ap/UrBWp9X0DHcRzHcRxgQLrooosuemBArV8pUOvXYECg1q8UqDVhQJNNNtlkk2FAhsS8nSHxYUB5O0Ni3k5iQGyyySabrGJAXylQ61cKY0BSoNavFGhjQEUXXXTRxWNAOI7jOI4jZEAsBWr9SoFkQB988MEH32RAEvN2hsQ8ZUAFav1KgZplQPjggw8++GVA61cK1PpVZkDezpCYt7NmQNFFF110EWdAxLydITFvZ0C3MyTm7cxnQKqqqqqqKmhAnSExb2eIaECQmLczJOZoQIMPPvjgQ2lAdobEvJ2haUBp/UqBWv9pQFx00UUXXWpAUOtXCtS6akBDYt7OkBhrQDbZZJNNdmtAKVDrVwrUa0Acx3EcxzFsQA8++OCDj2xAArV+pUDtbED1KwVq/UptQOiiiy66qG1A2xkS83YGbkDOkJi3M2RuQMEHH3zwwW5AtH6lQK0fb0Cn9SsFan1vQJpssskm229Ax3Ecx3EccEBArV8pUEtwQLrooosuenBAMyTm7QypcECtXylQ69dwQCabbLLJBnFAoNavFKg1cUAZEvN2hmRxQJNNNtlkk3FADYl5O0PCcUCGxLydIfFxQAAAAAAAIHJAeTtDYt5OckDzdobEvH1yQGyyySabrHJA5u0MiXnbckBfKVDrVwpzQNlkk002OXNAUqDWrxRoc0DM2xkS85ZzQEUXXXTRxXNAv1Kg1q/0c0AAAAAAAAAAAIFav1Kg1gdAgVq/UqDWF0Dhgw8++OAhQIFav1Kg1idAITFvZ0jMLUDhgw8++OAxQDFvZ0jM2zRAgVq/UqDWN0DRRRdddNE6QCExb2dIzD1AOY7jOI5jQEDhgw8++OBBQIl5O0NiXkNAMW9nSMzbREDZZJNNNllGQIFav1Kg1kdAKVDrVwpUSUDRRRdddNFKQHk7Q2LeTkxAITFvZ0jMTUDJJptssklPQDmO4ziOY1BADYl5O0MiUUDhgw8++OBRQLV+pUCtn1JAiXk7Q2JeU0BddNFFFx1UQDFvZ0jM21RABWr9SoGaVUDZZJNNNllWQK1fKVDrF1dAgVq/UqDWV0BVVVVVVZVYQClQ61cKVFlA/UqBWr8SWkDRRRdddNFaQKVArV8pkFtAeTtDYt5OXEBNNtlkkw1dQCExb2dIzF1A9SsFav2KXkDJJptssklfQM+QmLczBGBAOY7jOI5jYECjiy666MJgQA2JeTtDImFAd4bEvJ2BYUDhgw8++OBhQEuBWr9SQGJAtX6lQK2fYkAffPDBB/9iQIl5O0NiXmNA83aGxLy9Y0BddNFFFx1kQMdxHMdxfGRAMW9nSMzbZECbbLLJJjtlQAVq/UqBmmVAb2dIzNv5ZUDZZJNNNllmQENi3s6QuGZArV8pUOsXZ0AXXXTRRXdnQIFav1Kg1mdA61cK1Po1aEBVVVVVVZVoQL9SoNav9GhAKVDrVwpUaUCTTTbZZLNpQP1KgVq/EmpAZ0jM2xlyakDRRRdddNFqQDtDYt7OMGtApUCtXymQa0APPvjgg+9rQHk7Q2LeTmxA4ziO4ziubEBNNtlkkw1tQLczJObtbG1AITFvZ0jMbUCLLrrooituQPUrBWr9im5AXylQ61fqbkDJJptssklvQDMk5u0MqW9Az5CYtzMEcECEDz744DNwQDmO4ziOY3BA7gyJeTuTcECjiy666MJwQFgK1PqV8nBADYl5O0MicUDCBx988FFxQHeGxLydgXFALAVq/UqxcUDhgw8++OBxQJYCtX6lEHJAS4Fav1JAckAAAAAAAHByQLV+pUCtn3JAav1KgVrPckAffPDBB/9yQNT6lQK1LnNAiXk7Q2Jec0A++OCDD45zQPN2hsS8vXNAqPUrBWrtc0BddNFFFx10QBLzdobETHRAAAAAAAAAAAA++OCDDz4IQD744IMPPhhALrrooosuIkA++OCDDz4oQE422WSTTS5ALrrooosuMkA22WSTTTY1QD744IMPPjhARhdddNFFO0BONtlkk00+QKuqqqqqqkBALrrooosuQkCyySabbLJDQDbZZJNNNkVAuuiiiy66RkA++OCDDz5IQMIHH3zwwUlARhdddNFFS0DKJptssslMQE422WSTTU5A0UUXXXTRT0CrqqqqqqpQQG2yySabbFFALrrooosuUkDwwQcffPBSQLLJJptsslNAdNFFF110VEA22WSTTTZVQPjggw8++FVAuuiiiy66VkB88MEHH3xXQD744IMPPlhAAAAAAAAAWUDCBx988MFZQIQPPvjgg1pARhdddNFFW0AIH3zwwQdcQMomm2yyyVxAjC666KKLXUBONtlkk01eQA8++OCDD19A0UUXXXTRX0DKJptssklgQKuqqqqqqmBAjC666KILYUBtsskmm2xhQE422WSTzWFALrrooosuYkAPPvjgg49iQPDBBx988GJA0UUXXXRRY0CyySabbLJjQJNNNtlkE2RAdNFFF110ZEBVVVVVVdVkQDbZZJNNNmVAF1100UWXZUD44IMPPvhlQNlkk002WWZAuuiiiy66ZkCbbLLJJhtnQHzwwQcffGdAXXTRRRfdZ0A++OCDDz5oQB988MEHn2hAAAAAAAAAaUDhgw8++GBpQMIHH3zwwWlAo4suuugiakCEDz744INqQGWTTTbZ5GpARhdddNFFa0Anm2yyyaZrQAgffPDBB2xA6aKLLrpobEDKJptssslsQKuqqqqqKm1AjC666KKLbUBtsskmm+xtQE422WSTTW5ALrrooouubkAPPvjggw9vQPDBBx98cG9A0UUXXXTRb0DZZJNNNhlwQMomm2yySXBAuuiiiy56cECrqqqqqqpwQJtssskm23BAjC666KILcUB88MEHHzxxQG2yySabbHFAXXTRRRedcUBONtlkk81xQD744IMP/nFALrrooosuckAffPDBB19yQA8++OCDj3JAAAAAAADAckDwwQcffPByQOGDDz74IHNA0UUXXXRRc0DCBx988IFzQLLJJptssnNAo4suuujic0CTTTbZZBN0QIQPPvjgQ3RAdNFFF110dEBlk0022aR0QAAAAAAAAAAA+5UCtX6lCED7lQK1fqUYQHzwwQcffCJA+5UCtX6lKEB6O0Ni3s4uQHzwwQcffDJAPENi3s6QNUD7lQK1fqU4QLrooosuujtAejtDYt7OPkAdx3Ecx/FAQHzwwQcffEJA3BkS83YGREA8Q2LezpBFQJtssskmG0dA+5UCtX6lSEBbv1Kg1i9KQLrooosuuktAGhLzdoZETUB6O0Ni3s5OQG2yySabLFBAHcdxHMfxUEDM2xkS87ZRQHzwwQcffFJALAVq/UpBU0DcGRLzdgZUQIwuuuiiy1RAPENi3s6QVUDrVwrU+lVWQJtssskmG1dAS4Fav1LgV0D7lQK1fqVYQKuqqqqqallAW79SoNYvWkAL1PqVAvVaQLrooosuultAav1KgVp/XEAaEvN2hkRdQMomm2yyCV5AejtDYt7OXkAqUOtXCpRfQG2yySabLGBAxbydITGPYEAdx3Ecx/FgQHTRRRddVGFAzNsZEvO2YUAk5u0MiRliQHzwwQcffGJA1PqVArXeYkAsBWr9SkFjQIQPPvjgo2NA3BkS83YGZEA0JObtDGlkQIwuuuiiy2RA5DiO4zguZUA8Q2LezpBlQJRNNtlk82VA61cK1PpVZkBDYt7OkLhmQJtssskmG2dA83aGxLx9Z0BLgVq/UuBnQKOLLrroQmhA+5UCtX6laEBToNavFAhpQKuqqqqqamlAA7V+pUDNaUBbv1Kg1i9qQLPJJptskmpAC9T6lQL1akBi3s6QmFdrQLrooosuumtAEvN2hsQcbEBq/UqBWn9sQMIHH3zw4WxAGhLzdoZEbUByHMdxHKdtQMomm2yyCW5AIjFvZ0hsbkB6O0Ni3s5uQNJFF110MW9AKlDrVwqUb0CCWr9SoPZvQG2yySabLHBAmbczJOZdcEDFvJ0hMY9wQPHBBx98wHBAHcdxHMfxcEBJzNsZEiNxQHTRRRddVHFAoNavFKiFcUDM2xkS87ZxQPjggw8+6HFAJObtDIkZckBQ61cK1EpyQHzwwQcffHJAqPUrBWqtckDU+pUCtd5yQAAAAAAAEHNALAVq/UpBc0BYCtT6lXJzQIQPPvjgo3NAsBSo9SvVc0DcGRLzdgZ0QAgffPDBN3RANCTm7QxpdEBgKVDrV5p0QIwuuuiiy3RAuDMk5u38dEAAAAAAAAAAALczJObtDAlAtzMk5u0MGUDJJptssskiQLczJObtDClApUCtXylQL0DJJptssskyQECtXylQ6zVAtzMk5u0MOUAuuuiiiy48QKVArV8pUD9AjuM4juM4QUDJJptssslCQAVq/UqBWkRAQK1fKVDrRUB88MEHH3xHQLczJObtDElA8naGxLydSkAuuuiiiy5MQGn9SoFav01ApUCtXylQT0DwwQcffHBQQI7jOI7jOFFALAVq/UoBUkDJJptssslSQGdIzNsZklNABWr9SoFaVECiiy666CJVQECtXylQ61VA3s6QmLezVkB88MEHH3xXQBkS83aGRFhAtzMk5u0MWUBVVVVVVdVZQPJ2hsS8nVpAkJi3MyRmW0Auuuiiiy5cQMzbGRLz9lxAaf1KgVq/XUAHH3zwwYdeQKVArV8pUF9AITFvZ0gMYEDwwQcffHBgQL9SoNav1GBAjuM4juM4YUBddNFFF51hQCwFav1KAWJA+pUCtX5lYkDJJptsssliQJi3MyTmLWNAZ0jM2xmSY0A22WSTTfZjQAVq/UqBWmRA1PqVArW+ZECiiy666CJlQHEcx3Ech2VAQK1fKVDrZUAPPvjgg09mQN7OkJi3s2ZArV8pUOsXZ0B88MEHH3xnQEqBWr9S4GdAGRLzdoZEaEDooosuuqhoQLczJObtDGlAhsS8nSFxaUBVVVVVVdVpQCTm7QyJOWpA8naGxLydakDBBx988AFrQJCYtzMkZmtAXylQ61fKa0Auuuiiiy5sQP1KgVq/kmxAzNsZEvP2bECabLLJJlttQGn9SoFav21AOI7jOI4jbkAHH3zwwYduQNavFKj1625ApUCtXylQb0B00UUXXbRvQCExb2dIDHBAiXk7Q2I+cEDwwQcffHBwQFgK1PqVonBAv1Kg1q/UcEAmm2yyyQZxQI7jOI7jOHFA9SsFav1qcUBddNFFF51xQMS8nSExz3FALAVq/UoBckCTTTbZZDNyQPqVArV+ZXJAYt7OkJiXckDJJptssslyQDFvZ0jM+3JAmLczJOYtc0AAAAAAAGBzQGdIzNsZknNAzpCYtzPEc0A22WSTTfZzQJ0hMW9nKHRABWr9SoFadEBssskmm4x0QNT6lQK1vnRAO0Ni3s7wdECiiy666CJ1QArU+pUCVXVAAAAAAAAAAAB00UUXXXQJQHTRRRdddBlAF1100UUXI0B00UUXXXQpQNFFF1100S9AF1100UUXM0BGF1100UU2QHTRRRdddDlAoosuuuiiPEDRRRdddNE/QAAAAAAAgEFAF1100UUXQ0Auuuiii65EQEYXXXTRRUZAXXTRRRfdR0B00UUXXXRJQIsuuuiiC0tAoosuuuiiTEC66KKLLjpOQNFFF1100U9AdNFFF120UEAAAAAAAIBRQIsuuuiiS1JAF1100UUXU0Cjiy666OJTQC666KKLrlRAuuiiiy56VUBGF1100UVWQNFFF110EVdAXXTRRRfdV0DooosuuqhYQHTRRRdddFlAAAAAAABAWkCLLrroogtbQBdddNFF11tAoosuuuiiXEAuuuiii25dQLrooosuOl5ARRdddNEFX0DRRRdddNFfQC666KKLTmBAdNFFF120YEC66KKLLhphQAAAAAAAgGFARhdddNHlYUCLLrrooktiQNFFF110sWJAF1100UUXY0BddNFFF31jQKOLLrro4mNA6KKLLrpIZEAuuuiii65kQHTRRRddFGVAuuiiiy56ZUAAAAAAAOBlQEYXXXTRRWZAiy666KKrZkDRRRdddBFnQBdddNFFd2dAXXTRRRfdZ0Cjiy666EJoQOiiiy66qGhALrrooosOaUB00UUXXXRpQLrooosu2mlAAAAAAABAakBFF1100aVqQIsuuuiiC2tA0UUXXXRxa0AXXXTRRddrQF100UUXPWxAoosuuuiibEDooosuughtQC666KKLbm1AdNFFF13UbUC66KKLLjpuQAAAAAAAoG5ARRdddNEFb0CLLrroomtvQNFFF1100W9Aiy666KIbcEAuuuiii05wQNFFF110gXBAdNFFF120cEAXXXTRRedwQLrooosuGnFAXXTRRRdNcUAAAAAAAIBxQKOLLrrosnFARhdddNHlcUDooosuuhhyQIsuuuiiS3JALrrooot+ckDRRRdddLFyQHTRRRdd5HJAF1100UUXc0C66KKLLkpzQF100UUXfXNAAAAAAACwc0Cjiy666OJzQEYXXXTRFXRA6KKLLrpIdECLLrroont0QC666KKLrnRA0UUXXXThdEB00UUXXRR1QBdddNFFR3VAuuiiiy56dUBddNFFF611QAAAAAAAAAAAMW9nSMzbCUAxb2dIzNsZQGWTTTbZZCNAMW9nSMzbKUB/pUCtXykwQGWTTTbZZDNAS4Fav1KgNkAxb2dIzNs5QBdddNFFFz1Af6VArV8pQEByHMdxHMdBQGWTTTbZZENAWArU+pUCRUBLgVq/UqBGQD744IMPPkhAMW9nSMzbSUAk5u0MiXlLQBdddNFFF01ACtT6lQK1TkB/pUCtXylQQPjggw8++FBAchzHcRzHUUDrVwrU+pVSQGWTTTbZZFNA3s6QmLczVEBYCtT6lQJVQNFFF1100VVAS4Fav1KgVkDEvJ0hMW9XQD744IMPPlhAtzMk5u0MWUAxb2dIzNtZQKuqqqqqqlpAJObtDIl5W0CeITFvZ0hcQBdddNFFF11AkZi3MyTmXUAK1PqVArVeQIQPPvjgg19Af6VArV8pYEA7Q2LezpBgQPjggw8++GBAtX6lQK1fYUByHMdxHMdhQC666KKLLmJA61cK1PqVYkCo9SsFav1iQGWTTTbZZGNAIjFvZ0jMY0DezpCYtzNkQJtssskmm2RAWArU+pUCZUAVqPUrBWplQNFFF1100WVAjuM4juM4ZkBLgVq/UqBmQAgffPDBB2dAxLydITFvZ0CBWr9SoNZnQD744IMPPmhA+5UCtX6laEC3MyTm7QxpQHTRRRdddGlAMW9nSMzbaUDuDIl5O0NqQKuqqqqqqmpAZ0jM2xkSa0Ak5u0MiXlrQOGDDz744GtAniExb2dIbEBav1Kg1q9sQBdddNFFF21A1PqVArV+bUCRmLczJOZtQE022WSTTW5ACtT6lQK1bkDHcRzHcRxvQIQPPvjgg29AQK1fKVDrb0B/pUCtXylwQF100UUXXXBAO0Ni3s6QcEAaEvN2hsRwQPjggw8++HBA168UqPUrcUC1fqVArV9xQJNNNtlkk3FAchzHcRzHcUBQ61cK1PpxQC666KKLLnJADYl5O0NickDrVwrU+pVyQMomm2yyyXJAqPUrBWr9ckCGxLydITFzQGWTTTbZZHNAQ2LezpCYc0AiMW9nSMxzQAAAAAAAAHRA3s6QmLczdEC9nSExb2d0QJtssskmm3RAeTtDYt7OdEBYCtT6lQJ1QDbZZJNNNnVAFaj1KwVqdUDzdobEvJ11QNFFF1100XVAsBSo9SsFdkAAAAAAAAAAAO4MiXk7QwpA7gyJeTtDGkCyySabbLIjQO4MiXk7QypAFaj1KwVqMECyySabbLIzQFDrVwrU+jZA7gyJeTtDOkCMLrrooos9QBWo9SsFakBA5DiO4zgOQkCyySabbLJDQIFav1KgVkVAUOtXCtT6RkAffPDBB59IQO4MiXk7Q0pAvZ0hMW/nS0CMLrroootNQFu/UqDWL09AFaj1KwVqUEB88MEHHzxRQOQ4juM4DlJAS4Fav1LgUkCyySabbLJTQBoS83aGhFRAgVq/UqBWVUDpoosuuihWQFDrVwrU+lZAuDMk5u3MV0AffPDBB59YQIfEvJ0hcVlA7gyJeTtDWkBVVVVVVRVbQL2dITFv51tAJObtDIm5XECMLrroootdQPN2hsS8XV5AW79SoNYvX0Dhgw8++ABgQBWo9SsFamBASMzbGRLTYEB88MEHHzxhQLAUqPUrpWFA5DiO4zgOYkAXXXTRRXdiQEuBWr9S4GJAf6VArV9JY0CyySabbLJjQObtDIl5G2RAGhLzdoaEZEBONtlkk+1kQIFav1KgVmVAtX6lQK2/ZUDpoosuuihmQB3HcRzHkWZAUOtXCtT6ZkCEDz744GNnQLgzJObtzGdA61cK1Po1aEAffPDBB59oQFOg1q8UCGlAh8S8nSFxaUC66KKLLtppQO4MiXk7Q2pAIjFvZ0isakBVVVVVVRVrQIl5O0NifmtAvZ0hMW/na0DxwQcffFBsQCTm7QyJuWxAWArU+pUibUCMLrrooottQL9SoNav9G1A83aGxLxdbkAnm2yyycZuQFu/UqDWL29AjuM4juOYb0Dhgw8++ABwQPuVArV+NXBAFaj1KwVqcEAvuuiii55wQEjM2xkS03BAYt7OkJgHcUB88MEHHzxxQJYCtX6lcHFAsBSo9SulcUDKJptsstlxQOQ4juM4DnJA/UqBWr9CckAXXXTRRXdyQDFvZ0jMq3JAS4Fav1LgckBlk0022RRzQH+lQK1fSXNAmbczJOZ9c0CyySabbLJzQMzbGRLz5nNA5u0MiXkbdEAAAAAAAFB0QBoS83aGhHRANCTm7Qy5dEBONtlkk+10QGhIzNsZInVAgVq/UqBWdUCbbLLJJot1QLV+pUCtv3VAz5CYtzP0dUDpoosuuih2QAO1fqVAXXZAAAAAAAAAAACrqqqqqqoKQKuqqqqqqhpAAAAAAAAAJECrqqqqqqoqQKuqqqqqqjBAAAAAAAAANEBWVVVVVVU3QKuqqqqqqjpAAAAAAAAAPkCrqqqqqqpAQFZVVVVVVUJAAAAAAAAARECrqqqqqqpFQFZVVVVVVUdAAAAAAAAASUCrqqqqqqpKQFZVVVVVVUxAAAAAAAAATkCrqqqqqqpPQKuqqqqqqlBAAAAAAACAUUBWVVVVVVVSQKuqqqqqKlNAAAAAAAAAVEBWVVVVVdVUQKuqqqqqqlVAAAAAAACAVkBWVVVVVVVXQKuqqqqqKlhAAAAAAAAAWUBWVVVVVdVZQKuqqqqqqlpAAAAAAACAW0BWVVVVVVVcQKuqqqqqKl1AAAAAAAAAXkBWVVVVVdVeQKuqqqqqql9AAAAAAABAYECrqqqqqqpgQFZVVVVVFWFAAAAAAACAYUCrqqqqquphQFZVVVVVVWJAAAAAAADAYkCrqqqqqipjQFZVVVVVlWNAAAAAAAAAZECrqqqqqmpkQFZVVVVV1WRAAAAAAABAZUCrqqqqqqplQFZVVVVVFWZAAAAAAACAZkCrqqqqqupmQFZVVVVVVWdAAAAAAADAZ0CrqqqqqipoQFZVVVVVlWhAAAAAAAAAaUCrqqqqqmppQFZVVVVV1WlAAAAAAABAakCrqqqqqqpqQFZVVVVVFWtAAAAAAACAa0CrqqqqquprQFZVVVVVVWxAAAAAAADAbECrqqqqqiptQFZVVVVVlW1AAAAAAAAAbkCrqqqqqmpuQFZVVVVV1W5AAAAAAABAb0CrqqqqqqpvQKuqqqqqCnBAAAAAAABAcEBWVVVVVXVwQKuqqqqqqnBAAAAAAADgcEBWVVVVVRVxQKuqqqqqSnFAAAAAAACAcUBWVVVVVbVxQKuqqqqq6nFAAAAAAAAgckBWVVVVVVVyQKuqqqqqinJAAAAAAADAckBWVVVVVfVyQKuqqqqqKnNAAAAAAABgc0BWVVVVVZVzQKuqqqqqynNAAAAAAAAAdEBWVVVVVTV0QKuqqqqqanRAAAAAAACgdEBWVVVVVdV0QKuqqqqqCnVAAAAAAABAdUBWVVVVVXV1QKuqqqqqqnVAAAAAAADgdUBWVVVVVRV2QKuqqqqqSnZAAAAAAACAdkBWVVVVVbV2QAAAAAAAAAAAZ0jM2xkSC0BnSMzbGRIbQE022WSTTSRAZ0jM2xkSK0BArV8pUOswQE022WSTTTRAWr9SoNavN0BnSMzbGRI7QHTRRRdddD5AQK1fKVDrQEDHcRzHcZxCQE022WSTTURA1PqVArX+RUBav1Kg1q9HQOGDDz74YElAZ0jM2xkSS0DtDIl5O8NMQHTRRRdddE5A/UqBWr8SUEBArV8pUOtQQIQPPvjgw1FAx3Ecx3GcUkAK1PqVAnVTQE022WSTTVRAkJi3MyQmVUDU+pUCtf5VQBdddNFF11ZAWr9SoNavV0CdITFvZ4hYQOGDDz74YFlAJObtDIk5WkBnSMzbGRJbQKqqqqqq6ltA7QyJeTvDXEAxb2dIzJtdQHTRRRdddF5AtzMk5u1MX0D9SoFavxJgQB988MEHf2BAQK1fKVDrYEBi3s6QmFdhQIQPPvjgw2FApUCtXykwYkDHcRzHcZxiQOiiiy66CGNACtT6lQJ1Y0AsBWr9SuFjQE022WSTTWRAb2dIzNu5ZECQmLczJCZlQLLJJptskmVA1PqVArX+ZUD1KwVq/WpmQBdddNFF12ZAOY7jOI5DZ0Bav1Kg1q9nQHzwwQcfHGhAnSExb2eIaEC/UqDWr/RoQOGDDz74YGlAArV+pUDNaUAk5u0MiTlqQEUXXXTRpWpAZ0jM2xkSa0CJeTtDYn5rQKqqqqqq6mtAzNsZEvNWbEDtDIl5O8NsQA8++OCDL21AMW9nSMybbUBSoNavFAhuQHTRRRdddG5AlQK1fqXgbkC3MyTm7UxvQNlkk002uW9A/UqBWr8ScECO4ziO40hwQB988MEHf3BAsBSo9Su1cEBArV8pUOtwQNFFF110IXFAYt7OkJhXcUDzdobEvI1xQIQPPvjgw3FAFKj1KwX6cUClQK1fKTByQDbZZJNNZnJAx3Ecx3GcckBYCtT6ldJyQOiiiy66CHNAeTtDYt4+c0AK1PqVAnVzQJtssskmq3NALAVq/Urhc0C8nSExbxd0QE022WSTTXRA3s6QmLeDdEBvZ0jM27l0QAAAAAAA8HRAkJi3MyQmdUAhMW9nSFx1QLLJJptsknVAQ2LezpDIdUDU+pUCtf51QGSTTTbZNHZA9SsFav1qdkCGxLydIaF2QBdddNFF13ZAqPUrBWoNd0AAAAAAAAAAACTm7QyJeQtAJObtDIl5G0CbbLLJJpskQCTm7QyJeStA1q8UqPUrMUCbbLLJJps0QGApUOtXCjhAJObtDIl5O0Dooosuuug+QNavFKj1K0FAOY7jOI7jQkCbbLLJJptEQP1KgVq/UkZAYClQ61cKSEDCBx988MFJQCTm7QyJeUtAhsS8nSExTUDooosuuuhOQKVArV8pUFBA1q8UqPUrUUAIH3zwwQdSQDmO4ziO41JAav1KgVq/U0CbbLLJJptUQMzbGRLzdlVA/UqBWr9SVkAuuuiiiy5XQGApUOtXClhAkZi3MyTmWEDCBx988MFZQPN2hsS8nVpAJObtDIl5W0BVVVVVVVVcQIbEvJ0hMV1AtzMk5u0MXkDooosuuuheQBoS83aGxF9ApUCtXylQYEA++OCDD75gQNavFKj1K2FAb2dIzNuZYUAIH3zwwQdiQKDWrxSodWJAOY7jOI7jYkDRRRdddFFjQGr9SoFav2NAArV+pUAtZECbbLLJJptkQDQk5u0MCWVAzNsZEvN2ZUBlk0022eRlQP1KgVq/UmZAlgK1fqXAZkAuuuiiiy5nQMdxHMdxnGdAYClQ61cKaED44IMPPnhoQJGYtzMk5mhAKVDrVwpUaUDCBx988MFpQFq/UqDWL2pA83aGxLydakCLLrroogtrQCTm7QyJeWtAvZ0hMW/na0BVVVVVVVVsQO4MiXk7w2xAhsS8nSExbUAffPDBB59tQLczJObtDG5AUOtXCtR6bkDooosuuuhuQIFav1KgVm9AGhLzdobEb0DZZJNNNhlwQKVArV8pUHBAchzHcRyHcEA++OCDD75wQArU+pUC9XBA1q8UqPUrcUCjiy666GJxQG9nSMzbmXFAO0Ni3s7QcUAIH3zwwQdyQNT6lQK1PnJAoNavFKh1ckBssskmm6xyQDmO4ziO43JABWr9SoEac0DRRRdddFFzQJ4hMW9niHNAav1KgVq/c0A22WSTTfZzQAK1fqVALXRAz5CYtzNkdECbbLLJJpt0QGdIzNsZ0nRANCTm7QwJdUAAAAAAAEB1QMzbGRLzdnVAmLczJOatdUBlk0022eR1QDFvZ0jMG3ZA/UqBWr9SdkDKJptssol2QJYCtX6lwHZAYt7OkJj3dkAuuuiiiy53QPuVArV+ZXdAAAAAAAAAAADhgw8++OALQOGDDz744BtA6aKLLrroJEDhgw8++OArQG2yySabbDFA6aKLLrroNEBlk0022WQ4QOGDDz744DtAXXTRRRddP0Btsskmm2xBQKuqqqqqKkNA6aKLLrroREAnm2yyyaZGQGWTTTbZZEhAo4suuugiSkDhgw8++OBLQB988MEHn01AXXTRRRddT0BONtlkk41QQG2yySabbFFAjC666KJLUkCrqqqqqipTQMomm2yyCVRA6aKLLrroVEAIH3zwwcdVQCebbLLJplZARhdddNGFV0Blk0022WRYQIQPPvjgQ1lAo4suuugiWkDCBx988AFbQOGDDz744FtAAAAAAADAXEAffPDBB59dQD744IMPfl5AXXTRRRddX0A++OCDDx5gQE422WSTjWBAXXTRRRf9YEBtsskmm2xhQHzwwQcf3GFAjC666KJLYkCbbLLJJrtiQKuqqqqqKmNAuuiiiy6aY0DKJptssglkQNlkk002eWRA6aKLLrroZED44IMPPlhlQAgffPDBx2VAF1100UU3ZkAnm2yyyaZmQDbZZJNNFmdARhdddNGFZ0BVVVVVVfVnQGWTTTbZZGhAdNFFF13UaECEDz744ENpQJNNNtlks2lAo4suuugiakCyySabbJJqQMIHH3zwAWtA0UUXXXRxa0Dhgw8++OBrQPHBBx98UGxAAAAAAADAbEAQPvjggy9tQB988MEHn21AL7rooosObkA++OCDD35uQE422WST7W5AXXTRRRddb0Btsskmm8xvQD744IMPHnBARhdddNFVcEBONtlkk41wQFVVVVVVxXBAXXTRRRf9cEBlk0022TRxQG2yySabbHFAdNFFF12kcUB88MEHH9xxQIQPPvjgE3JAjC666KJLckCTTTbZZINyQJtssskmu3JAo4suuujyckCrqqqqqipzQLLJJptsYnNAuuiiiy6ac0DCBx988NFzQMomm2yyCXRA0UUXXXRBdEDZZJNNNnl0QOGDDz74sHRA6aKLLrrodEDxwQcffCB1QPjggw8+WHVAAAAAAACQdUAIH3zwwcd1QBA++OCD/3VAF1100UU3dkAffPDBB292QCebbLLJpnZAL7rooovedkA22WSTTRZ3QD744IMPTndARhdddNGFd0BONtlkk713QAAAAAAAAAAAniExb2dIDECeITFvZ0gcQDbZZJNNNiVAniExb2dILEADtX6lQK0xQDbZZJNNNjVAav1KgVq/OECeITFvZ0g8QNJFF1100T9AA7V+pUCtQUAdx3Ecx3FDQDbZZJNNNkVAUOtXCtT6RkBq/UqBWr9IQIQPPvjgg0pAniExb2dITEC4MyTm7QxOQNJFF1100U9A9isFav3KUEADtX6lQK1RQBA++OCDj1JAHcdxHMdxU0AqUOtXClRUQDbZZJNNNlVAQ2LezpAYVkBQ61cK1PpWQF100UUX3VdAav1KgVq/WEB3hsS8naFZQIQPPvjgg1pAkZi3MyRmW0CeITFvZ0hcQKuqqqqqKl1AuDMk5u0MXkDFvJ0hMe9eQNJFF1100V9Ab2dIzNtZYED2KwVq/cpgQHzwwQcfPGFAA7V+pUCtYUCJeTtDYh5iQBA++OCDj2JAlgK1fqUAY0Adx3Ecx3FjQKOLLrro4mNAKlDrVwpUZECwFKj1K8VkQDbZZJNNNmVAvZ0hMW+nZUBDYt7OkBhmQMomm2yyiWZAUOtXCtT6ZkDXrxSo9WtnQF100UUX3WdA5DiO4zhOaEBq/UqBWr9oQPHBBx98MGlAd4bEvJ2haUD+SoFavxJqQIQPPvjgg2pAC9T6lQL1akCRmLczJGZrQBhddNFF12tAniExb2dIbEAk5u0MiblsQKuqqqqqKm1AMW9nSMybbUC4MyTm7QxuQD744IMPfm5AxbydITHvbkBLgVq/UmBvQNJFF1100W9ALAVq/UohcEBvZ0jM21lwQLPJJptsknBA9isFav3KcEA5juM4jgNxQHzwwQcfPHFAwFKg1q90cUADtX6lQK1xQEYXXXTR5XFAiXk7Q2IeckDM2xkS81ZyQBA++OCDj3JAU6DWrxTIckCWArV+pQBzQNlkk002OXNAHcdxHMdxc0BgKVDrV6pzQKOLLrro4nNA5u0MiXkbdEAqUOtXClR0QG2yySabjHRAsBSo9SvFdEDzdobEvP10QDbZZJNNNnVAejtDYt5udUC9nSExb6d1QAAAAAAA4HVAQ2LezpAYdkCHxLydIVF2QMomm2yyiXZADYl5O0PCdkBQ61cK1Pp2QJRNNtlkM3dA168UqPVrd0AaEvN2hqR3QF100UUX3XdAodavFKgVeEAAAAAAAAAAAFq/UqDWrwxAWr9SoNavHECEDz744IMlQFq/UqDWryxAmLczJObtMUCEDz744IM1QG9nSMzbGTlAWr9SoNavPECjiy666CJAQJi3MyTm7UFAjuM4juO4Q0CEDz744INFQHk7Q2LeTkdAb2dIzNsZSUBkk0022eRKQFq/UqDWr0xAUOtXCtR6TkCjiy666CJQQJ0hMW9nCFFAmLczJObtUUCTTTbZZNNSQI7jOI7juFNAiXk7Q2KeVECEDz744INVQH6lQK1faVZAeTtDYt5OV0B00UUXXTRYQG9nSMzbGVlAav1KgVr/WUBkk0022eRaQF8pUOtXyltAWr9SoNavXEBVVVVVVZVdQFDrVwrUel5ASoFav1JgX0Cjiy666CJgQKDWrxSolWBAnSExb2cIYUCbbLLJJnthQJi3MyTm7WFAlgK1fqVgYkCTTTbZZNNiQJCYtzMkRmNAjuM4juO4Y0CLLrrooitkQIl5O0NinmRAhsS8nSERZUCEDz744INlQIFav1Kg9mVAfqVArV9pZkB88MEHH9xmQHk7Q2LeTmdAd4bEvJ3BZ0B00UUXXTRoQHEcx3Ecp2hAb2dIzNsZaUBssskmm4xpQGr9SoFa/2lAZ0jM2xlyakBkk0022eRqQGLezpCYV2tAXylQ61fKa0BddNFFFz1sQFq/UqDWr2xAVwrU+pUibUBVVVVVVZVtQFKg1q8UCG5AUOtXCtR6bkBNNtlkk+1uQEqBWr9SYG9ASMzbGRLTb0Cjiy666CJwQCExb2dIXHBAoNavFKiVcEAffPDBB89wQJ0hMW9nCHFAHMdxHMdBcUCbbLLJJntxQBoS83aGtHFAmLczJObtcUAXXXTRRSdyQJYCtX6lYHJAFKj1KwWackCTTTbZZNNyQBLzdobEDHNAkJi3MyRGc0APPvjgg39zQI7jOI7juHNADYl5O0Pyc0CLLrrooit0QArU+pUCZXRAiXk7Q2KedEAHH3zwwdd0QIbEvJ0hEXVABWr9SoFKdUCEDz744IN1QAK1fqVAvXVAgVq/UqD2dUAAAAAAADB2QH6lQK1faXZA/UqBWr+idkB88MEHH9x2QPqVArV+FXdAeTtDYt5Od0D44IMPPoh3QHeGxLydwXdA9SsFav36d0B00UUXXTR4QPN2hsS8bXhAAAAAAAAAAAAXXXTRRRcNQBdddNFFFx1A0UUXXXTRJUAXXXTRRRctQC666KKLLjJA0UUXXXTRNUB00UUXXXQ5QBdddNFFFz1AXXTRRRddQEAuuuiiiy5CQAAAAAAAAERA0UUXXXTRRUCjiy666KJHQHTRRRdddElARhdddNFFS0AXXXTRRRdNQOiiiy666E5AXXTRRRddUEBGF1100UVRQC666KKLLlJAF1100UUXU0AAAAAAAABUQOmiiy666FRA0UUXXXTRVUC66KKLLrpWQKOLLrrooldAiy666KKLWEB00UUXXXRZQF100UUXXVpARhdddNFFW0Auuuiiiy5cQBdddNFFF11AAAAAAAAAXkDooosuuuheQNFFF1100V9AXXTRRRddYEDRRRdddNFgQEYXXXTRRWFAuuiiiy66YUAuuuiiiy5iQKOLLrroomJAF1100UUXY0CLLrroootjQAAAAAAAAGRAdNFFF110ZEDpoosuuuhkQF100UUXXWVA0UUXXXTRZUBGF1100UVmQLrooosuumZALrrooosuZ0Cjiy666KJnQBdddNFFF2hAiy666KKLaEAAAAAAAABpQHTRRRdddGlA6KKLLrroaUBddNFFF11qQNFFF1100WpARhdddNFFa0C66KKLLrprQC666KKLLmxAo4suuuiibEAXXXTRRRdtQIsuuuiii21AAAAAAAAAbkB00UUXXXRuQOiiiy666G5AXXTRRRddb0DRRRdddNFvQKOLLrroInBAXXTRRRddcEAXXXTRRZdwQNFFF1100XBAiy666KILcUBGF1100UVxQAAAAAAAgHFAuuiiiy66cUB00UUXXfRxQC666KKLLnJA6aKLLrpockCjiy666KJyQF100UUX3XJAF1100UUXc0DRRRdddFFzQIsuuuiii3NARhdddNHFc0AAAAAAAAB0QLrooosuOnRAdNFFF110dEAuuuiii650QOmiiy666HRAo4suuugidUBddNFFF111QBdddNFFl3VA0UUXXXTRdUCLLrroogt2QEYXXXTRRXZAAAAAAACAdkC66KKLLrp2QHTRRRdd9HZALrrooosud0Dpoosuumh3QKOLLrroondAXXTRRRfdd0AXXXTRRRd4QNFFF110UXhAiy666KKLeEBGF1100cV4QAAAAAAAAAAA1PqVArV+DUDU+pUCtX4dQB988MEHHyZA1PqVArV+LUDEvJ0hMW8yQB988MEHHzZAejtDYt7OOUDU+pUCtX49QBdddNFFl0BAxLydITFvQkByHMdxHEdEQB988MEHH0ZAzNsZEvP2R0B6O0Ni3s5JQCebbLLJpktA1PqVArV+TUCBWr9SoFZPQBdddNFFl1BA7gyJeTuDUUDEvJ0hMW9SQJtssskmW1NAchzHcRxHVEBIzNsZEjNVQB988MEHH1ZA9isFav0KV0DM2xkS8/ZXQKOLLrro4lhAejtDYt7OWUBQ61cK1LpaQCebbLLJpltA/UqBWr+SXEDU+pUCtX5dQKuqqqqqal5AgVq/UqBWX0AsBWr9SiFgQBdddNFFl2BAA7V+pUANYUDuDIl5O4NhQNlkk002+WFAxLydITFvYkCwFKj1K+ViQJtssskmW2NAhsS8nSHRY0ByHMdxHEdkQF100UUXvWRASMzbGRIzZUA0JObtDKllQB988MEHH2ZACtT6lQKVZkD2KwVq/QpnQOGDDz74gGdAzNsZEvP2Z0C4MyTm7WxoQKOLLrro4mhAjuM4juNYaUB6O0Ni3s5pQGWTTTbZRGpAUOtXCtS6akA7Q2LezjBrQCebbLLJpmtAEvN2hsQcbED9SoFav5JsQOmiiy66CG1A1PqVArV+bUC/UqDWr/RtQKuqqqqqam5AlgK1fqXgbkCBWr9SoFZvQG2yySabzG9ALAVq/UohcEAiMW9nSFxwQBdddNFFl3BADYl5O0PScEADtX6lQA1xQPjggw8+SHFA7gyJeTuDcUDkOI7jOL5xQNlkk002+XFAz5CYtzM0ckDEvJ0hMW9yQLrooosuqnJAsBSo9SvlckClQK1fKSBzQJtssskmW3NAkZi3MySWc0CGxLydIdFzQHzwwQcfDHRAchzHcRxHdEBnSMzbGYJ0QF100UUXvXRAU6DWrxT4dEBIzNsZEjN1QD744IMPbnVANCTm7QypdUApUOtXCuR1QB988MEHH3ZAFaj1KwVadkAK1PqVApV2QAAAAAAA0HZA9isFav0Kd0DrVwrU+kV3QOGDDz74gHdA168UqPW7d0DM2xkS8/Z3QMIHH3zwMXhAuDMk5u1seECtXylQ66d4QKOLLrro4nhAmbczJOYdeUAAAAAAAAAAAJGYtzMk5g1AkZi3MyTmHUBtsskmm2wmQJGYtzMk5i1AW79SoNavMkBtsskmm2w2QH+lQK1fKTpAkZi3MyTmPUDSRRdddNFAQFu/UqDWr0JA5DiO4ziOREBtsskmm2xGQPYrBWr9SkhAf6VArV8pSkAIH3zwwQdMQJGYtzMk5k1AGhLzdobET0DSRRdddNFQQJYCtX6lwFFAW79SoNavUkAffPDBB59TQOQ4juM4jlRAqPUrBWp9VUBtsskmm2xWQDFvZ0jMW1dA9isFav1KWEC66KKLLjpZQH+lQK1fKVpAQ2LezpAYW0AIH3zwwQdcQMzbGRLz9lxAkZi3MyTmXUBWVVVVVdVeQBoS83aGxF9Ab2dIzNtZYEDSRRdddNFgQDQk5u0MSWFAlgK1fqXAYUD44IMPPjhiQFu/UqDWr2JAvZ0hMW8nY0AffPDBB59jQIFav1KgFmRA5DiO4ziOZEBGF1100QVlQKj1KwVqfWVACtT6lQL1ZUBtsskmm2xmQM+QmLcz5GZAMW9nSMxbZ0CUTTbZZNNnQPYrBWr9SmhAWArU+pXCaEC66KKLLjppQB3HcRzHsWlAf6VArV8pakDhgw8++KBqQENi3s6QGGtApkCtXymQa0AIH3zwwQdsQGr9SoFaf2xAzNsZEvP2bEAvuuiii25tQJGYtzMk5m1A83aGxLxdbkBWVVVVVdVuQLgzJObtTG9AGhLzdobEb0A++OCDDx5wQG9nSMzbWXBAoNavFKiVcEDSRRdddNFwQAO1fqVADXFANCTm7QxJcUBlk0022YRxQJYCtX6lwHFAx3Ecx3H8cUD44IMPPjhyQClQ61cKdHJAW79SoNavckCMLrrooutyQL2dITFvJ3NA7gyJeTtjc0AffPDBB59zQFDrVwrU2nNAgVq/UqAWdECzySabbFJ0QOQ4juM4jnRAFaj1KwXKdEBGF1100QV1QHeGxLydQXVAqPUrBWp9dUDZZJNNNrl1QArU+pUC9XVAPENi3s4wdkBtsskmm2x2QJ4hMW9nqHZAz5CYtzPkdkAAAAAAACB3QDFvZ0jMW3dAYt7OkJiXd0CUTTbZZNN3QMW8nSExD3hA9isFav1KeEAnm2yyyYZ4QFgK1PqVwnhAiXk7Q2L+eEC66KKLLjp5QOtXCtT6dXlAAAAAAAAAAABNNtlkk00OQE022WSTTR5Auuiiiy66JkBNNtlkk00uQPDBBx988DJAuuiiiy66NkCDDz744IM6QE022WSTTT5Aiy666KILQUDwwQcffPBCQFVVVVVV1URAuuiiiy66RkAffPDBB59IQIMPPvjgg0pA6KKLLrpoTEBNNtlkk01OQNlkk002GVBAiy666KILUUA++OCDD/5RQPDBBx988FJAo4suuujiU0BVVVVVVdVUQAcffPDBx1VAuuiiiy66VkBssskmm6xXQB988MEHn1hA0UUXXXSRWUCDDz744INaQDbZZJNNdltA6KKLLrpoXECbbLLJJltdQE022WSTTV5A//////8/X0DZZJNNNhlgQLLJJptskmBAiy666KILYUBlk0022YRhQD744IMP/mFAF1100UV3YkDwwQcffPBiQMkmm2yyaWNAo4suuujiY0B88MEHH1xkQFVVVVVV1WRALrroootOZUAHH3zwwcdlQOGDDz74QGZAuuiiiy66ZkCTTTbZZDNnQGyyySabrGdARRdddNElaEAffPDBB59oQPjggw8+GGlA0UUXXXSRaUCqqqqqqgpqQIMPPvjgg2pAXXTRRRf9akA22WSTTXZrQA8++OCD72tA6KKLLrpobEDBBx988OFsQJtssskmW21AdNFFF13UbUBNNtlkk01uQCabbLLJxm5A//////8/b0DZZJNNNrlvQNlkk002GXBARhdddNFVcECyySabbJJwQB988MEHz3BAiy666KILcUD44IMPPkhxQGWTTTbZhHFA0UUXXXTBcUA++OCDD/5xQKqqqqqqOnJAF1100UV3ckCEDz744LNyQPDBBx988HJAXXTRRRctc0DJJptssmlzQDbZZJNNpnNAo4suuujic0APPvjggx90QHzwwQcfXHRA6KKLLrqYdEBVVVVVVdV0QMIHH3zwEXVALrroootOdUCbbLLJJot1QAcffPDBx3VAdNFFF10EdkDhgw8++EB2QE022WSTfXZAuuiiiy66dkAmm2yyyfZ2QJNNNtlkM3dAAAAAAABwd0Bssskmm6x3QNlkk0026XdARRdddNEleECyySabbGJ4QB988MEHn3hAiy666KLbeED44IMPPhh5QGSTTTbZVHlA0UUXXXSReUA++OCDD855QAAAAAAAAAAACtT6lQK1DkAK1PqVArUeQAgffPDBBydACtT6lQK1LkCGxLydITEzQAgffPDBBzdAiXk7Q2LeOkAK1PqVArU+QEYXXXTRRUFAhsS8nSExQ0DHcRzHcRxFQAgffPDBB0dASMzbGRLzSECJeTtDYt5KQMkmm2yyyUxACtT6lQK1TkClQK1fKVBQQEYXXXTRRVFA5u0MiXk7UkCGxLydITFTQCebbLLJJlRAx3Ecx3EcVUBnSMzbGRJWQAgffPDBB1dAqPUrBWr9V0BIzNsZEvNYQOiiiy666FlAiXk7Q2LeWkApUOtXCtRbQMkmm2yyyVxAav1KgVq/XUAK1PqVArVeQKqqqqqqql9ApUCtXylQYED1KwVq/cpgQEYXXXTRRWFAlgK1fqXAYUDm7QyJeTtiQDbZZJNNtmJAhsS8nSExY0DWrxSo9atjQCebbLLJJmRAd4bEvJ2hZEDHcRzHcRxlQBdddNFFl2VAZ0jM2xkSZkC3MyTm7YxmQAgffPDBB2dAWArU+pWCZ0Co9SsFav1nQPjggw8+eGhASMzbGRLzaECYtzMk5m1pQOiiiy666GlAOY7jOI5jakCJeTtDYt5qQNlkk002WWtAKVDrVwrUa0B5O0Ni3k5sQMkmm2yyyWxAGhLzdoZEbUBq/UqBWr9tQLrooosuOm5ACtT6lQK1bkBav1Kg1i9vQKqqqqqqqm9A/UqBWr8ScEClQK1fKVBwQE022WSTjXBA9SsFav3KcECeITFvZwhxQEYXXXTRRXFA7gyJeTuDcUCWArV+pcBxQD744IMP/nFA5u0MiXk7ckCO4ziO43hyQDbZZJNNtnJA3s6QmLfzckCGxLydITFzQC666KKLbnNA1q8UqPWrc0B+pUCtX+lzQCebbLLJJnRAz5CYtzNkdEB3hsS8naF0QB988MEH33RAx3Ecx3EcdUBvZ0jM21l1QBdddNFFl3VAv1Kg1q/UdUBnSMzbGRJ2QA8++OCDT3ZAtzMk5u2MdkBfKVDrV8p2QAgffPDBB3dAsBSo9StFd0BYCtT6lYJ3QAAAAAAAwHdAqPUrBWr9d0BQ61cK1Dp4QPjggw8+eHhAoNavFKi1eEBIzNsZEvN4QPDBBx98MHlAmLczJOZteUBArV8pUKt5QOiiiy666HlAkZi3MyQmekAAAAAAAAAAAMdxHMdxHA9Ax3Ecx3EcH0BVVVVVVVUnQMdxHMdxHC9AHMdxHMdxM0BVVVVVVVU3QI7jOI7jODtAx3Ecx3EcP0AAAAAAAIBBQBzHcRzHcUNAOY7jOI5jRUBVVVVVVVVHQHIcx3EcR0lAjuM4juM4S0CrqqqqqipNQMdxHMdxHE9AchzHcRyHUEAAAAAAAIBRQI7jOI7jeFJAHMdxHMdxU0CrqqqqqmpUQDmO4ziOY1VAx3Ecx3FcVkBVVVVVVVVXQOM4juM4TlhAchzHcRxHWUAAAAAAAEBaQI7jOI7jOFtAHMdxHMcxXECrqqqqqipdQDmO4ziOI15Ax3Ecx3EcX0CrqqqqqgpgQHIcx3Ech2BAOY7jOI4DYUAAAAAAAIBhQMdxHMdx/GFAjuM4juN4YkBVVVVVVfViQBzHcRzHcWNA4ziO4zjuY0CrqqqqqmpkQHIcx3Ec52RAOY7jOI5jZUAAAAAAAOBlQMdxHMdxXGZAjuM4juPYZkBVVVVVVVVnQBzHcRzH0WdA4ziO4zhOaECrqqqqqspoQHIcx3EcR2lAOY7jOI7DaUAAAAAAAEBqQMdxHMdxvGpAjuM4juM4a0BVVVVVVbVrQBzHcRzHMWxA4ziO4ziubECrqqqqqiptQHIcx3Ecp21AOY7jOI4jbkAAAAAAAKBuQMdxHMdxHG9AjuM4juOYb0CrqqqqqgpwQI7jOI7jSHBAchzHcRyHcEBVVVVVVcVwQDmO4ziOA3FAHMdxHMdBcUAAAAAAAIBxQOM4juM4vnFAx3Ecx3H8cUCrqqqqqjpyQI7jOI7jeHJAchzHcRy3ckBVVVVVVfVyQDmO4ziOM3NAHMdxHMdxc0AAAAAAALBzQOM4juM47nNAx3Ecx3EsdECrqqqqqmp0QI7jOI7jqHRAchzHcRzndEBVVVVVVSV1QDmO4ziOY3VAHMdxHMehdUAAAAAAAOB1QOM4juM4HnZAx3Ecx3FcdkCrqqqqqpp2QI7jOI7j2HZAchzHcRwXd0BVVVVVVVV3QDmO4ziOk3dAHMdxHMfRd0AAAAAAABB4QOM4juM4TnhAx3Ecx3GMeECrqqqqqsp4QI7jOI7jCHlAchzHcRxHeUBVVVVVVYV5QDmO4ziOw3lAHMdxHMcBekAAAAAAAEB6QOM4juM4fnpAAAAAAAAAAACEDz744IMPQIQPPvjggx9Ao4suuuiiJ0CEDz744IMvQLLJJptssjNAo4suuuiiN0CUTTbZZJM7QIQPPvjggz9Auuiiiy66QUCyySabbLJDQKuqqqqqqkVAo4suuuiiR0CbbLLJJptJQJRNNtlkk0tAjC666KKLTUCEDz744INPQD744IMPvlBAuuiiiy66UUA22WSTTbZSQLLJJptsslNAL7rooouuVECrqqqqqqpVQCebbLLJplZAo4suuuiiV0AffPDBB59YQJtssskmm1lAF1100UWXWkCUTTbZZJNbQBA++OCDj1xAjC666KKLXUAIH3zwwYdeQIQPPvjgg19AAAAAAABAYEA++OCDD75gQHzwwQcfPGFAuuiiiy66YUD44IMPPjhiQDbZZJNNtmJAdNFFF100Y0CyySabbLJjQPHBBx98MGRAL7rooouuZEBtsskmmyxlQKuqqqqqqmVA6aKLLrooZkAnm2yyyaZmQGWTTTbZJGdAo4suuuiiZ0Dhgw8++CBoQB988MEHn2hAXXTRRRcdaUCbbLLJJptpQNlkk002GWpAF1100UWXakBVVVVVVRVrQJRNNtlkk2tA0kUXXXQRbEAQPvjgg49sQE422WSTDW1AjC666KKLbUDKJptssgluQAgffPDBh25ARhdddNEFb0CEDz744INvQOGDDz74AHBAAAAAAABAcEAffPDBB39wQD744IMPvnBAXXTRRRf9cEB88MEHHzxxQJtssskme3FAuuiiiy66cUDZZJNNNvlxQPjggw8+OHJAF1100UV3ckA22WSTTbZyQFVVVVVV9XJAdNFFF100c0CTTTbZZHNzQLLJJptssnNA0kUXXXTxc0DxwQcffDB0QBA++OCDb3RAL7rooouudEBONtlkk+10QG2yySabLHVAjC666KJrdUCrqqqqqqp1QMomm2yy6XVA6aKLLroodkAIH3zwwWd2QCebbLLJpnZARhdddNHldkBlk0022SR3QIQPPvjgY3dAo4suuuiid0DCBx988OF3QOGDDz74IHhAAAAAAABgeEAffPDBB594QD744IMP3nhAXXTRRRcdeUB88MEHH1x5QJtssskmm3lAuuiiiy7aeUDZZJNNNhl6QPjggw8+WHpAF1100UWXekA22WSTTdZ6QAAAAAAAAAAAQK1fKVDrD0BArV8pUOsfQPDBBx988CdAQK1fKVDrL0BIzNsZEvMzQPDBBx988DdAmLczJObtO0BArV8pUOs/QHTRRRdd9EFASMzbGRLzQ0Acx3Ecx/FFQPDBBx988EdAxLydITHvSUCYtzMk5u1LQGyyySab7E1AQK1fKVDrT0AK1PqVAvVQQHTRRRdd9FFA3s6QmLfzUkBIzNsZEvNTQLLJJpts8lRAHMdxHMfxVUCGxLydIfFWQPDBBx988FdAWr9SoNbvWEDEvJ0hMe9ZQC666KKL7lpAmLczJObtW0ACtX6lQO1cQGyyySab7F1A1q8UqPXrXkBArV8pUOtfQFVVVVVVdWBACtT6lQL1YEC/UqDWr3RhQHTRRRdd9GFAKVDrVwp0YkDezpCYt/NiQJNNNtlkc2NASMzbGRLzY0D9SoFav3JkQLLJJpts8mRAZ0jM2xlyZUAcx3Ecx/FlQNFFF110cWZAhsS8nSHxZkA7Q2LeznBnQPDBBx988GdApUCtXylwaEBav1Kg1u9oQA8++OCDb2lAxLydITHvaUB5O0Ni3m5qQC666KKL7mpA4ziO4zhua0CYtzMk5u1rQE022WSTbWxAArV+pUDtbEC3MyTm7WxtQGyyySab7G1AITFvZ0hsbkDWrxSo9etuQIsuuuiia29AQK1fKVDrb0D6lQK1fjVwQFVVVVVVdXBAsBSo9Su1cEAK1PqVAvVwQGSTTTbZNHFAv1Kg1q90cUAaEvN2hrRxQHTRRRdd9HFAzpCYtzM0ckApUOtXCnRyQIQPPvjgs3JA3s6QmLfzckA4juM4jjNzQJNNNtlkc3NA7gyJeTuzc0BIzNsZEvNzQKKLLrroMnRA/UqBWr9ydEBYCtT6lbJ0QLLJJpts8nRADIl5O0MydUBnSMzbGXJ1QMIHH3zwsXVAHMdxHMfxdUB2hsS8nTF2QNFFF110cXZALAVq/UqxdkCGxLydIfF2QOCDDz74MHdAO0Ni3s5wd0CWArV+pbB3QPDBBx988HdASoFav1IweEClQK1fKXB4QAAAAAAAsHhAWr9SoNbveEC0fqVArS95QA8++OCDb3lAav1KgVqveUDEvJ0hMe95QB588MEHL3pAeTtDYt5uekDU+pUCta56QC666KKL7npAiHk7Q2Iue0AAAAAAAAAAAH+lQK1fKRBAf6VArV8pIEA++OCDDz4oQH+lQK1fKTBA386QmLczNEA++OCDDz44QJ4hMW9nSDxAf6VArV8pQEAvuuiiiy5CQN/OkJi3M0RAj+M4juM4RkA++OCDDz5IQO4MiXk7Q0pAniExb2dITEBONtlkk01OQH+lQK1fKVBA168UqPUrUUAvuuiiiy5SQIfEvJ0hMVNA386QmLczVEA32WSTTTZVQI/jOI7jOFZA5+0MiXk7V0A++OCDDz5YQJYCtX6lQFlA7gyJeTtDWkBGF1100UVbQJ4hMW9nSFxA9isFav1KXUBONtlkk01eQKZArV8pUF9Af6VArV8pYECrqqqqqqpgQNevFKj1K2FAA7V+pUCtYUAvuuiiiy5iQFu/UqDWr2JAh8S8nSExY0CzySabbLJjQN/OkJi3M2RAC9T6lQK1ZEA32WSTTTZlQGPezpCYt2VAj+M4juM4ZkC76KKLLrpmQOftDIl5O2dAE/N2hsS8Z0A++OCDDz5oQGr9SoFav2hAlgK1fqVAaUDCBx988MFpQO4MiXk7Q2pAGhLzdobEakBGF1100UVrQHIcx3Ecx2tAniExb2dIbEDKJptssslsQPYrBWr9Sm1AIjFvZ0jMbUBONtlkk01uQHo7Q2Lezm5ApkCtXylQb0DSRRdddNFvQH+lQK1fKXBAFaj1KwVqcECrqqqqqqpwQEGtXylQ63BA168UqPUrcUBtsskmm2xxQAO1fqVArXFAmbczJObtcUAvuuiiiy5yQMW8nSExb3JAW79SoNavckDxwQcffPByQIfEvJ0hMXNAHcdxHMdxc0CzySabbLJzQEnM2xkS83NA386QmLczdEB10UUXXXR0QAvU+pUCtXRAodavFKj1dEA32WSTTTZ1QM3bGRLzdnVAY97OkJi3dUD54IMPPvh1QI/jOI7jOHZAJebtDIl5dkC76KKLLrp2QFHrVwrU+nZA5+0MiXk7d0B98MEHH3x3QBPzdobEvHdAqfUrBWr9d0A++OCDDz54QNT6lQK1fnhAav1KgVq/eEAAAAAAAAB5QJYCtX6lQHlALAVq/UqBeUDCBx988MF5QFgK1PqVAnpA7gyJeTtDekCEDz744IN6QBoS83aGxHpAsBSo9SsFe0BGF1100UV7QNwZEvN2hntAAAAAAAAAAABddNFFF10QQF100UUXXSBAjC666KKLKEBddNFFF10wQHTRRRdddDRAjC666KKLOECjiy666KI8QF100UUXXUBA6aKLLrpoQkB00UUXXXREQAAAAAAAgEZAjC666KKLSEAXXXTRRZdKQKOLLrrookxALrrooouuTkBddNFFF11QQKOLLrroYlFA6aKLLrpoUkAuuuiii25TQHTRRRdddFRAuuiiiy56VUAAAAAAAIBWQEYXXXTRhVdAjC666KKLWEDRRRdddJFZQBdddNFFl1pAXXTRRRedW0Cjiy666KJcQOmiiy66qF1ALrrooouuXkB00UUXXbRfQF100UUXXWBAAAAAAADgYECjiy666GJhQEYXXXTR5WFA6aKLLrpoYkCMLrrooutiQC666KKLbmNA0UUXXXTxY0B00UUXXXRkQBdddNFF92RAuuiiiy56ZUBddNFFF/1lQAAAAAAAgGZAo4suuugCZ0BGF1100YVnQOmiiy66CGhAjC666KKLaEAuuuiiiw5pQNFFF110kWlAdNFFF10UakAXXXTRRZdqQLrooosuGmtAXXTRRReda0AAAAAAACBsQKOLLrroomxARhdddNElbUDpoosuuqhtQIsuuuiiK25ALrrooouubkDRRRdddDFvQHTRRRddtG9AjC666KIbcEBddNFFF11wQC666KKLnnBAAAAAAADgcEDRRRdddCFxQKOLLrroYnFAdNFFF12kcUBGF1100eVxQBdddNFFJ3JA6aKLLrpockC66KKLLqpyQIwuuuii63JAXXTRRRctc0Auuuiii25zQAAAAAAAsHNA0UUXXXTxc0Cjiy666DJ0QHTRRRdddHRARhdddNG1dEAXXXTRRfd0QOmiiy66OHVAuuiiiy56dUCMLrroort1QF100UUX/XVALrrooos+dkAAAAAAAIB2QNFFF110wXZAo4suuugCd0B00UUXXUR3QEYXXXTRhXdAF1100UXHd0Dpoosuugh4QLrooosuSnhAjC666KKLeEBddNFFF814QC666KKLDnlAAAAAAABQeUDRRRdddJF5QKOLLrro0nlAdNFFF10UekBGF1100VV6QBdddNFFl3pA6aKLLrrYekC66KKLLhp7QIsuuuiiW3tAXXTRRRede0Auuuiii957QAAAAAAAAAAAO0Ni3s6QEEA7Q2LezpAgQNhkk0022ShAO0Ni3s6QMEAK1PqVArU0QNhkk0022ThAp/UrBWr9PEA7Q2LezpBAQKKLLrrookJACtT6lQK1REBxHMdxHMdGQNhkk0022UhAQK1fKVDrSkCn9SsFav1MQA8++OCDD09AO0Ni3s6QUEBvZ0jM25lRQKKLLrroolJA1q8UqPWrU0AK1PqVArVUQD344IMPvlVAcRzHcRzHVkClQK1fKdBXQNhkk0022VhADIl5O0PiWUBArV8pUOtaQHTRRRdd9FtAp/UrBWr9XEDbGRLzdgZeQA8++OCDD19AITFvZ0gMYEA7Q2LezpBgQFVVVVVVFWFAb2dIzNuZYUCJeTtDYh5iQKKLLrroomJAvJ0hMW8nY0DWrxSo9atjQPDBBx98MGRACtT6lQK1ZEAk5u0MiTllQD344IMPvmVAVwrU+pVCZkBxHMdxHMdmQIsuuuiiS2dApUCtXynQZ0C/UqDWr1RoQNhkk0022WhA8naGxLxdaUAMiXk7Q+JpQCabbLLJZmpAQK1fKVDrakBav1Kg1m9rQHTRRRdd9GtAjeM4juN4bECn9SsFav1sQMEHH3zwgW1A2xkS83YGbkD1KwVq/YpuQA8++OCDD29AKFDrVwqUb0AhMW9nSAxwQC666KKLTnBAO0Ni3s6QcEBIzNsZEtNwQFVVVVVVFXFAYt7OkJhXcUBvZ0jM25lxQHzwwQcf3HFAiXk7Q2IeckCVArV+pWByQKKLLrroonJArxSo9SvlckC8nSExbydzQMkmm2yyaXNA1q8UqPWrc0DjOI7jOO5zQPDBBx98MHRA/UqBWr9ydEAK1PqVArV0QBdddNFF93RAJObtDIk5dUAxb2dIzHt1QD344IMPvnVASoFav1IAdkBXCtT6lUJ2QGSTTTbZhHZAcRzHcRzHdkB+pUCtXwl3QIsuuuiiS3dAmLczJOaNd0ClQK1fKdB3QLLJJptsEnhAv1Kg1q9UeEDM2xkS85Z4QNhkk0022XhA5e0MiXkbeUDydobEvF15QP//////n3lADIl5O0PieUAZEvN2hiR6QCabbLLJZnpAMyTm7QypekBArV8pUOt6QE022WSTLXtAWr9SoNZve0BnSMzbGbJ7QHTRRRdd9HtAgFq/UqA2fEAAAAAAAAAAABoS83aGxBBAGhLzdobEIEAnm2yyySYpQBoS83aGxDBAoNavFKj1NEAnm2yyySY5QK5fKVDrVz1AGhLzdobEQEBddNFFF91CQKDWrxSo9URA5DiO4zgOR0Anm2yyySZJQGr9SoFaP0tArl8pUOtXTUDxwQcffHBPQBoS83aGxFBAPENi3s7QUUBddNFFF91SQH+lQK1f6VNAoNavFKj1VEDCBx988AFWQOQ4juM4DldABWr9SoEaWEAnm2yyySZZQEnM2xkSM1pAav1KgVo/W0CMLrrooktcQK5fKVDrV11Az5CYtzNkXkDxwQcffHBfQIl5O0NiPmBAGhLzdobEYECrqqqqqkphQDxDYt7O0GFAzNsZEvNWYkBddNFFF91iQO4MiXk7Y2NAf6VArV/pY0AQPvjgg29kQKDWrxSo9WRAMW9nSMx7ZUDCBx988AFmQFOg1q8UiGZA5DiO4zgOZ0B10UUXXZRnQAVq/UqBGmhAlgK1fqWgaEAnm2yyySZpQLgzJObtrGlASczbGRIzakDZZJNNNrlqQGr9SoFaP2tA+5UCtX7Fa0CMLrrooktsQB3HcRzH0WxArl8pUOtXbUA++OCDD95tQM+QmLczZG5AYClQ61fqbkDxwQcffHBvQIJav1Kg9m9AiXk7Q2I+cEDSRRdddIFwQBoS83aGxHBAYt7OkJgHcUCrqqqqqkpxQPN2hsS8jXFAPENi3s7QcUCEDz744BNyQMzbGRLzVnJAFaj1KwWackBddNFFF91yQKZArV8pIHNA7gyJeTtjc0A22WSTTaZzQH+lQK1f6XNAx3Ecx3EsdEAQPvjgg290QFgK1PqVsnRAoNavFKj1dEDpoosuujh1QDFvZ0jMe3VAejtDYt6+dUDCBx988AF2QAvU+pUCRXZAU6DWrxSIdkCbbLLJJst2QOQ4juM4DndALAVq/UpRd0B10UUXXZR3QL2dITFv13dABWr9SoEaeEBONtlkk114QJYCtX6loHhA386QmLfjeEAnm2yyySZ5QG9nSMzbaXlAuDMk5u2seUAAAAAAAPB5QEnM2xkSM3pAkZi3MyR2ekDZZJNNNrl6QCIxb2dI/HpAav1KgVo/e0CzySabbIJ7QPuVArV+xXtAQ2LezpAIfECMLrrookt8QNT6lQK1jnxAAAAAAAAAAAD44IMPPvgQQPjggw8++CBAdNFFF110KUD44IMPPvgwQDbZZJNNNjVAdNFFF110OUCyySabbLI9QPjggw8++EBAF1100UUXQ0A22WSTTTZFQFVVVVVVVUdAdNFFF110SUCTTTbZZJNLQLLJJptssk1A0UUXXXTRT0D44IMPPvhQQAgffPDBB1JAF1100UUXU0Amm2yyySZUQDbZZJNNNlVARhdddNFFVkBVVVVVVVVXQGSTTTbZZFhAdNFFF110WUCEDz744INaQJNNNtlkk1tAoosuuuiiXECyySabbLJdQMIHH3zwwV5A0UUXXXTRX0DwwQcffHBgQPjggw8++GBAAAAAAACAYUAIH3zwwQdiQA8++OCDj2JAF1100UUXY0AffPDBB59jQCabbLLJJmRALrrooouuZEA22WSTTTZlQD744IMPvmVARhdddNFFZkBNNtlkk81mQFVVVVVVVWdAXXTRRRfdZ0Bkk0022WRoQGyyySab7GhAdNFFF110aUB88MEHH/xpQIQPPvjgg2pAiy666KILa0CTTTbZZJNrQJtssskmG2xAoosuuuiibECqqqqqqiptQLLJJptssm1Auuiiiy46bkDCBx988MFuQMkmm2yySW9A0UUXXXTRb0BssskmmyxwQPDBBx98cHBAdNFFF120cED44IMPPvhwQHzwwQcfPHFAAAAAAACAcUCEDz744MNxQAgffPDBB3JAiy666KJLckAPPvjgg49yQJNNNtlk03JAF1100UUXc0CbbLLJJltzQB988MEHn3NAo4suuujic0Amm2yyySZ0QKqqqqqqanRALrrooouudECyySabbPJ0QDbZZJNNNnVAuuiiiy56dUA++OCDD751QMIHH3zwAXZARhdddNFFdkDJJptssol2QE022WSTzXZA0UUXXXQRd0BVVVVVVVV3QNlkk002mXdAXXTRRRfdd0Dhgw8++CB4QGSTTTbZZHhA6KKLLrqoeEBssskmm+x4QPDBBx98MHlAdNFFF110eUD44IMPPrh5QHzwwQcf/HlAAAAAAABAekCEDz744IN6QAcffPDBx3pAiy666KILe0APPvjgg097QJNNNtlkk3tAF1100UXXe0CbbLLJJht8QB988MEHX3xAoosuuuiifEAmm2yyyeZ8QAAAAAAAAAAA168UqPUrEUDXrxSo9SshQMIHH3zwwSlA168UqPUrMUDN2xkS83Y1QMIHH3zwwTlAuDMk5u0MPkDXrxSo9StBQNJFF110UUNAzdsZEvN2RUDIcRzHcZxHQMIHH3zwwUlAvZ0hMW/nS0C4MyTm7QxOQNpkk002GVBA168UqPUrUUDU+pUCtT5SQNJFF110UVNAz5CYtzNkVEDN2xkS83ZVQMomm2yyiVZAyHEcx3GcV0DFvJ0hMa9YQMIHH3zwwVlAwFKg1q/UWkC9nSExb+dbQLvooosu+lxAuDMk5u0MXkC2fqVArR9fQNpkk002GWBAWArU+pWiYEDXrxSo9SthQFZVVVVVtWFA1PqVArU+YkBToNavFMhiQNJFF110UWNAUetXCtTaY0DPkJi3M2RkQE422WST7WRAzdsZEvN2ZUBLgVq/UgBmQMomm2yyiWZASczbGRITZ0DIcRzHcZxnQEYXXXTRJWhAxbydITGvaEBEYt7OkDhpQMIHH3zwwWlAQa1fKVBLakDAUqDWr9RqQD/44IMPXmtAvZ0hMW/na0A8Q2LeznBsQLvooosu+mxAOo7jOI6DbUC4MyTm7QxuQDfZZJNNlm5Atn6lQK0fb0A0JObtDKlvQNpkk002GXBAmbczJOZdcEBYCtT6laJwQBhddNFF53BA168UqPUrcUCWArV+pXBxQFZVVVVVtXFAFaj1KwX6cUDU+pUCtT5yQJRNNtlkg3JAU6DWrxTIckAT83aGxAxzQNJFF110UXNAkZi3MySWc0BR61cK1NpzQBA++OCDH3RAz5CYtzNkdECP4ziO46h0QE422WST7XRADYl5O0MydUDN2xkS83Z1QIwuuuiiu3VAS4Fav1IAdkAL1PqVAkV2QMomm2yyiXZAink7Q2LOdkBJzNsZEhN3QAgffPDBV3dAyHEcx3Gcd0CHxLydIeF3QEYXXXTRJXhABmr9SoFqeEDFvJ0hMa94QIQPPvjg83hARGLezpA4eUADtX6lQH15QMIHH3zwwXlAglq/UqAGekBBrV8pUEt6QAEAAAAAkHpAwFKg1q/UekB/pUCtXxl7QD/44IMPXntA/kqBWr+ie0C9nSExb+d7QH3wwQcfLHxAPENi3s5wfED7lQK1frV8QLvooosu+nxAejtDYt4+fUAAAAAAAAAAALV+pUCtXxFAtX6lQK1fIUAQPvjggw8qQLV+pUCtXzFAYt7OkJi3NUAQPvjggw86QL2dITFvZz5AtX6lQK1fQUCMLrroootDQGLezpCYt0VAOY7jOI7jR0AQPvjggw9KQObtDIl5O0xAvZ0hMW9nTkDKJptssklQQLV+pUCtX1FAoNavFKh1UkCMLrroootTQHeGxLydoVRAYt7OkJi3VUBONtlkk81WQDmO4ziO41dAJObtDIn5WEAQPvjggw9aQPuVArV+JVtA5u0MiXk7XEDRRRdddFFdQL2dITFvZ15AqPUrBWp9X0DKJptssklgQL9SoNav1GBAtX6lQK1fYUCrqqqqquphQKDWrxSodWJAlgK1fqUAY0CMLrroootjQIFav1KgFmRAd4bEvJ2hZEBtsskmmyxlQGLezpCYt2VAWArU+pVCZkBONtlkk81mQENi3s6QWGdAOY7jOI7jZ0Avuuiii25oQCTm7QyJ+WhAGhLzdoaEaUAQPvjggw9qQAVq/UqBmmpA+5UCtX4la0DwwQcffLBrQObtDIl5O2xA3BkS83bGbEDRRRdddFFtQMdxHMdx3G1AvZ0hMW9nbkCyySabbPJuQKj1KwVqfW9Az5CYtzMEcEDKJptssklwQMW8nSExj3BAv1Kg1q/UcEC66KKLLhpxQLV+pUCtX3FAsBSo9SulcUCrqqqqqupxQKVArV8pMHJAoNavFKh1ckCbbLLJJrtyQJYCtX6lAHNAkZi3MyRGc0CMLrroootzQIbEvJ0h0XNAgVq/UqAWdEB88MEHH1x0QHeGxLydoXRAchzHcRzndEBtsskmmyx1QGdIzNsZcnVAYt7OkJi3dUBddNFFF/11QFgK1PqVQnZAU6DWrxSIdkBONtlkk812QEjM2xkSE3dAQ2LezpBYd0A++OCDD553QDmO4ziO43dANCTm7QwpeEAvuuiii254QClQ61cKtHhAJObtDIn5eEAffPDBBz95QBoS83aGhHlAFaj1KwXKeUAQPvjggw96QArU+pUCVXpABWr9SoGaekAAAAAAAOB6QPuVArV+JXtA9isFav1qe0DwwQcffLB7QOtXCtT69XtA5u0MiXk7fEDhgw8++IB8QNwZEvN2xnxA168UqPULfUDRRRdddFF9QMzbGRLzln1AAAAAAAAAAACTTTbZZJMRQJNNNtlkkyFAXHTRRRddKkCTTTbZZJMxQPjggw8++DVAXHTRRRddOkDBBx988ME+QJNNNtlkk0FARRdddNHFQ0D44IMPPvhFQKqqqqqqKkhAXHTRRRddSkAPPvjgg49MQMEHH3zwwU5Auuiiiy56UECTTTbZZJNRQGyyySabrFJARRdddNHFU0AffPDBB99UQPjggw8++FVA0UUXXXQRV0CqqqqqqipYQIMPPvjgQ1lAXHTRRRddWkA22WSTTXZbQA8++OCDj1xA6KKLLrqoXUDBBx988MFeQJpssskm219Auuiiiy56YEAmm2yyyQZhQJNNNtlkk2FAAAAAAAAgYkBssskmm6xiQNlkk002OWNARRdddNHFY0CyySabbFJkQB988MEH32RAiy666KJrZUD44IMPPvhlQGSTTTbZhGZA0UUXXXQRZ0A++OCDD55nQKqqqqqqKmhAF1100UW3aECDDz744ENpQPDBBx980GlAXHTRRRddakDJJptssulqQDbZZJNNdmtAoosuuugCbEAPPvjgg49sQHvwwQcfHG1A6KKLLrqobUBVVVVVVTVuQMEHH3zwwW5ALrroootOb0CabLLJJttvQIQPPvjgM3BAuuiiiy56cEDwwQcffMBwQCabbLLJBnFAXXTRRRdNcUCTTTbZZJNxQMkmm2yy2XFAAAAAAAAgckA22WSTTWZyQGyyySabrHJAoosuuujyckDZZJNNNjlzQA8++OCDf3NARRdddNHFc0B88MEHHwx0QLLJJptsUnRA6KKLLrqYdEAffPDBB990QFVVVVVVJXVAiy666KJrdUDBBx988LF1QPjggw8++HVALrrooos+dkBkk0022YR2QJtssskmy3ZA0UUXXXQRd0AHH3zwwVd3QD744IMPnndAdNFFF13kd0Cqqqqqqip4QOCDDz74cHhAF1100UW3eEBNNtlkk/14QIMPPvjgQ3lAuuiiiy6KeUDwwQcffNB5QCabbLLJFnpAXHTRRRddekCTTTbZZKN6QMkmm2yy6XpA//////8ve0A22WSTTXZ7QGyyySabvHtAoosuuugCfEDZZJNNNkl8QA8++OCDj3xARRdddNHVfEB78MEHHxx9QLLJJptsYn1A6KKLLrqofUAefPDBB+99QAAAAAAAAAAAchzHcRzHEUByHMdxHMchQKuqqqqqqipAchzHcRzHMUCO4ziO4zg2QKuqqqqqqjpAyHEcx3EcP0ByHMdxHMdBQAAAAAAAAERAjuM4juM4RkAdx3Ecx3FIQKuqqqqqqkpAOY7jOI7jTEDIcRzHcRxPQKuqqqqqqlBAchzHcRzHUUA5juM4juNSQAAAAAAAAFRAx3Ecx3EcVUCO4ziO4zhWQFZVVVVVVVdAHcdxHMdxWEDkOI7jOI5ZQKuqqqqqqlpAchzHcRzHW0A5juM4juNcQAAAAAAAAF5AyHEcx3EcX0DHcRzHcRxgQKuqqqqqqmBAjuM4juM4YUByHMdxHMdhQFZVVVVVVWJAOY7jOI7jYkAdx3Ecx3FjQAAAAAAAAGRA5DiO4ziOZEDHcRzHcRxlQKuqqqqqqmVAjuM4juM4ZkByHMdxHMdmQFZVVVVVVWdAOY7jOI7jZ0Adx3Ecx3FoQAAAAAAAAGlA5DiO4ziOaUDHcRzHcRxqQKuqqqqqqmpAj+M4juM4a0ByHMdxHMdrQFZVVVVVVWxAOY7jOI7jbEAdx3Ecx3FtQAAAAAAAAG5A5DiO4ziObkDIcRzHcRxvQKuqqqqqqm9Ax3Ecx3EccEA5juM4jmNwQKuqqqqqqnBAHcdxHMfxcECO4ziO4zhxQAAAAAAAgHFAchzHcRzHcUDkOI7jOA5yQFZVVVVVVXJAx3Ecx3GcckA5juM4juNyQKuqqqqqKnNAHcdxHMdxc0CO4ziO47hzQAAAAAAAAHRAchzHcRxHdEDkOI7jOI50QFZVVVVV1XRAx3Ecx3EcdUA5juM4jmN1QKuqqqqqqnVAHcdxHMfxdUCO4ziO4zh2QAAAAAAAgHZAchzHcRzHdkDkOI7jOA53QFZVVVVVVXdAx3Ecx3Gcd0A5juM4juN3QKuqqqqqKnhAHcdxHMdxeECP4ziO47h4QAAAAAAAAHlAchzHcRxHeUDkOI7jOI55QFZVVVVV1XlAx3Ecx3EcekA5juM4jmN6QKuqqqqqqnpAHcdxHMfxekCP4ziO4zh7QAAAAAAAgHtAchzHcRzHe0DkOI7jOA58QFZVVVVVVXxAx3Ecx3GcfEA5juM4juN8QKuqqqqqKn1AHcdxHMdxfUCP4ziO47h9QAAAAAAAAH5AchzHcRxHfkAAAAAAAAAAAFDrVwrU+hFAUOtXCtT6IUD44IMPPvgqQFDrVwrU+jFAJObtDIl5NkD44IMPPvg6QMzbGRLzdj9AUOtXCtT6QUC66KKLLjpEQCTm7QyJeUZAjuM4juO4SED44IMPPvhKQGLezpCYN01AzNsZEvN2T0CbbLLJJttQQFDrVwrU+lFABWr9SoEaU0C66KKLLjpUQG9nSMzbWVVAJObtDIl5VkDZZJNNNplXQI7jOI7juFhAQ2LezpDYWUD44IMPPvhaQK1fKVDrF1xAYt7OkJg3XUAXXXTRRVdeQMzbGRLzdl9AQK1fKVBLYECbbLLJJttgQPYrBWr9amFAUOtXCtT6YUCqqqqqqopiQAVq/UqBGmNAYClQ61eqY0C66KKLLjpkQBSo9SsFymRAb2dIzNtZZUDKJptssullQCTm7QyJeWZAfqVArV8JZ0DZZJNNNplnQDQk5u0MKWhAjuM4juO4aEDooosuukhpQENi3s6Q2GlAniExb2doakD44IMPPvhqQFKg1q8UiGtArV8pUOsXbEAIH3zwwadsQGLezpCYN21AvJ0hMW/HbUAXXXTRRVduQHIcx3Ec525AzNsZEvN2b0CTTTbZZANwQECtXylQS3BA7gyJeTuTcECbbLLJJttwQEjM2xkSI3FA9isFav1qcUCjiy666LJxQFDrVwrU+nFA/UqBWr9CckCqqqqqqopyQFgK1PqV0nJABWr9SoEac0CyySabbGJzQGApUOtXqnNADYl5O0Pyc0C66KKLLjp0QGdIzNsZgnRAFKj1KwXKdEDCBx988BF1QG9nSMzbWXVAHMdxHMehdUDKJptssul1QHeGxLydMXZAJObtDIl5dkDRRRdddMF2QH6lQK1fCXdALAVq/UpRd0DZZJNNNpl3QIbEvJ0h4XdANCTm7QwpeEDhgw8++HB4QI7jOI7juHhAO0Ni3s4AeUDooosuukh5QJYCtX6lkHlAQ2LezpDYeUDwwQcffCB6QJ4hMW9naHpAS4Fav1KwekD44IMPPvh6QKVArV8pQHtAUqDWrxSIe0AAAAAAANB7QK1fKVDrF3xAWr9SoNZffEAIH3zwwad8QLV+pUCt73xAYt7OkJg3fUAPPvjgg399QLydITFvx31Aav1KgVoPfkAXXXTRRVd+QMS8nSExn35AAAAAAAAAAAAuuuiiiy4SQC666KKLLiJARRdddNFFK0Auuuiiiy4yQLrooosuujZARRdddNFFO0DQRRdddNE/QC666KKLLkJAdNFFF110REC66KKLLrpGQP///////0hARRdddNFFS0CLLrroootNQNBFF1100U9Aiy666KILUUAuuuiiiy5SQNFFF110UVNAdNFFF110VEAXXXTRRZdVQLrooosuulZAXHTRRRfdV0D///////9YQKKLLrroIlpARRdddNFFW0DooosuumhcQIsuuuiii11ALrrooouuXkDQRRdddNFfQLrooosuemBAiy666KILYUBddNFFF51hQC666KKLLmJA//////+/YkDRRRdddFFjQKKLLrro4mNAdNFFF110ZEBFF1100QVlQBdddNFFl2VA6KKLLrooZkC66KKLLrpmQIsuuuiiS2dAXHTRRRfdZ0Auuuiii25oQP///////2hA0UUXXXSRaUCiiy666CJqQHTRRRddtGpARRdddNFFa0AWXXTRRddrQOiiiy66aGxAueiiiy76bECLLrrooottQFx00UUXHW5ALrrooouubkD//////z9vQNBFF1100W9A0UUXXXQxcEC66KKLLnpwQKKLLrrownBAiy666KILcUB00UUXXVRxQF100UUXnXFARRdddNHlcUAuuuiiiy5yQBdddNFFd3JA//////+/ckDooosuughzQNFFF110UXNAuuiiiy6ac0Ciiy666OJzQIsuuuiiK3RAdNFFF110dEBcdNFFF710QEUXXXTRBXVALrroootOdUAXXXTRRZd1QP//////33VA6KKLLroodkDRRRdddHF2QLrooosuunZAoosuuugCd0CLLrrookt3QHTRRRddlHdAXHTRRRfdd0BFF1100SV4QC666KKLbnhAF1100UW3eED///////94QOiiiy66SHlA0UUXXXSReUC56KKLLtp5QKKLLrroInpAiy666KJrekB00UUXXbR6QFx00UUX/XpARRdddNFFe0Auuuiii457QBZddNFF13tA//////8ffEDooosuumh8QNFFF110sXxAueiiiy76fECiiy666EJ9QIsuuuiii31Ac9FFF13UfUBcdNFFFx1+QEUXXXTRZX5ALrrooouufkAWXXTRRfd+QAAAAAAAAAAADYl5O0NiEkANiXk7Q2IiQJRNNtlkkytADYl5O0NiMkBQ61cK1Po2QJRNNtlkkztA61cK1PoVQEANiXk7Q2JCQC+66KKLrkRAUOtXCtT6RkByHMdxHEdJQJRNNtlkk0tAtX6lQK3fTUDrVwrU+hVQQHzwwQcfPFFADYl5O0NiUkCeITFvZ4hTQC+66KKLrlRAv1Kg1q/UVUBQ61cK1PpWQOGDDz74IFhAchzHcRxHWUADtX6lQG1aQJRNNtlkk1tAJObtDIm5XEC1fqVArd9dQEYXXXTRBV9A61cK1PoVYEA0JObtDKlgQHzwwQcfPGFAxbydITHPYUANiXk7Q2JiQFVVVVVV9WJAniExb2eIY0Dm7QyJeRtkQC+66KKLrmRAd4bEvJ1BZUC/UqDWr9RlQAgffPDBZ2ZAUOtXCtT6ZkCZtzMk5o1nQOGDDz74IGhAKVDrVwq0aEByHMdxHEdpQLrooosu2mlAA7V+pUBtakBLgVq/UgBrQJRNNtlkk2tA3BkS83YmbEAk5u0MiblsQG2yySabTG1AtX6lQK3fbUD+SoFav3JuQEYXXXTRBW9AjuM4juOYb0DrVwrU+hVwQBA++OCDX3BANCTm7QypcEBYCtT6lfJwQHzwwQcfPHFAoNavFKiFcUDFvJ0hMc9xQOmiiy66GHJADYl5O0NickAxb2dIzKtyQFVVVVVV9XJAejtDYt4+c0CeITFvZ4hzQMIHH3zw0XNA5u0MiXkbdEAK1PqVAmV0QC+66KKLrnRAU6DWrxT4dEB3hsS8nUF1QJtssskmi3VAv1Kg1q/UdUDkOI7jOB52QAgffPDBZ3ZALAVq/UqxdkBQ61cK1Pp2QHTRRRddRHdAmbczJOaNd0C9nSExb9d3QOGDDz74IHhABWr9SoFqeEApUOtXCrR4QE422WST/XhAchzHcRxHeUCWArV+pZB5QLrooosu2nlA3s6QmLcjekADtX6lQG16QCebbLLJtnpAS4Fav1IAe0BvZ0jM20l7QJRNNtlkk3tAuDMk5u3ce0DcGRLzdiZ8QAAAAAAAcHxAJObtDIm5fEBJzNsZEgN9QG2yySabTH1AkZi3MySWfUC1fqVArd99QNlkk002KX5A/kqBWr9yfkAiMW9nSLx+QEYXXXTRBX9Aav1KgVpPf0AAAAAAAAAAAOtXCtT6lRJA61cK1PqVIkDggw8++OArQOtXCtT6lTJA5u0MiXk7N0Dggw8++OA7QO4MiXk7Q0BA61cK1PqVQkDooosuuuhEQObtDIl5O0dA4ziO4ziOSUDggw8++OBLQN7OkJi3M05A7gyJeTtDUEBssskmm2xRQOtXCtT6lVJAav1KgVq/U0DooosuuuhUQGdIzNsZElZA5u0MiXk7V0Bkk0022WRYQOM4juM4jllAYt7OkJi3WkDggw8++OBbQF8pUOtXCl1A3s6QmLczXkBddNFFF11fQO4MiXk7Q2BArV8pUOvXYEBssskmm2xhQCwFav1KAWJA61cK1PqVYkCqqqqqqipjQGr9SoFav2NAKVDrVwpUZEDooosuuuhkQKj1KwVqfWVAZ0jM2xkSZkAmm2yyyaZmQObtDIl5O2dApUCtXynQZ0Bkk0022WRoQCTm7QyJ+WhA4ziO4ziOaUCiiy666CJqQGLezpCYt2pAITFvZ0hMa0Dggw8++OBrQKDWrxSodWxAXylQ61cKbUAffPDBB59tQN7OkJi3M25AnSExb2fIbkBddNFFF11vQBzHcRzH8W9A7gyJeTtDcEBNNtlkk41wQK1fKVDr13BADYl5O0MicUBssskmm2xxQMzbGRLztnFALAVq/UoBckCLLrrooktyQOtXCtT6lXJAS4Fav1LgckCqqqqqqipzQArU+pUCdXNAav1KgVq/c0DJJptssgl0QClQ61cKVHRAiXk7Q2KedEDooosuuuh0QEjM2xkSM3VAqPUrBWp9dUAHH3zwwcd1QGdIzNsZEnZAx3Ecx3FcdkAmm2yyyaZ2QIbEvJ0h8XZA5u0MiXk7d0BFF1100YV3QKVArV8p0HdABWr9SoEaeEBkk0022WR4QMS8nSExr3hAJObtDIn5eECDDz744EN5QOM4juM4jnlAQ2LezpDYeUCiiy666CJ6QAK1fqVAbXpAYt7OkJi3ekDBBx988AF7QCExb2dITHtAgVq/UqCWe0Dggw8++OB7QECtXylQK3xAoNavFKh1fEAAAAAAAMB8QF8pUOtXCn1Av1Kg1q9UfUAffPDBB599QH6lQK1f6X1A3s6QmLczfkA++OCDD35+QJ0hMW9nyH5A/UqBWr8Sf0BddNFFF11/QLydITFvp39AAAAAAAAAAADKJptssskSQMomm2yyySJAL7rooosuLEDKJptssskyQHzwwQcffDdAL7rooosuPEDxwQcffHBAQMomm2yyyUJAo4suuugiRUB88MEHH3xHQFZVVVVV1UlAL7rooosuTEAIH3zwwYdOQPHBBx98cFBAXXTRRRedUUDKJptssslSQDfZZJNN9lNAo4suuugiVUAQPvjgg09WQHzwwQcffFdA6aKLLrqoWEBWVVVVVdVZQMIHH3zwAVtAL7rooosuXECcbLLJJltdQAgffPDBh15AddFFF120X0DxwQcffHBgQCebbLLJBmFAXXTRRRedYUCUTTbZZDNiQMomm2yyyWJAAAAAAABgY0A32WSTTfZjQG2yySabjGRAo4suuugiZUDaZJNNNrllQBA++OCDT2ZARhdddNHlZkB88MEHH3xnQLPJJptsEmhA6aKLLrqoaEAffPDBBz9pQFZVVVVV1WlAjC666KJrakDCBx988AFrQPnggw8+mGtAL7rooosubEBlk0022cRsQJxssskmW21A0kUXXXTxbUAIH3zwwYduQD/44IMPHm9AddFFF120b0BWVVVVVSVwQPHBBx98cHBAjC666KK7cEAnm2yyyQZxQMIHH3zwUXFAXXTRRRedcUD54IMPPuhxQJRNNtlkM3JAL7rooot+ckDKJptssslyQGWTTTbZFHNAAAAAAABgc0CbbLLJJqtzQDfZZJNN9nNA0kUXXXRBdEBtsskmm4x0QAgffPDB13RAo4suuugidUA++OCDD251QNpkk002uXVAddFFF10EdkAQPvjgg092QKuqqqqqmnZARhdddNHldkDhgw8++DB3QHzwwQcffHdAGF100UXHd0CzySabbBJ4QE422WSTXXhA6aKLLrqoeECEDz744PN4QB988MEHP3lAu+iiiy6KeUBWVVVVVdV5QPHBBx98IHpAjC666KJrekAnm2yyybZ6QMIHH3zwAXtAXnTRRRdNe0D54IMPPph7QJRNNtlk43tAL7rooosufEDKJptssnl8QGWTTTbZxHxAAAAAAAAQfUCcbLLJJlt9QDfZZJNNpn1A0kUXXXTxfUBtsskmmzx+QAgffPDBh35Ao4suuujSfkA/+OCDDx5/QNpkk002aX9AddFFF120f0AQPvjgg/9/QAAAAAAAAAAAqPUrBWr9EkCo9SsFav0iQHzwwQcffCxAqPUrBWr9MkAS83aGxLw3QHzwwQcffDxA83aGxLydQECo9SsFav1CQF100UUXXUVAEvN2hsS8R0DHcRzHcRxKQHzwwQcffExAMW9nSMzbTkDzdobEvJ1QQE422WSTzVFAqPUrBWr9UkACtX6lQC1UQF100UUXXVVAuDMk5u2MVkAS83aGxLxXQGyyySab7FhAx3Ecx3EcWkAiMW9nSExbQHzwwQcffFxA1q8UqPWrXUAxb2dIzNteQEYXXXTRBWBA83aGxLydYECg1q8UqDVhQE422WSTzWFA+5UCtX5lYkCo9SsFav1iQFVVVVVVlWNAArV+pUAtZECwFKj1K8VkQF100UUXXWVACtT6lQL1ZUC4MyTm7YxmQGWTTTbZJGdAEvN2hsS8Z0C/UqDWr1RoQGyyySab7GhAGhLzdoaEaUDHcRzHcRxqQHTRRRddtGpAIjFvZ0hMa0DPkJi3M+RrQHzwwQcffGxAKVDrVwoUbUDWrxSo9attQIQPPvjgQ25AMW9nSMzbbkDezpCYt3NvQEYXXXTRBXBAHMdxHMdRcEDzdobEvJ1wQMomm2yy6XBAoNavFKg1cUB3hsS8nYFxQE422WSTzXFAJObtDIkZckD7lQK1fmVyQNFFF110sXJAqPUrBWr9ckB/pUCtX0lzQFVVVVVVlXNALAVq/Urhc0ACtX6lQC10QNlkk002eXRAsBSo9SvFdECGxLydIRF1QF100UUXXXVANCTm7QypdUAK1PqVAvV1QOGDDz74QHZAuDMk5u2MdkCO4ziO49h2QGWTTTbZJHdAO0Ni3s5wd0AS83aGxLx3QOmiiy66CHhAv1Kg1q9UeECWArV+paB4QGyyySab7HhAQ2LezpA4eUAaEvN2hoR5QPDBBx980HlAx3Ecx3EcekCeITFvZ2h6QHTRRRddtHpAS4Fav1IAe0AiMW9nSEx7QPjggw8+mHtAz5CYtzPke0ClQK1fKTB8QHzwwQcffHxAU6DWrxTIfEApUOtXChR9QAAAAAAAYH1A1q8UqPWrfUCtXylQ6/d9QIQPPvjgQ35AWr9SoNaPfkAxb2dIzNt+QAgffPDBJ39A3s6QmLdzf0C1fqVArb9/QEYXXXTRBYBAMW9nSMwrgEAAAAAAAAAAAIbEvJ0hMRNAhsS8nSExI0DJJptsssksQIbEvJ0hMTNAqPUrBWr9N0DJJptsssk8QPUrBWr9ykBAhsS8nSExQ0AXXXTRRZdFQKj1KwVq/UdAOI7jOI5jSkDJJptssslMQFq/UqDWL09A9SsFav3KUEA++OCDD/5RQIbEvJ0hMVNAzpCYtzNkVEAXXXTRRZdVQF8pUOtXylZAqPUrBWr9V0DwwQcffDBZQDiO4ziOY1pAgVq/UqCWW0DJJptssslcQBHzdobE/F1AWr9SoNYvX0DRRRdddDFgQPUrBWr9ymBAGRLzdoZkYUA++OCDD/5hQGLezpCYl2JAhsS8nSExY0CqqqqqqspjQM6QmLczZGRA83aGxLz9ZEAXXXTRRZdlQDtDYt7OMGZAXylQ61fKZkCDDz744GNnQKj1KwVq/WdAzNsZEvOWaEDwwQcffDBpQBSo9SsFymlAOI7jOI5jakBcdNFFF/1qQIFav1KglmtApUCtXykwbEDJJptssslsQO0MiXk7Y21AEfN2hsT8bUA22WSTTZZuQFq/UqDWL29AfqVArV/Jb0DRRRdddDFwQOM4juM4fnBA9SsFav3KcEAHH3zwwRdxQBkS83aGZHFALAVq/UqxcUA++OCDD/5xQFDrVwrUSnJAYt7OkJiXckB00UUXXeRyQIbEvJ0hMXNAmLczJOZ9c0CqqqqqqspzQLydITFvF3RAzpCYtzNkdEDggw8++LB0QPN2hsS8/XRABWr9SoFKdUAXXXTRRZd1QClQ61cK5HVAO0Ni3s4wdkBNNtlkk312QF8pUOtXynZAcRzHcRwXd0CDDz744GN3QJUCtX6lsHdAqPUrBWr9d0C66KKLLkp4QMzbGRLzlnhA3s6QmLfjeEDwwQcffDB5QAK1fqVAfXlAFKj1KwXKeUAmm2yyyRZ6QDiO4ziOY3pASoFav1KwekBcdNFFF/16QG9nSMzbSXtAgVq/UqCWe0CTTTbZZON7QKVArV8pMHxAtzMk5u18fEDJJptsssl8QNsZEvN2Fn1A7QyJeTtjfUD//////699QBHzdobE/H1AI+btDIlJfkA22WSTTZZ+QEjM2xkS435AWr9SoNYvf0Bssskmm3x/QH6lQK1fyX9ASMzbGRILgEDRRRdddDGAQFq/UqDWV4BAAAAAAAAAAABlk0022WQTQGWTTTbZZCNAGF100UUXLUBlk0022WQzQD744IMPPjhAGF100UUXPUD44IMPPvhAQGWTTTbZZENA0kUXXXTRRUA++OCDDz5IQKuqqqqqqkpAGF100UUXTUCEDz744INPQPjggw8++FBAL7rooosuUkBlk0022WRTQJtssskmm1RA0kUXXXTRVUAIH3zwwQdXQD744IMPPlhAddFFF110WUCrqqqqqqpaQOGDDz744FtAGF100UUXXUBONtlkk01eQIQPPvjgg19AXXTRRRddYED44IMPPvhgQJRNNtlkk2FAL7rooosuYkDKJptsssliQGWTTTbZZGNAAAAAAAAAZECbbLLJJptkQDbZZJNNNmVA0kUXXXTRZUBtsskmm2xmQAgffPDBB2dAo4suuuiiZ0A++OCDDz5oQNlkk0022WhAddFFF110aUAQPvjggw9qQKuqqqqqqmpARhdddNFFa0Dhgw8++OBrQHzwwQcffGxAGF100UUXbUCzySabbLJtQE422WSTTW5A6aKLLrrobkCEDz744INvQBA++OCDD3BAXXTRRRddcECrqqqqqqpwQPjggw8++HBARhdddNFFcUCUTTbZZJNxQOGDDz744HFAL7rooosuckB88MEHH3xyQMomm2yyyXJAF1100UUXc0Blk0022WRzQLPJJptssnNAAAAAAAAAdEBONtlkk010QJtssskmm3RA6aKLLrrodEA22WSTTTZ1QIQPPvjgg3VA0kUXXXTRdUAffPDBBx92QG2yySabbHZAuuiiiy66dkAIH3zwwQd3QFZVVVVVVXdAo4suuuiid0DxwQcffPB3QD744IMPPnhAjC666KKLeEDZZJNNNtl4QCebbLLJJnlAddFFF110eUDCBx988MF5QBA++OCDD3pAXXTRRRddekCrqqqqqqp6QPjggw8++HpARhdddNFFe0CUTTbZZJN7QOGDDz744HtAL7rooosufEB88MEHH3x8QMomm2yyyXxAGF100UUXfUBlk0022WR9QLPJJptssn1AAAAAAAAAfkBONtlkk01+QJtssskmm35A6aKLLrrofkA32WSTTTZ/QIQPPvjgg39A0kUXXXTRf0AQPvjggw+AQDbZZJNNNoBAXXTRRRddgECEDz744IOAQAAAAAAAAAAAQ2LezpCYE0BDYt7OkJgjQGSTTTbZZC1AQ2LezpCYM0DU+pUCtX44QGSTTTbZZD1A+5UCtX4lQUBDYt7OkJhDQIsuuuiiC0ZA1PqVArV+SEAcx3Ecx/FKQGSTTTbZZE1ArV8pUOvXT0D7lQK1fiVRQB988MEHX1JAQ2LezpCYU0BnSMzbGdJUQIsuuuiiC1ZAsBSo9StFV0DU+pUCtX5YQPjggw8+uFlAHMdxHMfxWkBArV8pUCtcQGSTTTbZZF1AiXk7Q2KeXkCtXylQ69dfQOmiiy66iGBA+5UCtX4lYUANiXk7Q8JhQB988MEHX2JAMW9nSMz7YkBDYt7OkJhjQFVVVVVVNWRAZ0jM2xnSZEB5O0Ni3m5lQIsuuuiiC2ZAnSExb2eoZkCwFKj1K0VnQMIHH3zw4WdA1PqVArV+aEDm7QyJeRtpQPjggw8+uGlACtT6lQJVakAcx3Ecx/FqQC666KKLjmtAQK1fKVArbEBSoNavFMhsQGSTTTbZZG1Ad4bEvJ0BbkCJeTtDYp5uQJtssskmO29ArV8pUOvXb0BfKVDrVzpwQOmiiy66iHBAchzHcRzXcED7lQK1fiVxQIQPPvjgc3FADYl5O0PCcUCWArV+pRByQB988MEHX3JAqPUrBWqtckAxb2dIzPtyQLrooosuSnNAQ2LezpCYc0DM2xkS8+ZzQFVVVVVVNXRA3s6QmLeDdEBnSMzbGdJ0QPDBBx98IHVAeTtDYt5udUACtX6lQL11QIsuuuiiC3ZAFKj1KwVadkCdITFvZ6h2QCebbLLJ9nZAsBSo9StFd0A5juM4jpN3QMIHH3zw4XdAS4Fav1IweEDU+pUCtX54QF100UUXzXhA5u0MiXkbeUBvZ0jM22l5QPjggw8+uHlAgVq/UqAGekAK1PqVAlV6QJNNNtlko3pAHMdxHMfxekClQK1fKUB7QC666KKLjntAtzMk5u3ce0BArV8pUCt8QMkmm2yyeXxAUqDWrxTIfEDbGRLzdhZ9QGSTTTbZZH1A7gyJeTuzfUB3hsS8nQF+QAAAAAAAUH5AiXk7Q2KefkAS83aGxOx+QJtssskmO39AJObtDImJf0CtXylQ69d/QJtssskmE4BAXylQ61c6gEAk5u0MiWGAQOmiiy66iIBArV8pUOuvgEAAAAAAAAAAACIxb2dIzBNAIjFvZ0jMI0CzySabbLItQCIxb2dIzDNAav1KgVq/OECzySabbLI9QP5KgVq/UkFAIjFvZ0jMQ0BGF1100UVGQGr9SoFav0hAj+M4juM4S0CzySabbLJNQOxXCtT6FVBA/kqBWr9SUUAQPvjgg49SQCIxb2dIzFNANCTm7QwJVUBGF1100UVWQFgK1PqVgldAav1KgVq/WEB98MEHH/xZQI/jOI7jOFtAodavFKh1XECzySabbLJdQMW8nSEx715A7FcK1PoVYEB10UUXXbRgQP5KgVq/UmFAh8S8nSHxYUAQPvjgg49iQJm3MyTmLWNAIjFvZ0jMY0CrqqqqqmpkQDQk5u0MCWVAvZ0hMW+nZUBGF1100UVmQM+QmLcz5GZAWArU+pWCZ0Dhgw8++CBoQGr9SoFav2hA9HaGxLxdaUB98MEHH/xpQAZq/UqBmmpAj+M4juM4a0AYXXTRRddrQKHWrxSodWxAKlDrVwoUbUCzySabbLJtQDxDYt7OUG5AxbydITHvbkBONtlkk41vQOxXCtT6FXBAsBSo9StlcEB10UUXXbRwQDmO4ziOA3FA/kqBWr9ScUDCBx988KFxQIfEvJ0h8XFAS4Fav1JAckAQPvjgg49yQNT6lQK13nJAmbczJOYtc0BddNFFF31zQCIxb2dIzHNA5+0MiXkbdECrqqqqqmp0QHBnSMzbuXRANCTm7QwJdUD54IMPPlh1QL2dITFvp3VAglq/UqD2dUBGF1100UV2QAvU+pUClXZAz5CYtzPkdkCUTTbZZDN3QFgK1PqVgndAHcdxHMfRd0Dhgw8++CB4QKZArV8pcHhAav1KgVq/eEAvuuiiiw55QPR2hsS8XXlAuDMk5u2seUB98MEHH/x5QEGtXylQS3pABmr9SoGaekDKJptssul6QI/jOI7jOHtAU6DWrxSIe0AYXXTRRdd7QNwZEvN2JnxAodavFKh1fEBlk0022cR8QCpQ61cKFH1A7gyJeTtjfUCzySabbLJ9QHiGxLydAX5APENi3s5QfkABAAAAAKB+QMW8nSEx735Aink7Q2I+f0BONtlkk41/QBPzdobE3H9A7FcK1PoVgEBONtlkkz2AQLAUqPUrZYBAEvN2hsSMgEB10UUXXbSAQNevFKj124BAAAAAAAAAAAAAAAAAAAAUQAAAAAAAACRAAAAAAAAALkAAAAAAAAA0QAAAAAAAADlAAAAAAAAAPkAAAAAAAIBBQAAAAAAAAERAAAAAAACARkAAAAAAAABJQAAAAAAAgEtAAAAAAAAATkAAAAAAAEBQQAAAAAAAgFFAAAAAAADAUkAAAAAAAABUQAAAAAAAQFVAAAAAAACAVkAAAAAAAMBXQAAAAAAAAFlAAAAAAABAWkAAAAAAAIBbQAAAAAAAwFxAAAAAAAAAXkAAAAAAAEBfQAAAAAAAQGBAAAAAAADgYEAAAAAAAIBhQAAAAAAAIGJAAAAAAADAYkAAAAAAAGBjQAAAAAAAAGRAAAAAAACgZEAAAAAAAEBlQAAAAAAA4GVAAAAAAACAZkAAAAAAACBnQAAAAAAAwGdAAAAAAABgaEAAAAAAAABpQAAAAAAAoGlAAAAAAABAakAAAAAAAOBqQAAAAAAAgGtAAAAAAAAgbEAAAAAAAMBsQAAAAAAAYG1AAAAAAAAAbkAAAAAAAKBuQAAAAAAAQG9AAAAAAADgb0AAAAAAAEBwQAAAAAAAkHBAAAAAAADgcEAAAAAAADBxQAAAAAAAgHFAAAAAAADQcUAAAAAAACByQAAAAAAAcHJAAAAAAADAckAAAAAAABBzQAAAAAAAYHNAAAAAAACwc0AAAAAAAAB0QAAAAAAAUHRAAAAAAACgdEAAAAAAAPB0QAAAAAAAQHVAAAAAAACQdUAAAAAAAOB1QAAAAAAAMHZAAAAAAACAdkAAAAAAANB2QAAAAAAAIHdAAAAAAABwd0AAAAAAAMB3QAAAAAAAEHhAAAAAAABgeEAAAAAAALB4QAAAAAAAAHlAAAAAAABQeUAAAAAAAKB5QAAAAAAA8HlAAAAAAABAekAAAAAAAJB6QAAAAAAA4HpAAAAAAAAwe0AAAAAAAIB7QAAAAAAA0HtAAAAAAAAgfEAAAAAAAHB8QAAAAAAAwHxAAAAAAAAQfUAAAAAAAGB9QAAAAAAAsH1AAAAAAAAAfkAAAAAAAFB+QAAAAAAAoH5AAAAAAADwfkAAAAAAAEB/QAAAAAAAkH9AAAAAAADgf0AAAAAAABiAQAAAAAAAQIBAAAAAAABogEAAAAAAAJCAQAAAAAAAuIBAAAAAAADggEAAAAAAAAiBQA==",
          "dtype": "f8",
          "shape": "100, 110"
         },
         "zmax": 100,
         "zmin": 0
        },
        {
         "hoverinfo": "none",
         "line": {
          "color": "black",
          "dash": "dash",
          "width": 1
         },
         "mode": "lines",
         "showlegend": false,
         "type": "scatter",
         "x": {
          "bdata": "AAAAAAAAAAAAAAAAAAAAAHE9CtejcPk/w/UoXI/CKkAzMzMzMzPjPwAAAAAAADZA4XoUrkfhGUAAAAAAAAAAAPYoXI/C9RJAexSuR+F6BED2KFyPwrU9QB+F61G4HjNAAAAAAAAAAAAAAAAAAAAAAAAAAAAAAAAAAAAAAAAAAAAAAAAAAAAAAJqZmZmZmck/AAAAAAAAAAAAAAAAAAAAAJqZmZmZmck/AAAAAAAAAAAAAAAAAAAAAAAAAAAAAAAAmpmZmZmZyT+4HoXrUbgKQAAAAAAAAAAAAAAAAAAAAAB7FK5H4Xr8P3sUrkfh+jlAAAAAAAAAAAAzMzMzMzPjPw==",
          "dtype": "f8"
         },
         "y": {
          "bdata": "KVyPwvUoBEApXI/C9SgEQClcj8L1KARAKVyPwvUoBECF61G4HoUDQIXrUbgehQNAhetRuB6FA0CF61G4HoUDQLgehetRuAJAuB6F61G4AkC4HoXrUbgCQLgehetRuAJAw/UoXI/CAUDD9Shcj8IBQMP1KFyPwgFAw/UoXI/CAUDhehSuR+EAQOF6FK5H4QBA4XoUrkfhAEDhehSuR+EAQGZmZmZmZgBAZmZmZmZmAEBmZmZmZmYAQGZmZmZmZgBAexSuR+F6AEB7FK5H4XoAQHsUrkfhegBAexSuR+F6AEBcj8L1KFwBQFyPwvUoXAFAXI/C9ShcAUBcj8L1KFwBQA==",
          "dtype": "f8"
         }
        },
        {
         "hoverinfo": "text",
         "hovertext": "<b>Estação:</b> RECIFE - APAC<br><b>Data:</b> 2025-05-14<br><b>Hora:</b> 02:00:00<br><b>Risco:</b> Baixo (0.0)<br><b>VP:</b> 0.0<br><b>AM:</b> 2.52",
         "marker": {
          "color": "#4CAF50",
          "line": {
           "color": "black",
           "width": 1
          },
          "size": 12
         },
         "mode": "markers",
         "showlegend": false,
         "type": "scatter",
         "x": [
          0
         ],
         "y": [
          2.52
         ]
        },
        {
         "hoverinfo": "text",
         "hovertext": "<b>Estação:</b> RECIFE - APAC<br><b>Data:</b> 2025-05-14<br><b>Hora:</b> 08:00:00<br><b>Risco:</b> Baixo (0.0)<br><b>VP:</b> 0.0<br><b>AM:</b> 2.52",
         "marker": {
          "color": "#4CAF50",
          "line": {
           "color": "black",
           "width": 1
          },
          "size": 12
         },
         "mode": "markers",
         "showlegend": false,
         "type": "scatter",
         "x": [
          0
         ],
         "y": [
          2.52
         ]
        },
        {
         "hoverinfo": "text",
         "hovertext": "<b>Estação:</b> RECIFE - APAC<br><b>Data:</b> 2025-05-14<br><b>Hora:</b> 14:00:00<br><b>Risco:</b> Baixo (4.01)<br><b>VP:</b> 1.59<br><b>AM:</b> 2.52",
         "marker": {
          "color": "#4CAF50",
          "line": {
           "color": "black",
           "width": 1
          },
          "size": 12
         },
         "mode": "markers",
         "showlegend": false,
         "type": "scatter",
         "x": [
          1.59
         ],
         "y": [
          2.52
         ]
        },
        {
         "hoverinfo": "text",
         "hovertext": "<b>Estação:</b> RECIFE - APAC<br><b>Data:</b> 2025-05-14<br><b>Hora:</b> 20:00:00<br><b>Risco:</b> Moderado (33.72)<br><b>VP:</b> 13.38<br><b>AM:</b> 2.52",
         "marker": {
          "color": "#FFC107",
          "line": {
           "color": "black",
           "width": 1
          },
          "size": 12
         },
         "mode": "markers",
         "showlegend": false,
         "type": "scatter",
         "x": [
          13.38
         ],
         "y": [
          2.52
         ]
        },
        {
         "hoverinfo": "text",
         "hovertext": "<b>Estação:</b> RECIFE - APAC<br><b>Data:</b> 2025-05-15<br><b>Hora:</b> 02:00:00<br><b>Risco:</b> Baixo (1.46)<br><b>VP:</b> 0.6<br><b>AM:</b> 2.44",
         "marker": {
          "color": "#4CAF50",
          "line": {
           "color": "black",
           "width": 1
          },
          "size": 12
         },
         "mode": "markers",
         "showlegend": false,
         "type": "scatter",
         "x": [
          0.6
         ],
         "y": [
          2.44
         ]
        },
        {
         "hoverinfo": "text",
         "hovertext": "<b>Estação:</b> RECIFE - APAC<br><b>Data:</b> 2025-05-15<br><b>Hora:</b> 08:00:00<br><b>Risco:</b> Moderado Alto (53.68)<br><b>VP:</b> 22.0<br><b>AM:</b> 2.44",
         "marker": {
          "color": "#FFA500",
          "line": {
           "color": "black",
           "width": 1
          },
          "size": 12
         },
         "mode": "markers",
         "showlegend": false,
         "type": "scatter",
         "x": [
          22
         ],
         "y": [
          2.44
         ]
        },
        {
         "hoverinfo": "text",
         "hovertext": "<b>Estação:</b> RECIFE - APAC<br><b>Data:</b> 2025-05-15<br><b>Hora:</b> 14:00:00<br><b>Risco:</b> Baixo (15.79)<br><b>VP:</b> 6.47<br><b>AM:</b> 2.44",
         "marker": {
          "color": "#4CAF50",
          "line": {
           "color": "black",
           "width": 1
          },
          "size": 12
         },
         "mode": "markers",
         "showlegend": false,
         "type": "scatter",
         "x": [
          6.47
         ],
         "y": [
          2.44
         ]
        },
        {
         "hoverinfo": "text",
         "hovertext": "<b>Estação:</b> RECIFE - APAC<br><b>Data:</b> 2025-05-15<br><b>Hora:</b> 20:00:00<br><b>Risco:</b> Baixo (0.0)<br><b>VP:</b> 0.0<br><b>AM:</b> 2.44",
         "marker": {
          "color": "#4CAF50",
          "line": {
           "color": "black",
           "width": 1
          },
          "size": 12
         },
         "mode": "markers",
         "showlegend": false,
         "type": "scatter",
         "x": [
          0
         ],
         "y": [
          2.44
         ]
        },
        {
         "hoverinfo": "text",
         "hovertext": "<b>Estação:</b> RECIFE - APAC<br><b>Data:</b> 2025-05-16<br><b>Hora:</b> 02:00:00<br><b>Risco:</b> Baixo (11.09)<br><b>VP:</b> 4.74<br><b>AM:</b> 2.34",
         "marker": {
          "color": "#4CAF50",
          "line": {
           "color": "black",
           "width": 1
          },
          "size": 12
         },
         "mode": "markers",
         "showlegend": false,
         "type": "scatter",
         "x": [
          4.74
         ],
         "y": [
          2.34
         ]
        },
        {
         "hoverinfo": "text",
         "hovertext": "<b>Estação:</b> RECIFE - APAC<br><b>Data:</b> 2025-05-16<br><b>Hora:</b> 08:00:00<br><b>Risco:</b> Baixo (5.99)<br><b>VP:</b> 2.56<br><b>AM:</b> 2.34",
         "marker": {
          "color": "#4CAF50",
          "line": {
           "color": "black",
           "width": 1
          },
          "size": 12
         },
         "mode": "markers",
         "showlegend": false,
         "type": "scatter",
         "x": [
          2.56
         ],
         "y": [
          2.34
         ]
        },
        {
         "hoverinfo": "text",
         "hovertext": "<b>Estação:</b> RECIFE - APAC<br><b>Data:</b> 2025-05-16<br><b>Hora:</b> 14:00:00<br><b>Risco:</b> Moderado Alto (69.52)<br><b>VP:</b> 29.71<br><b>AM:</b> 2.34",
         "marker": {
          "color": "#FFA500",
          "line": {
           "color": "black",
           "width": 1
          },
          "size": 12
         },
         "mode": "markers",
         "showlegend": false,
         "type": "scatter",
         "x": [
          29.71
         ],
         "y": [
          2.34
         ]
        },
        {
         "hoverinfo": "text",
         "hovertext": "<b>Estação:</b> RECIFE - APAC<br><b>Data:</b> 2025-05-16<br><b>Hora:</b> 20:00:00<br><b>Risco:</b> Moderado (44.74)<br><b>VP:</b> 19.12<br><b>AM:</b> 2.34",
         "marker": {
          "color": "#FFC107",
          "line": {
           "color": "black",
           "width": 1
          },
          "size": 12
         },
         "mode": "markers",
         "showlegend": false,
         "type": "scatter",
         "x": [
          19.12
         ],
         "y": [
          2.34
         ]
        },
        {
         "hoverinfo": "text",
         "hovertext": "<b>Estação:</b> RECIFE - APAC<br><b>Data:</b> 2025-05-17<br><b>Hora:</b> 02:00:00<br><b>Risco:</b> Baixo (0.0)<br><b>VP:</b> 0.0<br><b>AM:</b> 2.22",
         "marker": {
          "color": "#4CAF50",
          "line": {
           "color": "black",
           "width": 1
          },
          "size": 12
         },
         "mode": "markers",
         "showlegend": false,
         "type": "scatter",
         "x": [
          0
         ],
         "y": [
          2.22
         ]
        },
        {
         "hoverinfo": "text",
         "hovertext": "<b>Estação:</b> RECIFE - APAC<br><b>Data:</b> 2025-05-17<br><b>Hora:</b> 08:00:00<br><b>Risco:</b> Baixo (0.0)<br><b>VP:</b> 0.0<br><b>AM:</b> 2.22",
         "marker": {
          "color": "#4CAF50",
          "line": {
           "color": "black",
           "width": 1
          },
          "size": 12
         },
         "mode": "markers",
         "showlegend": false,
         "type": "scatter",
         "x": [
          0
         ],
         "y": [
          2.22
         ]
        },
        {
         "hoverinfo": "text",
         "hovertext": "<b>Estação:</b> RECIFE - APAC<br><b>Data:</b> 2025-05-17<br><b>Hora:</b> 14:00:00<br><b>Risco:</b> Baixo (0.0)<br><b>VP:</b> 0.0<br><b>AM:</b> 2.22",
         "marker": {
          "color": "#4CAF50",
          "line": {
           "color": "black",
           "width": 1
          },
          "size": 12
         },
         "mode": "markers",
         "showlegend": false,
         "type": "scatter",
         "x": [
          0
         ],
         "y": [
          2.22
         ]
        },
        {
         "hoverinfo": "text",
         "hovertext": "<b>Estação:</b> RECIFE - APAC<br><b>Data:</b> 2025-05-17<br><b>Hora:</b> 20:00:00<br><b>Risco:</b> Baixo (0.0)<br><b>VP:</b> 0.0<br><b>AM:</b> 2.22",
         "marker": {
          "color": "#4CAF50",
          "line": {
           "color": "black",
           "width": 1
          },
          "size": 12
         },
         "mode": "markers",
         "showlegend": false,
         "type": "scatter",
         "x": [
          0
         ],
         "y": [
          2.22
         ]
        },
        {
         "hoverinfo": "text",
         "hovertext": "<b>Estação:</b> RECIFE - APAC<br><b>Data:</b> 2025-05-18<br><b>Hora:</b> 02:00:00<br><b>Risco:</b> Baixo (0.0)<br><b>VP:</b> 0.0<br><b>AM:</b> 2.11",
         "marker": {
          "color": "#4CAF50",
          "line": {
           "color": "black",
           "width": 1
          },
          "size": 12
         },
         "mode": "markers",
         "showlegend": false,
         "type": "scatter",
         "x": [
          0
         ],
         "y": [
          2.11
         ]
        },
        {
         "hoverinfo": "text",
         "hovertext": "<b>Estação:</b> RECIFE - APAC<br><b>Data:</b> 2025-05-18<br><b>Hora:</b> 08:00:00<br><b>Risco:</b> Baixo (0.42)<br><b>VP:</b> 0.2<br><b>AM:</b> 2.11",
         "marker": {
          "color": "#4CAF50",
          "line": {
           "color": "black",
           "width": 1
          },
          "size": 12
         },
         "mode": "markers",
         "showlegend": false,
         "type": "scatter",
         "x": [
          0.2
         ],
         "y": [
          2.11
         ]
        },
        {
         "hoverinfo": "text",
         "hovertext": "<b>Estação:</b> RECIFE - APAC<br><b>Data:</b> 2025-05-18<br><b>Hora:</b> 14:00:00<br><b>Risco:</b> Baixo (0.0)<br><b>VP:</b> 0.0<br><b>AM:</b> 2.11",
         "marker": {
          "color": "#4CAF50",
          "line": {
           "color": "black",
           "width": 1
          },
          "size": 12
         },
         "mode": "markers",
         "showlegend": false,
         "type": "scatter",
         "x": [
          0
         ],
         "y": [
          2.11
         ]
        },
        {
         "hoverinfo": "text",
         "hovertext": "<b>Estação:</b> RECIFE - APAC<br><b>Data:</b> 2025-05-18<br><b>Hora:</b> 20:00:00<br><b>Risco:</b> Baixo (0.0)<br><b>VP:</b> 0.0<br><b>AM:</b> 2.11",
         "marker": {
          "color": "#4CAF50",
          "line": {
           "color": "black",
           "width": 1
          },
          "size": 12
         },
         "mode": "markers",
         "showlegend": false,
         "type": "scatter",
         "x": [
          0
         ],
         "y": [
          2.11
         ]
        },
        {
         "hoverinfo": "text",
         "hovertext": "<b>Estação:</b> RECIFE - APAC<br><b>Data:</b> 2025-05-19<br><b>Hora:</b> 02:00:00<br><b>Risco:</b> Baixo (0.41)<br><b>VP:</b> 0.2<br><b>AM:</b> 2.05",
         "marker": {
          "color": "#4CAF50",
          "line": {
           "color": "black",
           "width": 1
          },
          "size": 12
         },
         "mode": "markers",
         "showlegend": false,
         "type": "scatter",
         "x": [
          0.2
         ],
         "y": [
          2.05
         ]
        },
        {
         "hoverinfo": "text",
         "hovertext": "<b>Estação:</b> RECIFE - APAC<br><b>Data:</b> 2025-05-19<br><b>Hora:</b> 08:00:00<br><b>Risco:</b> Baixo (0.0)<br><b>VP:</b> 0.0<br><b>AM:</b> 2.05",
         "marker": {
          "color": "#4CAF50",
          "line": {
           "color": "black",
           "width": 1
          },
          "size": 12
         },
         "mode": "markers",
         "showlegend": false,
         "type": "scatter",
         "x": [
          0
         ],
         "y": [
          2.05
         ]
        },
        {
         "hoverinfo": "text",
         "hovertext": "<b>Estação:</b> RECIFE - APAC<br><b>Data:</b> 2025-05-19<br><b>Hora:</b> 14:00:00<br><b>Risco:</b> Baixo (0.0)<br><b>VP:</b> 0.0<br><b>AM:</b> 2.05",
         "marker": {
          "color": "#4CAF50",
          "line": {
           "color": "black",
           "width": 1
          },
          "size": 12
         },
         "mode": "markers",
         "showlegend": false,
         "type": "scatter",
         "x": [
          0
         ],
         "y": [
          2.05
         ]
        },
        {
         "hoverinfo": "text",
         "hovertext": "<b>Estação:</b> RECIFE - APAC<br><b>Data:</b> 2025-05-19<br><b>Hora:</b> 20:00:00<br><b>Risco:</b> Baixo (0.0)<br><b>VP:</b> 0.0<br><b>AM:</b> 2.05",
         "marker": {
          "color": "#4CAF50",
          "line": {
           "color": "black",
           "width": 1
          },
          "size": 12
         },
         "mode": "markers",
         "showlegend": false,
         "type": "scatter",
         "x": [
          0
         ],
         "y": [
          2.05
         ]
        },
        {
         "hoverinfo": "text",
         "hovertext": "<b>Estação:</b> RECIFE - APAC<br><b>Data:</b> 2025-05-20<br><b>Hora:</b> 02:00:00<br><b>Risco:</b> Baixo (0.41)<br><b>VP:</b> 0.2<br><b>AM:</b> 2.06",
         "marker": {
          "color": "#4CAF50",
          "line": {
           "color": "black",
           "width": 1
          },
          "size": 12
         },
         "mode": "markers",
         "showlegend": false,
         "type": "scatter",
         "x": [
          0.2
         ],
         "y": [
          2.06
         ]
        },
        {
         "hoverinfo": "text",
         "hovertext": "<b>Estação:</b> RECIFE - APAC<br><b>Data:</b> 2025-05-20<br><b>Hora:</b> 08:00:00<br><b>Risco:</b> Baixo (6.88)<br><b>VP:</b> 3.34<br><b>AM:</b> 2.06",
         "marker": {
          "color": "#4CAF50",
          "line": {
           "color": "black",
           "width": 1
          },
          "size": 12
         },
         "mode": "markers",
         "showlegend": false,
         "type": "scatter",
         "x": [
          3.34
         ],
         "y": [
          2.06
         ]
        },
        {
         "hoverinfo": "text",
         "hovertext": "<b>Estação:</b> RECIFE - APAC<br><b>Data:</b> 2025-05-20<br><b>Hora:</b> 14:00:00<br><b>Risco:</b> Baixo (0.0)<br><b>VP:</b> 0.0<br><b>AM:</b> 2.06",
         "marker": {
          "color": "#4CAF50",
          "line": {
           "color": "black",
           "width": 1
          },
          "size": 12
         },
         "mode": "markers",
         "showlegend": false,
         "type": "scatter",
         "x": [
          0
         ],
         "y": [
          2.06
         ]
        },
        {
         "hoverinfo": "text",
         "hovertext": "<b>Estação:</b> RECIFE - APAC<br><b>Data:</b> 2025-05-20<br><b>Hora:</b> 20:00:00<br><b>Risco:</b> Baixo (0.0)<br><b>VP:</b> 0.0<br><b>AM:</b> 2.06",
         "marker": {
          "color": "#4CAF50",
          "line": {
           "color": "black",
           "width": 1
          },
          "size": 12
         },
         "mode": "markers",
         "showlegend": false,
         "type": "scatter",
         "x": [
          0
         ],
         "y": [
          2.06
         ]
        },
        {
         "hoverinfo": "text",
         "hovertext": "<b>Estação:</b> RECIFE - APAC<br><b>Data:</b> 2025-05-21<br><b>Hora:</b> 02:00:00<br><b>Risco:</b> Baixo (3.86)<br><b>VP:</b> 1.78<br><b>AM:</b> 2.17",
         "marker": {
          "color": "#4CAF50",
          "line": {
           "color": "black",
           "width": 1
          },
          "size": 12
         },
         "mode": "markers",
         "showlegend": false,
         "type": "scatter",
         "x": [
          1.78
         ],
         "y": [
          2.17
         ]
        },
        {
         "hoverinfo": "text",
         "hovertext": "<b>Estação:</b> RECIFE - APAC<br><b>Data:</b> 2025-05-21<br><b>Hora:</b> 08:00:00<br><b>Risco:</b> Moderado Alto (56.38)<br><b>VP:</b> 25.98<br><b>AM:</b> 2.17",
         "marker": {
          "color": "#FFA500",
          "line": {
           "color": "black",
           "width": 1
          },
          "size": 12
         },
         "mode": "markers",
         "showlegend": false,
         "type": "scatter",
         "x": [
          25.98
         ],
         "y": [
          2.17
         ]
        },
        {
         "hoverinfo": "text",
         "hovertext": "<b>Estação:</b> RECIFE - APAC<br><b>Data:</b> 2025-05-21<br><b>Hora:</b> 14:00:00<br><b>Risco:</b> Baixo (0.0)<br><b>VP:</b> 0.0<br><b>AM:</b> 2.17",
         "marker": {
          "color": "#4CAF50",
          "line": {
           "color": "black",
           "width": 1
          },
          "size": 12
         },
         "mode": "markers",
         "showlegend": false,
         "type": "scatter",
         "x": [
          0
         ],
         "y": [
          2.17
         ]
        },
        {
         "hoverinfo": "text",
         "hovertext": "<b>Estação:</b> RECIFE - APAC<br><b>Data:</b> 2025-05-21<br><b>Hora:</b> 20:00:00<br><b>Risco:</b> Baixo (1.3)<br><b>VP:</b> 0.6<br><b>AM:</b> 2.17",
         "marker": {
          "color": "#4CAF50",
          "line": {
           "color": "black",
           "width": 1
          },
          "size": 12
         },
         "mode": "markers",
         "showlegend": false,
         "type": "scatter",
         "x": [
          0.6
         ],
         "y": [
          2.17
         ]
        },
        {
         "marker": {
          "color": "#4CAF50",
          "size": 10,
          "symbol": "square"
         },
         "mode": "markers",
         "name": "Baixo: RA < 30",
         "type": "scatter",
         "x": [
          null
         ],
         "y": [
          null
         ]
        },
        {
         "marker": {
          "color": "#FFC107",
          "size": 10,
          "symbol": "square"
         },
         "mode": "markers",
         "name": "Moderado: 30 ≤ RA < 50",
         "type": "scatter",
         "x": [
          null
         ],
         "y": [
          null
         ]
        },
        {
         "marker": {
          "color": "#FFA500",
          "size": 10,
          "symbol": "square"
         },
         "mode": "markers",
         "name": "Moderado Alto: 50 ≤ RA < 100",
         "type": "scatter",
         "x": [
          null
         ],
         "y": [
          null
         ]
        },
        {
         "marker": {
          "color": "#D32F2F",
          "size": 10,
          "symbol": "square"
         },
         "mode": "markers",
         "name": "Alto: RA ≥ 100",
         "type": "scatter",
         "x": [
          null
         ],
         "y": [
          null
         ]
        }
       ],
       "layout": {
        "legend": {
         "title": {
          "text": "<b>Níveis de Risco</b>"
         }
        },
        "showlegend": true,
        "template": {
         "data": {
          "bar": [
           {
            "error_x": {
             "color": "#2a3f5f"
            },
            "error_y": {
             "color": "#2a3f5f"
            },
            "marker": {
             "line": {
              "color": "#E5ECF6",
              "width": 0.5
             },
             "pattern": {
              "fillmode": "overlay",
              "size": 10,
              "solidity": 0.2
             }
            },
            "type": "bar"
           }
          ],
          "barpolar": [
           {
            "marker": {
             "line": {
              "color": "#E5ECF6",
              "width": 0.5
             },
             "pattern": {
              "fillmode": "overlay",
              "size": 10,
              "solidity": 0.2
             }
            },
            "type": "barpolar"
           }
          ],
          "carpet": [
           {
            "aaxis": {
             "endlinecolor": "#2a3f5f",
             "gridcolor": "white",
             "linecolor": "white",
             "minorgridcolor": "white",
             "startlinecolor": "#2a3f5f"
            },
            "baxis": {
             "endlinecolor": "#2a3f5f",
             "gridcolor": "white",
             "linecolor": "white",
             "minorgridcolor": "white",
             "startlinecolor": "#2a3f5f"
            },
            "type": "carpet"
           }
          ],
          "choropleth": [
           {
            "colorbar": {
             "outlinewidth": 0,
             "ticks": ""
            },
            "type": "choropleth"
           }
          ],
          "contour": [
           {
            "colorbar": {
             "outlinewidth": 0,
             "ticks": ""
            },
            "colorscale": [
             [
              0,
              "#0d0887"
             ],
             [
              0.1111111111111111,
              "#46039f"
             ],
             [
              0.2222222222222222,
              "#7201a8"
             ],
             [
              0.3333333333333333,
              "#9c179e"
             ],
             [
              0.4444444444444444,
              "#bd3786"
             ],
             [
              0.5555555555555556,
              "#d8576b"
             ],
             [
              0.6666666666666666,
              "#ed7953"
             ],
             [
              0.7777777777777778,
              "#fb9f3a"
             ],
             [
              0.8888888888888888,
              "#fdca26"
             ],
             [
              1,
              "#f0f921"
             ]
            ],
            "type": "contour"
           }
          ],
          "contourcarpet": [
           {
            "colorbar": {
             "outlinewidth": 0,
             "ticks": ""
            },
            "type": "contourcarpet"
           }
          ],
          "heatmap": [
           {
            "colorbar": {
             "outlinewidth": 0,
             "ticks": ""
            },
            "colorscale": [
             [
              0,
              "#0d0887"
             ],
             [
              0.1111111111111111,
              "#46039f"
             ],
             [
              0.2222222222222222,
              "#7201a8"
             ],
             [
              0.3333333333333333,
              "#9c179e"
             ],
             [
              0.4444444444444444,
              "#bd3786"
             ],
             [
              0.5555555555555556,
              "#d8576b"
             ],
             [
              0.6666666666666666,
              "#ed7953"
             ],
             [
              0.7777777777777778,
              "#fb9f3a"
             ],
             [
              0.8888888888888888,
              "#fdca26"
             ],
             [
              1,
              "#f0f921"
             ]
            ],
            "type": "heatmap"
           }
          ],
          "histogram": [
           {
            "marker": {
             "pattern": {
              "fillmode": "overlay",
              "size": 10,
              "solidity": 0.2
             }
            },
            "type": "histogram"
           }
          ],
          "histogram2d": [
           {
            "colorbar": {
             "outlinewidth": 0,
             "ticks": ""
            },
            "colorscale": [
             [
              0,
              "#0d0887"
             ],
             [
              0.1111111111111111,
              "#46039f"
             ],
             [
              0.2222222222222222,
              "#7201a8"
             ],
             [
              0.3333333333333333,
              "#9c179e"
             ],
             [
              0.4444444444444444,
              "#bd3786"
             ],
             [
              0.5555555555555556,
              "#d8576b"
             ],
             [
              0.6666666666666666,
              "#ed7953"
             ],
             [
              0.7777777777777778,
              "#fb9f3a"
             ],
             [
              0.8888888888888888,
              "#fdca26"
             ],
             [
              1,
              "#f0f921"
             ]
            ],
            "type": "histogram2d"
           }
          ],
          "histogram2dcontour": [
           {
            "colorbar": {
             "outlinewidth": 0,
             "ticks": ""
            },
            "colorscale": [
             [
              0,
              "#0d0887"
             ],
             [
              0.1111111111111111,
              "#46039f"
             ],
             [
              0.2222222222222222,
              "#7201a8"
             ],
             [
              0.3333333333333333,
              "#9c179e"
             ],
             [
              0.4444444444444444,
              "#bd3786"
             ],
             [
              0.5555555555555556,
              "#d8576b"
             ],
             [
              0.6666666666666666,
              "#ed7953"
             ],
             [
              0.7777777777777778,
              "#fb9f3a"
             ],
             [
              0.8888888888888888,
              "#fdca26"
             ],
             [
              1,
              "#f0f921"
             ]
            ],
            "type": "histogram2dcontour"
           }
          ],
          "mesh3d": [
           {
            "colorbar": {
             "outlinewidth": 0,
             "ticks": ""
            },
            "type": "mesh3d"
           }
          ],
          "parcoords": [
           {
            "line": {
             "colorbar": {
              "outlinewidth": 0,
              "ticks": ""
             }
            },
            "type": "parcoords"
           }
          ],
          "pie": [
           {
            "automargin": true,
            "type": "pie"
           }
          ],
          "scatter": [
           {
            "fillpattern": {
             "fillmode": "overlay",
             "size": 10,
             "solidity": 0.2
            },
            "type": "scatter"
           }
          ],
          "scatter3d": [
           {
            "line": {
             "colorbar": {
              "outlinewidth": 0,
              "ticks": ""
             }
            },
            "marker": {
             "colorbar": {
              "outlinewidth": 0,
              "ticks": ""
             }
            },
            "type": "scatter3d"
           }
          ],
          "scattercarpet": [
           {
            "marker": {
             "colorbar": {
              "outlinewidth": 0,
              "ticks": ""
             }
            },
            "type": "scattercarpet"
           }
          ],
          "scattergeo": [
           {
            "marker": {
             "colorbar": {
              "outlinewidth": 0,
              "ticks": ""
             }
            },
            "type": "scattergeo"
           }
          ],
          "scattergl": [
           {
            "marker": {
             "colorbar": {
              "outlinewidth": 0,
              "ticks": ""
             }
            },
            "type": "scattergl"
           }
          ],
          "scattermap": [
           {
            "marker": {
             "colorbar": {
              "outlinewidth": 0,
              "ticks": ""
             }
            },
            "type": "scattermap"
           }
          ],
          "scattermapbox": [
           {
            "marker": {
             "colorbar": {
              "outlinewidth": 0,
              "ticks": ""
             }
            },
            "type": "scattermapbox"
           }
          ],
          "scatterpolar": [
           {
            "marker": {
             "colorbar": {
              "outlinewidth": 0,
              "ticks": ""
             }
            },
            "type": "scatterpolar"
           }
          ],
          "scatterpolargl": [
           {
            "marker": {
             "colorbar": {
              "outlinewidth": 0,
              "ticks": ""
             }
            },
            "type": "scatterpolargl"
           }
          ],
          "scatterternary": [
           {
            "marker": {
             "colorbar": {
              "outlinewidth": 0,
              "ticks": ""
             }
            },
            "type": "scatterternary"
           }
          ],
          "surface": [
           {
            "colorbar": {
             "outlinewidth": 0,
             "ticks": ""
            },
            "colorscale": [
             [
              0,
              "#0d0887"
             ],
             [
              0.1111111111111111,
              "#46039f"
             ],
             [
              0.2222222222222222,
              "#7201a8"
             ],
             [
              0.3333333333333333,
              "#9c179e"
             ],
             [
              0.4444444444444444,
              "#bd3786"
             ],
             [
              0.5555555555555556,
              "#d8576b"
             ],
             [
              0.6666666666666666,
              "#ed7953"
             ],
             [
              0.7777777777777778,
              "#fb9f3a"
             ],
             [
              0.8888888888888888,
              "#fdca26"
             ],
             [
              1,
              "#f0f921"
             ]
            ],
            "type": "surface"
           }
          ],
          "table": [
           {
            "cells": {
             "fill": {
              "color": "#EBF0F8"
             },
             "line": {
              "color": "white"
             }
            },
            "header": {
             "fill": {
              "color": "#C8D4E3"
             },
             "line": {
              "color": "white"
             }
            },
            "type": "table"
           }
          ]
         },
         "layout": {
          "annotationdefaults": {
           "arrowcolor": "#2a3f5f",
           "arrowhead": 0,
           "arrowwidth": 1
          },
          "autotypenumbers": "strict",
          "coloraxis": {
           "colorbar": {
            "outlinewidth": 0,
            "ticks": ""
           }
          },
          "colorscale": {
           "diverging": [
            [
             0,
             "#8e0152"
            ],
            [
             0.1,
             "#c51b7d"
            ],
            [
             0.2,
             "#de77ae"
            ],
            [
             0.3,
             "#f1b6da"
            ],
            [
             0.4,
             "#fde0ef"
            ],
            [
             0.5,
             "#f7f7f7"
            ],
            [
             0.6,
             "#e6f5d0"
            ],
            [
             0.7,
             "#b8e186"
            ],
            [
             0.8,
             "#7fbc41"
            ],
            [
             0.9,
             "#4d9221"
            ],
            [
             1,
             "#276419"
            ]
           ],
           "sequential": [
            [
             0,
             "#0d0887"
            ],
            [
             0.1111111111111111,
             "#46039f"
            ],
            [
             0.2222222222222222,
             "#7201a8"
            ],
            [
             0.3333333333333333,
             "#9c179e"
            ],
            [
             0.4444444444444444,
             "#bd3786"
            ],
            [
             0.5555555555555556,
             "#d8576b"
            ],
            [
             0.6666666666666666,
             "#ed7953"
            ],
            [
             0.7777777777777778,
             "#fb9f3a"
            ],
            [
             0.8888888888888888,
             "#fdca26"
            ],
            [
             1,
             "#f0f921"
            ]
           ],
           "sequentialminus": [
            [
             0,
             "#0d0887"
            ],
            [
             0.1111111111111111,
             "#46039f"
            ],
            [
             0.2222222222222222,
             "#7201a8"
            ],
            [
             0.3333333333333333,
             "#9c179e"
            ],
            [
             0.4444444444444444,
             "#bd3786"
            ],
            [
             0.5555555555555556,
             "#d8576b"
            ],
            [
             0.6666666666666666,
             "#ed7953"
            ],
            [
             0.7777777777777778,
             "#fb9f3a"
            ],
            [
             0.8888888888888888,
             "#fdca26"
            ],
            [
             1,
             "#f0f921"
            ]
           ]
          },
          "colorway": [
           "#636efa",
           "#EF553B",
           "#00cc96",
           "#ab63fa",
           "#FFA15A",
           "#19d3f3",
           "#FF6692",
           "#B6E880",
           "#FF97FF",
           "#FECB52"
          ],
          "font": {
           "color": "#2a3f5f"
          },
          "geo": {
           "bgcolor": "white",
           "lakecolor": "white",
           "landcolor": "#E5ECF6",
           "showlakes": true,
           "showland": true,
           "subunitcolor": "white"
          },
          "hoverlabel": {
           "align": "left"
          },
          "hovermode": "closest",
          "mapbox": {
           "style": "light"
          },
          "paper_bgcolor": "white",
          "plot_bgcolor": "#E5ECF6",
          "polar": {
           "angularaxis": {
            "gridcolor": "white",
            "linecolor": "white",
            "ticks": ""
           },
           "bgcolor": "#E5ECF6",
           "radialaxis": {
            "gridcolor": "white",
            "linecolor": "white",
            "ticks": ""
           }
          },
          "scene": {
           "xaxis": {
            "backgroundcolor": "#E5ECF6",
            "gridcolor": "white",
            "gridwidth": 2,
            "linecolor": "white",
            "showbackground": true,
            "ticks": "",
            "zerolinecolor": "white"
           },
           "yaxis": {
            "backgroundcolor": "#E5ECF6",
            "gridcolor": "white",
            "gridwidth": 2,
            "linecolor": "white",
            "showbackground": true,
            "ticks": "",
            "zerolinecolor": "white"
           },
           "zaxis": {
            "backgroundcolor": "#E5ECF6",
            "gridcolor": "white",
            "gridwidth": 2,
            "linecolor": "white",
            "showbackground": true,
            "ticks": "",
            "zerolinecolor": "white"
           }
          },
          "shapedefaults": {
           "line": {
            "color": "#2a3f5f"
           }
          },
          "ternary": {
           "aaxis": {
            "gridcolor": "white",
            "linecolor": "white",
            "ticks": ""
           },
           "baxis": {
            "gridcolor": "white",
            "linecolor": "white",
            "ticks": ""
           },
           "bgcolor": "#E5ECF6",
           "caxis": {
            "gridcolor": "white",
            "linecolor": "white",
            "ticks": ""
           }
          },
          "title": {
           "x": 0.05
          },
          "xaxis": {
           "automargin": true,
           "gridcolor": "white",
           "linecolor": "white",
           "ticks": "",
           "title": {
            "standoff": 15
           },
           "zerolinecolor": "white",
           "zerolinewidth": 2
          },
          "yaxis": {
           "automargin": true,
           "gridcolor": "white",
           "linecolor": "white",
           "ticks": "",
           "title": {
            "standoff": 15
           },
           "zerolinecolor": "white",
           "zerolinewidth": 2
          }
         }
        },
        "title": {
         "text": "<b>Diagrama de Risco Interativo para a Estação: RECIFE - APAC</b>"
        },
        "xaxis": {
         "range": [
          0,
          110
         ],
         "title": {
          "text": "Precipitação (milímetros)"
         }
        },
        "yaxis": {
         "range": [
          0,
          5
         ],
         "title": {
          "text": "Altura da Maré metros)"
         }
        }
       }
      }
     },
     "metadata": {},
     "output_type": "display_data"
    },
    {
     "name": "stdout",
     "output_type": "stream",
     "text": [
      "  -> Diagrama interativo para 'RECIFE - APAC' salvo em: diagramas_interativos\\diagrama_interativo_RECIFE__APAC.html\n"
     ]
    },
    {
     "data": {
      "application/vnd.plotly.v1+json": {
       "config": {
        "plotlyServerURL": "https://plot.ly"
       },
       "data": [
        {
         "colorscale": [
          [
           0,
           "#90EE90"
          ],
          [
           0.3,
           "#FFD700"
          ],
          [
           0.5,
           "#FFA500"
          ],
          [
           1,
           "#D32F2F"
          ]
         ],
         "showscale": false,
         "type": "heatmap",
         "x": {
          "bdata": "AAECAwQFBgcICQoLDA0ODxAREhMUFRYXGBkaGxwdHh8gISIjJCUmJygpKissLS4vMDEyMzQ1Njc4OTo7PD0+P0BBQkNERUZHSElKS0xNTk9QUVJTVFVWV1hZWltcXV5fYGFiY2RlZmdoaWprbG0=",
          "dtype": "i1"
         },
         "y": {
          "bdata": "AAAAAAAAAAAxb2dIzNupPzFvZ0jM27k/ZZNNNtlkwz8xb2dIzNvJP3+lQK1fKdA/ZZNNNtlk0z9LgVq/UqDWPzFvZ0jM29k/F1100UUX3T9/pUCtXyngP3Icx3Ecx+E/ZZNNNtlk4z9YCtT6lQLlP0uBWr9SoOY/Pvjggw8+6D8xb2dIzNvpPyTm7QyJees/F1100UUX7T8K1PqVArXuP3+lQK1fKfA/+OCDDz748D9yHMdxHMfxP+tXCtT6lfI/ZZNNNtlk8z/ezpCYtzP0P1gK1PqVAvU/0UUXXXTR9T9LgVq/UqD2P8S8nSExb/c/Pvjggw8++D+3MyTm7Qz5PzFvZ0jM2/k/q6qqqqqq+j8k5u0MiXn7P54hMW9nSPw/F1100UUX/T+RmLczJOb9PwrU+pUCtf4/hA8++OCD/z9/pUCtXykAQDtDYt7OkABA+OCDDz74AEC1fqVArV8BQHIcx3EcxwFALrrooosuAkDrVwrU+pUCQKj1KwVq/QJAZZNNNtlkA0AiMW9nSMwDQN7OkJi3MwRAm2yyySabBEBYCtT6lQIFQBWo9SsFagVA0UUXXXTRBUCO4ziO4zgGQEuBWr9SoAZACB988MEHB0DEvJ0hMW8HQIFav1Kg1gdAPvjggw8+CED7lQK1fqUIQLczJObtDAlAdNFFF110CUAxb2dIzNsJQO4MiXk7QwpAq6qqqqqqCkBnSMzbGRILQCTm7QyJeQtA4YMPPvjgC0CeITFvZ0gMQFq/UqDWrwxAF1100UUXDUDU+pUCtX4NQJGYtzMk5g1ATTbZZJNNDkAK1PqVArUOQMdxHMdxHA9AhA8++OCDD0BArV8pUOsPQH+lQK1fKRBAXXTRRRddEEA7Q2LezpAQQBoS83aGxBBA+OCDDz74EEDXrxSo9SsRQLV+pUCtXxFAk0022WSTEUByHMdxHMcRQFDrVwrU+hFALrrooosuEkANiXk7Q2ISQOtXCtT6lRJAyiabbLLJEkCo9SsFav0SQIbEvJ0hMRNAZZNNNtlkE0BDYt7OkJgTQCIxb2dIzBNAAAAAAAAAFEA=",
          "dtype": "f8"
         },
         "z": {
          "bdata": "AAAAAAAAAAAAAAAAAAAAAAAAAAAAAAAAAAAAAAAAAAAAAAAAAAAAAAAAAAAAAAAAAAAAAAAAAAAAAAAAAAAAAAAAAAAAAAAAAAAAAAAAAAAAAAAAAAAAAAAAAAAAAAAAAAAAAAAAAAAAAAAAAAAAAAAAAAAAAAAAAAAAAAAAAAAAAAAAAAAAAAAAAAAAAAAAAAAAAAAAAAAAAAAAAAAAAAAAAAAAAAAAAAAAAAAAAAAAAAAAAAAAAAAAAAAAAAAAAAAAAAAAAAAAAAAAAAAAAAAAAAAAAAAAAAAAAAAAAAAAAAAAAAAAAAAAAAAAAAAAAAAAAAAAAAAAAAAAAAAAAAAAAAAAAAAAAAAAAAAAAAAAAAAAAAAAAAAAAAAAAAAAAAAAAAAAAAAAAAAAAAAAAAAAAAAAAAAAAAAAAAAAAAAAAAAAAAAAAAAAAAAAAAAAAAAAAAAAAAAAAAAAAAAAAAAAAAAAAAAAAAAAAAAAAAAAAAAAAAAAAAAAAAAAAAAAAAAAAAAAAAAAAAAAAAAAAAAAAAAAAAAAAAAAAAAAAAAAAAAAAAAAAAAAAAAAAAAAAAAAAAAAAAAAAAAAAAAAAAAAAAAAAAAAAAAAAAAAAAAAAAAAAAAAAAAAAAAAAAAAAAAAAAAAAAAAAAAAAAAAAAAAAAAAAAAAAAAAAAAAAAAAAAAAAAAAAAAAAAAAAAAAAAAAAAAAAAAAAAAAAAAAAAAAAAAAAAAAAAAAAAAAAAAAAAAAAAAAAAAAAAAAAAAAAAAAAAAAAAAAAAAAAAAAAAAAAAAAAAAAAAAAAAAAAAAAAAAAAAAAAAAAAAAAAAAAAAAAAAAAAAAAAAAAAAAAAAAAAAAAAAAAAAAAAAAAAAAAAAAAAAAAAAAAAAAAAAAAAAAAAAAAAAAAAAAAAAAAAAAAAAAAAAAAAAAAAAAAAAAAAAAAAAAAAAAAAAAAAAAAAAAAAAAAAAAAAAAAAAAAAAAAAAAAAAAAAAAAAAAAAAAAAAAAAAAAAAAAAAAAAAAAAAAAAAAAAAAAAAAAAAAAAAAAAAAAAAAAAAAAAAAAAAAAAAAAAAAAAAAAAAAAAAAAAAAAAAAAAAAAAAAAAAAAAAAAAAAAAAAAAAAAAAAAAAAAAAAAAAAAAAAAAAAAAAAAAAAAAAAAAAAAAAAAAAAAAAAAAAAAAAAAMW9nSMzbqT8xb2dIzNu5P2WTTTbZZMM/MW9nSMzbyT9/pUCtXynQP2WTTTbZZNM/S4Fav1Kg1j8xb2dIzNvZPxdddNFFF90/f6VArV8p4D9yHMdxHMfhP2WTTTbZZOM/WArU+pUC5T9LgVq/UqDmPz744IMPPug/MW9nSMzb6T8k5u0MiXnrPxdddNFFF+0/CtT6lQK17j9/pUCtXynwP/jggw8++PA/chzHcRzH8T/rVwrU+pXyP2WTTTbZZPM/3s6QmLcz9D9YCtT6lQL1P9FFF1100fU/S4Fav1Kg9j/EvJ0hMW/3Pz744IMPPvg/tzMk5u0M+T8xb2dIzNv5P6uqqqqqqvo/JObtDIl5+z+eITFvZ0j8PxdddNFFF/0/kZi3MyTm/T8K1PqVArX+P4QPPvjgg/8/f6VArV8pAEA7Q2LezpAAQPjggw8++ABAtX6lQK1fAUByHMdxHMcBQC666KKLLgJA61cK1PqVAkCo9SsFav0CQGWTTTbZZANAIjFvZ0jMA0DezpCYtzMEQJtssskmmwRAWArU+pUCBUAVqPUrBWoFQNFFF1100QVAjuM4juM4BkBLgVq/UqAGQAgffPDBBwdAxLydITFvB0CBWr9SoNYHQD744IMPPghA+5UCtX6lCEC3MyTm7QwJQHTRRRdddAlAMW9nSMzbCUDuDIl5O0MKQKuqqqqqqgpAZ0jM2xkSC0Ak5u0MiXkLQOGDDz744AtAniExb2dIDEBav1Kg1q8MQBdddNFFFw1A1PqVArV+DUCRmLczJOYNQE022WSTTQ5ACtT6lQK1DkDHcRzHcRwPQIQPPvjggw9AQK1fKVDrD0B/pUCtXykQQF100UUXXRBAO0Ni3s6QEEAaEvN2hsQQQPjggw8++BBA168UqPUrEUC1fqVArV8RQJNNNtlkkxFAchzHcRzHEUBQ61cK1PoRQC666KKLLhJADYl5O0NiEkDrVwrU+pUSQMomm2yyyRJAqPUrBWr9EkCGxLydITETQGWTTTbZZBNAQ2LezpCYE0AiMW9nSMwTQAAAAAAAABRA3s6QmLczFEC9nSExb2cUQJtssskmmxRAeTtDYt7OFEBYCtT6lQIVQDbZZJNNNhVAFaj1KwVqFUDzdobEvJ0VQNFFF1100RVAsBSo9SsFFkAAAAAAAAAAADFvZ0jM27k/MW9nSMzbyT9lk0022WTTPzFvZ0jM29k/f6VArV8p4D9lk0022WTjP0uBWr9SoOY/MW9nSMzb6T8XXXTRRRftP3+lQK1fKfA/chzHcRzH8T9lk0022WTzP1gK1PqVAvU/S4Fav1Kg9j8++OCDDz74PzFvZ0jM2/k/JObtDIl5+z8XXXTRRRf9PwrU+pUCtf4/f6VArV8pAED44IMPPvgAQHIcx3EcxwFA61cK1PqVAkBlk0022WQDQN7OkJi3MwRAWArU+pUCBUDRRRdddNEFQEuBWr9SoAZAxLydITFvB0A++OCDDz4IQLczJObtDAlAMW9nSMzbCUCrqqqqqqoKQCTm7QyJeQtAniExb2dIDEAXXXTRRRcNQJGYtzMk5g1ACtT6lQK1DkCEDz744IMPQH+lQK1fKRBAO0Ni3s6QEED44IMPPvgQQLV+pUCtXxFAchzHcRzHEUAuuuiiiy4SQOtXCtT6lRJAqPUrBWr9EkBlk0022WQTQCIxb2dIzBNA3s6QmLczFECbbLLJJpsUQFgK1PqVAhVAFaj1KwVqFUDRRRdddNEVQI7jOI7jOBZAS4Fav1KgFkAIH3zwwQcXQMS8nSExbxdAgVq/UqDWF0A++OCDDz4YQPuVArV+pRhAtzMk5u0MGUB00UUXXXQZQDFvZ0jM2xlA7gyJeTtDGkCrqqqqqqoaQGdIzNsZEhtAJObtDIl5G0Dhgw8++OAbQJ4hMW9nSBxAWr9SoNavHEAXXXTRRRcdQNT6lQK1fh1AkZi3MyTmHUBNNtlkk00eQArU+pUCtR5Ax3Ecx3EcH0CEDz744IMfQECtXylQ6x9Af6VArV8pIEBddNFFF10gQDtDYt7OkCBAGhLzdobEIED44IMPPvggQNevFKj1KyFAtX6lQK1fIUCTTTbZZJMhQHIcx3EcxyFAUOtXCtT6IUAuuuiiiy4iQA2JeTtDYiJA61cK1PqVIkDKJptssskiQKj1KwVq/SJAhsS8nSExI0Blk0022WQjQENi3s6QmCNAIjFvZ0jMI0AAAAAAAAAkQN7OkJi3MyRAvZ0hMW9nJECbbLLJJpskQHk7Q2LeziRAWArU+pUCJUA22WSTTTYlQBWo9SsFaiVA83aGxLydJUDRRRdddNElQLAUqPUrBSZAAAAAAAAAAABlk0022WTDP2WTTTbZZNM/GF100UUX3T9lk0022WTjPz744IMPPug/GF100UUX7T/44IMPPvjwP2WTTTbZZPM/0kUXXXTR9T8++OCDDz74P6uqqqqqqvo/GF100UUX/T+EDz744IP/P/jggw8++ABAL7rooosuAkBlk0022WQDQJtssskmmwRA0kUXXXTRBUAIH3zwwQcHQD744IMPPghAddFFF110CUCrqqqqqqoKQOGDDz744AtAGF100UUXDUBONtlkk00OQIQPPvjggw9AXXTRRRddEED44IMPPvgQQJRNNtlkkxFAL7rooosuEkDKJptssskSQGWTTTbZZBNAAAAAAAAAFECbbLLJJpsUQDbZZJNNNhVA0kUXXXTRFUBtsskmm2wWQAgffPDBBxdAo4suuuiiF0A++OCDDz4YQNlkk0022RhAddFFF110GUAQPvjggw8aQKuqqqqqqhpARhdddNFFG0Dhgw8++OAbQHzwwQcffBxAGF100UUXHUCzySabbLIdQE422WSTTR5A6aKLLrroHkCEDz744IMfQBA++OCDDyBAXXTRRRddIECrqqqqqqogQPjggw8++CBARhdddNFFIUCUTTbZZJMhQOGDDz744CFAL7rooosuIkB88MEHH3wiQMomm2yyySJAF1100UUXI0Blk0022WQjQLPJJptssiNAAAAAAAAAJEBONtlkk00kQJtssskmmyRA6aKLLrroJEA22WSTTTYlQIQPPvjggyVA0kUXXXTRJUAffPDBBx8mQG2yySabbCZAuuiiiy66JkAIH3zwwQcnQFZVVVVVVSdAo4suuuiiJ0DxwQcffPAnQD744IMPPihAjC666KKLKEDZZJNNNtkoQCebbLLJJilAddFFF110KUDCBx988MEpQBA++OCDDypAXXTRRRddKkCrqqqqqqoqQPjggw8++CpARhdddNFFK0CUTTbZZJMrQOGDDz744CtAL7rooosuLEB88MEHH3wsQMomm2yyySxAGF100UUXLUBlk0022WQtQLPJJptssi1AAAAAAAAALkBONtlkk00uQJtssskmmy5A6aKLLrroLkA32WSTTTYvQIQPPvjggy9A0kUXXXTRL0AQPvjggw8wQDbZZJNNNjBAXXTRRRddMECEDz744IMwQAAAAAAAAAAAMW9nSMzbyT8xb2dIzNvZP2WTTTbZZOM/MW9nSMzb6T9/pUCtXynwP2WTTTbZZPM/S4Fav1Kg9j8xb2dIzNv5PxdddNFFF/0/f6VArV8pAEByHMdxHMcBQGWTTTbZZANAWArU+pUCBUBLgVq/UqAGQD744IMPPghAMW9nSMzbCUAk5u0MiXkLQBdddNFFFw1ACtT6lQK1DkB/pUCtXykQQPjggw8++BBAchzHcRzHEUDrVwrU+pUSQGWTTTbZZBNA3s6QmLczFEBYCtT6lQIVQNFFF1100RVAS4Fav1KgFkDEvJ0hMW8XQD744IMPPhhAtzMk5u0MGUAxb2dIzNsZQKuqqqqqqhpAJObtDIl5G0CeITFvZ0gcQBdddNFFFx1AkZi3MyTmHUAK1PqVArUeQIQPPvjggx9Af6VArV8pIEA7Q2LezpAgQPjggw8++CBAtX6lQK1fIUByHMdxHMchQC666KKLLiJA61cK1PqVIkCo9SsFav0iQGWTTTbZZCNAIjFvZ0jMI0DezpCYtzMkQJtssskmmyRAWArU+pUCJUAVqPUrBWolQNFFF1100SVAjuM4juM4JkBLgVq/UqAmQAgffPDBBydAxLydITFvJ0CBWr9SoNYnQD744IMPPihA+5UCtX6lKEC3MyTm7QwpQHTRRRdddClAMW9nSMzbKUDuDIl5O0MqQKuqqqqqqipAZ0jM2xkSK0Ak5u0MiXkrQOGDDz744CtAniExb2dILEBav1Kg1q8sQBdddNFFFy1A1PqVArV+LUCRmLczJOYtQE022WSTTS5ACtT6lQK1LkDHcRzHcRwvQIQPPvjggy9AQK1fKVDrL0B/pUCtXykwQF100UUXXTBAO0Ni3s6QMEAaEvN2hsQwQPjggw8++DBA168UqPUrMUC1fqVArV8xQJNNNtlkkzFAchzHcRzHMUBQ61cK1PoxQC666KKLLjJADYl5O0NiMkDrVwrU+pUyQMomm2yyyTJAqPUrBWr9MkCGxLydITEzQGWTTTbZZDNAQ2LezpCYM0AiMW9nSMwzQAAAAAAAADRA3s6QmLczNEC9nSExb2c0QJtssskmmzRAeTtDYt7ONEBYCtT6lQI1QDbZZJNNNjVAFaj1KwVqNUDzdobEvJ01QNFFF1100TVAsBSo9SsFNkAAAAAAAAAAAH+lQK1fKdA/f6VArV8p4D8++OCDDz7oP3+lQK1fKfA/386QmLcz9D8++OCDDz74P54hMW9nSPw/f6VArV8pAEAvuuiiiy4CQN/OkJi3MwRAj+M4juM4BkA++OCDDz4IQO4MiXk7QwpAniExb2dIDEBONtlkk00OQH+lQK1fKRBA168UqPUrEUAvuuiiiy4SQIfEvJ0hMRNA386QmLczFEA32WSTTTYVQI/jOI7jOBZA5+0MiXk7F0A++OCDDz4YQJYCtX6lQBlA7gyJeTtDGkBGF1100UUbQJ4hMW9nSBxA9isFav1KHUBONtlkk00eQKZArV8pUB9Af6VArV8pIECrqqqqqqogQNevFKj1KyFAA7V+pUCtIUAvuuiiiy4iQFu/UqDWryJAh8S8nSExI0CzySabbLIjQN/OkJi3MyRAC9T6lQK1JEA32WSTTTYlQGPezpCYtyVAj+M4juM4JkC76KKLLromQOftDIl5OydAE/N2hsS8J0A++OCDDz4oQGr9SoFavyhAlgK1fqVAKUDCBx988MEpQO4MiXk7QypAGhLzdobEKkBGF1100UUrQHIcx3EcxytAniExb2dILEDKJptsssksQPYrBWr9Si1AIjFvZ0jMLUBONtlkk00uQHo7Q2Lezi5ApkCtXylQL0DSRRdddNEvQH+lQK1fKTBAFaj1KwVqMECrqqqqqqowQEGtXylQ6zBA168UqPUrMUBtsskmm2wxQAO1fqVArTFAmbczJObtMUAvuuiiiy4yQMW8nSExbzJAW79SoNavMkDxwQcffPAyQIfEvJ0hMTNAHcdxHMdxM0CzySabbLIzQEnM2xkS8zNA386QmLczNEB10UUXXXQ0QAvU+pUCtTRAodavFKj1NEA32WSTTTY1QM3bGRLzdjVAY97OkJi3NUD54IMPPvg1QI/jOI7jODZAJebtDIl5NkC76KKLLro2QFHrVwrU+jZA5+0MiXk7N0B98MEHH3w3QBPzdobEvDdAqfUrBWr9N0A++OCDDz44QNT6lQK1fjhAav1KgVq/OEAAAAAAAAA5QJYCtX6lQDlALAVq/UqBOUDCBx988ME5QFgK1PqVAjpA7gyJeTtDOkCEDz744IM6QBoS83aGxDpAsBSo9SsFO0BGF1100UU7QNwZEvN2hjtAAAAAAAAAAABlk0022WTTP2WTTTbZZOM/GF100UUX7T9lk0022WTzPz744IMPPvg/GF100UUX/T/44IMPPvgAQGWTTTbZZANA0kUXXXTRBUA++OCDDz4IQKuqqqqqqgpAGF100UUXDUCEDz744IMPQPjggw8++BBAL7rooosuEkBlk0022WQTQJtssskmmxRA0kUXXXTRFUAIH3zwwQcXQD744IMPPhhAddFFF110GUCrqqqqqqoaQOGDDz744BtAGF100UUXHUBONtlkk00eQIQPPvjggx9AXXTRRRddIED44IMPPvggQJRNNtlkkyFAL7rooosuIkDKJptssskiQGWTTTbZZCNAAAAAAAAAJECbbLLJJpskQDbZZJNNNiVA0kUXXXTRJUBtsskmm2wmQAgffPDBBydAo4suuuiiJ0A++OCDDz4oQNlkk0022ShAddFFF110KUAQPvjggw8qQKuqqqqqqipARhdddNFFK0Dhgw8++OArQHzwwQcffCxAGF100UUXLUCzySabbLItQE422WSTTS5A6aKLLrroLkCEDz744IMvQBA++OCDDzBAXXTRRRddMECrqqqqqqowQPjggw8++DBARhdddNFFMUCUTTbZZJMxQOGDDz744DFAL7rooosuMkB88MEHH3wyQMomm2yyyTJAF1100UUXM0Blk0022WQzQLPJJptssjNAAAAAAAAANEBONtlkk000QJtssskmmzRA6aKLLrroNEA22WSTTTY1QIQPPvjggzVA0kUXXXTRNUAffPDBBx82QG2yySabbDZAuuiiiy66NkAIH3zwwQc3QFZVVVVVVTdAo4suuuiiN0DxwQcffPA3QD744IMPPjhAjC666KKLOEDZZJNNNtk4QCebbLLJJjlAddFFF110OUDCBx988ME5QBA++OCDDzpAXXTRRRddOkCrqqqqqqo6QPjggw8++DpARhdddNFFO0CUTTbZZJM7QOGDDz744DtAL7rooosuPEB88MEHH3w8QMomm2yyyTxAGF100UUXPUBlk0022WQ9QLPJJptssj1AAAAAAAAAPkBONtlkk00+QJtssskmmz5A6aKLLrroPkA32WSTTTY/QIQPPvjggz9A0kUXXXTRP0AQPvjggw9AQDbZZJNNNkBAXXTRRRddQECEDz744INAQAAAAAAAAAAAS4Fav1Kg1j9LgVq/UqDmP/jggw8++PA/S4Fav1Kg9j+eITFvZ0j8P/jggw8++ABAIjFvZ0jMA0BLgVq/UqAGQHTRRRdddAlAniExb2dIDEDHcRzHcRwPQPjggw8++BBADYl5O0NiEkAiMW9nSMwTQDbZZJNNNhVAS4Fav1KgFkBgKVDrVwoYQHTRRRdddBlAiXk7Q2LeGkCeITFvZ0gcQLLJJptssh1Ax3Ecx3EcH0DuDIl5O0MgQPjggw8++CBAA7V+pUCtIUANiXk7Q2IiQBdddNFFFyNAIjFvZ0jMI0AsBWr9SoEkQDbZZJNNNiVAQa1fKVDrJUBLgVq/UqAmQFVVVVVVVSdAYClQ61cKKEBq/UqBWr8oQHTRRRdddClAf6VArV8pKkCJeTtDYt4qQJNNNtlkkytAniExb2dILECo9SsFav0sQLLJJptssi1AvZ0hMW9nLkDHcRzHcRwvQNFFF1100S9A7gyJeTtDMEDzdobEvJ0wQPjggw8++DBA/UqBWr9SMUADtX6lQK0xQAgffPDBBzJADYl5O0NiMkAS83aGxLwyQBdddNFFFzNAHMdxHMdxM0AiMW9nSMwzQCebbLLJJjRALAVq/UqBNEAxb2dIzNs0QDbZZJNNNjVAO0Ni3s6QNUBBrV8pUOs1QEYXXXTRRTZAS4Fav1KgNkBQ61cK1Po2QFVVVVVVVTdAW79SoNavN0BgKVDrVwo4QGWTTTbZZDhAav1KgVq/OEBvZ0jM2xk5QHTRRRdddDlAejtDYt7OOUB/pUCtXyk6QIQPPvjggzpAiXk7Q2LeOkCO4ziO4zg7QJNNNtlkkztAmbczJObtO0CeITFvZ0g8QKOLLrroojxAqPUrBWr9PECtXylQ61c9QLLJJptssj1AuDMk5u0MPkC9nSExb2c+QMIHH3zwwT5Ax3Ecx3EcP0DM2xkS83Y/QNFFF1100T9A61cK1PoVQEDuDIl5O0NAQPDBBx98cEBA83aGxLydQED2KwVq/cpAQPjggw8++EBA+5UCtX4lQUD9SoFav1JBQAAAAAAAgEFAA7V+pUCtQUAFav1KgdpBQAgffPDBB0JACtT6lQI1QkANiXk7Q2JCQBA++OCDj0JAEvN2hsS8QkAVqPUrBepCQBdddNFFF0NAGhLzdoZEQ0AAAAAAAAAAADFvZ0jM29k/MW9nSMzb6T9lk0022WTzPzFvZ0jM2/k/f6VArV8pAEBlk0022WQDQEuBWr9SoAZAMW9nSMzbCUAXXXTRRRcNQH+lQK1fKRBAchzHcRzHEUBlk0022WQTQFgK1PqVAhVAS4Fav1KgFkA++OCDDz4YQDFvZ0jM2xlAJObtDIl5G0AXXXTRRRcdQArU+pUCtR5Af6VArV8pIED44IMPPvggQHIcx3EcxyFA61cK1PqVIkBlk0022WQjQN7OkJi3MyRAWArU+pUCJUDRRRdddNElQEuBWr9SoCZAxLydITFvJ0A++OCDDz4oQLczJObtDClAMW9nSMzbKUCrqqqqqqoqQCTm7QyJeStAniExb2dILEAXXXTRRRctQJGYtzMk5i1ACtT6lQK1LkCEDz744IMvQH+lQK1fKTBAO0Ni3s6QMED44IMPPvgwQLV+pUCtXzFAchzHcRzHMUAuuuiiiy4yQOtXCtT6lTJAqPUrBWr9MkBlk0022WQzQCIxb2dIzDNA3s6QmLczNECbbLLJJps0QFgK1PqVAjVAFaj1KwVqNUDRRRdddNE1QI7jOI7jODZAS4Fav1KgNkAIH3zwwQc3QMS8nSExbzdAgVq/UqDWN0A++OCDDz44QPuVArV+pThAtzMk5u0MOUB00UUXXXQ5QDFvZ0jM2zlA7gyJeTtDOkCrqqqqqqo6QGdIzNsZEjtAJObtDIl5O0Dhgw8++OA7QJ4hMW9nSDxAWr9SoNavPEAXXXTRRRc9QNT6lQK1fj1AkZi3MyTmPUBNNtlkk00+QArU+pUCtT5Ax3Ecx3EcP0CEDz744IM/QECtXylQ6z9Af6VArV8pQEBddNFFF11AQDtDYt7OkEBAGhLzdobEQED44IMPPvhAQNevFKj1K0FAtX6lQK1fQUCTTTbZZJNBQHIcx3Ecx0FAUOtXCtT6QUAuuuiiiy5CQA2JeTtDYkJA61cK1PqVQkDKJptssslCQKj1KwVq/UJAhsS8nSExQ0Blk0022WRDQENi3s6QmENAIjFvZ0jMQ0AAAAAAAABEQN7OkJi3M0RAvZ0hMW9nRECbbLLJJptEQHk7Q2LezkRAWArU+pUCRUA22WSTTTZFQBWo9SsFakVA83aGxLydRUDRRRdddNFFQLAUqPUrBUZAAAAAAAAAAAAXXXTRRRfdPxdddNFFF+0/0UUXXXTR9T8XXXTRRRf9Py666KKLLgJA0UUXXXTRBUB00UUXXXQJQBdddNFFFw1AXXTRRRddEEAuuuiiiy4SQAAAAAAAABRA0UUXXXTRFUCjiy666KIXQHTRRRdddBlARhdddNFFG0AXXXTRRRcdQOiiiy666B5AXXTRRRddIEBGF1100UUhQC666KKLLiJAF1100UUXI0AAAAAAAAAkQOmiiy666CRA0UUXXXTRJUC66KKLLromQKOLLrrooidAiy666KKLKEB00UUXXXQpQF100UUXXSpARhdddNFFK0Auuuiiiy4sQBdddNFFFy1AAAAAAAAALkDooosuuuguQNFFF1100S9AXXTRRRddMEDRRRdddNEwQEYXXXTRRTFAuuiiiy66MUAuuuiiiy4yQKOLLrroojJAF1100UUXM0CLLrroooszQAAAAAAAADRAdNFFF110NEDpoosuuug0QF100UUXXTVA0UUXXXTRNUBGF1100UU2QLrooosuujZALrrooosuN0Cjiy666KI3QBdddNFFFzhAiy666KKLOEAAAAAAAAA5QHTRRRdddDlA6KKLLrroOUBddNFFF106QNFFF1100TpARhdddNFFO0C66KKLLro7QC666KKLLjxAo4suuuiiPEAXXXTRRRc9QIsuuuiiiz1AAAAAAAAAPkB00UUXXXQ+QOiiiy666D5AXXTRRRddP0DRRRdddNE/QKOLLrroIkBAXXTRRRddQEAXXXTRRZdAQNFFF1100UBAiy666KILQUBGF1100UVBQAAAAAAAgEFAuuiiiy66QUB00UUXXfRBQC666KKLLkJA6aKLLrpoQkCjiy666KJCQF100UUX3UJAF1100UUXQ0DRRRdddFFDQIsuuuiii0NARhdddNHFQ0AAAAAAAABEQLrooosuOkRAdNFFF110REAuuuiii65EQOmiiy666ERAo4suuugiRUBddNFFF11FQBdddNFFl0VA0UUXXXTRRUCLLrroogtGQEYXXXTRRUZAAAAAAACARkC66KKLLrpGQHTRRRdd9EZALrrooosuR0DpoosuumhHQKOLLrrookdAXXTRRRfdR0AXXXTRRRdIQNFFF110UUhAiy666KKLSEBGF1100cVIQAAAAAAAAAAAf6VArV8p4D9/pUCtXynwPz744IMPPvg/f6VArV8pAEDfzpCYtzMEQD744IMPPghAniExb2dIDEB/pUCtXykQQC+66KKLLhJA386QmLczFECP4ziO4zgWQD744IMPPhhA7gyJeTtDGkCeITFvZ0gcQE422WSTTR5Af6VArV8pIEDXrxSo9SshQC+66KKLLiJAh8S8nSExI0DfzpCYtzMkQDfZZJNNNiVAj+M4juM4JkDn7QyJeTsnQD744IMPPihAlgK1fqVAKUDuDIl5O0MqQEYXXXTRRStAniExb2dILED2KwVq/UotQE422WSTTS5ApkCtXylQL0B/pUCtXykwQKuqqqqqqjBA168UqPUrMUADtX6lQK0xQC+66KKLLjJAW79SoNavMkCHxLydITEzQLPJJptssjNA386QmLczNEAL1PqVArU0QDfZZJNNNjVAY97OkJi3NUCP4ziO4zg2QLvooosuujZA5+0MiXk7N0AT83aGxLw3QD744IMPPjhAav1KgVq/OECWArV+pUA5QMIHH3zwwTlA7gyJeTtDOkAaEvN2hsQ6QEYXXXTRRTtAchzHcRzHO0CeITFvZ0g8QMomm2yyyTxA9isFav1KPUAiMW9nSMw9QE422WSTTT5AejtDYt7OPkCmQK1fKVA/QNJFF1100T9Af6VArV8pQEAVqPUrBWpAQKuqqqqqqkBAQa1fKVDrQEDXrxSo9StBQG2yySabbEFAA7V+pUCtQUCZtzMk5u1BQC+66KKLLkJAxbydITFvQkBbv1Kg1q9CQPHBBx988EJAh8S8nSExQ0Adx3Ecx3FDQLPJJptsskNASczbGRLzQ0DfzpCYtzNEQHXRRRdddERAC9T6lQK1RECh1q8UqPVEQDfZZJNNNkVAzdsZEvN2RUBj3s6QmLdFQPnggw8++EVAj+M4juM4RkAl5u0MiXlGQLvooosuukZAUetXCtT6RkDn7QyJeTtHQH3wwQcffEdAE/N2hsS8R0Cp9SsFav1HQD744IMPPkhA1PqVArV+SEBq/UqBWr9IQAAAAAAAAElAlgK1fqVASUAsBWr9SoFJQMIHH3zwwUlAWArU+pUCSkDuDIl5O0NKQIQPPvjgg0pAGhLzdobESkCwFKj1KwVLQEYXXXTRRUtA3BkS83aGS0AAAAAAAAAAAHIcx3Ecx+E/chzHcRzH8T+rqqqqqqr6P3Icx3EcxwFAjuM4juM4BkCrqqqqqqoKQMhxHMdxHA9AchzHcRzHEUAAAAAAAAAUQI7jOI7jOBZAHcdxHMdxGECrqqqqqqoaQDmO4ziO4xxAyHEcx3EcH0CrqqqqqqogQHIcx3EcxyFAOY7jOI7jIkAAAAAAAAAkQMdxHMdxHCVAjuM4juM4JkBWVVVVVVUnQB3HcRzHcShA5DiO4ziOKUCrqqqqqqoqQHIcx3EcxytAOY7jOI7jLEAAAAAAAAAuQMhxHMdxHC9Ax3Ecx3EcMECrqqqqqqowQI7jOI7jODFAchzHcRzHMUBWVVVVVVUyQDmO4ziO4zJAHcdxHMdxM0AAAAAAAAA0QOQ4juM4jjRAx3Ecx3EcNUCrqqqqqqo1QI7jOI7jODZAchzHcRzHNkBWVVVVVVU3QDmO4ziO4zdAHcdxHMdxOEAAAAAAAAA5QOQ4juM4jjlAx3Ecx3EcOkCrqqqqqqo6QI/jOI7jODtAchzHcRzHO0BWVVVVVVU8QDmO4ziO4zxAHcdxHMdxPUAAAAAAAAA+QOQ4juM4jj5AyHEcx3EcP0Crqqqqqqo/QMdxHMdxHEBAOY7jOI5jQECrqqqqqqpAQB3HcRzH8UBAjuM4juM4QUAAAAAAAIBBQHIcx3Ecx0FA5DiO4zgOQkBWVVVVVVVCQMdxHMdxnEJAOY7jOI7jQkCrqqqqqipDQB3HcRzHcUNAjuM4juO4Q0AAAAAAAABEQHIcx3EcR0RA5DiO4ziOREBWVVVVVdVEQMdxHMdxHEVAOY7jOI5jRUCrqqqqqqpFQB3HcRzH8UVAjuM4juM4RkAAAAAAAIBGQHIcx3Ecx0ZA5DiO4zgOR0BWVVVVVVVHQMdxHMdxnEdAOY7jOI7jR0CrqqqqqipIQB3HcRzHcUhAj+M4juO4SEAAAAAAAABJQHIcx3EcR0lA5DiO4ziOSUBWVVVVVdVJQMdxHMdxHEpAOY7jOI5jSkCrqqqqqqpKQB3HcRzH8UpAj+M4juM4S0AAAAAAAIBLQHIcx3Ecx0tA5DiO4zgOTEBWVVVVVVVMQMdxHMdxnExAOY7jOI7jTECrqqqqqipNQB3HcRzHcU1Aj+M4juO4TUAAAAAAAABOQHIcx3EcR05AAAAAAAAAAABlk0022WTjP2WTTTbZZPM/GF100UUX/T9lk0022WQDQD744IMPPghAGF100UUXDUD44IMPPvgQQGWTTTbZZBNA0kUXXXTRFUA++OCDDz4YQKuqqqqqqhpAGF100UUXHUCEDz744IMfQPjggw8++CBAL7rooosuIkBlk0022WQjQJtssskmmyRA0kUXXXTRJUAIH3zwwQcnQD744IMPPihAddFFF110KUCrqqqqqqoqQOGDDz744CtAGF100UUXLUBONtlkk00uQIQPPvjggy9AXXTRRRddMED44IMPPvgwQJRNNtlkkzFAL7rooosuMkDKJptssskyQGWTTTbZZDNAAAAAAAAANECbbLLJJps0QDbZZJNNNjVA0kUXXXTRNUBtsskmm2w2QAgffPDBBzdAo4suuuiiN0A++OCDDz44QNlkk0022ThAddFFF110OUAQPvjggw86QKuqqqqqqjpARhdddNFFO0Dhgw8++OA7QHzwwQcffDxAGF100UUXPUCzySabbLI9QE422WSTTT5A6aKLLrroPkCEDz744IM/QBA++OCDD0BAXXTRRRddQECrqqqqqqpAQPjggw8++EBARhdddNFFQUCUTTbZZJNBQOGDDz744EFAL7rooosuQkB88MEHH3xCQMomm2yyyUJAF1100UUXQ0Blk0022WRDQLPJJptsskNAAAAAAAAAREBONtlkk01EQJtssskmm0RA6aKLLrroREA22WSTTTZFQIQPPvjgg0VA0kUXXXTRRUAffPDBBx9GQG2yySabbEZAuuiiiy66RkAIH3zwwQdHQFZVVVVVVUdAo4suuuiiR0DxwQcffPBHQD744IMPPkhAjC666KKLSEDZZJNNNtlIQCebbLLJJklAddFFF110SUDCBx988MFJQBA++OCDD0pAXXTRRRddSkCrqqqqqqpKQPjggw8++EpARhdddNFFS0CUTTbZZJNLQOGDDz744EtAL7rooosuTEB88MEHH3xMQMomm2yyyUxAGF100UUXTUBlk0022WRNQLPJJptssk1AAAAAAAAATkBONtlkk01OQJtssskmm05A6aKLLrroTkA32WSTTTZPQIQPPvjgg09A0kUXXXTRT0AQPvjggw9QQDbZZJNNNlBAXXTRRRddUECEDz744INQQAAAAAAAAAAAWArU+pUC5T9YCtT6lQL1P4QPPvjgg/8/WArU+pUCBUDuDIl5O0MKQIQPPvjggw9ADYl5O0NiEkBYCtT6lQIVQKOLLrroohdA7gyJeTtDGkA5juM4juMcQIQPPvjggx9AaEjM2xkSIUANiXk7Q2IiQLLJJptssiNAWArU+pUCJUD+SoFav1ImQKOLLrrooidASMzbGRLzKEDuDIl5O0MqQJRNNtlkkytAOY7jOI7jLEDezpCYtzMuQIQPPvjggy9AFaj1KwVqMEBoSMzbGRIxQLrooosuujFADYl5O0NiMkBgKVDrVwozQLLJJptssjNABWr9SoFaNEBYCtT6lQI1QKuqqqqqqjVA/kqBWr9SNkBQ61cK1Po2QKOLLrroojdA9isFav1KOEBIzNsZEvM4QJtssskmmzlA7gyJeTtDOkBBrV8pUOs6QJRNNtlkkztA5u0MiXk7PEA5juM4juM8QIwuuuiiiz1A3s6QmLczPkAxb2dIzNs+QIQPPvjggz9A61cK1PoVQEAVqPUrBWpAQD744IMPvkBAaEjM2xkSQUCRmLczJGZBQLrooosuukFA5DiO4zgOQkANiXk7Q2JCQDbZZJNNtkJAYClQ61cKQ0CJeTtDYl5DQLLJJptsskNA3BkS83YGREAFav1KgVpEQC+66KKLrkRAWArU+pUCRUCBWr9SoFZFQKuqqqqqqkVA1PqVArX+RUD+SoFav1JGQCebbLLJpkZAUOtXCtT6RkB6O0Ni3k5HQKOLLrrookdAzNsZEvP2R0D2KwVq/UpIQB988MEHn0hASMzbGRLzSEByHMdxHEdJQJtssskmm0lAxbydITHvSUDuDIl5O0NKQBdddNFFl0pAQa1fKVDrSkBq/UqBWj9LQJRNNtlkk0tAvZ0hMW/nS0Dm7QyJeTtMQBA++OCDj0xAOY7jOI7jTEBi3s6QmDdNQIwuuuiii01AtX6lQK3fTUDezpCYtzNOQAgffPDBh05AMW9nSMzbTkBbv1Kg1i9PQIQPPvjgg09ArV8pUOvXT0DrVwrU+hVQQAAAAAAAQFBAFaj1KwVqUEApUOtXCpRQQD744IMPvlBAU6DWrxToUEBoSMzbGRJRQHzwwQcfPFFAkZi3MyRmUUCmQK1fKZBRQLrooosuulFAz5CYtzPkUUAAAAAAAAAAAEuBWr9SoOY/S4Fav1Kg9j/44IMPPvgAQEuBWr9SoAZAniExb2dIDED44IMPPvgQQCIxb2dIzBNAS4Fav1KgFkB00UUXXXQZQJ4hMW9nSBxAx3Ecx3EcH0D44IMPPvggQA2JeTtDYiJAIjFvZ0jMI0A22WSTTTYlQEuBWr9SoCZAYClQ61cKKEB00UUXXXQpQIl5O0Ni3ipAniExb2dILECyySabbLItQMdxHMdxHC9A7gyJeTtDMED44IMPPvgwQAO1fqVArTFADYl5O0NiMkAXXXTRRRczQCIxb2dIzDNALAVq/UqBNEA22WSTTTY1QEGtXylQ6zVAS4Fav1KgNkBVVVVVVVU3QGApUOtXCjhAav1KgVq/OEB00UUXXXQ5QH+lQK1fKTpAiXk7Q2LeOkCTTTbZZJM7QJ4hMW9nSDxAqPUrBWr9PECyySabbLI9QL2dITFvZz5Ax3Ecx3EcP0DRRRdddNE/QO4MiXk7Q0BA83aGxLydQED44IMPPvhAQP1KgVq/UkFAA7V+pUCtQUAIH3zwwQdCQA2JeTtDYkJAEvN2hsS8QkAXXXTRRRdDQBzHcRzHcUNAIjFvZ0jMQ0Anm2yyySZEQCwFav1KgURAMW9nSMzbREA22WSTTTZFQDtDYt7OkEVAQa1fKVDrRUBGF1100UVGQEuBWr9SoEZAUOtXCtT6RkBVVVVVVVVHQFu/UqDWr0dAYClQ61cKSEBlk0022WRIQGr9SoFav0hAb2dIzNsZSUB00UUXXXRJQHo7Q2LezklAf6VArV8pSkCEDz744INKQIl5O0Ni3kpAjuM4juM4S0CTTTbZZJNLQJm3MyTm7UtAniExb2dITECjiy666KJMQKj1KwVq/UxArV8pUOtXTUCyySabbLJNQLgzJObtDE5AvZ0hMW9nTkDCBx988MFOQMdxHMdxHE9AzNsZEvN2T0DRRRdddNFPQOtXCtT6FVBA7gyJeTtDUEDwwQcffHBQQPN2hsS8nVBA9isFav3KUED44IMPPvhQQPuVArV+JVFA/UqBWr9SUUAAAAAAAIBRQAO1fqVArVFABWr9SoHaUUAIH3zwwQdSQArU+pUCNVJADYl5O0NiUkAQPvjgg49SQBLzdobEvFJAFaj1KwXqUkAXXXTRRRdTQBoS83aGRFNAAAAAAAAAAAA++OCDDz7oPz744IMPPvg/LrrooosuAkA++OCDDz4IQE422WSTTQ5ALrrooosuEkA22WSTTTYVQD744IMPPhhARhdddNFFG0BONtlkk00eQKuqqqqqqiBALrrooosuIkCyySabbLIjQDbZZJNNNiVAuuiiiy66JkA++OCDDz4oQMIHH3zwwSlARhdddNFFK0DKJptsssksQE422WSTTS5A0UUXXXTRL0CrqqqqqqowQG2yySabbDFALrrooosuMkDwwQcffPAyQLLJJptssjNAdNFFF110NEA22WSTTTY1QPjggw8++DVAuuiiiy66NkB88MEHH3w3QD744IMPPjhAAAAAAAAAOUDCBx988ME5QIQPPvjggzpARhdddNFFO0AIH3zwwQc8QMomm2yyyTxAjC666KKLPUBONtlkk00+QA8++OCDDz9A0UUXXXTRP0DKJptssklAQKuqqqqqqkBAjC666KILQUBtsskmm2xBQE422WSTzUFALrrooosuQkAPPvjgg49CQPDBBx988EJA0UUXXXRRQ0CyySabbLJDQJNNNtlkE0RAdNFFF110REBVVVVVVdVEQDbZZJNNNkVAF1100UWXRUD44IMPPvhFQNlkk002WUZAuuiiiy66RkCbbLLJJhtHQHzwwQcffEdAXXTRRRfdR0A++OCDDz5IQB988MEHn0hAAAAAAAAASUDhgw8++GBJQMIHH3zwwUlAo4suuugiSkCEDz744INKQGWTTTbZ5EpARhdddNFFS0Anm2yyyaZLQAgffPDBB0xA6aKLLrpoTEDKJptssslMQKuqqqqqKk1AjC666KKLTUBtsskmm+xNQE422WSTTU5ALrrooouuTkAPPvjggw9PQPDBBx98cE9A0UUXXXTRT0DZZJNNNhlQQMomm2yySVBAuuiiiy56UECrqqqqqqpQQJtssskm21BAjC666KILUUB88MEHHzxRQG2yySabbFFAXXTRRRedUUBONtlkk81RQD744IMP/lFALrrooosuUkAffPDBB19SQA8++OCDj1JAAAAAAADAUkDwwQcffPBSQOGDDz74IFNA0UUXXXRRU0DCBx988IFTQLLJJptsslNAo4suuujiU0CTTTbZZBNUQIQPPvjgQ1RAdNFFF110VEBlk0022aRUQAAAAAAAAAAAMW9nSMzb6T8xb2dIzNv5P2WTTTbZZANAMW9nSMzbCUB/pUCtXykQQGWTTTbZZBNAS4Fav1KgFkAxb2dIzNsZQBdddNFFFx1Af6VArV8pIEByHMdxHMchQGWTTTbZZCNAWArU+pUCJUBLgVq/UqAmQD744IMPPihAMW9nSMzbKUAk5u0MiXkrQBdddNFFFy1ACtT6lQK1LkB/pUCtXykwQPjggw8++DBAchzHcRzHMUDrVwrU+pUyQGWTTTbZZDNA3s6QmLczNEBYCtT6lQI1QNFFF1100TVAS4Fav1KgNkDEvJ0hMW83QD744IMPPjhAtzMk5u0MOUAxb2dIzNs5QKuqqqqqqjpAJObtDIl5O0CeITFvZ0g8QBdddNFFFz1AkZi3MyTmPUAK1PqVArU+QIQPPvjggz9Af6VArV8pQEA7Q2LezpBAQPjggw8++EBAtX6lQK1fQUByHMdxHMdBQC666KKLLkJA61cK1PqVQkCo9SsFav1CQGWTTTbZZENAIjFvZ0jMQ0DezpCYtzNEQJtssskmm0RAWArU+pUCRUAVqPUrBWpFQNFFF1100UVAjuM4juM4RkBLgVq/UqBGQAgffPDBB0dAxLydITFvR0CBWr9SoNZHQD744IMPPkhA+5UCtX6lSEC3MyTm7QxJQHTRRRdddElAMW9nSMzbSUDuDIl5O0NKQKuqqqqqqkpAZ0jM2xkSS0Ak5u0MiXlLQOGDDz744EtAniExb2dITEBav1Kg1q9MQBdddNFFF01A1PqVArV+TUCRmLczJOZNQE022WSTTU5ACtT6lQK1TkDHcRzHcRxPQIQPPvjgg09AQK1fKVDrT0B/pUCtXylQQF100UUXXVBAO0Ni3s6QUEAaEvN2hsRQQPjggw8++FBA168UqPUrUUC1fqVArV9RQJNNNtlkk1FAchzHcRzHUUBQ61cK1PpRQC666KKLLlJADYl5O0NiUkDrVwrU+pVSQMomm2yyyVJAqPUrBWr9UkCGxLydITFTQGWTTTbZZFNAQ2LezpCYU0AiMW9nSMxTQAAAAAAAAFRA3s6QmLczVEC9nSExb2dUQJtssskmm1RAeTtDYt7OVEBYCtT6lQJVQDbZZJNNNlVAFaj1KwVqVUDzdobEvJ1VQNFFF1100VVAsBSo9SsFVkAAAAAAAAAAACTm7QyJees/JObtDIl5+z+bbLLJJpsEQCTm7QyJeQtA1q8UqPUrEUCbbLLJJpsUQGApUOtXChhAJObtDIl5G0DooosuuugeQNavFKj1KyFAOY7jOI7jIkCbbLLJJpskQP1KgVq/UiZAYClQ61cKKEDCBx988MEpQCTm7QyJeStAhsS8nSExLUDooosuuuguQKVArV8pUDBA1q8UqPUrMUAIH3zwwQcyQDmO4ziO4zJAav1KgVq/M0CbbLLJJps0QMzbGRLzdjVA/UqBWr9SNkAuuuiiiy43QGApUOtXCjhAkZi3MyTmOEDCBx988ME5QPN2hsS8nTpAJObtDIl5O0BVVVVVVVU8QIbEvJ0hMT1AtzMk5u0MPkDooosuuug+QBoS83aGxD9ApUCtXylQQEA++OCDD75AQNavFKj1K0FAb2dIzNuZQUAIH3zwwQdCQKDWrxSodUJAOY7jOI7jQkDRRRdddFFDQGr9SoFav0NAArV+pUAtRECbbLLJJptEQDQk5u0MCUVAzNsZEvN2RUBlk0022eRFQP1KgVq/UkZAlgK1fqXARkAuuuiiiy5HQMdxHMdxnEdAYClQ61cKSED44IMPPnhIQJGYtzMk5khAKVDrVwpUSUDCBx988MFJQFq/UqDWL0pA83aGxLydSkCLLrroogtLQCTm7QyJeUtAvZ0hMW/nS0BVVVVVVVVMQO4MiXk7w0xAhsS8nSExTUAffPDBB59NQLczJObtDE5AUOtXCtR6TkDooosuuuhOQIFav1KgVk9AGhLzdobET0DZZJNNNhlQQKVArV8pUFBAchzHcRyHUEA++OCDD75QQArU+pUC9VBA1q8UqPUrUUCjiy666GJRQG9nSMzbmVFAO0Ni3s7QUUAIH3zwwQdSQNT6lQK1PlJAoNavFKh1UkBssskmm6xSQDmO4ziO41JABWr9SoEaU0DRRRdddFFTQJ4hMW9niFNAav1KgVq/U0A22WSTTfZTQAK1fqVALVRAz5CYtzNkVECbbLLJJptUQGdIzNsZ0lRANCTm7QwJVUAAAAAAAEBVQMzbGRLzdlVAmLczJOatVUBlk0022eRVQDFvZ0jMG1ZA/UqBWr9SVkDKJptssolWQJYCtX6lwFZAYt7OkJj3VkAuuuiiiy5XQPuVArV+ZVdAAAAAAAAAAAAXXXTRRRftPxdddNFFF/0/0UUXXXTRBUAXXXTRRRcNQC666KKLLhJA0UUXXXTRFUB00UUXXXQZQBdddNFFFx1AXXTRRRddIEAuuuiiiy4iQAAAAAAAACRA0UUXXXTRJUCjiy666KInQHTRRRdddClARhdddNFFK0AXXXTRRRctQOiiiy666C5AXXTRRRddMEBGF1100UUxQC666KKLLjJAF1100UUXM0AAAAAAAAA0QOmiiy666DRA0UUXXXTRNUC66KKLLro2QKOLLrroojdAiy666KKLOEB00UUXXXQ5QF100UUXXTpARhdddNFFO0Auuuiiiy48QBdddNFFFz1AAAAAAAAAPkDooosuuug+QNFFF1100T9AXXTRRRddQEDRRRdddNFAQEYXXXTRRUFAuuiiiy66QUAuuuiiiy5CQKOLLrrookJAF1100UUXQ0CLLrroootDQAAAAAAAAERAdNFFF110REDpoosuuuhEQF100UUXXUVA0UUXXXTRRUBGF1100UVGQLrooosuukZALrrooosuR0Cjiy666KJHQBdddNFFF0hAiy666KKLSEAAAAAAAABJQHTRRRdddElA6KKLLrroSUBddNFFF11KQNFFF1100UpARhdddNFFS0C66KKLLrpLQC666KKLLkxAo4suuuiiTEAXXXTRRRdNQIsuuuiii01AAAAAAAAATkB00UUXXXROQOiiiy666E5AXXTRRRddT0DRRRdddNFPQKOLLrroIlBAXXTRRRddUEAXXXTRRZdQQNFFF1100VBAiy666KILUUBGF1100UVRQAAAAAAAgFFAuuiiiy66UUB00UUXXfRRQC666KKLLlJA6aKLLrpoUkCjiy666KJSQF100UUX3VJAF1100UUXU0DRRRdddFFTQIsuuuiii1NARhdddNHFU0AAAAAAAABUQLrooosuOlRAdNFFF110VEAuuuiii65UQOmiiy666FRAo4suuugiVUBddNFFF11VQBdddNFFl1VA0UUXXXTRVUCLLrroogtWQEYXXXTRRVZAAAAAAACAVkC66KKLLrpWQHTRRRdd9FZALrrooosuV0DpoosuumhXQKOLLrrooldAXXTRRRfdV0AXXXTRRRdYQNFFF110UVhAiy666KKLWEBGF1100cVYQAAAAAAAAAAACtT6lQK17j8K1PqVArX+PwgffPDBBwdACtT6lQK1DkCGxLydITETQAgffPDBBxdAiXk7Q2LeGkAK1PqVArUeQEYXXXTRRSFAhsS8nSExI0DHcRzHcRwlQAgffPDBBydASMzbGRLzKECJeTtDYt4qQMkmm2yyySxACtT6lQK1LkClQK1fKVAwQEYXXXTRRTFA5u0MiXk7MkCGxLydITEzQCebbLLJJjRAx3Ecx3EcNUBnSMzbGRI2QAgffPDBBzdAqPUrBWr9N0BIzNsZEvM4QOiiiy666DlAiXk7Q2LeOkApUOtXCtQ7QMkmm2yyyTxAav1KgVq/PUAK1PqVArU+QKqqqqqqqj9ApUCtXylQQED1KwVq/cpAQEYXXXTRRUFAlgK1fqXAQUDm7QyJeTtCQDbZZJNNtkJAhsS8nSExQ0DWrxSo9atDQCebbLLJJkRAd4bEvJ2hREDHcRzHcRxFQBdddNFFl0VAZ0jM2xkSRkC3MyTm7YxGQAgffPDBB0dAWArU+pWCR0Co9SsFav1HQPjggw8+eEhASMzbGRLzSECYtzMk5m1JQOiiiy666ElAOY7jOI5jSkCJeTtDYt5KQNlkk002WUtAKVDrVwrUS0B5O0Ni3k5MQMkmm2yyyUxAGhLzdoZETUBq/UqBWr9NQLrooosuOk5ACtT6lQK1TkBav1Kg1i9PQKqqqqqqqk9A/UqBWr8SUEClQK1fKVBQQE022WSTjVBA9SsFav3KUECeITFvZwhRQEYXXXTRRVFA7gyJeTuDUUCWArV+pcBRQD744IMP/lFA5u0MiXk7UkCO4ziO43hSQDbZZJNNtlJA3s6QmLfzUkCGxLydITFTQC666KKLblNA1q8UqPWrU0B+pUCtX+lTQCebbLLJJlRAz5CYtzNkVEB3hsS8naFUQB988MEH31RAx3Ecx3EcVUBvZ0jM21lVQBdddNFFl1VAv1Kg1q/UVUBnSMzbGRJWQA8++OCDT1ZAtzMk5u2MVkBfKVDrV8pWQAgffPDBB1dAsBSo9StFV0BYCtT6lYJXQAAAAAAAwFdAqPUrBWr9V0BQ61cK1DpYQPjggw8+eFhAoNavFKi1WEBIzNsZEvNYQPDBBx98MFlAmLczJOZtWUBArV8pUKtZQOiiiy666FlAkZi3MyQmWkAAAAAAAAAAAH+lQK1fKfA/f6VArV8pAEA++OCDDz4IQH+lQK1fKRBA386QmLczFEA++OCDDz4YQJ4hMW9nSBxAf6VArV8pIEAvuuiiiy4iQN/OkJi3MyRAj+M4juM4JkA++OCDDz4oQO4MiXk7QypAniExb2dILEBONtlkk00uQH+lQK1fKTBA168UqPUrMUAvuuiiiy4yQIfEvJ0hMTNA386QmLczNEA32WSTTTY1QI/jOI7jODZA5+0MiXk7N0A++OCDDz44QJYCtX6lQDlA7gyJeTtDOkBGF1100UU7QJ4hMW9nSDxA9isFav1KPUBONtlkk00+QKZArV8pUD9Af6VArV8pQECrqqqqqqpAQNevFKj1K0FAA7V+pUCtQUAvuuiiiy5CQFu/UqDWr0JAh8S8nSExQ0CzySabbLJDQN/OkJi3M0RAC9T6lQK1REA32WSTTTZFQGPezpCYt0VAj+M4juM4RkC76KKLLrpGQOftDIl5O0dAE/N2hsS8R0A++OCDDz5IQGr9SoFav0hAlgK1fqVASUDCBx988MFJQO4MiXk7Q0pAGhLzdobESkBGF1100UVLQHIcx3Ecx0tAniExb2dITEDKJptssslMQPYrBWr9Sk1AIjFvZ0jMTUBONtlkk01OQHo7Q2Lezk5ApkCtXylQT0DSRRdddNFPQH+lQK1fKVBAFaj1KwVqUECrqqqqqqpQQEGtXylQ61BA168UqPUrUUBtsskmm2xRQAO1fqVArVFAmbczJObtUUAvuuiiiy5SQMW8nSExb1JAW79SoNavUkDxwQcffPBSQIfEvJ0hMVNAHcdxHMdxU0CzySabbLJTQEnM2xkS81NA386QmLczVEB10UUXXXRUQAvU+pUCtVRAodavFKj1VEA32WSTTTZVQM3bGRLzdlVAY97OkJi3VUD54IMPPvhVQI/jOI7jOFZAJebtDIl5VkC76KKLLrpWQFHrVwrU+lZA5+0MiXk7V0B98MEHH3xXQBPzdobEvFdAqfUrBWr9V0A++OCDDz5YQNT6lQK1flhAav1KgVq/WEAAAAAAAABZQJYCtX6lQFlALAVq/UqBWUDCBx988MFZQFgK1PqVAlpA7gyJeTtDWkCEDz744INaQBoS83aGxFpAsBSo9SsFW0BGF1100UVbQNwZEvN2hltAAAAAAAAAAAD44IMPPvjwP/jggw8++ABAdNFFF110CUD44IMPPvgQQDbZZJNNNhVAdNFFF110GUCyySabbLIdQPjggw8++CBAF1100UUXI0A22WSTTTYlQFVVVVVVVSdAdNFFF110KUCTTTbZZJMrQLLJJptssi1A0UUXXXTRL0D44IMPPvgwQAgffPDBBzJAF1100UUXM0Amm2yyySY0QDbZZJNNNjVARhdddNFFNkBVVVVVVVU3QGSTTTbZZDhAdNFFF110OUCEDz744IM6QJNNNtlkkztAoosuuuiiPECyySabbLI9QMIHH3zwwT5A0UUXXXTRP0DwwQcffHBAQPjggw8++EBAAAAAAACAQUAIH3zwwQdCQA8++OCDj0JAF1100UUXQ0AffPDBB59DQCabbLLJJkRALrrooouuREA22WSTTTZFQD744IMPvkVARhdddNFFRkBNNtlkk81GQFVVVVVVVUdAXXTRRRfdR0Bkk0022WRIQGyyySab7EhAdNFFF110SUB88MEHH/xJQIQPPvjgg0pAiy666KILS0CTTTbZZJNLQJtssskmG0xAoosuuuiiTECqqqqqqipNQLLJJptssk1Auuiiiy46TkDCBx988MFOQMkmm2yySU9A0UUXXXTRT0BssskmmyxQQPDBBx98cFBAdNFFF120UED44IMPPvhQQHzwwQcfPFFAAAAAAACAUUCEDz744MNRQAgffPDBB1JAiy666KJLUkAPPvjgg49SQJNNNtlk01JAF1100UUXU0CbbLLJJltTQB988MEHn1NAo4suuujiU0Amm2yyySZUQKqqqqqqalRALrrooouuVECyySabbPJUQDbZZJNNNlVAuuiiiy56VUA++OCDD75VQMIHH3zwAVZARhdddNFFVkDJJptssolWQE022WSTzVZA0UUXXXQRV0BVVVVVVVVXQNlkk002mVdAXXTRRRfdV0Dhgw8++CBYQGSTTTbZZFhA6KKLLrqoWEBssskmm+xYQPDBBx98MFlAdNFFF110WUD44IMPPrhZQHzwwQcf/FlAAAAAAABAWkCEDz744INaQAcffPDBx1pAiy666KILW0APPvjgg09bQJNNNtlkk1tAF1100UXXW0CbbLLJJhtcQB988MEHX1xAoosuuuiiXEAmm2yyyeZcQAAAAAAAAAAAchzHcRzH8T9yHMdxHMcBQKuqqqqqqgpAchzHcRzHEUCO4ziO4zgWQKuqqqqqqhpAyHEcx3EcH0ByHMdxHMchQAAAAAAAACRAjuM4juM4JkAdx3Ecx3EoQKuqqqqqqipAOY7jOI7jLEDIcRzHcRwvQKuqqqqqqjBAchzHcRzHMUA5juM4juMyQAAAAAAAADRAx3Ecx3EcNUCO4ziO4zg2QFZVVVVVVTdAHcdxHMdxOEDkOI7jOI45QKuqqqqqqjpAchzHcRzHO0A5juM4juM8QAAAAAAAAD5AyHEcx3EcP0DHcRzHcRxAQKuqqqqqqkBAjuM4juM4QUByHMdxHMdBQFZVVVVVVUJAOY7jOI7jQkAdx3Ecx3FDQAAAAAAAAERA5DiO4ziOREDHcRzHcRxFQKuqqqqqqkVAjuM4juM4RkByHMdxHMdGQFZVVVVVVUdAOY7jOI7jR0Adx3Ecx3FIQAAAAAAAAElA5DiO4ziOSUDHcRzHcRxKQKuqqqqqqkpAj+M4juM4S0ByHMdxHMdLQFZVVVVVVUxAOY7jOI7jTEAdx3Ecx3FNQAAAAAAAAE5A5DiO4ziOTkDIcRzHcRxPQKuqqqqqqk9Ax3Ecx3EcUEA5juM4jmNQQKuqqqqqqlBAHcdxHMfxUECO4ziO4zhRQAAAAAAAgFFAchzHcRzHUUDkOI7jOA5SQFZVVVVVVVJAx3Ecx3GcUkA5juM4juNSQKuqqqqqKlNAHcdxHMdxU0CO4ziO47hTQAAAAAAAAFRAchzHcRxHVEDkOI7jOI5UQFZVVVVV1VRAx3Ecx3EcVUA5juM4jmNVQKuqqqqqqlVAHcdxHMfxVUCO4ziO4zhWQAAAAAAAgFZAchzHcRzHVkDkOI7jOA5XQFZVVVVVVVdAx3Ecx3GcV0A5juM4juNXQKuqqqqqKlhAHcdxHMdxWECP4ziO47hYQAAAAAAAAFlAchzHcRxHWUDkOI7jOI5ZQFZVVVVV1VlAx3Ecx3EcWkA5juM4jmNaQKuqqqqqqlpAHcdxHMfxWkCP4ziO4zhbQAAAAAAAgFtAchzHcRzHW0DkOI7jOA5cQFZVVVVVVVxAx3Ecx3GcXEA5juM4juNcQKuqqqqqKl1AHcdxHMdxXUCP4ziO47hdQAAAAAAAAF5AchzHcRxHXkAAAAAAAAAAAOtXCtT6lfI/61cK1PqVAkDggw8++OALQOtXCtT6lRJA5u0MiXk7F0Dggw8++OAbQO4MiXk7QyBA61cK1PqVIkDooosuuugkQObtDIl5OydA4ziO4ziOKUDggw8++OArQN7OkJi3My5A7gyJeTtDMEBssskmm2wxQOtXCtT6lTJAav1KgVq/M0Dooosuuug0QGdIzNsZEjZA5u0MiXk7N0Bkk0022WQ4QOM4juM4jjlAYt7OkJi3OkDggw8++OA7QF8pUOtXCj1A3s6QmLczPkBddNFFF10/QO4MiXk7Q0BArV8pUOvXQEBssskmm2xBQCwFav1KAUJA61cK1PqVQkCqqqqqqipDQGr9SoFav0NAKVDrVwpUREDooosuuuhEQKj1KwVqfUVAZ0jM2xkSRkAmm2yyyaZGQObtDIl5O0dApUCtXynQR0Bkk0022WRIQCTm7QyJ+UhA4ziO4ziOSUCiiy666CJKQGLezpCYt0pAITFvZ0hMS0Dggw8++OBLQKDWrxSodUxAXylQ61cKTUAffPDBB59NQN7OkJi3M05AnSExb2fITkBddNFFF11PQBzHcRzH8U9A7gyJeTtDUEBNNtlkk41QQK1fKVDr11BADYl5O0MiUUBssskmm2xRQMzbGRLztlFALAVq/UoBUkCLLrrooktSQOtXCtT6lVJAS4Fav1LgUkCqqqqqqipTQArU+pUCdVNAav1KgVq/U0DJJptssglUQClQ61cKVFRAiXk7Q2KeVEDooosuuuhUQEjM2xkSM1VAqPUrBWp9VUAHH3zwwcdVQGdIzNsZElZAx3Ecx3FcVkAmm2yyyaZWQIbEvJ0h8VZA5u0MiXk7V0BFF1100YVXQKVArV8p0FdABWr9SoEaWEBkk0022WRYQMS8nSExr1hAJObtDIn5WECDDz744ENZQOM4juM4jllAQ2LezpDYWUCiiy666CJaQAK1fqVAbVpAYt7OkJi3WkDBBx988AFbQCExb2dITFtAgVq/UqCWW0Dggw8++OBbQECtXylQK1xAoNavFKh1XEAAAAAAAMBcQF8pUOtXCl1Av1Kg1q9UXUAffPDBB59dQH6lQK1f6V1A3s6QmLczXkA++OCDD35eQJ0hMW9nyF5A/UqBWr8SX0BddNFFF11fQLydITFvp19AAAAAAAAAAABlk0022WTzP2WTTTbZZANAGF100UUXDUBlk0022WQTQD744IMPPhhAGF100UUXHUD44IMPPvggQGWTTTbZZCNA0kUXXXTRJUA++OCDDz4oQKuqqqqqqipAGF100UUXLUCEDz744IMvQPjggw8++DBAL7rooosuMkBlk0022WQzQJtssskmmzRA0kUXXXTRNUAIH3zwwQc3QD744IMPPjhAddFFF110OUCrqqqqqqo6QOGDDz744DtAGF100UUXPUBONtlkk00+QIQPPvjggz9AXXTRRRddQED44IMPPvhAQJRNNtlkk0FAL7rooosuQkDKJptssslCQGWTTTbZZENAAAAAAAAARECbbLLJJptEQDbZZJNNNkVA0kUXXXTRRUBtsskmm2xGQAgffPDBB0dAo4suuuiiR0A++OCDDz5IQNlkk0022UhAddFFF110SUAQPvjggw9KQKuqqqqqqkpARhdddNFFS0Dhgw8++OBLQHzwwQcffExAGF100UUXTUCzySabbLJNQE422WSTTU5A6aKLLrroTkCEDz744INPQBA++OCDD1BAXXTRRRddUECrqqqqqqpQQPjggw8++FBARhdddNFFUUCUTTbZZJNRQOGDDz744FFAL7rooosuUkB88MEHH3xSQMomm2yyyVJAF1100UUXU0Blk0022WRTQLPJJptsslNAAAAAAAAAVEBONtlkk01UQJtssskmm1RA6aKLLrroVEA22WSTTTZVQIQPPvjgg1VA0kUXXXTRVUAffPDBBx9WQG2yySabbFZAuuiiiy66VkAIH3zwwQdXQFZVVVVVVVdAo4suuuiiV0DxwQcffPBXQD744IMPPlhAjC666KKLWEDZZJNNNtlYQCebbLLJJllAddFFF110WUDCBx988MFZQBA++OCDD1pAXXTRRRddWkCrqqqqqqpaQPjggw8++FpARhdddNFFW0CUTTbZZJNbQOGDDz744FtAL7rooosuXEB88MEHH3xcQMomm2yyyVxAGF100UUXXUBlk0022WRdQLPJJptssl1AAAAAAAAAXkBONtlkk01eQJtssskmm15A6aKLLrroXkA32WSTTTZfQIQPPvjgg19A0kUXXXTRX0AQPvjggw9gQDbZZJNNNmBAXXTRRRddYECEDz744INgQAAAAAAAAAAA3s6QmLcz9D/ezpCYtzMEQE022WSTTQ5A3s6QmLczFECWArV+pUAZQE022WSTTR5AArV+pUCtIUDezpCYtzMkQLrooosuuiZAlgK1fqVAKUBxHMdxHMcrQE022WSTTS5AFKj1KwVqMEACtX6lQK0xQPDBBx988DJA3s6QmLczNEDM2xkS83Y1QLrooosuujZAqPUrBWr9N0CWArV+pUA5QIMPPvjggzpAcRzHcRzHO0BfKVDrVwo9QE022WSTTT5AO0Ni3s6QP0AUqPUrBWpAQIsuuuiiC0FAArV+pUCtQUB5O0Ni3k5CQPDBBx988EJAZ0jM2xmSQ0DezpCYtzNEQFVVVVVV1URAzNsZEvN2RUBDYt7OkBhGQLrooosuukZAMW9nSMxbR0Co9SsFav1HQB988MEHn0hAlgK1fqVASUAMiXk7Q+JJQIMPPvjgg0pA+pUCtX4lS0BxHMdxHMdLQOiiiy66aExAXylQ61cKTUDWrxSo9atNQE022WSTTU5AxLydITHvTkA7Q2LezpBPQNlkk002GVBAFKj1KwVqUEBQ61cK1LpQQIsuuuiiC1FAx3Ecx3FcUUACtX6lQK1RQD744IMP/lFAeTtDYt5OUkC1fqVArZ9SQPDBBx988FJALAVq/UpBU0BnSMzbGZJTQKOLLrro4lNA3s6QmLczVEAZEvN2hoRUQFVVVVVV1VRAkJi3MyQmVUDM2xkS83ZVQAcffPDBx1VAQ2LezpAYVkB+pUCtX2lWQLrooosuulZA9SsFav0KV0Axb2dIzFtXQGyyySabrFdAqPUrBWr9V0DjOI7jOE5YQB988MEHn1hAWr9SoNbvWECWArV+pUBZQNFFF110kVlADIl5O0PiWUBIzNsZEjNaQIMPPvjgg1pAv1Kg1q/UWkD6lQK1fiVbQDbZZJNNdltAcRzHcRzHW0CtXylQ6xdcQOiiiy66aFxAJObtDIm5XEBfKVDrVwpdQJtssskmW11A1q8UqPWrXUAS83aGxPxdQE022WSTTV5AiHk7Q2KeXkDEvJ0hMe9eQP//////P19AO0Ni3s6QX0B2hsS8neFfQNlkk002GWBAd4bEvJ1BYEAUqPUrBWpgQLLJJptskmBAUOtXCtS6YEDuDIl5O+NgQIsuuuiiC2FAKVDrVwo0YUAAAAAAAAAAAFgK1PqVAvU/WArU+pUCBUCEDz744IMPQFgK1PqVAhVA7gyJeTtDGkCEDz744IMfQA2JeTtDYiJAWArU+pUCJUCjiy666KInQO4MiXk7QypAOY7jOI7jLECEDz744IMvQGhIzNsZEjFADYl5O0NiMkCyySabbLIzQFgK1PqVAjVA/kqBWr9SNkCjiy666KI3QEjM2xkS8zhA7gyJeTtDOkCUTTbZZJM7QDmO4ziO4zxA3s6QmLczPkCEDz744IM/QBWo9SsFakBAaEjM2xkSQUC66KKLLrpBQA2JeTtDYkJAYClQ61cKQ0CyySabbLJDQAVq/UqBWkRAWArU+pUCRUCrqqqqqqpFQP5KgVq/UkZAUOtXCtT6RkCjiy666KJHQPYrBWr9SkhASMzbGRLzSECbbLLJJptJQO4MiXk7Q0pAQa1fKVDrSkCUTTbZZJNLQObtDIl5O0xAOY7jOI7jTECMLrroootNQN7OkJi3M05AMW9nSMzbTkCEDz744INPQOtXCtT6FVBAFaj1KwVqUEA++OCDD75QQGhIzNsZElFAkZi3MyRmUUC66KKLLrpRQOQ4juM4DlJADYl5O0NiUkA22WSTTbZSQGApUOtXClNAiXk7Q2JeU0CyySabbLJTQNwZEvN2BlRABWr9SoFaVEAvuuiii65UQFgK1PqVAlVAgVq/UqBWVUCrqqqqqqpVQNT6lQK1/lVA/kqBWr9SVkAnm2yyyaZWQFDrVwrU+lZAejtDYt5OV0Cjiy666KJXQMzbGRLz9ldA9isFav1KWEAffPDBB59YQEjM2xkS81hAchzHcRxHWUCbbLLJJptZQMW8nSEx71lA7gyJeTtDWkAXXXTRRZdaQEGtXylQ61pAav1KgVo/W0CUTTbZZJNbQL2dITFv51tA5u0MiXk7XEAQPvjgg49cQDmO4ziO41xAYt7OkJg3XUCMLrroootdQLV+pUCt311A3s6QmLczXkAIH3zwwYdeQDFvZ0jM215AW79SoNYvX0CEDz744INfQK1fKVDr119A61cK1PoVYEAAAAAAAEBgQBWo9SsFamBAKVDrVwqUYEA++OCDD75gQFOg1q8U6GBAaEjM2xkSYUB88MEHHzxhQJGYtzMkZmFApkCtXymQYUC66KKLLrphQM+QmLcz5GFAAAAAAAAAAADRRRdddNH1P9FFF1100QVAXXTRRRddEEDRRRdddNEVQEUXXXTRRRtAXXTRRRddIEAXXXTRRRcjQNFFF1100SVAiy666KKLKEBFF1100UUrQP///////y1AXXTRRRddMEC66KKLLroxQBdddNFFFzNAdNFFF110NEDRRRdddNE1QC666KKLLjdAiy666KKLOEDooosuuug5QEUXXXTRRTtAoosuuuiiPED///////89QFx00UUXXT9AXXTRRRddQECLLrroogtBQLrooosuukFA6KKLLrpoQkAXXXTRRRdDQEUXXXTRxUNAdNFFF110RECiiy666CJFQNFFF1100UVAAAAAAACARkAuuuiiiy5HQF100UUX3UdAiy666KKLSEC66KKLLjpJQOiiiy666ElAF1100UWXSkBFF1100UVLQHTRRRdd9EtAoosuuuiiTEDRRRdddFFNQP///////01ALrrooouuTkBcdNFFF11PQEUXXXTRBVBAXXTRRRddUEB00UUXXbRQQIsuuuiiC1FAo4suuuhiUUC66KKLLrpRQNFFF110EVJA6KKLLrpoUkAAAAAAAMBSQBdddNFFF1NALrroootuU0BFF1100cVTQF100UUXHVRAdNFFF110VECLLrroostUQKKLLrroIlVAuuiiiy56VUDRRRdddNFVQOiiiy66KFZAAAAAAACAVkAXXXTRRddWQC666KKLLldARRdddNGFV0BddNFFF91XQHTRRRddNFhAiy666KKLWECiiy666OJYQLrooosuOllA0UUXXXSRWUDooosuuuhZQP//////P1pAF1100UWXWkAuuuiii+5aQEUXXXTRRVtAXXTRRRedW0B00UUXXfRbQIsuuuiiS1xAoosuuuiiXEC66KKLLvpcQNFFF110UV1A6KKLLrqoXUD///////9dQBdddNFFV15ALrrooouuXkBFF1100QVfQFx00UUXXV9AdNFFF120X0BFF1100QVgQNFFF110MWBAXXTRRRddYEDooosuuohgQHTRRRddtGBAAAAAAADgYECLLrroogthQBdddNFFN2FAo4suuuhiYUAuuuiii45hQLrooosuumFARRdddNHlYUDRRRdddBFiQF100UUXPWJA6KKLLrpoYkB00UUXXZRiQAAAAAAAAAAAS4Fav1Kg9j9LgVq/UqAGQPjggw8++BBAS4Fav1KgFkCeITFvZ0gcQPjggw8++CBAIjFvZ0jMI0BLgVq/UqAmQHTRRRdddClAniExb2dILEDHcRzHcRwvQPjggw8++DBADYl5O0NiMkAiMW9nSMwzQDbZZJNNNjVAS4Fav1KgNkBgKVDrVwo4QHTRRRdddDlAiXk7Q2LeOkCeITFvZ0g8QLLJJptssj1Ax3Ecx3EcP0DuDIl5O0NAQPjggw8++EBAA7V+pUCtQUANiXk7Q2JCQBdddNFFF0NAIjFvZ0jMQ0AsBWr9SoFEQDbZZJNNNkVAQa1fKVDrRUBLgVq/UqBGQFVVVVVVVUdAYClQ61cKSEBq/UqBWr9IQHTRRRdddElAf6VArV8pSkCJeTtDYt5KQJNNNtlkk0tAniExb2dITECo9SsFav1MQLLJJptssk1AvZ0hMW9nTkDHcRzHcRxPQNFFF1100U9A7gyJeTtDUEDzdobEvJ1QQPjggw8++FBA/UqBWr9SUUADtX6lQK1RQAgffPDBB1JADYl5O0NiUkAS83aGxLxSQBdddNFFF1NAHMdxHMdxU0AiMW9nSMxTQCebbLLJJlRALAVq/UqBVEAxb2dIzNtUQDbZZJNNNlVAO0Ni3s6QVUBBrV8pUOtVQEYXXXTRRVZAS4Fav1KgVkBQ61cK1PpWQFVVVVVVVVdAW79SoNavV0BgKVDrVwpYQGWTTTbZZFhAav1KgVq/WEBvZ0jM2xlZQHTRRRdddFlAejtDYt7OWUB/pUCtXylaQIQPPvjgg1pAiXk7Q2LeWkCO4ziO4zhbQJNNNtlkk1tAmbczJObtW0CeITFvZ0hcQKOLLrroolxAqPUrBWr9XECtXylQ61ddQLLJJptssl1AuDMk5u0MXkC9nSExb2deQMIHH3zwwV5Ax3Ecx3EcX0DM2xkS83ZfQNFFF1100V9A61cK1PoVYEDuDIl5O0NgQPDBBx98cGBA83aGxLydYED2KwVq/cpgQPjggw8++GBA+5UCtX4lYUD9SoFav1JhQAAAAAAAgGFAA7V+pUCtYUAFav1KgdphQAgffPDBB2JACtT6lQI1YkANiXk7Q2JiQBA++OCDj2JAEvN2hsS8YkAVqPUrBepiQBdddNFFF2NAGhLzdoZEY0AAAAAAAAAAAMS8nSExb/c/xLydITFvB0CTTTbZZJMRQMS8nSExbxdA9SsFav1KHUCTTTbZZJMhQCwFav1KgSRAxLydITFvJ0BcdNFFF10qQPUrBWr9Si1Ax3Ecx3EcMECTTTbZZJMxQF8pUOtXCjNALAVq/UqBNED44IMPPvg1QMS8nSExbzdAkJi3MyTmOEBcdNFFF106QClQ61cK1DtA9SsFav1KPUDBBx988ME+QMdxHMdxHEBArV8pUOvXQECTTTbZZJNBQHk7Q2LeTkJAXylQ61cKQ0BFF1100cVDQCwFav1KgURAEvN2hsQ8RUD44IMPPvhFQN7OkJi3s0ZAxLydITFvR0CqqqqqqipIQJCYtzMk5khAdobEvJ2hSUBcdNFFF11KQENi3s6QGEtAKVDrVwrUS0APPvjgg49MQPUrBWr9Sk1A2xkS83YGTkDBBx988MFOQKf1KwVqfU9Ax3Ecx3EcUEC66KKLLnpQQK1fKVDr11BAoNavFKg1UUCTTTbZZJNRQIbEvJ0h8VFAeTtDYt5OUkBssskmm6xSQF8pUOtXClNAUqDWrxRoU0BFF1100cVTQDiO4ziOI1RALAVq/UqBVEAffPDBB99UQBLzdobEPFVABWr9SoGaVUD44IMPPvhVQOtXCtT6VVZA3s6QmLezVkDRRRdddBFXQMS8nSExb1dAtzMk5u3MV0CqqqqqqipYQJ0hMW9niFhAkJi3MyTmWECDDz744ENZQHaGxLydoVlAaf1KgVr/WUBcdNFFF11aQFDrVwrUulpAQ2LezpAYW0A22WSTTXZbQClQ61cK1FtAHMdxHMcxXEAPPvjgg49cQAK1fqVA7VxA9SsFav1KXUDooosuuqhdQNsZEvN2Bl5AzpCYtzNkXkDBBx988MFeQLR+pUCtH19Ap/UrBWp9X0CabLLJJttfQMdxHMdxHGBAQK1fKVBLYEC66KKLLnpgQDMk5u0MqWBArV8pUOvXYEAmm2yyyQZhQKDWrxSoNWFAGRLzdoZkYUCTTTbZZJNhQA2JeTtDwmFAhsS8nSHxYUAAAAAAACBiQHk7Q2LeTmJA83aGxLx9YkBssskmm6xiQObtDIl522JAXylQ61cKY0DZZJNNNjljQFKg1q8UaGNAzNsZEvOWY0BFF1100cVjQL9SoNav9GNAAAAAAAAAAAA++OCDDz74Pz744IMPPghALrrooosuEkA++OCDDz4YQE422WSTTR5ALrrooosuIkA22WSTTTYlQD744IMPPihARhdddNFFK0BONtlkk00uQKuqqqqqqjBALrrooosuMkCyySabbLIzQDbZZJNNNjVAuuiiiy66NkA++OCDDz44QMIHH3zwwTlARhdddNFFO0DKJptsssk8QE422WSTTT5A0UUXXXTRP0CrqqqqqqpAQG2yySabbEFALrrooosuQkDwwQcffPBCQLLJJptsskNAdNFFF110REA22WSTTTZFQPjggw8++EVAuuiiiy66RkB88MEHH3xHQD744IMPPkhAAAAAAAAASUDCBx988MFJQIQPPvjgg0pARhdddNFFS0AIH3zwwQdMQMomm2yyyUxAjC666KKLTUBONtlkk01OQA8++OCDD09A0UUXXXTRT0DKJptssklQQKuqqqqqqlBAjC666KILUUBtsskmm2xRQE422WSTzVFALrrooosuUkAPPvjgg49SQPDBBx988FJA0UUXXXRRU0CyySabbLJTQJNNNtlkE1RAdNFFF110VEBVVVVVVdVUQDbZZJNNNlVAF1100UWXVUD44IMPPvhVQNlkk002WVZAuuiiiy66VkCbbLLJJhtXQHzwwQcffFdAXXTRRRfdV0A++OCDDz5YQB988MEHn1hAAAAAAAAAWUDhgw8++GBZQMIHH3zwwVlAo4suuugiWkCEDz744INaQGWTTTbZ5FpARhdddNFFW0Anm2yyyaZbQAgffPDBB1xA6aKLLrpoXEDKJptssslcQKuqqqqqKl1AjC666KKLXUBtsskmm+xdQE422WSTTV5ALrrooouuXkAPPvjggw9fQPDBBx98cF9A0UUXXXTRX0DZZJNNNhlgQMomm2yySWBAuuiiiy56YECrqqqqqqpgQJtssskm22BAjC666KILYUB88MEHHzxhQG2yySabbGFAXXTRRRedYUBONtlkk81hQD744IMP/mFALrrooosuYkAffPDBB19iQA8++OCDj2JAAAAAAADAYkDwwQcffPBiQOGDDz74IGNA0UUXXXRRY0DCBx988IFjQLLJJptssmNAo4suuujiY0CTTTbZZBNkQIQPPvjgQ2RAdNFFF110ZEBlk0022aRkQAAAAAAAAAAAtzMk5u0M+T+3MyTm7QwJQMkmm2yyyRJAtzMk5u0MGUClQK1fKVAfQMkmm2yyySJAQK1fKVDrJUC3MyTm7QwpQC666KKLLixApUCtXylQL0CO4ziO4zgxQMkmm2yyyTJABWr9SoFaNEBArV8pUOs1QHzwwQcffDdAtzMk5u0MOUDydobEvJ06QC666KKLLjxAaf1KgVq/PUClQK1fKVA/QPDBBx98cEBAjuM4juM4QUAsBWr9SgFCQMkmm2yyyUJAZ0jM2xmSQ0AFav1KgVpEQKKLLrroIkVAQK1fKVDrRUDezpCYt7NGQHzwwQcffEdAGRLzdoZESEC3MyTm7QxJQFVVVVVV1UlA8naGxLydSkCQmLczJGZLQC666KKLLkxAzNsZEvP2TEBp/UqBWr9NQAcffPDBh05ApUCtXylQT0AhMW9nSAxQQPDBBx98cFBAv1Kg1q/UUECO4ziO4zhRQF100UUXnVFALAVq/UoBUkD6lQK1fmVSQMkmm2yyyVJAmLczJOYtU0BnSMzbGZJTQDbZZJNN9lNABWr9SoFaVEDU+pUCtb5UQKKLLrroIlVAcRzHcRyHVUBArV8pUOtVQA8++OCDT1ZA3s6QmLezVkCtXylQ6xdXQHzwwQcffFdASoFav1LgV0AZEvN2hkRYQOiiiy66qFhAtzMk5u0MWUCGxLydIXFZQFVVVVVV1VlAJObtDIk5WkDydobEvJ1aQMEHH3zwAVtAkJi3MyRmW0BfKVDrV8pbQC666KKLLlxA/UqBWr+SXEDM2xkS8/ZcQJpssskmW11Aaf1KgVq/XUA4juM4jiNeQAcffPDBh15A1q8UqPXrXkClQK1fKVBfQHTRRRddtF9AITFvZ0gMYECJeTtDYj5gQPDBBx98cGBAWArU+pWiYEC/UqDWr9RgQCabbLLJBmFAjuM4juM4YUD1KwVq/WphQF100UUXnWFAxLydITHPYUAsBWr9SgFiQJNNNtlkM2JA+pUCtX5lYkBi3s6QmJdiQMkmm2yyyWJAMW9nSMz7YkCYtzMk5i1jQAAAAAAAYGNAZ0jM2xmSY0DOkJi3M8RjQDbZZJNN9mNAnSExb2coZEAFav1KgVpkQGyyySabjGRA1PqVArW+ZEA7Q2LezvBkQKKLLrroImVACtT6lQJVZUAAAAAAAAAAADFvZ0jM2/k/MW9nSMzbCUBlk0022WQTQDFvZ0jM2xlAf6VArV8pIEBlk0022WQjQEuBWr9SoCZAMW9nSMzbKUAXXXTRRRctQH+lQK1fKTBAchzHcRzHMUBlk0022WQzQFgK1PqVAjVAS4Fav1KgNkA++OCDDz44QDFvZ0jM2zlAJObtDIl5O0AXXXTRRRc9QArU+pUCtT5Af6VArV8pQED44IMPPvhAQHIcx3Ecx0FA61cK1PqVQkBlk0022WRDQN7OkJi3M0RAWArU+pUCRUDRRRdddNFFQEuBWr9SoEZAxLydITFvR0A++OCDDz5IQLczJObtDElAMW9nSMzbSUCrqqqqqqpKQCTm7QyJeUtAniExb2dITEAXXXTRRRdNQJGYtzMk5k1ACtT6lQK1TkCEDz744INPQH+lQK1fKVBAO0Ni3s6QUED44IMPPvhQQLV+pUCtX1FAchzHcRzHUUAuuuiiiy5SQOtXCtT6lVJAqPUrBWr9UkBlk0022WRTQCIxb2dIzFNA3s6QmLczVECbbLLJJptUQFgK1PqVAlVAFaj1KwVqVUDRRRdddNFVQI7jOI7jOFZAS4Fav1KgVkAIH3zwwQdXQMS8nSExb1dAgVq/UqDWV0A++OCDDz5YQPuVArV+pVhAtzMk5u0MWUB00UUXXXRZQDFvZ0jM21lA7gyJeTtDWkCrqqqqqqpaQGdIzNsZEltAJObtDIl5W0Dhgw8++OBbQJ4hMW9nSFxAWr9SoNavXEAXXXTRRRddQNT6lQK1fl1AkZi3MyTmXUBNNtlkk01eQArU+pUCtV5Ax3Ecx3EcX0CEDz744INfQECtXylQ619Af6VArV8pYEBddNFFF11gQDtDYt7OkGBAGhLzdobEYED44IMPPvhgQNevFKj1K2FAtX6lQK1fYUCTTTbZZJNhQHIcx3Ecx2FAUOtXCtT6YUAuuuiiiy5iQA2JeTtDYmJA61cK1PqVYkDKJptsssliQKj1KwVq/WJAhsS8nSExY0Blk0022WRjQENi3s6QmGNAIjFvZ0jMY0AAAAAAAABkQN7OkJi3M2RAvZ0hMW9nZECbbLLJJptkQHk7Q2LezmRAWArU+pUCZUA22WSTTTZlQBWo9SsFamVA83aGxLydZUDRRRdddNFlQLAUqPUrBWZAAAAAAAAAAACrqqqqqqr6P6uqqqqqqgpAAAAAAAAAFECrqqqqqqoaQKuqqqqqqiBAAAAAAAAAJEBWVVVVVVUnQKuqqqqqqipAAAAAAAAALkCrqqqqqqowQFZVVVVVVTJAAAAAAAAANECrqqqqqqo1QFZVVVVVVTdAAAAAAAAAOUCrqqqqqqo6QFZVVVVVVTxAAAAAAAAAPkCrqqqqqqo/QKuqqqqqqkBAAAAAAACAQUBWVVVVVVVCQKuqqqqqKkNAAAAAAAAAREBWVVVVVdVEQKuqqqqqqkVAAAAAAACARkBWVVVVVVVHQKuqqqqqKkhAAAAAAAAASUBWVVVVVdVJQKuqqqqqqkpAAAAAAACAS0BWVVVVVVVMQKuqqqqqKk1AAAAAAAAATkBWVVVVVdVOQKuqqqqqqk9AAAAAAABAUECrqqqqqqpQQFZVVVVVFVFAAAAAAACAUUCrqqqqqupRQFZVVVVVVVJAAAAAAADAUkCrqqqqqipTQFZVVVVVlVNAAAAAAAAAVECrqqqqqmpUQFZVVVVV1VRAAAAAAABAVUCrqqqqqqpVQFZVVVVVFVZAAAAAAACAVkCrqqqqqupWQFZVVVVVVVdAAAAAAADAV0CrqqqqqipYQFZVVVVVlVhAAAAAAAAAWUCrqqqqqmpZQFZVVVVV1VlAAAAAAABAWkCrqqqqqqpaQFZVVVVVFVtAAAAAAACAW0CrqqqqqupbQFZVVVVVVVxAAAAAAADAXECrqqqqqipdQFZVVVVVlV1AAAAAAAAAXkCrqqqqqmpeQFZVVVVV1V5AAAAAAABAX0CrqqqqqqpfQKuqqqqqCmBAAAAAAABAYEBWVVVVVXVgQKuqqqqqqmBAAAAAAADgYEBWVVVVVRVhQKuqqqqqSmFAAAAAAACAYUBWVVVVVbVhQKuqqqqq6mFAAAAAAAAgYkBWVVVVVVViQKuqqqqqimJAAAAAAADAYkBWVVVVVfViQKuqqqqqKmNAAAAAAABgY0BWVVVVVZVjQKuqqqqqymNAAAAAAAAAZEBWVVVVVTVkQKuqqqqqamRAAAAAAACgZEBWVVVVVdVkQKuqqqqqCmVAAAAAAABAZUBWVVVVVXVlQKuqqqqqqmVAAAAAAADgZUBWVVVVVRVmQKuqqqqqSmZAAAAAAACAZkBWVVVVVbVmQAAAAAAAAAAAJObtDIl5+z8k5u0MiXkLQJtssskmmxRAJObtDIl5G0DWrxSo9SshQJtssskmmyRAYClQ61cKKEAk5u0MiXkrQOiiiy666C5A1q8UqPUrMUA5juM4juMyQJtssskmmzRA/UqBWr9SNkBgKVDrVwo4QMIHH3zwwTlAJObtDIl5O0CGxLydITE9QOiiiy666D5ApUCtXylQQEDWrxSo9StBQAgffPDBB0JAOY7jOI7jQkBq/UqBWr9DQJtssskmm0RAzNsZEvN2RUD9SoFav1JGQC666KKLLkdAYClQ61cKSECRmLczJOZIQMIHH3zwwUlA83aGxLydSkAk5u0MiXlLQFVVVVVVVUxAhsS8nSExTUC3MyTm7QxOQOiiiy666E5AGhLzdobET0ClQK1fKVBQQD744IMPvlBA1q8UqPUrUUBvZ0jM25lRQAgffPDBB1JAoNavFKh1UkA5juM4juNSQNFFF110UVNAav1KgVq/U0ACtX6lQC1UQJtssskmm1RANCTm7QwJVUDM2xkS83ZVQGWTTTbZ5FVA/UqBWr9SVkCWArV+pcBWQC666KKLLldAx3Ecx3GcV0BgKVDrVwpYQPjggw8+eFhAkZi3MyTmWEApUOtXClRZQMIHH3zwwVlAWr9SoNYvWkDzdobEvJ1aQIsuuuiiC1tAJObtDIl5W0C9nSExb+dbQFVVVVVVVVxA7gyJeTvDXECGxLydITFdQB988MEHn11AtzMk5u0MXkBQ61cK1HpeQOiiiy666F5AgVq/UqBWX0AaEvN2hsRfQNlkk002GWBApUCtXylQYEByHMdxHIdgQD744IMPvmBACtT6lQL1YEDWrxSo9SthQKOLLrroYmFAb2dIzNuZYUA7Q2LeztBhQAgffPDBB2JA1PqVArU+YkCg1q8UqHViQGyyySabrGJAOY7jOI7jYkAFav1KgRpjQNFFF110UWNAniExb2eIY0Bq/UqBWr9jQDbZZJNN9mNAArV+pUAtZEDPkJi3M2RkQJtssskmm2RAZ0jM2xnSZEA0JObtDAllQAAAAAAAQGVAzNsZEvN2ZUCYtzMk5q1lQGWTTTbZ5GVAMW9nSMwbZkD9SoFav1JmQMomm2yyiWZAlgK1fqXAZkBi3s6QmPdmQC666KKLLmdA+5UCtX5lZ0AAAAAAAAAAAJ4hMW9nSPw/niExb2dIDEA22WSTTTYVQJ4hMW9nSBxAA7V+pUCtIUA22WSTTTYlQGr9SoFavyhAniExb2dILEDSRRdddNEvQAO1fqVArTFAHcdxHMdxM0A22WSTTTY1QFDrVwrU+jZAav1KgVq/OECEDz744IM6QJ4hMW9nSDxAuDMk5u0MPkDSRRdddNE/QPYrBWr9ykBAA7V+pUCtQUAQPvjgg49CQB3HcRzHcUNAKlDrVwpUREA22WSTTTZFQENi3s6QGEZAUOtXCtT6RkBddNFFF91HQGr9SoFav0hAd4bEvJ2hSUCEDz744INKQJGYtzMkZktAniExb2dITECrqqqqqipNQLgzJObtDE5AxbydITHvTkDSRRdddNFPQG9nSMzbWVBA9isFav3KUEB88MEHHzxRQAO1fqVArVFAiXk7Q2IeUkAQPvjgg49SQJYCtX6lAFNAHcdxHMdxU0Cjiy666OJTQCpQ61cKVFRAsBSo9SvFVEA22WSTTTZVQL2dITFvp1VAQ2LezpAYVkDKJptssolWQFDrVwrU+lZA168UqPVrV0BddNFFF91XQOQ4juM4TlhAav1KgVq/WEDxwQcffDBZQHeGxLydoVlA/kqBWr8SWkCEDz744INaQAvU+pUC9VpAkZi3MyRmW0AYXXTRRddbQJ4hMW9nSFxAJObtDIm5XECrqqqqqipdQDFvZ0jMm11AuDMk5u0MXkA++OCDD35eQMW8nSEx715AS4Fav1JgX0DSRRdddNFfQCwFav1KIWBAb2dIzNtZYECzySabbJJgQPYrBWr9ymBAOY7jOI4DYUB88MEHHzxhQMBSoNavdGFAA7V+pUCtYUBGF1100eVhQIl5O0NiHmJAzNsZEvNWYkAQPvjgg49iQFOg1q8UyGJAlgK1fqUAY0DZZJNNNjljQB3HcRzHcWNAYClQ61eqY0Cjiy666OJjQObtDIl5G2RAKlDrVwpUZEBtsskmm4xkQLAUqPUrxWRA83aGxLz9ZEA22WSTTTZlQHo7Q2LebmVAvZ0hMW+nZUAAAAAAAOBlQENi3s6QGGZAh8S8nSFRZkDKJptssolmQA2JeTtDwmZAUOtXCtT6ZkCUTTbZZDNnQNevFKj1a2dAGhLzdoakZ0BddNFFF91nQKHWrxSoFWhAAAAAAAAAAAAXXXTRRRf9PxdddNFFFw1A0UUXXXTRFUAXXXTRRRcdQC666KKLLiJA0UUXXXTRJUB00UUXXXQpQBdddNFFFy1AXXTRRRddMEAuuuiiiy4yQAAAAAAAADRA0UUXXXTRNUCjiy666KI3QHTRRRdddDlARhdddNFFO0AXXXTRRRc9QOiiiy666D5AXXTRRRddQEBGF1100UVBQC666KKLLkJAF1100UUXQ0AAAAAAAABEQOmiiy666ERA0UUXXXTRRUC66KKLLrpGQKOLLrrookdAiy666KKLSEB00UUXXXRJQF100UUXXUpARhdddNFFS0Auuuiiiy5MQBdddNFFF01AAAAAAAAATkDooosuuuhOQNFFF1100U9AXXTRRRddUEDRRRdddNFQQEYXXXTRRVFAuuiiiy66UUAuuuiiiy5SQKOLLrroolJAF1100UUXU0CLLrroootTQAAAAAAAAFRAdNFFF110VEDpoosuuuhUQF100UUXXVVA0UUXXXTRVUBGF1100UVWQLrooosuulZALrrooosuV0Cjiy666KJXQBdddNFFF1hAiy666KKLWEAAAAAAAABZQHTRRRdddFlA6KKLLrroWUBddNFFF11aQNFFF1100VpARhdddNFFW0C66KKLLrpbQC666KKLLlxAo4suuuiiXEAXXXTRRRddQIsuuuiii11AAAAAAAAAXkB00UUXXXReQOiiiy666F5AXXTRRRddX0DRRRdddNFfQKOLLrroImBAXXTRRRddYEAXXXTRRZdgQNFFF1100WBAiy666KILYUBGF1100UVhQAAAAAAAgGFAuuiiiy66YUB00UUXXfRhQC666KKLLmJA6aKLLrpoYkCjiy666KJiQF100UUX3WJAF1100UUXY0DRRRdddFFjQIsuuuiii2NARhdddNHFY0AAAAAAAABkQLrooosuOmRAdNFFF110ZEAuuuiii65kQOmiiy666GRAo4suuugiZUBddNFFF11lQBdddNFFl2VA0UUXXXTRZUCLLrroogtmQEYXXXTRRWZAAAAAAACAZkC66KKLLrpmQHTRRRdd9GZALrrooosuZ0DpoosuumhnQKOLLrroomdAXXTRRRfdZ0AXXXTRRRdoQNFFF110UWhAiy666KKLaEBGF1100cVoQAAAAAAAAAAAkZi3MyTm/T+RmLczJOYNQG2yySabbBZAkZi3MyTmHUBbv1Kg1q8iQG2yySabbCZAf6VArV8pKkCRmLczJOYtQNJFF1100TBAW79SoNavMkDkOI7jOI40QG2yySabbDZA9isFav1KOEB/pUCtXyk6QAgffPDBBzxAkZi3MyTmPUAaEvN2hsQ/QNJFF1100UBAlgK1fqXAQUBbv1Kg1q9CQB988MEHn0NA5DiO4ziORECo9SsFan1FQG2yySabbEZAMW9nSMxbR0D2KwVq/UpIQLrooosuOklAf6VArV8pSkBDYt7OkBhLQAgffPDBB0xAzNsZEvP2TECRmLczJOZNQFZVVVVV1U5AGhLzdobET0BvZ0jM21lQQNJFF1100VBANCTm7QxJUUCWArV+pcBRQPjggw8+OFJAW79SoNavUkC9nSExbydTQB988MEHn1NAgVq/UqAWVEDkOI7jOI5UQEYXXXTRBVVAqPUrBWp9VUAK1PqVAvVVQG2yySabbFZAz5CYtzPkVkAxb2dIzFtXQJRNNtlk01dA9isFav1KWEBYCtT6lcJYQLrooosuOllAHcdxHMexWUB/pUCtXylaQOGDDz74oFpAQ2LezpAYW0CmQK1fKZBbQAgffPDBB1xAav1KgVp/XEDM2xkS8/ZcQC+66KKLbl1AkZi3MyTmXUDzdobEvF1eQFZVVVVV1V5AuDMk5u1MX0AaEvN2hsRfQD744IMPHmBAb2dIzNtZYECg1q8UqJVgQNJFF1100WBAA7V+pUANYUA0JObtDElhQGWTTTbZhGFAlgK1fqXAYUDHcRzHcfxhQPjggw8+OGJAKVDrVwp0YkBbv1Kg1q9iQIwuuuii62JAvZ0hMW8nY0DuDIl5O2NjQB988MEHn2NAUOtXCtTaY0CBWr9SoBZkQLPJJptsUmRA5DiO4ziOZEAVqPUrBcpkQEYXXXTRBWVAd4bEvJ1BZUCo9SsFan1lQNlkk002uWVACtT6lQL1ZUA8Q2LezjBmQG2yySabbGZAniExb2eoZkDPkJi3M+RmQAAAAAAAIGdAMW9nSMxbZ0Bi3s6QmJdnQJRNNtlk02dAxbydITEPaED2KwVq/UpoQCebbLLJhmhAWArU+pXCaECJeTtDYv5oQLrooosuOmlA61cK1Pp1aUAAAAAAAAAAAArU+pUCtf4/CtT6lQK1DkAIH3zwwQcXQArU+pUCtR5AhsS8nSExI0AIH3zwwQcnQIl5O0Ni3ipACtT6lQK1LkBGF1100UUxQIbEvJ0hMTNAx3Ecx3EcNUAIH3zwwQc3QEjM2xkS8zhAiXk7Q2LeOkDJJptsssk8QArU+pUCtT5ApUCtXylQQEBGF1100UVBQObtDIl5O0JAhsS8nSExQ0Anm2yyySZEQMdxHMdxHEVAZ0jM2xkSRkAIH3zwwQdHQKj1KwVq/UdASMzbGRLzSEDooosuuuhJQIl5O0Ni3kpAKVDrVwrUS0DJJptssslMQGr9SoFav01ACtT6lQK1TkCqqqqqqqpPQKVArV8pUFBA9SsFav3KUEBGF1100UVRQJYCtX6lwFFA5u0MiXk7UkA22WSTTbZSQIbEvJ0hMVNA1q8UqPWrU0Anm2yyySZUQHeGxLydoVRAx3Ecx3EcVUAXXXTRRZdVQGdIzNsZElZAtzMk5u2MVkAIH3zwwQdXQFgK1PqVgldAqPUrBWr9V0D44IMPPnhYQEjM2xkS81hAmLczJOZtWUDooosuuuhZQDmO4ziOY1pAiXk7Q2LeWkDZZJNNNllbQClQ61cK1FtAeTtDYt5OXEDJJptssslcQBoS83aGRF1Aav1KgVq/XUC66KKLLjpeQArU+pUCtV5AWr9SoNYvX0CqqqqqqqpfQP1KgVq/EmBApUCtXylQYEBNNtlkk41gQPUrBWr9ymBAniExb2cIYUBGF1100UVhQO4MiXk7g2FAlgK1fqXAYUA++OCDD/5hQObtDIl5O2JAjuM4juN4YkA22WSTTbZiQN7OkJi382JAhsS8nSExY0Auuuiii25jQNavFKj1q2NAfqVArV/pY0Anm2yyySZkQM+QmLczZGRAd4bEvJ2hZEAffPDBB99kQMdxHMdxHGVAb2dIzNtZZUAXXXTRRZdlQL9SoNav1GVAZ0jM2xkSZkAPPvjgg09mQLczJObtjGZAXylQ61fKZkAIH3zwwQdnQLAUqPUrRWdAWArU+pWCZ0AAAAAAAMBnQKj1KwVq/WdAUOtXCtQ6aED44IMPPnhoQKDWrxSotWhASMzbGRLzaEDwwQcffDBpQJi3MyTmbWlAQK1fKVCraUDooosuuuhpQJGYtzMkJmpAAAAAAAAAAACEDz744IP/P4QPPvjggw9Ao4suuuiiF0CEDz744IMfQLLJJptssiNAo4suuuiiJ0CUTTbZZJMrQIQPPvjggy9Auuiiiy66MUCyySabbLIzQKuqqqqqqjVAo4suuuiiN0CbbLLJJps5QJRNNtlkkztAjC666KKLPUCEDz744IM/QD744IMPvkBAuuiiiy66QUA22WSTTbZCQLLJJptsskNAL7rooouuRECrqqqqqqpFQCebbLLJpkZAo4suuuiiR0AffPDBB59IQJtssskmm0lAF1100UWXSkCUTTbZZJNLQBA++OCDj0xAjC666KKLTUAIH3zwwYdOQIQPPvjgg09AAAAAAABAUEA++OCDD75QQHzwwQcfPFFAuuiiiy66UUD44IMPPjhSQDbZZJNNtlJAdNFFF100U0CyySabbLJTQPHBBx98MFRAL7rooouuVEBtsskmmyxVQKuqqqqqqlVA6aKLLrooVkAnm2yyyaZWQGWTTTbZJFdAo4suuuiiV0Dhgw8++CBYQB988MEHn1hAXXTRRRcdWUCbbLLJJptZQNlkk002GVpAF1100UWXWkBVVVVVVRVbQJRNNtlkk1tA0kUXXXQRXEAQPvjgg49cQE422WSTDV1AjC666KKLXUDKJptssgleQAgffPDBh15ARhdddNEFX0CEDz744INfQOGDDz74AGBAAAAAAABAYEAffPDBB39gQD744IMPvmBAXXTRRRf9YEB88MEHHzxhQJtssskme2FAuuiiiy66YUDZZJNNNvlhQPjggw8+OGJAF1100UV3YkA22WSTTbZiQFVVVVVV9WJAdNFFF100Y0CTTTbZZHNjQLLJJptssmNA0kUXXXTxY0DxwQcffDBkQBA++OCDb2RAL7rooouuZEBONtlkk+1kQG2yySabLGVAjC666KJrZUCrqqqqqqplQMomm2yy6WVA6aKLLrooZkAIH3zwwWdmQCebbLLJpmZARhdddNHlZkBlk0022SRnQIQPPvjgY2dAo4suuuiiZ0DCBx988OFnQOGDDz74IGhAAAAAAABgaEAffPDBB59oQD744IMP3mhAXXTRRRcdaUB88MEHH1xpQJtssskmm2lAuuiiiy7aaUDZZJNNNhlqQPjggw8+WGpAF1100UWXakA22WSTTdZqQAAAAAAAAAAAf6VArV8pAEB/pUCtXykQQD744IMPPhhAf6VArV8pIEDfzpCYtzMkQD744IMPPihAniExb2dILEB/pUCtXykwQC+66KKLLjJA386QmLczNECP4ziO4zg2QD744IMPPjhA7gyJeTtDOkCeITFvZ0g8QE422WSTTT5Af6VArV8pQEDXrxSo9StBQC+66KKLLkJAh8S8nSExQ0DfzpCYtzNEQDfZZJNNNkVAj+M4juM4RkDn7QyJeTtHQD744IMPPkhAlgK1fqVASUDuDIl5O0NKQEYXXXTRRUtAniExb2dITED2KwVq/UpNQE422WSTTU5ApkCtXylQT0B/pUCtXylQQKuqqqqqqlBA168UqPUrUUADtX6lQK1RQC+66KKLLlJAW79SoNavUkCHxLydITFTQLPJJptsslNA386QmLczVEAL1PqVArVUQDfZZJNNNlVAY97OkJi3VUCP4ziO4zhWQLvooosuulZA5+0MiXk7V0AT83aGxLxXQD744IMPPlhAav1KgVq/WECWArV+pUBZQMIHH3zwwVlA7gyJeTtDWkAaEvN2hsRaQEYXXXTRRVtAchzHcRzHW0CeITFvZ0hcQMomm2yyyVxA9isFav1KXUAiMW9nSMxdQE422WSTTV5AejtDYt7OXkCmQK1fKVBfQNJFF1100V9Af6VArV8pYEAVqPUrBWpgQKuqqqqqqmBAQa1fKVDrYEDXrxSo9SthQG2yySabbGFAA7V+pUCtYUCZtzMk5u1hQC+66KKLLmJAxbydITFvYkBbv1Kg1q9iQPHBBx988GJAh8S8nSExY0Adx3Ecx3FjQLPJJptssmNASczbGRLzY0DfzpCYtzNkQHXRRRdddGRAC9T6lQK1ZECh1q8UqPVkQDfZZJNNNmVAzdsZEvN2ZUBj3s6QmLdlQPnggw8++GVAj+M4juM4ZkAl5u0MiXlmQLvooosuumZAUetXCtT6ZkDn7QyJeTtnQH3wwQcffGdAE/N2hsS8Z0Cp9SsFav1nQD744IMPPmhA1PqVArV+aEBq/UqBWr9oQAAAAAAAAGlAlgK1fqVAaUAsBWr9SoFpQMIHH3zwwWlAWArU+pUCakDuDIl5O0NqQIQPPvjgg2pAGhLzdobEakCwFKj1KwVrQEYXXXTRRWtA3BkS83aGa0AAAAAAAAAAADtDYt7OkABAO0Ni3s6QEEDYZJNNNtkYQDtDYt7OkCBACtT6lQK1JEDYZJNNNtkoQKf1KwVq/SxAO0Ni3s6QMECiiy666KIyQArU+pUCtTRAcRzHcRzHNkDYZJNNNtk4QECtXylQ6zpAp/UrBWr9PEAPPvjggw8/QDtDYt7OkEBAb2dIzNuZQUCiiy666KJCQNavFKj1q0NACtT6lQK1REA9+OCDD75FQHEcx3Ecx0ZApUCtXynQR0DYZJNNNtlIQAyJeTtD4klAQK1fKVDrSkB00UUXXfRLQKf1KwVq/UxA2xkS83YGTkAPPvjggw9PQCExb2dIDFBAO0Ni3s6QUEBVVVVVVRVRQG9nSMzbmVFAiXk7Q2IeUkCiiy666KJSQLydITFvJ1NA1q8UqPWrU0DwwQcffDBUQArU+pUCtVRAJObtDIk5VUA9+OCDD75VQFcK1PqVQlZAcRzHcRzHVkCLLrrooktXQKVArV8p0FdAv1Kg1q9UWEDYZJNNNtlYQPJ2hsS8XVlADIl5O0PiWUAmm2yyyWZaQECtXylQ61pAWr9SoNZvW0B00UUXXfRbQI3jOI7jeFxAp/UrBWr9XEDBBx988IFdQNsZEvN2Bl5A9SsFav2KXkAPPvjggw9fQChQ61cKlF9AITFvZ0gMYEAuuuiii05gQDtDYt7OkGBASMzbGRLTYEBVVVVVVRVhQGLezpCYV2FAb2dIzNuZYUB88MEHH9xhQIl5O0NiHmJAlQK1fqVgYkCiiy666KJiQK8UqPUr5WJAvJ0hMW8nY0DJJptssmljQNavFKj1q2NA4ziO4zjuY0DwwQcffDBkQP1KgVq/cmRACtT6lQK1ZEAXXXTRRfdkQCTm7QyJOWVAMW9nSMx7ZUA9+OCDD75lQEqBWr9SAGZAVwrU+pVCZkBkk0022YRmQHEcx3Ecx2ZAfqVArV8JZ0CLLrrooktnQJi3MyTmjWdApUCtXynQZ0CyySabbBJoQL9SoNavVGhAzNsZEvOWaEDYZJNNNtloQOXtDIl5G2lA8naGxLxdaUD//////59pQAyJeTtD4mlAGRLzdoYkakAmm2yyyWZqQDMk5u0MqWpAQK1fKVDrakBNNtlkky1rQFq/UqDWb2tAZ0jM2xmya0B00UUXXfRrQIBav1KgNmxAAAAAAAAAAAD44IMPPvgAQPjggw8++BBAdNFFF110GUD44IMPPvggQDbZZJNNNiVAdNFFF110KUCyySabbLItQPjggw8++DBAF1100UUXM0A22WSTTTY1QFVVVVVVVTdAdNFFF110OUCTTTbZZJM7QLLJJptssj1A0UUXXXTRP0D44IMPPvhAQAgffPDBB0JAF1100UUXQ0Amm2yyySZEQDbZZJNNNkVARhdddNFFRkBVVVVVVVVHQGSTTTbZZEhAdNFFF110SUCEDz744INKQJNNNtlkk0tAoosuuuiiTECyySabbLJNQMIHH3zwwU5A0UUXXXTRT0DwwQcffHBQQPjggw8++FBAAAAAAACAUUAIH3zwwQdSQA8++OCDj1JAF1100UUXU0AffPDBB59TQCabbLLJJlRALrrooouuVEA22WSTTTZVQD744IMPvlVARhdddNFFVkBNNtlkk81WQFVVVVVVVVdAXXTRRRfdV0Bkk0022WRYQGyyySab7FhAdNFFF110WUB88MEHH/xZQIQPPvjgg1pAiy666KILW0CTTTbZZJNbQJtssskmG1xAoosuuuiiXECqqqqqqipdQLLJJptssl1Auuiiiy46XkDCBx988MFeQMkmm2yySV9A0UUXXXTRX0BssskmmyxgQPDBBx98cGBAdNFFF120YED44IMPPvhgQHzwwQcfPGFAAAAAAACAYUCEDz744MNhQAgffPDBB2JAiy666KJLYkAPPvjgg49iQJNNNtlk02JAF1100UUXY0CbbLLJJltjQB988MEHn2NAo4suuujiY0Amm2yyySZkQKqqqqqqamRALrrooouuZECyySabbPJkQDbZZJNNNmVAuuiiiy56ZUA++OCDD75lQMIHH3zwAWZARhdddNFFZkDJJptssolmQE022WSTzWZA0UUXXXQRZ0BVVVVVVVVnQNlkk002mWdAXXTRRRfdZ0Dhgw8++CBoQGSTTTbZZGhA6KKLLrqoaEBssskmm+xoQPDBBx98MGlAdNFFF110aUD44IMPPrhpQHzwwQcf/GlAAAAAAABAakCEDz744INqQAcffPDBx2pAiy666KILa0APPvjgg09rQJNNNtlkk2tAF1100UXXa0CbbLLJJhtsQB988MEHX2xAoosuuuiibEAmm2yyyeZsQAAAAAAAAAAAtX6lQK1fAUC1fqVArV8RQBA++OCDDxpAtX6lQK1fIUBi3s6QmLclQBA++OCDDypAvZ0hMW9nLkC1fqVArV8xQIwuuuiiizNAYt7OkJi3NUA5juM4juM3QBA++OCDDzpA5u0MiXk7PEC9nSExb2c+QMomm2yySUBAtX6lQK1fQUCg1q8UqHVCQIwuuuiii0NAd4bEvJ2hREBi3s6QmLdFQE422WSTzUZAOY7jOI7jR0Ak5u0MiflIQBA++OCDD0pA+5UCtX4lS0Dm7QyJeTtMQNFFF110UU1AvZ0hMW9nTkCo9SsFan1PQMomm2yySVBAv1Kg1q/UUEC1fqVArV9RQKuqqqqq6lFAoNavFKh1UkCWArV+pQBTQIwuuuiii1NAgVq/UqAWVEB3hsS8naFUQG2yySabLFVAYt7OkJi3VUBYCtT6lUJWQE422WSTzVZAQ2LezpBYV0A5juM4juNXQC+66KKLblhAJObtDIn5WEAaEvN2hoRZQBA++OCDD1pABWr9SoGaWkD7lQK1fiVbQPDBBx98sFtA5u0MiXk7XEDcGRLzdsZcQNFFF110UV1Ax3Ecx3HcXUC9nSExb2deQLLJJpts8l5AqPUrBWp9X0DPkJi3MwRgQMomm2yySWBAxbydITGPYEC/UqDWr9RgQLrooosuGmFAtX6lQK1fYUCwFKj1K6VhQKuqqqqq6mFApUCtXykwYkCg1q8UqHViQJtssskmu2JAlgK1fqUAY0CRmLczJEZjQIwuuuiii2NAhsS8nSHRY0CBWr9SoBZkQHzwwQcfXGRAd4bEvJ2hZEByHMdxHOdkQG2yySabLGVAZ0jM2xlyZUBi3s6QmLdlQF100UUX/WVAWArU+pVCZkBToNavFIhmQE422WSTzWZASMzbGRITZ0BDYt7OkFhnQD744IMPnmdAOY7jOI7jZ0A0JObtDCloQC+66KKLbmhAKVDrVwq0aEAk5u0MifloQB988MEHP2lAGhLzdoaEaUAVqPUrBcppQBA++OCDD2pACtT6lQJVakAFav1KgZpqQAAAAAAA4GpA+5UCtX4la0D2KwVq/WprQPDBBx98sGtA61cK1Pr1a0Dm7QyJeTtsQOGDDz74gGxA3BkS83bGbEDXrxSo9QttQNFFF110UW1AzNsZEvOWbUAAAAAAAAAAAHIcx3EcxwFAchzHcRzHEUCrqqqqqqoaQHIcx3EcxyFAjuM4juM4JkCrqqqqqqoqQMhxHMdxHC9AchzHcRzHMUAAAAAAAAA0QI7jOI7jODZAHcdxHMdxOECrqqqqqqo6QDmO4ziO4zxAyHEcx3EcP0CrqqqqqqpAQHIcx3Ecx0FAOY7jOI7jQkAAAAAAAABEQMdxHMdxHEVAjuM4juM4RkBWVVVVVVVHQB3HcRzHcUhA5DiO4ziOSUCrqqqqqqpKQHIcx3Ecx0tAOY7jOI7jTEAAAAAAAABOQMhxHMdxHE9Ax3Ecx3EcUECrqqqqqqpQQI7jOI7jOFFAchzHcRzHUUBWVVVVVVVSQDmO4ziO41JAHcdxHMdxU0AAAAAAAABUQOQ4juM4jlRAx3Ecx3EcVUCrqqqqqqpVQI7jOI7jOFZAchzHcRzHVkBWVVVVVVVXQDmO4ziO41dAHcdxHMdxWEAAAAAAAABZQOQ4juM4jllAx3Ecx3EcWkCrqqqqqqpaQI/jOI7jOFtAchzHcRzHW0BWVVVVVVVcQDmO4ziO41xAHcdxHMdxXUAAAAAAAABeQOQ4juM4jl5AyHEcx3EcX0CrqqqqqqpfQMdxHMdxHGBAOY7jOI5jYECrqqqqqqpgQB3HcRzH8WBAjuM4juM4YUAAAAAAAIBhQHIcx3Ecx2FA5DiO4zgOYkBWVVVVVVViQMdxHMdxnGJAOY7jOI7jYkCrqqqqqipjQB3HcRzHcWNAjuM4juO4Y0AAAAAAAABkQHIcx3EcR2RA5DiO4ziOZEBWVVVVVdVkQMdxHMdxHGVAOY7jOI5jZUCrqqqqqqplQB3HcRzH8WVAjuM4juM4ZkAAAAAAAIBmQHIcx3Ecx2ZA5DiO4zgOZ0BWVVVVVVVnQMdxHMdxnGdAOY7jOI7jZ0CrqqqqqipoQB3HcRzHcWhAj+M4juO4aEAAAAAAAABpQHIcx3EcR2lA5DiO4ziOaUBWVVVVVdVpQMdxHMdxHGpAOY7jOI5jakCrqqqqqqpqQB3HcRzH8WpAj+M4juM4a0AAAAAAAIBrQHIcx3Ecx2tA5DiO4zgObEBWVVVVVVVsQMdxHMdxnGxAOY7jOI7jbECrqqqqqiptQB3HcRzHcW1Aj+M4juO4bUAAAAAAAABuQHIcx3EcR25AAAAAAAAAAAAuuuiiiy4CQC666KKLLhJARRdddNFFG0Auuuiiiy4iQLrooosuuiZARRdddNFFK0DQRRdddNEvQC666KKLLjJAdNFFF110NEC66KKLLro2QP///////zhARRdddNFFO0CLLrrooos9QNBFF1100T9Aiy666KILQUAuuuiiiy5CQNFFF110UUNAdNFFF110REAXXXTRRZdFQLrooosuukZAXHTRRRfdR0D///////9IQKKLLrroIkpARRdddNFFS0DooosuumhMQIsuuuiii01ALrrooouuTkDQRRdddNFPQLrooosuelBAiy666KILUUBddNFFF51RQC666KKLLlJA//////+/UkDRRRdddFFTQKKLLrro4lNAdNFFF110VEBFF1100QVVQBdddNFFl1VA6KKLLrooVkC66KKLLrpWQIsuuuiiS1dAXHTRRRfdV0Auuuiii25YQP///////1hA0UUXXXSRWUCiiy666CJaQHTRRRddtFpARRdddNFFW0AWXXTRRddbQOiiiy66aFxAueiiiy76XECLLrroootdQFx00UUXHV5ALrrooouuXkD//////z9fQNBFF1100V9A0UUXXXQxYEC66KKLLnpgQKKLLrrowmBAiy666KILYUB00UUXXVRhQF100UUXnWFARRdddNHlYUAuuuiiiy5iQBdddNFFd2JA//////+/YkDooosuughjQNFFF110UWNAuuiiiy6aY0Ciiy666OJjQIsuuuiiK2RAdNFFF110ZEBcdNFFF71kQEUXXXTRBWVALrroootOZUAXXXTRRZdlQP//////32VA6KKLLrooZkDRRRdddHFmQLrooosuumZAoosuuugCZ0CLLrrooktnQHTRRRddlGdAXHTRRRfdZ0BFF1100SVoQC666KKLbmhAF1100UW3aED///////9oQOiiiy66SGlA0UUXXXSRaUC56KKLLtppQKKLLrroImpAiy666KJrakB00UUXXbRqQFx00UUX/WpARRdddNFFa0Auuuiii45rQBZddNFF12tA//////8fbEDooosuumhsQNFFF110sWxAueiiiy76bECiiy666EJtQIsuuuiii21Ac9FFF13UbUBcdNFFFx1uQEUXXXTRZW5ALrrooouubkAWXXTRRfduQAAAAAAAAAAA61cK1PqVAkDrVwrU+pUSQOCDDz744BtA61cK1PqVIkDm7QyJeTsnQOCDDz744CtA7gyJeTtDMEDrVwrU+pUyQOiiiy666DRA5u0MiXk7N0DjOI7jOI45QOCDDz744DtA3s6QmLczPkDuDIl5O0NAQGyyySabbEFA61cK1PqVQkBq/UqBWr9DQOiiiy666ERAZ0jM2xkSRkDm7QyJeTtHQGSTTTbZZEhA4ziO4ziOSUBi3s6QmLdKQOCDDz744EtAXylQ61cKTUDezpCYtzNOQF100UUXXU9A7gyJeTtDUECtXylQ69dQQGyyySabbFFALAVq/UoBUkDrVwrU+pVSQKqqqqqqKlNAav1KgVq/U0ApUOtXClRUQOiiiy666FRAqPUrBWp9VUBnSMzbGRJWQCabbLLJplZA5u0MiXk7V0ClQK1fKdBXQGSTTTbZZFhAJObtDIn5WEDjOI7jOI5ZQKKLLrroIlpAYt7OkJi3WkAhMW9nSExbQOCDDz744FtAoNavFKh1XEBfKVDrVwpdQB988MEHn11A3s6QmLczXkCdITFvZ8heQF100UUXXV9AHMdxHMfxX0DuDIl5O0NgQE022WSTjWBArV8pUOvXYEANiXk7QyJhQGyyySabbGFAzNsZEvO2YUAsBWr9SgFiQIsuuuiiS2JA61cK1PqVYkBLgVq/UuBiQKqqqqqqKmNACtT6lQJ1Y0Bq/UqBWr9jQMkmm2yyCWRAKVDrVwpUZECJeTtDYp5kQOiiiy666GRASMzbGRIzZUCo9SsFan1lQAcffPDBx2VAZ0jM2xkSZkDHcRzHcVxmQCabbLLJpmZAhsS8nSHxZkDm7QyJeTtnQEUXXXTRhWdApUCtXynQZ0AFav1KgRpoQGSTTTbZZGhAxLydITGvaEAk5u0MifloQIMPPvjgQ2lA4ziO4ziOaUBDYt7OkNhpQKKLLrroImpAArV+pUBtakBi3s6QmLdqQMEHH3zwAWtAITFvZ0hMa0CBWr9SoJZrQOCDDz744GtAQK1fKVArbECg1q8UqHVsQAAAAAAAwGxAXylQ61cKbUC/UqDWr1RtQB988MEHn21AfqVArV/pbUDezpCYtzNuQD744IMPfm5AnSExb2fIbkD9SoFavxJvQF100UUXXW9AvJ0hMW+nb0AAAAAAAAAAAKj1KwVq/QJAqPUrBWr9EkB88MEHH3wcQKj1KwVq/SJAEvN2hsS8J0B88MEHH3wsQPN2hsS8nTBAqPUrBWr9MkBddNFFF101QBLzdobEvDdAx3Ecx3EcOkB88MEHH3w8QDFvZ0jM2z5A83aGxLydQEBONtlkk81BQKj1KwVq/UJAArV+pUAtREBddNFFF11FQLgzJObtjEZAEvN2hsS8R0Bssskmm+xIQMdxHMdxHEpAIjFvZ0hMS0B88MEHH3xMQNavFKj1q01AMW9nSMzbTkBGF1100QVQQPN2hsS8nVBAoNavFKg1UUBONtlkk81RQPuVArV+ZVJAqPUrBWr9UkBVVVVVVZVTQAK1fqVALVRAsBSo9SvFVEBddNFFF11VQArU+pUC9VVAuDMk5u2MVkBlk0022SRXQBLzdobEvFdAv1Kg1q9UWEBssskmm+xYQBoS83aGhFlAx3Ecx3EcWkB00UUXXbRaQCIxb2dITFtAz5CYtzPkW0B88MEHH3xcQClQ61cKFF1A1q8UqPWrXUCEDz744ENeQDFvZ0jM215A3s6QmLdzX0BGF1100QVgQBzHcRzHUWBA83aGxLydYEDKJptssulgQKDWrxSoNWFAd4bEvJ2BYUBONtlkk81hQCTm7QyJGWJA+5UCtX5lYkDRRRdddLFiQKj1KwVq/WJAf6VArV9JY0BVVVVVVZVjQCwFav1K4WNAArV+pUAtZEDZZJNNNnlkQLAUqPUrxWRAhsS8nSERZUBddNFFF11lQDQk5u0MqWVACtT6lQL1ZUDhgw8++EBmQLgzJObtjGZAjuM4juPYZkBlk0022SRnQDtDYt7OcGdAEvN2hsS8Z0DpoosuughoQL9SoNavVGhAlgK1fqWgaEBssskmm+xoQENi3s6QOGlAGhLzdoaEaUDwwQcffNBpQMdxHMdxHGpAniExb2doakB00UUXXbRqQEuBWr9SAGtAIjFvZ0hMa0D44IMPPphrQM+QmLcz5GtApUCtXykwbEB88MEHH3xsQFOg1q8UyGxAKVDrVwoUbUAAAAAAAGBtQNavFKj1q21ArV8pUOv3bUCEDz744ENuQFq/UqDWj25AMW9nSMzbbkAIH3zwwSdvQN7OkJi3c29AtX6lQK2/b0BGF1100QVwQDFvZ0jMK3BAAAAAAAAAAABlk0022WQDQGWTTTbZZBNAGF100UUXHUBlk0022WQjQD744IMPPihAGF100UUXLUD44IMPPvgwQGWTTTbZZDNA0kUXXXTRNUA++OCDDz44QKuqqqqqqjpAGF100UUXPUCEDz744IM/QPjggw8++EBAL7rooosuQkBlk0022WRDQJtssskmm0RA0kUXXXTRRUAIH3zwwQdHQD744IMPPkhAddFFF110SUCrqqqqqqpKQOGDDz744EtAGF100UUXTUBONtlkk01OQIQPPvjgg09AXXTRRRddUED44IMPPvhQQJRNNtlkk1FAL7rooosuUkDKJptssslSQGWTTTbZZFNAAAAAAAAAVECbbLLJJptUQDbZZJNNNlVA0kUXXXTRVUBtsskmm2xWQAgffPDBB1dAo4suuuiiV0A++OCDDz5YQNlkk0022VhAddFFF110WUAQPvjggw9aQKuqqqqqqlpARhdddNFFW0Dhgw8++OBbQHzwwQcffFxAGF100UUXXUCzySabbLJdQE422WSTTV5A6aKLLrroXkCEDz744INfQBA++OCDD2BAXXTRRRddYECrqqqqqqpgQPjggw8++GBARhdddNFFYUCUTTbZZJNhQOGDDz744GFAL7rooosuYkB88MEHH3xiQMomm2yyyWJAF1100UUXY0Blk0022WRjQLPJJptssmNAAAAAAAAAZEBONtlkk01kQJtssskmm2RA6aKLLrroZEA22WSTTTZlQIQPPvjgg2VA0kUXXXTRZUAffPDBBx9mQG2yySabbGZAuuiiiy66ZkAIH3zwwQdnQFZVVVVVVWdAo4suuuiiZ0DxwQcffPBnQD744IMPPmhAjC666KKLaEDZZJNNNtloQCebbLLJJmlAddFFF110aUDCBx988MFpQBA++OCDD2pAXXTRRRddakCrqqqqqqpqQPjggw8++GpARhdddNFFa0CUTTbZZJNrQOGDDz744GtAL7rooosubEB88MEHH3xsQMomm2yyyWxAGF100UUXbUBlk0022WRtQLPJJptssm1AAAAAAAAAbkBONtlkk01uQJtssskmm25A6aKLLrrobkA32WSTTTZvQIQPPvjgg29A0kUXXXTRb0AQPvjggw9wQDbZZJNNNnBAXXTRRRddcECEDz744INwQAAAAAAAAAAAIjFvZ0jMA0AiMW9nSMwTQLPJJptssh1AIjFvZ0jMI0Bq/UqBWr8oQLPJJptssi1A/kqBWr9SMUAiMW9nSMwzQEYXXXTRRTZAav1KgVq/OECP4ziO4zg7QLPJJptssj1A7FcK1PoVQED+SoFav1JBQBA++OCDj0JAIjFvZ0jMQ0A0JObtDAlFQEYXXXTRRUZAWArU+pWCR0Bq/UqBWr9IQH3wwQcf/ElAj+M4juM4S0Ch1q8UqHVMQLPJJptssk1AxbydITHvTkDsVwrU+hVQQHXRRRddtFBA/kqBWr9SUUCHxLydIfFRQBA++OCDj1JAmbczJOYtU0AiMW9nSMxTQKuqqqqqalRANCTm7QwJVUC9nSExb6dVQEYXXXTRRVZAz5CYtzPkVkBYCtT6lYJXQOGDDz74IFhAav1KgVq/WED0dobEvF1ZQH3wwQcf/FlABmr9SoGaWkCP4ziO4zhbQBhddNFF11tAodavFKh1XEAqUOtXChRdQLPJJptssl1APENi3s5QXkDFvJ0hMe9eQE422WSTjV9A7FcK1PoVYECwFKj1K2VgQHXRRRddtGBAOY7jOI4DYUD+SoFav1JhQMIHH3zwoWFAh8S8nSHxYUBLgVq/UkBiQBA++OCDj2JA1PqVArXeYkCZtzMk5i1jQF100UUXfWNAIjFvZ0jMY0Dn7QyJeRtkQKuqqqqqamRAcGdIzNu5ZEA0JObtDAllQPnggw8+WGVAvZ0hMW+nZUCCWr9SoPZlQEYXXXTRRWZAC9T6lQKVZkDPkJi3M+RmQJRNNtlkM2dAWArU+pWCZ0Adx3Ecx9FnQOGDDz74IGhApkCtXylwaEBq/UqBWr9oQC+66KKLDmlA9HaGxLxdaUC4MyTm7axpQH3wwQcf/GlAQa1fKVBLakAGav1KgZpqQMomm2yy6WpAj+M4juM4a0BToNavFIhrQBhddNFF12tA3BkS83YmbECh1q8UqHVsQGWTTTbZxGxAKlDrVwoUbUDuDIl5O2NtQLPJJptssm1AeIbEvJ0BbkA8Q2LezlBuQAEAAAAAoG5AxbydITHvbkCKeTtDYj5vQE422WSTjW9AE/N2hsTcb0DsVwrU+hVwQE422WSTPXBAsBSo9StlcEAS83aGxIxwQHXRRRddtHBA168UqPXbcEAAAAAAAAAAAN7OkJi3MwRA3s6QmLczFEBNNtlkk00eQN7OkJi3MyRAlgK1fqVAKUBNNtlkk00uQAK1fqVArTFA3s6QmLczNEC66KKLLro2QJYCtX6lQDlAcRzHcRzHO0BNNtlkk00+QBSo9SsFakBAArV+pUCtQUDwwQcffPBCQN7OkJi3M0RAzNsZEvN2RUC66KKLLrpGQKj1KwVq/UdAlgK1fqVASUCDDz744INKQHEcx3Ecx0tAXylQ61cKTUBNNtlkk01OQDtDYt7OkE9AFKj1KwVqUECLLrroogtRQAK1fqVArVFAeTtDYt5OUkDwwQcffPBSQGdIzNsZklNA3s6QmLczVEBVVVVVVdVUQMzbGRLzdlVAQ2LezpAYVkC66KKLLrpWQDFvZ0jMW1dAqPUrBWr9V0AffPDBB59YQJYCtX6lQFlADIl5O0PiWUCDDz744INaQPqVArV+JVtAcRzHcRzHW0DooosuumhcQF8pUOtXCl1A1q8UqPWrXUBNNtlkk01eQMS8nSEx715AO0Ni3s6QX0DZZJNNNhlgQBSo9SsFamBAUOtXCtS6YECLLrroogthQMdxHMdxXGFAArV+pUCtYUA++OCDD/5hQHk7Q2LeTmJAtX6lQK2fYkDwwQcffPBiQCwFav1KQWNAZ0jM2xmSY0Cjiy666OJjQN7OkJi3M2RAGRLzdoaEZEBVVVVVVdVkQJCYtzMkJmVAzNsZEvN2ZUAHH3zwwcdlQENi3s6QGGZAfqVArV9pZkC66KKLLrpmQPUrBWr9CmdAMW9nSMxbZ0Bssskmm6xnQKj1KwVq/WdA4ziO4zhOaEAffPDBB59oQFq/UqDW72hAlgK1fqVAaUDRRRdddJFpQAyJeTtD4mlASMzbGRIzakCDDz744INqQL9SoNav1GpA+pUCtX4la0A22WSTTXZrQHEcx3Ecx2tArV8pUOsXbEDooosuumhsQCTm7QyJuWxAXylQ61cKbUCbbLLJJlttQNavFKj1q21AEvN2hsT8bUBNNtlkk01uQIh5O0Ninm5AxLydITHvbkD//////z9vQDtDYt7OkG9AdobEvJ3hb0DZZJNNNhlwQHeGxLydQXBAFKj1KwVqcECyySabbJJwQFDrVwrUunBA7gyJeTvjcECLLrroogtxQClQ61cKNHFAAAAAAAAAAACbbLLJJpsEQJtssskmmxRA6KKLLrroHkCbbLLJJpskQMIHH3zwwSlA6KKLLrroLkAIH3zwwQcyQJtssskmmzRALrrooosuN0DCBx988ME5QFVVVVVVVTxA6KKLLrroPkA++OCDD75AQAgffPDBB0JA0UUXXXRRQ0CbbLLJJptEQGWTTTbZ5EVALrrooosuR0D44IMPPnhIQMIHH3zwwUlAiy666KILS0BVVVVVVVVMQB988MEHn01A6KKLLrroTkDZZJNNNhlQQD744IMPvlBAo4suuuhiUUAIH3zwwQdSQGyyySabrFJA0UUXXXRRU0A22WSTTfZTQJtssskmm1RAAAAAAABAVUBlk0022eRVQMomm2yyiVZALrrooosuV0CTTTbZZNNXQPjggw8+eFhAXXTRRRcdWUDCBx988MFZQCebbLLJZlpAiy666KILW0DwwQcffLBbQFVVVVVVVVxAuuiiiy76XEAffPDBB59dQIQPPvjgQ15A6KKLLrroXkBNNtlkk41fQNlkk002GWBAjC666KJrYEA++OCDD75gQPDBBx98EGFAo4suuuhiYUBVVVVVVbVhQAgffPDBB2JAuuiiiy5aYkBssskmm6xiQB988MEH/2JA0UUXXXRRY0CEDz744KNjQDbZZJNN9mNA6aKLLrpIZECbbLLJJptkQE022WST7WRAAAAAAABAZUCyySabbJJlQGWTTTbZ5GVAF1100UU3ZkDKJptssolmQHzwwQcf3GZALrrooosuZ0Dhgw8++IBnQJNNNtlk02dARhdddNElaED44IMPPnhoQKqqqqqqymhAXXTRRRcdaUAPPvjgg29pQMIHH3zwwWlAdNFFF10UakAnm2yyyWZqQNlkk002uWpAiy666KILa0A++OCDD15rQPDBBx98sGtAo4suuugCbEBVVVVVVVVsQAgffPDBp2xAuuiiiy76bEBssskmm0xtQB988MEHn21A0UUXXXTxbUCEDz744ENuQDbZZJNNlm5A6KKLLrrobkCbbLLJJjtvQE022WSTjW9AAAAAAADgb0DZZJNNNhlwQLLJJptsQnBAjC666KJrcEBlk0022ZRwQD744IMPvnBAF1100UXncEDwwQcffBBxQMomm2yyOXFAo4suuuhicUB88MEHH4xxQAAAAAAAAAAAWArU+pUCBUBYCtT6lQIVQIQPPvjggx9AWArU+pUCJUDuDIl5O0MqQIQPPvjggy9ADYl5O0NiMkBYCtT6lQI1QKOLLrroojdA7gyJeTtDOkA5juM4juM8QIQPPvjggz9AaEjM2xkSQUANiXk7Q2JCQLLJJptsskNAWArU+pUCRUD+SoFav1JGQKOLLrrookdASMzbGRLzSEDuDIl5O0NKQJRNNtlkk0tAOY7jOI7jTEDezpCYtzNOQIQPPvjgg09AFaj1KwVqUEBoSMzbGRJRQLrooosuulFADYl5O0NiUkBgKVDrVwpTQLLJJptsslNABWr9SoFaVEBYCtT6lQJVQKuqqqqqqlVA/kqBWr9SVkBQ61cK1PpWQKOLLrrooldA9isFav1KWEBIzNsZEvNYQJtssskmm1lA7gyJeTtDWkBBrV8pUOtaQJRNNtlkk1tA5u0MiXk7XEA5juM4juNcQIwuuuiii11A3s6QmLczXkAxb2dIzNteQIQPPvjgg19A61cK1PoVYEAVqPUrBWpgQD744IMPvmBAaEjM2xkSYUCRmLczJGZhQLrooosuumFA5DiO4zgOYkANiXk7Q2JiQDbZZJNNtmJAYClQ61cKY0CJeTtDYl5jQLLJJptssmNA3BkS83YGZEAFav1KgVpkQC+66KKLrmRAWArU+pUCZUCBWr9SoFZlQKuqqqqqqmVA1PqVArX+ZUD+SoFav1JmQCebbLLJpmZAUOtXCtT6ZkB6O0Ni3k5nQKOLLrroomdAzNsZEvP2Z0D2KwVq/UpoQB988MEHn2hASMzbGRLzaEByHMdxHEdpQJtssskmm2lAxbydITHvaUDuDIl5O0NqQBdddNFFl2pAQa1fKVDrakBq/UqBWj9rQJRNNtlkk2tAvZ0hMW/na0Dm7QyJeTtsQBA++OCDj2xAOY7jOI7jbEBi3s6QmDdtQIwuuuiii21AtX6lQK3fbUDezpCYtzNuQAgffPDBh25AMW9nSMzbbkBbv1Kg1i9vQIQPPvjgg29ArV8pUOvXb0DrVwrU+hVwQAAAAAAAQHBAFaj1KwVqcEApUOtXCpRwQD744IMPvnBAU6DWrxTocEBoSMzbGRJxQHzwwQcfPHFAkZi3MyRmcUCmQK1fKZBxQLrooosuunFAz5CYtzPkcUAAAAAAAAAAABWo9SsFagVAFaj1KwVqFUAQPvjggw8gQBWo9SsFaiVAGhLzdobEKkAQPvjggw8wQBLzdobEvDJAFaj1KwVqNUAYXXTRRRc4QBoS83aGxDpAHcdxHMdxPUAQPvjggw9AQJGYtzMkZkFAEvN2hsS8QkCUTTbZZBNEQBWo9SsFakVAlgK1fqXARkAYXXTRRRdIQJm3MyTmbUlAGhLzdobESkCcbLLJJhtMQB3HcRzHcU1AniExb2fITkAQPvjggw9QQFDrVwrUulBAkZi3MyRmUUDSRRdddBFSQBLzdobEvFJAU6DWrxRoU0CUTTbZZBNUQNT6lQK1vlRAFaj1KwVqVUBWVVVVVRVWQJYCtX6lwFZA168UqPVrV0AYXXTRRRdYQFgK1PqVwlhAmbczJOZtWUDaZJNNNhlaQBoS83aGxFpAW79SoNZvW0CcbLLJJhtcQNwZEvN2xlxAHcdxHMdxXUBedNFFFx1eQJ4hMW9nyF5A386QmLdzX0AQPvjggw9gQLAUqPUrZWBAUOtXCtS6YEDxwQcffBBhQJGYtzMkZmFAMW9nSMy7YUDSRRdddBFiQHIcx3EcZ2JAEvN2hsS8YkCzySabbBJjQFOg1q8UaGNA83aGxLy9Y0CUTTbZZBNkQDQk5u0MaWRA1PqVArW+ZEB10UUXXRRlQBWo9SsFamVAtX6lQK2/ZUBWVVVVVRVmQPYrBWr9amZAlgK1fqXAZkA32WSTTRZnQNevFKj1a2dAd4bEvJ3BZ0AYXXTRRRdoQLgzJObtbGhAWArU+pXCaED54IMPPhhpQJm3MyTmbWlAOY7jOI7DaUDaZJNNNhlqQHo7Q2LebmpAGhLzdobEakC76KKLLhprQFu/UqDWb2tA+5UCtX7Fa0CcbLLJJhtsQDxDYt7OcGxA3BkS83bGbEB98MEHHxxtQB3HcRzHcW1AvZ0hMW/HbUBedNFFFx1uQP5KgVq/cm5AniExb2fIbkA/+OCDDx5vQN/OkJi3c29Af6VArV/Jb0AQPvjggw9wQGApUOtXOnBAsBSo9StlcEAAAAAAAJBwQFDrVwrUunBAodavFKjlcEDxwQcffBBxQEGtXylQO3FAkZi3MyRmcUDhgw8++JBxQDFvZ0jMu3FAglq/UqDmcUDSRRdddBFyQCIxb2dIPHJAAAAAAAAAAADRRRdddNEFQNFFF1100RVAXXTRRRddIEDRRRdddNElQEUXXXTRRStAXXTRRRddMEAXXXTRRRczQNFFF1100TVAiy666KKLOEBFF1100UU7QP///////z1AXXTRRRddQEC66KKLLrpBQBdddNFFF0NAdNFFF110REDRRRdddNFFQC666KKLLkdAiy666KKLSEDooosuuuhJQEUXXXTRRUtAoosuuuiiTED///////9NQFx00UUXXU9AXXTRRRddUECLLrroogtRQLrooosuulFA6KKLLrpoUkAXXXTRRRdTQEUXXXTRxVNAdNFFF110VECiiy666CJVQNFFF1100VVAAAAAAACAVkAuuuiiiy5XQF100UUX3VdAiy666KKLWEC66KKLLjpZQOiiiy666FlAF1100UWXWkBFF1100UVbQHTRRRdd9FtAoosuuuiiXEDRRRdddFFdQP///////11ALrrooouuXkBcdNFFF11fQEUXXXTRBWBAXXTRRRddYEB00UUXXbRgQIsuuuiiC2FAo4suuuhiYUC66KKLLrphQNFFF110EWJA6KKLLrpoYkAAAAAAAMBiQBdddNFFF2NALrroootuY0BFF1100cVjQF100UUXHWRAdNFFF110ZECLLrroostkQKKLLrroImVAuuiiiy56ZUDRRRdddNFlQOiiiy66KGZAAAAAAACAZkAXXXTRRddmQC666KKLLmdARRdddNGFZ0BddNFFF91nQHTRRRddNGhAiy666KKLaECiiy666OJoQLrooosuOmlA0UUXXXSRaUDooosuuuhpQP//////P2pAF1100UWXakAuuuiii+5qQEUXXXTRRWtAXXTRRReda0B00UUXXfRrQIsuuuiiS2xAoosuuuiibEC66KKLLvpsQNFFF110UW1A6KKLLrqobUD///////9tQBdddNFFV25ALrrooouubkBFF1100QVvQFx00UUXXW9AdNFFF120b0BFF1100QVwQNFFF110MXBAXXTRRRddcEDooosuuohwQHTRRRddtHBAAAAAAADgcECLLrroogtxQBdddNFFN3FAo4suuuhicUAuuuiii45xQLrooosuunFARRdddNHlcUDRRRdddBFyQF100UUXPXJA6KKLLrpockB00UUXXZRyQAAAAAAAAAAAjuM4juM4BkCO4ziO4zgWQKqqqqqqqiBAjuM4juM4JkByHMdxHMcrQKqqqqqqqjBAHMdxHMdxM0CO4ziO4zg2QAAAAAAAADlAchzHcRzHO0DjOI7jOI4+QKqqqqqqqkBA4ziO4zgOQkAcx3Ecx3FDQFVVVVVV1URAjuM4juM4RkDHcRzHcZxHQAAAAAAAAElAOY7jOI5jSkByHMdxHMdLQKqqqqqqKk1A4ziO4ziOTkAcx3Ecx/FPQKqqqqqqqlBAx3Ecx3FcUUDjOI7jOA5SQAAAAAAAwFJAHMdxHMdxU0A5juM4jiNUQFVVVVVV1VRAchzHcRyHVUCO4ziO4zhWQKqqqqqq6lZAx3Ecx3GcV0DjOI7jOE5YQAAAAAAAAFlAHMdxHMexWUA5juM4jmNaQFVVVVVVFVtAchzHcRzHW0CO4ziO43hcQKqqqqqqKl1Ax3Ecx3HcXUDjOI7jOI5eQAAAAAAAQF9AHMdxHMfxX0Acx3Ecx1FgQKqqqqqqqmBAOY7jOI4DYUDHcRzHcVxhQFVVVVVVtWFA4ziO4zgOYkByHMdxHGdiQAAAAAAAwGJAjuM4juMYY0Acx3Ecx3FjQKqqqqqqymNAOY7jOI4jZEDHcRzHcXxkQFVVVVVV1WRA4ziO4zguZUByHMdxHIdlQAAAAAAA4GVAjuM4juM4ZkAcx3Ecx5FmQKqqqqqq6mZAOY7jOI5DZ0DHcRzHcZxnQFVVVVVV9WdA4ziO4zhOaEByHMdxHKdoQAAAAAAAAGlAjuM4juNYaUAcx3Ecx7FpQKqqqqqqCmpAOY7jOI5jakDHcRzHcbxqQFVVVVVVFWtA4ziO4zhua0ByHMdxHMdrQAAAAAAAIGxAjuM4juN4bEAcx3Ecx9FsQKqqqqqqKm1AOY7jOI6DbUDHcRzHcdxtQFVVVVVVNW5A4ziO4ziObkBxHMdxHOduQAAAAAAAQG9AjuM4juOYb0Acx3Ecx/FvQFVVVVVVJXBAHMdxHMdRcEDjOI7jOH5wQKqqqqqqqnBAchzHcRzXcEA5juM4jgNxQAAAAAAAMHFAx3Ecx3FccUCO4ziO44hxQFVVVVVVtXFAHMdxHMfhcUDjOI7jOA5yQKqqqqqqOnJAchzHcRxnckA5juM4jpNyQAAAAAAAwHJAx3Ecx3HsckAAAAAAAAAAAEuBWr9SoAZAS4Fav1KgFkD44IMPPvggQEuBWr9SoCZAniExb2dILED44IMPPvgwQCIxb2dIzDNAS4Fav1KgNkB00UUXXXQ5QJ4hMW9nSDxAx3Ecx3EcP0D44IMPPvhAQA2JeTtDYkJAIjFvZ0jMQ0A22WSTTTZFQEuBWr9SoEZAYClQ61cKSEB00UUXXXRJQIl5O0Ni3kpAniExb2dITECyySabbLJNQMdxHMdxHE9A7gyJeTtDUED44IMPPvhQQAO1fqVArVFADYl5O0NiUkAXXXTRRRdTQCIxb2dIzFNALAVq/UqBVEA22WSTTTZVQEGtXylQ61VAS4Fav1KgVkBVVVVVVVVXQGApUOtXClhAav1KgVq/WEB00UUXXXRZQH+lQK1fKVpAiXk7Q2LeWkCTTTbZZJNbQJ4hMW9nSFxAqPUrBWr9XECyySabbLJdQL2dITFvZ15Ax3Ecx3EcX0DRRRdddNFfQO4MiXk7Q2BA83aGxLydYED44IMPPvhgQP1KgVq/UmFAA7V+pUCtYUAIH3zwwQdiQA2JeTtDYmJAEvN2hsS8YkAXXXTRRRdjQBzHcRzHcWNAIjFvZ0jMY0Anm2yyySZkQCwFav1KgWRAMW9nSMzbZEA22WSTTTZlQDtDYt7OkGVAQa1fKVDrZUBGF1100UVmQEuBWr9SoGZAUOtXCtT6ZkBVVVVVVVVnQFu/UqDWr2dAYClQ61cKaEBlk0022WRoQGr9SoFav2hAb2dIzNsZaUB00UUXXXRpQHo7Q2LezmlAf6VArV8pakCEDz744INqQIl5O0Ni3mpAjuM4juM4a0CTTTbZZJNrQJm3MyTm7WtAniExb2dIbECjiy666KJsQKj1KwVq/WxArV8pUOtXbUCyySabbLJtQLgzJObtDG5AvZ0hMW9nbkDCBx988MFuQMdxHMdxHG9AzNsZEvN2b0DRRRdddNFvQOtXCtT6FXBA7gyJeTtDcEDwwQcffHBwQPN2hsS8nXBA9isFav3KcED44IMPPvhwQPuVArV+JXFA/UqBWr9ScUAAAAAAAIBxQAO1fqVArXFABWr9SoHacUAIH3zwwQdyQArU+pUCNXJADYl5O0NickAQPvjgg49yQBLzdobEvHJAFaj1KwXqckAXXXTRRRdzQBoS83aGRHNAAAAAAAAAAAAIH3zwwQcHQAgffPDBBxdARhdddNFFIUAIH3zwwQcnQMomm2yyySxARhdddNFFMUAnm2yyySY0QAgffPDBBzdA6aKLLrroOUDKJptsssk8QKuqqqqqqj9ARhdddNFFQUA22WSTTbZCQCebbLLJJkRAGF100UWXRUAIH3zwwQdHQPjggw8+eEhA6aKLLrroSUDaZJNNNllLQMomm2yyyUxAuuiiiy46TkCrqqqqqqpPQE422WSTjVBARhdddNFFUUA++OCDD/5RQDbZZJNNtlJAL7roootuU0Anm2yyySZUQB988MEH31RAGF100UWXVUAQPvjgg09WQAgffPDBB1dAAAAAAADAV0D44IMPPnhYQPHBBx98MFlA6aKLLrroWUDhgw8++KBaQNpkk002WVtA0kUXXXQRXEDKJptssslcQMIHH3zwgV1Auuiiiy46XkCzySabbPJeQKuqqqqqql9A0kUXXXQxYEBONtlkk41gQMomm2yy6WBARhdddNFFYUDCBx988KFhQD744IMP/mFAuuiiiy5aYkA22WSTTbZiQLPJJptsEmNAL7roootuY0CrqqqqqspjQCebbLLJJmRAo4suuuiCZEAffPDBB99kQJtssskmO2VAGF100UWXZUCUTTbZZPNlQBA++OCDT2ZAjC666KKrZkAIH3zwwQdnQIQPPvjgY2dAAAAAAADAZ0B88MEHHxxoQPjggw8+eGhAddFFF13UaEDxwQcffDBpQG2yySabjGlA6aKLLrroaUBlk0022URqQOGDDz74oGpAXXTRRRf9akDaZJNNNllrQFZVVVVVtWtA0kUXXXQRbEBONtlkk21sQMomm2yyyWxARhdddNElbUDCBx988IFtQD744IMP3m1Auuiiiy46bkA32WSTTZZuQLPJJpts8m5AL7roootOb0CrqqqqqqpvQJRNNtlkA3BA0kUXXXQxcEAQPvjgg19wQE422WSTjXBAjC666KK7cEDKJptssulwQAgffPDBF3FARhdddNFFcUCEDz744HNxQMIHH3zwoXFAAAAAAADQcUA++OCDD/5xQHzwwQcfLHJAuuiiiy5ackD44IMPPohyQDbZZJNNtnJAddFFF13kckCzySabbBJzQPHBBx98QHNAL7roootuc0Btsskmm5xzQAAAAAAAAAAAxLydITFvB0DEvJ0hMW8XQJNNNtlkkyFAxLydITFvJ0D1KwVq/UotQJNNNtlkkzFALAVq/UqBNEDEvJ0hMW83QFx00UUXXTpA9SsFav1KPUDHcRzHcRxAQJNNNtlkk0FAXylQ61cKQ0AsBWr9SoFEQPjggw8++EVAxLydITFvR0CQmLczJOZIQFx00UUXXUpAKVDrVwrUS0D1KwVq/UpNQMEHH3zwwU5Ax3Ecx3EcUECtXylQ69dQQJNNNtlkk1FAeTtDYt5OUkBfKVDrVwpTQEUXXXTRxVNALAVq/UqBVEAS83aGxDxVQPjggw8++FVA3s6QmLezVkDEvJ0hMW9XQKqqqqqqKlhAkJi3MyTmWEB2hsS8naFZQFx00UUXXVpAQ2LezpAYW0ApUOtXCtRbQA8++OCDj1xA9SsFav1KXUDbGRLzdgZeQMEHH3zwwV5Ap/UrBWp9X0DHcRzHcRxgQLrooosuemBArV8pUOvXYECg1q8UqDVhQJNNNtlkk2FAhsS8nSHxYUB5O0Ni3k5iQGyyySabrGJAXylQ61cKY0BSoNavFGhjQEUXXXTRxWNAOI7jOI4jZEAsBWr9SoFkQB988MEH32RAEvN2hsQ8ZUAFav1KgZplQPjggw8++GVA61cK1PpVZkDezpCYt7NmQNFFF110EWdAxLydITFvZ0C3MyTm7cxnQKqqqqqqKmhAnSExb2eIaECQmLczJOZoQIMPPvjgQ2lAdobEvJ2haUBp/UqBWv9pQFx00UUXXWpAUOtXCtS6akBDYt7OkBhrQDbZZJNNdmtAKVDrVwrUa0Acx3EcxzFsQA8++OCDj2xAArV+pUDtbED1KwVq/UptQOiiiy66qG1A2xkS83YGbkDOkJi3M2RuQMEHH3zwwW5AtH6lQK0fb0Cn9SsFan1vQJpssskm229Ax3Ecx3EccEBArV8pUEtwQLrooosuenBAMyTm7QypcECtXylQ69dwQCabbLLJBnFAoNavFKg1cUAZEvN2hmRxQJNNNtlkk3FADYl5O0PCcUCGxLydIfFxQAAAAAAAIHJAeTtDYt5OckDzdobEvH1yQGyyySabrHJA5u0MiXnbckBfKVDrVwpzQNlkk002OXNAUqDWrxRoc0DM2xkS85ZzQEUXXXTRxXNAv1Kg1q/0c0AAAAAAAAAAAIFav1Kg1gdAgVq/UqDWF0Dhgw8++OAhQIFav1Kg1idAITFvZ0jMLUDhgw8++OAxQDFvZ0jM2zRAgVq/UqDWN0DRRRdddNE6QCExb2dIzD1AOY7jOI5jQEDhgw8++OBBQIl5O0NiXkNAMW9nSMzbREDZZJNNNllGQIFav1Kg1kdAKVDrVwpUSUDRRRdddNFKQHk7Q2LeTkxAITFvZ0jMTUDJJptssklPQDmO4ziOY1BADYl5O0MiUUDhgw8++OBRQLV+pUCtn1JAiXk7Q2JeU0BddNFFFx1UQDFvZ0jM21RABWr9SoGaVUDZZJNNNllWQK1fKVDrF1dAgVq/UqDWV0BVVVVVVZVYQClQ61cKVFlA/UqBWr8SWkDRRRdddNFaQKVArV8pkFtAeTtDYt5OXEBNNtlkkw1dQCExb2dIzF1A9SsFav2KXkDJJptssklfQM+QmLczBGBAOY7jOI5jYECjiy666MJgQA2JeTtDImFAd4bEvJ2BYUDhgw8++OBhQEuBWr9SQGJAtX6lQK2fYkAffPDBB/9iQIl5O0NiXmNA83aGxLy9Y0BddNFFFx1kQMdxHMdxfGRAMW9nSMzbZECbbLLJJjtlQAVq/UqBmmVAb2dIzNv5ZUDZZJNNNllmQENi3s6QuGZArV8pUOsXZ0AXXXTRRXdnQIFav1Kg1mdA61cK1Po1aEBVVVVVVZVoQL9SoNav9GhAKVDrVwpUaUCTTTbZZLNpQP1KgVq/EmpAZ0jM2xlyakDRRRdddNFqQDtDYt7OMGtApUCtXymQa0APPvjgg+9rQHk7Q2LeTmxA4ziO4ziubEBNNtlkkw1tQLczJObtbG1AITFvZ0jMbUCLLrrooituQPUrBWr9im5AXylQ61fqbkDJJptssklvQDMk5u0MqW9Az5CYtzMEcECEDz744DNwQDmO4ziOY3BA7gyJeTuTcECjiy666MJwQFgK1PqV8nBADYl5O0MicUDCBx988FFxQHeGxLydgXFALAVq/UqxcUDhgw8++OBxQJYCtX6lEHJAS4Fav1JAckAAAAAAAHByQLV+pUCtn3JAav1KgVrPckAffPDBB/9yQNT6lQK1LnNAiXk7Q2Jec0A++OCDD45zQPN2hsS8vXNAqPUrBWrtc0BddNFFFx10QBLzdobETHRAAAAAAAAAAAA++OCDDz4IQD744IMPPhhALrrooosuIkA++OCDDz4oQE422WSTTS5ALrrooosuMkA22WSTTTY1QD744IMPPjhARhdddNFFO0BONtlkk00+QKuqqqqqqkBALrrooosuQkCyySabbLJDQDbZZJNNNkVAuuiiiy66RkA++OCDDz5IQMIHH3zwwUlARhdddNFFS0DKJptssslMQE422WSTTU5A0UUXXXTRT0CrqqqqqqpQQG2yySabbFFALrrooosuUkDwwQcffPBSQLLJJptsslNAdNFFF110VEA22WSTTTZVQPjggw8++FVAuuiiiy66VkB88MEHH3xXQD744IMPPlhAAAAAAAAAWUDCBx988MFZQIQPPvjgg1pARhdddNFFW0AIH3zwwQdcQMomm2yyyVxAjC666KKLXUBONtlkk01eQA8++OCDD19A0UUXXXTRX0DKJptssklgQKuqqqqqqmBAjC666KILYUBtsskmm2xhQE422WSTzWFALrrooosuYkAPPvjgg49iQPDBBx988GJA0UUXXXRRY0CyySabbLJjQJNNNtlkE2RAdNFFF110ZEBVVVVVVdVkQDbZZJNNNmVAF1100UWXZUD44IMPPvhlQNlkk002WWZAuuiiiy66ZkCbbLLJJhtnQHzwwQcffGdAXXTRRRfdZ0A++OCDDz5oQB988MEHn2hAAAAAAAAAaUDhgw8++GBpQMIHH3zwwWlAo4suuugiakCEDz744INqQGWTTTbZ5GpARhdddNFFa0Anm2yyyaZrQAgffPDBB2xA6aKLLrpobEDKJptssslsQKuqqqqqKm1AjC666KKLbUBtsskmm+xtQE422WSTTW5ALrrooouubkAPPvjggw9vQPDBBx98cG9A0UUXXXTRb0DZZJNNNhlwQMomm2yySXBAuuiiiy56cECrqqqqqqpwQJtssskm23BAjC666KILcUB88MEHHzxxQG2yySabbHFAXXTRRRedcUBONtlkk81xQD744IMP/nFALrrooosuckAffPDBB19yQA8++OCDj3JAAAAAAADAckDwwQcffPByQOGDDz74IHNA0UUXXXRRc0DCBx988IFzQLLJJptssnNAo4suuujic0CTTTbZZBN0QIQPPvjgQ3RAdNFFF110dEBlk0022aR0QAAAAAAAAAAA+5UCtX6lCED7lQK1fqUYQHzwwQcffCJA+5UCtX6lKEB6O0Ni3s4uQHzwwQcffDJAPENi3s6QNUD7lQK1fqU4QLrooosuujtAejtDYt7OPkAdx3Ecx/FAQHzwwQcffEJA3BkS83YGREA8Q2LezpBFQJtssskmG0dA+5UCtX6lSEBbv1Kg1i9KQLrooosuuktAGhLzdoZETUB6O0Ni3s5OQG2yySabLFBAHcdxHMfxUEDM2xkS87ZRQHzwwQcffFJALAVq/UpBU0DcGRLzdgZUQIwuuuiiy1RAPENi3s6QVUDrVwrU+lVWQJtssskmG1dAS4Fav1LgV0D7lQK1fqVYQKuqqqqqallAW79SoNYvWkAL1PqVAvVaQLrooosuultAav1KgVp/XEAaEvN2hkRdQMomm2yyCV5AejtDYt7OXkAqUOtXCpRfQG2yySabLGBAxbydITGPYEAdx3Ecx/FgQHTRRRddVGFAzNsZEvO2YUAk5u0MiRliQHzwwQcffGJA1PqVArXeYkAsBWr9SkFjQIQPPvjgo2NA3BkS83YGZEA0JObtDGlkQIwuuuiiy2RA5DiO4zguZUA8Q2LezpBlQJRNNtlk82VA61cK1PpVZkBDYt7OkLhmQJtssskmG2dA83aGxLx9Z0BLgVq/UuBnQKOLLrroQmhA+5UCtX6laEBToNavFAhpQKuqqqqqamlAA7V+pUDNaUBbv1Kg1i9qQLPJJptskmpAC9T6lQL1akBi3s6QmFdrQLrooosuumtAEvN2hsQcbEBq/UqBWn9sQMIHH3zw4WxAGhLzdoZEbUByHMdxHKdtQMomm2yyCW5AIjFvZ0hsbkB6O0Ni3s5uQNJFF110MW9AKlDrVwqUb0CCWr9SoPZvQG2yySabLHBAmbczJOZdcEDFvJ0hMY9wQPHBBx98wHBAHcdxHMfxcEBJzNsZEiNxQHTRRRddVHFAoNavFKiFcUDM2xkS87ZxQPjggw8+6HFAJObtDIkZckBQ61cK1EpyQHzwwQcffHJAqPUrBWqtckDU+pUCtd5yQAAAAAAAEHNALAVq/UpBc0BYCtT6lXJzQIQPPvjgo3NAsBSo9SvVc0DcGRLzdgZ0QAgffPDBN3RANCTm7QxpdEBgKVDrV5p0QIwuuuiiy3RAuDMk5u38dEAAAAAAAAAAALczJObtDAlAtzMk5u0MGUDJJptssskiQLczJObtDClApUCtXylQL0DJJptssskyQECtXylQ6zVAtzMk5u0MOUAuuuiiiy48QKVArV8pUD9AjuM4juM4QUDJJptssslCQAVq/UqBWkRAQK1fKVDrRUB88MEHH3xHQLczJObtDElA8naGxLydSkAuuuiiiy5MQGn9SoFav01ApUCtXylQT0DwwQcffHBQQI7jOI7jOFFALAVq/UoBUkDJJptssslSQGdIzNsZklNABWr9SoFaVECiiy666CJVQECtXylQ61VA3s6QmLezVkB88MEHH3xXQBkS83aGRFhAtzMk5u0MWUBVVVVVVdVZQPJ2hsS8nVpAkJi3MyRmW0Auuuiiiy5cQMzbGRLz9lxAaf1KgVq/XUAHH3zwwYdeQKVArV8pUF9AITFvZ0gMYEDwwQcffHBgQL9SoNav1GBAjuM4juM4YUBddNFFF51hQCwFav1KAWJA+pUCtX5lYkDJJptsssliQJi3MyTmLWNAZ0jM2xmSY0A22WSTTfZjQAVq/UqBWmRA1PqVArW+ZECiiy666CJlQHEcx3Ech2VAQK1fKVDrZUAPPvjgg09mQN7OkJi3s2ZArV8pUOsXZ0B88MEHH3xnQEqBWr9S4GdAGRLzdoZEaEDooosuuqhoQLczJObtDGlAhsS8nSFxaUBVVVVVVdVpQCTm7QyJOWpA8naGxLydakDBBx988AFrQJCYtzMkZmtAXylQ61fKa0Auuuiiiy5sQP1KgVq/kmxAzNsZEvP2bECabLLJJlttQGn9SoFav21AOI7jOI4jbkAHH3zwwYduQNavFKj1625ApUCtXylQb0B00UUXXbRvQCExb2dIDHBAiXk7Q2I+cEDwwQcffHBwQFgK1PqVonBAv1Kg1q/UcEAmm2yyyQZxQI7jOI7jOHFA9SsFav1qcUBddNFFF51xQMS8nSExz3FALAVq/UoBckCTTTbZZDNyQPqVArV+ZXJAYt7OkJiXckDJJptssslyQDFvZ0jM+3JAmLczJOYtc0AAAAAAAGBzQGdIzNsZknNAzpCYtzPEc0A22WSTTfZzQJ0hMW9nKHRABWr9SoFadEBssskmm4x0QNT6lQK1vnRAO0Ni3s7wdECiiy666CJ1QArU+pUCVXVAAAAAAAAAAAB00UUXXXQJQHTRRRdddBlAF1100UUXI0B00UUXXXQpQNFFF1100S9AF1100UUXM0BGF1100UU2QHTRRRdddDlAoosuuuiiPEDRRRdddNE/QAAAAAAAgEFAF1100UUXQ0Auuuiii65EQEYXXXTRRUZAXXTRRRfdR0B00UUXXXRJQIsuuuiiC0tAoosuuuiiTEC66KKLLjpOQNFFF1100U9AdNFFF120UEAAAAAAAIBRQIsuuuiiS1JAF1100UUXU0Cjiy666OJTQC666KKLrlRAuuiiiy56VUBGF1100UVWQNFFF110EVdAXXTRRRfdV0DooosuuqhYQHTRRRdddFlAAAAAAABAWkCLLrroogtbQBdddNFF11tAoosuuuiiXEAuuuiii25dQLrooosuOl5ARRdddNEFX0DRRRdddNFfQC666KKLTmBAdNFFF120YEC66KKLLhphQAAAAAAAgGFARhdddNHlYUCLLrrooktiQNFFF110sWJAF1100UUXY0BddNFFF31jQKOLLrro4mNA6KKLLrpIZEAuuuiii65kQHTRRRddFGVAuuiiiy56ZUAAAAAAAOBlQEYXXXTRRWZAiy666KKrZkDRRRdddBFnQBdddNFFd2dAXXTRRRfdZ0Cjiy666EJoQOiiiy66qGhALrrooosOaUB00UUXXXRpQLrooosu2mlAAAAAAABAakBFF1100aVqQIsuuuiiC2tA0UUXXXRxa0AXXXTRRddrQF100UUXPWxAoosuuuiibEDooosuughtQC666KKLbm1AdNFFF13UbUC66KKLLjpuQAAAAAAAoG5ARRdddNEFb0CLLrroomtvQNFFF1100W9Aiy666KIbcEAuuuiii05wQNFFF110gXBAdNFFF120cEAXXXTRRedwQLrooosuGnFAXXTRRRdNcUAAAAAAAIBxQKOLLrrosnFARhdddNHlcUDooosuuhhyQIsuuuiiS3JALrrooot+ckDRRRdddLFyQHTRRRdd5HJAF1100UUXc0C66KKLLkpzQF100UUXfXNAAAAAAACwc0Cjiy666OJzQEYXXXTRFXRA6KKLLrpIdECLLrroont0QC666KKLrnRA0UUXXXThdEB00UUXXRR1QBdddNFFR3VAuuiiiy56dUBddNFFF611QAAAAAAAAAAAMW9nSMzbCUAxb2dIzNsZQGWTTTbZZCNAMW9nSMzbKUB/pUCtXykwQGWTTTbZZDNAS4Fav1KgNkAxb2dIzNs5QBdddNFFFz1Af6VArV8pQEByHMdxHMdBQGWTTTbZZENAWArU+pUCRUBLgVq/UqBGQD744IMPPkhAMW9nSMzbSUAk5u0MiXlLQBdddNFFF01ACtT6lQK1TkB/pUCtXylQQPjggw8++FBAchzHcRzHUUDrVwrU+pVSQGWTTTbZZFNA3s6QmLczVEBYCtT6lQJVQNFFF1100VVAS4Fav1KgVkDEvJ0hMW9XQD744IMPPlhAtzMk5u0MWUAxb2dIzNtZQKuqqqqqqlpAJObtDIl5W0CeITFvZ0hcQBdddNFFF11AkZi3MyTmXUAK1PqVArVeQIQPPvjgg19Af6VArV8pYEA7Q2LezpBgQPjggw8++GBAtX6lQK1fYUByHMdxHMdhQC666KKLLmJA61cK1PqVYkCo9SsFav1iQGWTTTbZZGNAIjFvZ0jMY0DezpCYtzNkQJtssskmm2RAWArU+pUCZUAVqPUrBWplQNFFF1100WVAjuM4juM4ZkBLgVq/UqBmQAgffPDBB2dAxLydITFvZ0CBWr9SoNZnQD744IMPPmhA+5UCtX6laEC3MyTm7QxpQHTRRRdddGlAMW9nSMzbaUDuDIl5O0NqQKuqqqqqqmpAZ0jM2xkSa0Ak5u0MiXlrQOGDDz744GtAniExb2dIbEBav1Kg1q9sQBdddNFFF21A1PqVArV+bUCRmLczJOZtQE022WSTTW5ACtT6lQK1bkDHcRzHcRxvQIQPPvjgg29AQK1fKVDrb0B/pUCtXylwQF100UUXXXBAO0Ni3s6QcEAaEvN2hsRwQPjggw8++HBA168UqPUrcUC1fqVArV9xQJNNNtlkk3FAchzHcRzHcUBQ61cK1PpxQC666KKLLnJADYl5O0NickDrVwrU+pVyQMomm2yyyXJAqPUrBWr9ckCGxLydITFzQGWTTTbZZHNAQ2LezpCYc0AiMW9nSMxzQAAAAAAAAHRA3s6QmLczdEC9nSExb2d0QJtssskmm3RAeTtDYt7OdEBYCtT6lQJ1QDbZZJNNNnVAFaj1KwVqdUDzdobEvJ11QNFFF1100XVAsBSo9SsFdkAAAAAAAAAAAO4MiXk7QwpA7gyJeTtDGkCyySabbLIjQO4MiXk7QypAFaj1KwVqMECyySabbLIzQFDrVwrU+jZA7gyJeTtDOkCMLrrooos9QBWo9SsFakBA5DiO4zgOQkCyySabbLJDQIFav1KgVkVAUOtXCtT6RkAffPDBB59IQO4MiXk7Q0pAvZ0hMW/nS0CMLrroootNQFu/UqDWL09AFaj1KwVqUEB88MEHHzxRQOQ4juM4DlJAS4Fav1LgUkCyySabbLJTQBoS83aGhFRAgVq/UqBWVUDpoosuuihWQFDrVwrU+lZAuDMk5u3MV0AffPDBB59YQIfEvJ0hcVlA7gyJeTtDWkBVVVVVVRVbQL2dITFv51tAJObtDIm5XECMLrroootdQPN2hsS8XV5AW79SoNYvX0Dhgw8++ABgQBWo9SsFamBASMzbGRLTYEB88MEHHzxhQLAUqPUrpWFA5DiO4zgOYkAXXXTRRXdiQEuBWr9S4GJAf6VArV9JY0CyySabbLJjQObtDIl5G2RAGhLzdoaEZEBONtlkk+1kQIFav1KgVmVAtX6lQK2/ZUDpoosuuihmQB3HcRzHkWZAUOtXCtT6ZkCEDz744GNnQLgzJObtzGdA61cK1Po1aEAffPDBB59oQFOg1q8UCGlAh8S8nSFxaUC66KKLLtppQO4MiXk7Q2pAIjFvZ0isakBVVVVVVRVrQIl5O0NifmtAvZ0hMW/na0DxwQcffFBsQCTm7QyJuWxAWArU+pUibUCMLrrooottQL9SoNav9G1A83aGxLxdbkAnm2yyycZuQFu/UqDWL29AjuM4juOYb0Dhgw8++ABwQPuVArV+NXBAFaj1KwVqcEAvuuiii55wQEjM2xkS03BAYt7OkJgHcUB88MEHHzxxQJYCtX6lcHFAsBSo9SulcUDKJptsstlxQOQ4juM4DnJA/UqBWr9CckAXXXTRRXdyQDFvZ0jMq3JAS4Fav1LgckBlk0022RRzQH+lQK1fSXNAmbczJOZ9c0CyySabbLJzQMzbGRLz5nNA5u0MiXkbdEAAAAAAAFB0QBoS83aGhHRANCTm7Qy5dEBONtlkk+10QGhIzNsZInVAgVq/UqBWdUCbbLLJJot1QLV+pUCtv3VAz5CYtzP0dUDpoosuuih2QAO1fqVAXXZAAAAAAAAAAACrqqqqqqoKQKuqqqqqqhpAAAAAAAAAJECrqqqqqqoqQKuqqqqqqjBAAAAAAAAANEBWVVVVVVU3QKuqqqqqqjpAAAAAAAAAPkCrqqqqqqpAQFZVVVVVVUJAAAAAAAAARECrqqqqqqpFQFZVVVVVVUdAAAAAAAAASUCrqqqqqqpKQFZVVVVVVUxAAAAAAAAATkCrqqqqqqpPQKuqqqqqqlBAAAAAAACAUUBWVVVVVVVSQKuqqqqqKlNAAAAAAAAAVEBWVVVVVdVUQKuqqqqqqlVAAAAAAACAVkBWVVVVVVVXQKuqqqqqKlhAAAAAAAAAWUBWVVVVVdVZQKuqqqqqqlpAAAAAAACAW0BWVVVVVVVcQKuqqqqqKl1AAAAAAAAAXkBWVVVVVdVeQKuqqqqqql9AAAAAAABAYECrqqqqqqpgQFZVVVVVFWFAAAAAAACAYUCrqqqqquphQFZVVVVVVWJAAAAAAADAYkCrqqqqqipjQFZVVVVVlWNAAAAAAAAAZECrqqqqqmpkQFZVVVVV1WRAAAAAAABAZUCrqqqqqqplQFZVVVVVFWZAAAAAAACAZkCrqqqqqupmQFZVVVVVVWdAAAAAAADAZ0CrqqqqqipoQFZVVVVVlWhAAAAAAAAAaUCrqqqqqmppQFZVVVVV1WlAAAAAAABAakCrqqqqqqpqQFZVVVVVFWtAAAAAAACAa0CrqqqqquprQFZVVVVVVWxAAAAAAADAbECrqqqqqiptQFZVVVVVlW1AAAAAAAAAbkCrqqqqqmpuQFZVVVVV1W5AAAAAAABAb0CrqqqqqqpvQKuqqqqqCnBAAAAAAABAcEBWVVVVVXVwQKuqqqqqqnBAAAAAAADgcEBWVVVVVRVxQKuqqqqqSnFAAAAAAACAcUBWVVVVVbVxQKuqqqqq6nFAAAAAAAAgckBWVVVVVVVyQKuqqqqqinJAAAAAAADAckBWVVVVVfVyQKuqqqqqKnNAAAAAAABgc0BWVVVVVZVzQKuqqqqqynNAAAAAAAAAdEBWVVVVVTV0QKuqqqqqanRAAAAAAACgdEBWVVVVVdV0QKuqqqqqCnVAAAAAAABAdUBWVVVVVXV1QKuqqqqqqnVAAAAAAADgdUBWVVVVVRV2QKuqqqqqSnZAAAAAAACAdkBWVVVVVbV2QAAAAAAAAAAAZ0jM2xkSC0BnSMzbGRIbQE022WSTTSRAZ0jM2xkSK0BArV8pUOswQE022WSTTTRAWr9SoNavN0BnSMzbGRI7QHTRRRdddD5AQK1fKVDrQEDHcRzHcZxCQE022WSTTURA1PqVArX+RUBav1Kg1q9HQOGDDz74YElAZ0jM2xkSS0DtDIl5O8NMQHTRRRdddE5A/UqBWr8SUEBArV8pUOtQQIQPPvjgw1FAx3Ecx3GcUkAK1PqVAnVTQE022WSTTVRAkJi3MyQmVUDU+pUCtf5VQBdddNFF11ZAWr9SoNavV0CdITFvZ4hYQOGDDz74YFlAJObtDIk5WkBnSMzbGRJbQKqqqqqq6ltA7QyJeTvDXEAxb2dIzJtdQHTRRRdddF5AtzMk5u1MX0D9SoFavxJgQB988MEHf2BAQK1fKVDrYEBi3s6QmFdhQIQPPvjgw2FApUCtXykwYkDHcRzHcZxiQOiiiy66CGNACtT6lQJ1Y0AsBWr9SuFjQE022WSTTWRAb2dIzNu5ZECQmLczJCZlQLLJJptskmVA1PqVArX+ZUD1KwVq/WpmQBdddNFF12ZAOY7jOI5DZ0Bav1Kg1q9nQHzwwQcfHGhAnSExb2eIaEC/UqDWr/RoQOGDDz74YGlAArV+pUDNaUAk5u0MiTlqQEUXXXTRpWpAZ0jM2xkSa0CJeTtDYn5rQKqqqqqq6mtAzNsZEvNWbEDtDIl5O8NsQA8++OCDL21AMW9nSMybbUBSoNavFAhuQHTRRRdddG5AlQK1fqXgbkC3MyTm7UxvQNlkk002uW9A/UqBWr8ScECO4ziO40hwQB988MEHf3BAsBSo9Su1cEBArV8pUOtwQNFFF110IXFAYt7OkJhXcUDzdobEvI1xQIQPPvjgw3FAFKj1KwX6cUClQK1fKTByQDbZZJNNZnJAx3Ecx3GcckBYCtT6ldJyQOiiiy66CHNAeTtDYt4+c0AK1PqVAnVzQJtssskmq3NALAVq/Urhc0C8nSExbxd0QE022WSTTXRA3s6QmLeDdEBvZ0jM27l0QAAAAAAA8HRAkJi3MyQmdUAhMW9nSFx1QLLJJptsknVAQ2LezpDIdUDU+pUCtf51QGSTTTbZNHZA9SsFav1qdkCGxLydIaF2QBdddNFF13ZAqPUrBWoNd0AAAAAAAAAAACTm7QyJeQtAJObtDIl5G0CbbLLJJpskQCTm7QyJeStA1q8UqPUrMUCbbLLJJps0QGApUOtXCjhAJObtDIl5O0Dooosuuug+QNavFKj1K0FAOY7jOI7jQkCbbLLJJptEQP1KgVq/UkZAYClQ61cKSEDCBx988MFJQCTm7QyJeUtAhsS8nSExTUDooosuuuhOQKVArV8pUFBA1q8UqPUrUUAIH3zwwQdSQDmO4ziO41JAav1KgVq/U0CbbLLJJptUQMzbGRLzdlVA/UqBWr9SVkAuuuiiiy5XQGApUOtXClhAkZi3MyTmWEDCBx988MFZQPN2hsS8nVpAJObtDIl5W0BVVVVVVVVcQIbEvJ0hMV1AtzMk5u0MXkDooosuuuheQBoS83aGxF9ApUCtXylQYEA++OCDD75gQNavFKj1K2FAb2dIzNuZYUAIH3zwwQdiQKDWrxSodWJAOY7jOI7jYkDRRRdddFFjQGr9SoFav2NAArV+pUAtZECbbLLJJptkQDQk5u0MCWVAzNsZEvN2ZUBlk0022eRlQP1KgVq/UmZAlgK1fqXAZkAuuuiiiy5nQMdxHMdxnGdAYClQ61cKaED44IMPPnhoQJGYtzMk5mhAKVDrVwpUaUDCBx988MFpQFq/UqDWL2pA83aGxLydakCLLrroogtrQCTm7QyJeWtAvZ0hMW/na0BVVVVVVVVsQO4MiXk7w2xAhsS8nSExbUAffPDBB59tQLczJObtDG5AUOtXCtR6bkDooosuuuhuQIFav1KgVm9AGhLzdobEb0DZZJNNNhlwQKVArV8pUHBAchzHcRyHcEA++OCDD75wQArU+pUC9XBA1q8UqPUrcUCjiy666GJxQG9nSMzbmXFAO0Ni3s7QcUAIH3zwwQdyQNT6lQK1PnJAoNavFKh1ckBssskmm6xyQDmO4ziO43JABWr9SoEac0DRRRdddFFzQJ4hMW9niHNAav1KgVq/c0A22WSTTfZzQAK1fqVALXRAz5CYtzNkdECbbLLJJpt0QGdIzNsZ0nRANCTm7QwJdUAAAAAAAEB1QMzbGRLzdnVAmLczJOatdUBlk0022eR1QDFvZ0jMG3ZA/UqBWr9SdkDKJptssol2QJYCtX6lwHZAYt7OkJj3dkAuuuiiiy53QPuVArV+ZXdAAAAAAAAAAADhgw8++OALQOGDDz744BtA6aKLLrroJEDhgw8++OArQG2yySabbDFA6aKLLrroNEBlk0022WQ4QOGDDz744DtAXXTRRRddP0Btsskmm2xBQKuqqqqqKkNA6aKLLrroREAnm2yyyaZGQGWTTTbZZEhAo4suuugiSkDhgw8++OBLQB988MEHn01AXXTRRRddT0BONtlkk41QQG2yySabbFFAjC666KJLUkCrqqqqqipTQMomm2yyCVRA6aKLLrroVEAIH3zwwcdVQCebbLLJplZARhdddNGFV0Blk0022WRYQIQPPvjgQ1lAo4suuugiWkDCBx988AFbQOGDDz744FtAAAAAAADAXEAffPDBB59dQD744IMPfl5AXXTRRRddX0A++OCDDx5gQE422WSTjWBAXXTRRRf9YEBtsskmm2xhQHzwwQcf3GFAjC666KJLYkCbbLLJJrtiQKuqqqqqKmNAuuiiiy6aY0DKJptssglkQNlkk002eWRA6aKLLrroZED44IMPPlhlQAgffPDBx2VAF1100UU3ZkAnm2yyyaZmQDbZZJNNFmdARhdddNGFZ0BVVVVVVfVnQGWTTTbZZGhAdNFFF13UaECEDz744ENpQJNNNtlks2lAo4suuugiakCyySabbJJqQMIHH3zwAWtA0UUXXXRxa0Dhgw8++OBrQPHBBx98UGxAAAAAAADAbEAQPvjggy9tQB988MEHn21AL7rooosObkA++OCDD35uQE422WST7W5AXXTRRRddb0Btsskmm8xvQD744IMPHnBARhdddNFVcEBONtlkk41wQFVVVVVVxXBAXXTRRRf9cEBlk0022TRxQG2yySabbHFAdNFFF12kcUB88MEHH9xxQIQPPvjgE3JAjC666KJLckCTTTbZZINyQJtssskmu3JAo4suuujyckCrqqqqqipzQLLJJptsYnNAuuiiiy6ac0DCBx988NFzQMomm2yyCXRA0UUXXXRBdEDZZJNNNnl0QOGDDz74sHRA6aKLLrrodEDxwQcffCB1QPjggw8+WHVAAAAAAACQdUAIH3zwwcd1QBA++OCD/3VAF1100UU3dkAffPDBB292QCebbLLJpnZAL7rooovedkA22WSTTRZ3QD744IMPTndARhdddNGFd0BONtlkk713QAAAAAAAAAAAniExb2dIDECeITFvZ0gcQDbZZJNNNiVAniExb2dILEADtX6lQK0xQDbZZJNNNjVAav1KgVq/OECeITFvZ0g8QNJFF1100T9AA7V+pUCtQUAdx3Ecx3FDQDbZZJNNNkVAUOtXCtT6RkBq/UqBWr9IQIQPPvjgg0pAniExb2dITEC4MyTm7QxOQNJFF1100U9A9isFav3KUEADtX6lQK1RQBA++OCDj1JAHcdxHMdxU0AqUOtXClRUQDbZZJNNNlVAQ2LezpAYVkBQ61cK1PpWQF100UUX3VdAav1KgVq/WEB3hsS8naFZQIQPPvjgg1pAkZi3MyRmW0CeITFvZ0hcQKuqqqqqKl1AuDMk5u0MXkDFvJ0hMe9eQNJFF1100V9Ab2dIzNtZYED2KwVq/cpgQHzwwQcfPGFAA7V+pUCtYUCJeTtDYh5iQBA++OCDj2JAlgK1fqUAY0Adx3Ecx3FjQKOLLrro4mNAKlDrVwpUZECwFKj1K8VkQDbZZJNNNmVAvZ0hMW+nZUBDYt7OkBhmQMomm2yyiWZAUOtXCtT6ZkDXrxSo9WtnQF100UUX3WdA5DiO4zhOaEBq/UqBWr9oQPHBBx98MGlAd4bEvJ2haUD+SoFavxJqQIQPPvjgg2pAC9T6lQL1akCRmLczJGZrQBhddNFF12tAniExb2dIbEAk5u0MiblsQKuqqqqqKm1AMW9nSMybbUC4MyTm7QxuQD744IMPfm5AxbydITHvbkBLgVq/UmBvQNJFF1100W9ALAVq/UohcEBvZ0jM21lwQLPJJptsknBA9isFav3KcEA5juM4jgNxQHzwwQcfPHFAwFKg1q90cUADtX6lQK1xQEYXXXTR5XFAiXk7Q2IeckDM2xkS81ZyQBA++OCDj3JAU6DWrxTIckCWArV+pQBzQNlkk002OXNAHcdxHMdxc0BgKVDrV6pzQKOLLrro4nNA5u0MiXkbdEAqUOtXClR0QG2yySabjHRAsBSo9SvFdEDzdobEvP10QDbZZJNNNnVAejtDYt5udUC9nSExb6d1QAAAAAAA4HVAQ2LezpAYdkCHxLydIVF2QMomm2yyiXZADYl5O0PCdkBQ61cK1Pp2QJRNNtlkM3dA168UqPVrd0AaEvN2hqR3QF100UUX3XdAodavFKgVeEAAAAAAAAAAAFq/UqDWrwxAWr9SoNavHECEDz744IMlQFq/UqDWryxAmLczJObtMUCEDz744IM1QG9nSMzbGTlAWr9SoNavPECjiy666CJAQJi3MyTm7UFAjuM4juO4Q0CEDz744INFQHk7Q2LeTkdAb2dIzNsZSUBkk0022eRKQFq/UqDWr0xAUOtXCtR6TkCjiy666CJQQJ0hMW9nCFFAmLczJObtUUCTTTbZZNNSQI7jOI7juFNAiXk7Q2KeVECEDz744INVQH6lQK1faVZAeTtDYt5OV0B00UUXXTRYQG9nSMzbGVlAav1KgVr/WUBkk0022eRaQF8pUOtXyltAWr9SoNavXEBVVVVVVZVdQFDrVwrUel5ASoFav1JgX0Cjiy666CJgQKDWrxSolWBAnSExb2cIYUCbbLLJJnthQJi3MyTm7WFAlgK1fqVgYkCTTTbZZNNiQJCYtzMkRmNAjuM4juO4Y0CLLrrooitkQIl5O0NinmRAhsS8nSERZUCEDz744INlQIFav1Kg9mVAfqVArV9pZkB88MEHH9xmQHk7Q2LeTmdAd4bEvJ3BZ0B00UUXXTRoQHEcx3Ecp2hAb2dIzNsZaUBssskmm4xpQGr9SoFa/2lAZ0jM2xlyakBkk0022eRqQGLezpCYV2tAXylQ61fKa0BddNFFFz1sQFq/UqDWr2xAVwrU+pUibUBVVVVVVZVtQFKg1q8UCG5AUOtXCtR6bkBNNtlkk+1uQEqBWr9SYG9ASMzbGRLTb0Cjiy666CJwQCExb2dIXHBAoNavFKiVcEAffPDBB89wQJ0hMW9nCHFAHMdxHMdBcUCbbLLJJntxQBoS83aGtHFAmLczJObtcUAXXXTRRSdyQJYCtX6lYHJAFKj1KwWackCTTTbZZNNyQBLzdobEDHNAkJi3MyRGc0APPvjgg39zQI7jOI7juHNADYl5O0Pyc0CLLrrooit0QArU+pUCZXRAiXk7Q2KedEAHH3zwwdd0QIbEvJ0hEXVABWr9SoFKdUCEDz744IN1QAK1fqVAvXVAgVq/UqD2dUAAAAAAADB2QH6lQK1faXZA/UqBWr+idkB88MEHH9x2QPqVArV+FXdAeTtDYt5Od0D44IMPPoh3QHeGxLydwXdA9SsFav36d0B00UUXXTR4QPN2hsS8bXhAAAAAAAAAAAAXXXTRRRcNQBdddNFFFx1A0UUXXXTRJUAXXXTRRRctQC666KKLLjJA0UUXXXTRNUB00UUXXXQ5QBdddNFFFz1AXXTRRRddQEAuuuiiiy5CQAAAAAAAAERA0UUXXXTRRUCjiy666KJHQHTRRRdddElARhdddNFFS0AXXXTRRRdNQOiiiy666E5AXXTRRRddUEBGF1100UVRQC666KKLLlJAF1100UUXU0AAAAAAAABUQOmiiy666FRA0UUXXXTRVUC66KKLLrpWQKOLLrrooldAiy666KKLWEB00UUXXXRZQF100UUXXVpARhdddNFFW0Auuuiiiy5cQBdddNFFF11AAAAAAAAAXkDooosuuuheQNFFF1100V9AXXTRRRddYEDRRRdddNFgQEYXXXTRRWFAuuiiiy66YUAuuuiiiy5iQKOLLrroomJAF1100UUXY0CLLrroootjQAAAAAAAAGRAdNFFF110ZEDpoosuuuhkQF100UUXXWVA0UUXXXTRZUBGF1100UVmQLrooosuumZALrrooosuZ0Cjiy666KJnQBdddNFFF2hAiy666KKLaEAAAAAAAABpQHTRRRdddGlA6KKLLrroaUBddNFFF11qQNFFF1100WpARhdddNFFa0C66KKLLrprQC666KKLLmxAo4suuuiibEAXXXTRRRdtQIsuuuiii21AAAAAAAAAbkB00UUXXXRuQOiiiy666G5AXXTRRRddb0DRRRdddNFvQKOLLrroInBAXXTRRRddcEAXXXTRRZdwQNFFF1100XBAiy666KILcUBGF1100UVxQAAAAAAAgHFAuuiiiy66cUB00UUXXfRxQC666KKLLnJA6aKLLrpockCjiy666KJyQF100UUX3XJAF1100UUXc0DRRRdddFFzQIsuuuiii3NARhdddNHFc0AAAAAAAAB0QLrooosuOnRAdNFFF110dEAuuuiii650QOmiiy666HRAo4suuugidUBddNFFF111QBdddNFFl3VA0UUXXXTRdUCLLrroogt2QEYXXXTRRXZAAAAAAACAdkC66KKLLrp2QHTRRRdd9HZALrrooosud0Dpoosuumh3QKOLLrroondAXXTRRRfdd0AXXXTRRRd4QNFFF110UXhAiy666KKLeEBGF1100cV4QAAAAAAAAAAA1PqVArV+DUDU+pUCtX4dQB988MEHHyZA1PqVArV+LUDEvJ0hMW8yQB988MEHHzZAejtDYt7OOUDU+pUCtX49QBdddNFFl0BAxLydITFvQkByHMdxHEdEQB988MEHH0ZAzNsZEvP2R0B6O0Ni3s5JQCebbLLJpktA1PqVArV+TUCBWr9SoFZPQBdddNFFl1BA7gyJeTuDUUDEvJ0hMW9SQJtssskmW1NAchzHcRxHVEBIzNsZEjNVQB988MEHH1ZA9isFav0KV0DM2xkS8/ZXQKOLLrro4lhAejtDYt7OWUBQ61cK1LpaQCebbLLJpltA/UqBWr+SXEDU+pUCtX5dQKuqqqqqal5AgVq/UqBWX0AsBWr9SiFgQBdddNFFl2BAA7V+pUANYUDuDIl5O4NhQNlkk002+WFAxLydITFvYkCwFKj1K+ViQJtssskmW2NAhsS8nSHRY0ByHMdxHEdkQF100UUXvWRASMzbGRIzZUA0JObtDKllQB988MEHH2ZACtT6lQKVZkD2KwVq/QpnQOGDDz74gGdAzNsZEvP2Z0C4MyTm7WxoQKOLLrro4mhAjuM4juNYaUB6O0Ni3s5pQGWTTTbZRGpAUOtXCtS6akA7Q2LezjBrQCebbLLJpmtAEvN2hsQcbED9SoFav5JsQOmiiy66CG1A1PqVArV+bUC/UqDWr/RtQKuqqqqqam5AlgK1fqXgbkCBWr9SoFZvQG2yySabzG9ALAVq/UohcEAiMW9nSFxwQBdddNFFl3BADYl5O0PScEADtX6lQA1xQPjggw8+SHFA7gyJeTuDcUDkOI7jOL5xQNlkk002+XFAz5CYtzM0ckDEvJ0hMW9yQLrooosuqnJAsBSo9SvlckClQK1fKSBzQJtssskmW3NAkZi3MySWc0CGxLydIdFzQHzwwQcfDHRAchzHcRxHdEBnSMzbGYJ0QF100UUXvXRAU6DWrxT4dEBIzNsZEjN1QD744IMPbnVANCTm7QypdUApUOtXCuR1QB988MEHH3ZAFaj1KwVadkAK1PqVApV2QAAAAAAA0HZA9isFav0Kd0DrVwrU+kV3QOGDDz74gHdA168UqPW7d0DM2xkS8/Z3QMIHH3zwMXhAuDMk5u1seECtXylQ66d4QKOLLrro4nhAmbczJOYdeUAAAAAAAAAAAJGYtzMk5g1AkZi3MyTmHUBtsskmm2wmQJGYtzMk5i1AW79SoNavMkBtsskmm2w2QH+lQK1fKTpAkZi3MyTmPUDSRRdddNFAQFu/UqDWr0JA5DiO4ziOREBtsskmm2xGQPYrBWr9SkhAf6VArV8pSkAIH3zwwQdMQJGYtzMk5k1AGhLzdobET0DSRRdddNFQQJYCtX6lwFFAW79SoNavUkAffPDBB59TQOQ4juM4jlRAqPUrBWp9VUBtsskmm2xWQDFvZ0jMW1dA9isFav1KWEC66KKLLjpZQH+lQK1fKVpAQ2LezpAYW0AIH3zwwQdcQMzbGRLz9lxAkZi3MyTmXUBWVVVVVdVeQBoS83aGxF9Ab2dIzNtZYEDSRRdddNFgQDQk5u0MSWFAlgK1fqXAYUD44IMPPjhiQFu/UqDWr2JAvZ0hMW8nY0AffPDBB59jQIFav1KgFmRA5DiO4ziOZEBGF1100QVlQKj1KwVqfWVACtT6lQL1ZUBtsskmm2xmQM+QmLcz5GZAMW9nSMxbZ0CUTTbZZNNnQPYrBWr9SmhAWArU+pXCaEC66KKLLjppQB3HcRzHsWlAf6VArV8pakDhgw8++KBqQENi3s6QGGtApkCtXymQa0AIH3zwwQdsQGr9SoFaf2xAzNsZEvP2bEAvuuiii25tQJGYtzMk5m1A83aGxLxdbkBWVVVVVdVuQLgzJObtTG9AGhLzdobEb0A++OCDDx5wQG9nSMzbWXBAoNavFKiVcEDSRRdddNFwQAO1fqVADXFANCTm7QxJcUBlk0022YRxQJYCtX6lwHFAx3Ecx3H8cUD44IMPPjhyQClQ61cKdHJAW79SoNavckCMLrrooutyQL2dITFvJ3NA7gyJeTtjc0AffPDBB59zQFDrVwrU2nNAgVq/UqAWdECzySabbFJ0QOQ4juM4jnRAFaj1KwXKdEBGF1100QV1QHeGxLydQXVAqPUrBWp9dUDZZJNNNrl1QArU+pUC9XVAPENi3s4wdkBtsskmm2x2QJ4hMW9nqHZAz5CYtzPkdkAAAAAAACB3QDFvZ0jMW3dAYt7OkJiXd0CUTTbZZNN3QMW8nSExD3hA9isFav1KeEAnm2yyyYZ4QFgK1PqVwnhAiXk7Q2L+eEC66KKLLjp5QOtXCtT6dXlAAAAAAAAAAABNNtlkk00OQE022WSTTR5Auuiiiy66JkBNNtlkk00uQPDBBx988DJAuuiiiy66NkCDDz744IM6QE022WSTTT5Aiy666KILQUDwwQcffPBCQFVVVVVV1URAuuiiiy66RkAffPDBB59IQIMPPvjgg0pA6KKLLrpoTEBNNtlkk01OQNlkk002GVBAiy666KILUUA++OCDD/5RQPDBBx988FJAo4suuujiU0BVVVVVVdVUQAcffPDBx1VAuuiiiy66VkBssskmm6xXQB988MEHn1hA0UUXXXSRWUCDDz744INaQDbZZJNNdltA6KKLLrpoXECbbLLJJltdQE022WSTTV5A//////8/X0DZZJNNNhlgQLLJJptskmBAiy666KILYUBlk0022YRhQD744IMP/mFAF1100UV3YkDwwQcffPBiQMkmm2yyaWNAo4suuujiY0B88MEHH1xkQFVVVVVV1WRALrroootOZUAHH3zwwcdlQOGDDz74QGZAuuiiiy66ZkCTTTbZZDNnQGyyySabrGdARRdddNElaEAffPDBB59oQPjggw8+GGlA0UUXXXSRaUCqqqqqqgpqQIMPPvjgg2pAXXTRRRf9akA22WSTTXZrQA8++OCD72tA6KKLLrpobEDBBx988OFsQJtssskmW21AdNFFF13UbUBNNtlkk01uQCabbLLJxm5A//////8/b0DZZJNNNrlvQNlkk002GXBARhdddNFVcECyySabbJJwQB988MEHz3BAiy666KILcUD44IMPPkhxQGWTTTbZhHFA0UUXXXTBcUA++OCDD/5xQKqqqqqqOnJAF1100UV3ckCEDz744LNyQPDBBx988HJAXXTRRRctc0DJJptssmlzQDbZZJNNpnNAo4suuujic0APPvjggx90QHzwwQcfXHRA6KKLLrqYdEBVVVVVVdV0QMIHH3zwEXVALrroootOdUCbbLLJJot1QAcffPDBx3VAdNFFF10EdkDhgw8++EB2QE022WSTfXZAuuiiiy66dkAmm2yyyfZ2QJNNNtlkM3dAAAAAAABwd0Bssskmm6x3QNlkk0026XdARRdddNEleECyySabbGJ4QB988MEHn3hAiy666KLbeED44IMPPhh5QGSTTTbZVHlA0UUXXXSReUA++OCDD855QAAAAAAAAAAACtT6lQK1DkAK1PqVArUeQAgffPDBBydACtT6lQK1LkCGxLydITEzQAgffPDBBzdAiXk7Q2LeOkAK1PqVArU+QEYXXXTRRUFAhsS8nSExQ0DHcRzHcRxFQAgffPDBB0dASMzbGRLzSECJeTtDYt5KQMkmm2yyyUxACtT6lQK1TkClQK1fKVBQQEYXXXTRRVFA5u0MiXk7UkCGxLydITFTQCebbLLJJlRAx3Ecx3EcVUBnSMzbGRJWQAgffPDBB1dAqPUrBWr9V0BIzNsZEvNYQOiiiy666FlAiXk7Q2LeWkApUOtXCtRbQMkmm2yyyVxAav1KgVq/XUAK1PqVArVeQKqqqqqqql9ApUCtXylQYED1KwVq/cpgQEYXXXTRRWFAlgK1fqXAYUDm7QyJeTtiQDbZZJNNtmJAhsS8nSExY0DWrxSo9atjQCebbLLJJmRAd4bEvJ2hZEDHcRzHcRxlQBdddNFFl2VAZ0jM2xkSZkC3MyTm7YxmQAgffPDBB2dAWArU+pWCZ0Co9SsFav1nQPjggw8+eGhASMzbGRLzaECYtzMk5m1pQOiiiy666GlAOY7jOI5jakCJeTtDYt5qQNlkk002WWtAKVDrVwrUa0B5O0Ni3k5sQMkmm2yyyWxAGhLzdoZEbUBq/UqBWr9tQLrooosuOm5ACtT6lQK1bkBav1Kg1i9vQKqqqqqqqm9A/UqBWr8ScEClQK1fKVBwQE022WSTjXBA9SsFav3KcECeITFvZwhxQEYXXXTRRXFA7gyJeTuDcUCWArV+pcBxQD744IMP/nFA5u0MiXk7ckCO4ziO43hyQDbZZJNNtnJA3s6QmLfzckCGxLydITFzQC666KKLbnNA1q8UqPWrc0B+pUCtX+lzQCebbLLJJnRAz5CYtzNkdEB3hsS8naF0QB988MEH33RAx3Ecx3EcdUBvZ0jM21l1QBdddNFFl3VAv1Kg1q/UdUBnSMzbGRJ2QA8++OCDT3ZAtzMk5u2MdkBfKVDrV8p2QAgffPDBB3dAsBSo9StFd0BYCtT6lYJ3QAAAAAAAwHdAqPUrBWr9d0BQ61cK1Dp4QPjggw8+eHhAoNavFKi1eEBIzNsZEvN4QPDBBx98MHlAmLczJOZteUBArV8pUKt5QOiiiy666HlAkZi3MyQmekAAAAAAAAAAAMdxHMdxHA9Ax3Ecx3EcH0BVVVVVVVUnQMdxHMdxHC9AHMdxHMdxM0BVVVVVVVU3QI7jOI7jODtAx3Ecx3EcP0AAAAAAAIBBQBzHcRzHcUNAOY7jOI5jRUBVVVVVVVVHQHIcx3EcR0lAjuM4juM4S0CrqqqqqipNQMdxHMdxHE9AchzHcRyHUEAAAAAAAIBRQI7jOI7jeFJAHMdxHMdxU0CrqqqqqmpUQDmO4ziOY1VAx3Ecx3FcVkBVVVVVVVVXQOM4juM4TlhAchzHcRxHWUAAAAAAAEBaQI7jOI7jOFtAHMdxHMcxXECrqqqqqipdQDmO4ziOI15Ax3Ecx3EcX0CrqqqqqgpgQHIcx3Ech2BAOY7jOI4DYUAAAAAAAIBhQMdxHMdx/GFAjuM4juN4YkBVVVVVVfViQBzHcRzHcWNA4ziO4zjuY0CrqqqqqmpkQHIcx3Ec52RAOY7jOI5jZUAAAAAAAOBlQMdxHMdxXGZAjuM4juPYZkBVVVVVVVVnQBzHcRzH0WdA4ziO4zhOaECrqqqqqspoQHIcx3EcR2lAOY7jOI7DaUAAAAAAAEBqQMdxHMdxvGpAjuM4juM4a0BVVVVVVbVrQBzHcRzHMWxA4ziO4ziubECrqqqqqiptQHIcx3Ecp21AOY7jOI4jbkAAAAAAAKBuQMdxHMdxHG9AjuM4juOYb0CrqqqqqgpwQI7jOI7jSHBAchzHcRyHcEBVVVVVVcVwQDmO4ziOA3FAHMdxHMdBcUAAAAAAAIBxQOM4juM4vnFAx3Ecx3H8cUCrqqqqqjpyQI7jOI7jeHJAchzHcRy3ckBVVVVVVfVyQDmO4ziOM3NAHMdxHMdxc0AAAAAAALBzQOM4juM47nNAx3Ecx3EsdECrqqqqqmp0QI7jOI7jqHRAchzHcRzndEBVVVVVVSV1QDmO4ziOY3VAHMdxHMehdUAAAAAAAOB1QOM4juM4HnZAx3Ecx3FcdkCrqqqqqpp2QI7jOI7j2HZAchzHcRwXd0BVVVVVVVV3QDmO4ziOk3dAHMdxHMfRd0AAAAAAABB4QOM4juM4TnhAx3Ecx3GMeECrqqqqqsp4QI7jOI7jCHlAchzHcRxHeUBVVVVVVYV5QDmO4ziOw3lAHMdxHMcBekAAAAAAAEB6QOM4juM4fnpAAAAAAAAAAACEDz744IMPQIQPPvjggx9Ao4suuuiiJ0CEDz744IMvQLLJJptssjNAo4suuuiiN0CUTTbZZJM7QIQPPvjggz9Auuiiiy66QUCyySabbLJDQKuqqqqqqkVAo4suuuiiR0CbbLLJJptJQJRNNtlkk0tAjC666KKLTUCEDz744INPQD744IMPvlBAuuiiiy66UUA22WSTTbZSQLLJJptsslNAL7rooouuVECrqqqqqqpVQCebbLLJplZAo4suuuiiV0AffPDBB59YQJtssskmm1lAF1100UWXWkCUTTbZZJNbQBA++OCDj1xAjC666KKLXUAIH3zwwYdeQIQPPvjgg19AAAAAAABAYEA++OCDD75gQHzwwQcfPGFAuuiiiy66YUD44IMPPjhiQDbZZJNNtmJAdNFFF100Y0CyySabbLJjQPHBBx98MGRAL7rooouuZEBtsskmmyxlQKuqqqqqqmVA6aKLLrooZkAnm2yyyaZmQGWTTTbZJGdAo4suuuiiZ0Dhgw8++CBoQB988MEHn2hAXXTRRRcdaUCbbLLJJptpQNlkk002GWpAF1100UWXakBVVVVVVRVrQJRNNtlkk2tA0kUXXXQRbEAQPvjgg49sQE422WSTDW1AjC666KKLbUDKJptssgluQAgffPDBh25ARhdddNEFb0CEDz744INvQOGDDz74AHBAAAAAAABAcEAffPDBB39wQD744IMPvnBAXXTRRRf9cEB88MEHHzxxQJtssskme3FAuuiiiy66cUDZZJNNNvlxQPjggw8+OHJAF1100UV3ckA22WSTTbZyQFVVVVVV9XJAdNFFF100c0CTTTbZZHNzQLLJJptssnNA0kUXXXTxc0DxwQcffDB0QBA++OCDb3RAL7rooouudEBONtlkk+10QG2yySabLHVAjC666KJrdUCrqqqqqqp1QMomm2yy6XVA6aKLLroodkAIH3zwwWd2QCebbLLJpnZARhdddNHldkBlk0022SR3QIQPPvjgY3dAo4suuuiid0DCBx988OF3QOGDDz74IHhAAAAAAABgeEAffPDBB594QD744IMP3nhAXXTRRRcdeUB88MEHH1x5QJtssskmm3lAuuiiiy7aeUDZZJNNNhl6QPjggw8+WHpAF1100UWXekA22WSTTdZ6QAAAAAAAAAAAQK1fKVDrD0BArV8pUOsfQPDBBx988CdAQK1fKVDrL0BIzNsZEvMzQPDBBx988DdAmLczJObtO0BArV8pUOs/QHTRRRdd9EFASMzbGRLzQ0Acx3Ecx/FFQPDBBx988EdAxLydITHvSUCYtzMk5u1LQGyyySab7E1AQK1fKVDrT0AK1PqVAvVQQHTRRRdd9FFA3s6QmLfzUkBIzNsZEvNTQLLJJpts8lRAHMdxHMfxVUCGxLydIfFWQPDBBx988FdAWr9SoNbvWEDEvJ0hMe9ZQC666KKL7lpAmLczJObtW0ACtX6lQO1cQGyyySab7F1A1q8UqPXrXkBArV8pUOtfQFVVVVVVdWBACtT6lQL1YEC/UqDWr3RhQHTRRRdd9GFAKVDrVwp0YkDezpCYt/NiQJNNNtlkc2NASMzbGRLzY0D9SoFav3JkQLLJJpts8mRAZ0jM2xlyZUAcx3Ecx/FlQNFFF110cWZAhsS8nSHxZkA7Q2LeznBnQPDBBx988GdApUCtXylwaEBav1Kg1u9oQA8++OCDb2lAxLydITHvaUB5O0Ni3m5qQC666KKL7mpA4ziO4zhua0CYtzMk5u1rQE022WSTbWxAArV+pUDtbEC3MyTm7WxtQGyyySab7G1AITFvZ0hsbkDWrxSo9etuQIsuuuiia29AQK1fKVDrb0D6lQK1fjVwQFVVVVVVdXBAsBSo9Su1cEAK1PqVAvVwQGSTTTbZNHFAv1Kg1q90cUAaEvN2hrRxQHTRRRdd9HFAzpCYtzM0ckApUOtXCnRyQIQPPvjgs3JA3s6QmLfzckA4juM4jjNzQJNNNtlkc3NA7gyJeTuzc0BIzNsZEvNzQKKLLrroMnRA/UqBWr9ydEBYCtT6lbJ0QLLJJpts8nRADIl5O0MydUBnSMzbGXJ1QMIHH3zwsXVAHMdxHMfxdUB2hsS8nTF2QNFFF110cXZALAVq/UqxdkCGxLydIfF2QOCDDz74MHdAO0Ni3s5wd0CWArV+pbB3QPDBBx988HdASoFav1IweEClQK1fKXB4QAAAAAAAsHhAWr9SoNbveEC0fqVArS95QA8++OCDb3lAav1KgVqveUDEvJ0hMe95QB588MEHL3pAeTtDYt5uekDU+pUCta56QC666KKL7npAiHk7Q2Iue0AAAAAAAAAAAH+lQK1fKRBAf6VArV8pIEA++OCDDz4oQH+lQK1fKTBA386QmLczNEA++OCDDz44QJ4hMW9nSDxAf6VArV8pQEAvuuiiiy5CQN/OkJi3M0RAj+M4juM4RkA++OCDDz5IQO4MiXk7Q0pAniExb2dITEBONtlkk01OQH+lQK1fKVBA168UqPUrUUAvuuiiiy5SQIfEvJ0hMVNA386QmLczVEA32WSTTTZVQI/jOI7jOFZA5+0MiXk7V0A++OCDDz5YQJYCtX6lQFlA7gyJeTtDWkBGF1100UVbQJ4hMW9nSFxA9isFav1KXUBONtlkk01eQKZArV8pUF9Af6VArV8pYECrqqqqqqpgQNevFKj1K2FAA7V+pUCtYUAvuuiiiy5iQFu/UqDWr2JAh8S8nSExY0CzySabbLJjQN/OkJi3M2RAC9T6lQK1ZEA32WSTTTZlQGPezpCYt2VAj+M4juM4ZkC76KKLLrpmQOftDIl5O2dAE/N2hsS8Z0A++OCDDz5oQGr9SoFav2hAlgK1fqVAaUDCBx988MFpQO4MiXk7Q2pAGhLzdobEakBGF1100UVrQHIcx3Ecx2tAniExb2dIbEDKJptssslsQPYrBWr9Sm1AIjFvZ0jMbUBONtlkk01uQHo7Q2Lezm5ApkCtXylQb0DSRRdddNFvQH+lQK1fKXBAFaj1KwVqcECrqqqqqqpwQEGtXylQ63BA168UqPUrcUBtsskmm2xxQAO1fqVArXFAmbczJObtcUAvuuiiiy5yQMW8nSExb3JAW79SoNavckDxwQcffPByQIfEvJ0hMXNAHcdxHMdxc0CzySabbLJzQEnM2xkS83NA386QmLczdEB10UUXXXR0QAvU+pUCtXRAodavFKj1dEA32WSTTTZ1QM3bGRLzdnVAY97OkJi3dUD54IMPPvh1QI/jOI7jOHZAJebtDIl5dkC76KKLLrp2QFHrVwrU+nZA5+0MiXk7d0B98MEHH3x3QBPzdobEvHdAqfUrBWr9d0A++OCDDz54QNT6lQK1fnhAav1KgVq/eEAAAAAAAAB5QJYCtX6lQHlALAVq/UqBeUDCBx988MF5QFgK1PqVAnpA7gyJeTtDekCEDz744IN6QBoS83aGxHpAsBSo9SsFe0BGF1100UV7QNwZEvN2hntAAAAAAAAAAABddNFFF10QQF100UUXXSBAjC666KKLKEBddNFFF10wQHTRRRdddDRAjC666KKLOECjiy666KI8QF100UUXXUBA6aKLLrpoQkB00UUXXXREQAAAAAAAgEZAjC666KKLSEAXXXTRRZdKQKOLLrrookxALrrooouuTkBddNFFF11QQKOLLrroYlFA6aKLLrpoUkAuuuiii25TQHTRRRdddFRAuuiiiy56VUAAAAAAAIBWQEYXXXTRhVdAjC666KKLWEDRRRdddJFZQBdddNFFl1pAXXTRRRedW0Cjiy666KJcQOmiiy66qF1ALrrooouuXkB00UUXXbRfQF100UUXXWBAAAAAAADgYECjiy666GJhQEYXXXTR5WFA6aKLLrpoYkCMLrrooutiQC666KKLbmNA0UUXXXTxY0B00UUXXXRkQBdddNFF92RAuuiiiy56ZUBddNFFF/1lQAAAAAAAgGZAo4suuugCZ0BGF1100YVnQOmiiy66CGhAjC666KKLaEAuuuiiiw5pQNFFF110kWlAdNFFF10UakAXXXTRRZdqQLrooosuGmtAXXTRRReda0AAAAAAACBsQKOLLrroomxARhdddNElbUDpoosuuqhtQIsuuuiiK25ALrrooouubkDRRRdddDFvQHTRRRddtG9AjC666KIbcEBddNFFF11wQC666KKLnnBAAAAAAADgcEDRRRdddCFxQKOLLrroYnFAdNFFF12kcUBGF1100eVxQBdddNFFJ3JA6aKLLrpockC66KKLLqpyQIwuuuii63JAXXTRRRctc0Auuuiii25zQAAAAAAAsHNA0UUXXXTxc0Cjiy666DJ0QHTRRRdddHRARhdddNG1dEAXXXTRRfd0QOmiiy66OHVAuuiiiy56dUCMLrroort1QF100UUX/XVALrrooos+dkAAAAAAAIB2QNFFF110wXZAo4suuugCd0B00UUXXUR3QEYXXXTRhXdAF1100UXHd0Dpoosuugh4QLrooosuSnhAjC666KKLeEBddNFFF814QC666KKLDnlAAAAAAABQeUDRRRdddJF5QKOLLrro0nlAdNFFF10UekBGF1100VV6QBdddNFFl3pA6aKLLrrYekC66KKLLhp7QIsuuuiiW3tAXXTRRRede0Auuuiii957QAAAAAAAAAAAO0Ni3s6QEEA7Q2LezpAgQNhkk0022ShAO0Ni3s6QMEAK1PqVArU0QNhkk0022ThAp/UrBWr9PEA7Q2LezpBAQKKLLrrookJACtT6lQK1REBxHMdxHMdGQNhkk0022UhAQK1fKVDrSkCn9SsFav1MQA8++OCDD09AO0Ni3s6QUEBvZ0jM25lRQKKLLrroolJA1q8UqPWrU0AK1PqVArVUQD344IMPvlVAcRzHcRzHVkClQK1fKdBXQNhkk0022VhADIl5O0PiWUBArV8pUOtaQHTRRRdd9FtAp/UrBWr9XEDbGRLzdgZeQA8++OCDD19AITFvZ0gMYEA7Q2LezpBgQFVVVVVVFWFAb2dIzNuZYUCJeTtDYh5iQKKLLrroomJAvJ0hMW8nY0DWrxSo9atjQPDBBx98MGRACtT6lQK1ZEAk5u0MiTllQD344IMPvmVAVwrU+pVCZkBxHMdxHMdmQIsuuuiiS2dApUCtXynQZ0C/UqDWr1RoQNhkk0022WhA8naGxLxdaUAMiXk7Q+JpQCabbLLJZmpAQK1fKVDrakBav1Kg1m9rQHTRRRdd9GtAjeM4juN4bECn9SsFav1sQMEHH3zwgW1A2xkS83YGbkD1KwVq/YpuQA8++OCDD29AKFDrVwqUb0AhMW9nSAxwQC666KKLTnBAO0Ni3s6QcEBIzNsZEtNwQFVVVVVVFXFAYt7OkJhXcUBvZ0jM25lxQHzwwQcf3HFAiXk7Q2IeckCVArV+pWByQKKLLrroonJArxSo9SvlckC8nSExbydzQMkmm2yyaXNA1q8UqPWrc0DjOI7jOO5zQPDBBx98MHRA/UqBWr9ydEAK1PqVArV0QBdddNFF93RAJObtDIk5dUAxb2dIzHt1QD344IMPvnVASoFav1IAdkBXCtT6lUJ2QGSTTTbZhHZAcRzHcRzHdkB+pUCtXwl3QIsuuuiiS3dAmLczJOaNd0ClQK1fKdB3QLLJJptsEnhAv1Kg1q9UeEDM2xkS85Z4QNhkk0022XhA5e0MiXkbeUDydobEvF15QP//////n3lADIl5O0PieUAZEvN2hiR6QCabbLLJZnpAMyTm7QypekBArV8pUOt6QE022WSTLXtAWr9SoNZve0BnSMzbGbJ7QHTRRRdd9HtAgFq/UqA2fEAAAAAAAAAAABoS83aGxBBAGhLzdobEIEAnm2yyySYpQBoS83aGxDBAoNavFKj1NEAnm2yyySY5QK5fKVDrVz1AGhLzdobEQEBddNFFF91CQKDWrxSo9URA5DiO4zgOR0Anm2yyySZJQGr9SoFaP0tArl8pUOtXTUDxwQcffHBPQBoS83aGxFBAPENi3s7QUUBddNFFF91SQH+lQK1f6VNAoNavFKj1VEDCBx988AFWQOQ4juM4DldABWr9SoEaWEAnm2yyySZZQEnM2xkSM1pAav1KgVo/W0CMLrrooktcQK5fKVDrV11Az5CYtzNkXkDxwQcffHBfQIl5O0NiPmBAGhLzdobEYECrqqqqqkphQDxDYt7O0GFAzNsZEvNWYkBddNFFF91iQO4MiXk7Y2NAf6VArV/pY0AQPvjgg29kQKDWrxSo9WRAMW9nSMx7ZUDCBx988AFmQFOg1q8UiGZA5DiO4zgOZ0B10UUXXZRnQAVq/UqBGmhAlgK1fqWgaEAnm2yyySZpQLgzJObtrGlASczbGRIzakDZZJNNNrlqQGr9SoFaP2tA+5UCtX7Fa0CMLrrooktsQB3HcRzH0WxArl8pUOtXbUA++OCDD95tQM+QmLczZG5AYClQ61fqbkDxwQcffHBvQIJav1Kg9m9AiXk7Q2I+cEDSRRdddIFwQBoS83aGxHBAYt7OkJgHcUCrqqqqqkpxQPN2hsS8jXFAPENi3s7QcUCEDz744BNyQMzbGRLzVnJAFaj1KwWackBddNFFF91yQKZArV8pIHNA7gyJeTtjc0A22WSTTaZzQH+lQK1f6XNAx3Ecx3EsdEAQPvjgg290QFgK1PqVsnRAoNavFKj1dEDpoosuujh1QDFvZ0jMe3VAejtDYt6+dUDCBx988AF2QAvU+pUCRXZAU6DWrxSIdkCbbLLJJst2QOQ4juM4DndALAVq/UpRd0B10UUXXZR3QL2dITFv13dABWr9SoEaeEBONtlkk114QJYCtX6loHhA386QmLfjeEAnm2yyySZ5QG9nSMzbaXlAuDMk5u2seUAAAAAAAPB5QEnM2xkSM3pAkZi3MyR2ekDZZJNNNrl6QCIxb2dI/HpAav1KgVo/e0CzySabbIJ7QPuVArV+xXtAQ2LezpAIfECMLrrookt8QNT6lQK1jnxAAAAAAAAAAAD44IMPPvgQQPjggw8++CBAdNFFF110KUD44IMPPvgwQDbZZJNNNjVAdNFFF110OUCyySabbLI9QPjggw8++EBAF1100UUXQ0A22WSTTTZFQFVVVVVVVUdAdNFFF110SUCTTTbZZJNLQLLJJptssk1A0UUXXXTRT0D44IMPPvhQQAgffPDBB1JAF1100UUXU0Amm2yyySZUQDbZZJNNNlVARhdddNFFVkBVVVVVVVVXQGSTTTbZZFhAdNFFF110WUCEDz744INaQJNNNtlkk1tAoosuuuiiXECyySabbLJdQMIHH3zwwV5A0UUXXXTRX0DwwQcffHBgQPjggw8++GBAAAAAAACAYUAIH3zwwQdiQA8++OCDj2JAF1100UUXY0AffPDBB59jQCabbLLJJmRALrrooouuZEA22WSTTTZlQD744IMPvmVARhdddNFFZkBNNtlkk81mQFVVVVVVVWdAXXTRRRfdZ0Bkk0022WRoQGyyySab7GhAdNFFF110aUB88MEHH/xpQIQPPvjgg2pAiy666KILa0CTTTbZZJNrQJtssskmG2xAoosuuuiibECqqqqqqiptQLLJJptssm1Auuiiiy46bkDCBx988MFuQMkmm2yySW9A0UUXXXTRb0BssskmmyxwQPDBBx98cHBAdNFFF120cED44IMPPvhwQHzwwQcfPHFAAAAAAACAcUCEDz744MNxQAgffPDBB3JAiy666KJLckAPPvjgg49yQJNNNtlk03JAF1100UUXc0CbbLLJJltzQB988MEHn3NAo4suuujic0Amm2yyySZ0QKqqqqqqanRALrrooouudECyySabbPJ0QDbZZJNNNnVAuuiiiy56dUA++OCDD751QMIHH3zwAXZARhdddNFFdkDJJptssol2QE022WSTzXZA0UUXXXQRd0BVVVVVVVV3QNlkk002mXdAXXTRRRfdd0Dhgw8++CB4QGSTTTbZZHhA6KKLLrqoeEBssskmm+x4QPDBBx98MHlAdNFFF110eUD44IMPPrh5QHzwwQcf/HlAAAAAAABAekCEDz744IN6QAcffPDBx3pAiy666KILe0APPvjgg097QJNNNtlkk3tAF1100UXXe0CbbLLJJht8QB988MEHX3xAoosuuuiifEAmm2yyyeZ8QAAAAAAAAAAA168UqPUrEUDXrxSo9SshQMIHH3zwwSlA168UqPUrMUDN2xkS83Y1QMIHH3zwwTlAuDMk5u0MPkDXrxSo9StBQNJFF110UUNAzdsZEvN2RUDIcRzHcZxHQMIHH3zwwUlAvZ0hMW/nS0C4MyTm7QxOQNpkk002GVBA168UqPUrUUDU+pUCtT5SQNJFF110UVNAz5CYtzNkVEDN2xkS83ZVQMomm2yyiVZAyHEcx3GcV0DFvJ0hMa9YQMIHH3zwwVlAwFKg1q/UWkC9nSExb+dbQLvooosu+lxAuDMk5u0MXkC2fqVArR9fQNpkk002GWBAWArU+pWiYEDXrxSo9SthQFZVVVVVtWFA1PqVArU+YkBToNavFMhiQNJFF110UWNAUetXCtTaY0DPkJi3M2RkQE422WST7WRAzdsZEvN2ZUBLgVq/UgBmQMomm2yyiWZASczbGRITZ0DIcRzHcZxnQEYXXXTRJWhAxbydITGvaEBEYt7OkDhpQMIHH3zwwWlAQa1fKVBLakDAUqDWr9RqQD/44IMPXmtAvZ0hMW/na0A8Q2LeznBsQLvooosu+mxAOo7jOI6DbUC4MyTm7QxuQDfZZJNNlm5Atn6lQK0fb0A0JObtDKlvQNpkk002GXBAmbczJOZdcEBYCtT6laJwQBhddNFF53BA168UqPUrcUCWArV+pXBxQFZVVVVVtXFAFaj1KwX6cUDU+pUCtT5yQJRNNtlkg3JAU6DWrxTIckAT83aGxAxzQNJFF110UXNAkZi3MySWc0BR61cK1NpzQBA++OCDH3RAz5CYtzNkdECP4ziO46h0QE422WST7XRADYl5O0MydUDN2xkS83Z1QIwuuuiiu3VAS4Fav1IAdkAL1PqVAkV2QMomm2yyiXZAink7Q2LOdkBJzNsZEhN3QAgffPDBV3dAyHEcx3Gcd0CHxLydIeF3QEYXXXTRJXhABmr9SoFqeEDFvJ0hMa94QIQPPvjg83hARGLezpA4eUADtX6lQH15QMIHH3zwwXlAglq/UqAGekBBrV8pUEt6QAEAAAAAkHpAwFKg1q/UekB/pUCtXxl7QD/44IMPXntA/kqBWr+ie0C9nSExb+d7QH3wwQcfLHxAPENi3s5wfED7lQK1frV8QLvooosu+nxAejtDYt4+fUAAAAAAAAAAALV+pUCtXxFAtX6lQK1fIUAQPvjggw8qQLV+pUCtXzFAYt7OkJi3NUAQPvjggw86QL2dITFvZz5AtX6lQK1fQUCMLrroootDQGLezpCYt0VAOY7jOI7jR0AQPvjggw9KQObtDIl5O0xAvZ0hMW9nTkDKJptssklQQLV+pUCtX1FAoNavFKh1UkCMLrroootTQHeGxLydoVRAYt7OkJi3VUBONtlkk81WQDmO4ziO41dAJObtDIn5WEAQPvjggw9aQPuVArV+JVtA5u0MiXk7XEDRRRdddFFdQL2dITFvZ15AqPUrBWp9X0DKJptssklgQL9SoNav1GBAtX6lQK1fYUCrqqqqquphQKDWrxSodWJAlgK1fqUAY0CMLrroootjQIFav1KgFmRAd4bEvJ2hZEBtsskmmyxlQGLezpCYt2VAWArU+pVCZkBONtlkk81mQENi3s6QWGdAOY7jOI7jZ0Avuuiii25oQCTm7QyJ+WhAGhLzdoaEaUAQPvjggw9qQAVq/UqBmmpA+5UCtX4la0DwwQcffLBrQObtDIl5O2xA3BkS83bGbEDRRRdddFFtQMdxHMdx3G1AvZ0hMW9nbkCyySabbPJuQKj1KwVqfW9Az5CYtzMEcEDKJptssklwQMW8nSExj3BAv1Kg1q/UcEC66KKLLhpxQLV+pUCtX3FAsBSo9SulcUCrqqqqqupxQKVArV8pMHJAoNavFKh1ckCbbLLJJrtyQJYCtX6lAHNAkZi3MyRGc0CMLrroootzQIbEvJ0h0XNAgVq/UqAWdEB88MEHH1x0QHeGxLydoXRAchzHcRzndEBtsskmmyx1QGdIzNsZcnVAYt7OkJi3dUBddNFFF/11QFgK1PqVQnZAU6DWrxSIdkBONtlkk812QEjM2xkSE3dAQ2LezpBYd0A++OCDD553QDmO4ziO43dANCTm7QwpeEAvuuiii254QClQ61cKtHhAJObtDIn5eEAffPDBBz95QBoS83aGhHlAFaj1KwXKeUAQPvjggw96QArU+pUCVXpABWr9SoGaekAAAAAAAOB6QPuVArV+JXtA9isFav1qe0DwwQcffLB7QOtXCtT69XtA5u0MiXk7fEDhgw8++IB8QNwZEvN2xnxA168UqPULfUDRRRdddFF9QMzbGRLzln1AAAAAAAAAAACTTTbZZJMRQJNNNtlkkyFAXHTRRRddKkCTTTbZZJMxQPjggw8++DVAXHTRRRddOkDBBx988ME+QJNNNtlkk0FARRdddNHFQ0D44IMPPvhFQKqqqqqqKkhAXHTRRRddSkAPPvjgg49MQMEHH3zwwU5Auuiiiy56UECTTTbZZJNRQGyyySabrFJARRdddNHFU0AffPDBB99UQPjggw8++FVA0UUXXXQRV0CqqqqqqipYQIMPPvjgQ1lAXHTRRRddWkA22WSTTXZbQA8++OCDj1xA6KKLLrqoXUDBBx988MFeQJpssskm219Auuiiiy56YEAmm2yyyQZhQJNNNtlkk2FAAAAAAAAgYkBssskmm6xiQNlkk002OWNARRdddNHFY0CyySabbFJkQB988MEH32RAiy666KJrZUD44IMPPvhlQGSTTTbZhGZA0UUXXXQRZ0A++OCDD55nQKqqqqqqKmhAF1100UW3aECDDz744ENpQPDBBx980GlAXHTRRRddakDJJptssulqQDbZZJNNdmtAoosuuugCbEAPPvjgg49sQHvwwQcfHG1A6KKLLrqobUBVVVVVVTVuQMEHH3zwwW5ALrroootOb0CabLLJJttvQIQPPvjgM3BAuuiiiy56cEDwwQcffMBwQCabbLLJBnFAXXTRRRdNcUCTTTbZZJNxQMkmm2yy2XFAAAAAAAAgckA22WSTTWZyQGyyySabrHJAoosuuujyckDZZJNNNjlzQA8++OCDf3NARRdddNHFc0B88MEHHwx0QLLJJptsUnRA6KKLLrqYdEAffPDBB990QFVVVVVVJXVAiy666KJrdUDBBx988LF1QPjggw8++HVALrrooos+dkBkk0022YR2QJtssskmy3ZA0UUXXXQRd0AHH3zwwVd3QD744IMPnndAdNFFF13kd0Cqqqqqqip4QOCDDz74cHhAF1100UW3eEBNNtlkk/14QIMPPvjgQ3lAuuiiiy6KeUDwwQcffNB5QCabbLLJFnpAXHTRRRddekCTTTbZZKN6QMkmm2yy6XpA//////8ve0A22WSTTXZ7QGyyySabvHtAoosuuugCfEDZZJNNNkl8QA8++OCDj3xARRdddNHVfEB78MEHHxx9QLLJJptsYn1A6KKLLrqofUAefPDBB+99QAAAAAAAAAAAchzHcRzHEUByHMdxHMchQKuqqqqqqipAchzHcRzHMUCO4ziO4zg2QKuqqqqqqjpAyHEcx3EcP0ByHMdxHMdBQAAAAAAAAERAjuM4juM4RkAdx3Ecx3FIQKuqqqqqqkpAOY7jOI7jTEDIcRzHcRxPQKuqqqqqqlBAchzHcRzHUUA5juM4juNSQAAAAAAAAFRAx3Ecx3EcVUCO4ziO4zhWQFZVVVVVVVdAHcdxHMdxWEDkOI7jOI5ZQKuqqqqqqlpAchzHcRzHW0A5juM4juNcQAAAAAAAAF5AyHEcx3EcX0DHcRzHcRxgQKuqqqqqqmBAjuM4juM4YUByHMdxHMdhQFZVVVVVVWJAOY7jOI7jYkAdx3Ecx3FjQAAAAAAAAGRA5DiO4ziOZEDHcRzHcRxlQKuqqqqqqmVAjuM4juM4ZkByHMdxHMdmQFZVVVVVVWdAOY7jOI7jZ0Adx3Ecx3FoQAAAAAAAAGlA5DiO4ziOaUDHcRzHcRxqQKuqqqqqqmpAj+M4juM4a0ByHMdxHMdrQFZVVVVVVWxAOY7jOI7jbEAdx3Ecx3FtQAAAAAAAAG5A5DiO4ziObkDIcRzHcRxvQKuqqqqqqm9Ax3Ecx3EccEA5juM4jmNwQKuqqqqqqnBAHcdxHMfxcECO4ziO4zhxQAAAAAAAgHFAchzHcRzHcUDkOI7jOA5yQFZVVVVVVXJAx3Ecx3GcckA5juM4juNyQKuqqqqqKnNAHcdxHMdxc0CO4ziO47hzQAAAAAAAAHRAchzHcRxHdEDkOI7jOI50QFZVVVVV1XRAx3Ecx3EcdUA5juM4jmN1QKuqqqqqqnVAHcdxHMfxdUCO4ziO4zh2QAAAAAAAgHZAchzHcRzHdkDkOI7jOA53QFZVVVVVVXdAx3Ecx3Gcd0A5juM4juN3QKuqqqqqKnhAHcdxHMdxeECP4ziO47h4QAAAAAAAAHlAchzHcRxHeUDkOI7jOI55QFZVVVVV1XlAx3Ecx3EcekA5juM4jmN6QKuqqqqqqnpAHcdxHMfxekCP4ziO4zh7QAAAAAAAgHtAchzHcRzHe0DkOI7jOA58QFZVVVVVVXxAx3Ecx3GcfEA5juM4juN8QKuqqqqqKn1AHcdxHMdxfUCP4ziO47h9QAAAAAAAAH5AchzHcRxHfkAAAAAAAAAAAFDrVwrU+hFAUOtXCtT6IUD44IMPPvgqQFDrVwrU+jFAJObtDIl5NkD44IMPPvg6QMzbGRLzdj9AUOtXCtT6QUC66KKLLjpEQCTm7QyJeUZAjuM4juO4SED44IMPPvhKQGLezpCYN01AzNsZEvN2T0CbbLLJJttQQFDrVwrU+lFABWr9SoEaU0C66KKLLjpUQG9nSMzbWVVAJObtDIl5VkDZZJNNNplXQI7jOI7juFhAQ2LezpDYWUD44IMPPvhaQK1fKVDrF1xAYt7OkJg3XUAXXXTRRVdeQMzbGRLzdl9AQK1fKVBLYECbbLLJJttgQPYrBWr9amFAUOtXCtT6YUCqqqqqqopiQAVq/UqBGmNAYClQ61eqY0C66KKLLjpkQBSo9SsFymRAb2dIzNtZZUDKJptssullQCTm7QyJeWZAfqVArV8JZ0DZZJNNNplnQDQk5u0MKWhAjuM4juO4aEDooosuukhpQENi3s6Q2GlAniExb2doakD44IMPPvhqQFKg1q8UiGtArV8pUOsXbEAIH3zwwadsQGLezpCYN21AvJ0hMW/HbUAXXXTRRVduQHIcx3Ec525AzNsZEvN2b0CTTTbZZANwQECtXylQS3BA7gyJeTuTcECbbLLJJttwQEjM2xkSI3FA9isFav1qcUCjiy666LJxQFDrVwrU+nFA/UqBWr9CckCqqqqqqopyQFgK1PqV0nJABWr9SoEac0CyySabbGJzQGApUOtXqnNADYl5O0Pyc0C66KKLLjp0QGdIzNsZgnRAFKj1KwXKdEDCBx988BF1QG9nSMzbWXVAHMdxHMehdUDKJptssul1QHeGxLydMXZAJObtDIl5dkDRRRdddMF2QH6lQK1fCXdALAVq/UpRd0DZZJNNNpl3QIbEvJ0h4XdANCTm7QwpeEDhgw8++HB4QI7jOI7juHhAO0Ni3s4AeUDooosuukh5QJYCtX6lkHlAQ2LezpDYeUDwwQcffCB6QJ4hMW9naHpAS4Fav1KwekD44IMPPvh6QKVArV8pQHtAUqDWrxSIe0AAAAAAANB7QK1fKVDrF3xAWr9SoNZffEAIH3zwwad8QLV+pUCt73xAYt7OkJg3fUAPPvjgg399QLydITFvx31Aav1KgVoPfkAXXXTRRVd+QMS8nSExn35AAAAAAAAAAAAuuuiiiy4SQC666KKLLiJARRdddNFFK0Auuuiiiy4yQLrooosuujZARRdddNFFO0DQRRdddNE/QC666KKLLkJAdNFFF110REC66KKLLrpGQP///////0hARRdddNFFS0CLLrroootNQNBFF1100U9Aiy666KILUUAuuuiiiy5SQNFFF110UVNAdNFFF110VEAXXXTRRZdVQLrooosuulZAXHTRRRfdV0D///////9YQKKLLrroIlpARRdddNFFW0DooosuumhcQIsuuuiii11ALrrooouuXkDQRRdddNFfQLrooosuemBAiy666KILYUBddNFFF51hQC666KKLLmJA//////+/YkDRRRdddFFjQKKLLrro4mNAdNFFF110ZEBFF1100QVlQBdddNFFl2VA6KKLLrooZkC66KKLLrpmQIsuuuiiS2dAXHTRRRfdZ0Auuuiii25oQP///////2hA0UUXXXSRaUCiiy666CJqQHTRRRddtGpARRdddNFFa0AWXXTRRddrQOiiiy66aGxAueiiiy76bECLLrrooottQFx00UUXHW5ALrrooouubkD//////z9vQNBFF1100W9A0UUXXXQxcEC66KKLLnpwQKKLLrrownBAiy666KILcUB00UUXXVRxQF100UUXnXFARRdddNHlcUAuuuiiiy5yQBdddNFFd3JA//////+/ckDooosuughzQNFFF110UXNAuuiiiy6ac0Ciiy666OJzQIsuuuiiK3RAdNFFF110dEBcdNFFF710QEUXXXTRBXVALrroootOdUAXXXTRRZd1QP//////33VA6KKLLroodkDRRRdddHF2QLrooosuunZAoosuuugCd0CLLrrookt3QHTRRRddlHdAXHTRRRfdd0BFF1100SV4QC666KKLbnhAF1100UW3eED///////94QOiiiy66SHlA0UUXXXSReUC56KKLLtp5QKKLLrroInpAiy666KJrekB00UUXXbR6QFx00UUX/XpARRdddNFFe0Auuuiii457QBZddNFF13tA//////8ffEDooosuumh8QNFFF110sXxAueiiiy76fECiiy666EJ9QIsuuuiii31Ac9FFF13UfUBcdNFFFx1+QEUXXXTRZX5ALrrooouufkAWXXTRRfd+QAAAAAAAAAAADYl5O0NiEkANiXk7Q2IiQJRNNtlkkytADYl5O0NiMkBQ61cK1Po2QJRNNtlkkztA61cK1PoVQEANiXk7Q2JCQC+66KKLrkRAUOtXCtT6RkByHMdxHEdJQJRNNtlkk0tAtX6lQK3fTUDrVwrU+hVQQHzwwQcfPFFADYl5O0NiUkCeITFvZ4hTQC+66KKLrlRAv1Kg1q/UVUBQ61cK1PpWQOGDDz74IFhAchzHcRxHWUADtX6lQG1aQJRNNtlkk1tAJObtDIm5XEC1fqVArd9dQEYXXXTRBV9A61cK1PoVYEA0JObtDKlgQHzwwQcfPGFAxbydITHPYUANiXk7Q2JiQFVVVVVV9WJAniExb2eIY0Dm7QyJeRtkQC+66KKLrmRAd4bEvJ1BZUC/UqDWr9RlQAgffPDBZ2ZAUOtXCtT6ZkCZtzMk5o1nQOGDDz74IGhAKVDrVwq0aEByHMdxHEdpQLrooosu2mlAA7V+pUBtakBLgVq/UgBrQJRNNtlkk2tA3BkS83YmbEAk5u0MiblsQG2yySabTG1AtX6lQK3fbUD+SoFav3JuQEYXXXTRBW9AjuM4juOYb0DrVwrU+hVwQBA++OCDX3BANCTm7QypcEBYCtT6lfJwQHzwwQcfPHFAoNavFKiFcUDFvJ0hMc9xQOmiiy66GHJADYl5O0NickAxb2dIzKtyQFVVVVVV9XJAejtDYt4+c0CeITFvZ4hzQMIHH3zw0XNA5u0MiXkbdEAK1PqVAmV0QC+66KKLrnRAU6DWrxT4dEB3hsS8nUF1QJtssskmi3VAv1Kg1q/UdUDkOI7jOB52QAgffPDBZ3ZALAVq/UqxdkBQ61cK1Pp2QHTRRRddRHdAmbczJOaNd0C9nSExb9d3QOGDDz74IHhABWr9SoFqeEApUOtXCrR4QE422WST/XhAchzHcRxHeUCWArV+pZB5QLrooosu2nlA3s6QmLcjekADtX6lQG16QCebbLLJtnpAS4Fav1IAe0BvZ0jM20l7QJRNNtlkk3tAuDMk5u3ce0DcGRLzdiZ8QAAAAAAAcHxAJObtDIm5fEBJzNsZEgN9QG2yySabTH1AkZi3MySWfUC1fqVArd99QNlkk002KX5A/kqBWr9yfkAiMW9nSLx+QEYXXXTRBX9Aav1KgVpPf0AAAAAAAAAAAOtXCtT6lRJA61cK1PqVIkDggw8++OArQOtXCtT6lTJA5u0MiXk7N0Dggw8++OA7QO4MiXk7Q0BA61cK1PqVQkDooosuuuhEQObtDIl5O0dA4ziO4ziOSUDggw8++OBLQN7OkJi3M05A7gyJeTtDUEBssskmm2xRQOtXCtT6lVJAav1KgVq/U0DooosuuuhUQGdIzNsZElZA5u0MiXk7V0Bkk0022WRYQOM4juM4jllAYt7OkJi3WkDggw8++OBbQF8pUOtXCl1A3s6QmLczXkBddNFFF11fQO4MiXk7Q2BArV8pUOvXYEBssskmm2xhQCwFav1KAWJA61cK1PqVYkCqqqqqqipjQGr9SoFav2NAKVDrVwpUZEDooosuuuhkQKj1KwVqfWVAZ0jM2xkSZkAmm2yyyaZmQObtDIl5O2dApUCtXynQZ0Bkk0022WRoQCTm7QyJ+WhA4ziO4ziOaUCiiy666CJqQGLezpCYt2pAITFvZ0hMa0Dggw8++OBrQKDWrxSodWxAXylQ61cKbUAffPDBB59tQN7OkJi3M25AnSExb2fIbkBddNFFF11vQBzHcRzH8W9A7gyJeTtDcEBNNtlkk41wQK1fKVDr13BADYl5O0MicUBssskmm2xxQMzbGRLztnFALAVq/UoBckCLLrrooktyQOtXCtT6lXJAS4Fav1LgckCqqqqqqipzQArU+pUCdXNAav1KgVq/c0DJJptssgl0QClQ61cKVHRAiXk7Q2KedEDooosuuuh0QEjM2xkSM3VAqPUrBWp9dUAHH3zwwcd1QGdIzNsZEnZAx3Ecx3FcdkAmm2yyyaZ2QIbEvJ0h8XZA5u0MiXk7d0BFF1100YV3QKVArV8p0HdABWr9SoEaeEBkk0022WR4QMS8nSExr3hAJObtDIn5eECDDz744EN5QOM4juM4jnlAQ2LezpDYeUCiiy666CJ6QAK1fqVAbXpAYt7OkJi3ekDBBx988AF7QCExb2dITHtAgVq/UqCWe0Dggw8++OB7QECtXylQK3xAoNavFKh1fEAAAAAAAMB8QF8pUOtXCn1Av1Kg1q9UfUAffPDBB599QH6lQK1f6X1A3s6QmLczfkA++OCDD35+QJ0hMW9nyH5A/UqBWr8Sf0BddNFFF11/QLydITFvp39AAAAAAAAAAADKJptssskSQMomm2yyySJAL7rooosuLEDKJptssskyQHzwwQcffDdAL7rooosuPEDxwQcffHBAQMomm2yyyUJAo4suuugiRUB88MEHH3xHQFZVVVVV1UlAL7rooosuTEAIH3zwwYdOQPHBBx98cFBAXXTRRRedUUDKJptssslSQDfZZJNN9lNAo4suuugiVUAQPvjgg09WQHzwwQcffFdA6aKLLrqoWEBWVVVVVdVZQMIHH3zwAVtAL7rooosuXECcbLLJJltdQAgffPDBh15AddFFF120X0DxwQcffHBgQCebbLLJBmFAXXTRRRedYUCUTTbZZDNiQMomm2yyyWJAAAAAAABgY0A32WSTTfZjQG2yySabjGRAo4suuugiZUDaZJNNNrllQBA++OCDT2ZARhdddNHlZkB88MEHH3xnQLPJJptsEmhA6aKLLrqoaEAffPDBBz9pQFZVVVVV1WlAjC666KJrakDCBx988AFrQPnggw8+mGtAL7rooosubEBlk0022cRsQJxssskmW21A0kUXXXTxbUAIH3zwwYduQD/44IMPHm9AddFFF120b0BWVVVVVSVwQPHBBx98cHBAjC666KK7cEAnm2yyyQZxQMIHH3zwUXFAXXTRRRedcUD54IMPPuhxQJRNNtlkM3JAL7rooot+ckDKJptssslyQGWTTTbZFHNAAAAAAABgc0CbbLLJJqtzQDfZZJNN9nNA0kUXXXRBdEBtsskmm4x0QAgffPDB13RAo4suuugidUA++OCDD251QNpkk002uXVAddFFF10EdkAQPvjgg092QKuqqqqqmnZARhdddNHldkDhgw8++DB3QHzwwQcffHdAGF100UXHd0CzySabbBJ4QE422WSTXXhA6aKLLrqoeECEDz744PN4QB988MEHP3lAu+iiiy6KeUBWVVVVVdV5QPHBBx98IHpAjC666KJrekAnm2yyybZ6QMIHH3zwAXtAXnTRRRdNe0D54IMPPph7QJRNNtlk43tAL7rooosufEDKJptssnl8QGWTTTbZxHxAAAAAAAAQfUCcbLLJJlt9QDfZZJNNpn1A0kUXXXTxfUBtsskmmzx+QAgffPDBh35Ao4suuujSfkA/+OCDDx5/QNpkk002aX9AddFFF120f0AQPvjgg/9/QAAAAAAAAAAAqPUrBWr9EkCo9SsFav0iQHzwwQcffCxAqPUrBWr9MkAS83aGxLw3QHzwwQcffDxA83aGxLydQECo9SsFav1CQF100UUXXUVAEvN2hsS8R0DHcRzHcRxKQHzwwQcffExAMW9nSMzbTkDzdobEvJ1QQE422WSTzVFAqPUrBWr9UkACtX6lQC1UQF100UUXXVVAuDMk5u2MVkAS83aGxLxXQGyyySab7FhAx3Ecx3EcWkAiMW9nSExbQHzwwQcffFxA1q8UqPWrXUAxb2dIzNteQEYXXXTRBWBA83aGxLydYECg1q8UqDVhQE422WSTzWFA+5UCtX5lYkCo9SsFav1iQFVVVVVVlWNAArV+pUAtZECwFKj1K8VkQF100UUXXWVACtT6lQL1ZUC4MyTm7YxmQGWTTTbZJGdAEvN2hsS8Z0C/UqDWr1RoQGyyySab7GhAGhLzdoaEaUDHcRzHcRxqQHTRRRddtGpAIjFvZ0hMa0DPkJi3M+RrQHzwwQcffGxAKVDrVwoUbUDWrxSo9attQIQPPvjgQ25AMW9nSMzbbkDezpCYt3NvQEYXXXTRBXBAHMdxHMdRcEDzdobEvJ1wQMomm2yy6XBAoNavFKg1cUB3hsS8nYFxQE422WSTzXFAJObtDIkZckD7lQK1fmVyQNFFF110sXJAqPUrBWr9ckB/pUCtX0lzQFVVVVVVlXNALAVq/Urhc0ACtX6lQC10QNlkk002eXRAsBSo9SvFdECGxLydIRF1QF100UUXXXVANCTm7QypdUAK1PqVAvV1QOGDDz74QHZAuDMk5u2MdkCO4ziO49h2QGWTTTbZJHdAO0Ni3s5wd0AS83aGxLx3QOmiiy66CHhAv1Kg1q9UeECWArV+paB4QGyyySab7HhAQ2LezpA4eUAaEvN2hoR5QPDBBx980HlAx3Ecx3EcekCeITFvZ2h6QHTRRRddtHpAS4Fav1IAe0AiMW9nSEx7QPjggw8+mHtAz5CYtzPke0ClQK1fKTB8QHzwwQcffHxAU6DWrxTIfEApUOtXChR9QAAAAAAAYH1A1q8UqPWrfUCtXylQ6/d9QIQPPvjgQ35AWr9SoNaPfkAxb2dIzNt+QAgffPDBJ39A3s6QmLdzf0C1fqVArb9/QEYXXXTRBYBAMW9nSMwrgEAAAAAAAAAAAIbEvJ0hMRNAhsS8nSExI0DJJptsssksQIbEvJ0hMTNAqPUrBWr9N0DJJptsssk8QPUrBWr9ykBAhsS8nSExQ0AXXXTRRZdFQKj1KwVq/UdAOI7jOI5jSkDJJptssslMQFq/UqDWL09A9SsFav3KUEA++OCDD/5RQIbEvJ0hMVNAzpCYtzNkVEAXXXTRRZdVQF8pUOtXylZAqPUrBWr9V0DwwQcffDBZQDiO4ziOY1pAgVq/UqCWW0DJJptssslcQBHzdobE/F1AWr9SoNYvX0DRRRdddDFgQPUrBWr9ymBAGRLzdoZkYUA++OCDD/5hQGLezpCYl2JAhsS8nSExY0CqqqqqqspjQM6QmLczZGRA83aGxLz9ZEAXXXTRRZdlQDtDYt7OMGZAXylQ61fKZkCDDz744GNnQKj1KwVq/WdAzNsZEvOWaEDwwQcffDBpQBSo9SsFymlAOI7jOI5jakBcdNFFF/1qQIFav1KglmtApUCtXykwbEDJJptssslsQO0MiXk7Y21AEfN2hsT8bUA22WSTTZZuQFq/UqDWL29AfqVArV/Jb0DRRRdddDFwQOM4juM4fnBA9SsFav3KcEAHH3zwwRdxQBkS83aGZHFALAVq/UqxcUA++OCDD/5xQFDrVwrUSnJAYt7OkJiXckB00UUXXeRyQIbEvJ0hMXNAmLczJOZ9c0CqqqqqqspzQLydITFvF3RAzpCYtzNkdEDggw8++LB0QPN2hsS8/XRABWr9SoFKdUAXXXTRRZd1QClQ61cK5HVAO0Ni3s4wdkBNNtlkk312QF8pUOtXynZAcRzHcRwXd0CDDz744GN3QJUCtX6lsHdAqPUrBWr9d0C66KKLLkp4QMzbGRLzlnhA3s6QmLfjeEDwwQcffDB5QAK1fqVAfXlAFKj1KwXKeUAmm2yyyRZ6QDiO4ziOY3pASoFav1KwekBcdNFFF/16QG9nSMzbSXtAgVq/UqCWe0CTTTbZZON7QKVArV8pMHxAtzMk5u18fEDJJptsssl8QNsZEvN2Fn1A7QyJeTtjfUD//////699QBHzdobE/H1AI+btDIlJfkA22WSTTZZ+QEjM2xkS435AWr9SoNYvf0Bssskmm3x/QH6lQK1fyX9ASMzbGRILgEDRRRdddDGAQFq/UqDWV4BAAAAAAAAAAABlk0022WQTQGWTTTbZZCNAGF100UUXLUBlk0022WQzQD744IMPPjhAGF100UUXPUD44IMPPvhAQGWTTTbZZENA0kUXXXTRRUA++OCDDz5IQKuqqqqqqkpAGF100UUXTUCEDz744INPQPjggw8++FBAL7rooosuUkBlk0022WRTQJtssskmm1RA0kUXXXTRVUAIH3zwwQdXQD744IMPPlhAddFFF110WUCrqqqqqqpaQOGDDz744FtAGF100UUXXUBONtlkk01eQIQPPvjgg19AXXTRRRddYED44IMPPvhgQJRNNtlkk2FAL7rooosuYkDKJptsssliQGWTTTbZZGNAAAAAAAAAZECbbLLJJptkQDbZZJNNNmVA0kUXXXTRZUBtsskmm2xmQAgffPDBB2dAo4suuuiiZ0A++OCDDz5oQNlkk0022WhAddFFF110aUAQPvjggw9qQKuqqqqqqmpARhdddNFFa0Dhgw8++OBrQHzwwQcffGxAGF100UUXbUCzySabbLJtQE422WSTTW5A6aKLLrrobkCEDz744INvQBA++OCDD3BAXXTRRRddcECrqqqqqqpwQPjggw8++HBARhdddNFFcUCUTTbZZJNxQOGDDz744HFAL7rooosuckB88MEHH3xyQMomm2yyyXJAF1100UUXc0Blk0022WRzQLPJJptssnNAAAAAAAAAdEBONtlkk010QJtssskmm3RA6aKLLrrodEA22WSTTTZ1QIQPPvjgg3VA0kUXXXTRdUAffPDBBx92QG2yySabbHZAuuiiiy66dkAIH3zwwQd3QFZVVVVVVXdAo4suuuiid0DxwQcffPB3QD744IMPPnhAjC666KKLeEDZZJNNNtl4QCebbLLJJnlAddFFF110eUDCBx988MF5QBA++OCDD3pAXXTRRRddekCrqqqqqqp6QPjggw8++HpARhdddNFFe0CUTTbZZJN7QOGDDz744HtAL7rooosufEB88MEHH3x8QMomm2yyyXxAGF100UUXfUBlk0022WR9QLPJJptssn1AAAAAAAAAfkBONtlkk01+QJtssskmm35A6aKLLrrofkA32WSTTTZ/QIQPPvjgg39A0kUXXXTRf0AQPvjggw+AQDbZZJNNNoBAXXTRRRddgECEDz744IOAQAAAAAAAAAAAQ2LezpCYE0BDYt7OkJgjQGSTTTbZZC1AQ2LezpCYM0DU+pUCtX44QGSTTTbZZD1A+5UCtX4lQUBDYt7OkJhDQIsuuuiiC0ZA1PqVArV+SEAcx3Ecx/FKQGSTTTbZZE1ArV8pUOvXT0D7lQK1fiVRQB988MEHX1JAQ2LezpCYU0BnSMzbGdJUQIsuuuiiC1ZAsBSo9StFV0DU+pUCtX5YQPjggw8+uFlAHMdxHMfxWkBArV8pUCtcQGSTTTbZZF1AiXk7Q2KeXkCtXylQ69dfQOmiiy66iGBA+5UCtX4lYUANiXk7Q8JhQB988MEHX2JAMW9nSMz7YkBDYt7OkJhjQFVVVVVVNWRAZ0jM2xnSZEB5O0Ni3m5lQIsuuuiiC2ZAnSExb2eoZkCwFKj1K0VnQMIHH3zw4WdA1PqVArV+aEDm7QyJeRtpQPjggw8+uGlACtT6lQJVakAcx3Ecx/FqQC666KKLjmtAQK1fKVArbEBSoNavFMhsQGSTTTbZZG1Ad4bEvJ0BbkCJeTtDYp5uQJtssskmO29ArV8pUOvXb0BfKVDrVzpwQOmiiy66iHBAchzHcRzXcED7lQK1fiVxQIQPPvjgc3FADYl5O0PCcUCWArV+pRByQB988MEHX3JAqPUrBWqtckAxb2dIzPtyQLrooosuSnNAQ2LezpCYc0DM2xkS8+ZzQFVVVVVVNXRA3s6QmLeDdEBnSMzbGdJ0QPDBBx98IHVAeTtDYt5udUACtX6lQL11QIsuuuiiC3ZAFKj1KwVadkCdITFvZ6h2QCebbLLJ9nZAsBSo9StFd0A5juM4jpN3QMIHH3zw4XdAS4Fav1IweEDU+pUCtX54QF100UUXzXhA5u0MiXkbeUBvZ0jM22l5QPjggw8+uHlAgVq/UqAGekAK1PqVAlV6QJNNNtlko3pAHMdxHMfxekClQK1fKUB7QC666KKLjntAtzMk5u3ce0BArV8pUCt8QMkmm2yyeXxAUqDWrxTIfEDbGRLzdhZ9QGSTTTbZZH1A7gyJeTuzfUB3hsS8nQF+QAAAAAAAUH5AiXk7Q2KefkAS83aGxOx+QJtssskmO39AJObtDImJf0CtXylQ69d/QJtssskmE4BAXylQ61c6gEAk5u0MiWGAQOmiiy66iIBArV8pUOuvgEAAAAAAAAAAACIxb2dIzBNAIjFvZ0jMI0CzySabbLItQCIxb2dIzDNAav1KgVq/OECzySabbLI9QP5KgVq/UkFAIjFvZ0jMQ0BGF1100UVGQGr9SoFav0hAj+M4juM4S0CzySabbLJNQOxXCtT6FVBA/kqBWr9SUUAQPvjgg49SQCIxb2dIzFNANCTm7QwJVUBGF1100UVWQFgK1PqVgldAav1KgVq/WEB98MEHH/xZQI/jOI7jOFtAodavFKh1XECzySabbLJdQMW8nSEx715A7FcK1PoVYEB10UUXXbRgQP5KgVq/UmFAh8S8nSHxYUAQPvjgg49iQJm3MyTmLWNAIjFvZ0jMY0CrqqqqqmpkQDQk5u0MCWVAvZ0hMW+nZUBGF1100UVmQM+QmLcz5GZAWArU+pWCZ0Dhgw8++CBoQGr9SoFav2hA9HaGxLxdaUB98MEHH/xpQAZq/UqBmmpAj+M4juM4a0AYXXTRRddrQKHWrxSodWxAKlDrVwoUbUCzySabbLJtQDxDYt7OUG5AxbydITHvbkBONtlkk41vQOxXCtT6FXBAsBSo9StlcEB10UUXXbRwQDmO4ziOA3FA/kqBWr9ScUDCBx988KFxQIfEvJ0h8XFAS4Fav1JAckAQPvjgg49yQNT6lQK13nJAmbczJOYtc0BddNFFF31zQCIxb2dIzHNA5+0MiXkbdECrqqqqqmp0QHBnSMzbuXRANCTm7QwJdUD54IMPPlh1QL2dITFvp3VAglq/UqD2dUBGF1100UV2QAvU+pUClXZAz5CYtzPkdkCUTTbZZDN3QFgK1PqVgndAHcdxHMfRd0Dhgw8++CB4QKZArV8pcHhAav1KgVq/eEAvuuiiiw55QPR2hsS8XXlAuDMk5u2seUB98MEHH/x5QEGtXylQS3pABmr9SoGaekDKJptssul6QI/jOI7jOHtAU6DWrxSIe0AYXXTRRdd7QNwZEvN2JnxAodavFKh1fEBlk0022cR8QCpQ61cKFH1A7gyJeTtjfUCzySabbLJ9QHiGxLydAX5APENi3s5QfkABAAAAAKB+QMW8nSEx735Aink7Q2I+f0BONtlkk41/QBPzdobE3H9A7FcK1PoVgEBONtlkkz2AQLAUqPUrZYBAEvN2hsSMgEB10UUXXbSAQNevFKj124BAAAAAAAAAAAAAAAAAAAAUQAAAAAAAACRAAAAAAAAALkAAAAAAAAA0QAAAAAAAADlAAAAAAAAAPkAAAAAAAIBBQAAAAAAAAERAAAAAAACARkAAAAAAAABJQAAAAAAAgEtAAAAAAAAATkAAAAAAAEBQQAAAAAAAgFFAAAAAAADAUkAAAAAAAABUQAAAAAAAQFVAAAAAAACAVkAAAAAAAMBXQAAAAAAAAFlAAAAAAABAWkAAAAAAAIBbQAAAAAAAwFxAAAAAAAAAXkAAAAAAAEBfQAAAAAAAQGBAAAAAAADgYEAAAAAAAIBhQAAAAAAAIGJAAAAAAADAYkAAAAAAAGBjQAAAAAAAAGRAAAAAAACgZEAAAAAAAEBlQAAAAAAA4GVAAAAAAACAZkAAAAAAACBnQAAAAAAAwGdAAAAAAABgaEAAAAAAAABpQAAAAAAAoGlAAAAAAABAakAAAAAAAOBqQAAAAAAAgGtAAAAAAAAgbEAAAAAAAMBsQAAAAAAAYG1AAAAAAAAAbkAAAAAAAKBuQAAAAAAAQG9AAAAAAADgb0AAAAAAAEBwQAAAAAAAkHBAAAAAAADgcEAAAAAAADBxQAAAAAAAgHFAAAAAAADQcUAAAAAAACByQAAAAAAAcHJAAAAAAADAckAAAAAAABBzQAAAAAAAYHNAAAAAAACwc0AAAAAAAAB0QAAAAAAAUHRAAAAAAACgdEAAAAAAAPB0QAAAAAAAQHVAAAAAAACQdUAAAAAAAOB1QAAAAAAAMHZAAAAAAACAdkAAAAAAANB2QAAAAAAAIHdAAAAAAABwd0AAAAAAAMB3QAAAAAAAEHhAAAAAAABgeEAAAAAAALB4QAAAAAAAAHlAAAAAAABQeUAAAAAAAKB5QAAAAAAA8HlAAAAAAABAekAAAAAAAJB6QAAAAAAA4HpAAAAAAAAwe0AAAAAAAIB7QAAAAAAA0HtAAAAAAAAgfEAAAAAAAHB8QAAAAAAAwHxAAAAAAAAQfUAAAAAAAGB9QAAAAAAAsH1AAAAAAAAAfkAAAAAAAFB+QAAAAAAAoH5AAAAAAADwfkAAAAAAAEB/QAAAAAAAkH9AAAAAAADgf0AAAAAAABiAQAAAAAAAQIBAAAAAAABogEAAAAAAAJCAQAAAAAAAuIBAAAAAAADggEAAAAAAAAiBQA==",
          "dtype": "f8",
          "shape": "100, 110"
         },
         "zmax": 100,
         "zmin": 0
        },
        {
         "hoverinfo": "none",
         "line": {
          "color": "black",
          "dash": "dash",
          "width": 1
         },
         "mode": "lines",
         "showlegend": false,
         "type": "scatter",
         "x": {
          "bdata": "AAAAAAAAAAD2KFyPwvXYP8P1KFyPwg1AcT0K16NwKEBI4XoUrkfpPwrXo3A9ijpA16NwPQrXHUAAAAAAAAAAAMP1KFyPwg9AhetRuB6FD0CF61G4HoVAQClcj8L1KDRAAAAAAAAAAAAAAAAAAAAAAAAAAAAAAAAAAAAAAAAAAAAAAAAAAAAAAAAAAAAAAAAAAAAAAAAAAAAAAAAAAAAAAAAAAAAAAAAAAAAAAAAAAAAAAAAAAAAAAAAAAAAAAAAAAAAAAAAAAABmZmZmZmYMQAAAAAAAAAAAMzMzMzMz/z+uR+F6FK7vPz0K16Nw/TdAAAAAAAAAAADhehSuR+HiPw==",
          "dtype": "f8"
         },
         "y": {
          "bdata": "KVyPwvUoBEApXI/C9SgEQClcj8L1KARAKVyPwvUoBECF61G4HoUDQIXrUbgehQNAhetRuB6FA0CF61G4HoUDQLgehetRuAJAuB6F61G4AkC4HoXrUbgCQLgehetRuAJAw/UoXI/CAUDD9Shcj8IBQMP1KFyPwgFAw/UoXI/CAUDhehSuR+EAQOF6FK5H4QBA4XoUrkfhAEDhehSuR+EAQGZmZmZmZgBAZmZmZmZmAEBmZmZmZmYAQGZmZmZmZgBAexSuR+F6AEB7FK5H4XoAQHsUrkfhegBAexSuR+F6AEBcj8L1KFwBQFyPwvUoXAFAXI/C9ShcAUBcj8L1KFwBQA==",
          "dtype": "f8"
         }
        },
        {
         "hoverinfo": "text",
         "hovertext": "<b>Estação:</b> Torreão<br><b>Data:</b> 2025-05-14<br><b>Hora:</b> 02:00:00<br><b>Risco:</b> Baixo (0.0)<br><b>VP:</b> 0.0<br><b>AM:</b> 2.52",
         "marker": {
          "color": "#4CAF50",
          "line": {
           "color": "black",
           "width": 1
          },
          "size": 12
         },
         "mode": "markers",
         "showlegend": false,
         "type": "scatter",
         "x": [
          0
         ],
         "y": [
          2.52
         ]
        },
        {
         "hoverinfo": "text",
         "hovertext": "<b>Estação:</b> Torreão<br><b>Data:</b> 2025-05-14<br><b>Hora:</b> 08:00:00<br><b>Risco:</b> Baixo (0.98)<br><b>VP:</b> 0.39<br><b>AM:</b> 2.52",
         "marker": {
          "color": "#4CAF50",
          "line": {
           "color": "black",
           "width": 1
          },
          "size": 12
         },
         "mode": "markers",
         "showlegend": false,
         "type": "scatter",
         "x": [
          0.39
         ],
         "y": [
          2.52
         ]
        },
        {
         "hoverinfo": "text",
         "hovertext": "<b>Estação:</b> Torreão<br><b>Data:</b> 2025-05-14<br><b>Hora:</b> 14:00:00<br><b>Risco:</b> Baixo (9.37)<br><b>VP:</b> 3.72<br><b>AM:</b> 2.52",
         "marker": {
          "color": "#4CAF50",
          "line": {
           "color": "black",
           "width": 1
          },
          "size": 12
         },
         "mode": "markers",
         "showlegend": false,
         "type": "scatter",
         "x": [
          3.72
         ],
         "y": [
          2.52
         ]
        },
        {
         "hoverinfo": "text",
         "hovertext": "<b>Estação:</b> Torreão<br><b>Data:</b> 2025-05-14<br><b>Hora:</b> 20:00:00<br><b>Risco:</b> Moderado (30.79)<br><b>VP:</b> 12.22<br><b>AM:</b> 2.52",
         "marker": {
          "color": "#FFC107",
          "line": {
           "color": "black",
           "width": 1
          },
          "size": 12
         },
         "mode": "markers",
         "showlegend": false,
         "type": "scatter",
         "x": [
          12.22
         ],
         "y": [
          2.52
         ]
        },
        {
         "hoverinfo": "text",
         "hovertext": "<b>Estação:</b> Torreão<br><b>Data:</b> 2025-05-15<br><b>Hora:</b> 02:00:00<br><b>Risco:</b> Baixo (1.93)<br><b>VP:</b> 0.79<br><b>AM:</b> 2.44",
         "marker": {
          "color": "#4CAF50",
          "line": {
           "color": "black",
           "width": 1
          },
          "size": 12
         },
         "mode": "markers",
         "showlegend": false,
         "type": "scatter",
         "x": [
          0.79
         ],
         "y": [
          2.44
         ]
        },
        {
         "hoverinfo": "text",
         "hovertext": "<b>Estação:</b> Torreão<br><b>Data:</b> 2025-05-15<br><b>Hora:</b> 08:00:00<br><b>Risco:</b> Moderado Alto (64.76)<br><b>VP:</b> 26.54<br><b>AM:</b> 2.44",
         "marker": {
          "color": "#FFA500",
          "line": {
           "color": "black",
           "width": 1
          },
          "size": 12
         },
         "mode": "markers",
         "showlegend": false,
         "type": "scatter",
         "x": [
          26.54
         ],
         "y": [
          2.44
         ]
        },
        {
         "hoverinfo": "text",
         "hovertext": "<b>Estação:</b> Torreão<br><b>Data:</b> 2025-05-15<br><b>Hora:</b> 14:00:00<br><b>Risco:</b> Baixo (18.2)<br><b>VP:</b> 7.46<br><b>AM:</b> 2.44",
         "marker": {
          "color": "#4CAF50",
          "line": {
           "color": "black",
           "width": 1
          },
          "size": 12
         },
         "mode": "markers",
         "showlegend": false,
         "type": "scatter",
         "x": [
          7.46
         ],
         "y": [
          2.44
         ]
        },
        {
         "hoverinfo": "text",
         "hovertext": "<b>Estação:</b> Torreão<br><b>Data:</b> 2025-05-15<br><b>Hora:</b> 20:00:00<br><b>Risco:</b> Baixo (0.0)<br><b>VP:</b> 0.0<br><b>AM:</b> 2.44",
         "marker": {
          "color": "#4CAF50",
          "line": {
           "color": "black",
           "width": 1
          },
          "size": 12
         },
         "mode": "markers",
         "showlegend": false,
         "type": "scatter",
         "x": [
          0
         ],
         "y": [
          2.44
         ]
        },
        {
         "hoverinfo": "text",
         "hovertext": "<b>Estação:</b> Torreão<br><b>Data:</b> 2025-05-16<br><b>Hora:</b> 02:00:00<br><b>Risco:</b> Baixo (9.29)<br><b>VP:</b> 3.97<br><b>AM:</b> 2.34",
         "marker": {
          "color": "#4CAF50",
          "line": {
           "color": "black",
           "width": 1
          },
          "size": 12
         },
         "mode": "markers",
         "showlegend": false,
         "type": "scatter",
         "x": [
          3.97
         ],
         "y": [
          2.34
         ]
        },
        {
         "hoverinfo": "text",
         "hovertext": "<b>Estação:</b> Torreão<br><b>Data:</b> 2025-05-16<br><b>Hora:</b> 08:00:00<br><b>Risco:</b> Baixo (9.22)<br><b>VP:</b> 3.94<br><b>AM:</b> 2.34",
         "marker": {
          "color": "#4CAF50",
          "line": {
           "color": "black",
           "width": 1
          },
          "size": 12
         },
         "mode": "markers",
         "showlegend": false,
         "type": "scatter",
         "x": [
          3.94
         ],
         "y": [
          2.34
         ]
        },
        {
         "hoverinfo": "text",
         "hovertext": "<b>Estação:</b> Torreão<br><b>Data:</b> 2025-05-16<br><b>Hora:</b> 14:00:00<br><b>Risco:</b> Moderado Alto (77.31)<br><b>VP:</b> 33.04<br><b>AM:</b> 2.34",
         "marker": {
          "color": "#FFA500",
          "line": {
           "color": "black",
           "width": 1
          },
          "size": 12
         },
         "mode": "markers",
         "showlegend": false,
         "type": "scatter",
         "x": [
          33.04
         ],
         "y": [
          2.34
         ]
        },
        {
         "hoverinfo": "text",
         "hovertext": "<b>Estação:</b> Torreão<br><b>Data:</b> 2025-05-16<br><b>Hora:</b> 20:00:00<br><b>Risco:</b> Moderado (47.17)<br><b>VP:</b> 20.16<br><b>AM:</b> 2.34",
         "marker": {
          "color": "#FFC107",
          "line": {
           "color": "black",
           "width": 1
          },
          "size": 12
         },
         "mode": "markers",
         "showlegend": false,
         "type": "scatter",
         "x": [
          20.16
         ],
         "y": [
          2.34
         ]
        },
        {
         "hoverinfo": "text",
         "hovertext": "<b>Estação:</b> Torreão<br><b>Data:</b> 2025-05-17<br><b>Hora:</b> 02:00:00<br><b>Risco:</b> Baixo (0.0)<br><b>VP:</b> 0.0<br><b>AM:</b> 2.22",
         "marker": {
          "color": "#4CAF50",
          "line": {
           "color": "black",
           "width": 1
          },
          "size": 12
         },
         "mode": "markers",
         "showlegend": false,
         "type": "scatter",
         "x": [
          0
         ],
         "y": [
          2.22
         ]
        },
        {
         "hoverinfo": "text",
         "hovertext": "<b>Estação:</b> Torreão<br><b>Data:</b> 2025-05-17<br><b>Hora:</b> 08:00:00<br><b>Risco:</b> Baixo (0.0)<br><b>VP:</b> 0.0<br><b>AM:</b> 2.22",
         "marker": {
          "color": "#4CAF50",
          "line": {
           "color": "black",
           "width": 1
          },
          "size": 12
         },
         "mode": "markers",
         "showlegend": false,
         "type": "scatter",
         "x": [
          0
         ],
         "y": [
          2.22
         ]
        },
        {
         "hoverinfo": "text",
         "hovertext": "<b>Estação:</b> Torreão<br><b>Data:</b> 2025-05-17<br><b>Hora:</b> 14:00:00<br><b>Risco:</b> Baixo (0.0)<br><b>VP:</b> 0.0<br><b>AM:</b> 2.22",
         "marker": {
          "color": "#4CAF50",
          "line": {
           "color": "black",
           "width": 1
          },
          "size": 12
         },
         "mode": "markers",
         "showlegend": false,
         "type": "scatter",
         "x": [
          0
         ],
         "y": [
          2.22
         ]
        },
        {
         "hoverinfo": "text",
         "hovertext": "<b>Estação:</b> Torreão<br><b>Data:</b> 2025-05-17<br><b>Hora:</b> 20:00:00<br><b>Risco:</b> Baixo (0.0)<br><b>VP:</b> 0.0<br><b>AM:</b> 2.22",
         "marker": {
          "color": "#4CAF50",
          "line": {
           "color": "black",
           "width": 1
          },
          "size": 12
         },
         "mode": "markers",
         "showlegend": false,
         "type": "scatter",
         "x": [
          0
         ],
         "y": [
          2.22
         ]
        },
        {
         "hoverinfo": "text",
         "hovertext": "<b>Estação:</b> Torreão<br><b>Data:</b> 2025-05-18<br><b>Hora:</b> 02:00:00<br><b>Risco:</b> Baixo (0.0)<br><b>VP:</b> 0.0<br><b>AM:</b> 2.11",
         "marker": {
          "color": "#4CAF50",
          "line": {
           "color": "black",
           "width": 1
          },
          "size": 12
         },
         "mode": "markers",
         "showlegend": false,
         "type": "scatter",
         "x": [
          0
         ],
         "y": [
          2.11
         ]
        },
        {
         "hoverinfo": "text",
         "hovertext": "<b>Estação:</b> Torreão<br><b>Data:</b> 2025-05-18<br><b>Hora:</b> 08:00:00<br><b>Risco:</b> Baixo (0.0)<br><b>VP:</b> 0.0<br><b>AM:</b> 2.11",
         "marker": {
          "color": "#4CAF50",
          "line": {
           "color": "black",
           "width": 1
          },
          "size": 12
         },
         "mode": "markers",
         "showlegend": false,
         "type": "scatter",
         "x": [
          0
         ],
         "y": [
          2.11
         ]
        },
        {
         "hoverinfo": "text",
         "hovertext": "<b>Estação:</b> Torreão<br><b>Data:</b> 2025-05-18<br><b>Hora:</b> 14:00:00<br><b>Risco:</b> Baixo (0.0)<br><b>VP:</b> 0.0<br><b>AM:</b> 2.11",
         "marker": {
          "color": "#4CAF50",
          "line": {
           "color": "black",
           "width": 1
          },
          "size": 12
         },
         "mode": "markers",
         "showlegend": false,
         "type": "scatter",
         "x": [
          0
         ],
         "y": [
          2.11
         ]
        },
        {
         "hoverinfo": "text",
         "hovertext": "<b>Estação:</b> Torreão<br><b>Data:</b> 2025-05-18<br><b>Hora:</b> 20:00:00<br><b>Risco:</b> Baixo (0.0)<br><b>VP:</b> 0.0<br><b>AM:</b> 2.11",
         "marker": {
          "color": "#4CAF50",
          "line": {
           "color": "black",
           "width": 1
          },
          "size": 12
         },
         "mode": "markers",
         "showlegend": false,
         "type": "scatter",
         "x": [
          0
         ],
         "y": [
          2.11
         ]
        },
        {
         "hoverinfo": "text",
         "hovertext": "<b>Estação:</b> Torreão<br><b>Data:</b> 2025-05-19<br><b>Hora:</b> 02:00:00<br><b>Risco:</b> Baixo (0.0)<br><b>VP:</b> 0.0<br><b>AM:</b> 2.05",
         "marker": {
          "color": "#4CAF50",
          "line": {
           "color": "black",
           "width": 1
          },
          "size": 12
         },
         "mode": "markers",
         "showlegend": false,
         "type": "scatter",
         "x": [
          0
         ],
         "y": [
          2.05
         ]
        },
        {
         "hoverinfo": "text",
         "hovertext": "<b>Estação:</b> Torreão<br><b>Data:</b> 2025-05-19<br><b>Hora:</b> 08:00:00<br><b>Risco:</b> Baixo (0.0)<br><b>VP:</b> 0.0<br><b>AM:</b> 2.05",
         "marker": {
          "color": "#4CAF50",
          "line": {
           "color": "black",
           "width": 1
          },
          "size": 12
         },
         "mode": "markers",
         "showlegend": false,
         "type": "scatter",
         "x": [
          0
         ],
         "y": [
          2.05
         ]
        },
        {
         "hoverinfo": "text",
         "hovertext": "<b>Estação:</b> Torreão<br><b>Data:</b> 2025-05-19<br><b>Hora:</b> 14:00:00<br><b>Risco:</b> Baixo (0.0)<br><b>VP:</b> 0.0<br><b>AM:</b> 2.05",
         "marker": {
          "color": "#4CAF50",
          "line": {
           "color": "black",
           "width": 1
          },
          "size": 12
         },
         "mode": "markers",
         "showlegend": false,
         "type": "scatter",
         "x": [
          0
         ],
         "y": [
          2.05
         ]
        },
        {
         "hoverinfo": "text",
         "hovertext": "<b>Estação:</b> Torreão<br><b>Data:</b> 2025-05-19<br><b>Hora:</b> 20:00:00<br><b>Risco:</b> Baixo (0.0)<br><b>VP:</b> 0.0<br><b>AM:</b> 2.05",
         "marker": {
          "color": "#4CAF50",
          "line": {
           "color": "black",
           "width": 1
          },
          "size": 12
         },
         "mode": "markers",
         "showlegend": false,
         "type": "scatter",
         "x": [
          0
         ],
         "y": [
          2.05
         ]
        },
        {
         "hoverinfo": "text",
         "hovertext": "<b>Estação:</b> Torreão<br><b>Data:</b> 2025-05-20<br><b>Hora:</b> 02:00:00<br><b>Risco:</b> Baixo (0.0)<br><b>VP:</b> 0.0<br><b>AM:</b> 2.06",
         "marker": {
          "color": "#4CAF50",
          "line": {
           "color": "black",
           "width": 1
          },
          "size": 12
         },
         "mode": "markers",
         "showlegend": false,
         "type": "scatter",
         "x": [
          0
         ],
         "y": [
          2.06
         ]
        },
        {
         "hoverinfo": "text",
         "hovertext": "<b>Estação:</b> Torreão<br><b>Data:</b> 2025-05-20<br><b>Hora:</b> 08:00:00<br><b>Risco:</b> Baixo (7.31)<br><b>VP:</b> 3.55<br><b>AM:</b> 2.06",
         "marker": {
          "color": "#4CAF50",
          "line": {
           "color": "black",
           "width": 1
          },
          "size": 12
         },
         "mode": "markers",
         "showlegend": false,
         "type": "scatter",
         "x": [
          3.55
         ],
         "y": [
          2.06
         ]
        },
        {
         "hoverinfo": "text",
         "hovertext": "<b>Estação:</b> Torreão<br><b>Data:</b> 2025-05-20<br><b>Hora:</b> 14:00:00<br><b>Risco:</b> Baixo (0.0)<br><b>VP:</b> 0.0<br><b>AM:</b> 2.06",
         "marker": {
          "color": "#4CAF50",
          "line": {
           "color": "black",
           "width": 1
          },
          "size": 12
         },
         "mode": "markers",
         "showlegend": false,
         "type": "scatter",
         "x": [
          0
         ],
         "y": [
          2.06
         ]
        },
        {
         "hoverinfo": "text",
         "hovertext": "<b>Estação:</b> Torreão<br><b>Data:</b> 2025-05-20<br><b>Hora:</b> 20:00:00<br><b>Risco:</b> Baixo (4.02)<br><b>VP:</b> 1.95<br><b>AM:</b> 2.06",
         "marker": {
          "color": "#4CAF50",
          "line": {
           "color": "black",
           "width": 1
          },
          "size": 12
         },
         "mode": "markers",
         "showlegend": false,
         "type": "scatter",
         "x": [
          1.95
         ],
         "y": [
          2.06
         ]
        },
        {
         "hoverinfo": "text",
         "hovertext": "<b>Estação:</b> Torreão<br><b>Data:</b> 2025-05-21<br><b>Hora:</b> 02:00:00<br><b>Risco:</b> Baixo (2.15)<br><b>VP:</b> 0.99<br><b>AM:</b> 2.17",
         "marker": {
          "color": "#4CAF50",
          "line": {
           "color": "black",
           "width": 1
          },
          "size": 12
         },
         "mode": "markers",
         "showlegend": false,
         "type": "scatter",
         "x": [
          0.99
         ],
         "y": [
          2.17
         ]
        },
        {
         "hoverinfo": "text",
         "hovertext": "<b>Estação:</b> Torreão<br><b>Data:</b> 2025-05-21<br><b>Hora:</b> 08:00:00<br><b>Risco:</b> Moderado Alto (52.06)<br><b>VP:</b> 23.99<br><b>AM:</b> 2.17",
         "marker": {
          "color": "#FFA500",
          "line": {
           "color": "black",
           "width": 1
          },
          "size": 12
         },
         "mode": "markers",
         "showlegend": false,
         "type": "scatter",
         "x": [
          23.99
         ],
         "y": [
          2.17
         ]
        },
        {
         "hoverinfo": "text",
         "hovertext": "<b>Estação:</b> Torreão<br><b>Data:</b> 2025-05-21<br><b>Hora:</b> 14:00:00<br><b>Risco:</b> Baixo (0.0)<br><b>VP:</b> 0.0<br><b>AM:</b> 2.17",
         "marker": {
          "color": "#4CAF50",
          "line": {
           "color": "black",
           "width": 1
          },
          "size": 12
         },
         "mode": "markers",
         "showlegend": false,
         "type": "scatter",
         "x": [
          0
         ],
         "y": [
          2.17
         ]
        },
        {
         "hoverinfo": "text",
         "hovertext": "<b>Estação:</b> Torreão<br><b>Data:</b> 2025-05-21<br><b>Hora:</b> 20:00:00<br><b>Risco:</b> Baixo (1.28)<br><b>VP:</b> 0.59<br><b>AM:</b> 2.17",
         "marker": {
          "color": "#4CAF50",
          "line": {
           "color": "black",
           "width": 1
          },
          "size": 12
         },
         "mode": "markers",
         "showlegend": false,
         "type": "scatter",
         "x": [
          0.59
         ],
         "y": [
          2.17
         ]
        },
        {
         "marker": {
          "color": "#4CAF50",
          "size": 10,
          "symbol": "square"
         },
         "mode": "markers",
         "name": "Baixo: RA < 30",
         "type": "scatter",
         "x": [
          null
         ],
         "y": [
          null
         ]
        },
        {
         "marker": {
          "color": "#FFC107",
          "size": 10,
          "symbol": "square"
         },
         "mode": "markers",
         "name": "Moderado: 30 ≤ RA < 50",
         "type": "scatter",
         "x": [
          null
         ],
         "y": [
          null
         ]
        },
        {
         "marker": {
          "color": "#FFA500",
          "size": 10,
          "symbol": "square"
         },
         "mode": "markers",
         "name": "Moderado Alto: 50 ≤ RA < 100",
         "type": "scatter",
         "x": [
          null
         ],
         "y": [
          null
         ]
        },
        {
         "marker": {
          "color": "#D32F2F",
          "size": 10,
          "symbol": "square"
         },
         "mode": "markers",
         "name": "Alto: RA ≥ 100",
         "type": "scatter",
         "x": [
          null
         ],
         "y": [
          null
         ]
        }
       ],
       "layout": {
        "legend": {
         "title": {
          "text": "<b>Níveis de Risco</b>"
         }
        },
        "showlegend": true,
        "template": {
         "data": {
          "bar": [
           {
            "error_x": {
             "color": "#2a3f5f"
            },
            "error_y": {
             "color": "#2a3f5f"
            },
            "marker": {
             "line": {
              "color": "#E5ECF6",
              "width": 0.5
             },
             "pattern": {
              "fillmode": "overlay",
              "size": 10,
              "solidity": 0.2
             }
            },
            "type": "bar"
           }
          ],
          "barpolar": [
           {
            "marker": {
             "line": {
              "color": "#E5ECF6",
              "width": 0.5
             },
             "pattern": {
              "fillmode": "overlay",
              "size": 10,
              "solidity": 0.2
             }
            },
            "type": "barpolar"
           }
          ],
          "carpet": [
           {
            "aaxis": {
             "endlinecolor": "#2a3f5f",
             "gridcolor": "white",
             "linecolor": "white",
             "minorgridcolor": "white",
             "startlinecolor": "#2a3f5f"
            },
            "baxis": {
             "endlinecolor": "#2a3f5f",
             "gridcolor": "white",
             "linecolor": "white",
             "minorgridcolor": "white",
             "startlinecolor": "#2a3f5f"
            },
            "type": "carpet"
           }
          ],
          "choropleth": [
           {
            "colorbar": {
             "outlinewidth": 0,
             "ticks": ""
            },
            "type": "choropleth"
           }
          ],
          "contour": [
           {
            "colorbar": {
             "outlinewidth": 0,
             "ticks": ""
            },
            "colorscale": [
             [
              0,
              "#0d0887"
             ],
             [
              0.1111111111111111,
              "#46039f"
             ],
             [
              0.2222222222222222,
              "#7201a8"
             ],
             [
              0.3333333333333333,
              "#9c179e"
             ],
             [
              0.4444444444444444,
              "#bd3786"
             ],
             [
              0.5555555555555556,
              "#d8576b"
             ],
             [
              0.6666666666666666,
              "#ed7953"
             ],
             [
              0.7777777777777778,
              "#fb9f3a"
             ],
             [
              0.8888888888888888,
              "#fdca26"
             ],
             [
              1,
              "#f0f921"
             ]
            ],
            "type": "contour"
           }
          ],
          "contourcarpet": [
           {
            "colorbar": {
             "outlinewidth": 0,
             "ticks": ""
            },
            "type": "contourcarpet"
           }
          ],
          "heatmap": [
           {
            "colorbar": {
             "outlinewidth": 0,
             "ticks": ""
            },
            "colorscale": [
             [
              0,
              "#0d0887"
             ],
             [
              0.1111111111111111,
              "#46039f"
             ],
             [
              0.2222222222222222,
              "#7201a8"
             ],
             [
              0.3333333333333333,
              "#9c179e"
             ],
             [
              0.4444444444444444,
              "#bd3786"
             ],
             [
              0.5555555555555556,
              "#d8576b"
             ],
             [
              0.6666666666666666,
              "#ed7953"
             ],
             [
              0.7777777777777778,
              "#fb9f3a"
             ],
             [
              0.8888888888888888,
              "#fdca26"
             ],
             [
              1,
              "#f0f921"
             ]
            ],
            "type": "heatmap"
           }
          ],
          "histogram": [
           {
            "marker": {
             "pattern": {
              "fillmode": "overlay",
              "size": 10,
              "solidity": 0.2
             }
            },
            "type": "histogram"
           }
          ],
          "histogram2d": [
           {
            "colorbar": {
             "outlinewidth": 0,
             "ticks": ""
            },
            "colorscale": [
             [
              0,
              "#0d0887"
             ],
             [
              0.1111111111111111,
              "#46039f"
             ],
             [
              0.2222222222222222,
              "#7201a8"
             ],
             [
              0.3333333333333333,
              "#9c179e"
             ],
             [
              0.4444444444444444,
              "#bd3786"
             ],
             [
              0.5555555555555556,
              "#d8576b"
             ],
             [
              0.6666666666666666,
              "#ed7953"
             ],
             [
              0.7777777777777778,
              "#fb9f3a"
             ],
             [
              0.8888888888888888,
              "#fdca26"
             ],
             [
              1,
              "#f0f921"
             ]
            ],
            "type": "histogram2d"
           }
          ],
          "histogram2dcontour": [
           {
            "colorbar": {
             "outlinewidth": 0,
             "ticks": ""
            },
            "colorscale": [
             [
              0,
              "#0d0887"
             ],
             [
              0.1111111111111111,
              "#46039f"
             ],
             [
              0.2222222222222222,
              "#7201a8"
             ],
             [
              0.3333333333333333,
              "#9c179e"
             ],
             [
              0.4444444444444444,
              "#bd3786"
             ],
             [
              0.5555555555555556,
              "#d8576b"
             ],
             [
              0.6666666666666666,
              "#ed7953"
             ],
             [
              0.7777777777777778,
              "#fb9f3a"
             ],
             [
              0.8888888888888888,
              "#fdca26"
             ],
             [
              1,
              "#f0f921"
             ]
            ],
            "type": "histogram2dcontour"
           }
          ],
          "mesh3d": [
           {
            "colorbar": {
             "outlinewidth": 0,
             "ticks": ""
            },
            "type": "mesh3d"
           }
          ],
          "parcoords": [
           {
            "line": {
             "colorbar": {
              "outlinewidth": 0,
              "ticks": ""
             }
            },
            "type": "parcoords"
           }
          ],
          "pie": [
           {
            "automargin": true,
            "type": "pie"
           }
          ],
          "scatter": [
           {
            "fillpattern": {
             "fillmode": "overlay",
             "size": 10,
             "solidity": 0.2
            },
            "type": "scatter"
           }
          ],
          "scatter3d": [
           {
            "line": {
             "colorbar": {
              "outlinewidth": 0,
              "ticks": ""
             }
            },
            "marker": {
             "colorbar": {
              "outlinewidth": 0,
              "ticks": ""
             }
            },
            "type": "scatter3d"
           }
          ],
          "scattercarpet": [
           {
            "marker": {
             "colorbar": {
              "outlinewidth": 0,
              "ticks": ""
             }
            },
            "type": "scattercarpet"
           }
          ],
          "scattergeo": [
           {
            "marker": {
             "colorbar": {
              "outlinewidth": 0,
              "ticks": ""
             }
            },
            "type": "scattergeo"
           }
          ],
          "scattergl": [
           {
            "marker": {
             "colorbar": {
              "outlinewidth": 0,
              "ticks": ""
             }
            },
            "type": "scattergl"
           }
          ],
          "scattermap": [
           {
            "marker": {
             "colorbar": {
              "outlinewidth": 0,
              "ticks": ""
             }
            },
            "type": "scattermap"
           }
          ],
          "scattermapbox": [
           {
            "marker": {
             "colorbar": {
              "outlinewidth": 0,
              "ticks": ""
             }
            },
            "type": "scattermapbox"
           }
          ],
          "scatterpolar": [
           {
            "marker": {
             "colorbar": {
              "outlinewidth": 0,
              "ticks": ""
             }
            },
            "type": "scatterpolar"
           }
          ],
          "scatterpolargl": [
           {
            "marker": {
             "colorbar": {
              "outlinewidth": 0,
              "ticks": ""
             }
            },
            "type": "scatterpolargl"
           }
          ],
          "scatterternary": [
           {
            "marker": {
             "colorbar": {
              "outlinewidth": 0,
              "ticks": ""
             }
            },
            "type": "scatterternary"
           }
          ],
          "surface": [
           {
            "colorbar": {
             "outlinewidth": 0,
             "ticks": ""
            },
            "colorscale": [
             [
              0,
              "#0d0887"
             ],
             [
              0.1111111111111111,
              "#46039f"
             ],
             [
              0.2222222222222222,
              "#7201a8"
             ],
             [
              0.3333333333333333,
              "#9c179e"
             ],
             [
              0.4444444444444444,
              "#bd3786"
             ],
             [
              0.5555555555555556,
              "#d8576b"
             ],
             [
              0.6666666666666666,
              "#ed7953"
             ],
             [
              0.7777777777777778,
              "#fb9f3a"
             ],
             [
              0.8888888888888888,
              "#fdca26"
             ],
             [
              1,
              "#f0f921"
             ]
            ],
            "type": "surface"
           }
          ],
          "table": [
           {
            "cells": {
             "fill": {
              "color": "#EBF0F8"
             },
             "line": {
              "color": "white"
             }
            },
            "header": {
             "fill": {
              "color": "#C8D4E3"
             },
             "line": {
              "color": "white"
             }
            },
            "type": "table"
           }
          ]
         },
         "layout": {
          "annotationdefaults": {
           "arrowcolor": "#2a3f5f",
           "arrowhead": 0,
           "arrowwidth": 1
          },
          "autotypenumbers": "strict",
          "coloraxis": {
           "colorbar": {
            "outlinewidth": 0,
            "ticks": ""
           }
          },
          "colorscale": {
           "diverging": [
            [
             0,
             "#8e0152"
            ],
            [
             0.1,
             "#c51b7d"
            ],
            [
             0.2,
             "#de77ae"
            ],
            [
             0.3,
             "#f1b6da"
            ],
            [
             0.4,
             "#fde0ef"
            ],
            [
             0.5,
             "#f7f7f7"
            ],
            [
             0.6,
             "#e6f5d0"
            ],
            [
             0.7,
             "#b8e186"
            ],
            [
             0.8,
             "#7fbc41"
            ],
            [
             0.9,
             "#4d9221"
            ],
            [
             1,
             "#276419"
            ]
           ],
           "sequential": [
            [
             0,
             "#0d0887"
            ],
            [
             0.1111111111111111,
             "#46039f"
            ],
            [
             0.2222222222222222,
             "#7201a8"
            ],
            [
             0.3333333333333333,
             "#9c179e"
            ],
            [
             0.4444444444444444,
             "#bd3786"
            ],
            [
             0.5555555555555556,
             "#d8576b"
            ],
            [
             0.6666666666666666,
             "#ed7953"
            ],
            [
             0.7777777777777778,
             "#fb9f3a"
            ],
            [
             0.8888888888888888,
             "#fdca26"
            ],
            [
             1,
             "#f0f921"
            ]
           ],
           "sequentialminus": [
            [
             0,
             "#0d0887"
            ],
            [
             0.1111111111111111,
             "#46039f"
            ],
            [
             0.2222222222222222,
             "#7201a8"
            ],
            [
             0.3333333333333333,
             "#9c179e"
            ],
            [
             0.4444444444444444,
             "#bd3786"
            ],
            [
             0.5555555555555556,
             "#d8576b"
            ],
            [
             0.6666666666666666,
             "#ed7953"
            ],
            [
             0.7777777777777778,
             "#fb9f3a"
            ],
            [
             0.8888888888888888,
             "#fdca26"
            ],
            [
             1,
             "#f0f921"
            ]
           ]
          },
          "colorway": [
           "#636efa",
           "#EF553B",
           "#00cc96",
           "#ab63fa",
           "#FFA15A",
           "#19d3f3",
           "#FF6692",
           "#B6E880",
           "#FF97FF",
           "#FECB52"
          ],
          "font": {
           "color": "#2a3f5f"
          },
          "geo": {
           "bgcolor": "white",
           "lakecolor": "white",
           "landcolor": "#E5ECF6",
           "showlakes": true,
           "showland": true,
           "subunitcolor": "white"
          },
          "hoverlabel": {
           "align": "left"
          },
          "hovermode": "closest",
          "mapbox": {
           "style": "light"
          },
          "paper_bgcolor": "white",
          "plot_bgcolor": "#E5ECF6",
          "polar": {
           "angularaxis": {
            "gridcolor": "white",
            "linecolor": "white",
            "ticks": ""
           },
           "bgcolor": "#E5ECF6",
           "radialaxis": {
            "gridcolor": "white",
            "linecolor": "white",
            "ticks": ""
           }
          },
          "scene": {
           "xaxis": {
            "backgroundcolor": "#E5ECF6",
            "gridcolor": "white",
            "gridwidth": 2,
            "linecolor": "white",
            "showbackground": true,
            "ticks": "",
            "zerolinecolor": "white"
           },
           "yaxis": {
            "backgroundcolor": "#E5ECF6",
            "gridcolor": "white",
            "gridwidth": 2,
            "linecolor": "white",
            "showbackground": true,
            "ticks": "",
            "zerolinecolor": "white"
           },
           "zaxis": {
            "backgroundcolor": "#E5ECF6",
            "gridcolor": "white",
            "gridwidth": 2,
            "linecolor": "white",
            "showbackground": true,
            "ticks": "",
            "zerolinecolor": "white"
           }
          },
          "shapedefaults": {
           "line": {
            "color": "#2a3f5f"
           }
          },
          "ternary": {
           "aaxis": {
            "gridcolor": "white",
            "linecolor": "white",
            "ticks": ""
           },
           "baxis": {
            "gridcolor": "white",
            "linecolor": "white",
            "ticks": ""
           },
           "bgcolor": "#E5ECF6",
           "caxis": {
            "gridcolor": "white",
            "linecolor": "white",
            "ticks": ""
           }
          },
          "title": {
           "x": 0.05
          },
          "xaxis": {
           "automargin": true,
           "gridcolor": "white",
           "linecolor": "white",
           "ticks": "",
           "title": {
            "standoff": 15
           },
           "zerolinecolor": "white",
           "zerolinewidth": 2
          },
          "yaxis": {
           "automargin": true,
           "gridcolor": "white",
           "linecolor": "white",
           "ticks": "",
           "title": {
            "standoff": 15
           },
           "zerolinecolor": "white",
           "zerolinewidth": 2
          }
         }
        },
        "title": {
         "text": "<b>Diagrama de Risco Interativo para a Estação: Torreão</b>"
        },
        "xaxis": {
         "range": [
          0,
          110
         ],
         "title": {
          "text": "Precipitação (milímetros)"
         }
        },
        "yaxis": {
         "range": [
          0,
          5
         ],
         "title": {
          "text": "Altura da Maré metros)"
         }
        }
       }
      }
     },
     "metadata": {},
     "output_type": "display_data"
    },
    {
     "name": "stdout",
     "output_type": "stream",
     "text": [
      "  -> Diagrama interativo para 'Torreão' salvo em: diagramas_interativos\\diagrama_interativo_Torreão.html\n",
      "\n",
      "\n",
      "✅ Processo completo!\n"
     ]
    }
   ],
   "source": [
    "# 1. Carrega e processa todos os dados usando os parâmetros\n",
    "dados_finais = carregar_e_processar_dados(DATAS_DESEJADAS, ESTACOES_DESEJADAS, ARQUIVO_CHUVA_GITHUB, ARQUIVO_MARE_GITHUB)\n",
    "    \n",
    "# 2. Se os dados foram carregados com sucesso, continua a análise\n",
    "if dados_finais is not None:\n",
    "    # Analisa o risco e imprime o relatório\n",
    "    dados_analisados = analisar_e_relatar_risco(dados_finais)\n",
    "    \n",
    "    # Gera os diagramas interativos com o Plotly\n",
    "    if dados_analisados is not None:\n",
    "        gerar_diagramas_interativos_plotly(dados_analisados, PASTA_SAIDA_INTERATIVA)\n",
    "    \n",
    "    print(\"\\n\\n✅ Processo completo!\")"
   ]
  }
 ],
 "metadata": {
  "kernelspec": {
   "display_name": "Python 3",
   "language": "python",
   "name": "python3"
  },
  "language_info": {
   "codemirror_mode": {
    "name": "ipython",
    "version": 3
   },
   "file_extension": ".py",
   "mimetype": "text/x-python",
   "name": "python",
   "nbconvert_exporter": "python",
   "pygments_lexer": "ipython3",
   "version": "3.12.3"
  }
 },
 "nbformat": 4,
 "nbformat_minor": 5
}
